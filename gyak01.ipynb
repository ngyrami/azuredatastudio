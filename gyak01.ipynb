{
    "metadata": {
        "kernelspec": {
            "name": "SQL",
            "display_name": "SQL",
            "language": "sql"
        },
        "language_info": {
            "name": "sql",
            "version": ""
        },
        "extensions": {
            "azuredatastudio": {
                "version": 1,
                "views": []
            }
        }
    },
    "nbformat_minor": 2,
    "nbformat": 4,
    "cells": [
        {
            "cell_type": "markdown",
            "source": [
                "1\\. Melyek azok a termékek, amelyek neve az átlagosnál hosszabb?\n",
                "\n",
                "Csak a termékek kódja és megnevezése jelenjen meg!"
            ],
            "metadata": {
                "azdata_cell_guid": "f004310c-ceaa-4ddf-907b-7834e35ab5da"
            },
            "attachments": {}
        },
        {
            "cell_type": "code",
            "source": [
                "SELECT TERMEKKOD,\r\n",
                "        MEGNEVEZES\r\n",
                "FROM Termek\r\n",
                "WHERE LEN(MEGNEVEZES) > -- átlagos hossz\r\n",
                "(\r\n",
                "    -- kiszámolni az átlagos hosszt\r\n",
                "    SELECT AVG(LEN(MEGNEVEZES))\r\n",
                "    FROM Termek\r\n",
                ")"
            ],
            "metadata": {
                "azdata_cell_guid": "746d20da-a635-45a1-b7aa-d76bed204160",
                "tags": [],
                "language": "sql"
            },
            "outputs": [
                {
                    "output_type": "display_data",
                    "data": {
                        "text/html": "(266 rows affected)"
                    },
                    "metadata": {}
                },
                {
                    "output_type": "display_data",
                    "data": {
                        "text/html": "Total execution time: 00:00:00.049"
                    },
                    "metadata": {}
                },
                {
                    "output_type": "execute_result",
                    "execution_count": 4,
                    "data": {
                        "application/vnd.dataresource+json": {
                            "schema": {
                                "fields": [
                                    {
                                        "name": "TERMEKKOD"
                                    },
                                    {
                                        "name": "MEGNEVEZES"
                                    }
                                ]
                            },
                            "data": [
                                {
                                    "0": "01010001T",
                                    "1": "félfamentes rajzlap A4 (10 lap)"
                                },
                                {
                                    "0": "01010110T",
                                    "1": "Fotópapír A/4 fényes"
                                },
                                {
                                    "0": "01010304T",
                                    "1": "Öntapadós hologramos papír A/4"
                                },
                                {
                                    "0": "01020299T",
                                    "1": "Oklevél A/4 egyszínű"
                                },
                                {
                                    "0": "01080513T",
                                    "1": "Selyemfényű karton A/4"
                                },
                                {
                                    "0": "01090498T",
                                    "1": "Műnyomó 300g 17,5*20"
                                },
                                {
                                    "0": "01090499T",
                                    "1": "Color Copy A/4 250 g"
                                },
                                {
                                    "0": "01090500T",
                                    "1": "Color Copy A4 200 g"
                                },
                                {
                                    "0": "01090515T",
                                    "1": "Színes A/3 160 gr IQ"
                                },
                                {
                                    "0": "01100071T",
                                    "1": "Dekorációs karton arany, ezüst"
                                },
                                {
                                    "0": "01100072T",
                                    "1": "Dipa A/4 keretezett"
                                },
                                {
                                    "0": "01100094T",
                                    "1": "Fénymásoló papír DataCopy"
                                },
                                {
                                    "0": "01100095T",
                                    "1": "Fénymásoló papír GetCopy"
                                },
                                {
                                    "0": "01100096T",
                                    "1": "Fénymásoló papír Qconnect"
                                },
                                {
                                    "0": "01100496T",
                                    "1": "Színes másoló a/4 80g"
                                },
                                {
                                    "0": "01100497T",
                                    "1": "Color Copy 160 g-os "
                                },
                                {
                                    "0": "01100503T",
                                    "1": "Color Copy A4 120 g"
                                },
                                {
                                    "0": "02020037T",
                                    "1": "Bevételi pénztárbizonylat 3×25"
                                },
                                {
                                    "0": "02020245T",
                                    "1": "Kiadási pénztárbizonylat 2×25"
                                },
                                {
                                    "0": "02030040T",
                                    "1": "Boríték LA 4 francia"
                                },
                                {
                                    "0": "02030043T",
                                    "1": "Boríték légp. kicsi"
                                },
                                {
                                    "0": "02040025T",
                                    "1": "Álló irattartó karton"
                                },
                                {
                                    "0": "02040147T",
                                    "1": "Genotherm lefűzhető A/5"
                                },
                                {
                                    "0": "02040148T",
                                    "1": "Genotherm lefűzhető A4 10db-os"
                                },
                                {
                                    "0": "02040149T",
                                    "1": "Genotherm A4 10db-os"
                                },
                                {
                                    "0": "02040176T",
                                    "1": "Gyorsfűző dosszié fehér"
                                },
                                {
                                    "0": "02040194T",
                                    "1": "Hibajav.roll.Pritt 4,2mm"
                                },
                                {
                                    "0": "02040195T",
                                    "1": "Hibajavító ecsetes Aqua"
                                },
                                {
                                    "0": "02040196T",
                                    "1": "Hibajavító készlet Blanco"
                                },
                                {
                                    "0": "02040198T",
                                    "1": "Hibajavító roller 5 mm"
                                },
                                {
                                    "0": "02040199T",
                                    "1": "Hibajavító roller Pax"
                                },
                                {
                                    "0": "02040200T",
                                    "1": "Hibajavító Kores mini pen"
                                },
                                {
                                    "0": "02040207T",
                                    "1": "Iratgyűjtő ESSELTE ablakos"
                                },
                                {
                                    "0": "02040211T",
                                    "1": "Iratrendező ESSELTE"
                                },
                                {
                                    "0": "02040214T",
                                    "1": "Iromány fedél feles"
                                },
                                {
                                    "0": "02040295T",
                                    "1": "Notesz A/5 sima spirál"
                                },
                                {
                                    "0": "02040297T",
                                    "1": "Notesz sima spirál College"
                                },
                                {
                                    "0": "02040308T",
                                    "1": "Pénztárgépsz. 2 pl. nem öníró"
                                },
                                {
                                    "0": "02040309T",
                                    "1": "Pénztárgépszalag 2pl SC 57.5/60"
                                },
                                {
                                    "0": "02040506T",
                                    "1": "Fólia tasakos A4 125 mik."
                                },
                                {
                                    "0": "02040507T",
                                    "1": "Fólia tasakos A4 80 mik."
                                },
                                {
                                    "0": "02040508T",
                                    "1": "Fólia tasakos A4100 mik."
                                },
                                {
                                    "0": "02080433T",
                                    "1": "Ragasztószalag 19 mm-es"
                                },
                                {
                                    "0": "02080436T",
                                    "1": "Irattartó müa. boríték A/4"
                                },
                                {
                                    "0": "02080450T",
                                    "1": "Gémkapocs 28-as színes"
                                },
                                {
                                    "0": "02080455T",
                                    "1": "Festékpatron BCI-3BK"
                                },
                                {
                                    "0": "02080456T",
                                    "1": "Genoterm HERLITZ 10-es"
                                },
                                {
                                    "0": "03010342T",
                                    "1": "Ragasztószalag  TIXO"
                                },
                                {
                                    "0": "03010344T",
                                    "1": "Ragasztószalag nagy 12 mm"
                                },
                                {
                                    "0": "03010345T",
                                    "1": "Ragasztószalag széles barna"
                                },
                                {
                                    "0": "03050076T",
                                    "1": "Díszkötöző szalag metál nagy"
                                },
                                {
                                    "0": "03050077T",
                                    "1": "Diszkötöző szalag arany"
                                },
                                {
                                    "0": "03050078T",
                                    "1": "Díszkötöző szalag metál kicsi"
                                },
                                {
                                    "0": "03050079T",
                                    "1": "Díszkötöző szalag vékony"
                                },
                                {
                                    "0": "03050080T",
                                    "1": "Diszkötöző széles szalag"
                                },
                                {
                                    "0": "03050457T",
                                    "1": "Ajándék cs. tasak kicsi"
                                },
                                {
                                    "0": "03050458T",
                                    "1": "Ajándék cs. 2×100×70"
                                },
                                {
                                    "0": "03080003T",
                                    "1": "Ajándék cs. tasak italos"
                                },
                                {
                                    "0": "03080004T",
                                    "1": "Ajándék cs. tasak italos, fólia"
                                },
                                {
                                    "0": "03080005T",
                                    "1": "Ajándék cs. tasak virágos nagy"
                                },
                                {
                                    "0": "03080006T",
                                    "1": "Ajándék cs. tasak mintás kicsi"
                                },
                                {
                                    "0": "03080007T",
                                    "1": "Ajándék cs. tasak mintás nagy"
                                },
                                {
                                    "0": "03080008T",
                                    "1": "Ajándék cs. tasak kicsi"
                                },
                                {
                                    "0": "03080009T",
                                    "1": "Ajándék csom. 100x70 metál"
                                },
                                {
                                    "0": "03080010T",
                                    "1": "Ajándék csom. 150x70"
                                },
                                {
                                    "0": "03080011T",
                                    "1": "Ajándék cs. tasak közepes"
                                },
                                {
                                    "0": "03080012T",
                                    "1": "Ajándék csom. 200x70"
                                },
                                {
                                    "0": "03080013T",
                                    "1": "Ajándék csom. 50x70 húsvéti"
                                },
                                {
                                    "0": "03080014T",
                                    "1": "Ajándék csom. 70x50 metál"
                                },
                                {
                                    "0": "03080015T",
                                    "1": "Ajándék csom. gyűrt"
                                },
                                {
                                    "0": "03080017T",
                                    "1": "iskolai csomagoló papír"
                                },
                                {
                                    "0": "03080018T",
                                    "1": "Ajándék csom. gyűrt 50x70 "
                                },
                                {
                                    "0": "03080019T",
                                    "1": "Ajándék csom. Krepp"
                                },
                                {
                                    "0": "03080021T",
                                    "1": "Ajándék csom. vékony"
                                },
                                {
                                    "0": "03080030T",
                                    "1": "Ajándék cs. húsvéti 200x70"
                                },
                                {
                                    "0": "03080031T",
                                    "1": "Ajándék cs. húsvéti"
                                },
                                {
                                    "0": "03080437T",
                                    "1": "Ajándék csomagoló tasak"
                                },
                                {
                                    "0": "03080438T",
                                    "1": "Ajándék csomagoló tasak lézeres"
                                },
                                {
                                    "0": "04020445T",
                                    "1": "Határidő napló 2010-s"
                                },
                                {
                                    "0": "04030234T",
                                    "1": "Képeslap karácsonyi"
                                },
                                {
                                    "0": "04030235T",
                                    "1": "Képeslap karácsonyi borítékos"
                                },
                                {
                                    "0": "04030236T",
                                    "1": "Képeslap karácsonyi WD"
                                },
                                {
                                    "0": "04030239T",
                                    "1": "Képeslap stancolt szív"
                                },
                                {
                                    "0": "04030241T",
                                    "1": "Képeslap virágos +boríték"
                                },
                                {
                                    "0": "04030242T",
                                    "1": "Képeslap WD +boríték"
                                },
                                {
                                    "0": "04030243T",
                                    "1": "Képkirakó Dirib-darab"
                                },
                                {
                                    "0": "04030265T",
                                    "1": "Levélpapír szett natur, mintás"
                                },
                                {
                                    "0": "04030266T",
                                    "1": "Levélpapír szett virágos"
                                },
                                {
                                    "0": "04030287T",
                                    "1": "Műanyag foszforeszkáló állat"
                                },
                                {
                                    "0": "04030288T",
                                    "1": "Műanyag pohár 1 dl-es"
                                },
                                {
                                    "0": "04030289T",
                                    "1": "Műanyag pohár 5 cl-es"
                                },
                                {
                                    "0": "04050074T",
                                    "1": "Díszdoboz tollnak 2 db-os"
                                },
                                {
                                    "0": "04050075T",
                                    "1": "Díszdoboz tollnak 2 db-os keskeny"
                                },
                                {
                                    "0": "04050221T",
                                    "1": "Játékautó Blisteres"
                                },
                                {
                                    "0": "04050251T",
                                    "1": "Kulcstartó billiárd golyós"
                                },
                                {
                                    "0": "04050252T",
                                    "1": "Kulcstartó Csőrikés"
                                },
                                {
                                    "0": "04050254T",
                                    "1": "Kulcstartó intarziás állatos"
                                },
                                {
                                    "0": "04050255T",
                                    "1": "Kulcstartó mesefigurás"
                                },
                                {
                                    "0": "04050256T",
                                    "1": "Kulcstartó nagyítós"
                                },
                                {
                                    "0": "04080271T",
                                    "1": "Mappa PVC villámzáras"
                                },
                                {
                                    "0": "04080272T",
                                    "1": "Mappa PVC villámzáras  képes"
                                },
                                {
                                    "0": "04110227T",
                                    "1": "Képeslap  borítékos"
                                },
                                {
                                    "0": "04110228T",
                                    "1": "Képeslap \"Nászajándék\""
                                },
                                {
                                    "0": "04110231T",
                                    "1": "Képeslap humoros borítékos"
                                },
                                {
                                    "0": "04110232T",
                                    "1": "Képeslap humoros kaparós"
                                },
                                {
                                    "0": "04110275T",
                                    "1": "Matrica motoros kicsi"
                                },
                                {
                                    "0": "04110276T",
                                    "1": "Matrica Stickers nagy állatos"
                                },
                                {
                                    "0": "04110277T",
                                    "1": "Matrica Stickers szíves"
                                },
                                {
                                    "0": "04110278T",
                                    "1": "Matrica Test ékszer tattoo"
                                },
                                {
                                    "0": "04110280T",
                                    "1": "Matrica tetoválós kicsi"
                                },
                                {
                                    "0": "04110362T",
                                    "1": "Szalvéta gyűjtőknek"
                                },
                                {
                                    "0": "05010306T",
                                    "1": "Papízsebkendő,10db Szindy"
                                },
                                {
                                    "0": "05010369T",
                                    "1": "Szemetes zsák 60 literes"
                                },
                                {
                                    "0": "05080340T",
                                    "1": "Ragasztó, Technokol 35g kék"
                                },
                                {
                                    "0": "05080341T",
                                    "1": "Ragasztó, Technokol 35g piros"
                                },
                                {
                                    "0": "05110361T",
                                    "1": "Szalvéta Goma húsvéti"
                                },
                                {
                                    "0": "05110364T",
                                    "1": "Szalvéta kicsi virágos"
                                },
                                {
                                    "0": "06010082T",
                                    "1": "Ecset Centrum 10,11,12"
                                },
                                {
                                    "0": "06010083T",
                                    "1": "Ecset Centrum 7,8,9"
                                },
                                {
                                    "0": "06010114T",
                                    "1": "Füzet A/5 hangjegy 36/16"
                                },
                                {
                                    "0": "06010202T",
                                    "1": "Hurkapálca 10 db-os"
                                },
                                {
                                    "0": "06010305T",
                                    "1": "Papírcenti 100 cm-es"
                                },
                                {
                                    "0": "06010343T",
                                    "1": "Ragasztószalag 19 mm-es SCOTCH+ tépő"
                                },
                                {
                                    "0": "06010373T",
                                    "1": "Színes papír I.II-IV.V-VIII-ig"
                                },
                                {
                                    "0": "06010374T",
                                    "1": "Szorzótábla műanyag"
                                },
                                {
                                    "0": "06010375T",
                                    "1": "Szögmérő 180 fokos műa."
                                },
                                {
                                    "0": "06040172T",
                                    "1": "Gumis mappa csomagolt"
                                },
                                {
                                    "0": "06040173T",
                                    "1": "Gumis mappa fóliázott állatos"
                                },
                                {
                                    "0": "06040179T",
                                    "1": "Gyurma színes 200 g-os"
                                },
                                {
                                    "0": "06040180T",
                                    "1": "Gyurma színes natúr"
                                },
                                {
                                    "0": "06040182T",
                                    "1": "Gyűrűskönyv bet. A/4"
                                },
                                {
                                    "0": "06040183T",
                                    "1": "Gyűrűskönyv bet. A/5"
                                },
                                {
                                    "0": "06040184T",
                                    "1": "Gyűrűskönyv betét A/5"
                                },
                                {
                                    "0": "06040323T",
                                    "1": "Post-it 51×38 100 lapos"
                                },
                                {
                                    "0": "06040324T",
                                    "1": "Post-it 75×75 100 lapos"
                                },
                                {
                                    "0": "06040347T",
                                    "1": "Rajzlap A/4 10db ffam."
                                },
                                {
                                    "0": "06040350T",
                                    "1": "Regiszteres füzet A4"
                                },
                                {
                                    "0": "06040351T",
                                    "1": "Regiszteres füzet A5 Hightech"
                                },
                                {
                                    "0": "06040352T",
                                    "1": "Rovatolt papír 20 íves"
                                },
                                {
                                    "0": "06040354T",
                                    "1": "Sp.Füzet A/4  perforált, lyuk."
                                },
                                {
                                    "0": "06040378T",
                                    "1": "Szövegkiemelő vékony"
                                },
                                {
                                    "0": "06040381T",
                                    "1": "Szövegkiemelő Videotip"
                                },
                                {
                                    "0": "06040384T",
                                    "1": "Technika cs. I-II-III-IV"
                                },
                                {
                                    "0": "06040385T",
                                    "1": "Tempera szóló ezüst"
                                },
                                {
                                    "0": "06040386T",
                                    "1": "Tempera szóló színes"
                                },
                                {
                                    "0": "06040392T",
                                    "1": "Tolltartó 1 zipzáros"
                                },
                                {
                                    "0": "06040393T",
                                    "1": "Tolltartó 2 részes NG."
                                },
                                {
                                    "0": "06040395T",
                                    "1": "Tolltartó 2 zipzáros töltött"
                                },
                                {
                                    "0": "06040446T",
                                    "1": "Számológép tudományos"
                                },
                                {
                                    "0": "06050302T",
                                    "1": "Olló Tagit 18 cm-es"
                                },
                                {
                                    "0": "06080116T",
                                    "1": "Füzet A5 1-8 osz.-ig"
                                },
                                {
                                    "0": "06080117T",
                                    "1": "Füzetborító A/4 átlátszó"
                                },
                                {
                                    "0": "06080118T",
                                    "1": "Füzetborító átlátszó A5"
                                },
                                {
                                    "0": "06080119T",
                                    "1": "Füzetborító mesefig."
                                },
                                {
                                    "0": "06080120T",
                                    "1": "Füzetborító öntapadó kicsi"
                                },
                                {
                                    "0": "06080121T",
                                    "1": "Füzetborító öntapadó tekercses"
                                },
                                {
                                    "0": "06080122T",
                                    "1": "Füzetborító öntapadós nagy"
                                },
                                {
                                    "0": "06080123T",
                                    "1": "Füzettartó A/4 keménytáblás"
                                },
                                {
                                    "0": "06080124T",
                                    "1": "Füzettartó A/4 keménytáblás"
                                },
                                {
                                    "0": "06080125T",
                                    "1": "Füzettartó A/5 vastag"
                                },
                                {
                                    "0": "06080189T",
                                    "1": "Hegyező műanyag dupla"
                                },
                                {
                                    "0": "06080190T",
                                    "1": "Hegyező műanyag egyes"
                                },
                                {
                                    "0": "06080191T",
                                    "1": "Hegyező tartályos egyes"
                                },
                                {
                                    "0": "06080332T",
                                    "1": "Radírtoll betét ER100"
                                },
                                {
                                    "0": "06080333T",
                                    "1": "Radírtoll betét vastag"
                                },
                                {
                                    "0": "06080334T",
                                    "1": "Ragasztó szalag KORES "
                                },
                                {
                                    "0": "06080338T",
                                    "1": "Ragasztó kenőfejes Nebuló"
                                },
                                {
                                    "0": "06080407T",
                                    "1": "Vízfesték  12 színű nagy"
                                },
                                {
                                    "0": "06080409T",
                                    "1": "Vízfesték 12 színű kerek"
                                },
                                {
                                    "0": "06080410T",
                                    "1": "Vízfesték 12db-os kínai"
                                },
                                {
                                    "0": "06080411T",
                                    "1": "Vonalzó 15 cm-es ESSELTE"
                                },
                                {
                                    "0": "06080412T",
                                    "1": "Vonalzó 16 cm-es LIZZY"
                                },
                                {
                                    "0": "06080424T",
                                    "1": "Füzetborító A/4 mintás"
                                },
                                {
                                    "0": "07010137T",
                                    "1": "G.toll betét PAX tip."
                                },
                                {
                                    "0": "07010140T",
                                    "1": "G.toll betét Stabilo"
                                },
                                {
                                    "0": "07010142T",
                                    "1": "G.toll betét Zebra F-0.7"
                                },
                                {
                                    "0": "07010143T",
                                    "1": "G.toll betét Zebra H-0,7"
                                },
                                {
                                    "0": "07010144T",
                                    "1": "G.toll betét Zebra K-0,7"
                                },
                                {
                                    "0": "07010372T",
                                    "1": "Színes ceruza 12 szín"
                                },
                                {
                                    "0": "07030103T",
                                    "1": "Filctoll TINTEN PEN"
                                },
                                {
                                    "0": "07030104T",
                                    "1": "Filctoll vastag ARTIP"
                                },
                                {
                                    "0": "07030105T",
                                    "1": "Filctoll, alkoholos Centropen"
                                },
                                {
                                    "0": "07030106T",
                                    "1": "Filctoll, alkoholosOHP F-M-C"
                                },
                                {
                                    "0": "07030107T",
                                    "1": "Filctoll, textil Edding 4500"
                                },
                                {
                                    "0": "07040048T",
                                    "1": "Ceruza arany, ezüst"
                                },
                                {
                                    "0": "07040052T",
                                    "1": "Ceruza 2H-3B Koh-i-nor"
                                },
                                {
                                    "0": "07040056T",
                                    "1": "Ceruza piros-kék vékony"
                                },
                                {
                                    "0": "07040058T",
                                    "1": "Ceruza radíros kínai"
                                },
                                {
                                    "0": "07040060T",
                                    "1": "Ceruza stabilo swano"
                                },
                                {
                                    "0": "07040061T",
                                    "1": "Ceruza stabilo opera"
                                },
                                {
                                    "0": "07040098T",
                                    "1": "Filctoll document pen"
                                },
                                {
                                    "0": "07040099T",
                                    "1": "Filctoll Edding 750"
                                },
                                {
                                    "0": "07040100T",
                                    "1": "Filctoll Marvy alkoholos"
                                },
                                {
                                    "0": "07040101T",
                                    "1": "Filctoll permanent vastag"
                                },
                                {
                                    "0": "07040102T",
                                    "1": "Filctoll supra fine"
                                },
                                {
                                    "0": "07040128T",
                                    "1": "G. toll betét mini fém"
                                },
                                {
                                    "0": "07040131T",
                                    "1": "G. toll betét UNI lachnok Fine SA-7C"
                                },
                                {
                                    "0": "07040132T",
                                    "1": "G.toll betét csavaros"
                                },
                                {
                                    "0": "07040133T",
                                    "1": "G.toll betét görbe hegyű"
                                },
                                {
                                    "0": "07040134T",
                                    "1": "G.toll betét illatos"
                                },
                                {
                                    "0": "07040135T",
                                    "1": "G.toll betét Parker "
                                },
                                {
                                    "0": "07040165T",
                                    "1": "Golyóstoll UNI laknock"
                                },
                                {
                                    "0": "07040166T",
                                    "1": "Golyóstoll Zebra 301"
                                },
                                {
                                    "0": "07040167T",
                                    "1": "Golyóstoll Zebra mini"
                                },
                                {
                                    "0": "07040168T",
                                    "1": "Golyóstoll Zebra new hard"
                                },
                                {
                                    "0": "07040219T",
                                    "1": "Ironbél HI-POLIMER HB 0,7"
                                },
                                {
                                    "0": "07040257T",
                                    "1": "Lakk filc Edding 750"
                                },
                                {
                                    "0": "07040389T",
                                    "1": "Tintapatron 30 db-os kék"
                                },
                                {
                                    "0": "07040391T",
                                    "1": "Toll Centropen roller"
                                },
                                {
                                    "0": "07050464T",
                                    "1": "Szövegkiemelő Staedtler"
                                },
                                {
                                    "0": "07080063T",
                                    "1": "Ceruza szorzótáblás"
                                },
                                {
                                    "0": "07080151T",
                                    "1": "Golyóstoll + ceruza Twister 2in1"
                                },
                                {
                                    "0": "07080152T",
                                    "1": "Golyóstoll 3 funkciós "
                                },
                                {
                                    "0": "07080153T",
                                    "1": "Golyóstoll illatos ICO"
                                },
                                {
                                    "0": "07080154T",
                                    "1": "Golyóstoll INOXCROM"
                                },
                                {
                                    "0": "07080156T",
                                    "1": "Golyóstoll kupakos piros"
                                },
                                {
                                    "0": "07080157T",
                                    "1": "Golyóstoll Montex Hytone"
                                },
                                {
                                    "0": "07080158T",
                                    "1": "Golyóstoll Parker tokban"
                                },
                                {
                                    "0": "07080159T",
                                    "1": "Golyóstoll Pax tip."
                                },
                                {
                                    "0": "07080161T",
                                    "1": "Golyóstoll kétszínű"
                                },
                                {
                                    "0": "07080162T",
                                    "1": "Golyóstoll Stabilo piros"
                                },
                                {
                                    "0": "07080163T",
                                    "1": "Golyóstoll UNI átlátszó"
                                },
                                {
                                    "0": "07080164T",
                                    "1": "Golyóstoll UNI gumis"
                                },
                                {
                                    "0": "07080315T",
                                    "1": "Pixiron Handy műanyag"
                                },
                                {
                                    "0": "07080319T",
                                    "1": "Pixiron Pentel színes"
                                },
                                {
                                    "0": "07080421T",
                                    "1": "Zseléstoll Lizzy Card"
                                },
                                {
                                    "0": "07080466T",
                                    "1": "Golyóstoll Stabiló 308"
                                },
                                {
                                    "0": "07080467T",
                                    "1": "Golyóstoll kétfunkciós ICO"
                                },
                                {
                                    "0": "07080468T",
                                    "1": "Golyóstoll háromfunkciós"
                                },
                                {
                                    "0": "07080469T",
                                    "1": "Golyóstoll UNIBALL 07"
                                },
                                {
                                    "0": "07080470T",
                                    "1": "Golyóstoll háromszög"
                                },
                                {
                                    "0": "07080471T",
                                    "1": "Golyóstoll levélbontós"
                                },
                                {
                                    "0": "08070472T",
                                    "1": "A föld amelyen élünk - Európa földrajza"
                                },
                                {
                                    "0": "08070473T",
                                    "1": "A föld amelyen élünk - Távoli földrészek"
                                },
                                {
                                    "0": "08070474T",
                                    "1": "A föld amelyen élünk - Hazánk földrajza"
                                },
                                {
                                    "0": "08070475T",
                                    "1": "A föld amelyen élünk - munkafüzet"
                                },
                                {
                                    "0": "08070476T",
                                    "1": "Anyanyelvi gyakorló 2"
                                },
                                {
                                    "0": "08070477T",
                                    "1": "Anyanyelvi gyakorló 3"
                                },
                                {
                                    "0": "08070478T",
                                    "1": "Összefoglaló feladatgyüjtemény számtech."
                                },
                                {
                                    "0": "08070480T",
                                    "1": "Fizika 13 éveseknek"
                                },
                                {
                                    "0": "08070481T",
                                    "1": "Fizika munkafüzet 13 év."
                                },
                                {
                                    "0": "08070482T",
                                    "1": "Fizika munkafüzet 14 év."
                                },
                                {
                                    "0": "08070483T",
                                    "1": "Fizikai feladatok és tévedések"
                                },
                                {
                                    "0": "08070484T",
                                    "1": "Fogalmazás lépésről lépésre"
                                },
                                {
                                    "0": "08070485T",
                                    "1": "Jól felkészültem-e - Fizika"
                                },
                                {
                                    "0": "08070486T",
                                    "1": "Matematika gyakorló 2"
                                },
                                {
                                    "0": "08070487T",
                                    "1": "Matematika gyakorló 3"
                                },
                                {
                                    "0": "08070488T",
                                    "1": "Matematika gyakorló 4"
                                },
                                {
                                    "0": "08070491T",
                                    "1": "Szám.tech. kicsiknek"
                                },
                                {
                                    "0": "08070493T",
                                    "1": "Érettségi felv. fel. Matematika"
                                },
                                {
                                    "0": "08070494T",
                                    "1": "Érettségi felv. fel. Fizika"
                                },
                                {
                                    "0": "08070495T",
                                    "1": "Érettségi felv. fel. Biológia"
                                },
                                {
                                    "0": "F007-NA201",
                                    "1": "férfi farmer nadrág"
                                },
                                {
                                    "0": "F013-NA207",
                                    "1": "férfi szövet nadrág"
                                },
                                {
                                    "0": "G001-KB101",
                                    "1": "gyermek kabát (fiú)"
                                },
                                {
                                    "0": "G013-NA201",
                                    "1": "gyermek farmer nadrág (fiú)"
                                },
                                {
                                    "0": "G019-NA207",
                                    "1": "gyermek pamut nadrág (fiú)"
                                },
                                {
                                    "0": "G064-CI401",
                                    "1": "gyermek szandál (fiú)"
                                },
                                {
                                    "0": "G082-CI419",
                                    "1": "gyermek csizma (fiú)"
                                },
                                {
                                    "0": "L001-KB101",
                                    "1": "gyermek kabát (lány)"
                                },
                                {
                                    "0": "L013-NA201",
                                    "1": "gyermek farmer nadrág (lány)"
                                },
                                {
                                    "0": "L019-NA207",
                                    "1": "gyermek pamut nadrág (lány)"
                                },
                                {
                                    "0": "L048-PO218",
                                    "1": "gyermek póló (lány)"
                                },
                                {
                                    "0": "L064-CI401",
                                    "1": "gyermek szandál (lány)"
                                },
                                {
                                    "0": "L073-CI410",
                                    "1": "gyermek cipő (lány)"
                                },
                                {
                                    "0": "L082-CI419",
                                    "1": "gyermek csizma (lány)"
                                }
                            ]
                        },
                        "text/html": "<table><tr><th>TERMEKKOD</th><th>MEGNEVEZES</th></tr><tr><td>01010001T</td><td>félfamentes rajzlap A4 (10 lap)</td></tr><tr><td>01010110T</td><td>Fotópapír A/4 fényes</td></tr><tr><td>01010304T</td><td>Öntapadós hologramos papír A/4</td></tr><tr><td>01020299T</td><td>Oklevél A/4 egyszínű</td></tr><tr><td>01080513T</td><td>Selyemfényű karton A/4</td></tr><tr><td>01090498T</td><td>Műnyomó 300g 17,5*20</td></tr><tr><td>01090499T</td><td>Color Copy A/4 250 g</td></tr><tr><td>01090500T</td><td>Color Copy A4 200 g</td></tr><tr><td>01090515T</td><td>Színes A/3 160 gr IQ</td></tr><tr><td>01100071T</td><td>Dekorációs karton arany, ezüst</td></tr><tr><td>01100072T</td><td>Dipa A/4 keretezett</td></tr><tr><td>01100094T</td><td>Fénymásoló papír DataCopy</td></tr><tr><td>01100095T</td><td>Fénymásoló papír GetCopy</td></tr><tr><td>01100096T</td><td>Fénymásoló papír Qconnect</td></tr><tr><td>01100496T</td><td>Színes másoló a/4 80g</td></tr><tr><td>01100497T</td><td>Color Copy 160 g-os </td></tr><tr><td>01100503T</td><td>Color Copy A4 120 g</td></tr><tr><td>02020037T</td><td>Bevételi pénztárbizonylat 3×25</td></tr><tr><td>02020245T</td><td>Kiadási pénztárbizonylat 2×25</td></tr><tr><td>02030040T</td><td>Boríték LA 4 francia</td></tr><tr><td>02030043T</td><td>Boríték légp. kicsi</td></tr><tr><td>02040025T</td><td>Álló irattartó karton</td></tr><tr><td>02040147T</td><td>Genotherm lefűzhető A/5</td></tr><tr><td>02040148T</td><td>Genotherm lefűzhető A4 10db-os</td></tr><tr><td>02040149T</td><td>Genotherm A4 10db-os</td></tr><tr><td>02040176T</td><td>Gyorsfűző dosszié fehér</td></tr><tr><td>02040194T</td><td>Hibajav.roll.Pritt 4,2mm</td></tr><tr><td>02040195T</td><td>Hibajavító ecsetes Aqua</td></tr><tr><td>02040196T</td><td>Hibajavító készlet Blanco</td></tr><tr><td>02040198T</td><td>Hibajavító roller 5 mm</td></tr><tr><td>02040199T</td><td>Hibajavító roller Pax</td></tr><tr><td>02040200T</td><td>Hibajavító Kores mini pen</td></tr><tr><td>02040207T</td><td>Iratgyűjtő ESSELTE ablakos</td></tr><tr><td>02040211T</td><td>Iratrendező ESSELTE</td></tr><tr><td>02040214T</td><td>Iromány fedél feles</td></tr><tr><td>02040295T</td><td>Notesz A/5 sima spirál</td></tr><tr><td>02040297T</td><td>Notesz sima spirál College</td></tr><tr><td>02040308T</td><td>Pénztárgépsz. 2 pl. nem öníró</td></tr><tr><td>02040309T</td><td>Pénztárgépszalag 2pl SC 57.5/60</td></tr><tr><td>02040506T</td><td>Fólia tasakos A4 125 mik.</td></tr><tr><td>02040507T</td><td>Fólia tasakos A4 80 mik.</td></tr><tr><td>02040508T</td><td>Fólia tasakos A4100 mik.</td></tr><tr><td>02080433T</td><td>Ragasztószalag 19 mm-es</td></tr><tr><td>02080436T</td><td>Irattartó müa. boríték A/4</td></tr><tr><td>02080450T</td><td>Gémkapocs 28-as színes</td></tr><tr><td>02080455T</td><td>Festékpatron BCI-3BK</td></tr><tr><td>02080456T</td><td>Genoterm HERLITZ 10-es</td></tr><tr><td>03010342T</td><td>Ragasztószalag  TIXO</td></tr><tr><td>03010344T</td><td>Ragasztószalag nagy 12 mm</td></tr><tr><td>03010345T</td><td>Ragasztószalag széles barna</td></tr><tr><td>03050076T</td><td>Díszkötöző szalag metál nagy</td></tr><tr><td>03050077T</td><td>Diszkötöző szalag arany</td></tr><tr><td>03050078T</td><td>Díszkötöző szalag metál kicsi</td></tr><tr><td>03050079T</td><td>Díszkötöző szalag vékony</td></tr><tr><td>03050080T</td><td>Diszkötöző széles szalag</td></tr><tr><td>03050457T</td><td>Ajándék cs. tasak kicsi</td></tr><tr><td>03050458T</td><td>Ajándék cs. 2×100×70</td></tr><tr><td>03080003T</td><td>Ajándék cs. tasak italos</td></tr><tr><td>03080004T</td><td>Ajándék cs. tasak italos, fólia</td></tr><tr><td>03080005T</td><td>Ajándék cs. tasak virágos nagy</td></tr><tr><td>03080006T</td><td>Ajándék cs. tasak mintás kicsi</td></tr><tr><td>03080007T</td><td>Ajándék cs. tasak mintás nagy</td></tr><tr><td>03080008T</td><td>Ajándék cs. tasak kicsi</td></tr><tr><td>03080009T</td><td>Ajándék csom. 100x70 metál</td></tr><tr><td>03080010T</td><td>Ajándék csom. 150x70</td></tr><tr><td>03080011T</td><td>Ajándék cs. tasak közepes</td></tr><tr><td>03080012T</td><td>Ajándék csom. 200x70</td></tr><tr><td>03080013T</td><td>Ajándék csom. 50x70 húsvéti</td></tr><tr><td>03080014T</td><td>Ajándék csom. 70x50 metál</td></tr><tr><td>03080015T</td><td>Ajándék csom. gyűrt</td></tr><tr><td>03080017T</td><td>iskolai csomagoló papír</td></tr><tr><td>03080018T</td><td>Ajándék csom. gyűrt 50x70 </td></tr><tr><td>03080019T</td><td>Ajándék csom. Krepp</td></tr><tr><td>03080021T</td><td>Ajándék csom. vékony</td></tr><tr><td>03080030T</td><td>Ajándék cs. húsvéti 200x70</td></tr><tr><td>03080031T</td><td>Ajándék cs. húsvéti</td></tr><tr><td>03080437T</td><td>Ajándék csomagoló tasak</td></tr><tr><td>03080438T</td><td>Ajándék csomagoló tasak lézeres</td></tr><tr><td>04020445T</td><td>Határidő napló 2010-s</td></tr><tr><td>04030234T</td><td>Képeslap karácsonyi</td></tr><tr><td>04030235T</td><td>Képeslap karácsonyi borítékos</td></tr><tr><td>04030236T</td><td>Képeslap karácsonyi WD</td></tr><tr><td>04030239T</td><td>Képeslap stancolt szív</td></tr><tr><td>04030241T</td><td>Képeslap virágos +boríték</td></tr><tr><td>04030242T</td><td>Képeslap WD +boríték</td></tr><tr><td>04030243T</td><td>Képkirakó Dirib-darab</td></tr><tr><td>04030265T</td><td>Levélpapír szett natur, mintás</td></tr><tr><td>04030266T</td><td>Levélpapír szett virágos</td></tr><tr><td>04030287T</td><td>Műanyag foszforeszkáló állat</td></tr><tr><td>04030288T</td><td>Műanyag pohár 1 dl-es</td></tr><tr><td>04030289T</td><td>Műanyag pohár 5 cl-es</td></tr><tr><td>04050074T</td><td>Díszdoboz tollnak 2 db-os</td></tr><tr><td>04050075T</td><td>Díszdoboz tollnak 2 db-os keskeny</td></tr><tr><td>04050221T</td><td>Játékautó Blisteres</td></tr><tr><td>04050251T</td><td>Kulcstartó billiárd golyós</td></tr><tr><td>04050252T</td><td>Kulcstartó Csőrikés</td></tr><tr><td>04050254T</td><td>Kulcstartó intarziás állatos</td></tr><tr><td>04050255T</td><td>Kulcstartó mesefigurás</td></tr><tr><td>04050256T</td><td>Kulcstartó nagyítós</td></tr><tr><td>04080271T</td><td>Mappa PVC villámzáras</td></tr><tr><td>04080272T</td><td>Mappa PVC villámzáras  képes</td></tr><tr><td>04110227T</td><td>Képeslap  borítékos</td></tr><tr><td>04110228T</td><td>Képeslap &quot;Nászajándék&quot;</td></tr><tr><td>04110231T</td><td>Képeslap humoros borítékos</td></tr><tr><td>04110232T</td><td>Képeslap humoros kaparós</td></tr><tr><td>04110275T</td><td>Matrica motoros kicsi</td></tr><tr><td>04110276T</td><td>Matrica Stickers nagy állatos</td></tr><tr><td>04110277T</td><td>Matrica Stickers szíves</td></tr><tr><td>04110278T</td><td>Matrica Test ékszer tattoo</td></tr><tr><td>04110280T</td><td>Matrica tetoválós kicsi</td></tr><tr><td>04110362T</td><td>Szalvéta gyűjtőknek</td></tr><tr><td>05010306T</td><td>Papízsebkendő,10db Szindy</td></tr><tr><td>05010369T</td><td>Szemetes zsák 60 literes</td></tr><tr><td>05080340T</td><td>Ragasztó, Technokol 35g kék</td></tr><tr><td>05080341T</td><td>Ragasztó, Technokol 35g piros</td></tr><tr><td>05110361T</td><td>Szalvéta Goma húsvéti</td></tr><tr><td>05110364T</td><td>Szalvéta kicsi virágos</td></tr><tr><td>06010082T</td><td>Ecset Centrum 10,11,12</td></tr><tr><td>06010083T</td><td>Ecset Centrum 7,8,9</td></tr><tr><td>06010114T</td><td>Füzet A/5 hangjegy 36/16</td></tr><tr><td>06010202T</td><td>Hurkapálca 10 db-os</td></tr><tr><td>06010305T</td><td>Papírcenti 100 cm-es</td></tr><tr><td>06010343T</td><td>Ragasztószalag 19 mm-es SCOTCH+ tépő</td></tr><tr><td>06010373T</td><td>Színes papír I.II-IV.V-VIII-ig</td></tr><tr><td>06010374T</td><td>Szorzótábla műanyag</td></tr><tr><td>06010375T</td><td>Szögmérő 180 fokos műa.</td></tr><tr><td>06040172T</td><td>Gumis mappa csomagolt</td></tr><tr><td>06040173T</td><td>Gumis mappa fóliázott állatos</td></tr><tr><td>06040179T</td><td>Gyurma színes 200 g-os</td></tr><tr><td>06040180T</td><td>Gyurma színes natúr</td></tr><tr><td>06040182T</td><td>Gyűrűskönyv bet. A/4</td></tr><tr><td>06040183T</td><td>Gyűrűskönyv bet. A/5</td></tr><tr><td>06040184T</td><td>Gyűrűskönyv betét A/5</td></tr><tr><td>06040323T</td><td>Post-it 51×38 100 lapos</td></tr><tr><td>06040324T</td><td>Post-it 75×75 100 lapos</td></tr><tr><td>06040347T</td><td>Rajzlap A/4 10db ffam.</td></tr><tr><td>06040350T</td><td>Regiszteres füzet A4</td></tr><tr><td>06040351T</td><td>Regiszteres füzet A5 Hightech</td></tr><tr><td>06040352T</td><td>Rovatolt papír 20 íves</td></tr><tr><td>06040354T</td><td>Sp.Füzet A/4  perforált, lyuk.</td></tr><tr><td>06040378T</td><td>Szövegkiemelő vékony</td></tr><tr><td>06040381T</td><td>Szövegkiemelő Videotip</td></tr><tr><td>06040384T</td><td>Technika cs. I-II-III-IV</td></tr><tr><td>06040385T</td><td>Tempera szóló ezüst</td></tr><tr><td>06040386T</td><td>Tempera szóló színes</td></tr><tr><td>06040392T</td><td>Tolltartó 1 zipzáros</td></tr><tr><td>06040393T</td><td>Tolltartó 2 részes NG.</td></tr><tr><td>06040395T</td><td>Tolltartó 2 zipzáros töltött</td></tr><tr><td>06040446T</td><td>Számológép tudományos</td></tr><tr><td>06050302T</td><td>Olló Tagit 18 cm-es</td></tr><tr><td>06080116T</td><td>Füzet A5 1-8 osz.-ig</td></tr><tr><td>06080117T</td><td>Füzetborító A/4 átlátszó</td></tr><tr><td>06080118T</td><td>Füzetborító átlátszó A5</td></tr><tr><td>06080119T</td><td>Füzetborító mesefig.</td></tr><tr><td>06080120T</td><td>Füzetborító öntapadó kicsi</td></tr><tr><td>06080121T</td><td>Füzetborító öntapadó tekercses</td></tr><tr><td>06080122T</td><td>Füzetborító öntapadós nagy</td></tr><tr><td>06080123T</td><td>Füzettartó A/4 keménytáblás</td></tr><tr><td>06080124T</td><td>Füzettartó A/4 keménytáblás</td></tr><tr><td>06080125T</td><td>Füzettartó A/5 vastag</td></tr><tr><td>06080189T</td><td>Hegyező műanyag dupla</td></tr><tr><td>06080190T</td><td>Hegyező műanyag egyes</td></tr><tr><td>06080191T</td><td>Hegyező tartályos egyes</td></tr><tr><td>06080332T</td><td>Radírtoll betét ER100</td></tr><tr><td>06080333T</td><td>Radírtoll betét vastag</td></tr><tr><td>06080334T</td><td>Ragasztó szalag KORES </td></tr><tr><td>06080338T</td><td>Ragasztó kenőfejes Nebuló</td></tr><tr><td>06080407T</td><td>Vízfesték  12 színű nagy</td></tr><tr><td>06080409T</td><td>Vízfesték 12 színű kerek</td></tr><tr><td>06080410T</td><td>Vízfesték 12db-os kínai</td></tr><tr><td>06080411T</td><td>Vonalzó 15 cm-es ESSELTE</td></tr><tr><td>06080412T</td><td>Vonalzó 16 cm-es LIZZY</td></tr><tr><td>06080424T</td><td>Füzetborító A/4 mintás</td></tr><tr><td>07010137T</td><td>G.toll betét PAX tip.</td></tr><tr><td>07010140T</td><td>G.toll betét Stabilo</td></tr><tr><td>07010142T</td><td>G.toll betét Zebra F-0.7</td></tr><tr><td>07010143T</td><td>G.toll betét Zebra H-0,7</td></tr><tr><td>07010144T</td><td>G.toll betét Zebra K-0,7</td></tr><tr><td>07010372T</td><td>Színes ceruza 12 szín</td></tr><tr><td>07030103T</td><td>Filctoll TINTEN PEN</td></tr><tr><td>07030104T</td><td>Filctoll vastag ARTIP</td></tr><tr><td>07030105T</td><td>Filctoll, alkoholos Centropen</td></tr><tr><td>07030106T</td><td>Filctoll, alkoholosOHP F-M-C</td></tr><tr><td>07030107T</td><td>Filctoll, textil Edding 4500</td></tr><tr><td>07040048T</td><td>Ceruza arany, ezüst</td></tr><tr><td>07040052T</td><td>Ceruza 2H-3B Koh-i-nor</td></tr><tr><td>07040056T</td><td>Ceruza piros-kék vékony</td></tr><tr><td>07040058T</td><td>Ceruza radíros kínai</td></tr><tr><td>07040060T</td><td>Ceruza stabilo swano</td></tr><tr><td>07040061T</td><td>Ceruza stabilo opera</td></tr><tr><td>07040098T</td><td>Filctoll document pen</td></tr><tr><td>07040099T</td><td>Filctoll Edding 750</td></tr><tr><td>07040100T</td><td>Filctoll Marvy alkoholos</td></tr><tr><td>07040101T</td><td>Filctoll permanent vastag</td></tr><tr><td>07040102T</td><td>Filctoll supra fine</td></tr><tr><td>07040128T</td><td>G. toll betét mini fém</td></tr><tr><td>07040131T</td><td>G. toll betét UNI lachnok Fine SA-7C</td></tr><tr><td>07040132T</td><td>G.toll betét csavaros</td></tr><tr><td>07040133T</td><td>G.toll betét görbe hegyű</td></tr><tr><td>07040134T</td><td>G.toll betét illatos</td></tr><tr><td>07040135T</td><td>G.toll betét Parker </td></tr><tr><td>07040165T</td><td>Golyóstoll UNI laknock</td></tr><tr><td>07040166T</td><td>Golyóstoll Zebra 301</td></tr><tr><td>07040167T</td><td>Golyóstoll Zebra mini</td></tr><tr><td>07040168T</td><td>Golyóstoll Zebra new hard</td></tr><tr><td>07040219T</td><td>Ironbél HI-POLIMER HB 0,7</td></tr><tr><td>07040257T</td><td>Lakk filc Edding 750</td></tr><tr><td>07040389T</td><td>Tintapatron 30 db-os kék</td></tr><tr><td>07040391T</td><td>Toll Centropen roller</td></tr><tr><td>07050464T</td><td>Szövegkiemelő Staedtler</td></tr><tr><td>07080063T</td><td>Ceruza szorzótáblás</td></tr><tr><td>07080151T</td><td>Golyóstoll + ceruza Twister 2in1</td></tr><tr><td>07080152T</td><td>Golyóstoll 3 funkciós </td></tr><tr><td>07080153T</td><td>Golyóstoll illatos ICO</td></tr><tr><td>07080154T</td><td>Golyóstoll INOXCROM</td></tr><tr><td>07080156T</td><td>Golyóstoll kupakos piros</td></tr><tr><td>07080157T</td><td>Golyóstoll Montex Hytone</td></tr><tr><td>07080158T</td><td>Golyóstoll Parker tokban</td></tr><tr><td>07080159T</td><td>Golyóstoll Pax tip.</td></tr><tr><td>07080161T</td><td>Golyóstoll kétszínű</td></tr><tr><td>07080162T</td><td>Golyóstoll Stabilo piros</td></tr><tr><td>07080163T</td><td>Golyóstoll UNI átlátszó</td></tr><tr><td>07080164T</td><td>Golyóstoll UNI gumis</td></tr><tr><td>07080315T</td><td>Pixiron Handy műanyag</td></tr><tr><td>07080319T</td><td>Pixiron Pentel színes</td></tr><tr><td>07080421T</td><td>Zseléstoll Lizzy Card</td></tr><tr><td>07080466T</td><td>Golyóstoll Stabiló 308</td></tr><tr><td>07080467T</td><td>Golyóstoll kétfunkciós ICO</td></tr><tr><td>07080468T</td><td>Golyóstoll háromfunkciós</td></tr><tr><td>07080469T</td><td>Golyóstoll UNIBALL 07</td></tr><tr><td>07080470T</td><td>Golyóstoll háromszög</td></tr><tr><td>07080471T</td><td>Golyóstoll levélbontós</td></tr><tr><td>08070472T</td><td>A föld amelyen élünk - Európa földrajza</td></tr><tr><td>08070473T</td><td>A föld amelyen élünk - Távoli földrészek</td></tr><tr><td>08070474T</td><td>A föld amelyen élünk - Hazánk földrajza</td></tr><tr><td>08070475T</td><td>A föld amelyen élünk - munkafüzet</td></tr><tr><td>08070476T</td><td>Anyanyelvi gyakorló 2</td></tr><tr><td>08070477T</td><td>Anyanyelvi gyakorló 3</td></tr><tr><td>08070478T</td><td>Összefoglaló feladatgyüjtemény számtech.</td></tr><tr><td>08070480T</td><td>Fizika 13 éveseknek</td></tr><tr><td>08070481T</td><td>Fizika munkafüzet 13 év.</td></tr><tr><td>08070482T</td><td>Fizika munkafüzet 14 év.</td></tr><tr><td>08070483T</td><td>Fizikai feladatok és tévedések</td></tr><tr><td>08070484T</td><td>Fogalmazás lépésről lépésre</td></tr><tr><td>08070485T</td><td>Jól felkészültem-e - Fizika</td></tr><tr><td>08070486T</td><td>Matematika gyakorló 2</td></tr><tr><td>08070487T</td><td>Matematika gyakorló 3</td></tr><tr><td>08070488T</td><td>Matematika gyakorló 4</td></tr><tr><td>08070491T</td><td>Szám.tech. kicsiknek</td></tr><tr><td>08070493T</td><td>Érettségi felv. fel. Matematika</td></tr><tr><td>08070494T</td><td>Érettségi felv. fel. Fizika</td></tr><tr><td>08070495T</td><td>Érettségi felv. fel. Biológia</td></tr><tr><td>F007-NA201</td><td>férfi farmer nadrág</td></tr><tr><td>F013-NA207</td><td>férfi szövet nadrág</td></tr><tr><td>G001-KB101</td><td>gyermek kabát (fiú)</td></tr><tr><td>G013-NA201</td><td>gyermek farmer nadrág (fiú)</td></tr><tr><td>G019-NA207</td><td>gyermek pamut nadrág (fiú)</td></tr><tr><td>G064-CI401</td><td>gyermek szandál (fiú)</td></tr><tr><td>G082-CI419</td><td>gyermek csizma (fiú)</td></tr><tr><td>L001-KB101</td><td>gyermek kabát (lány)</td></tr><tr><td>L013-NA201</td><td>gyermek farmer nadrág (lány)</td></tr><tr><td>L019-NA207</td><td>gyermek pamut nadrág (lány)</td></tr><tr><td>L048-PO218</td><td>gyermek póló (lány)</td></tr><tr><td>L064-CI401</td><td>gyermek szandál (lány)</td></tr><tr><td>L073-CI410</td><td>gyermek cipő (lány)</td></tr><tr><td>L082-CI419</td><td>gyermek csizma (lány)</td></tr></table>"
                    },
                    "metadata": {}
                }
            ],
            "execution_count": 4
        },
        {
            "cell_type": "markdown",
            "source": [
                "2\\. Melyek azok a termékek, amelyekből ugyanannyi van készleten, mint dvd-ből?\n",
                "\n",
                "Csak a termékek kódja és megnevezése jelenjen meg!\n",
                "\n",
                "A Dvd ne szerepeljen a listában!"
            ],
            "metadata": {
                "azdata_cell_guid": "f6494534-2b52-4288-a52a-568d3c793b99"
            },
            "attachments": {}
        },
        {
            "cell_type": "code",
            "source": [
                "SELECT TERMEKKOD,\r\n",
                "        MEGNEVEZES\r\n",
                "FROM Termek\r\n",
                "WHERE KESZLET = (\r\n",
                "    SELECT KESZLET\r\n",
                "    FROM Termek\r\n",
                "    WHERE MEGNEVEZES = 'Dvd'\r\n",
                ")\r\n",
                "AND MEGNEVEZES != 'Dvd'"
            ],
            "metadata": {
                "azdata_cell_guid": "344b7c13-f29e-46f3-82a3-2e6e70f48342",
                "language": "sql"
            },
            "outputs": [
                {
                    "output_type": "display_data",
                    "data": {
                        "text/html": "(5 rows affected)"
                    },
                    "metadata": {}
                },
                {
                    "output_type": "display_data",
                    "data": {
                        "text/html": "Total execution time: 00:00:00.044"
                    },
                    "metadata": {}
                },
                {
                    "output_type": "execute_result",
                    "execution_count": 17,
                    "data": {
                        "application/vnd.dataresource+json": {
                            "schema": {
                                "fields": [
                                    {
                                        "name": "TERMEKKOD"
                                    },
                                    {
                                        "name": "MEGNEVEZES"
                                    }
                                ]
                            },
                            "data": [
                                {
                                    "0": "02080226T",
                                    "1": "Kapocskiszedő"
                                },
                                {
                                    "0": "03080015T",
                                    "1": "Ajándék csom. gyűrt"
                                },
                                {
                                    "0": "04030263T",
                                    "1": "Levélpapír szett"
                                },
                                {
                                    "0": "04050269T",
                                    "1": "Lufi hullámos"
                                },
                                {
                                    "0": "08070491T",
                                    "1": "Szám.tech. kicsiknek"
                                }
                            ]
                        },
                        "text/html": "<table><tr><th>TERMEKKOD</th><th>MEGNEVEZES</th></tr><tr><td>02080226T</td><td>Kapocskiszedő</td></tr><tr><td>03080015T</td><td>Ajándék csom. gyűrt</td></tr><tr><td>04030263T</td><td>Levélpapír szett</td></tr><tr><td>04050269T</td><td>Lufi hullámos</td></tr><tr><td>08070491T</td><td>Szám.tech. kicsiknek</td></tr></table>"
                    },
                    "metadata": {}
                }
            ],
            "execution_count": 17
        },
        {
            "cell_type": "markdown",
            "source": [
                "3\\. Melyek azok a raktárak, amelyekben nincs olyan termék, amelynek nevében a \n",
                "\n",
                "matrica szó benne van? A listában a raktárak minden adata jelenjen meg!"
            ],
            "metadata": {
                "azdata_cell_guid": "189fb98f-63c9-43d8-bfb6-b26744b06195"
            },
            "attachments": {}
        },
        {
            "cell_type": "code",
            "source": [
                "SELECT *\r\n",
                "FROM Raktar\r\n",
                "WHERE RAKTAR_KOD NOT IN\r\n",
                "(\r\n",
                "    -- ahol van olyan termék, amelynek nevében a matrica benne van\r\n",
                "    SELECT RAKTAR_KOD\r\n",
                "    FROM Termek\r\n",
                "    WHERE MEGNEVEZES like '%matrica%'\r\n",
                ")"
            ],
            "metadata": {
                "azdata_cell_guid": "6a0c3400-7129-41f2-8332-b541455a5725",
                "language": "sql"
            },
            "outputs": [
                {
                    "output_type": "display_data",
                    "data": {
                        "text/html": "(4 rows affected)"
                    },
                    "metadata": {}
                },
                {
                    "output_type": "display_data",
                    "data": {
                        "text/html": "Total execution time: 00:00:00.054"
                    },
                    "metadata": {}
                },
                {
                    "output_type": "execute_result",
                    "execution_count": 25,
                    "data": {
                        "application/vnd.dataresource+json": {
                            "schema": {
                                "fields": [
                                    {
                                        "name": "RAKTAR_KOD"
                                    },
                                    {
                                        "name": "RAKTAR_NEV"
                                    },
                                    {
                                        "name": "RAKTAR_CIM"
                                    }
                                ]
                            },
                            "data": [
                                {
                                    "0": "1",
                                    "1": "Kisfaludy",
                                    "2": "2135 Csörög Kisfaludy u. 55."
                                },
                                {
                                    "0": "2",
                                    "1": "Nagyszeben",
                                    "2": "1182 Budapest Nagyszeben u. 12."
                                },
                                {
                                    "0": "3",
                                    "1": "Toldy",
                                    "2": "1015 Budapest Toldy F. u. 58."
                                },
                                {
                                    "0": "4",
                                    "1": "KIS",
                                    "2": "1039 Budapest Madzsar J. u. 23."
                                }
                            ]
                        },
                        "text/html": "<table><tr><th>RAKTAR_KOD</th><th>RAKTAR_NEV</th><th>RAKTAR_CIM</th></tr><tr><td>1</td><td>Kisfaludy</td><td>2135 Csörög Kisfaludy u. 55.</td></tr><tr><td>2</td><td>Nagyszeben</td><td>1182 Budapest Nagyszeben u. 12.</td></tr><tr><td>3</td><td>Toldy</td><td>1015 Budapest Toldy F. u. 58.</td></tr><tr><td>4</td><td>KIS</td><td>1039 Budapest Madzsar J. u. 23.</td></tr></table>"
                    },
                    "metadata": {}
                }
            ],
            "execution_count": 25
        },
        {
            "cell_type": "markdown",
            "source": [
                "4. Mely nap(ok)on történt a legkevesebb megrendelés?"
            ],
            "metadata": {
                "azdata_cell_guid": "2ad2ab6b-37ef-4c49-b3d0-b0c30e88c7fe"
            },
            "attachments": {}
        },
        {
            "cell_type": "code",
            "source": [
                "SELECT REND_DATUM\r\n",
                " FROM Rendeles\r\n",
                " GROUP BY REND_DATUM\r\n",
                " HAVING COUNT(*)<= ALL\r\n",
                " (\r\n",
                "   SELECT COUNT(*)\r\n",
                "   FROM Rendeles\r\n",
                "   GROUP BY REND_DATUM\r\n",
                " )"
            ],
            "metadata": {
                "azdata_cell_guid": "70db8806-d4de-4ec2-b554-78efdc029c2b",
                "tags": [],
                "language": "sql"
            },
            "outputs": [
                {
                    "output_type": "display_data",
                    "data": {
                        "text/html": "(1 row affected)"
                    },
                    "metadata": {}
                },
                {
                    "output_type": "display_data",
                    "data": {
                        "text/html": "Total execution time: 00:00:00.476"
                    },
                    "metadata": {}
                },
                {
                    "output_type": "execute_result",
                    "execution_count": 2,
                    "data": {
                        "application/vnd.dataresource+json": {
                            "schema": {
                                "fields": [
                                    {
                                        "name": "REND_DATUM"
                                    }
                                ]
                            },
                            "data": [
                                {
                                    "REND_DATUM": "2017-01-27"
                                }
                            ]
                        },
                        "text/html": "<table><tr><th>REND_DATUM</th></tr><tr><td>2017-01-27</td></tr></table>"
                    },
                    "metadata": {}
                }
            ],
            "execution_count": 2
        },
        {
            "cell_type": "markdown",
            "source": [
                "5\\. Listázzuk azon termékek adatait, amelyek listaára saját raktárukban\n",
                "\n",
                "  a legkisebb!"
            ],
            "metadata": {
                "azdata_cell_guid": "a906538f-8a7d-43d5-b248-9a827c64c48a"
            },
            "attachments": {}
        },
        {
            "cell_type": "code",
            "source": [
                "SELECT t.*\r\n",
                "FROM Termek t\r\n",
                "WHERE T.LISTAAR=\r\n",
                "(\r\n",
                " SELECT MIN(t2.LISTAAR)\r\n",
                " FROM Termek t2\r\n",
                " WHERE t2.RAKTAR_KOD = t.RAKTAR_KOD\r\n",
                ")"
            ],
            "metadata": {
                "azdata_cell_guid": "85355aab-2aa3-4e21-91ab-0cb991d08145",
                "language": "sql"
            },
            "outputs": [
                {
                    "output_type": "display_data",
                    "data": {
                        "text/html": "(10 rows affected)"
                    },
                    "metadata": {}
                },
                {
                    "output_type": "display_data",
                    "data": {
                        "text/html": "Total execution time: 00:00:00.323"
                    },
                    "metadata": {}
                },
                {
                    "output_type": "execute_result",
                    "execution_count": 4,
                    "data": {
                        "application/vnd.dataresource+json": {
                            "schema": {
                                "fields": [
                                    {
                                        "name": "TERMEKKOD"
                                    },
                                    {
                                        "name": "MEGNEVEZES"
                                    },
                                    {
                                        "name": "KAT_ID"
                                    },
                                    {
                                        "name": "LISTAAR"
                                    },
                                    {
                                        "name": "LEIRAS"
                                    },
                                    {
                                        "name": "RAKTAR_KOD"
                                    },
                                    {
                                        "name": "KESZLET"
                                    },
                                    {
                                        "name": "MEGYS"
                                    },
                                    {
                                        "name": "FELVITTE"
                                    },
                                    {
                                        "name": "FELVITEL"
                                    }
                                ]
                            },
                            "data": [
                                {
                                    "TERMEKKOD": "L023-FE301",
                                    "MEGNEVEZES": "lány alsó",
                                    "KAT_ID": "35",
                                    "LISTAAR": "390",
                                    "LEIRAS": "pamut ",
                                    "RAKTAR_KOD": "1",
                                    "KESZLET": "369",
                                    "MEGYS": "db",
                                    "FELVITTE": "Béla",
                                    "FELVITEL": "2016-07-26"
                                },
                                {
                                    "TERMEKKOD": "06080119T",
                                    "MEGNEVEZES": "Füzetborító mesefig.",
                                    "KAT_ID": "46",
                                    "LISTAAR": "19",
                                    "LEIRAS": "NULL",
                                    "RAKTAR_KOD": "2",
                                    "KESZLET": "100",
                                    "MEGYS": "db",
                                    "FELVITTE": "Mari",
                                    "FELVITEL": "2016-07-09"
                                },
                                {
                                    "TERMEKKOD": "G023-FE301",
                                    "MEGNEVEZES": "fiú alsó",
                                    "KAT_ID": "35",
                                    "LISTAAR": "390",
                                    "LEIRAS": "mintás (pamut) ",
                                    "RAKTAR_KOD": "3",
                                    "KESZLET": "328",
                                    "MEGYS": "db",
                                    "FELVITTE": "Sára",
                                    "FELVITEL": "2016-08-13"
                                },
                                {
                                    "TERMEKKOD": "L029-FE307",
                                    "MEGNEVEZES": "lány zokni",
                                    "KAT_ID": "35",
                                    "LISTAAR": "240",
                                    "LEIRAS": "fehér (pamut) ",
                                    "RAKTAR_KOD": "4",
                                    "KESZLET": "470",
                                    "MEGYS": "db",
                                    "FELVITTE": "Béla",
                                    "FELVITEL": "2016-07-27"
                                },
                                {
                                    "TERMEKKOD": "G029-FE307",
                                    "MEGNEVEZES": "fiú zokni",
                                    "KAT_ID": "35",
                                    "LISTAAR": "240",
                                    "LEIRAS": "mintás (pamut) ",
                                    "RAKTAR_KOD": "4",
                                    "KESZLET": "468",
                                    "MEGYS": "db",
                                    "FELVITTE": "Sára",
                                    "FELVITEL": "2016-08-13"
                                },
                                {
                                    "TERMEKKOD": "07030108T",
                                    "MEGNEVEZES": "Filctoll CD író",
                                    "KAT_ID": "41",
                                    "LISTAAR": "0",
                                    "LEIRAS": "NULL",
                                    "RAKTAR_KOD": "5",
                                    "KESZLET": "500",
                                    "MEGYS": "db",
                                    "FELVITTE": "Mari",
                                    "FELVITEL": "2016-07-21"
                                },
                                {
                                    "TERMEKKOD": "02030042T",
                                    "MEGNEVEZES": "Boríték LC 6",
                                    "KAT_ID": "16",
                                    "LISTAAR": "3",
                                    "LEIRAS": "NULL",
                                    "RAKTAR_KOD": "6",
                                    "KESZLET": "2000",
                                    "MEGYS": "db",
                                    "FELVITTE": "Mari",
                                    "FELVITEL": "2016-07-15"
                                },
                                {
                                    "TERMEKKOD": "04030288T",
                                    "MEGNEVEZES": "Műanyag pohár 1 dl-es",
                                    "KAT_ID": "25",
                                    "LISTAAR": "3",
                                    "LEIRAS": "NULL",
                                    "RAKTAR_KOD": "7",
                                    "KESZLET": "100",
                                    "MEGYS": "db",
                                    "FELVITTE": "Béla",
                                    "FELVITEL": "2016-07-26"
                                },
                                {
                                    "TERMEKKOD": "01090498T",
                                    "MEGNEVEZES": "Műnyomó 300g 17,5*20",
                                    "KAT_ID": "101",
                                    "LISTAAR": "3",
                                    "LEIRAS": "NULL",
                                    "RAKTAR_KOD": "8",
                                    "KESZLET": "1800",
                                    "MEGYS": "ív",
                                    "FELVITTE": "Mari",
                                    "FELVITEL": "2016-07-06"
                                },
                                {
                                    "TERMEKKOD": "02030041T",
                                    "MEGNEVEZES": "Boríték LC 5",
                                    "KAT_ID": "16",
                                    "LISTAAR": "6",
                                    "LEIRAS": "NULL",
                                    "RAKTAR_KOD": "9",
                                    "KESZLET": "2000",
                                    "MEGYS": "db",
                                    "FELVITTE": "Mari",
                                    "FELVITEL": "2016-07-12"
                                }
                            ]
                        },
                        "text/html": "<table><tr><th>TERMEKKOD</th><th>MEGNEVEZES</th><th>KAT_ID</th><th>LISTAAR</th><th>LEIRAS</th><th>RAKTAR_KOD</th><th>KESZLET</th><th>MEGYS</th><th>FELVITTE</th><th>FELVITEL</th></tr><tr><td>L023-FE301</td><td>lány alsó</td><td>35</td><td>390</td><td>pamut </td><td>1</td><td>369</td><td>db</td><td>Béla</td><td>2016-07-26</td></tr><tr><td>06080119T</td><td>Füzetborító mesefig.</td><td>46</td><td>19</td><td>NULL</td><td>2</td><td>100</td><td>db</td><td>Mari</td><td>2016-07-09</td></tr><tr><td>G023-FE301</td><td>fiú alsó</td><td>35</td><td>390</td><td>mintás (pamut) </td><td>3</td><td>328</td><td>db</td><td>Sára</td><td>2016-08-13</td></tr><tr><td>L029-FE307</td><td>lány zokni</td><td>35</td><td>240</td><td>fehér (pamut) </td><td>4</td><td>470</td><td>db</td><td>Béla</td><td>2016-07-27</td></tr><tr><td>G029-FE307</td><td>fiú zokni</td><td>35</td><td>240</td><td>mintás (pamut) </td><td>4</td><td>468</td><td>db</td><td>Sára</td><td>2016-08-13</td></tr><tr><td>07030108T</td><td>Filctoll CD író</td><td>41</td><td>0</td><td>NULL</td><td>5</td><td>500</td><td>db</td><td>Mari</td><td>2016-07-21</td></tr><tr><td>02030042T</td><td>Boríték LC 6</td><td>16</td><td>3</td><td>NULL</td><td>6</td><td>2000</td><td>db</td><td>Mari</td><td>2016-07-15</td></tr><tr><td>04030288T</td><td>Műanyag pohár 1 dl-es</td><td>25</td><td>3</td><td>NULL</td><td>7</td><td>100</td><td>db</td><td>Béla</td><td>2016-07-26</td></tr><tr><td>01090498T</td><td>Műnyomó 300g 17,5*20</td><td>101</td><td>3</td><td>NULL</td><td>8</td><td>1800</td><td>ív</td><td>Mari</td><td>2016-07-06</td></tr><tr><td>02030041T</td><td>Boríték LC 5</td><td>16</td><td>6</td><td>NULL</td><td>9</td><td>2000</td><td>db</td><td>Mari</td><td>2016-07-12</td></tr></table>"
                    },
                    "metadata": {}
                }
            ],
            "execution_count": 4
        },
        {
            "cell_type": "markdown",
            "source": [
                "6\\. Készítsünk listát arról, hogy ügyfelenként (LOGIN), azon belül\n",
                "\n",
                " szállítási módonként hány megrendelés történt! \n",
                "\n",
                " A lista tartalmazza a részösszegeket és a végösszeget is!\n",
                "\n",
                " Használjuk a ROLLUP záradékot!"
            ],
            "metadata": {
                "azdata_cell_guid": "3a9d813d-a3d4-40e5-816b-9c8ff9b37fc0"
            },
            "attachments": {}
        },
        {
            "cell_type": "code",
            "source": [
                "-- ROLLUP\r\n",
                "SELECT [LOGIN],\r\n",
                "        SZALL_MOD as 'Szállítási mód',\r\n",
                "        COUNT(SORSZAM) as 'DB'\r\n",
                "FROM Rendeles\r\n",
                "GROUP BY ROLLUP([LOGIN], SZALL_MOD)"
            ],
            "metadata": {
                "azdata_cell_guid": "9e8d489b-a146-422d-8611-2e8b095d130f",
                "language": "sql"
            },
            "outputs": [
                {
                    "output_type": "display_data",
                    "data": {
                        "text/html": "(763 rows affected)"
                    },
                    "metadata": {}
                },
                {
                    "output_type": "display_data",
                    "data": {
                        "text/html": "Total execution time: 00:00:00.233"
                    },
                    "metadata": {}
                },
                {
                    "output_type": "execute_result",
                    "metadata": {},
                    "execution_count": 8,
                    "data": {
                        "application/vnd.dataresource+json": {
                            "schema": {
                                "fields": [
                                    {
                                        "name": "LOGIN"
                                    },
                                    {
                                        "name": "Szállítási mód"
                                    },
                                    {
                                        "name": "DB"
                                    }
                                ]
                            },
                            "data": [
                                {
                                    "LOGIN": "adam1",
                                    "Szállítási mód": "GLS",
                                    "DB": "129"
                                },
                                {
                                    "LOGIN": "adam1",
                                    "Szállítási mód": "Posta",
                                    "DB": "132"
                                },
                                {
                                    "LOGIN": "adam1",
                                    "Szállítási mód": "Személyes átvétel",
                                    "DB": "131"
                                },
                                {
                                    "LOGIN": "adam1",
                                    "Szállítási mód": "NULL",
                                    "DB": "392"
                                },
                                {
                                    "LOGIN": "adam3",
                                    "Szállítási mód": "GLS",
                                    "DB": "10"
                                },
                                {
                                    "LOGIN": "adam3",
                                    "Szállítási mód": "Posta",
                                    "DB": "3"
                                },
                                {
                                    "LOGIN": "adam3",
                                    "Szállítási mód": "Személyes átvétel",
                                    "DB": "2"
                                },
                                {
                                    "LOGIN": "adam3",
                                    "Szállítási mód": "NULL",
                                    "DB": "15"
                                },
                                {
                                    "LOGIN": "adam4",
                                    "Szállítási mód": "GLS",
                                    "DB": "12"
                                },
                                {
                                    "LOGIN": "adam4",
                                    "Szállítási mód": "Posta",
                                    "DB": "6"
                                },
                                {
                                    "LOGIN": "adam4",
                                    "Szállítási mód": "Személyes átvétel",
                                    "DB": "11"
                                },
                                {
                                    "LOGIN": "adam4",
                                    "Szállítási mód": "NULL",
                                    "DB": "29"
                                },
                                {
                                    "LOGIN": "agnes",
                                    "Szállítási mód": "GLS",
                                    "DB": "144"
                                },
                                {
                                    "LOGIN": "agnes",
                                    "Szállítási mód": "Posta",
                                    "DB": "130"
                                },
                                {
                                    "LOGIN": "agnes",
                                    "Szállítási mód": "Személyes átvétel",
                                    "DB": "144"
                                },
                                {
                                    "LOGIN": "agnes",
                                    "Szállítási mód": "NULL",
                                    "DB": "418"
                                },
                                {
                                    "LOGIN": "agnes3",
                                    "Szállítási mód": "GLS",
                                    "DB": "148"
                                },
                                {
                                    "LOGIN": "agnes3",
                                    "Szállítási mód": "Posta",
                                    "DB": "146"
                                },
                                {
                                    "LOGIN": "agnes3",
                                    "Szállítási mód": "Személyes átvétel",
                                    "DB": "136"
                                },
                                {
                                    "LOGIN": "agnes3",
                                    "Szállítási mód": "NULL",
                                    "DB": "430"
                                },
                                {
                                    "LOGIN": "AGNESH",
                                    "Szállítási mód": "GLS",
                                    "DB": "2"
                                },
                                {
                                    "LOGIN": "AGNESH",
                                    "Szállítási mód": "Posta",
                                    "DB": "3"
                                },
                                {
                                    "LOGIN": "AGNESH",
                                    "Szállítási mód": "Személyes átvétel",
                                    "DB": "6"
                                },
                                {
                                    "LOGIN": "AGNESH",
                                    "Szállítási mód": "NULL",
                                    "DB": "11"
                                },
                                {
                                    "LOGIN": "AGNESK",
                                    "Szállítási mód": "GLS",
                                    "DB": "1"
                                },
                                {
                                    "LOGIN": "AGNESK",
                                    "Szállítási mód": "Posta",
                                    "DB": "7"
                                },
                                {
                                    "LOGIN": "AGNESK",
                                    "Szállítási mód": "Személyes átvétel",
                                    "DB": "7"
                                },
                                {
                                    "LOGIN": "AGNESK",
                                    "Szállítási mód": "NULL",
                                    "DB": "15"
                                },
                                {
                                    "LOGIN": "akos",
                                    "Szállítási mód": "GLS",
                                    "DB": "146"
                                },
                                {
                                    "LOGIN": "akos",
                                    "Szállítási mód": "Posta",
                                    "DB": "143"
                                },
                                {
                                    "LOGIN": "akos",
                                    "Szállítási mód": "Személyes átvétel",
                                    "DB": "140"
                                },
                                {
                                    "LOGIN": "akos",
                                    "Szállítási mód": "NULL",
                                    "DB": "429"
                                },
                                {
                                    "LOGIN": "aladar",
                                    "Szállítási mód": "GLS",
                                    "DB": "156"
                                },
                                {
                                    "LOGIN": "aladar",
                                    "Szállítási mód": "Posta",
                                    "DB": "134"
                                },
                                {
                                    "LOGIN": "aladar",
                                    "Szállítási mód": "Személyes átvétel",
                                    "DB": "118"
                                },
                                {
                                    "LOGIN": "aladar",
                                    "Szállítási mód": "NULL",
                                    "DB": "408"
                                },
                                {
                                    "LOGIN": "alexandra",
                                    "Szállítási mód": "GLS",
                                    "DB": "5"
                                },
                                {
                                    "LOGIN": "alexandra",
                                    "Szállítási mód": "Posta",
                                    "DB": "9"
                                },
                                {
                                    "LOGIN": "alexandra",
                                    "Szállítási mód": "Személyes átvétel",
                                    "DB": "5"
                                },
                                {
                                    "LOGIN": "alexandra",
                                    "Szállítási mód": "NULL",
                                    "DB": "19"
                                },
                                {
                                    "LOGIN": "andi",
                                    "Szállítási mód": "GLS",
                                    "DB": "7"
                                },
                                {
                                    "LOGIN": "andi",
                                    "Szállítási mód": "Posta",
                                    "DB": "4"
                                },
                                {
                                    "LOGIN": "andi",
                                    "Szállítási mód": "Személyes átvétel",
                                    "DB": "7"
                                },
                                {
                                    "LOGIN": "andi",
                                    "Szállítási mód": "NULL",
                                    "DB": "18"
                                },
                                {
                                    "LOGIN": "andras2",
                                    "Szállítási mód": "GLS",
                                    "DB": "4"
                                },
                                {
                                    "LOGIN": "andras2",
                                    "Szállítási mód": "Posta",
                                    "DB": "7"
                                },
                                {
                                    "LOGIN": "andras2",
                                    "Szállítási mód": "Személyes átvétel",
                                    "DB": "11"
                                },
                                {
                                    "LOGIN": "andras2",
                                    "Szállítási mód": "NULL",
                                    "DB": "22"
                                },
                                {
                                    "LOGIN": "andras21",
                                    "Szállítási mód": "GLS",
                                    "DB": "140"
                                },
                                {
                                    "LOGIN": "andras21",
                                    "Szállítási mód": "Posta",
                                    "DB": "124"
                                },
                                {
                                    "LOGIN": "andras21",
                                    "Szállítási mód": "Személyes átvétel",
                                    "DB": "126"
                                },
                                {
                                    "LOGIN": "andras21",
                                    "Szállítási mód": "NULL",
                                    "DB": "390"
                                },
                                {
                                    "LOGIN": "andras3",
                                    "Szállítási mód": "GLS",
                                    "DB": "3"
                                },
                                {
                                    "LOGIN": "andras3",
                                    "Szállítási mód": "Posta",
                                    "DB": "1"
                                },
                                {
                                    "LOGIN": "andras3",
                                    "Szállítási mód": "Személyes átvétel",
                                    "DB": "5"
                                },
                                {
                                    "LOGIN": "andras3",
                                    "Szállítási mód": "NULL",
                                    "DB": "9"
                                },
                                {
                                    "LOGIN": "andras4",
                                    "Szállítási mód": "GLS",
                                    "DB": "4"
                                },
                                {
                                    "LOGIN": "andras4",
                                    "Szállítási mód": "Posta",
                                    "DB": "4"
                                },
                                {
                                    "LOGIN": "andras4",
                                    "Szállítási mód": "Személyes átvétel",
                                    "DB": "4"
                                },
                                {
                                    "LOGIN": "andras4",
                                    "Szállítási mód": "NULL",
                                    "DB": "12"
                                },
                                {
                                    "LOGIN": "andras41",
                                    "Szállítási mód": "GLS",
                                    "DB": "149"
                                },
                                {
                                    "LOGIN": "andras41",
                                    "Szállítási mód": "Posta",
                                    "DB": "137"
                                },
                                {
                                    "LOGIN": "andras41",
                                    "Szállítási mód": "Személyes átvétel",
                                    "DB": "133"
                                },
                                {
                                    "LOGIN": "andras41",
                                    "Szállítási mód": "NULL",
                                    "DB": "419"
                                },
                                {
                                    "LOGIN": "ANDRASE",
                                    "Szállítási mód": "GLS",
                                    "DB": "159"
                                },
                                {
                                    "LOGIN": "ANDRASE",
                                    "Szállítási mód": "Posta",
                                    "DB": "141"
                                },
                                {
                                    "LOGIN": "ANDRASE",
                                    "Szállítási mód": "Személyes átvétel",
                                    "DB": "136"
                                },
                                {
                                    "LOGIN": "ANDRASE",
                                    "Szállítási mód": "NULL",
                                    "DB": "436"
                                },
                                {
                                    "LOGIN": "ANDRASN",
                                    "Szállítási mód": "GLS",
                                    "DB": "10"
                                },
                                {
                                    "LOGIN": "ANDRASN",
                                    "Szállítási mód": "Posta",
                                    "DB": "9"
                                },
                                {
                                    "LOGIN": "ANDRASN",
                                    "Szállítási mód": "Személyes átvétel",
                                    "DB": "5"
                                },
                                {
                                    "LOGIN": "ANDRASN",
                                    "Szállítási mód": "NULL",
                                    "DB": "24"
                                },
                                {
                                    "LOGIN": "andrea",
                                    "Szállítási mód": "GLS",
                                    "DB": "12"
                                },
                                {
                                    "LOGIN": "andrea",
                                    "Szállítási mód": "Posta",
                                    "DB": "4"
                                },
                                {
                                    "LOGIN": "andrea",
                                    "Szállítási mód": "Személyes átvétel",
                                    "DB": "8"
                                },
                                {
                                    "LOGIN": "andrea",
                                    "Szállítási mód": "NULL",
                                    "DB": "24"
                                },
                                {
                                    "LOGIN": "andrea3",
                                    "Szállítási mód": "GLS",
                                    "DB": "131"
                                },
                                {
                                    "LOGIN": "andrea3",
                                    "Szállítási mód": "Posta",
                                    "DB": "136"
                                },
                                {
                                    "LOGIN": "andrea3",
                                    "Szállítási mód": "Személyes átvétel",
                                    "DB": "146"
                                },
                                {
                                    "LOGIN": "andrea3",
                                    "Szállítási mód": "NULL",
                                    "DB": "413"
                                },
                                {
                                    "LOGIN": "andrea4",
                                    "Szállítási mód": "GLS",
                                    "DB": "7"
                                },
                                {
                                    "LOGIN": "andrea4",
                                    "Szállítási mód": "Posta",
                                    "DB": "4"
                                },
                                {
                                    "LOGIN": "andrea4",
                                    "Szállítási mód": "Személyes átvétel",
                                    "DB": "7"
                                },
                                {
                                    "LOGIN": "andrea4",
                                    "Szállítási mód": "NULL",
                                    "DB": "18"
                                },
                                {
                                    "LOGIN": "ANDREAT",
                                    "Szállítási mód": "GLS",
                                    "DB": "3"
                                },
                                {
                                    "LOGIN": "ANDREAT",
                                    "Szállítási mód": "Posta",
                                    "DB": "6"
                                },
                                {
                                    "LOGIN": "ANDREAT",
                                    "Szállítási mód": "Személyes átvétel",
                                    "DB": "12"
                                },
                                {
                                    "LOGIN": "ANDREAT",
                                    "Szállítási mód": "NULL",
                                    "DB": "21"
                                },
                                {
                                    "LOGIN": "anett3",
                                    "Szállítási mód": "GLS",
                                    "DB": "3"
                                },
                                {
                                    "LOGIN": "anett3",
                                    "Szállítási mód": "Posta",
                                    "DB": "6"
                                },
                                {
                                    "LOGIN": "anett3",
                                    "Szállítási mód": "Személyes átvétel",
                                    "DB": "9"
                                },
                                {
                                    "LOGIN": "anett3",
                                    "Szállítási mód": "NULL",
                                    "DB": "18"
                                },
                                {
                                    "LOGIN": "aniko",
                                    "Szállítási mód": "GLS",
                                    "DB": "128"
                                },
                                {
                                    "LOGIN": "aniko",
                                    "Szállítási mód": "Posta",
                                    "DB": "137"
                                },
                                {
                                    "LOGIN": "aniko",
                                    "Szállítási mód": "Személyes átvétel",
                                    "DB": "138"
                                },
                                {
                                    "LOGIN": "aniko",
                                    "Szállítási mód": "NULL",
                                    "DB": "403"
                                },
                                {
                                    "LOGIN": "aniko4",
                                    "Szállítási mód": "GLS",
                                    "DB": "6"
                                },
                                {
                                    "LOGIN": "aniko4",
                                    "Szállítási mód": "Posta",
                                    "DB": "6"
                                },
                                {
                                    "LOGIN": "aniko4",
                                    "Szállítási mód": "Személyes átvétel",
                                    "DB": "3"
                                },
                                {
                                    "LOGIN": "aniko4",
                                    "Szállítási mód": "NULL",
                                    "DB": "15"
                                },
                                {
                                    "LOGIN": "ANIKOS",
                                    "Szállítási mód": "GLS",
                                    "DB": "128"
                                },
                                {
                                    "LOGIN": "ANIKOS",
                                    "Szállítási mód": "Posta",
                                    "DB": "126"
                                },
                                {
                                    "LOGIN": "ANIKOS",
                                    "Szállítási mód": "Személyes átvétel",
                                    "DB": "150"
                                },
                                {
                                    "LOGIN": "ANIKOS",
                                    "Szállítási mód": "NULL",
                                    "DB": "404"
                                },
                                {
                                    "LOGIN": "anita",
                                    "Szállítási mód": "GLS",
                                    "DB": "5"
                                },
                                {
                                    "LOGIN": "anita",
                                    "Szállítási mód": "Posta",
                                    "DB": "2"
                                },
                                {
                                    "LOGIN": "anita",
                                    "Szállítási mód": "Személyes átvétel",
                                    "DB": "5"
                                },
                                {
                                    "LOGIN": "anita",
                                    "Szállítási mód": "NULL",
                                    "DB": "12"
                                },
                                {
                                    "LOGIN": "annamaria1",
                                    "Szállítási mód": "GLS",
                                    "DB": "5"
                                },
                                {
                                    "LOGIN": "annamaria1",
                                    "Szállítási mód": "Posta",
                                    "DB": "4"
                                },
                                {
                                    "LOGIN": "annamaria1",
                                    "Szállítási mód": "Személyes átvétel",
                                    "DB": "7"
                                },
                                {
                                    "LOGIN": "annamaria1",
                                    "Szállítási mód": "NULL",
                                    "DB": "16"
                                },
                                {
                                    "LOGIN": "ANNAMARIAR",
                                    "Szállítási mód": "GLS",
                                    "DB": "8"
                                },
                                {
                                    "LOGIN": "ANNAMARIAR",
                                    "Szállítási mód": "Posta",
                                    "DB": "2"
                                },
                                {
                                    "LOGIN": "ANNAMARIAR",
                                    "Szállítási mód": "Személyes átvétel",
                                    "DB": "3"
                                },
                                {
                                    "LOGIN": "ANNAMARIAR",
                                    "Szállítási mód": "NULL",
                                    "DB": "13"
                                },
                                {
                                    "LOGIN": "aron2",
                                    "Szállítási mód": "GLS",
                                    "DB": "132"
                                },
                                {
                                    "LOGIN": "aron2",
                                    "Szállítási mód": "Posta",
                                    "DB": "133"
                                },
                                {
                                    "LOGIN": "aron2",
                                    "Szállítási mód": "Személyes átvétel",
                                    "DB": "144"
                                },
                                {
                                    "LOGIN": "aron2",
                                    "Szállítási mód": "NULL",
                                    "DB": "409"
                                },
                                {
                                    "LOGIN": "ARONK",
                                    "Szállítási mód": "GLS",
                                    "DB": "155"
                                },
                                {
                                    "LOGIN": "ARONK",
                                    "Szállítási mód": "Posta",
                                    "DB": "120"
                                },
                                {
                                    "LOGIN": "ARONK",
                                    "Szállítási mód": "Személyes átvétel",
                                    "DB": "155"
                                },
                                {
                                    "LOGIN": "ARONK",
                                    "Szállítási mód": "NULL",
                                    "DB": "430"
                                },
                                {
                                    "LOGIN": "arpad2",
                                    "Szállítási mód": "GLS",
                                    "DB": "6"
                                },
                                {
                                    "LOGIN": "arpad2",
                                    "Szállítási mód": "Posta",
                                    "DB": "1"
                                },
                                {
                                    "LOGIN": "arpad2",
                                    "Szállítási mód": "Személyes átvétel",
                                    "DB": "10"
                                },
                                {
                                    "LOGIN": "arpad2",
                                    "Szállítási mód": "NULL",
                                    "DB": "17"
                                },
                                {
                                    "LOGIN": "ARPADH",
                                    "Szállítási mód": "GLS",
                                    "DB": "6"
                                },
                                {
                                    "LOGIN": "ARPADH",
                                    "Szállítási mód": "Posta",
                                    "DB": "3"
                                },
                                {
                                    "LOGIN": "ARPADH",
                                    "Szállítási mód": "Személyes átvétel",
                                    "DB": "5"
                                },
                                {
                                    "LOGIN": "ARPADH",
                                    "Szállítási mód": "NULL",
                                    "DB": "14"
                                },
                                {
                                    "LOGIN": "ARPADM",
                                    "Szállítási mód": "GLS",
                                    "DB": "6"
                                },
                                {
                                    "LOGIN": "ARPADM",
                                    "Szállítási mód": "Posta",
                                    "DB": "3"
                                },
                                {
                                    "LOGIN": "ARPADM",
                                    "Szállítási mód": "Személyes átvétel",
                                    "DB": "7"
                                },
                                {
                                    "LOGIN": "ARPADM",
                                    "Szállítási mód": "NULL",
                                    "DB": "16"
                                },
                                {
                                    "LOGIN": "attila1",
                                    "Szállítási mód": "GLS",
                                    "DB": "5"
                                },
                                {
                                    "LOGIN": "attila1",
                                    "Szállítási mód": "Posta",
                                    "DB": "7"
                                },
                                {
                                    "LOGIN": "attila1",
                                    "Szállítási mód": "Személyes átvétel",
                                    "DB": "6"
                                },
                                {
                                    "LOGIN": "attila1",
                                    "Szállítási mód": "NULL",
                                    "DB": "18"
                                },
                                {
                                    "LOGIN": "attila4",
                                    "Szállítási mód": "GLS",
                                    "DB": "135"
                                },
                                {
                                    "LOGIN": "attila4",
                                    "Szállítási mód": "Posta",
                                    "DB": "125"
                                },
                                {
                                    "LOGIN": "attila4",
                                    "Szállítási mód": "Személyes átvétel",
                                    "DB": "141"
                                },
                                {
                                    "LOGIN": "attila4",
                                    "Szállítási mód": "NULL",
                                    "DB": "401"
                                },
                                {
                                    "LOGIN": "ATTILAO",
                                    "Szállítási mód": "GLS",
                                    "DB": "4"
                                },
                                {
                                    "LOGIN": "ATTILAO",
                                    "Szállítási mód": "Posta",
                                    "DB": "4"
                                },
                                {
                                    "LOGIN": "ATTILAO",
                                    "Szállítási mód": "Személyes átvétel",
                                    "DB": "6"
                                },
                                {
                                    "LOGIN": "ATTILAO",
                                    "Szállítási mód": "NULL",
                                    "DB": "14"
                                },
                                {
                                    "LOGIN": "balazs1",
                                    "Szállítási mód": "GLS",
                                    "DB": "128"
                                },
                                {
                                    "LOGIN": "balazs1",
                                    "Szállítási mód": "Posta",
                                    "DB": "136"
                                },
                                {
                                    "LOGIN": "balazs1",
                                    "Szállítási mód": "Személyes átvétel",
                                    "DB": "155"
                                },
                                {
                                    "LOGIN": "balazs1",
                                    "Szállítási mód": "NULL",
                                    "DB": "419"
                                },
                                {
                                    "LOGIN": "balazs2",
                                    "Szállítási mód": "GLS",
                                    "DB": "5"
                                },
                                {
                                    "LOGIN": "balazs2",
                                    "Szállítási mód": "Posta",
                                    "DB": "7"
                                },
                                {
                                    "LOGIN": "balazs2",
                                    "Szállítási mód": "Személyes átvétel",
                                    "DB": "5"
                                },
                                {
                                    "LOGIN": "balazs2",
                                    "Szállítási mód": "NULL",
                                    "DB": "17"
                                },
                                {
                                    "LOGIN": "balazs3",
                                    "Szállítási mód": "GLS",
                                    "DB": "6"
                                },
                                {
                                    "LOGIN": "balazs3",
                                    "Szállítási mód": "Posta",
                                    "DB": "6"
                                },
                                {
                                    "LOGIN": "balazs3",
                                    "Szállítási mód": "Személyes átvétel",
                                    "DB": "3"
                                },
                                {
                                    "LOGIN": "balazs3",
                                    "Szállítási mód": "NULL",
                                    "DB": "15"
                                },
                                {
                                    "LOGIN": "balint",
                                    "Szállítási mód": "GLS",
                                    "DB": "10"
                                },
                                {
                                    "LOGIN": "balint",
                                    "Szállítási mód": "Posta",
                                    "DB": "4"
                                },
                                {
                                    "LOGIN": "balint",
                                    "Szállítási mód": "Személyes átvétel",
                                    "DB": "2"
                                },
                                {
                                    "LOGIN": "balint",
                                    "Szállítási mód": "NULL",
                                    "DB": "16"
                                },
                                {
                                    "LOGIN": "balint1",
                                    "Szállítási mód": "GLS",
                                    "DB": "158"
                                },
                                {
                                    "LOGIN": "balint1",
                                    "Szállítási mód": "Posta",
                                    "DB": "152"
                                },
                                {
                                    "LOGIN": "balint1",
                                    "Szállítási mód": "Személyes átvétel",
                                    "DB": "152"
                                },
                                {
                                    "LOGIN": "balint1",
                                    "Szállítási mód": "NULL",
                                    "DB": "462"
                                },
                                {
                                    "LOGIN": "balint2",
                                    "Szállítási mód": "GLS",
                                    "DB": "8"
                                },
                                {
                                    "LOGIN": "balint2",
                                    "Szállítási mód": "Posta",
                                    "DB": "6"
                                },
                                {
                                    "LOGIN": "balint2",
                                    "Szállítási mód": "Személyes átvétel",
                                    "DB": "3"
                                },
                                {
                                    "LOGIN": "balint2",
                                    "Szállítási mód": "NULL",
                                    "DB": "17"
                                },
                                {
                                    "LOGIN": "balu",
                                    "Szállítási mód": "GLS",
                                    "DB": "127"
                                },
                                {
                                    "LOGIN": "balu",
                                    "Szállítási mód": "Posta",
                                    "DB": "137"
                                },
                                {
                                    "LOGIN": "balu",
                                    "Szállítási mód": "Személyes átvétel",
                                    "DB": "123"
                                },
                                {
                                    "LOGIN": "balu",
                                    "Szállítási mód": "NULL",
                                    "DB": "387"
                                },
                                {
                                    "LOGIN": "BEATRIXK",
                                    "Szállítási mód": "GLS",
                                    "DB": "135"
                                },
                                {
                                    "LOGIN": "BEATRIXK",
                                    "Szállítási mód": "Posta",
                                    "DB": "155"
                                },
                                {
                                    "LOGIN": "BEATRIXK",
                                    "Szállítási mód": "Személyes átvétel",
                                    "DB": "145"
                                },
                                {
                                    "LOGIN": "BEATRIXK",
                                    "Szállítási mód": "NULL",
                                    "DB": "435"
                                },
                                {
                                    "LOGIN": "BEATRIXS",
                                    "Szállítási mód": "GLS",
                                    "DB": "146"
                                },
                                {
                                    "LOGIN": "BEATRIXS",
                                    "Szállítási mód": "Posta",
                                    "DB": "141"
                                },
                                {
                                    "LOGIN": "BEATRIXS",
                                    "Szállítási mód": "Személyes átvétel",
                                    "DB": "133"
                                },
                                {
                                    "LOGIN": "BEATRIXS",
                                    "Szállítási mód": "NULL",
                                    "DB": "420"
                                },
                                {
                                    "LOGIN": "BELAF",
                                    "Szállítási mód": "GLS",
                                    "DB": "11"
                                },
                                {
                                    "LOGIN": "BELAF",
                                    "Szállítási mód": "Posta",
                                    "DB": "2"
                                },
                                {
                                    "LOGIN": "BELAF",
                                    "Szállítási mód": "Személyes átvétel",
                                    "DB": "5"
                                },
                                {
                                    "LOGIN": "BELAF",
                                    "Szállítási mód": "NULL",
                                    "DB": "18"
                                },
                                {
                                    "LOGIN": "bence",
                                    "Szállítási mód": "GLS",
                                    "DB": "4"
                                },
                                {
                                    "LOGIN": "bence",
                                    "Szállítási mód": "Posta",
                                    "DB": "6"
                                },
                                {
                                    "LOGIN": "bence",
                                    "Szállítási mód": "Személyes átvétel",
                                    "DB": "8"
                                },
                                {
                                    "LOGIN": "bence",
                                    "Szállítási mód": "NULL",
                                    "DB": "18"
                                },
                                {
                                    "LOGIN": "BENCEB",
                                    "Szállítási mód": "GLS",
                                    "DB": "5"
                                },
                                {
                                    "LOGIN": "BENCEB",
                                    "Szállítási mód": "Posta",
                                    "DB": "7"
                                },
                                {
                                    "LOGIN": "BENCEB",
                                    "Szállítási mód": "Személyes átvétel",
                                    "DB": "5"
                                },
                                {
                                    "LOGIN": "BENCEB",
                                    "Szállítási mód": "NULL",
                                    "DB": "17"
                                },
                                {
                                    "LOGIN": "bernadett1",
                                    "Szállítási mód": "GLS",
                                    "DB": "10"
                                },
                                {
                                    "LOGIN": "bernadett1",
                                    "Szállítási mód": "Posta",
                                    "DB": "5"
                                },
                                {
                                    "LOGIN": "bernadett1",
                                    "Szállítási mód": "Személyes átvétel",
                                    "DB": "5"
                                },
                                {
                                    "LOGIN": "bernadett1",
                                    "Szállítási mód": "NULL",
                                    "DB": "20"
                                },
                                {
                                    "LOGIN": "bernadett2",
                                    "Szállítási mód": "GLS",
                                    "DB": "6"
                                },
                                {
                                    "LOGIN": "bernadett2",
                                    "Szállítási mód": "Posta",
                                    "DB": "2"
                                },
                                {
                                    "LOGIN": "bernadett2",
                                    "Szállítási mód": "Személyes átvétel",
                                    "DB": "7"
                                },
                                {
                                    "LOGIN": "bernadett2",
                                    "Szállítási mód": "NULL",
                                    "DB": "15"
                                },
                                {
                                    "LOGIN": "BERNADETTO",
                                    "Szállítási mód": "GLS",
                                    "DB": "7"
                                },
                                {
                                    "LOGIN": "BERNADETTO",
                                    "Szállítási mód": "Posta",
                                    "DB": "2"
                                },
                                {
                                    "LOGIN": "BERNADETTO",
                                    "Szállítási mód": "Személyes átvétel",
                                    "DB": "7"
                                },
                                {
                                    "LOGIN": "BERNADETTO",
                                    "Szállítási mód": "NULL",
                                    "DB": "16"
                                },
                                {
                                    "LOGIN": "bertalan",
                                    "Szállítási mód": "GLS",
                                    "DB": "128"
                                },
                                {
                                    "LOGIN": "bertalan",
                                    "Szállítási mód": "Posta",
                                    "DB": "124"
                                },
                                {
                                    "LOGIN": "bertalan",
                                    "Szállítási mód": "Személyes átvétel",
                                    "DB": "101"
                                },
                                {
                                    "LOGIN": "bertalan",
                                    "Szállítási mód": "NULL",
                                    "DB": "353"
                                },
                                {
                                    "LOGIN": "brigitta",
                                    "Szállítási mód": "GLS",
                                    "DB": "137"
                                },
                                {
                                    "LOGIN": "brigitta",
                                    "Szállítási mód": "Posta",
                                    "DB": "137"
                                },
                                {
                                    "LOGIN": "brigitta",
                                    "Szállítási mód": "Személyes átvétel",
                                    "DB": "119"
                                },
                                {
                                    "LOGIN": "brigitta",
                                    "Szállítási mód": "NULL",
                                    "DB": "393"
                                },
                                {
                                    "LOGIN": "brigitta3",
                                    "Szállítási mód": "GLS",
                                    "DB": "144"
                                },
                                {
                                    "LOGIN": "brigitta3",
                                    "Szállítási mód": "Posta",
                                    "DB": "130"
                                },
                                {
                                    "LOGIN": "brigitta3",
                                    "Szállítási mód": "Személyes átvétel",
                                    "DB": "139"
                                },
                                {
                                    "LOGIN": "brigitta3",
                                    "Szállítási mód": "NULL",
                                    "DB": "413"
                                },
                                {
                                    "LOGIN": "csongor3",
                                    "Szállítási mód": "GLS",
                                    "DB": "5"
                                },
                                {
                                    "LOGIN": "csongor3",
                                    "Szállítási mód": "Posta",
                                    "DB": "2"
                                },
                                {
                                    "LOGIN": "csongor3",
                                    "Szállítási mód": "Személyes átvétel",
                                    "DB": "8"
                                },
                                {
                                    "LOGIN": "csongor3",
                                    "Szállítási mód": "NULL",
                                    "DB": "15"
                                },
                                {
                                    "LOGIN": "dani",
                                    "Szállítási mód": "GLS",
                                    "DB": "5"
                                },
                                {
                                    "LOGIN": "dani",
                                    "Szállítási mód": "Személyes átvétel",
                                    "DB": "8"
                                },
                                {
                                    "LOGIN": "dani",
                                    "Szállítási mód": "NULL",
                                    "DB": "13"
                                },
                                {
                                    "LOGIN": "daniel",
                                    "Szállítási mód": "GLS",
                                    "DB": "7"
                                },
                                {
                                    "LOGIN": "daniel",
                                    "Szállítási mód": "Posta",
                                    "DB": "2"
                                },
                                {
                                    "LOGIN": "daniel",
                                    "Szállítási mód": "Személyes átvétel",
                                    "DB": "4"
                                },
                                {
                                    "LOGIN": "daniel",
                                    "Szállítási mód": "NULL",
                                    "DB": "13"
                                },
                                {
                                    "LOGIN": "daniel1",
                                    "Szállítási mód": "GLS",
                                    "DB": "156"
                                },
                                {
                                    "LOGIN": "daniel1",
                                    "Szállítási mód": "Posta",
                                    "DB": "131"
                                },
                                {
                                    "LOGIN": "daniel1",
                                    "Szállítási mód": "Személyes átvétel",
                                    "DB": "132"
                                },
                                {
                                    "LOGIN": "daniel1",
                                    "Szállítási mód": "NULL",
                                    "DB": "419"
                                },
                                {
                                    "LOGIN": "david",
                                    "Szállítási mód": "GLS",
                                    "DB": "161"
                                },
                                {
                                    "LOGIN": "david",
                                    "Szállítási mód": "Posta",
                                    "DB": "144"
                                },
                                {
                                    "LOGIN": "david",
                                    "Szállítási mód": "Személyes átvétel",
                                    "DB": "146"
                                },
                                {
                                    "LOGIN": "david",
                                    "Szállítási mód": "NULL",
                                    "DB": "451"
                                },
                                {
                                    "LOGIN": "david1",
                                    "Szállítási mód": "GLS",
                                    "DB": "8"
                                },
                                {
                                    "LOGIN": "david1",
                                    "Szállítási mód": "Posta",
                                    "DB": "1"
                                },
                                {
                                    "LOGIN": "david1",
                                    "Szállítási mód": "Személyes átvétel",
                                    "DB": "8"
                                },
                                {
                                    "LOGIN": "david1",
                                    "Szállítási mód": "NULL",
                                    "DB": "17"
                                },
                                {
                                    "LOGIN": "david4",
                                    "Szállítási mód": "GLS",
                                    "DB": "3"
                                },
                                {
                                    "LOGIN": "david4",
                                    "Szállítási mód": "Posta",
                                    "DB": "8"
                                },
                                {
                                    "LOGIN": "david4",
                                    "Szállítási mód": "Személyes átvétel",
                                    "DB": "10"
                                },
                                {
                                    "LOGIN": "david4",
                                    "Szállítási mód": "NULL",
                                    "DB": "21"
                                },
                                {
                                    "LOGIN": "debora",
                                    "Szállítási mód": "GLS",
                                    "DB": "7"
                                },
                                {
                                    "LOGIN": "debora",
                                    "Szállítási mód": "Posta",
                                    "DB": "6"
                                },
                                {
                                    "LOGIN": "debora",
                                    "Szállítási mód": "Személyes átvétel",
                                    "DB": "3"
                                },
                                {
                                    "LOGIN": "debora",
                                    "Szállítási mód": "NULL",
                                    "DB": "16"
                                },
                                {
                                    "LOGIN": "denes",
                                    "Szállítási mód": "GLS",
                                    "DB": "3"
                                },
                                {
                                    "LOGIN": "denes",
                                    "Szállítási mód": "Posta",
                                    "DB": "2"
                                },
                                {
                                    "LOGIN": "denes",
                                    "Szállítási mód": "Személyes átvétel",
                                    "DB": "4"
                                },
                                {
                                    "LOGIN": "denes",
                                    "Szállítási mód": "NULL",
                                    "DB": "9"
                                },
                                {
                                    "LOGIN": "dora3",
                                    "Szállítási mód": "GLS",
                                    "DB": "144"
                                },
                                {
                                    "LOGIN": "dora3",
                                    "Szállítási mód": "Posta",
                                    "DB": "124"
                                },
                                {
                                    "LOGIN": "dora3",
                                    "Szállítási mód": "Személyes átvétel",
                                    "DB": "164"
                                },
                                {
                                    "LOGIN": "dora3",
                                    "Szállítási mód": "NULL",
                                    "DB": "432"
                                },
                                {
                                    "LOGIN": "edit",
                                    "Szállítási mód": "GLS",
                                    "DB": "7"
                                },
                                {
                                    "LOGIN": "edit",
                                    "Szállítási mód": "Posta",
                                    "DB": "2"
                                },
                                {
                                    "LOGIN": "edit",
                                    "Szállítási mód": "Személyes átvétel",
                                    "DB": "4"
                                },
                                {
                                    "LOGIN": "edit",
                                    "Szállítási mód": "NULL",
                                    "DB": "13"
                                },
                                {
                                    "LOGIN": "emese",
                                    "Szállítási mód": "GLS",
                                    "DB": "128"
                                },
                                {
                                    "LOGIN": "emese",
                                    "Szállítási mód": "Posta",
                                    "DB": "136"
                                },
                                {
                                    "LOGIN": "emese",
                                    "Szállítási mód": "Személyes átvétel",
                                    "DB": "142"
                                },
                                {
                                    "LOGIN": "emese",
                                    "Szállítási mód": "NULL",
                                    "DB": "406"
                                },
                                {
                                    "LOGIN": "eszter2",
                                    "Szállítási mód": "GLS",
                                    "DB": "127"
                                },
                                {
                                    "LOGIN": "eszter2",
                                    "Szállítási mód": "Posta",
                                    "DB": "136"
                                },
                                {
                                    "LOGIN": "eszter2",
                                    "Szállítási mód": "Személyes átvétel",
                                    "DB": "152"
                                },
                                {
                                    "LOGIN": "eszter2",
                                    "Szállítási mód": "NULL",
                                    "DB": "415"
                                },
                                {
                                    "LOGIN": "eszter4",
                                    "Szállítási mód": "GLS",
                                    "DB": "141"
                                },
                                {
                                    "LOGIN": "eszter4",
                                    "Szállítási mód": "Posta",
                                    "DB": "134"
                                },
                                {
                                    "LOGIN": "eszter4",
                                    "Szállítási mód": "Személyes átvétel",
                                    "DB": "149"
                                },
                                {
                                    "LOGIN": "eszter4",
                                    "Szállítási mód": "NULL",
                                    "DB": "424"
                                },
                                {
                                    "LOGIN": "ESZTERE",
                                    "Szállítási mód": "GLS",
                                    "DB": "6"
                                },
                                {
                                    "LOGIN": "ESZTERE",
                                    "Szállítási mód": "Posta",
                                    "DB": "9"
                                },
                                {
                                    "LOGIN": "ESZTERE",
                                    "Szállítási mód": "Személyes átvétel",
                                    "DB": "7"
                                },
                                {
                                    "LOGIN": "ESZTERE",
                                    "Szállítási mód": "NULL",
                                    "DB": "22"
                                },
                                {
                                    "LOGIN": "eva",
                                    "Szállítási mód": "GLS",
                                    "DB": "125"
                                },
                                {
                                    "LOGIN": "eva",
                                    "Szállítási mód": "Posta",
                                    "DB": "140"
                                },
                                {
                                    "LOGIN": "eva",
                                    "Szállítási mód": "Személyes átvétel",
                                    "DB": "139"
                                },
                                {
                                    "LOGIN": "eva",
                                    "Szállítási mód": "NULL",
                                    "DB": "404"
                                },
                                {
                                    "LOGIN": "eva2",
                                    "Szállítási mód": "GLS",
                                    "DB": "154"
                                },
                                {
                                    "LOGIN": "eva2",
                                    "Szállítási mód": "Posta",
                                    "DB": "138"
                                },
                                {
                                    "LOGIN": "eva2",
                                    "Szállítási mód": "Személyes átvétel",
                                    "DB": "170"
                                },
                                {
                                    "LOGIN": "eva2",
                                    "Szállítási mód": "NULL",
                                    "DB": "462"
                                },
                                {
                                    "LOGIN": "EVAV",
                                    "Szállítási mód": "GLS",
                                    "DB": "2"
                                },
                                {
                                    "LOGIN": "EVAV",
                                    "Szállítási mód": "Posta",
                                    "DB": "1"
                                },
                                {
                                    "LOGIN": "EVAV",
                                    "Szállítási mód": "Személyes átvétel",
                                    "DB": "4"
                                },
                                {
                                    "LOGIN": "EVAV",
                                    "Szállítási mód": "NULL",
                                    "DB": "7"
                                },
                                {
                                    "LOGIN": "ferenc1",
                                    "Szállítási mód": "GLS",
                                    "DB": "144"
                                },
                                {
                                    "LOGIN": "ferenc1",
                                    "Szállítási mód": "Posta",
                                    "DB": "158"
                                },
                                {
                                    "LOGIN": "ferenc1",
                                    "Szállítási mód": "Személyes átvétel",
                                    "DB": "135"
                                },
                                {
                                    "LOGIN": "ferenc1",
                                    "Szállítási mód": "NULL",
                                    "DB": "437"
                                },
                                {
                                    "LOGIN": "fruzsina4",
                                    "Szállítási mód": "GLS",
                                    "DB": "8"
                                },
                                {
                                    "LOGIN": "fruzsina4",
                                    "Szállítási mód": "Posta",
                                    "DB": "3"
                                },
                                {
                                    "LOGIN": "fruzsina4",
                                    "Szállítási mód": "Személyes átvétel",
                                    "DB": "7"
                                },
                                {
                                    "LOGIN": "fruzsina4",
                                    "Szállítási mód": "NULL",
                                    "DB": "18"
                                },
                                {
                                    "LOGIN": "gabor1",
                                    "Szállítási mód": "GLS",
                                    "DB": "9"
                                },
                                {
                                    "LOGIN": "gabor1",
                                    "Szállítási mód": "Posta",
                                    "DB": "5"
                                },
                                {
                                    "LOGIN": "gabor1",
                                    "Szállítási mód": "Személyes átvétel",
                                    "DB": "5"
                                },
                                {
                                    "LOGIN": "gabor1",
                                    "Szállítási mód": "NULL",
                                    "DB": "19"
                                },
                                {
                                    "LOGIN": "gabor4",
                                    "Szállítási mód": "GLS",
                                    "DB": "7"
                                },
                                {
                                    "LOGIN": "gabor4",
                                    "Szállítási mód": "Posta",
                                    "DB": "9"
                                },
                                {
                                    "LOGIN": "gabor4",
                                    "Szállítási mód": "Személyes átvétel",
                                    "DB": "4"
                                },
                                {
                                    "LOGIN": "gabor4",
                                    "Szállítási mód": "NULL",
                                    "DB": "20"
                                },
                                {
                                    "LOGIN": "GABORS",
                                    "Szállítási mód": "GLS",
                                    "DB": "5"
                                },
                                {
                                    "LOGIN": "GABORS",
                                    "Szállítási mód": "Posta",
                                    "DB": "6"
                                },
                                {
                                    "LOGIN": "GABORS",
                                    "Szállítási mód": "Személyes átvétel",
                                    "DB": "4"
                                },
                                {
                                    "LOGIN": "GABORS",
                                    "Szállítási mód": "NULL",
                                    "DB": "15"
                                },
                                {
                                    "LOGIN": "gabriella1",
                                    "Szállítási mód": "GLS",
                                    "DB": "5"
                                },
                                {
                                    "LOGIN": "gabriella1",
                                    "Szállítási mód": "Posta",
                                    "DB": "4"
                                },
                                {
                                    "LOGIN": "gabriella1",
                                    "Szállítási mód": "Személyes átvétel",
                                    "DB": "5"
                                },
                                {
                                    "LOGIN": "gabriella1",
                                    "Szállítási mód": "NULL",
                                    "DB": "14"
                                },
                                {
                                    "LOGIN": "gabriella10",
                                    "Szállítási mód": "GLS",
                                    "DB": "4"
                                },
                                {
                                    "LOGIN": "gabriella10",
                                    "Szállítási mód": "Posta",
                                    "DB": "5"
                                },
                                {
                                    "LOGIN": "gabriella10",
                                    "Szállítási mód": "Személyes átvétel",
                                    "DB": "7"
                                },
                                {
                                    "LOGIN": "gabriella10",
                                    "Szállítási mód": "NULL",
                                    "DB": "16"
                                },
                                {
                                    "LOGIN": "georgij",
                                    "Szállítási mód": "GLS",
                                    "DB": "9"
                                },
                                {
                                    "LOGIN": "georgij",
                                    "Szállítási mód": "Posta",
                                    "DB": "2"
                                },
                                {
                                    "LOGIN": "georgij",
                                    "Szállítási mód": "Személyes átvétel",
                                    "DB": "10"
                                },
                                {
                                    "LOGIN": "georgij",
                                    "Szállítási mód": "NULL",
                                    "DB": "21"
                                },
                                {
                                    "LOGIN": "gusztav",
                                    "Szállítási mód": "GLS",
                                    "DB": "5"
                                },
                                {
                                    "LOGIN": "gusztav",
                                    "Szállítási mód": "Posta",
                                    "DB": "4"
                                },
                                {
                                    "LOGIN": "gusztav",
                                    "Szállítási mód": "Személyes átvétel",
                                    "DB": "5"
                                },
                                {
                                    "LOGIN": "gusztav",
                                    "Szállítási mód": "NULL",
                                    "DB": "14"
                                },
                                {
                                    "LOGIN": "GYONGYIK",
                                    "Szállítási mód": "GLS",
                                    "DB": "6"
                                },
                                {
                                    "LOGIN": "GYONGYIK",
                                    "Szállítási mód": "Posta",
                                    "DB": "6"
                                },
                                {
                                    "LOGIN": "GYONGYIK",
                                    "Szállítási mód": "Személyes átvétel",
                                    "DB": "3"
                                },
                                {
                                    "LOGIN": "GYONGYIK",
                                    "Szállítási mód": "NULL",
                                    "DB": "15"
                                },
                                {
                                    "LOGIN": "GYORGYO",
                                    "Szállítási mód": "GLS",
                                    "DB": "7"
                                },
                                {
                                    "LOGIN": "GYORGYO",
                                    "Szállítási mód": "Posta",
                                    "DB": "4"
                                },
                                {
                                    "LOGIN": "GYORGYO",
                                    "Szállítási mód": "Személyes átvétel",
                                    "DB": "5"
                                },
                                {
                                    "LOGIN": "GYORGYO",
                                    "Szállítási mód": "NULL",
                                    "DB": "16"
                                },
                                {
                                    "LOGIN": "henrik3",
                                    "Szállítási mód": "GLS",
                                    "DB": "7"
                                },
                                {
                                    "LOGIN": "henrik3",
                                    "Szállítási mód": "Posta",
                                    "DB": "4"
                                },
                                {
                                    "LOGIN": "henrik3",
                                    "Szállítási mód": "Személyes átvétel",
                                    "DB": "5"
                                },
                                {
                                    "LOGIN": "henrik3",
                                    "Szállítási mód": "NULL",
                                    "DB": "16"
                                },
                                {
                                    "LOGIN": "IBOLYAA",
                                    "Szállítási mód": "GLS",
                                    "DB": "140"
                                },
                                {
                                    "LOGIN": "IBOLYAA",
                                    "Szállítási mód": "Posta",
                                    "DB": "125"
                                },
                                {
                                    "LOGIN": "IBOLYAA",
                                    "Szállítási mód": "Személyes átvétel",
                                    "DB": "157"
                                },
                                {
                                    "LOGIN": "IBOLYAA",
                                    "Szállítási mód": "NULL",
                                    "DB": "422"
                                },
                                {
                                    "LOGIN": "ilona3",
                                    "Szállítási mód": "GLS",
                                    "DB": "9"
                                },
                                {
                                    "LOGIN": "ilona3",
                                    "Szállítási mód": "Posta",
                                    "DB": "2"
                                },
                                {
                                    "LOGIN": "ilona3",
                                    "Szállítási mód": "Személyes átvétel",
                                    "DB": "7"
                                },
                                {
                                    "LOGIN": "ilona3",
                                    "Szállítási mód": "NULL",
                                    "DB": "18"
                                },
                                {
                                    "LOGIN": "imre",
                                    "Szállítási mód": "GLS",
                                    "DB": "5"
                                },
                                {
                                    "LOGIN": "imre",
                                    "Szállítási mód": "Posta",
                                    "DB": "4"
                                },
                                {
                                    "LOGIN": "imre",
                                    "Szállítási mód": "Személyes átvétel",
                                    "DB": "6"
                                },
                                {
                                    "LOGIN": "imre",
                                    "Szállítási mód": "NULL",
                                    "DB": "15"
                                },
                                {
                                    "LOGIN": "imre1",
                                    "Szállítási mód": "GLS",
                                    "DB": "8"
                                },
                                {
                                    "LOGIN": "imre1",
                                    "Szállítási mód": "Posta",
                                    "DB": "4"
                                },
                                {
                                    "LOGIN": "imre1",
                                    "Szállítási mód": "Személyes átvétel",
                                    "DB": "3"
                                },
                                {
                                    "LOGIN": "imre1",
                                    "Szállítási mód": "NULL",
                                    "DB": "15"
                                },
                                {
                                    "LOGIN": "istvan",
                                    "Szállítási mód": "GLS",
                                    "DB": "3"
                                },
                                {
                                    "LOGIN": "istvan",
                                    "Szállítási mód": "Posta",
                                    "DB": "4"
                                },
                                {
                                    "LOGIN": "istvan",
                                    "Szállítási mód": "Személyes átvétel",
                                    "DB": "4"
                                },
                                {
                                    "LOGIN": "istvan",
                                    "Szállítási mód": "NULL",
                                    "DB": "11"
                                },
                                {
                                    "LOGIN": "istvan1",
                                    "Szállítási mód": "GLS",
                                    "DB": "8"
                                },
                                {
                                    "LOGIN": "istvan1",
                                    "Szállítási mód": "Posta",
                                    "DB": "4"
                                },
                                {
                                    "LOGIN": "istvan1",
                                    "Szállítási mód": "Személyes átvétel",
                                    "DB": "7"
                                },
                                {
                                    "LOGIN": "istvan1",
                                    "Szállítási mód": "NULL",
                                    "DB": "19"
                                },
                                {
                                    "LOGIN": "ISTVANV",
                                    "Szállítási mód": "GLS",
                                    "DB": "4"
                                },
                                {
                                    "LOGIN": "ISTVANV",
                                    "Szállítási mód": "Posta",
                                    "DB": "9"
                                },
                                {
                                    "LOGIN": "ISTVANV",
                                    "Szállítási mód": "Személyes átvétel",
                                    "DB": "8"
                                },
                                {
                                    "LOGIN": "ISTVANV",
                                    "Szállítási mód": "NULL",
                                    "DB": "21"
                                },
                                {
                                    "LOGIN": "janos3",
                                    "Szállítási mód": "GLS",
                                    "DB": "5"
                                },
                                {
                                    "LOGIN": "janos3",
                                    "Szállítási mód": "Posta",
                                    "DB": "2"
                                },
                                {
                                    "LOGIN": "janos3",
                                    "Szállítási mód": "Személyes átvétel",
                                    "DB": "6"
                                },
                                {
                                    "LOGIN": "janos3",
                                    "Szállítási mód": "NULL",
                                    "DB": "13"
                                },
                                {
                                    "LOGIN": "JANOSG",
                                    "Szállítási mód": "GLS",
                                    "DB": "3"
                                },
                                {
                                    "LOGIN": "JANOSG",
                                    "Szállítási mód": "Posta",
                                    "DB": "3"
                                },
                                {
                                    "LOGIN": "JANOSG",
                                    "Szállítási mód": "Személyes átvétel",
                                    "DB": "4"
                                },
                                {
                                    "LOGIN": "JANOSG",
                                    "Szállítási mód": "NULL",
                                    "DB": "10"
                                },
                                {
                                    "LOGIN": "JANOSP",
                                    "Szállítási mód": "GLS",
                                    "DB": "7"
                                },
                                {
                                    "LOGIN": "JANOSP",
                                    "Szállítási mód": "Posta",
                                    "DB": "7"
                                },
                                {
                                    "LOGIN": "JANOSP",
                                    "Szállítási mód": "Személyes átvétel",
                                    "DB": "3"
                                },
                                {
                                    "LOGIN": "JANOSP",
                                    "Szállítási mód": "NULL",
                                    "DB": "17"
                                },
                                {
                                    "LOGIN": "jozsef",
                                    "Szállítási mód": "GLS",
                                    "DB": "116"
                                },
                                {
                                    "LOGIN": "jozsef",
                                    "Szállítási mód": "Posta",
                                    "DB": "132"
                                },
                                {
                                    "LOGIN": "jozsef",
                                    "Szállítási mód": "Személyes átvétel",
                                    "DB": "134"
                                },
                                {
                                    "LOGIN": "jozsef",
                                    "Szállítási mód": "NULL",
                                    "DB": "382"
                                },
                                {
                                    "LOGIN": "jozsef2",
                                    "Szállítási mód": "GLS",
                                    "DB": "7"
                                },
                                {
                                    "LOGIN": "jozsef2",
                                    "Szállítási mód": "Posta",
                                    "DB": "2"
                                },
                                {
                                    "LOGIN": "jozsef2",
                                    "Szállítási mód": "Személyes átvétel",
                                    "DB": "4"
                                },
                                {
                                    "LOGIN": "jozsef2",
                                    "Szállítási mód": "NULL",
                                    "DB": "13"
                                },
                                {
                                    "LOGIN": "JOZSEFG",
                                    "Szállítási mód": "GLS",
                                    "DB": "11"
                                },
                                {
                                    "LOGIN": "JOZSEFG",
                                    "Szállítási mód": "Posta",
                                    "DB": "1"
                                },
                                {
                                    "LOGIN": "JOZSEFG",
                                    "Szállítási mód": "Személyes átvétel",
                                    "DB": "9"
                                },
                                {
                                    "LOGIN": "JOZSEFG",
                                    "Szállítási mód": "NULL",
                                    "DB": "21"
                                },
                                {
                                    "LOGIN": "JUDITH",
                                    "Szállítási mód": "GLS",
                                    "DB": "170"
                                },
                                {
                                    "LOGIN": "JUDITH",
                                    "Szállítási mód": "Posta",
                                    "DB": "130"
                                },
                                {
                                    "LOGIN": "JUDITH",
                                    "Szállítási mód": "Személyes átvétel",
                                    "DB": "150"
                                },
                                {
                                    "LOGIN": "JUDITH",
                                    "Szállítási mód": "NULL",
                                    "DB": "450"
                                },
                                {
                                    "LOGIN": "julia",
                                    "Szállítási mód": "GLS",
                                    "DB": "137"
                                },
                                {
                                    "LOGIN": "julia",
                                    "Szállítási mód": "Posta",
                                    "DB": "160"
                                },
                                {
                                    "LOGIN": "julia",
                                    "Szállítási mód": "Személyes átvétel",
                                    "DB": "138"
                                },
                                {
                                    "LOGIN": "julia",
                                    "Szállítási mód": "NULL",
                                    "DB": "435"
                                },
                                {
                                    "LOGIN": "julia4",
                                    "Szállítási mód": "GLS",
                                    "DB": "2"
                                },
                                {
                                    "LOGIN": "julia4",
                                    "Szállítási mód": "Posta",
                                    "DB": "4"
                                },
                                {
                                    "LOGIN": "julia4",
                                    "Szállítási mód": "Személyes átvétel",
                                    "DB": "8"
                                },
                                {
                                    "LOGIN": "julia4",
                                    "Szállítási mód": "NULL",
                                    "DB": "14"
                                },
                                {
                                    "LOGIN": "julianna4",
                                    "Szállítási mód": "GLS",
                                    "DB": "8"
                                },
                                {
                                    "LOGIN": "julianna4",
                                    "Szállítási mód": "Posta",
                                    "DB": "12"
                                },
                                {
                                    "LOGIN": "julianna4",
                                    "Szállítási mód": "Személyes átvétel",
                                    "DB": "7"
                                },
                                {
                                    "LOGIN": "julianna4",
                                    "Szállítási mód": "NULL",
                                    "DB": "27"
                                },
                                {
                                    "LOGIN": "kata",
                                    "Szállítási mód": "GLS",
                                    "DB": "5"
                                },
                                {
                                    "LOGIN": "kata",
                                    "Szállítási mód": "Posta",
                                    "DB": "4"
                                },
                                {
                                    "LOGIN": "kata",
                                    "Szállítási mód": "Személyes átvétel",
                                    "DB": "3"
                                },
                                {
                                    "LOGIN": "kata",
                                    "Szállítási mód": "NULL",
                                    "DB": "12"
                                },
                                {
                                    "LOGIN": "katalin",
                                    "Szállítási mód": "GLS",
                                    "DB": "7"
                                },
                                {
                                    "LOGIN": "katalin",
                                    "Szállítási mód": "Posta",
                                    "DB": "7"
                                },
                                {
                                    "LOGIN": "katalin",
                                    "Szállítási mód": "Személyes átvétel",
                                    "DB": "5"
                                },
                                {
                                    "LOGIN": "katalin",
                                    "Szállítási mód": "NULL",
                                    "DB": "19"
                                },
                                {
                                    "LOGIN": "katalin4",
                                    "Szállítási mód": "GLS",
                                    "DB": "7"
                                },
                                {
                                    "LOGIN": "katalin4",
                                    "Szállítási mód": "Posta",
                                    "DB": "5"
                                },
                                {
                                    "LOGIN": "katalin4",
                                    "Szállítási mód": "Személyes átvétel",
                                    "DB": "11"
                                },
                                {
                                    "LOGIN": "katalin4",
                                    "Szállítási mód": "NULL",
                                    "DB": "23"
                                },
                                {
                                    "LOGIN": "kati",
                                    "Szállítási mód": "GLS",
                                    "DB": "4"
                                },
                                {
                                    "LOGIN": "kati",
                                    "Szállítási mód": "Posta",
                                    "DB": "5"
                                },
                                {
                                    "LOGIN": "kati",
                                    "Szállítási mód": "Személyes átvétel",
                                    "DB": "4"
                                },
                                {
                                    "LOGIN": "kati",
                                    "Szállítási mód": "NULL",
                                    "DB": "13"
                                },
                                {
                                    "LOGIN": "katka",
                                    "Szállítási mód": "GLS",
                                    "DB": "6"
                                },
                                {
                                    "LOGIN": "katka",
                                    "Szállítási mód": "Posta",
                                    "DB": "6"
                                },
                                {
                                    "LOGIN": "katka",
                                    "Szállítási mód": "Személyes átvétel",
                                    "DB": "10"
                                },
                                {
                                    "LOGIN": "katka",
                                    "Szállítási mód": "NULL",
                                    "DB": "22"
                                },
                                {
                                    "LOGIN": "klaudia2",
                                    "Szállítási mód": "GLS",
                                    "DB": "3"
                                },
                                {
                                    "LOGIN": "klaudia2",
                                    "Szállítási mód": "Posta",
                                    "DB": "9"
                                },
                                {
                                    "LOGIN": "klaudia2",
                                    "Szállítási mód": "Személyes átvétel",
                                    "DB": "5"
                                },
                                {
                                    "LOGIN": "klaudia2",
                                    "Szállítási mód": "NULL",
                                    "DB": "17"
                                },
                                {
                                    "LOGIN": "kornel4",
                                    "Szállítási mód": "GLS",
                                    "DB": "3"
                                },
                                {
                                    "LOGIN": "kornel4",
                                    "Szállítási mód": "Posta",
                                    "DB": "1"
                                },
                                {
                                    "LOGIN": "kornel4",
                                    "Szállítási mód": "Személyes átvétel",
                                    "DB": "7"
                                },
                                {
                                    "LOGIN": "kornel4",
                                    "Szállítási mód": "NULL",
                                    "DB": "11"
                                },
                                {
                                    "LOGIN": "kristof4",
                                    "Szállítási mód": "GLS",
                                    "DB": "9"
                                },
                                {
                                    "LOGIN": "kristof4",
                                    "Szállítási mód": "Posta",
                                    "DB": "4"
                                },
                                {
                                    "LOGIN": "kristof4",
                                    "Szállítási mód": "Személyes átvétel",
                                    "DB": "8"
                                },
                                {
                                    "LOGIN": "kristof4",
                                    "Szállítási mód": "NULL",
                                    "DB": "21"
                                },
                                {
                                    "LOGIN": "kriszti",
                                    "Szállítási mód": "GLS",
                                    "DB": "3"
                                },
                                {
                                    "LOGIN": "kriszti",
                                    "Szállítási mód": "Posta",
                                    "DB": "5"
                                },
                                {
                                    "LOGIN": "kriszti",
                                    "Szállítási mód": "Személyes átvétel",
                                    "DB": "5"
                                },
                                {
                                    "LOGIN": "kriszti",
                                    "Szállítási mód": "NULL",
                                    "DB": "13"
                                },
                                {
                                    "LOGIN": "krisztian4",
                                    "Szállítási mód": "GLS",
                                    "DB": "5"
                                },
                                {
                                    "LOGIN": "krisztian4",
                                    "Szállítási mód": "Posta",
                                    "DB": "6"
                                },
                                {
                                    "LOGIN": "krisztian4",
                                    "Szállítási mód": "Személyes átvétel",
                                    "DB": "6"
                                },
                                {
                                    "LOGIN": "krisztian4",
                                    "Szállítási mód": "NULL",
                                    "DB": "17"
                                },
                                {
                                    "LOGIN": "KRISZTIANM",
                                    "Szállítási mód": "GLS",
                                    "DB": "118"
                                },
                                {
                                    "LOGIN": "KRISZTIANM",
                                    "Szállítási mód": "Posta",
                                    "DB": "136"
                                },
                                {
                                    "LOGIN": "KRISZTIANM",
                                    "Szállítási mód": "Személyes átvétel",
                                    "DB": "130"
                                },
                                {
                                    "LOGIN": "KRISZTIANM",
                                    "Szállítási mód": "NULL",
                                    "DB": "384"
                                },
                                {
                                    "LOGIN": "krisztina",
                                    "Szállítási mód": "GLS",
                                    "DB": "149"
                                },
                                {
                                    "LOGIN": "krisztina",
                                    "Szállítási mód": "Posta",
                                    "DB": "150"
                                },
                                {
                                    "LOGIN": "krisztina",
                                    "Szállítási mód": "Személyes átvétel",
                                    "DB": "157"
                                },
                                {
                                    "LOGIN": "krisztina",
                                    "Szállítási mód": "NULL",
                                    "DB": "456"
                                },
                                {
                                    "LOGIN": "krisztina1",
                                    "Szállítási mód": "GLS",
                                    "DB": "10"
                                },
                                {
                                    "LOGIN": "krisztina1",
                                    "Szállítási mód": "Posta",
                                    "DB": "4"
                                },
                                {
                                    "LOGIN": "krisztina1",
                                    "Szállítási mód": "Személyes átvétel",
                                    "DB": "8"
                                },
                                {
                                    "LOGIN": "krisztina1",
                                    "Szállítási mód": "NULL",
                                    "DB": "22"
                                },
                                {
                                    "LOGIN": "KRISZTINAG",
                                    "Szállítási mód": "GLS",
                                    "DB": "6"
                                },
                                {
                                    "LOGIN": "KRISZTINAG",
                                    "Szállítási mód": "Posta",
                                    "DB": "6"
                                },
                                {
                                    "LOGIN": "KRISZTINAG",
                                    "Szállítási mód": "Személyes átvétel",
                                    "DB": "10"
                                },
                                {
                                    "LOGIN": "KRISZTINAG",
                                    "Szállítási mód": "NULL",
                                    "DB": "22"
                                },
                                {
                                    "LOGIN": "lajos",
                                    "Szállítási mód": "GLS",
                                    "DB": "5"
                                },
                                {
                                    "LOGIN": "lajos",
                                    "Szállítási mód": "Posta",
                                    "DB": "2"
                                },
                                {
                                    "LOGIN": "lajos",
                                    "Szállítási mód": "Személyes átvétel",
                                    "DB": "9"
                                },
                                {
                                    "LOGIN": "lajos",
                                    "Szállítási mód": "NULL",
                                    "DB": "16"
                                },
                                {
                                    "LOGIN": "lala",
                                    "Szállítási mód": "GLS",
                                    "DB": "5"
                                },
                                {
                                    "LOGIN": "lala",
                                    "Szállítási mód": "Posta",
                                    "DB": "3"
                                },
                                {
                                    "LOGIN": "lala",
                                    "Szállítási mód": "Személyes átvétel",
                                    "DB": "9"
                                },
                                {
                                    "LOGIN": "lala",
                                    "Szállítási mód": "NULL",
                                    "DB": "17"
                                },
                                {
                                    "LOGIN": "laszlo1",
                                    "Szállítási mód": "GLS",
                                    "DB": "130"
                                },
                                {
                                    "LOGIN": "laszlo1",
                                    "Szállítási mód": "Posta",
                                    "DB": "129"
                                },
                                {
                                    "LOGIN": "laszlo1",
                                    "Szállítási mód": "Személyes átvétel",
                                    "DB": "135"
                                },
                                {
                                    "LOGIN": "laszlo1",
                                    "Szállítási mód": "NULL",
                                    "DB": "394"
                                },
                                {
                                    "LOGIN": "laszlo2",
                                    "Szállítási mód": "GLS",
                                    "DB": "12"
                                },
                                {
                                    "LOGIN": "laszlo2",
                                    "Szállítási mód": "Posta",
                                    "DB": "6"
                                },
                                {
                                    "LOGIN": "laszlo2",
                                    "Szállítási mód": "Személyes átvétel",
                                    "DB": "7"
                                },
                                {
                                    "LOGIN": "laszlo2",
                                    "Szállítási mód": "NULL",
                                    "DB": "25"
                                },
                                {
                                    "LOGIN": "LASZLOA",
                                    "Szállítási mód": "GLS",
                                    "DB": "156"
                                },
                                {
                                    "LOGIN": "LASZLOA",
                                    "Szállítási mód": "Posta",
                                    "DB": "136"
                                },
                                {
                                    "LOGIN": "LASZLOA",
                                    "Szállítási mód": "Személyes átvétel",
                                    "DB": "154"
                                },
                                {
                                    "LOGIN": "LASZLOA",
                                    "Szállítási mód": "NULL",
                                    "DB": "446"
                                },
                                {
                                    "LOGIN": "LASZLON",
                                    "Szállítási mód": "GLS",
                                    "DB": "126"
                                },
                                {
                                    "LOGIN": "LASZLON",
                                    "Szállítási mód": "Posta",
                                    "DB": "131"
                                },
                                {
                                    "LOGIN": "LASZLON",
                                    "Szállítási mód": "Személyes átvétel",
                                    "DB": "143"
                                },
                                {
                                    "LOGIN": "LASZLON",
                                    "Szállítási mód": "NULL",
                                    "DB": "400"
                                },
                                {
                                    "LOGIN": "maria1",
                                    "Szállítási mód": "GLS",
                                    "DB": "4"
                                },
                                {
                                    "LOGIN": "maria1",
                                    "Szállítási mód": "Posta",
                                    "DB": "5"
                                },
                                {
                                    "LOGIN": "maria1",
                                    "Szállítási mód": "Személyes átvétel",
                                    "DB": "1"
                                },
                                {
                                    "LOGIN": "maria1",
                                    "Szállítási mód": "NULL",
                                    "DB": "10"
                                },
                                {
                                    "LOGIN": "MARKH",
                                    "Szállítási mód": "GLS",
                                    "DB": "128"
                                },
                                {
                                    "LOGIN": "MARKH",
                                    "Szállítási mód": "Posta",
                                    "DB": "142"
                                },
                                {
                                    "LOGIN": "MARKH",
                                    "Szállítási mód": "Személyes átvétel",
                                    "DB": "142"
                                },
                                {
                                    "LOGIN": "MARKH",
                                    "Szállítási mód": "NULL",
                                    "DB": "412"
                                },
                                {
                                    "LOGIN": "marton",
                                    "Szállítási mód": "GLS",
                                    "DB": "5"
                                },
                                {
                                    "LOGIN": "marton",
                                    "Szállítási mód": "Posta",
                                    "DB": "4"
                                },
                                {
                                    "LOGIN": "marton",
                                    "Szállítási mód": "Személyes átvétel",
                                    "DB": "5"
                                },
                                {
                                    "LOGIN": "marton",
                                    "Szállítási mód": "NULL",
                                    "DB": "14"
                                },
                                {
                                    "LOGIN": "MATEK",
                                    "Szállítási mód": "GLS",
                                    "DB": "6"
                                },
                                {
                                    "LOGIN": "MATEK",
                                    "Szállítási mód": "Posta",
                                    "DB": "10"
                                },
                                {
                                    "LOGIN": "MATEK",
                                    "Szállítási mód": "Személyes átvétel",
                                    "DB": "9"
                                },
                                {
                                    "LOGIN": "MATEK",
                                    "Szállítási mód": "NULL",
                                    "DB": "25"
                                },
                                {
                                    "LOGIN": "matyas2",
                                    "Szállítási mód": "GLS",
                                    "DB": "138"
                                },
                                {
                                    "LOGIN": "matyas2",
                                    "Szállítási mód": "Posta",
                                    "DB": "131"
                                },
                                {
                                    "LOGIN": "matyas2",
                                    "Szállítási mód": "Személyes átvétel",
                                    "DB": "164"
                                },
                                {
                                    "LOGIN": "matyas2",
                                    "Szállítási mód": "NULL",
                                    "DB": "433"
                                },
                                {
                                    "LOGIN": "MATYASS",
                                    "Szállítási mód": "GLS",
                                    "DB": "4"
                                },
                                {
                                    "LOGIN": "MATYASS",
                                    "Szállítási mód": "Posta",
                                    "DB": "5"
                                },
                                {
                                    "LOGIN": "MATYASS",
                                    "Szállítási mód": "Személyes átvétel",
                                    "DB": "3"
                                },
                                {
                                    "LOGIN": "MATYASS",
                                    "Szállítási mód": "NULL",
                                    "DB": "12"
                                },
                                {
                                    "LOGIN": "MIHALYJ",
                                    "Szállítási mód": "GLS",
                                    "DB": "3"
                                },
                                {
                                    "LOGIN": "MIHALYJ",
                                    "Szállítási mód": "Posta",
                                    "DB": "4"
                                },
                                {
                                    "LOGIN": "MIHALYJ",
                                    "Szállítási mód": "Személyes átvétel",
                                    "DB": "6"
                                },
                                {
                                    "LOGIN": "MIHALYJ",
                                    "Szállítási mód": "NULL",
                                    "DB": "13"
                                },
                                {
                                    "LOGIN": "miklos2",
                                    "Szállítási mód": "GLS",
                                    "DB": "7"
                                },
                                {
                                    "LOGIN": "miklos2",
                                    "Szállítási mód": "Posta",
                                    "DB": "4"
                                },
                                {
                                    "LOGIN": "miklos2",
                                    "Szállítási mód": "Személyes átvétel",
                                    "DB": "2"
                                },
                                {
                                    "LOGIN": "miklos2",
                                    "Szállítási mód": "NULL",
                                    "DB": "13"
                                },
                                {
                                    "LOGIN": "MIKLOSB",
                                    "Szállítási mód": "GLS",
                                    "DB": "6"
                                },
                                {
                                    "LOGIN": "MIKLOSB",
                                    "Szállítási mód": "Posta",
                                    "DB": "1"
                                },
                                {
                                    "LOGIN": "MIKLOSB",
                                    "Szállítási mód": "Személyes átvétel",
                                    "DB": "8"
                                },
                                {
                                    "LOGIN": "MIKLOSB",
                                    "Szállítási mód": "NULL",
                                    "DB": "15"
                                },
                                {
                                    "LOGIN": "MONIKAM",
                                    "Szállítási mód": "GLS",
                                    "DB": "133"
                                },
                                {
                                    "LOGIN": "MONIKAM",
                                    "Szállítási mód": "Posta",
                                    "DB": "151"
                                },
                                {
                                    "LOGIN": "MONIKAM",
                                    "Szállítási mód": "Személyes átvétel",
                                    "DB": "123"
                                },
                                {
                                    "LOGIN": "MONIKAM",
                                    "Szállítási mód": "NULL",
                                    "DB": "407"
                                },
                                {
                                    "LOGIN": "NANDORF",
                                    "Szállítási mód": "GLS",
                                    "DB": "147"
                                },
                                {
                                    "LOGIN": "NANDORF",
                                    "Szállítási mód": "Posta",
                                    "DB": "139"
                                },
                                {
                                    "LOGIN": "NANDORF",
                                    "Szállítási mód": "Személyes átvétel",
                                    "DB": "134"
                                },
                                {
                                    "LOGIN": "NANDORF",
                                    "Szállítási mód": "NULL",
                                    "DB": "420"
                                },
                                {
                                    "LOGIN": "nikolett3",
                                    "Szállítási mód": "GLS",
                                    "DB": "4"
                                },
                                {
                                    "LOGIN": "nikolett3",
                                    "Szállítási mód": "Posta",
                                    "DB": "3"
                                },
                                {
                                    "LOGIN": "nikolett3",
                                    "Szállítási mód": "Személyes átvétel",
                                    "DB": "10"
                                },
                                {
                                    "LOGIN": "nikolett3",
                                    "Szállítási mód": "NULL",
                                    "DB": "17"
                                },
                                {
                                    "LOGIN": "nikoletta4",
                                    "Szállítási mód": "GLS",
                                    "DB": "137"
                                },
                                {
                                    "LOGIN": "nikoletta4",
                                    "Szállítási mód": "Posta",
                                    "DB": "158"
                                },
                                {
                                    "LOGIN": "nikoletta4",
                                    "Szállítási mód": "Személyes átvétel",
                                    "DB": "119"
                                },
                                {
                                    "LOGIN": "nikoletta4",
                                    "Szállítási mód": "NULL",
                                    "DB": "414"
                                },
                                {
                                    "LOGIN": "NIKOLETTAT",
                                    "Szállítási mód": "GLS",
                                    "DB": "13"
                                },
                                {
                                    "LOGIN": "NIKOLETTAT",
                                    "Szállítási mód": "Posta",
                                    "DB": "7"
                                },
                                {
                                    "LOGIN": "NIKOLETTAT",
                                    "Szállítási mód": "Személyes átvétel",
                                    "DB": "5"
                                },
                                {
                                    "LOGIN": "NIKOLETTAT",
                                    "Szállítási mód": "NULL",
                                    "DB": "25"
                                },
                                {
                                    "LOGIN": "norbert2",
                                    "Szállítási mód": "GLS",
                                    "DB": "7"
                                },
                                {
                                    "LOGIN": "norbert2",
                                    "Szállítási mód": "Posta",
                                    "DB": "4"
                                },
                                {
                                    "LOGIN": "norbert2",
                                    "Szállítási mód": "NULL",
                                    "DB": "11"
                                },
                                {
                                    "LOGIN": "norbert4",
                                    "Szállítási mód": "GLS",
                                    "DB": "1"
                                },
                                {
                                    "LOGIN": "norbert4",
                                    "Szállítási mód": "Posta",
                                    "DB": "3"
                                },
                                {
                                    "LOGIN": "norbert4",
                                    "Szállítási mód": "Személyes átvétel",
                                    "DB": "9"
                                },
                                {
                                    "LOGIN": "norbert4",
                                    "Szállítási mód": "NULL",
                                    "DB": "13"
                                },
                                {
                                    "LOGIN": "norbert5",
                                    "Szállítási mód": "GLS",
                                    "DB": "1"
                                },
                                {
                                    "LOGIN": "norbert5",
                                    "Szállítási mód": "Posta",
                                    "DB": "6"
                                },
                                {
                                    "LOGIN": "norbert5",
                                    "Szállítási mód": "Személyes átvétel",
                                    "DB": "9"
                                },
                                {
                                    "LOGIN": "norbert5",
                                    "Szállítási mód": "NULL",
                                    "DB": "16"
                                },
                                {
                                    "LOGIN": "pal",
                                    "Szállítási mód": "GLS",
                                    "DB": "152"
                                },
                                {
                                    "LOGIN": "pal",
                                    "Szállítási mód": "Posta",
                                    "DB": "132"
                                },
                                {
                                    "LOGIN": "pal",
                                    "Szállítási mód": "Személyes átvétel",
                                    "DB": "154"
                                },
                                {
                                    "LOGIN": "pal",
                                    "Szállítási mód": "NULL",
                                    "DB": "438"
                                },
                                {
                                    "LOGIN": "peter1",
                                    "Szállítási mód": "GLS",
                                    "DB": "151"
                                },
                                {
                                    "LOGIN": "peter1",
                                    "Szállítási mód": "Posta",
                                    "DB": "135"
                                },
                                {
                                    "LOGIN": "peter1",
                                    "Szállítási mód": "Személyes átvétel",
                                    "DB": "126"
                                },
                                {
                                    "LOGIN": "peter1",
                                    "Szállítási mód": "NULL",
                                    "DB": "412"
                                },
                                {
                                    "LOGIN": "peter2",
                                    "Szállítási mód": "GLS",
                                    "DB": "7"
                                },
                                {
                                    "LOGIN": "peter2",
                                    "Szállítási mód": "Posta",
                                    "DB": "4"
                                },
                                {
                                    "LOGIN": "peter2",
                                    "Szállítási mód": "Személyes átvétel",
                                    "DB": "7"
                                },
                                {
                                    "LOGIN": "peter2",
                                    "Szállítási mód": "NULL",
                                    "DB": "18"
                                },
                                {
                                    "LOGIN": "peter3",
                                    "Szállítási mód": "GLS",
                                    "DB": "8"
                                },
                                {
                                    "LOGIN": "peter3",
                                    "Szállítási mód": "Posta",
                                    "DB": "7"
                                },
                                {
                                    "LOGIN": "peter3",
                                    "Szállítási mód": "Személyes átvétel",
                                    "DB": "10"
                                },
                                {
                                    "LOGIN": "peter3",
                                    "Szállítási mód": "NULL",
                                    "DB": "25"
                                },
                                {
                                    "LOGIN": "peter4",
                                    "Szállítási mód": "GLS",
                                    "DB": "266"
                                },
                                {
                                    "LOGIN": "peter4",
                                    "Szállítási mód": "Posta",
                                    "DB": "293"
                                },
                                {
                                    "LOGIN": "peter4",
                                    "Szállítási mód": "Személyes átvétel",
                                    "DB": "293"
                                },
                                {
                                    "LOGIN": "peter4",
                                    "Szállítási mód": "NULL",
                                    "DB": "852"
                                },
                                {
                                    "LOGIN": "PETERB",
                                    "Szállítási mód": "GLS",
                                    "DB": "2"
                                },
                                {
                                    "LOGIN": "PETERB",
                                    "Szállítási mód": "Posta",
                                    "DB": "4"
                                },
                                {
                                    "LOGIN": "PETERB",
                                    "Szállítási mód": "Személyes átvétel",
                                    "DB": "9"
                                },
                                {
                                    "LOGIN": "PETERB",
                                    "Szállítási mód": "NULL",
                                    "DB": "15"
                                },
                                {
                                    "LOGIN": "polla",
                                    "Szállítási mód": "GLS",
                                    "DB": "9"
                                },
                                {
                                    "LOGIN": "polla",
                                    "Szállítási mód": "Posta",
                                    "DB": "6"
                                },
                                {
                                    "LOGIN": "polla",
                                    "Szállítási mód": "Személyes átvétel",
                                    "DB": "7"
                                },
                                {
                                    "LOGIN": "polla",
                                    "Szállítási mód": "NULL",
                                    "DB": "22"
                                },
                                {
                                    "LOGIN": "rajmond4",
                                    "Szállítási mód": "GLS",
                                    "DB": "6"
                                },
                                {
                                    "LOGIN": "rajmond4",
                                    "Szállítási mód": "Posta",
                                    "DB": "5"
                                },
                                {
                                    "LOGIN": "rajmond4",
                                    "Szállítási mód": "Személyes átvétel",
                                    "DB": "6"
                                },
                                {
                                    "LOGIN": "rajmond4",
                                    "Szállítási mód": "NULL",
                                    "DB": "17"
                                },
                                {
                                    "LOGIN": "reka4",
                                    "Szállítási mód": "GLS",
                                    "DB": "5"
                                },
                                {
                                    "LOGIN": "reka4",
                                    "Szállítási mód": "Posta",
                                    "DB": "4"
                                },
                                {
                                    "LOGIN": "reka4",
                                    "Szállítási mód": "Személyes átvétel",
                                    "DB": "11"
                                },
                                {
                                    "LOGIN": "reka4",
                                    "Szállítási mód": "NULL",
                                    "DB": "20"
                                },
                                {
                                    "LOGIN": "RENATAK",
                                    "Szállítási mód": "GLS",
                                    "DB": "135"
                                },
                                {
                                    "LOGIN": "RENATAK",
                                    "Szállítási mód": "Posta",
                                    "DB": "140"
                                },
                                {
                                    "LOGIN": "RENATAK",
                                    "Szállítási mód": "Személyes átvétel",
                                    "DB": "147"
                                },
                                {
                                    "LOGIN": "RENATAK",
                                    "Szállítási mód": "NULL",
                                    "DB": "422"
                                },
                                {
                                    "LOGIN": "RENATAS",
                                    "Szállítási mód": "GLS",
                                    "DB": "6"
                                },
                                {
                                    "LOGIN": "RENATAS",
                                    "Szállítási mód": "Posta",
                                    "DB": "5"
                                },
                                {
                                    "LOGIN": "RENATAS",
                                    "Szállítási mód": "Személyes átvétel",
                                    "DB": "5"
                                },
                                {
                                    "LOGIN": "RENATAS",
                                    "Szállítási mód": "NULL",
                                    "DB": "16"
                                },
                                {
                                    "LOGIN": "robert2",
                                    "Szállítási mód": "GLS",
                                    "DB": "5"
                                },
                                {
                                    "LOGIN": "robert2",
                                    "Szállítási mód": "Posta",
                                    "DB": "1"
                                },
                                {
                                    "LOGIN": "robert2",
                                    "Szállítási mód": "Személyes átvétel",
                                    "DB": "7"
                                },
                                {
                                    "LOGIN": "robert2",
                                    "Szállítási mód": "NULL",
                                    "DB": "13"
                                },
                                {
                                    "LOGIN": "ROBERTI",
                                    "Szállítási mód": "GLS",
                                    "DB": "5"
                                },
                                {
                                    "LOGIN": "ROBERTI",
                                    "Szállítási mód": "Posta",
                                    "DB": "3"
                                },
                                {
                                    "LOGIN": "ROBERTI",
                                    "Szállítási mód": "Személyes átvétel",
                                    "DB": "5"
                                },
                                {
                                    "LOGIN": "ROBERTI",
                                    "Szállítási mód": "NULL",
                                    "DB": "13"
                                },
                                {
                                    "LOGIN": "ROBERTP",
                                    "Szállítási mód": "GLS",
                                    "DB": "8"
                                },
                                {
                                    "LOGIN": "ROBERTP",
                                    "Szállítási mód": "Posta",
                                    "DB": "8"
                                },
                                {
                                    "LOGIN": "ROBERTP",
                                    "Szállítási mód": "Személyes átvétel",
                                    "DB": "10"
                                },
                                {
                                    "LOGIN": "ROBERTP",
                                    "Szállítási mód": "NULL",
                                    "DB": "26"
                                },
                                {
                                    "LOGIN": "roland",
                                    "Szállítási mód": "GLS",
                                    "DB": "132"
                                },
                                {
                                    "LOGIN": "roland",
                                    "Szállítási mód": "Posta",
                                    "DB": "157"
                                },
                                {
                                    "LOGIN": "roland",
                                    "Szállítási mód": "Személyes átvétel",
                                    "DB": "125"
                                },
                                {
                                    "LOGIN": "roland",
                                    "Szállítási mód": "NULL",
                                    "DB": "414"
                                },
                                {
                                    "LOGIN": "roland1",
                                    "Szállítási mód": "GLS",
                                    "DB": "142"
                                },
                                {
                                    "LOGIN": "roland1",
                                    "Szállítási mód": "Posta",
                                    "DB": "155"
                                },
                                {
                                    "LOGIN": "roland1",
                                    "Szállítási mód": "Személyes átvétel",
                                    "DB": "135"
                                },
                                {
                                    "LOGIN": "roland1",
                                    "Szállítási mód": "NULL",
                                    "DB": "432"
                                },
                                {
                                    "LOGIN": "roza2",
                                    "Szállítási mód": "GLS",
                                    "DB": "3"
                                },
                                {
                                    "LOGIN": "roza2",
                                    "Szállítási mód": "Posta",
                                    "DB": "2"
                                },
                                {
                                    "LOGIN": "roza2",
                                    "Szállítási mód": "Személyes átvétel",
                                    "DB": "3"
                                },
                                {
                                    "LOGIN": "roza2",
                                    "Szállítási mód": "NULL",
                                    "DB": "8"
                                },
                                {
                                    "LOGIN": "sandor",
                                    "Szállítási mód": "GLS",
                                    "DB": "4"
                                },
                                {
                                    "LOGIN": "sandor",
                                    "Szállítási mód": "Posta",
                                    "DB": "6"
                                },
                                {
                                    "LOGIN": "sandor",
                                    "Szállítási mód": "Személyes átvétel",
                                    "DB": "7"
                                },
                                {
                                    "LOGIN": "sandor",
                                    "Szállítási mód": "NULL",
                                    "DB": "17"
                                },
                                {
                                    "LOGIN": "sandor3",
                                    "Szállítási mód": "GLS",
                                    "DB": "4"
                                },
                                {
                                    "LOGIN": "sandor3",
                                    "Szállítási mód": "Posta",
                                    "DB": "4"
                                },
                                {
                                    "LOGIN": "sandor3",
                                    "Szállítási mód": "Személyes átvétel",
                                    "DB": "6"
                                },
                                {
                                    "LOGIN": "sandor3",
                                    "Szállítási mód": "NULL",
                                    "DB": "14"
                                },
                                {
                                    "LOGIN": "sandor4",
                                    "Szállítási mód": "GLS",
                                    "DB": "4"
                                },
                                {
                                    "LOGIN": "sandor4",
                                    "Szállítási mód": "Posta",
                                    "DB": "2"
                                },
                                {
                                    "LOGIN": "sandor4",
                                    "Szállítási mód": "Személyes átvétel",
                                    "DB": "5"
                                },
                                {
                                    "LOGIN": "sandor4",
                                    "Szállítási mód": "NULL",
                                    "DB": "11"
                                },
                                {
                                    "LOGIN": "sara",
                                    "Szállítási mód": "GLS",
                                    "DB": "4"
                                },
                                {
                                    "LOGIN": "sara",
                                    "Szállítási mód": "Posta",
                                    "DB": "7"
                                },
                                {
                                    "LOGIN": "sara",
                                    "Szállítási mód": "Személyes átvétel",
                                    "DB": "9"
                                },
                                {
                                    "LOGIN": "sara",
                                    "Szállítási mód": "NULL",
                                    "DB": "20"
                                },
                                {
                                    "LOGIN": "SEBASTIANF",
                                    "Szállítási mód": "GLS",
                                    "DB": "6"
                                },
                                {
                                    "LOGIN": "SEBASTIANF",
                                    "Szállítási mód": "Posta",
                                    "DB": "3"
                                },
                                {
                                    "LOGIN": "SEBASTIANF",
                                    "Szállítási mód": "Személyes átvétel",
                                    "DB": "6"
                                },
                                {
                                    "LOGIN": "SEBASTIANF",
                                    "Szállítási mód": "NULL",
                                    "DB": "15"
                                },
                                {
                                    "LOGIN": "sebestyen",
                                    "Szállítási mód": "GLS",
                                    "DB": "4"
                                },
                                {
                                    "LOGIN": "sebestyen",
                                    "Szállítási mód": "Posta",
                                    "DB": "6"
                                },
                                {
                                    "LOGIN": "sebestyen",
                                    "Szállítási mód": "Személyes átvétel",
                                    "DB": "6"
                                },
                                {
                                    "LOGIN": "sebestyen",
                                    "Szállítási mód": "NULL",
                                    "DB": "16"
                                },
                                {
                                    "LOGIN": "szabolcs",
                                    "Szállítási mód": "GLS",
                                    "DB": "145"
                                },
                                {
                                    "LOGIN": "szabolcs",
                                    "Szállítási mód": "Posta",
                                    "DB": "157"
                                },
                                {
                                    "LOGIN": "szabolcs",
                                    "Szállítási mód": "Személyes átvétel",
                                    "DB": "169"
                                },
                                {
                                    "LOGIN": "szabolcs",
                                    "Szállítási mód": "NULL",
                                    "DB": "471"
                                },
                                {
                                    "LOGIN": "SZABOLCSM",
                                    "Szállítási mód": "GLS",
                                    "DB": "126"
                                },
                                {
                                    "LOGIN": "SZABOLCSM",
                                    "Szállítási mód": "Posta",
                                    "DB": "153"
                                },
                                {
                                    "LOGIN": "SZABOLCSM",
                                    "Szállítási mód": "Személyes átvétel",
                                    "DB": "129"
                                },
                                {
                                    "LOGIN": "SZABOLCSM",
                                    "Szállítási mód": "NULL",
                                    "DB": "408"
                                },
                                {
                                    "LOGIN": "SZILARDS",
                                    "Szállítási mód": "GLS",
                                    "DB": "144"
                                },
                                {
                                    "LOGIN": "SZILARDS",
                                    "Szállítási mód": "Posta",
                                    "DB": "131"
                                },
                                {
                                    "LOGIN": "SZILARDS",
                                    "Szállítási mód": "Személyes átvétel",
                                    "DB": "111"
                                },
                                {
                                    "LOGIN": "SZILARDS",
                                    "Szállítási mód": "NULL",
                                    "DB": "386"
                                },
                                {
                                    "LOGIN": "szilvia1",
                                    "Szállítási mód": "GLS",
                                    "DB": "156"
                                },
                                {
                                    "LOGIN": "szilvia1",
                                    "Szállítási mód": "Posta",
                                    "DB": "151"
                                },
                                {
                                    "LOGIN": "szilvia1",
                                    "Szállítási mód": "Személyes átvétel",
                                    "DB": "138"
                                },
                                {
                                    "LOGIN": "szilvia1",
                                    "Szállítási mód": "NULL",
                                    "DB": "445"
                                },
                                {
                                    "LOGIN": "tamara2",
                                    "Szállítási mód": "GLS",
                                    "DB": "6"
                                },
                                {
                                    "LOGIN": "tamara2",
                                    "Szállítási mód": "Posta",
                                    "DB": "4"
                                },
                                {
                                    "LOGIN": "tamara2",
                                    "Szállítási mód": "Személyes átvétel",
                                    "DB": "3"
                                },
                                {
                                    "LOGIN": "tamara2",
                                    "Szállítási mód": "NULL",
                                    "DB": "13"
                                },
                                {
                                    "LOGIN": "tamas",
                                    "Szállítási mód": "GLS",
                                    "DB": "143"
                                },
                                {
                                    "LOGIN": "tamas",
                                    "Szállítási mód": "Posta",
                                    "DB": "156"
                                },
                                {
                                    "LOGIN": "tamas",
                                    "Szállítási mód": "Személyes átvétel",
                                    "DB": "122"
                                },
                                {
                                    "LOGIN": "tamas",
                                    "Szállítási mód": "NULL",
                                    "DB": "421"
                                },
                                {
                                    "LOGIN": "TAMASF",
                                    "Szállítási mód": "GLS",
                                    "DB": "159"
                                },
                                {
                                    "LOGIN": "TAMASF",
                                    "Szállítási mód": "Posta",
                                    "DB": "145"
                                },
                                {
                                    "LOGIN": "TAMASF",
                                    "Szállítási mód": "Személyes átvétel",
                                    "DB": "129"
                                },
                                {
                                    "LOGIN": "TAMASF",
                                    "Szállítási mód": "NULL",
                                    "DB": "433"
                                },
                                {
                                    "LOGIN": "tibor",
                                    "Szállítási mód": "GLS",
                                    "DB": "115"
                                },
                                {
                                    "LOGIN": "tibor",
                                    "Szállítási mód": "Posta",
                                    "DB": "129"
                                },
                                {
                                    "LOGIN": "tibor",
                                    "Szállítási mód": "Személyes átvétel",
                                    "DB": "130"
                                },
                                {
                                    "LOGIN": "tibor",
                                    "Szállítási mód": "NULL",
                                    "DB": "374"
                                },
                                {
                                    "LOGIN": "tibor2",
                                    "Szállítási mód": "GLS",
                                    "DB": "7"
                                },
                                {
                                    "LOGIN": "tibor2",
                                    "Szállítási mód": "Posta",
                                    "DB": "7"
                                },
                                {
                                    "LOGIN": "tibor2",
                                    "Szállítási mód": "Személyes átvétel",
                                    "DB": "11"
                                },
                                {
                                    "LOGIN": "tibor2",
                                    "Szállítási mód": "NULL",
                                    "DB": "25"
                                },
                                {
                                    "LOGIN": "tihamer",
                                    "Szállítási mód": "GLS",
                                    "DB": "9"
                                },
                                {
                                    "LOGIN": "tihamer",
                                    "Szállítási mód": "Posta",
                                    "DB": "6"
                                },
                                {
                                    "LOGIN": "tihamer",
                                    "Szállítási mód": "Személyes átvétel",
                                    "DB": "5"
                                },
                                {
                                    "LOGIN": "tihamer",
                                    "Szállítási mód": "NULL",
                                    "DB": "20"
                                },
                                {
                                    "LOGIN": "timea",
                                    "Szállítási mód": "GLS",
                                    "DB": "14"
                                },
                                {
                                    "LOGIN": "timea",
                                    "Szállítási mód": "Posta",
                                    "DB": "23"
                                },
                                {
                                    "LOGIN": "timea",
                                    "Szállítási mód": "Személyes átvétel",
                                    "DB": "18"
                                },
                                {
                                    "LOGIN": "timea",
                                    "Szállítási mód": "NULL",
                                    "DB": "55"
                                },
                                {
                                    "LOGIN": "timea2",
                                    "Szállítási mód": "GLS",
                                    "DB": "1"
                                },
                                {
                                    "LOGIN": "timea2",
                                    "Szállítási mód": "Posta",
                                    "DB": "5"
                                },
                                {
                                    "LOGIN": "timea2",
                                    "Szállítási mód": "Személyes átvétel",
                                    "DB": "10"
                                },
                                {
                                    "LOGIN": "timea2",
                                    "Szállítási mód": "NULL",
                                    "DB": "16"
                                },
                                {
                                    "LOGIN": "tunde",
                                    "Szállítási mód": "GLS",
                                    "DB": "6"
                                },
                                {
                                    "LOGIN": "tunde",
                                    "Szállítási mód": "Posta",
                                    "DB": "6"
                                },
                                {
                                    "LOGIN": "tunde",
                                    "Szállítási mód": "Személyes átvétel",
                                    "DB": "4"
                                },
                                {
                                    "LOGIN": "tunde",
                                    "Szállítási mód": "NULL",
                                    "DB": "16"
                                },
                                {
                                    "LOGIN": "valentin",
                                    "Szállítási mód": "GLS",
                                    "DB": "5"
                                },
                                {
                                    "LOGIN": "valentin",
                                    "Szállítási mód": "Posta",
                                    "DB": "5"
                                },
                                {
                                    "LOGIN": "valentin",
                                    "Szállítási mód": "Személyes átvétel",
                                    "DB": "3"
                                },
                                {
                                    "LOGIN": "valentin",
                                    "Szállítási mód": "NULL",
                                    "DB": "13"
                                },
                                {
                                    "LOGIN": "veronika4",
                                    "Szállítási mód": "GLS",
                                    "DB": "5"
                                },
                                {
                                    "LOGIN": "veronika4",
                                    "Szállítási mód": "Posta",
                                    "DB": "6"
                                },
                                {
                                    "LOGIN": "veronika4",
                                    "Szállítási mód": "Személyes átvétel",
                                    "DB": "7"
                                },
                                {
                                    "LOGIN": "veronika4",
                                    "Szállítási mód": "NULL",
                                    "DB": "18"
                                },
                                {
                                    "LOGIN": "VIKTORIAU",
                                    "Szállítási mód": "GLS",
                                    "DB": "5"
                                },
                                {
                                    "LOGIN": "VIKTORIAU",
                                    "Szállítási mód": "Posta",
                                    "DB": "4"
                                },
                                {
                                    "LOGIN": "VIKTORIAU",
                                    "Szállítási mód": "Személyes átvétel",
                                    "DB": "5"
                                },
                                {
                                    "LOGIN": "VIKTORIAU",
                                    "Szállítási mód": "NULL",
                                    "DB": "14"
                                },
                                {
                                    "LOGIN": "VIKTORK",
                                    "Szállítási mód": "GLS",
                                    "DB": "8"
                                },
                                {
                                    "LOGIN": "VIKTORK",
                                    "Szállítási mód": "Posta",
                                    "DB": "6"
                                },
                                {
                                    "LOGIN": "VIKTORK",
                                    "Szállítási mód": "Személyes átvétel",
                                    "DB": "6"
                                },
                                {
                                    "LOGIN": "VIKTORK",
                                    "Szállítási mód": "NULL",
                                    "DB": "20"
                                },
                                {
                                    "LOGIN": "vivien3",
                                    "Szállítási mód": "GLS",
                                    "DB": "9"
                                },
                                {
                                    "LOGIN": "vivien3",
                                    "Szállítási mód": "Posta",
                                    "DB": "6"
                                },
                                {
                                    "LOGIN": "vivien3",
                                    "Szállítási mód": "Személyes átvétel",
                                    "DB": "7"
                                },
                                {
                                    "LOGIN": "vivien3",
                                    "Szállítási mód": "NULL",
                                    "DB": "22"
                                },
                                {
                                    "LOGIN": "zoltan",
                                    "Szállítási mód": "GLS",
                                    "DB": "5"
                                },
                                {
                                    "LOGIN": "zoltan",
                                    "Szállítási mód": "Posta",
                                    "DB": "3"
                                },
                                {
                                    "LOGIN": "zoltan",
                                    "Szállítási mód": "Személyes átvétel",
                                    "DB": "7"
                                },
                                {
                                    "LOGIN": "zoltan",
                                    "Szállítási mód": "NULL",
                                    "DB": "15"
                                },
                                {
                                    "LOGIN": "zoltan4",
                                    "Szállítási mód": "GLS",
                                    "DB": "129"
                                },
                                {
                                    "LOGIN": "zoltan4",
                                    "Szállítási mód": "Posta",
                                    "DB": "124"
                                },
                                {
                                    "LOGIN": "zoltan4",
                                    "Szállítási mód": "Személyes átvétel",
                                    "DB": "171"
                                },
                                {
                                    "LOGIN": "zoltan4",
                                    "Szállítási mód": "NULL",
                                    "DB": "424"
                                },
                                {
                                    "LOGIN": "ZOLTANP",
                                    "Szállítási mód": "GLS",
                                    "DB": "6"
                                },
                                {
                                    "LOGIN": "ZOLTANP",
                                    "Szállítási mód": "Posta",
                                    "DB": "3"
                                },
                                {
                                    "LOGIN": "ZOLTANP",
                                    "Szállítási mód": "Személyes átvétel",
                                    "DB": "4"
                                },
                                {
                                    "LOGIN": "ZOLTANP",
                                    "Szállítási mód": "NULL",
                                    "DB": "13"
                                },
                                {
                                    "LOGIN": "ZOLTANT",
                                    "Szállítási mód": "GLS",
                                    "DB": "127"
                                },
                                {
                                    "LOGIN": "ZOLTANT",
                                    "Szállítási mód": "Posta",
                                    "DB": "107"
                                },
                                {
                                    "LOGIN": "ZOLTANT",
                                    "Szállítási mód": "Személyes átvétel",
                                    "DB": "123"
                                },
                                {
                                    "LOGIN": "ZOLTANT",
                                    "Szállítási mód": "NULL",
                                    "DB": "357"
                                },
                                {
                                    "LOGIN": "zsofi1",
                                    "Szállítási mód": "GLS",
                                    "DB": "7"
                                },
                                {
                                    "LOGIN": "zsofi1",
                                    "Szállítási mód": "Posta",
                                    "DB": "6"
                                },
                                {
                                    "LOGIN": "zsofi1",
                                    "Szállítási mód": "Személyes átvétel",
                                    "DB": "6"
                                },
                                {
                                    "LOGIN": "zsofi1",
                                    "Szállítási mód": "NULL",
                                    "DB": "19"
                                },
                                {
                                    "LOGIN": "zsolt1",
                                    "Szállítási mód": "GLS",
                                    "DB": "11"
                                },
                                {
                                    "LOGIN": "zsolt1",
                                    "Szállítási mód": "Posta",
                                    "DB": "6"
                                },
                                {
                                    "LOGIN": "zsolt1",
                                    "Szállítási mód": "Személyes átvétel",
                                    "DB": "3"
                                },
                                {
                                    "LOGIN": "zsolt1",
                                    "Szállítási mód": "NULL",
                                    "DB": "20"
                                },
                                {
                                    "LOGIN": "ZSOLTJ",
                                    "Szállítási mód": "GLS",
                                    "DB": "1"
                                },
                                {
                                    "LOGIN": "ZSOLTJ",
                                    "Szállítási mód": "Posta",
                                    "DB": "8"
                                },
                                {
                                    "LOGIN": "ZSOLTJ",
                                    "Szállítási mód": "Személyes átvétel",
                                    "DB": "9"
                                },
                                {
                                    "LOGIN": "ZSOLTJ",
                                    "Szállítási mód": "NULL",
                                    "DB": "18"
                                },
                                {
                                    "LOGIN": "zsuzsa",
                                    "Szállítási mód": "GLS",
                                    "DB": "8"
                                },
                                {
                                    "LOGIN": "zsuzsa",
                                    "Szállítási mód": "Posta",
                                    "DB": "5"
                                },
                                {
                                    "LOGIN": "zsuzsa",
                                    "Szállítási mód": "Személyes átvétel",
                                    "DB": "3"
                                },
                                {
                                    "LOGIN": "zsuzsa",
                                    "Szállítási mód": "NULL",
                                    "DB": "16"
                                },
                                {
                                    "LOGIN": "zsuzsa3",
                                    "Szállítási mód": "GLS",
                                    "DB": "5"
                                },
                                {
                                    "LOGIN": "zsuzsa3",
                                    "Szállítási mód": "Posta",
                                    "DB": "5"
                                },
                                {
                                    "LOGIN": "zsuzsa3",
                                    "Szállítási mód": "Személyes átvétel",
                                    "DB": "6"
                                },
                                {
                                    "LOGIN": "zsuzsa3",
                                    "Szállítási mód": "NULL",
                                    "DB": "16"
                                },
                                {
                                    "LOGIN": "zsuzsanna",
                                    "Szállítási mód": "GLS",
                                    "DB": "7"
                                },
                                {
                                    "LOGIN": "zsuzsanna",
                                    "Szállítási mód": "Posta",
                                    "DB": "5"
                                },
                                {
                                    "LOGIN": "zsuzsanna",
                                    "Szállítási mód": "Személyes átvétel",
                                    "DB": "3"
                                },
                                {
                                    "LOGIN": "zsuzsanna",
                                    "Szállítási mód": "NULL",
                                    "DB": "15"
                                },
                                {
                                    "LOGIN": "ZSUZSAV",
                                    "Szállítási mód": "GLS",
                                    "DB": "139"
                                },
                                {
                                    "LOGIN": "ZSUZSAV",
                                    "Szállítási mód": "Posta",
                                    "DB": "139"
                                },
                                {
                                    "LOGIN": "ZSUZSAV",
                                    "Szállítási mód": "Személyes átvétel",
                                    "DB": "142"
                                },
                                {
                                    "LOGIN": "ZSUZSAV",
                                    "Szállítási mód": "NULL",
                                    "DB": "420"
                                },
                                {
                                    "LOGIN": "NULL",
                                    "Szállítási mód": "NULL",
                                    "DB": "28085"
                                }
                            ]
                        },
                        "text/html": [
                            "<table>",
                            "<tr><th>LOGIN</th><th>Szállítási mód</th><th>DB</th></tr>",
                            "<tr><td>adam1</td><td>GLS</td><td>129</td></tr>",
                            "<tr><td>adam1</td><td>Posta</td><td>132</td></tr>",
                            "<tr><td>adam1</td><td>Személyes átvétel</td><td>131</td></tr>",
                            "<tr><td>adam1</td><td>NULL</td><td>392</td></tr>",
                            "<tr><td>adam3</td><td>GLS</td><td>10</td></tr>",
                            "<tr><td>adam3</td><td>Posta</td><td>3</td></tr>",
                            "<tr><td>adam3</td><td>Személyes átvétel</td><td>2</td></tr>",
                            "<tr><td>adam3</td><td>NULL</td><td>15</td></tr>",
                            "<tr><td>adam4</td><td>GLS</td><td>12</td></tr>",
                            "<tr><td>adam4</td><td>Posta</td><td>6</td></tr>",
                            "<tr><td>adam4</td><td>Személyes átvétel</td><td>11</td></tr>",
                            "<tr><td>adam4</td><td>NULL</td><td>29</td></tr>",
                            "<tr><td>agnes</td><td>GLS</td><td>144</td></tr>",
                            "<tr><td>agnes</td><td>Posta</td><td>130</td></tr>",
                            "<tr><td>agnes</td><td>Személyes átvétel</td><td>144</td></tr>",
                            "<tr><td>agnes</td><td>NULL</td><td>418</td></tr>",
                            "<tr><td>agnes3</td><td>GLS</td><td>148</td></tr>",
                            "<tr><td>agnes3</td><td>Posta</td><td>146</td></tr>",
                            "<tr><td>agnes3</td><td>Személyes átvétel</td><td>136</td></tr>",
                            "<tr><td>agnes3</td><td>NULL</td><td>430</td></tr>",
                            "<tr><td>AGNESH</td><td>GLS</td><td>2</td></tr>",
                            "<tr><td>AGNESH</td><td>Posta</td><td>3</td></tr>",
                            "<tr><td>AGNESH</td><td>Személyes átvétel</td><td>6</td></tr>",
                            "<tr><td>AGNESH</td><td>NULL</td><td>11</td></tr>",
                            "<tr><td>AGNESK</td><td>GLS</td><td>1</td></tr>",
                            "<tr><td>AGNESK</td><td>Posta</td><td>7</td></tr>",
                            "<tr><td>AGNESK</td><td>Személyes átvétel</td><td>7</td></tr>",
                            "<tr><td>AGNESK</td><td>NULL</td><td>15</td></tr>",
                            "<tr><td>akos</td><td>GLS</td><td>146</td></tr>",
                            "<tr><td>akos</td><td>Posta</td><td>143</td></tr>",
                            "<tr><td>akos</td><td>Személyes átvétel</td><td>140</td></tr>",
                            "<tr><td>akos</td><td>NULL</td><td>429</td></tr>",
                            "<tr><td>aladar</td><td>GLS</td><td>156</td></tr>",
                            "<tr><td>aladar</td><td>Posta</td><td>134</td></tr>",
                            "<tr><td>aladar</td><td>Személyes átvétel</td><td>118</td></tr>",
                            "<tr><td>aladar</td><td>NULL</td><td>408</td></tr>",
                            "<tr><td>alexandra</td><td>GLS</td><td>5</td></tr>",
                            "<tr><td>alexandra</td><td>Posta</td><td>9</td></tr>",
                            "<tr><td>alexandra</td><td>Személyes átvétel</td><td>5</td></tr>",
                            "<tr><td>alexandra</td><td>NULL</td><td>19</td></tr>",
                            "<tr><td>andi</td><td>GLS</td><td>7</td></tr>",
                            "<tr><td>andi</td><td>Posta</td><td>4</td></tr>",
                            "<tr><td>andi</td><td>Személyes átvétel</td><td>7</td></tr>",
                            "<tr><td>andi</td><td>NULL</td><td>18</td></tr>",
                            "<tr><td>andras2</td><td>GLS</td><td>4</td></tr>",
                            "<tr><td>andras2</td><td>Posta</td><td>7</td></tr>",
                            "<tr><td>andras2</td><td>Személyes átvétel</td><td>11</td></tr>",
                            "<tr><td>andras2</td><td>NULL</td><td>22</td></tr>",
                            "<tr><td>andras21</td><td>GLS</td><td>140</td></tr>",
                            "<tr><td>andras21</td><td>Posta</td><td>124</td></tr>",
                            "<tr><td>andras21</td><td>Személyes átvétel</td><td>126</td></tr>",
                            "<tr><td>andras21</td><td>NULL</td><td>390</td></tr>",
                            "<tr><td>andras3</td><td>GLS</td><td>3</td></tr>",
                            "<tr><td>andras3</td><td>Posta</td><td>1</td></tr>",
                            "<tr><td>andras3</td><td>Személyes átvétel</td><td>5</td></tr>",
                            "<tr><td>andras3</td><td>NULL</td><td>9</td></tr>",
                            "<tr><td>andras4</td><td>GLS</td><td>4</td></tr>",
                            "<tr><td>andras4</td><td>Posta</td><td>4</td></tr>",
                            "<tr><td>andras4</td><td>Személyes átvétel</td><td>4</td></tr>",
                            "<tr><td>andras4</td><td>NULL</td><td>12</td></tr>",
                            "<tr><td>andras41</td><td>GLS</td><td>149</td></tr>",
                            "<tr><td>andras41</td><td>Posta</td><td>137</td></tr>",
                            "<tr><td>andras41</td><td>Személyes átvétel</td><td>133</td></tr>",
                            "<tr><td>andras41</td><td>NULL</td><td>419</td></tr>",
                            "<tr><td>ANDRASE</td><td>GLS</td><td>159</td></tr>",
                            "<tr><td>ANDRASE</td><td>Posta</td><td>141</td></tr>",
                            "<tr><td>ANDRASE</td><td>Személyes átvétel</td><td>136</td></tr>",
                            "<tr><td>ANDRASE</td><td>NULL</td><td>436</td></tr>",
                            "<tr><td>ANDRASN</td><td>GLS</td><td>10</td></tr>",
                            "<tr><td>ANDRASN</td><td>Posta</td><td>9</td></tr>",
                            "<tr><td>ANDRASN</td><td>Személyes átvétel</td><td>5</td></tr>",
                            "<tr><td>ANDRASN</td><td>NULL</td><td>24</td></tr>",
                            "<tr><td>andrea</td><td>GLS</td><td>12</td></tr>",
                            "<tr><td>andrea</td><td>Posta</td><td>4</td></tr>",
                            "<tr><td>andrea</td><td>Személyes átvétel</td><td>8</td></tr>",
                            "<tr><td>andrea</td><td>NULL</td><td>24</td></tr>",
                            "<tr><td>andrea3</td><td>GLS</td><td>131</td></tr>",
                            "<tr><td>andrea3</td><td>Posta</td><td>136</td></tr>",
                            "<tr><td>andrea3</td><td>Személyes átvétel</td><td>146</td></tr>",
                            "<tr><td>andrea3</td><td>NULL</td><td>413</td></tr>",
                            "<tr><td>andrea4</td><td>GLS</td><td>7</td></tr>",
                            "<tr><td>andrea4</td><td>Posta</td><td>4</td></tr>",
                            "<tr><td>andrea4</td><td>Személyes átvétel</td><td>7</td></tr>",
                            "<tr><td>andrea4</td><td>NULL</td><td>18</td></tr>",
                            "<tr><td>ANDREAT</td><td>GLS</td><td>3</td></tr>",
                            "<tr><td>ANDREAT</td><td>Posta</td><td>6</td></tr>",
                            "<tr><td>ANDREAT</td><td>Személyes átvétel</td><td>12</td></tr>",
                            "<tr><td>ANDREAT</td><td>NULL</td><td>21</td></tr>",
                            "<tr><td>anett3</td><td>GLS</td><td>3</td></tr>",
                            "<tr><td>anett3</td><td>Posta</td><td>6</td></tr>",
                            "<tr><td>anett3</td><td>Személyes átvétel</td><td>9</td></tr>",
                            "<tr><td>anett3</td><td>NULL</td><td>18</td></tr>",
                            "<tr><td>aniko</td><td>GLS</td><td>128</td></tr>",
                            "<tr><td>aniko</td><td>Posta</td><td>137</td></tr>",
                            "<tr><td>aniko</td><td>Személyes átvétel</td><td>138</td></tr>",
                            "<tr><td>aniko</td><td>NULL</td><td>403</td></tr>",
                            "<tr><td>aniko4</td><td>GLS</td><td>6</td></tr>",
                            "<tr><td>aniko4</td><td>Posta</td><td>6</td></tr>",
                            "<tr><td>aniko4</td><td>Személyes átvétel</td><td>3</td></tr>",
                            "<tr><td>aniko4</td><td>NULL</td><td>15</td></tr>",
                            "<tr><td>ANIKOS</td><td>GLS</td><td>128</td></tr>",
                            "<tr><td>ANIKOS</td><td>Posta</td><td>126</td></tr>",
                            "<tr><td>ANIKOS</td><td>Személyes átvétel</td><td>150</td></tr>",
                            "<tr><td>ANIKOS</td><td>NULL</td><td>404</td></tr>",
                            "<tr><td>anita</td><td>GLS</td><td>5</td></tr>",
                            "<tr><td>anita</td><td>Posta</td><td>2</td></tr>",
                            "<tr><td>anita</td><td>Személyes átvétel</td><td>5</td></tr>",
                            "<tr><td>anita</td><td>NULL</td><td>12</td></tr>",
                            "<tr><td>annamaria1</td><td>GLS</td><td>5</td></tr>",
                            "<tr><td>annamaria1</td><td>Posta</td><td>4</td></tr>",
                            "<tr><td>annamaria1</td><td>Személyes átvétel</td><td>7</td></tr>",
                            "<tr><td>annamaria1</td><td>NULL</td><td>16</td></tr>",
                            "<tr><td>ANNAMARIAR</td><td>GLS</td><td>8</td></tr>",
                            "<tr><td>ANNAMARIAR</td><td>Posta</td><td>2</td></tr>",
                            "<tr><td>ANNAMARIAR</td><td>Személyes átvétel</td><td>3</td></tr>",
                            "<tr><td>ANNAMARIAR</td><td>NULL</td><td>13</td></tr>",
                            "<tr><td>aron2</td><td>GLS</td><td>132</td></tr>",
                            "<tr><td>aron2</td><td>Posta</td><td>133</td></tr>",
                            "<tr><td>aron2</td><td>Személyes átvétel</td><td>144</td></tr>",
                            "<tr><td>aron2</td><td>NULL</td><td>409</td></tr>",
                            "<tr><td>ARONK</td><td>GLS</td><td>155</td></tr>",
                            "<tr><td>ARONK</td><td>Posta</td><td>120</td></tr>",
                            "<tr><td>ARONK</td><td>Személyes átvétel</td><td>155</td></tr>",
                            "<tr><td>ARONK</td><td>NULL</td><td>430</td></tr>",
                            "<tr><td>arpad2</td><td>GLS</td><td>6</td></tr>",
                            "<tr><td>arpad2</td><td>Posta</td><td>1</td></tr>",
                            "<tr><td>arpad2</td><td>Személyes átvétel</td><td>10</td></tr>",
                            "<tr><td>arpad2</td><td>NULL</td><td>17</td></tr>",
                            "<tr><td>ARPADH</td><td>GLS</td><td>6</td></tr>",
                            "<tr><td>ARPADH</td><td>Posta</td><td>3</td></tr>",
                            "<tr><td>ARPADH</td><td>Személyes átvétel</td><td>5</td></tr>",
                            "<tr><td>ARPADH</td><td>NULL</td><td>14</td></tr>",
                            "<tr><td>ARPADM</td><td>GLS</td><td>6</td></tr>",
                            "<tr><td>ARPADM</td><td>Posta</td><td>3</td></tr>",
                            "<tr><td>ARPADM</td><td>Személyes átvétel</td><td>7</td></tr>",
                            "<tr><td>ARPADM</td><td>NULL</td><td>16</td></tr>",
                            "<tr><td>attila1</td><td>GLS</td><td>5</td></tr>",
                            "<tr><td>attila1</td><td>Posta</td><td>7</td></tr>",
                            "<tr><td>attila1</td><td>Személyes átvétel</td><td>6</td></tr>",
                            "<tr><td>attila1</td><td>NULL</td><td>18</td></tr>",
                            "<tr><td>attila4</td><td>GLS</td><td>135</td></tr>",
                            "<tr><td>attila4</td><td>Posta</td><td>125</td></tr>",
                            "<tr><td>attila4</td><td>Személyes átvétel</td><td>141</td></tr>",
                            "<tr><td>attila4</td><td>NULL</td><td>401</td></tr>",
                            "<tr><td>ATTILAO</td><td>GLS</td><td>4</td></tr>",
                            "<tr><td>ATTILAO</td><td>Posta</td><td>4</td></tr>",
                            "<tr><td>ATTILAO</td><td>Személyes átvétel</td><td>6</td></tr>",
                            "<tr><td>ATTILAO</td><td>NULL</td><td>14</td></tr>",
                            "<tr><td>balazs1</td><td>GLS</td><td>128</td></tr>",
                            "<tr><td>balazs1</td><td>Posta</td><td>136</td></tr>",
                            "<tr><td>balazs1</td><td>Személyes átvétel</td><td>155</td></tr>",
                            "<tr><td>balazs1</td><td>NULL</td><td>419</td></tr>",
                            "<tr><td>balazs2</td><td>GLS</td><td>5</td></tr>",
                            "<tr><td>balazs2</td><td>Posta</td><td>7</td></tr>",
                            "<tr><td>balazs2</td><td>Személyes átvétel</td><td>5</td></tr>",
                            "<tr><td>balazs2</td><td>NULL</td><td>17</td></tr>",
                            "<tr><td>balazs3</td><td>GLS</td><td>6</td></tr>",
                            "<tr><td>balazs3</td><td>Posta</td><td>6</td></tr>",
                            "<tr><td>balazs3</td><td>Személyes átvétel</td><td>3</td></tr>",
                            "<tr><td>balazs3</td><td>NULL</td><td>15</td></tr>",
                            "<tr><td>balint</td><td>GLS</td><td>10</td></tr>",
                            "<tr><td>balint</td><td>Posta</td><td>4</td></tr>",
                            "<tr><td>balint</td><td>Személyes átvétel</td><td>2</td></tr>",
                            "<tr><td>balint</td><td>NULL</td><td>16</td></tr>",
                            "<tr><td>balint1</td><td>GLS</td><td>158</td></tr>",
                            "<tr><td>balint1</td><td>Posta</td><td>152</td></tr>",
                            "<tr><td>balint1</td><td>Személyes átvétel</td><td>152</td></tr>",
                            "<tr><td>balint1</td><td>NULL</td><td>462</td></tr>",
                            "<tr><td>balint2</td><td>GLS</td><td>8</td></tr>",
                            "<tr><td>balint2</td><td>Posta</td><td>6</td></tr>",
                            "<tr><td>balint2</td><td>Személyes átvétel</td><td>3</td></tr>",
                            "<tr><td>balint2</td><td>NULL</td><td>17</td></tr>",
                            "<tr><td>balu</td><td>GLS</td><td>127</td></tr>",
                            "<tr><td>balu</td><td>Posta</td><td>137</td></tr>",
                            "<tr><td>balu</td><td>Személyes átvétel</td><td>123</td></tr>",
                            "<tr><td>balu</td><td>NULL</td><td>387</td></tr>",
                            "<tr><td>BEATRIXK</td><td>GLS</td><td>135</td></tr>",
                            "<tr><td>BEATRIXK</td><td>Posta</td><td>155</td></tr>",
                            "<tr><td>BEATRIXK</td><td>Személyes átvétel</td><td>145</td></tr>",
                            "<tr><td>BEATRIXK</td><td>NULL</td><td>435</td></tr>",
                            "<tr><td>BEATRIXS</td><td>GLS</td><td>146</td></tr>",
                            "<tr><td>BEATRIXS</td><td>Posta</td><td>141</td></tr>",
                            "<tr><td>BEATRIXS</td><td>Személyes átvétel</td><td>133</td></tr>",
                            "<tr><td>BEATRIXS</td><td>NULL</td><td>420</td></tr>",
                            "<tr><td>BELAF</td><td>GLS</td><td>11</td></tr>",
                            "<tr><td>BELAF</td><td>Posta</td><td>2</td></tr>",
                            "<tr><td>BELAF</td><td>Személyes átvétel</td><td>5</td></tr>",
                            "<tr><td>BELAF</td><td>NULL</td><td>18</td></tr>",
                            "<tr><td>bence</td><td>GLS</td><td>4</td></tr>",
                            "<tr><td>bence</td><td>Posta</td><td>6</td></tr>",
                            "<tr><td>bence</td><td>Személyes átvétel</td><td>8</td></tr>",
                            "<tr><td>bence</td><td>NULL</td><td>18</td></tr>",
                            "<tr><td>BENCEB</td><td>GLS</td><td>5</td></tr>",
                            "<tr><td>BENCEB</td><td>Posta</td><td>7</td></tr>",
                            "<tr><td>BENCEB</td><td>Személyes átvétel</td><td>5</td></tr>",
                            "<tr><td>BENCEB</td><td>NULL</td><td>17</td></tr>",
                            "<tr><td>bernadett1</td><td>GLS</td><td>10</td></tr>",
                            "<tr><td>bernadett1</td><td>Posta</td><td>5</td></tr>",
                            "<tr><td>bernadett1</td><td>Személyes átvétel</td><td>5</td></tr>",
                            "<tr><td>bernadett1</td><td>NULL</td><td>20</td></tr>",
                            "<tr><td>bernadett2</td><td>GLS</td><td>6</td></tr>",
                            "<tr><td>bernadett2</td><td>Posta</td><td>2</td></tr>",
                            "<tr><td>bernadett2</td><td>Személyes átvétel</td><td>7</td></tr>",
                            "<tr><td>bernadett2</td><td>NULL</td><td>15</td></tr>",
                            "<tr><td>BERNADETTO</td><td>GLS</td><td>7</td></tr>",
                            "<tr><td>BERNADETTO</td><td>Posta</td><td>2</td></tr>",
                            "<tr><td>BERNADETTO</td><td>Személyes átvétel</td><td>7</td></tr>",
                            "<tr><td>BERNADETTO</td><td>NULL</td><td>16</td></tr>",
                            "<tr><td>bertalan</td><td>GLS</td><td>128</td></tr>",
                            "<tr><td>bertalan</td><td>Posta</td><td>124</td></tr>",
                            "<tr><td>bertalan</td><td>Személyes átvétel</td><td>101</td></tr>",
                            "<tr><td>bertalan</td><td>NULL</td><td>353</td></tr>",
                            "<tr><td>brigitta</td><td>GLS</td><td>137</td></tr>",
                            "<tr><td>brigitta</td><td>Posta</td><td>137</td></tr>",
                            "<tr><td>brigitta</td><td>Személyes átvétel</td><td>119</td></tr>",
                            "<tr><td>brigitta</td><td>NULL</td><td>393</td></tr>",
                            "<tr><td>brigitta3</td><td>GLS</td><td>144</td></tr>",
                            "<tr><td>brigitta3</td><td>Posta</td><td>130</td></tr>",
                            "<tr><td>brigitta3</td><td>Személyes átvétel</td><td>139</td></tr>",
                            "<tr><td>brigitta3</td><td>NULL</td><td>413</td></tr>",
                            "<tr><td>csongor3</td><td>GLS</td><td>5</td></tr>",
                            "<tr><td>csongor3</td><td>Posta</td><td>2</td></tr>",
                            "<tr><td>csongor3</td><td>Személyes átvétel</td><td>8</td></tr>",
                            "<tr><td>csongor3</td><td>NULL</td><td>15</td></tr>",
                            "<tr><td>dani</td><td>GLS</td><td>5</td></tr>",
                            "<tr><td>dani</td><td>Személyes átvétel</td><td>8</td></tr>",
                            "<tr><td>dani</td><td>NULL</td><td>13</td></tr>",
                            "<tr><td>daniel</td><td>GLS</td><td>7</td></tr>",
                            "<tr><td>daniel</td><td>Posta</td><td>2</td></tr>",
                            "<tr><td>daniel</td><td>Személyes átvétel</td><td>4</td></tr>",
                            "<tr><td>daniel</td><td>NULL</td><td>13</td></tr>",
                            "<tr><td>daniel1</td><td>GLS</td><td>156</td></tr>",
                            "<tr><td>daniel1</td><td>Posta</td><td>131</td></tr>",
                            "<tr><td>daniel1</td><td>Személyes átvétel</td><td>132</td></tr>",
                            "<tr><td>daniel1</td><td>NULL</td><td>419</td></tr>",
                            "<tr><td>david</td><td>GLS</td><td>161</td></tr>",
                            "<tr><td>david</td><td>Posta</td><td>144</td></tr>",
                            "<tr><td>david</td><td>Személyes átvétel</td><td>146</td></tr>",
                            "<tr><td>david</td><td>NULL</td><td>451</td></tr>",
                            "<tr><td>david1</td><td>GLS</td><td>8</td></tr>",
                            "<tr><td>david1</td><td>Posta</td><td>1</td></tr>",
                            "<tr><td>david1</td><td>Személyes átvétel</td><td>8</td></tr>",
                            "<tr><td>david1</td><td>NULL</td><td>17</td></tr>",
                            "<tr><td>david4</td><td>GLS</td><td>3</td></tr>",
                            "<tr><td>david4</td><td>Posta</td><td>8</td></tr>",
                            "<tr><td>david4</td><td>Személyes átvétel</td><td>10</td></tr>",
                            "<tr><td>david4</td><td>NULL</td><td>21</td></tr>",
                            "<tr><td>debora</td><td>GLS</td><td>7</td></tr>",
                            "<tr><td>debora</td><td>Posta</td><td>6</td></tr>",
                            "<tr><td>debora</td><td>Személyes átvétel</td><td>3</td></tr>",
                            "<tr><td>debora</td><td>NULL</td><td>16</td></tr>",
                            "<tr><td>denes</td><td>GLS</td><td>3</td></tr>",
                            "<tr><td>denes</td><td>Posta</td><td>2</td></tr>",
                            "<tr><td>denes</td><td>Személyes átvétel</td><td>4</td></tr>",
                            "<tr><td>denes</td><td>NULL</td><td>9</td></tr>",
                            "<tr><td>dora3</td><td>GLS</td><td>144</td></tr>",
                            "<tr><td>dora3</td><td>Posta</td><td>124</td></tr>",
                            "<tr><td>dora3</td><td>Személyes átvétel</td><td>164</td></tr>",
                            "<tr><td>dora3</td><td>NULL</td><td>432</td></tr>",
                            "<tr><td>edit</td><td>GLS</td><td>7</td></tr>",
                            "<tr><td>edit</td><td>Posta</td><td>2</td></tr>",
                            "<tr><td>edit</td><td>Személyes átvétel</td><td>4</td></tr>",
                            "<tr><td>edit</td><td>NULL</td><td>13</td></tr>",
                            "<tr><td>emese</td><td>GLS</td><td>128</td></tr>",
                            "<tr><td>emese</td><td>Posta</td><td>136</td></tr>",
                            "<tr><td>emese</td><td>Személyes átvétel</td><td>142</td></tr>",
                            "<tr><td>emese</td><td>NULL</td><td>406</td></tr>",
                            "<tr><td>eszter2</td><td>GLS</td><td>127</td></tr>",
                            "<tr><td>eszter2</td><td>Posta</td><td>136</td></tr>",
                            "<tr><td>eszter2</td><td>Személyes átvétel</td><td>152</td></tr>",
                            "<tr><td>eszter2</td><td>NULL</td><td>415</td></tr>",
                            "<tr><td>eszter4</td><td>GLS</td><td>141</td></tr>",
                            "<tr><td>eszter4</td><td>Posta</td><td>134</td></tr>",
                            "<tr><td>eszter4</td><td>Személyes átvétel</td><td>149</td></tr>",
                            "<tr><td>eszter4</td><td>NULL</td><td>424</td></tr>",
                            "<tr><td>ESZTERE</td><td>GLS</td><td>6</td></tr>",
                            "<tr><td>ESZTERE</td><td>Posta</td><td>9</td></tr>",
                            "<tr><td>ESZTERE</td><td>Személyes átvétel</td><td>7</td></tr>",
                            "<tr><td>ESZTERE</td><td>NULL</td><td>22</td></tr>",
                            "<tr><td>eva</td><td>GLS</td><td>125</td></tr>",
                            "<tr><td>eva</td><td>Posta</td><td>140</td></tr>",
                            "<tr><td>eva</td><td>Személyes átvétel</td><td>139</td></tr>",
                            "<tr><td>eva</td><td>NULL</td><td>404</td></tr>",
                            "<tr><td>eva2</td><td>GLS</td><td>154</td></tr>",
                            "<tr><td>eva2</td><td>Posta</td><td>138</td></tr>",
                            "<tr><td>eva2</td><td>Személyes átvétel</td><td>170</td></tr>",
                            "<tr><td>eva2</td><td>NULL</td><td>462</td></tr>",
                            "<tr><td>EVAV</td><td>GLS</td><td>2</td></tr>",
                            "<tr><td>EVAV</td><td>Posta</td><td>1</td></tr>",
                            "<tr><td>EVAV</td><td>Személyes átvétel</td><td>4</td></tr>",
                            "<tr><td>EVAV</td><td>NULL</td><td>7</td></tr>",
                            "<tr><td>ferenc1</td><td>GLS</td><td>144</td></tr>",
                            "<tr><td>ferenc1</td><td>Posta</td><td>158</td></tr>",
                            "<tr><td>ferenc1</td><td>Személyes átvétel</td><td>135</td></tr>",
                            "<tr><td>ferenc1</td><td>NULL</td><td>437</td></tr>",
                            "<tr><td>fruzsina4</td><td>GLS</td><td>8</td></tr>",
                            "<tr><td>fruzsina4</td><td>Posta</td><td>3</td></tr>",
                            "<tr><td>fruzsina4</td><td>Személyes átvétel</td><td>7</td></tr>",
                            "<tr><td>fruzsina4</td><td>NULL</td><td>18</td></tr>",
                            "<tr><td>gabor1</td><td>GLS</td><td>9</td></tr>",
                            "<tr><td>gabor1</td><td>Posta</td><td>5</td></tr>",
                            "<tr><td>gabor1</td><td>Személyes átvétel</td><td>5</td></tr>",
                            "<tr><td>gabor1</td><td>NULL</td><td>19</td></tr>",
                            "<tr><td>gabor4</td><td>GLS</td><td>7</td></tr>",
                            "<tr><td>gabor4</td><td>Posta</td><td>9</td></tr>",
                            "<tr><td>gabor4</td><td>Személyes átvétel</td><td>4</td></tr>",
                            "<tr><td>gabor4</td><td>NULL</td><td>20</td></tr>",
                            "<tr><td>GABORS</td><td>GLS</td><td>5</td></tr>",
                            "<tr><td>GABORS</td><td>Posta</td><td>6</td></tr>",
                            "<tr><td>GABORS</td><td>Személyes átvétel</td><td>4</td></tr>",
                            "<tr><td>GABORS</td><td>NULL</td><td>15</td></tr>",
                            "<tr><td>gabriella1</td><td>GLS</td><td>5</td></tr>",
                            "<tr><td>gabriella1</td><td>Posta</td><td>4</td></tr>",
                            "<tr><td>gabriella1</td><td>Személyes átvétel</td><td>5</td></tr>",
                            "<tr><td>gabriella1</td><td>NULL</td><td>14</td></tr>",
                            "<tr><td>gabriella10</td><td>GLS</td><td>4</td></tr>",
                            "<tr><td>gabriella10</td><td>Posta</td><td>5</td></tr>",
                            "<tr><td>gabriella10</td><td>Személyes átvétel</td><td>7</td></tr>",
                            "<tr><td>gabriella10</td><td>NULL</td><td>16</td></tr>",
                            "<tr><td>georgij</td><td>GLS</td><td>9</td></tr>",
                            "<tr><td>georgij</td><td>Posta</td><td>2</td></tr>",
                            "<tr><td>georgij</td><td>Személyes átvétel</td><td>10</td></tr>",
                            "<tr><td>georgij</td><td>NULL</td><td>21</td></tr>",
                            "<tr><td>gusztav</td><td>GLS</td><td>5</td></tr>",
                            "<tr><td>gusztav</td><td>Posta</td><td>4</td></tr>",
                            "<tr><td>gusztav</td><td>Személyes átvétel</td><td>5</td></tr>",
                            "<tr><td>gusztav</td><td>NULL</td><td>14</td></tr>",
                            "<tr><td>GYONGYIK</td><td>GLS</td><td>6</td></tr>",
                            "<tr><td>GYONGYIK</td><td>Posta</td><td>6</td></tr>",
                            "<tr><td>GYONGYIK</td><td>Személyes átvétel</td><td>3</td></tr>",
                            "<tr><td>GYONGYIK</td><td>NULL</td><td>15</td></tr>",
                            "<tr><td>GYORGYO</td><td>GLS</td><td>7</td></tr>",
                            "<tr><td>GYORGYO</td><td>Posta</td><td>4</td></tr>",
                            "<tr><td>GYORGYO</td><td>Személyes átvétel</td><td>5</td></tr>",
                            "<tr><td>GYORGYO</td><td>NULL</td><td>16</td></tr>",
                            "<tr><td>henrik3</td><td>GLS</td><td>7</td></tr>",
                            "<tr><td>henrik3</td><td>Posta</td><td>4</td></tr>",
                            "<tr><td>henrik3</td><td>Személyes átvétel</td><td>5</td></tr>",
                            "<tr><td>henrik3</td><td>NULL</td><td>16</td></tr>",
                            "<tr><td>IBOLYAA</td><td>GLS</td><td>140</td></tr>",
                            "<tr><td>IBOLYAA</td><td>Posta</td><td>125</td></tr>",
                            "<tr><td>IBOLYAA</td><td>Személyes átvétel</td><td>157</td></tr>",
                            "<tr><td>IBOLYAA</td><td>NULL</td><td>422</td></tr>",
                            "<tr><td>ilona3</td><td>GLS</td><td>9</td></tr>",
                            "<tr><td>ilona3</td><td>Posta</td><td>2</td></tr>",
                            "<tr><td>ilona3</td><td>Személyes átvétel</td><td>7</td></tr>",
                            "<tr><td>ilona3</td><td>NULL</td><td>18</td></tr>",
                            "<tr><td>imre</td><td>GLS</td><td>5</td></tr>",
                            "<tr><td>imre</td><td>Posta</td><td>4</td></tr>",
                            "<tr><td>imre</td><td>Személyes átvétel</td><td>6</td></tr>",
                            "<tr><td>imre</td><td>NULL</td><td>15</td></tr>",
                            "<tr><td>imre1</td><td>GLS</td><td>8</td></tr>",
                            "<tr><td>imre1</td><td>Posta</td><td>4</td></tr>",
                            "<tr><td>imre1</td><td>Személyes átvétel</td><td>3</td></tr>",
                            "<tr><td>imre1</td><td>NULL</td><td>15</td></tr>",
                            "<tr><td>istvan</td><td>GLS</td><td>3</td></tr>",
                            "<tr><td>istvan</td><td>Posta</td><td>4</td></tr>",
                            "<tr><td>istvan</td><td>Személyes átvétel</td><td>4</td></tr>",
                            "<tr><td>istvan</td><td>NULL</td><td>11</td></tr>",
                            "<tr><td>istvan1</td><td>GLS</td><td>8</td></tr>",
                            "<tr><td>istvan1</td><td>Posta</td><td>4</td></tr>",
                            "<tr><td>istvan1</td><td>Személyes átvétel</td><td>7</td></tr>",
                            "<tr><td>istvan1</td><td>NULL</td><td>19</td></tr>",
                            "<tr><td>ISTVANV</td><td>GLS</td><td>4</td></tr>",
                            "<tr><td>ISTVANV</td><td>Posta</td><td>9</td></tr>",
                            "<tr><td>ISTVANV</td><td>Személyes átvétel</td><td>8</td></tr>",
                            "<tr><td>ISTVANV</td><td>NULL</td><td>21</td></tr>",
                            "<tr><td>janos3</td><td>GLS</td><td>5</td></tr>",
                            "<tr><td>janos3</td><td>Posta</td><td>2</td></tr>",
                            "<tr><td>janos3</td><td>Személyes átvétel</td><td>6</td></tr>",
                            "<tr><td>janos3</td><td>NULL</td><td>13</td></tr>",
                            "<tr><td>JANOSG</td><td>GLS</td><td>3</td></tr>",
                            "<tr><td>JANOSG</td><td>Posta</td><td>3</td></tr>",
                            "<tr><td>JANOSG</td><td>Személyes átvétel</td><td>4</td></tr>",
                            "<tr><td>JANOSG</td><td>NULL</td><td>10</td></tr>",
                            "<tr><td>JANOSP</td><td>GLS</td><td>7</td></tr>",
                            "<tr><td>JANOSP</td><td>Posta</td><td>7</td></tr>",
                            "<tr><td>JANOSP</td><td>Személyes átvétel</td><td>3</td></tr>",
                            "<tr><td>JANOSP</td><td>NULL</td><td>17</td></tr>",
                            "<tr><td>jozsef</td><td>GLS</td><td>116</td></tr>",
                            "<tr><td>jozsef</td><td>Posta</td><td>132</td></tr>",
                            "<tr><td>jozsef</td><td>Személyes átvétel</td><td>134</td></tr>",
                            "<tr><td>jozsef</td><td>NULL</td><td>382</td></tr>",
                            "<tr><td>jozsef2</td><td>GLS</td><td>7</td></tr>",
                            "<tr><td>jozsef2</td><td>Posta</td><td>2</td></tr>",
                            "<tr><td>jozsef2</td><td>Személyes átvétel</td><td>4</td></tr>",
                            "<tr><td>jozsef2</td><td>NULL</td><td>13</td></tr>",
                            "<tr><td>JOZSEFG</td><td>GLS</td><td>11</td></tr>",
                            "<tr><td>JOZSEFG</td><td>Posta</td><td>1</td></tr>",
                            "<tr><td>JOZSEFG</td><td>Személyes átvétel</td><td>9</td></tr>",
                            "<tr><td>JOZSEFG</td><td>NULL</td><td>21</td></tr>",
                            "<tr><td>JUDITH</td><td>GLS</td><td>170</td></tr>",
                            "<tr><td>JUDITH</td><td>Posta</td><td>130</td></tr>",
                            "<tr><td>JUDITH</td><td>Személyes átvétel</td><td>150</td></tr>",
                            "<tr><td>JUDITH</td><td>NULL</td><td>450</td></tr>",
                            "<tr><td>julia</td><td>GLS</td><td>137</td></tr>",
                            "<tr><td>julia</td><td>Posta</td><td>160</td></tr>",
                            "<tr><td>julia</td><td>Személyes átvétel</td><td>138</td></tr>",
                            "<tr><td>julia</td><td>NULL</td><td>435</td></tr>",
                            "<tr><td>julia4</td><td>GLS</td><td>2</td></tr>",
                            "<tr><td>julia4</td><td>Posta</td><td>4</td></tr>",
                            "<tr><td>julia4</td><td>Személyes átvétel</td><td>8</td></tr>",
                            "<tr><td>julia4</td><td>NULL</td><td>14</td></tr>",
                            "<tr><td>julianna4</td><td>GLS</td><td>8</td></tr>",
                            "<tr><td>julianna4</td><td>Posta</td><td>12</td></tr>",
                            "<tr><td>julianna4</td><td>Személyes átvétel</td><td>7</td></tr>",
                            "<tr><td>julianna4</td><td>NULL</td><td>27</td></tr>",
                            "<tr><td>kata</td><td>GLS</td><td>5</td></tr>",
                            "<tr><td>kata</td><td>Posta</td><td>4</td></tr>",
                            "<tr><td>kata</td><td>Személyes átvétel</td><td>3</td></tr>",
                            "<tr><td>kata</td><td>NULL</td><td>12</td></tr>",
                            "<tr><td>katalin</td><td>GLS</td><td>7</td></tr>",
                            "<tr><td>katalin</td><td>Posta</td><td>7</td></tr>",
                            "<tr><td>katalin</td><td>Személyes átvétel</td><td>5</td></tr>",
                            "<tr><td>katalin</td><td>NULL</td><td>19</td></tr>",
                            "<tr><td>katalin4</td><td>GLS</td><td>7</td></tr>",
                            "<tr><td>katalin4</td><td>Posta</td><td>5</td></tr>",
                            "<tr><td>katalin4</td><td>Személyes átvétel</td><td>11</td></tr>",
                            "<tr><td>katalin4</td><td>NULL</td><td>23</td></tr>",
                            "<tr><td>kati</td><td>GLS</td><td>4</td></tr>",
                            "<tr><td>kati</td><td>Posta</td><td>5</td></tr>",
                            "<tr><td>kati</td><td>Személyes átvétel</td><td>4</td></tr>",
                            "<tr><td>kati</td><td>NULL</td><td>13</td></tr>",
                            "<tr><td>katka</td><td>GLS</td><td>6</td></tr>",
                            "<tr><td>katka</td><td>Posta</td><td>6</td></tr>",
                            "<tr><td>katka</td><td>Személyes átvétel</td><td>10</td></tr>",
                            "<tr><td>katka</td><td>NULL</td><td>22</td></tr>",
                            "<tr><td>klaudia2</td><td>GLS</td><td>3</td></tr>",
                            "<tr><td>klaudia2</td><td>Posta</td><td>9</td></tr>",
                            "<tr><td>klaudia2</td><td>Személyes átvétel</td><td>5</td></tr>",
                            "<tr><td>klaudia2</td><td>NULL</td><td>17</td></tr>",
                            "<tr><td>kornel4</td><td>GLS</td><td>3</td></tr>",
                            "<tr><td>kornel4</td><td>Posta</td><td>1</td></tr>",
                            "<tr><td>kornel4</td><td>Személyes átvétel</td><td>7</td></tr>",
                            "<tr><td>kornel4</td><td>NULL</td><td>11</td></tr>",
                            "<tr><td>kristof4</td><td>GLS</td><td>9</td></tr>",
                            "<tr><td>kristof4</td><td>Posta</td><td>4</td></tr>",
                            "<tr><td>kristof4</td><td>Személyes átvétel</td><td>8</td></tr>",
                            "<tr><td>kristof4</td><td>NULL</td><td>21</td></tr>",
                            "<tr><td>kriszti</td><td>GLS</td><td>3</td></tr>",
                            "<tr><td>kriszti</td><td>Posta</td><td>5</td></tr>",
                            "<tr><td>kriszti</td><td>Személyes átvétel</td><td>5</td></tr>",
                            "<tr><td>kriszti</td><td>NULL</td><td>13</td></tr>",
                            "<tr><td>krisztian4</td><td>GLS</td><td>5</td></tr>",
                            "<tr><td>krisztian4</td><td>Posta</td><td>6</td></tr>",
                            "<tr><td>krisztian4</td><td>Személyes átvétel</td><td>6</td></tr>",
                            "<tr><td>krisztian4</td><td>NULL</td><td>17</td></tr>",
                            "<tr><td>KRISZTIANM</td><td>GLS</td><td>118</td></tr>",
                            "<tr><td>KRISZTIANM</td><td>Posta</td><td>136</td></tr>",
                            "<tr><td>KRISZTIANM</td><td>Személyes átvétel</td><td>130</td></tr>",
                            "<tr><td>KRISZTIANM</td><td>NULL</td><td>384</td></tr>",
                            "<tr><td>krisztina</td><td>GLS</td><td>149</td></tr>",
                            "<tr><td>krisztina</td><td>Posta</td><td>150</td></tr>",
                            "<tr><td>krisztina</td><td>Személyes átvétel</td><td>157</td></tr>",
                            "<tr><td>krisztina</td><td>NULL</td><td>456</td></tr>",
                            "<tr><td>krisztina1</td><td>GLS</td><td>10</td></tr>",
                            "<tr><td>krisztina1</td><td>Posta</td><td>4</td></tr>",
                            "<tr><td>krisztina1</td><td>Személyes átvétel</td><td>8</td></tr>",
                            "<tr><td>krisztina1</td><td>NULL</td><td>22</td></tr>",
                            "<tr><td>KRISZTINAG</td><td>GLS</td><td>6</td></tr>",
                            "<tr><td>KRISZTINAG</td><td>Posta</td><td>6</td></tr>",
                            "<tr><td>KRISZTINAG</td><td>Személyes átvétel</td><td>10</td></tr>",
                            "<tr><td>KRISZTINAG</td><td>NULL</td><td>22</td></tr>",
                            "<tr><td>lajos</td><td>GLS</td><td>5</td></tr>",
                            "<tr><td>lajos</td><td>Posta</td><td>2</td></tr>",
                            "<tr><td>lajos</td><td>Személyes átvétel</td><td>9</td></tr>",
                            "<tr><td>lajos</td><td>NULL</td><td>16</td></tr>",
                            "<tr><td>lala</td><td>GLS</td><td>5</td></tr>",
                            "<tr><td>lala</td><td>Posta</td><td>3</td></tr>",
                            "<tr><td>lala</td><td>Személyes átvétel</td><td>9</td></tr>",
                            "<tr><td>lala</td><td>NULL</td><td>17</td></tr>",
                            "<tr><td>laszlo1</td><td>GLS</td><td>130</td></tr>",
                            "<tr><td>laszlo1</td><td>Posta</td><td>129</td></tr>",
                            "<tr><td>laszlo1</td><td>Személyes átvétel</td><td>135</td></tr>",
                            "<tr><td>laszlo1</td><td>NULL</td><td>394</td></tr>",
                            "<tr><td>laszlo2</td><td>GLS</td><td>12</td></tr>",
                            "<tr><td>laszlo2</td><td>Posta</td><td>6</td></tr>",
                            "<tr><td>laszlo2</td><td>Személyes átvétel</td><td>7</td></tr>",
                            "<tr><td>laszlo2</td><td>NULL</td><td>25</td></tr>",
                            "<tr><td>LASZLOA</td><td>GLS</td><td>156</td></tr>",
                            "<tr><td>LASZLOA</td><td>Posta</td><td>136</td></tr>",
                            "<tr><td>LASZLOA</td><td>Személyes átvétel</td><td>154</td></tr>",
                            "<tr><td>LASZLOA</td><td>NULL</td><td>446</td></tr>",
                            "<tr><td>LASZLON</td><td>GLS</td><td>126</td></tr>",
                            "<tr><td>LASZLON</td><td>Posta</td><td>131</td></tr>",
                            "<tr><td>LASZLON</td><td>Személyes átvétel</td><td>143</td></tr>",
                            "<tr><td>LASZLON</td><td>NULL</td><td>400</td></tr>",
                            "<tr><td>maria1</td><td>GLS</td><td>4</td></tr>",
                            "<tr><td>maria1</td><td>Posta</td><td>5</td></tr>",
                            "<tr><td>maria1</td><td>Személyes átvétel</td><td>1</td></tr>",
                            "<tr><td>maria1</td><td>NULL</td><td>10</td></tr>",
                            "<tr><td>MARKH</td><td>GLS</td><td>128</td></tr>",
                            "<tr><td>MARKH</td><td>Posta</td><td>142</td></tr>",
                            "<tr><td>MARKH</td><td>Személyes átvétel</td><td>142</td></tr>",
                            "<tr><td>MARKH</td><td>NULL</td><td>412</td></tr>",
                            "<tr><td>marton</td><td>GLS</td><td>5</td></tr>",
                            "<tr><td>marton</td><td>Posta</td><td>4</td></tr>",
                            "<tr><td>marton</td><td>Személyes átvétel</td><td>5</td></tr>",
                            "<tr><td>marton</td><td>NULL</td><td>14</td></tr>",
                            "<tr><td>MATEK</td><td>GLS</td><td>6</td></tr>",
                            "<tr><td>MATEK</td><td>Posta</td><td>10</td></tr>",
                            "<tr><td>MATEK</td><td>Személyes átvétel</td><td>9</td></tr>",
                            "<tr><td>MATEK</td><td>NULL</td><td>25</td></tr>",
                            "<tr><td>matyas2</td><td>GLS</td><td>138</td></tr>",
                            "<tr><td>matyas2</td><td>Posta</td><td>131</td></tr>",
                            "<tr><td>matyas2</td><td>Személyes átvétel</td><td>164</td></tr>",
                            "<tr><td>matyas2</td><td>NULL</td><td>433</td></tr>",
                            "<tr><td>MATYASS</td><td>GLS</td><td>4</td></tr>",
                            "<tr><td>MATYASS</td><td>Posta</td><td>5</td></tr>",
                            "<tr><td>MATYASS</td><td>Személyes átvétel</td><td>3</td></tr>",
                            "<tr><td>MATYASS</td><td>NULL</td><td>12</td></tr>",
                            "<tr><td>MIHALYJ</td><td>GLS</td><td>3</td></tr>",
                            "<tr><td>MIHALYJ</td><td>Posta</td><td>4</td></tr>",
                            "<tr><td>MIHALYJ</td><td>Személyes átvétel</td><td>6</td></tr>",
                            "<tr><td>MIHALYJ</td><td>NULL</td><td>13</td></tr>",
                            "<tr><td>miklos2</td><td>GLS</td><td>7</td></tr>",
                            "<tr><td>miklos2</td><td>Posta</td><td>4</td></tr>",
                            "<tr><td>miklos2</td><td>Személyes átvétel</td><td>2</td></tr>",
                            "<tr><td>miklos2</td><td>NULL</td><td>13</td></tr>",
                            "<tr><td>MIKLOSB</td><td>GLS</td><td>6</td></tr>",
                            "<tr><td>MIKLOSB</td><td>Posta</td><td>1</td></tr>",
                            "<tr><td>MIKLOSB</td><td>Személyes átvétel</td><td>8</td></tr>",
                            "<tr><td>MIKLOSB</td><td>NULL</td><td>15</td></tr>",
                            "<tr><td>MONIKAM</td><td>GLS</td><td>133</td></tr>",
                            "<tr><td>MONIKAM</td><td>Posta</td><td>151</td></tr>",
                            "<tr><td>MONIKAM</td><td>Személyes átvétel</td><td>123</td></tr>",
                            "<tr><td>MONIKAM</td><td>NULL</td><td>407</td></tr>",
                            "<tr><td>NANDORF</td><td>GLS</td><td>147</td></tr>",
                            "<tr><td>NANDORF</td><td>Posta</td><td>139</td></tr>",
                            "<tr><td>NANDORF</td><td>Személyes átvétel</td><td>134</td></tr>",
                            "<tr><td>NANDORF</td><td>NULL</td><td>420</td></tr>",
                            "<tr><td>nikolett3</td><td>GLS</td><td>4</td></tr>",
                            "<tr><td>nikolett3</td><td>Posta</td><td>3</td></tr>",
                            "<tr><td>nikolett3</td><td>Személyes átvétel</td><td>10</td></tr>",
                            "<tr><td>nikolett3</td><td>NULL</td><td>17</td></tr>",
                            "<tr><td>nikoletta4</td><td>GLS</td><td>137</td></tr>",
                            "<tr><td>nikoletta4</td><td>Posta</td><td>158</td></tr>",
                            "<tr><td>nikoletta4</td><td>Személyes átvétel</td><td>119</td></tr>",
                            "<tr><td>nikoletta4</td><td>NULL</td><td>414</td></tr>",
                            "<tr><td>NIKOLETTAT</td><td>GLS</td><td>13</td></tr>",
                            "<tr><td>NIKOLETTAT</td><td>Posta</td><td>7</td></tr>",
                            "<tr><td>NIKOLETTAT</td><td>Személyes átvétel</td><td>5</td></tr>",
                            "<tr><td>NIKOLETTAT</td><td>NULL</td><td>25</td></tr>",
                            "<tr><td>norbert2</td><td>GLS</td><td>7</td></tr>",
                            "<tr><td>norbert2</td><td>Posta</td><td>4</td></tr>",
                            "<tr><td>norbert2</td><td>NULL</td><td>11</td></tr>",
                            "<tr><td>norbert4</td><td>GLS</td><td>1</td></tr>",
                            "<tr><td>norbert4</td><td>Posta</td><td>3</td></tr>",
                            "<tr><td>norbert4</td><td>Személyes átvétel</td><td>9</td></tr>",
                            "<tr><td>norbert4</td><td>NULL</td><td>13</td></tr>",
                            "<tr><td>norbert5</td><td>GLS</td><td>1</td></tr>",
                            "<tr><td>norbert5</td><td>Posta</td><td>6</td></tr>",
                            "<tr><td>norbert5</td><td>Személyes átvétel</td><td>9</td></tr>",
                            "<tr><td>norbert5</td><td>NULL</td><td>16</td></tr>",
                            "<tr><td>pal</td><td>GLS</td><td>152</td></tr>",
                            "<tr><td>pal</td><td>Posta</td><td>132</td></tr>",
                            "<tr><td>pal</td><td>Személyes átvétel</td><td>154</td></tr>",
                            "<tr><td>pal</td><td>NULL</td><td>438</td></tr>",
                            "<tr><td>peter1</td><td>GLS</td><td>151</td></tr>",
                            "<tr><td>peter1</td><td>Posta</td><td>135</td></tr>",
                            "<tr><td>peter1</td><td>Személyes átvétel</td><td>126</td></tr>",
                            "<tr><td>peter1</td><td>NULL</td><td>412</td></tr>",
                            "<tr><td>peter2</td><td>GLS</td><td>7</td></tr>",
                            "<tr><td>peter2</td><td>Posta</td><td>4</td></tr>",
                            "<tr><td>peter2</td><td>Személyes átvétel</td><td>7</td></tr>",
                            "<tr><td>peter2</td><td>NULL</td><td>18</td></tr>",
                            "<tr><td>peter3</td><td>GLS</td><td>8</td></tr>",
                            "<tr><td>peter3</td><td>Posta</td><td>7</td></tr>",
                            "<tr><td>peter3</td><td>Személyes átvétel</td><td>10</td></tr>",
                            "<tr><td>peter3</td><td>NULL</td><td>25</td></tr>",
                            "<tr><td>peter4</td><td>GLS</td><td>266</td></tr>",
                            "<tr><td>peter4</td><td>Posta</td><td>293</td></tr>",
                            "<tr><td>peter4</td><td>Személyes átvétel</td><td>293</td></tr>",
                            "<tr><td>peter4</td><td>NULL</td><td>852</td></tr>",
                            "<tr><td>PETERB</td><td>GLS</td><td>2</td></tr>",
                            "<tr><td>PETERB</td><td>Posta</td><td>4</td></tr>",
                            "<tr><td>PETERB</td><td>Személyes átvétel</td><td>9</td></tr>",
                            "<tr><td>PETERB</td><td>NULL</td><td>15</td></tr>",
                            "<tr><td>polla</td><td>GLS</td><td>9</td></tr>",
                            "<tr><td>polla</td><td>Posta</td><td>6</td></tr>",
                            "<tr><td>polla</td><td>Személyes átvétel</td><td>7</td></tr>",
                            "<tr><td>polla</td><td>NULL</td><td>22</td></tr>",
                            "<tr><td>rajmond4</td><td>GLS</td><td>6</td></tr>",
                            "<tr><td>rajmond4</td><td>Posta</td><td>5</td></tr>",
                            "<tr><td>rajmond4</td><td>Személyes átvétel</td><td>6</td></tr>",
                            "<tr><td>rajmond4</td><td>NULL</td><td>17</td></tr>",
                            "<tr><td>reka4</td><td>GLS</td><td>5</td></tr>",
                            "<tr><td>reka4</td><td>Posta</td><td>4</td></tr>",
                            "<tr><td>reka4</td><td>Személyes átvétel</td><td>11</td></tr>",
                            "<tr><td>reka4</td><td>NULL</td><td>20</td></tr>",
                            "<tr><td>RENATAK</td><td>GLS</td><td>135</td></tr>",
                            "<tr><td>RENATAK</td><td>Posta</td><td>140</td></tr>",
                            "<tr><td>RENATAK</td><td>Személyes átvétel</td><td>147</td></tr>",
                            "<tr><td>RENATAK</td><td>NULL</td><td>422</td></tr>",
                            "<tr><td>RENATAS</td><td>GLS</td><td>6</td></tr>",
                            "<tr><td>RENATAS</td><td>Posta</td><td>5</td></tr>",
                            "<tr><td>RENATAS</td><td>Személyes átvétel</td><td>5</td></tr>",
                            "<tr><td>RENATAS</td><td>NULL</td><td>16</td></tr>",
                            "<tr><td>robert2</td><td>GLS</td><td>5</td></tr>",
                            "<tr><td>robert2</td><td>Posta</td><td>1</td></tr>",
                            "<tr><td>robert2</td><td>Személyes átvétel</td><td>7</td></tr>",
                            "<tr><td>robert2</td><td>NULL</td><td>13</td></tr>",
                            "<tr><td>ROBERTI</td><td>GLS</td><td>5</td></tr>",
                            "<tr><td>ROBERTI</td><td>Posta</td><td>3</td></tr>",
                            "<tr><td>ROBERTI</td><td>Személyes átvétel</td><td>5</td></tr>",
                            "<tr><td>ROBERTI</td><td>NULL</td><td>13</td></tr>",
                            "<tr><td>ROBERTP</td><td>GLS</td><td>8</td></tr>",
                            "<tr><td>ROBERTP</td><td>Posta</td><td>8</td></tr>",
                            "<tr><td>ROBERTP</td><td>Személyes átvétel</td><td>10</td></tr>",
                            "<tr><td>ROBERTP</td><td>NULL</td><td>26</td></tr>",
                            "<tr><td>roland</td><td>GLS</td><td>132</td></tr>",
                            "<tr><td>roland</td><td>Posta</td><td>157</td></tr>",
                            "<tr><td>roland</td><td>Személyes átvétel</td><td>125</td></tr>",
                            "<tr><td>roland</td><td>NULL</td><td>414</td></tr>",
                            "<tr><td>roland1</td><td>GLS</td><td>142</td></tr>",
                            "<tr><td>roland1</td><td>Posta</td><td>155</td></tr>",
                            "<tr><td>roland1</td><td>Személyes átvétel</td><td>135</td></tr>",
                            "<tr><td>roland1</td><td>NULL</td><td>432</td></tr>",
                            "<tr><td>roza2</td><td>GLS</td><td>3</td></tr>",
                            "<tr><td>roza2</td><td>Posta</td><td>2</td></tr>",
                            "<tr><td>roza2</td><td>Személyes átvétel</td><td>3</td></tr>",
                            "<tr><td>roza2</td><td>NULL</td><td>8</td></tr>",
                            "<tr><td>sandor</td><td>GLS</td><td>4</td></tr>",
                            "<tr><td>sandor</td><td>Posta</td><td>6</td></tr>",
                            "<tr><td>sandor</td><td>Személyes átvétel</td><td>7</td></tr>",
                            "<tr><td>sandor</td><td>NULL</td><td>17</td></tr>",
                            "<tr><td>sandor3</td><td>GLS</td><td>4</td></tr>",
                            "<tr><td>sandor3</td><td>Posta</td><td>4</td></tr>",
                            "<tr><td>sandor3</td><td>Személyes átvétel</td><td>6</td></tr>",
                            "<tr><td>sandor3</td><td>NULL</td><td>14</td></tr>",
                            "<tr><td>sandor4</td><td>GLS</td><td>4</td></tr>",
                            "<tr><td>sandor4</td><td>Posta</td><td>2</td></tr>",
                            "<tr><td>sandor4</td><td>Személyes átvétel</td><td>5</td></tr>",
                            "<tr><td>sandor4</td><td>NULL</td><td>11</td></tr>",
                            "<tr><td>sara</td><td>GLS</td><td>4</td></tr>",
                            "<tr><td>sara</td><td>Posta</td><td>7</td></tr>",
                            "<tr><td>sara</td><td>Személyes átvétel</td><td>9</td></tr>",
                            "<tr><td>sara</td><td>NULL</td><td>20</td></tr>",
                            "<tr><td>SEBASTIANF</td><td>GLS</td><td>6</td></tr>",
                            "<tr><td>SEBASTIANF</td><td>Posta</td><td>3</td></tr>",
                            "<tr><td>SEBASTIANF</td><td>Személyes átvétel</td><td>6</td></tr>",
                            "<tr><td>SEBASTIANF</td><td>NULL</td><td>15</td></tr>",
                            "<tr><td>sebestyen</td><td>GLS</td><td>4</td></tr>",
                            "<tr><td>sebestyen</td><td>Posta</td><td>6</td></tr>",
                            "<tr><td>sebestyen</td><td>Személyes átvétel</td><td>6</td></tr>",
                            "<tr><td>sebestyen</td><td>NULL</td><td>16</td></tr>",
                            "<tr><td>szabolcs</td><td>GLS</td><td>145</td></tr>",
                            "<tr><td>szabolcs</td><td>Posta</td><td>157</td></tr>",
                            "<tr><td>szabolcs</td><td>Személyes átvétel</td><td>169</td></tr>",
                            "<tr><td>szabolcs</td><td>NULL</td><td>471</td></tr>",
                            "<tr><td>SZABOLCSM</td><td>GLS</td><td>126</td></tr>",
                            "<tr><td>SZABOLCSM</td><td>Posta</td><td>153</td></tr>",
                            "<tr><td>SZABOLCSM</td><td>Személyes átvétel</td><td>129</td></tr>",
                            "<tr><td>SZABOLCSM</td><td>NULL</td><td>408</td></tr>",
                            "<tr><td>SZILARDS</td><td>GLS</td><td>144</td></tr>",
                            "<tr><td>SZILARDS</td><td>Posta</td><td>131</td></tr>",
                            "<tr><td>SZILARDS</td><td>Személyes átvétel</td><td>111</td></tr>",
                            "<tr><td>SZILARDS</td><td>NULL</td><td>386</td></tr>",
                            "<tr><td>szilvia1</td><td>GLS</td><td>156</td></tr>",
                            "<tr><td>szilvia1</td><td>Posta</td><td>151</td></tr>",
                            "<tr><td>szilvia1</td><td>Személyes átvétel</td><td>138</td></tr>",
                            "<tr><td>szilvia1</td><td>NULL</td><td>445</td></tr>",
                            "<tr><td>tamara2</td><td>GLS</td><td>6</td></tr>",
                            "<tr><td>tamara2</td><td>Posta</td><td>4</td></tr>",
                            "<tr><td>tamara2</td><td>Személyes átvétel</td><td>3</td></tr>",
                            "<tr><td>tamara2</td><td>NULL</td><td>13</td></tr>",
                            "<tr><td>tamas</td><td>GLS</td><td>143</td></tr>",
                            "<tr><td>tamas</td><td>Posta</td><td>156</td></tr>",
                            "<tr><td>tamas</td><td>Személyes átvétel</td><td>122</td></tr>",
                            "<tr><td>tamas</td><td>NULL</td><td>421</td></tr>",
                            "<tr><td>TAMASF</td><td>GLS</td><td>159</td></tr>",
                            "<tr><td>TAMASF</td><td>Posta</td><td>145</td></tr>",
                            "<tr><td>TAMASF</td><td>Személyes átvétel</td><td>129</td></tr>",
                            "<tr><td>TAMASF</td><td>NULL</td><td>433</td></tr>",
                            "<tr><td>tibor</td><td>GLS</td><td>115</td></tr>",
                            "<tr><td>tibor</td><td>Posta</td><td>129</td></tr>",
                            "<tr><td>tibor</td><td>Személyes átvétel</td><td>130</td></tr>",
                            "<tr><td>tibor</td><td>NULL</td><td>374</td></tr>",
                            "<tr><td>tibor2</td><td>GLS</td><td>7</td></tr>",
                            "<tr><td>tibor2</td><td>Posta</td><td>7</td></tr>",
                            "<tr><td>tibor2</td><td>Személyes átvétel</td><td>11</td></tr>",
                            "<tr><td>tibor2</td><td>NULL</td><td>25</td></tr>",
                            "<tr><td>tihamer</td><td>GLS</td><td>9</td></tr>",
                            "<tr><td>tihamer</td><td>Posta</td><td>6</td></tr>",
                            "<tr><td>tihamer</td><td>Személyes átvétel</td><td>5</td></tr>",
                            "<tr><td>tihamer</td><td>NULL</td><td>20</td></tr>",
                            "<tr><td>timea</td><td>GLS</td><td>14</td></tr>",
                            "<tr><td>timea</td><td>Posta</td><td>23</td></tr>",
                            "<tr><td>timea</td><td>Személyes átvétel</td><td>18</td></tr>",
                            "<tr><td>timea</td><td>NULL</td><td>55</td></tr>",
                            "<tr><td>timea2</td><td>GLS</td><td>1</td></tr>",
                            "<tr><td>timea2</td><td>Posta</td><td>5</td></tr>",
                            "<tr><td>timea2</td><td>Személyes átvétel</td><td>10</td></tr>",
                            "<tr><td>timea2</td><td>NULL</td><td>16</td></tr>",
                            "<tr><td>tunde</td><td>GLS</td><td>6</td></tr>",
                            "<tr><td>tunde</td><td>Posta</td><td>6</td></tr>",
                            "<tr><td>tunde</td><td>Személyes átvétel</td><td>4</td></tr>",
                            "<tr><td>tunde</td><td>NULL</td><td>16</td></tr>",
                            "<tr><td>valentin</td><td>GLS</td><td>5</td></tr>",
                            "<tr><td>valentin</td><td>Posta</td><td>5</td></tr>",
                            "<tr><td>valentin</td><td>Személyes átvétel</td><td>3</td></tr>",
                            "<tr><td>valentin</td><td>NULL</td><td>13</td></tr>",
                            "<tr><td>veronika4</td><td>GLS</td><td>5</td></tr>",
                            "<tr><td>veronika4</td><td>Posta</td><td>6</td></tr>",
                            "<tr><td>veronika4</td><td>Személyes átvétel</td><td>7</td></tr>",
                            "<tr><td>veronika4</td><td>NULL</td><td>18</td></tr>",
                            "<tr><td>VIKTORIAU</td><td>GLS</td><td>5</td></tr>",
                            "<tr><td>VIKTORIAU</td><td>Posta</td><td>4</td></tr>",
                            "<tr><td>VIKTORIAU</td><td>Személyes átvétel</td><td>5</td></tr>",
                            "<tr><td>VIKTORIAU</td><td>NULL</td><td>14</td></tr>",
                            "<tr><td>VIKTORK</td><td>GLS</td><td>8</td></tr>",
                            "<tr><td>VIKTORK</td><td>Posta</td><td>6</td></tr>",
                            "<tr><td>VIKTORK</td><td>Személyes átvétel</td><td>6</td></tr>",
                            "<tr><td>VIKTORK</td><td>NULL</td><td>20</td></tr>",
                            "<tr><td>vivien3</td><td>GLS</td><td>9</td></tr>",
                            "<tr><td>vivien3</td><td>Posta</td><td>6</td></tr>",
                            "<tr><td>vivien3</td><td>Személyes átvétel</td><td>7</td></tr>",
                            "<tr><td>vivien3</td><td>NULL</td><td>22</td></tr>",
                            "<tr><td>zoltan</td><td>GLS</td><td>5</td></tr>",
                            "<tr><td>zoltan</td><td>Posta</td><td>3</td></tr>",
                            "<tr><td>zoltan</td><td>Személyes átvétel</td><td>7</td></tr>",
                            "<tr><td>zoltan</td><td>NULL</td><td>15</td></tr>",
                            "<tr><td>zoltan4</td><td>GLS</td><td>129</td></tr>",
                            "<tr><td>zoltan4</td><td>Posta</td><td>124</td></tr>",
                            "<tr><td>zoltan4</td><td>Személyes átvétel</td><td>171</td></tr>",
                            "<tr><td>zoltan4</td><td>NULL</td><td>424</td></tr>",
                            "<tr><td>ZOLTANP</td><td>GLS</td><td>6</td></tr>",
                            "<tr><td>ZOLTANP</td><td>Posta</td><td>3</td></tr>",
                            "<tr><td>ZOLTANP</td><td>Személyes átvétel</td><td>4</td></tr>",
                            "<tr><td>ZOLTANP</td><td>NULL</td><td>13</td></tr>",
                            "<tr><td>ZOLTANT</td><td>GLS</td><td>127</td></tr>",
                            "<tr><td>ZOLTANT</td><td>Posta</td><td>107</td></tr>",
                            "<tr><td>ZOLTANT</td><td>Személyes átvétel</td><td>123</td></tr>",
                            "<tr><td>ZOLTANT</td><td>NULL</td><td>357</td></tr>",
                            "<tr><td>zsofi1</td><td>GLS</td><td>7</td></tr>",
                            "<tr><td>zsofi1</td><td>Posta</td><td>6</td></tr>",
                            "<tr><td>zsofi1</td><td>Személyes átvétel</td><td>6</td></tr>",
                            "<tr><td>zsofi1</td><td>NULL</td><td>19</td></tr>",
                            "<tr><td>zsolt1</td><td>GLS</td><td>11</td></tr>",
                            "<tr><td>zsolt1</td><td>Posta</td><td>6</td></tr>",
                            "<tr><td>zsolt1</td><td>Személyes átvétel</td><td>3</td></tr>",
                            "<tr><td>zsolt1</td><td>NULL</td><td>20</td></tr>",
                            "<tr><td>ZSOLTJ</td><td>GLS</td><td>1</td></tr>",
                            "<tr><td>ZSOLTJ</td><td>Posta</td><td>8</td></tr>",
                            "<tr><td>ZSOLTJ</td><td>Személyes átvétel</td><td>9</td></tr>",
                            "<tr><td>ZSOLTJ</td><td>NULL</td><td>18</td></tr>",
                            "<tr><td>zsuzsa</td><td>GLS</td><td>8</td></tr>",
                            "<tr><td>zsuzsa</td><td>Posta</td><td>5</td></tr>",
                            "<tr><td>zsuzsa</td><td>Személyes átvétel</td><td>3</td></tr>",
                            "<tr><td>zsuzsa</td><td>NULL</td><td>16</td></tr>",
                            "<tr><td>zsuzsa3</td><td>GLS</td><td>5</td></tr>",
                            "<tr><td>zsuzsa3</td><td>Posta</td><td>5</td></tr>",
                            "<tr><td>zsuzsa3</td><td>Személyes átvétel</td><td>6</td></tr>",
                            "<tr><td>zsuzsa3</td><td>NULL</td><td>16</td></tr>",
                            "<tr><td>zsuzsanna</td><td>GLS</td><td>7</td></tr>",
                            "<tr><td>zsuzsanna</td><td>Posta</td><td>5</td></tr>",
                            "<tr><td>zsuzsanna</td><td>Személyes átvétel</td><td>3</td></tr>",
                            "<tr><td>zsuzsanna</td><td>NULL</td><td>15</td></tr>",
                            "<tr><td>ZSUZSAV</td><td>GLS</td><td>139</td></tr>",
                            "<tr><td>ZSUZSAV</td><td>Posta</td><td>139</td></tr>",
                            "<tr><td>ZSUZSAV</td><td>Személyes átvétel</td><td>142</td></tr>",
                            "<tr><td>ZSUZSAV</td><td>NULL</td><td>420</td></tr>",
                            "<tr><td>NULL</td><td>NULL</td><td>28085</td></tr>",
                            "</table>"
                        ]
                    }
                }
            ],
            "execution_count": 8
        },
        {
            "cell_type": "markdown",
            "source": [
                "7\\. Készítsünk listát a termékek számáról a következő csoportosítási\n",
                "\n",
                " szempontok szerint: kategória azonosító, raktárkód, raktárkód+mennyiségi \n",
                "\n",
                " egység! A listát szűrjük azokra a csoportokra, ahol a termékek száma\n",
                "\n",
                " legalább 6!"
            ],
            "metadata": {
                "azdata_cell_guid": "edc0f472-826f-46e2-9b5f-1b7b5776e700"
            },
            "attachments": {}
        },
        {
            "cell_type": "code",
            "source": [
                "-- GROUPING SETS\r\n",
                "SELECT KAT_ID,\r\n",
                "        RAKTAR_KOD,\r\n",
                "        MEGYS,\r\n",
                "        COUNT(*) as 'db'\r\n",
                "FROM Termek\r\n",
                "GROUP BY GROUPING SETS(KAT_ID, RAKTAR_KOD, (RAKTAR_KOD, MEGYS))\r\n",
                "HAVING COUNT(*) >= 6"
            ],
            "metadata": {
                "azdata_cell_guid": "547468b5-4077-48ca-92ea-363e9d27b48d",
                "language": "sql"
            },
            "outputs": [
                {
                    "output_type": "display_data",
                    "data": {
                        "text/html": "(49 rows affected)"
                    },
                    "metadata": {}
                },
                {
                    "output_type": "display_data",
                    "data": {
                        "text/html": "Total execution time: 00:00:00.054"
                    },
                    "metadata": {}
                },
                {
                    "output_type": "execute_result",
                    "execution_count": 41,
                    "data": {
                        "application/vnd.dataresource+json": {
                            "schema": {
                                "fields": [
                                    {
                                        "name": "KAT_ID"
                                    },
                                    {
                                        "name": "RAKTAR_KOD"
                                    },
                                    {
                                        "name": "MEGYS"
                                    },
                                    {
                                        "name": "db"
                                    }
                                ]
                            },
                            "data": [
                                {
                                    "0": "NULL",
                                    "1": "1",
                                    "2": "db",
                                    "3": "11"
                                },
                                {
                                    "0": "NULL",
                                    "1": "1",
                                    "2": "NULL",
                                    "3": "11"
                                },
                                {
                                    "0": "NULL",
                                    "1": "3",
                                    "2": "db",
                                    "3": "14"
                                },
                                {
                                    "0": "NULL",
                                    "1": "3",
                                    "2": "NULL",
                                    "3": "14"
                                },
                                {
                                    "0": "NULL",
                                    "1": "5",
                                    "2": "csomag",
                                    "3": "7"
                                },
                                {
                                    "0": "NULL",
                                    "1": "5",
                                    "2": "db",
                                    "3": "72"
                                },
                                {
                                    "0": "NULL",
                                    "1": "5",
                                    "2": "NULL",
                                    "3": "86"
                                },
                                {
                                    "0": "NULL",
                                    "1": "6",
                                    "2": "csomag",
                                    "3": "9"
                                },
                                {
                                    "0": "NULL",
                                    "1": "6",
                                    "2": "db",
                                    "3": "94"
                                },
                                {
                                    "0": "NULL",
                                    "1": "6",
                                    "2": "NULL",
                                    "3": "106"
                                },
                                {
                                    "0": "NULL",
                                    "1": "7",
                                    "2": "csomag",
                                    "3": "9"
                                },
                                {
                                    "0": "NULL",
                                    "1": "7",
                                    "2": "db",
                                    "3": "88"
                                },
                                {
                                    "0": "NULL",
                                    "1": "7",
                                    "2": "NULL",
                                    "3": "100"
                                },
                                {
                                    "0": "NULL",
                                    "1": "8",
                                    "2": "csomag",
                                    "3": "8"
                                },
                                {
                                    "0": "NULL",
                                    "1": "8",
                                    "2": "db",
                                    "3": "109"
                                },
                                {
                                    "0": "NULL",
                                    "1": "8",
                                    "2": "ív",
                                    "3": "6"
                                },
                                {
                                    "0": "NULL",
                                    "1": "8",
                                    "2": "NULL",
                                    "3": "123"
                                },
                                {
                                    "0": "NULL",
                                    "1": "9",
                                    "2": "csomag",
                                    "3": "11"
                                },
                                {
                                    "0": "NULL",
                                    "1": "9",
                                    "2": "db",
                                    "3": "86"
                                },
                                {
                                    "0": "NULL",
                                    "1": "9",
                                    "2": "NULL",
                                    "3": "102"
                                },
                                {
                                    "0": "4",
                                    "1": "NULL",
                                    "2": "NULL",
                                    "3": "15"
                                },
                                {
                                    "0": "6",
                                    "1": "NULL",
                                    "2": "NULL",
                                    "3": "20"
                                },
                                {
                                    "0": "16",
                                    "1": "NULL",
                                    "2": "NULL",
                                    "3": "7"
                                },
                                {
                                    "0": "19",
                                    "1": "NULL",
                                    "2": "NULL",
                                    "3": "19"
                                },
                                {
                                    "0": "24",
                                    "1": "NULL",
                                    "2": "NULL",
                                    "3": "7"
                                },
                                {
                                    "0": "30",
                                    "1": "NULL",
                                    "2": "NULL",
                                    "3": "7"
                                },
                                {
                                    "0": "35",
                                    "1": "NULL",
                                    "2": "NULL",
                                    "3": "7"
                                },
                                {
                                    "0": "41",
                                    "1": "NULL",
                                    "2": "NULL",
                                    "3": "13"
                                },
                                {
                                    "0": "45",
                                    "1": "NULL",
                                    "2": "NULL",
                                    "3": "11"
                                },
                                {
                                    "0": "46",
                                    "1": "NULL",
                                    "2": "NULL",
                                    "3": "7"
                                },
                                {
                                    "0": "52",
                                    "1": "NULL",
                                    "2": "NULL",
                                    "3": "26"
                                },
                                {
                                    "0": "54",
                                    "1": "NULL",
                                    "2": "NULL",
                                    "3": "6"
                                },
                                {
                                    "0": "66",
                                    "1": "NULL",
                                    "2": "NULL",
                                    "3": "7"
                                },
                                {
                                    "0": "78",
                                    "1": "NULL",
                                    "2": "NULL",
                                    "3": "24"
                                },
                                {
                                    "0": "83",
                                    "1": "NULL",
                                    "2": "NULL",
                                    "3": "6"
                                },
                                {
                                    "0": "85",
                                    "1": "NULL",
                                    "2": "NULL",
                                    "3": "16"
                                },
                                {
                                    "0": "91",
                                    "1": "NULL",
                                    "2": "NULL",
                                    "3": "7"
                                },
                                {
                                    "0": "93",
                                    "1": "NULL",
                                    "2": "NULL",
                                    "3": "7"
                                },
                                {
                                    "0": "96",
                                    "1": "NULL",
                                    "2": "NULL",
                                    "3": "9"
                                },
                                {
                                    "0": "97",
                                    "1": "NULL",
                                    "2": "NULL",
                                    "3": "10"
                                },
                                {
                                    "0": "100",
                                    "1": "NULL",
                                    "2": "NULL",
                                    "3": "9"
                                },
                                {
                                    "0": "118",
                                    "1": "NULL",
                                    "2": "NULL",
                                    "3": "9"
                                },
                                {
                                    "0": "122",
                                    "1": "NULL",
                                    "2": "NULL",
                                    "3": "7"
                                },
                                {
                                    "0": "124",
                                    "1": "NULL",
                                    "2": "NULL",
                                    "3": "10"
                                },
                                {
                                    "0": "133",
                                    "1": "NULL",
                                    "2": "NULL",
                                    "3": "6"
                                },
                                {
                                    "0": "145",
                                    "1": "NULL",
                                    "2": "NULL",
                                    "3": "18"
                                },
                                {
                                    "0": "146",
                                    "1": "NULL",
                                    "2": "NULL",
                                    "3": "7"
                                },
                                {
                                    "0": "149",
                                    "1": "NULL",
                                    "2": "NULL",
                                    "3": "6"
                                },
                                {
                                    "0": "152",
                                    "1": "NULL",
                                    "2": "NULL",
                                    "3": "6"
                                }
                            ]
                        },
                        "text/html": "<table><tr><th>KAT_ID</th><th>RAKTAR_KOD</th><th>MEGYS</th><th>db</th></tr><tr><td>NULL</td><td>1</td><td>db</td><td>11</td></tr><tr><td>NULL</td><td>1</td><td>NULL</td><td>11</td></tr><tr><td>NULL</td><td>3</td><td>db</td><td>14</td></tr><tr><td>NULL</td><td>3</td><td>NULL</td><td>14</td></tr><tr><td>NULL</td><td>5</td><td>csomag</td><td>7</td></tr><tr><td>NULL</td><td>5</td><td>db</td><td>72</td></tr><tr><td>NULL</td><td>5</td><td>NULL</td><td>86</td></tr><tr><td>NULL</td><td>6</td><td>csomag</td><td>9</td></tr><tr><td>NULL</td><td>6</td><td>db</td><td>94</td></tr><tr><td>NULL</td><td>6</td><td>NULL</td><td>106</td></tr><tr><td>NULL</td><td>7</td><td>csomag</td><td>9</td></tr><tr><td>NULL</td><td>7</td><td>db</td><td>88</td></tr><tr><td>NULL</td><td>7</td><td>NULL</td><td>100</td></tr><tr><td>NULL</td><td>8</td><td>csomag</td><td>8</td></tr><tr><td>NULL</td><td>8</td><td>db</td><td>109</td></tr><tr><td>NULL</td><td>8</td><td>ív</td><td>6</td></tr><tr><td>NULL</td><td>8</td><td>NULL</td><td>123</td></tr><tr><td>NULL</td><td>9</td><td>csomag</td><td>11</td></tr><tr><td>NULL</td><td>9</td><td>db</td><td>86</td></tr><tr><td>NULL</td><td>9</td><td>NULL</td><td>102</td></tr><tr><td>4</td><td>NULL</td><td>NULL</td><td>15</td></tr><tr><td>6</td><td>NULL</td><td>NULL</td><td>20</td></tr><tr><td>16</td><td>NULL</td><td>NULL</td><td>7</td></tr><tr><td>19</td><td>NULL</td><td>NULL</td><td>19</td></tr><tr><td>24</td><td>NULL</td><td>NULL</td><td>7</td></tr><tr><td>30</td><td>NULL</td><td>NULL</td><td>7</td></tr><tr><td>35</td><td>NULL</td><td>NULL</td><td>7</td></tr><tr><td>41</td><td>NULL</td><td>NULL</td><td>13</td></tr><tr><td>45</td><td>NULL</td><td>NULL</td><td>11</td></tr><tr><td>46</td><td>NULL</td><td>NULL</td><td>7</td></tr><tr><td>52</td><td>NULL</td><td>NULL</td><td>26</td></tr><tr><td>54</td><td>NULL</td><td>NULL</td><td>6</td></tr><tr><td>66</td><td>NULL</td><td>NULL</td><td>7</td></tr><tr><td>78</td><td>NULL</td><td>NULL</td><td>24</td></tr><tr><td>83</td><td>NULL</td><td>NULL</td><td>6</td></tr><tr><td>85</td><td>NULL</td><td>NULL</td><td>16</td></tr><tr><td>91</td><td>NULL</td><td>NULL</td><td>7</td></tr><tr><td>93</td><td>NULL</td><td>NULL</td><td>7</td></tr><tr><td>96</td><td>NULL</td><td>NULL</td><td>9</td></tr><tr><td>97</td><td>NULL</td><td>NULL</td><td>10</td></tr><tr><td>100</td><td>NULL</td><td>NULL</td><td>9</td></tr><tr><td>118</td><td>NULL</td><td>NULL</td><td>9</td></tr><tr><td>122</td><td>NULL</td><td>NULL</td><td>7</td></tr><tr><td>124</td><td>NULL</td><td>NULL</td><td>10</td></tr><tr><td>133</td><td>NULL</td><td>NULL</td><td>6</td></tr><tr><td>145</td><td>NULL</td><td>NULL</td><td>18</td></tr><tr><td>146</td><td>NULL</td><td>NULL</td><td>7</td></tr><tr><td>149</td><td>NULL</td><td>NULL</td><td>6</td></tr><tr><td>152</td><td>NULL</td><td>NULL</td><td>6</td></tr></table>"
                    },
                    "metadata": {}
                }
            ],
            "execution_count": 41
        },
        {
            "cell_type": "markdown",
            "source": [
                "8\\. Készítsünk listát az egyes termékkategóriákban lévő termékek számáról!\n",
                "\n",
                " Elég megjeleníteni a kategóriák azonosítóit és a darabszámokat!\n",
                "\n",
                " A lista megfelelően jelölve tartalmazza a végösszeget is!\n",
                "\n",
                " Az oszlopokat nevezzük el értelemszerűen! A listát rendezzük a darabszám\n",
                "\n",
                " szerint növekvő sorrendbe!"
            ],
            "metadata": {
                "azdata_cell_guid": "e6fa5331-6bce-4cba-a4f8-4fb4295e022f"
            },
            "attachments": {}
        },
        {
            "cell_type": "code",
            "source": [
                "-- IIF\r\n",
                "SELECT IIF(GROUPING_ID(KAT_ID) = 1, 'Összesen', CAST(KAT_ID AS nvarchar(5))),\r\n",
                "        COUNT(*)\r\n",
                "FROM Termek\r\n",
                "GROUP BY ROLLUP(KAT_ID)\r\n",
                "ORDER BY COUNT(*) ASC"
            ],
            "metadata": {
                "azdata_cell_guid": "0fef7eba-e018-4f2c-883a-6fcceca146b3",
                "language": "sql"
            },
            "outputs": [
                {
                    "output_type": "display_data",
                    "data": {
                        "text/html": "(144 rows affected)"
                    },
                    "metadata": {}
                },
                {
                    "output_type": "display_data",
                    "data": {
                        "text/html": "Total execution time: 00:00:00.056"
                    },
                    "metadata": {}
                },
                {
                    "output_type": "execute_result",
                    "execution_count": 63,
                    "data": {
                        "application/vnd.dataresource+json": {
                            "schema": {
                                "fields": [
                                    {
                                        "name": "(No column name)"
                                    },
                                    {
                                        "name": "(No column name)"
                                    }
                                ]
                            },
                            "data": [
                                {
                                    "0": "10",
                                    "1": "1"
                                },
                                {
                                    "0": "11",
                                    "1": "1"
                                },
                                {
                                    "0": "12",
                                    "1": "1"
                                },
                                {
                                    "0": "15",
                                    "1": "1"
                                },
                                {
                                    "0": "17",
                                    "1": "1"
                                },
                                {
                                    "0": "26",
                                    "1": "1"
                                },
                                {
                                    "0": "29",
                                    "1": "1"
                                },
                                {
                                    "0": "31",
                                    "1": "1"
                                },
                                {
                                    "0": "33",
                                    "1": "1"
                                },
                                {
                                    "0": "34",
                                    "1": "1"
                                },
                                {
                                    "0": "37",
                                    "1": "1"
                                },
                                {
                                    "0": "38",
                                    "1": "1"
                                },
                                {
                                    "0": "40",
                                    "1": "1"
                                },
                                {
                                    "0": "42",
                                    "1": "1"
                                },
                                {
                                    "0": "44",
                                    "1": "1"
                                },
                                {
                                    "0": "50",
                                    "1": "1"
                                },
                                {
                                    "0": "53",
                                    "1": "1"
                                },
                                {
                                    "0": "61",
                                    "1": "1"
                                },
                                {
                                    "0": "74",
                                    "1": "1"
                                },
                                {
                                    "0": "80",
                                    "1": "1"
                                },
                                {
                                    "0": "82",
                                    "1": "1"
                                },
                                {
                                    "0": "84",
                                    "1": "1"
                                },
                                {
                                    "0": "86",
                                    "1": "1"
                                },
                                {
                                    "0": "99",
                                    "1": "1"
                                },
                                {
                                    "0": "101",
                                    "1": "1"
                                },
                                {
                                    "0": "103",
                                    "1": "1"
                                },
                                {
                                    "0": "105",
                                    "1": "1"
                                },
                                {
                                    "0": "107",
                                    "1": "1"
                                },
                                {
                                    "0": "108",
                                    "1": "1"
                                },
                                {
                                    "0": "109",
                                    "1": "1"
                                },
                                {
                                    "0": "114",
                                    "1": "1"
                                },
                                {
                                    "0": "115",
                                    "1": "1"
                                },
                                {
                                    "0": "126",
                                    "1": "1"
                                },
                                {
                                    "0": "130",
                                    "1": "1"
                                },
                                {
                                    "0": "131",
                                    "1": "1"
                                },
                                {
                                    "0": "132",
                                    "1": "1"
                                },
                                {
                                    "0": "135",
                                    "1": "1"
                                },
                                {
                                    "0": "139",
                                    "1": "1"
                                },
                                {
                                    "0": "140",
                                    "1": "1"
                                },
                                {
                                    "0": "142",
                                    "1": "1"
                                },
                                {
                                    "0": "147",
                                    "1": "1"
                                },
                                {
                                    "0": "148",
                                    "1": "1"
                                },
                                {
                                    "0": "153",
                                    "1": "1"
                                },
                                {
                                    "0": "155",
                                    "1": "1"
                                },
                                {
                                    "0": "150",
                                    "1": "2"
                                },
                                {
                                    "0": "144",
                                    "1": "2"
                                },
                                {
                                    "0": "141",
                                    "1": "2"
                                },
                                {
                                    "0": "136",
                                    "1": "2"
                                },
                                {
                                    "0": "123",
                                    "1": "2"
                                },
                                {
                                    "0": "134",
                                    "1": "2"
                                },
                                {
                                    "0": "127",
                                    "1": "2"
                                },
                                {
                                    "0": "128",
                                    "1": "2"
                                },
                                {
                                    "0": "129",
                                    "1": "2"
                                },
                                {
                                    "0": "116",
                                    "1": "2"
                                },
                                {
                                    "0": "117",
                                    "1": "2"
                                },
                                {
                                    "0": "112",
                                    "1": "2"
                                },
                                {
                                    "0": "121",
                                    "1": "2"
                                },
                                {
                                    "0": "110",
                                    "1": "2"
                                },
                                {
                                    "0": "104",
                                    "1": "2"
                                },
                                {
                                    "0": "94",
                                    "1": "2"
                                },
                                {
                                    "0": "95",
                                    "1": "2"
                                },
                                {
                                    "0": "88",
                                    "1": "2"
                                },
                                {
                                    "0": "90",
                                    "1": "2"
                                },
                                {
                                    "0": "92",
                                    "1": "2"
                                },
                                {
                                    "0": "71",
                                    "1": "2"
                                },
                                {
                                    "0": "72",
                                    "1": "2"
                                },
                                {
                                    "0": "73",
                                    "1": "2"
                                },
                                {
                                    "0": "75",
                                    "1": "2"
                                },
                                {
                                    "0": "62",
                                    "1": "2"
                                },
                                {
                                    "0": "55",
                                    "1": "2"
                                },
                                {
                                    "0": "65",
                                    "1": "2"
                                },
                                {
                                    "0": "67",
                                    "1": "2"
                                },
                                {
                                    "0": "68",
                                    "1": "2"
                                },
                                {
                                    "0": "57",
                                    "1": "2"
                                },
                                {
                                    "0": "48",
                                    "1": "2"
                                },
                                {
                                    "0": "49",
                                    "1": "2"
                                },
                                {
                                    "0": "39",
                                    "1": "2"
                                },
                                {
                                    "0": "22",
                                    "1": "2"
                                },
                                {
                                    "0": "18",
                                    "1": "2"
                                },
                                {
                                    "0": "9",
                                    "1": "2"
                                },
                                {
                                    "0": "13",
                                    "1": "2"
                                },
                                {
                                    "0": "5",
                                    "1": "3"
                                },
                                {
                                    "0": "7",
                                    "1": "3"
                                },
                                {
                                    "0": "8",
                                    "1": "3"
                                },
                                {
                                    "0": "20",
                                    "1": "3"
                                },
                                {
                                    "0": "27",
                                    "1": "3"
                                },
                                {
                                    "0": "32",
                                    "1": "3"
                                },
                                {
                                    "0": "43",
                                    "1": "3"
                                },
                                {
                                    "0": "58",
                                    "1": "3"
                                },
                                {
                                    "0": "51",
                                    "1": "3"
                                },
                                {
                                    "0": "70",
                                    "1": "3"
                                },
                                {
                                    "0": "89",
                                    "1": "3"
                                },
                                {
                                    "0": "111",
                                    "1": "3"
                                },
                                {
                                    "0": "119",
                                    "1": "3"
                                },
                                {
                                    "0": "137",
                                    "1": "3"
                                },
                                {
                                    "0": "143",
                                    "1": "3"
                                },
                                {
                                    "0": "151",
                                    "1": "4"
                                },
                                {
                                    "0": "154",
                                    "1": "4"
                                },
                                {
                                    "0": "125",
                                    "1": "4"
                                },
                                {
                                    "0": "79",
                                    "1": "4"
                                },
                                {
                                    "0": "98",
                                    "1": "4"
                                },
                                {
                                    "0": "56",
                                    "1": "4"
                                },
                                {
                                    "0": "64",
                                    "1": "4"
                                },
                                {
                                    "0": "59",
                                    "1": "4"
                                },
                                {
                                    "0": "47",
                                    "1": "4"
                                },
                                {
                                    "0": "25",
                                    "1": "4"
                                },
                                {
                                    "0": "14",
                                    "1": "4"
                                },
                                {
                                    "0": "21",
                                    "1": "5"
                                },
                                {
                                    "0": "36",
                                    "1": "5"
                                },
                                {
                                    "0": "28",
                                    "1": "5"
                                },
                                {
                                    "0": "60",
                                    "1": "5"
                                },
                                {
                                    "0": "76",
                                    "1": "5"
                                },
                                {
                                    "0": "106",
                                    "1": "5"
                                },
                                {
                                    "0": "138",
                                    "1": "5"
                                },
                                {
                                    "0": "133",
                                    "1": "6"
                                },
                                {
                                    "0": "152",
                                    "1": "6"
                                },
                                {
                                    "0": "149",
                                    "1": "6"
                                },
                                {
                                    "0": "83",
                                    "1": "6"
                                },
                                {
                                    "0": "54",
                                    "1": "6"
                                },
                                {
                                    "0": "46",
                                    "1": "7"
                                },
                                {
                                    "0": "66",
                                    "1": "7"
                                },
                                {
                                    "0": "24",
                                    "1": "7"
                                },
                                {
                                    "0": "30",
                                    "1": "7"
                                },
                                {
                                    "0": "35",
                                    "1": "7"
                                },
                                {
                                    "0": "16",
                                    "1": "7"
                                },
                                {
                                    "0": "146",
                                    "1": "7"
                                },
                                {
                                    "0": "122",
                                    "1": "7"
                                },
                                {
                                    "0": "93",
                                    "1": "7"
                                },
                                {
                                    "0": "91",
                                    "1": "7"
                                },
                                {
                                    "0": "100",
                                    "1": "9"
                                },
                                {
                                    "0": "96",
                                    "1": "9"
                                },
                                {
                                    "0": "118",
                                    "1": "9"
                                },
                                {
                                    "0": "97",
                                    "1": "10"
                                },
                                {
                                    "0": "124",
                                    "1": "10"
                                },
                                {
                                    "0": "45",
                                    "1": "11"
                                },
                                {
                                    "0": "41",
                                    "1": "13"
                                },
                                {
                                    "0": "4",
                                    "1": "15"
                                },
                                {
                                    "0": "85",
                                    "1": "16"
                                },
                                {
                                    "0": "145",
                                    "1": "18"
                                },
                                {
                                    "0": "19",
                                    "1": "19"
                                },
                                {
                                    "0": "6",
                                    "1": "20"
                                },
                                {
                                    "0": "78",
                                    "1": "24"
                                },
                                {
                                    "0": "52",
                                    "1": "26"
                                },
                                {
                                    "0": "Összesen",
                                    "1": "551"
                                }
                            ]
                        },
                        "text/html": "<table><tr><th>(No column name)</th><th>(No column name)</th></tr><tr><td>10</td><td>1</td></tr><tr><td>11</td><td>1</td></tr><tr><td>12</td><td>1</td></tr><tr><td>15</td><td>1</td></tr><tr><td>17</td><td>1</td></tr><tr><td>26</td><td>1</td></tr><tr><td>29</td><td>1</td></tr><tr><td>31</td><td>1</td></tr><tr><td>33</td><td>1</td></tr><tr><td>34</td><td>1</td></tr><tr><td>37</td><td>1</td></tr><tr><td>38</td><td>1</td></tr><tr><td>40</td><td>1</td></tr><tr><td>42</td><td>1</td></tr><tr><td>44</td><td>1</td></tr><tr><td>50</td><td>1</td></tr><tr><td>53</td><td>1</td></tr><tr><td>61</td><td>1</td></tr><tr><td>74</td><td>1</td></tr><tr><td>80</td><td>1</td></tr><tr><td>82</td><td>1</td></tr><tr><td>84</td><td>1</td></tr><tr><td>86</td><td>1</td></tr><tr><td>99</td><td>1</td></tr><tr><td>101</td><td>1</td></tr><tr><td>103</td><td>1</td></tr><tr><td>105</td><td>1</td></tr><tr><td>107</td><td>1</td></tr><tr><td>108</td><td>1</td></tr><tr><td>109</td><td>1</td></tr><tr><td>114</td><td>1</td></tr><tr><td>115</td><td>1</td></tr><tr><td>126</td><td>1</td></tr><tr><td>130</td><td>1</td></tr><tr><td>131</td><td>1</td></tr><tr><td>132</td><td>1</td></tr><tr><td>135</td><td>1</td></tr><tr><td>139</td><td>1</td></tr><tr><td>140</td><td>1</td></tr><tr><td>142</td><td>1</td></tr><tr><td>147</td><td>1</td></tr><tr><td>148</td><td>1</td></tr><tr><td>153</td><td>1</td></tr><tr><td>155</td><td>1</td></tr><tr><td>150</td><td>2</td></tr><tr><td>144</td><td>2</td></tr><tr><td>141</td><td>2</td></tr><tr><td>136</td><td>2</td></tr><tr><td>123</td><td>2</td></tr><tr><td>134</td><td>2</td></tr><tr><td>127</td><td>2</td></tr><tr><td>128</td><td>2</td></tr><tr><td>129</td><td>2</td></tr><tr><td>116</td><td>2</td></tr><tr><td>117</td><td>2</td></tr><tr><td>112</td><td>2</td></tr><tr><td>121</td><td>2</td></tr><tr><td>110</td><td>2</td></tr><tr><td>104</td><td>2</td></tr><tr><td>94</td><td>2</td></tr><tr><td>95</td><td>2</td></tr><tr><td>88</td><td>2</td></tr><tr><td>90</td><td>2</td></tr><tr><td>92</td><td>2</td></tr><tr><td>71</td><td>2</td></tr><tr><td>72</td><td>2</td></tr><tr><td>73</td><td>2</td></tr><tr><td>75</td><td>2</td></tr><tr><td>62</td><td>2</td></tr><tr><td>55</td><td>2</td></tr><tr><td>65</td><td>2</td></tr><tr><td>67</td><td>2</td></tr><tr><td>68</td><td>2</td></tr><tr><td>57</td><td>2</td></tr><tr><td>48</td><td>2</td></tr><tr><td>49</td><td>2</td></tr><tr><td>39</td><td>2</td></tr><tr><td>22</td><td>2</td></tr><tr><td>18</td><td>2</td></tr><tr><td>9</td><td>2</td></tr><tr><td>13</td><td>2</td></tr><tr><td>5</td><td>3</td></tr><tr><td>7</td><td>3</td></tr><tr><td>8</td><td>3</td></tr><tr><td>20</td><td>3</td></tr><tr><td>27</td><td>3</td></tr><tr><td>32</td><td>3</td></tr><tr><td>43</td><td>3</td></tr><tr><td>58</td><td>3</td></tr><tr><td>51</td><td>3</td></tr><tr><td>70</td><td>3</td></tr><tr><td>89</td><td>3</td></tr><tr><td>111</td><td>3</td></tr><tr><td>119</td><td>3</td></tr><tr><td>137</td><td>3</td></tr><tr><td>143</td><td>3</td></tr><tr><td>151</td><td>4</td></tr><tr><td>154</td><td>4</td></tr><tr><td>125</td><td>4</td></tr><tr><td>79</td><td>4</td></tr><tr><td>98</td><td>4</td></tr><tr><td>56</td><td>4</td></tr><tr><td>64</td><td>4</td></tr><tr><td>59</td><td>4</td></tr><tr><td>47</td><td>4</td></tr><tr><td>25</td><td>4</td></tr><tr><td>14</td><td>4</td></tr><tr><td>21</td><td>5</td></tr><tr><td>36</td><td>5</td></tr><tr><td>28</td><td>5</td></tr><tr><td>60</td><td>5</td></tr><tr><td>76</td><td>5</td></tr><tr><td>106</td><td>5</td></tr><tr><td>138</td><td>5</td></tr><tr><td>133</td><td>6</td></tr><tr><td>152</td><td>6</td></tr><tr><td>149</td><td>6</td></tr><tr><td>83</td><td>6</td></tr><tr><td>54</td><td>6</td></tr><tr><td>46</td><td>7</td></tr><tr><td>66</td><td>7</td></tr><tr><td>24</td><td>7</td></tr><tr><td>30</td><td>7</td></tr><tr><td>35</td><td>7</td></tr><tr><td>16</td><td>7</td></tr><tr><td>146</td><td>7</td></tr><tr><td>122</td><td>7</td></tr><tr><td>93</td><td>7</td></tr><tr><td>91</td><td>7</td></tr><tr><td>100</td><td>9</td></tr><tr><td>96</td><td>9</td></tr><tr><td>118</td><td>9</td></tr><tr><td>97</td><td>10</td></tr><tr><td>124</td><td>10</td></tr><tr><td>45</td><td>11</td></tr><tr><td>41</td><td>13</td></tr><tr><td>4</td><td>15</td></tr><tr><td>85</td><td>16</td></tr><tr><td>145</td><td>18</td></tr><tr><td>19</td><td>19</td></tr><tr><td>6</td><td>20</td></tr><tr><td>78</td><td>24</td></tr><tr><td>52</td><td>26</td></tr><tr><td>Összesen</td><td>551</td></tr></table>"
                    },
                    "metadata": {}
                }
            ],
            "execution_count": 63
        },
        {
            "cell_type": "markdown",
            "source": [
                "9\\. Készítsünk listát az ügyfelek számáról születési év szerint, azon belül\n",
                "\n",
                " nem szerinti bontásban! A lista megfelelően jelölve tartalmazza a \n",
                "\n",
                " részösszegeket és a végösszeget is! Az oszlopoknak adjunk nevet értelemszerűen!"
            ],
            "metadata": {
                "azdata_cell_guid": "3b8ab22f-b343-4f26-a1ec-7dc3f6daf8ca"
            },
            "attachments": {}
        },
        {
            "cell_type": "code",
            "source": [
                "SELECT IIF(GROUPING(SZULEV)=1, 'Összesen',CAST(SZULEV AS nvarchar(4))) \r\n",
                "       AS 'Születési év',\r\n",
                "       CASE GROUPING_ID(SZULEV, NEM) \r\n",
                "\t        WHEN 0 THEN NEM\r\n",
                "\t\t\tWHEN 1 THEN '**Nemek összesen**'\r\n",
                "\t\t\tWHEN 3 THEN 'Összesen'\r\n",
                "       END AS 'Nem',\r\n",
                "\t   COUNT(*) AS 'DB'\r\n",
                "FROM Ugyfel\r\n",
                "GROUP BY ROLLUP(SZULEV, NEM)"
            ],
            "metadata": {
                "azdata_cell_guid": "49479cac-6de7-4303-acc1-f689fb69aac9",
                "language": "sql"
            },
            "outputs": [
                {
                    "output_type": "display_data",
                    "data": {
                        "text/html": "(96 rows affected)"
                    },
                    "metadata": {}
                },
                {
                    "output_type": "display_data",
                    "data": {
                        "text/html": "Total execution time: 00:00:00.439"
                    },
                    "metadata": {}
                },
                {
                    "output_type": "execute_result",
                    "metadata": {},
                    "execution_count": 13,
                    "data": {
                        "application/vnd.dataresource+json": {
                            "schema": {
                                "fields": [
                                    {
                                        "name": "Születési év"
                                    },
                                    {
                                        "name": "Nem"
                                    },
                                    {
                                        "name": "DB"
                                    }
                                ]
                            },
                            "data": [
                                {
                                    "Születési év": "1967",
                                    "Nem": "F",
                                    "DB": "5"
                                },
                                {
                                    "Születési év": "1967",
                                    "Nem": "N",
                                    "DB": "3"
                                },
                                {
                                    "Születési év": "1967",
                                    "Nem": "**Nemek összesen**",
                                    "DB": "8"
                                },
                                {
                                    "Születési év": "1968",
                                    "Nem": "F",
                                    "DB": "5"
                                },
                                {
                                    "Születési év": "1968",
                                    "Nem": "N",
                                    "DB": "3"
                                },
                                {
                                    "Születési év": "1968",
                                    "Nem": "**Nemek összesen**",
                                    "DB": "8"
                                },
                                {
                                    "Születési év": "1969",
                                    "Nem": "F",
                                    "DB": "5"
                                },
                                {
                                    "Születési év": "1969",
                                    "Nem": "N",
                                    "DB": "3"
                                },
                                {
                                    "Születési év": "1969",
                                    "Nem": "**Nemek összesen**",
                                    "DB": "8"
                                },
                                {
                                    "Születési év": "1970",
                                    "Nem": "F",
                                    "DB": "4"
                                },
                                {
                                    "Születési év": "1970",
                                    "Nem": "**Nemek összesen**",
                                    "DB": "4"
                                },
                                {
                                    "Születési év": "1971",
                                    "Nem": "F",
                                    "DB": "2"
                                },
                                {
                                    "Születési év": "1971",
                                    "Nem": "N",
                                    "DB": "3"
                                },
                                {
                                    "Születési év": "1971",
                                    "Nem": "**Nemek összesen**",
                                    "DB": "5"
                                },
                                {
                                    "Születési év": "1972",
                                    "Nem": "F",
                                    "DB": "2"
                                },
                                {
                                    "Születési év": "1972",
                                    "Nem": "N",
                                    "DB": "2"
                                },
                                {
                                    "Születési év": "1972",
                                    "Nem": "**Nemek összesen**",
                                    "DB": "4"
                                },
                                {
                                    "Születési év": "1973",
                                    "Nem": "F",
                                    "DB": "2"
                                },
                                {
                                    "Születési év": "1973",
                                    "Nem": "N",
                                    "DB": "2"
                                },
                                {
                                    "Születési év": "1973",
                                    "Nem": "**Nemek összesen**",
                                    "DB": "4"
                                },
                                {
                                    "Születési év": "1974",
                                    "Nem": "F",
                                    "DB": "1"
                                },
                                {
                                    "Születési év": "1974",
                                    "Nem": "N",
                                    "DB": "3"
                                },
                                {
                                    "Születési év": "1974",
                                    "Nem": "**Nemek összesen**",
                                    "DB": "4"
                                },
                                {
                                    "Születési év": "1975",
                                    "Nem": "F",
                                    "DB": "8"
                                },
                                {
                                    "Születési év": "1975",
                                    "Nem": "N",
                                    "DB": "3"
                                },
                                {
                                    "Születési év": "1975",
                                    "Nem": "**Nemek összesen**",
                                    "DB": "11"
                                },
                                {
                                    "Születési év": "1976",
                                    "Nem": "F",
                                    "DB": "5"
                                },
                                {
                                    "Születési év": "1976",
                                    "Nem": "N",
                                    "DB": "2"
                                },
                                {
                                    "Születési év": "1976",
                                    "Nem": "**Nemek összesen**",
                                    "DB": "7"
                                },
                                {
                                    "Születési év": "1977",
                                    "Nem": "F",
                                    "DB": "4"
                                },
                                {
                                    "Születési év": "1977",
                                    "Nem": "N",
                                    "DB": "1"
                                },
                                {
                                    "Születési év": "1977",
                                    "Nem": "**Nemek összesen**",
                                    "DB": "5"
                                },
                                {
                                    "Születési év": "1978",
                                    "Nem": "F",
                                    "DB": "3"
                                },
                                {
                                    "Születési év": "1978",
                                    "Nem": "N",
                                    "DB": "4"
                                },
                                {
                                    "Születési év": "1978",
                                    "Nem": "**Nemek összesen**",
                                    "DB": "7"
                                },
                                {
                                    "Születési év": "1979",
                                    "Nem": "F",
                                    "DB": "4"
                                },
                                {
                                    "Születési év": "1979",
                                    "Nem": "N",
                                    "DB": "3"
                                },
                                {
                                    "Születési év": "1979",
                                    "Nem": "**Nemek összesen**",
                                    "DB": "7"
                                },
                                {
                                    "Születési év": "1980",
                                    "Nem": "F",
                                    "DB": "4"
                                },
                                {
                                    "Születési év": "1980",
                                    "Nem": "N",
                                    "DB": "3"
                                },
                                {
                                    "Születési év": "1980",
                                    "Nem": "**Nemek összesen**",
                                    "DB": "7"
                                },
                                {
                                    "Születési év": "1981",
                                    "Nem": "N",
                                    "DB": "4"
                                },
                                {
                                    "Születési év": "1981",
                                    "Nem": "**Nemek összesen**",
                                    "DB": "4"
                                },
                                {
                                    "Születési év": "1982",
                                    "Nem": "F",
                                    "DB": "2"
                                },
                                {
                                    "Születési év": "1982",
                                    "Nem": "N",
                                    "DB": "2"
                                },
                                {
                                    "Születési év": "1982",
                                    "Nem": "**Nemek összesen**",
                                    "DB": "4"
                                },
                                {
                                    "Születési év": "1983",
                                    "Nem": "F",
                                    "DB": "5"
                                },
                                {
                                    "Születési év": "1983",
                                    "Nem": "N",
                                    "DB": "3"
                                },
                                {
                                    "Születési év": "1983",
                                    "Nem": "**Nemek összesen**",
                                    "DB": "8"
                                },
                                {
                                    "Születési év": "1984",
                                    "Nem": "F",
                                    "DB": "6"
                                },
                                {
                                    "Születési év": "1984",
                                    "Nem": "N",
                                    "DB": "2"
                                },
                                {
                                    "Születési év": "1984",
                                    "Nem": "**Nemek összesen**",
                                    "DB": "8"
                                },
                                {
                                    "Születési év": "1985",
                                    "Nem": "F",
                                    "DB": "5"
                                },
                                {
                                    "Születési év": "1985",
                                    "Nem": "N",
                                    "DB": "1"
                                },
                                {
                                    "Születési év": "1985",
                                    "Nem": "**Nemek összesen**",
                                    "DB": "6"
                                },
                                {
                                    "Születési év": "1986",
                                    "Nem": "F",
                                    "DB": "7"
                                },
                                {
                                    "Születési év": "1986",
                                    "Nem": "N",
                                    "DB": "2"
                                },
                                {
                                    "Születési év": "1986",
                                    "Nem": "**Nemek összesen**",
                                    "DB": "9"
                                },
                                {
                                    "Születési év": "1987",
                                    "Nem": "F",
                                    "DB": "2"
                                },
                                {
                                    "Születési év": "1987",
                                    "Nem": "N",
                                    "DB": "3"
                                },
                                {
                                    "Születési év": "1987",
                                    "Nem": "**Nemek összesen**",
                                    "DB": "5"
                                },
                                {
                                    "Születési év": "1988",
                                    "Nem": "F",
                                    "DB": "2"
                                },
                                {
                                    "Születési év": "1988",
                                    "Nem": "N",
                                    "DB": "4"
                                },
                                {
                                    "Születési év": "1988",
                                    "Nem": "**Nemek összesen**",
                                    "DB": "6"
                                },
                                {
                                    "Születési év": "1989",
                                    "Nem": "F",
                                    "DB": "6"
                                },
                                {
                                    "Születési év": "1989",
                                    "Nem": "N",
                                    "DB": "1"
                                },
                                {
                                    "Születési év": "1989",
                                    "Nem": "**Nemek összesen**",
                                    "DB": "7"
                                },
                                {
                                    "Születési év": "1990",
                                    "Nem": "F",
                                    "DB": "5"
                                },
                                {
                                    "Születési év": "1990",
                                    "Nem": "N",
                                    "DB": "3"
                                },
                                {
                                    "Születési év": "1990",
                                    "Nem": "**Nemek összesen**",
                                    "DB": "8"
                                },
                                {
                                    "Születési év": "1991",
                                    "Nem": "F",
                                    "DB": "3"
                                },
                                {
                                    "Születési év": "1991",
                                    "Nem": "N",
                                    "DB": "3"
                                },
                                {
                                    "Születési év": "1991",
                                    "Nem": "**Nemek összesen**",
                                    "DB": "6"
                                },
                                {
                                    "Születési év": "1992",
                                    "Nem": "F",
                                    "DB": "3"
                                },
                                {
                                    "Születési év": "1992",
                                    "Nem": "N",
                                    "DB": "1"
                                },
                                {
                                    "Születési év": "1992",
                                    "Nem": "**Nemek összesen**",
                                    "DB": "4"
                                },
                                {
                                    "Születési év": "1993",
                                    "Nem": "F",
                                    "DB": "2"
                                },
                                {
                                    "Születési év": "1993",
                                    "Nem": "N",
                                    "DB": "3"
                                },
                                {
                                    "Születési év": "1993",
                                    "Nem": "**Nemek összesen**",
                                    "DB": "5"
                                },
                                {
                                    "Születési év": "1994",
                                    "Nem": "N",
                                    "DB": "3"
                                },
                                {
                                    "Születési év": "1994",
                                    "Nem": "**Nemek összesen**",
                                    "DB": "3"
                                },
                                {
                                    "Születési év": "1995",
                                    "Nem": "F",
                                    "DB": "3"
                                },
                                {
                                    "Születési év": "1995",
                                    "Nem": "N",
                                    "DB": "3"
                                },
                                {
                                    "Születési év": "1995",
                                    "Nem": "**Nemek összesen**",
                                    "DB": "6"
                                },
                                {
                                    "Születési év": "1996",
                                    "Nem": "F",
                                    "DB": "2"
                                },
                                {
                                    "Születési év": "1996",
                                    "Nem": "N",
                                    "DB": "5"
                                },
                                {
                                    "Születési év": "1996",
                                    "Nem": "**Nemek összesen**",
                                    "DB": "7"
                                },
                                {
                                    "Születési év": "1997",
                                    "Nem": "F",
                                    "DB": "10"
                                },
                                {
                                    "Születési év": "1997",
                                    "Nem": "N",
                                    "DB": "2"
                                },
                                {
                                    "Születési év": "1997",
                                    "Nem": "**Nemek összesen**",
                                    "DB": "12"
                                },
                                {
                                    "Születési év": "1998",
                                    "Nem": "F",
                                    "DB": "1"
                                },
                                {
                                    "Születési év": "1998",
                                    "Nem": "N",
                                    "DB": "1"
                                },
                                {
                                    "Születési év": "1998",
                                    "Nem": "**Nemek összesen**",
                                    "DB": "2"
                                },
                                {
                                    "Születési év": "2000",
                                    "Nem": "F",
                                    "DB": "1"
                                },
                                {
                                    "Születési év": "2000",
                                    "Nem": "**Nemek összesen**",
                                    "DB": "1"
                                },
                                {
                                    "Születési év": "Összesen",
                                    "Nem": "Összesen",
                                    "DB": "200"
                                }
                            ]
                        },
                        "text/html": [
                            "<table>",
                            "<tr><th>Születési év</th><th>Nem</th><th>DB</th></tr>",
                            "<tr><td>1967</td><td>F</td><td>5</td></tr>",
                            "<tr><td>1967</td><td>N</td><td>3</td></tr>",
                            "<tr><td>1967</td><td>**Nemek összesen**</td><td>8</td></tr>",
                            "<tr><td>1968</td><td>F</td><td>5</td></tr>",
                            "<tr><td>1968</td><td>N</td><td>3</td></tr>",
                            "<tr><td>1968</td><td>**Nemek összesen**</td><td>8</td></tr>",
                            "<tr><td>1969</td><td>F</td><td>5</td></tr>",
                            "<tr><td>1969</td><td>N</td><td>3</td></tr>",
                            "<tr><td>1969</td><td>**Nemek összesen**</td><td>8</td></tr>",
                            "<tr><td>1970</td><td>F</td><td>4</td></tr>",
                            "<tr><td>1970</td><td>**Nemek összesen**</td><td>4</td></tr>",
                            "<tr><td>1971</td><td>F</td><td>2</td></tr>",
                            "<tr><td>1971</td><td>N</td><td>3</td></tr>",
                            "<tr><td>1971</td><td>**Nemek összesen**</td><td>5</td></tr>",
                            "<tr><td>1972</td><td>F</td><td>2</td></tr>",
                            "<tr><td>1972</td><td>N</td><td>2</td></tr>",
                            "<tr><td>1972</td><td>**Nemek összesen**</td><td>4</td></tr>",
                            "<tr><td>1973</td><td>F</td><td>2</td></tr>",
                            "<tr><td>1973</td><td>N</td><td>2</td></tr>",
                            "<tr><td>1973</td><td>**Nemek összesen**</td><td>4</td></tr>",
                            "<tr><td>1974</td><td>F</td><td>1</td></tr>",
                            "<tr><td>1974</td><td>N</td><td>3</td></tr>",
                            "<tr><td>1974</td><td>**Nemek összesen**</td><td>4</td></tr>",
                            "<tr><td>1975</td><td>F</td><td>8</td></tr>",
                            "<tr><td>1975</td><td>N</td><td>3</td></tr>",
                            "<tr><td>1975</td><td>**Nemek összesen**</td><td>11</td></tr>",
                            "<tr><td>1976</td><td>F</td><td>5</td></tr>",
                            "<tr><td>1976</td><td>N</td><td>2</td></tr>",
                            "<tr><td>1976</td><td>**Nemek összesen**</td><td>7</td></tr>",
                            "<tr><td>1977</td><td>F</td><td>4</td></tr>",
                            "<tr><td>1977</td><td>N</td><td>1</td></tr>",
                            "<tr><td>1977</td><td>**Nemek összesen**</td><td>5</td></tr>",
                            "<tr><td>1978</td><td>F</td><td>3</td></tr>",
                            "<tr><td>1978</td><td>N</td><td>4</td></tr>",
                            "<tr><td>1978</td><td>**Nemek összesen**</td><td>7</td></tr>",
                            "<tr><td>1979</td><td>F</td><td>4</td></tr>",
                            "<tr><td>1979</td><td>N</td><td>3</td></tr>",
                            "<tr><td>1979</td><td>**Nemek összesen**</td><td>7</td></tr>",
                            "<tr><td>1980</td><td>F</td><td>4</td></tr>",
                            "<tr><td>1980</td><td>N</td><td>3</td></tr>",
                            "<tr><td>1980</td><td>**Nemek összesen**</td><td>7</td></tr>",
                            "<tr><td>1981</td><td>N</td><td>4</td></tr>",
                            "<tr><td>1981</td><td>**Nemek összesen**</td><td>4</td></tr>",
                            "<tr><td>1982</td><td>F</td><td>2</td></tr>",
                            "<tr><td>1982</td><td>N</td><td>2</td></tr>",
                            "<tr><td>1982</td><td>**Nemek összesen**</td><td>4</td></tr>",
                            "<tr><td>1983</td><td>F</td><td>5</td></tr>",
                            "<tr><td>1983</td><td>N</td><td>3</td></tr>",
                            "<tr><td>1983</td><td>**Nemek összesen**</td><td>8</td></tr>",
                            "<tr><td>1984</td><td>F</td><td>6</td></tr>",
                            "<tr><td>1984</td><td>N</td><td>2</td></tr>",
                            "<tr><td>1984</td><td>**Nemek összesen**</td><td>8</td></tr>",
                            "<tr><td>1985</td><td>F</td><td>5</td></tr>",
                            "<tr><td>1985</td><td>N</td><td>1</td></tr>",
                            "<tr><td>1985</td><td>**Nemek összesen**</td><td>6</td></tr>",
                            "<tr><td>1986</td><td>F</td><td>7</td></tr>",
                            "<tr><td>1986</td><td>N</td><td>2</td></tr>",
                            "<tr><td>1986</td><td>**Nemek összesen**</td><td>9</td></tr>",
                            "<tr><td>1987</td><td>F</td><td>2</td></tr>",
                            "<tr><td>1987</td><td>N</td><td>3</td></tr>",
                            "<tr><td>1987</td><td>**Nemek összesen**</td><td>5</td></tr>",
                            "<tr><td>1988</td><td>F</td><td>2</td></tr>",
                            "<tr><td>1988</td><td>N</td><td>4</td></tr>",
                            "<tr><td>1988</td><td>**Nemek összesen**</td><td>6</td></tr>",
                            "<tr><td>1989</td><td>F</td><td>6</td></tr>",
                            "<tr><td>1989</td><td>N</td><td>1</td></tr>",
                            "<tr><td>1989</td><td>**Nemek összesen**</td><td>7</td></tr>",
                            "<tr><td>1990</td><td>F</td><td>5</td></tr>",
                            "<tr><td>1990</td><td>N</td><td>3</td></tr>",
                            "<tr><td>1990</td><td>**Nemek összesen**</td><td>8</td></tr>",
                            "<tr><td>1991</td><td>F</td><td>3</td></tr>",
                            "<tr><td>1991</td><td>N</td><td>3</td></tr>",
                            "<tr><td>1991</td><td>**Nemek összesen**</td><td>6</td></tr>",
                            "<tr><td>1992</td><td>F</td><td>3</td></tr>",
                            "<tr><td>1992</td><td>N</td><td>1</td></tr>",
                            "<tr><td>1992</td><td>**Nemek összesen**</td><td>4</td></tr>",
                            "<tr><td>1993</td><td>F</td><td>2</td></tr>",
                            "<tr><td>1993</td><td>N</td><td>3</td></tr>",
                            "<tr><td>1993</td><td>**Nemek összesen**</td><td>5</td></tr>",
                            "<tr><td>1994</td><td>N</td><td>3</td></tr>",
                            "<tr><td>1994</td><td>**Nemek összesen**</td><td>3</td></tr>",
                            "<tr><td>1995</td><td>F</td><td>3</td></tr>",
                            "<tr><td>1995</td><td>N</td><td>3</td></tr>",
                            "<tr><td>1995</td><td>**Nemek összesen**</td><td>6</td></tr>",
                            "<tr><td>1996</td><td>F</td><td>2</td></tr>",
                            "<tr><td>1996</td><td>N</td><td>5</td></tr>",
                            "<tr><td>1996</td><td>**Nemek összesen**</td><td>7</td></tr>",
                            "<tr><td>1997</td><td>F</td><td>10</td></tr>",
                            "<tr><td>1997</td><td>N</td><td>2</td></tr>",
                            "<tr><td>1997</td><td>**Nemek összesen**</td><td>12</td></tr>",
                            "<tr><td>1998</td><td>F</td><td>1</td></tr>",
                            "<tr><td>1998</td><td>N</td><td>1</td></tr>",
                            "<tr><td>1998</td><td>**Nemek összesen**</td><td>2</td></tr>",
                            "<tr><td>2000</td><td>F</td><td>1</td></tr>",
                            "<tr><td>2000</td><td>**Nemek összesen**</td><td>1</td></tr>",
                            "<tr><td>Összesen</td><td>Összesen</td><td>200</td></tr>",
                            "</table>"
                        ]
                    }
                }
            ],
            "execution_count": 13
        },
        {
            "cell_type": "markdown",
            "source": [
                "10\\. Készítsünk listát a termékek számáról a felvitel hónapja, azon belül napja\n",
                "\n",
                "szerint csoportosítva. A lista csak a részösszegeket és a végösszeget\n",
                "\n",
                "tartalmazza! Az oszlopoknak adjunk megfelelő nevet!\n",
                "\n",
                "Ötlet: HAVING + GROUPING\\_ID fv együttes használata"
            ],
            "metadata": {
                "azdata_cell_guid": "ba612486-ab4e-4ba3-9ca3-1404083dde29"
            },
            "attachments": {}
        },
        {
            "cell_type": "code",
            "source": [
                "SELECT MONTH(FELVITEL),\r\n",
                "        DAY(FELVITEL),\r\n",
                "        COUNT(*)\r\n",
                "        -- GROUPING_ID(MONTH(FELVITEL), DAY(FELVITEL))\r\n",
                "FROM Termek\r\n",
                "GROUP BY ROLLUP(MONTH(FELVITEL), DAY(FELVITEL))\r\n",
                "-- csak a részösszegek és a végösszeg jelenjen meg\r\n",
                "HAVING GROUPING_ID(MONTH(FELVITEL), DAY(FELVITEL)) > 0"
            ],
            "metadata": {
                "azdata_cell_guid": "a62abdba-a45e-4f24-9429-c11f8f83c8ae",
                "language": "sql"
            },
            "outputs": [
                {
                    "output_type": "display_data",
                    "data": {
                        "text/html": "(5 rows affected)"
                    },
                    "metadata": {}
                },
                {
                    "output_type": "display_data",
                    "data": {
                        "text/html": "Total execution time: 00:00:00.050"
                    },
                    "metadata": {}
                },
                {
                    "output_type": "execute_result",
                    "execution_count": 66,
                    "data": {
                        "application/vnd.dataresource+json": {
                            "schema": {
                                "fields": [
                                    {
                                        "name": "(No column name)"
                                    },
                                    {
                                        "name": "(No column name)"
                                    },
                                    {
                                        "name": "(No column name)"
                                    },
                                    {
                                        "name": "(No column name)"
                                    }
                                ]
                            },
                            "data": [
                                {
                                    "0": "7",
                                    "1": "NULL",
                                    "2": "355",
                                    "3": "1"
                                },
                                {
                                    "0": "8",
                                    "1": "NULL",
                                    "2": "194",
                                    "3": "1"
                                },
                                {
                                    "0": "9",
                                    "1": "NULL",
                                    "2": "1",
                                    "3": "1"
                                },
                                {
                                    "0": "12",
                                    "1": "NULL",
                                    "2": "1",
                                    "3": "1"
                                },
                                {
                                    "0": "NULL",
                                    "1": "NULL",
                                    "2": "551",
                                    "3": "3"
                                }
                            ]
                        },
                        "text/html": "<table><tr><th>(No column name)</th><th>(No column name)</th><th>(No column name)</th><th>(No column name)</th></tr><tr><td>7</td><td>NULL</td><td>355</td><td>1</td></tr><tr><td>8</td><td>NULL</td><td>194</td><td>1</td></tr><tr><td>9</td><td>NULL</td><td>1</td><td>1</td></tr><tr><td>12</td><td>NULL</td><td>1</td><td>1</td></tr><tr><td>NULL</td><td>NULL</td><td>551</td><td>3</td></tr></table>"
                    },
                    "metadata": {}
                }
            ],
            "execution_count": 66
        },
        {
            "cell_type": "markdown",
            "source": [
                "11\\. Készítsünk listát éves bontásban norbert2 azonosítójú ügyfél\n",
                "\n",
                " rendeléseinek értékéről! A lista megfelelően jelölve tartalmazza\n",
                "\n",
                " a végösszeget is! Az oszlopokat nevezzük el\n",
                "\n",
                " értelemszerűen!"
            ],
            "metadata": {
                "azdata_cell_guid": "3c0b8fc8-bfea-4c89-ab19-50bf089575be"
            },
            "attachments": {}
        },
        {
            "cell_type": "code",
            "source": [
                "SELECT IIF(GROUPING(YEAR(REND_DATUM)) = 1, 'Összesen',\r\n",
                "            CAST(YEAR(REND_DATUM) as nvarchar(4))) as 'Év',\r\n",
                "            SUM(MENNYISEG*EGYSEGAR) as 'Érték'\r\n",
                "FROM Rendeles JOIN Rendeles_tetel ON Rendeles_tetel.SORSZAM = Rendeles.SORSZAM\r\n",
                "WHERE [LOGIN] = 'norbert2'\r\n",
                "GROUP BY ROLLUP(YEAR(REND_DATUM))"
            ],
            "metadata": {
                "azdata_cell_guid": "50054288-3634-4b29-a343-f4ad521c8ae3",
                "language": "sql"
            },
            "outputs": [
                {
                    "output_type": "display_data",
                    "data": {
                        "text/html": "(3 rows affected)"
                    },
                    "metadata": {}
                },
                {
                    "output_type": "display_data",
                    "data": {
                        "text/html": "Total execution time: 00:00:00.159"
                    },
                    "metadata": {}
                },
                {
                    "output_type": "execute_result",
                    "metadata": {},
                    "execution_count": 19,
                    "data": {
                        "application/vnd.dataresource+json": {
                            "schema": {
                                "fields": [
                                    {
                                        "name": "Év"
                                    },
                                    {
                                        "name": "Érték"
                                    }
                                ]
                            },
                            "data": [
                                {
                                    "Év": "2015",
                                    "Érték": "483473"
                                },
                                {
                                    "Év": "2017",
                                    "Érték": "614340"
                                },
                                {
                                    "Év": "Összesen",
                                    "Érték": "1097813"
                                }
                            ]
                        },
                        "text/html": [
                            "<table>",
                            "<tr><th>Év</th><th>Érték</th></tr>",
                            "<tr><td>2015</td><td>483473</td></tr>",
                            "<tr><td>2017</td><td>614340</td></tr>",
                            "<tr><td>Összesen</td><td>1097813</td></tr>",
                            "</table>"
                        ]
                    }
                }
            ],
            "execution_count": 19
        },
        {
            "cell_type": "markdown",
            "source": [
                "12\\. Készítsünk listát szállítási dátumonként, azon belül szállítási módonkénkt\n",
                "\n",
                "az egyes rendelések összmennyiségéről!\n",
                "\n",
                "Csak azokat a termékeket vegyük figyelembe, amelyek mennyiségi egysége db!\n",
                "\n",
                "A listát szűrjük úgy, hogy az csak a részösszeg sorokat és a végösszeget tartalmazza!"
            ],
            "metadata": {
                "azdata_cell_guid": "d7b41881-e145-4258-81d8-9cddfc779e0d"
            },
            "attachments": {}
        },
        {
            "cell_type": "code",
            "source": [
                "-- szall_datum, szall_mod, mennyiseg\r\n",
                "SELECT SZALL_DATUM,\r\n",
                "        SZALL_MOD,\r\n",
                "        SUM(MENNYISEG) as 'Összmennyiség'\r\n",
                "FROM Rendeles JOIN Rendeles_tetel ON Rendeles_tetel.SORSZAM = Rendeles.SORSZAM\r\n",
                "            JOIN Termek on Rendeles_tetel.TERMEKKOD = Termek.TERMEKKOD\r\n",
                "WHERE MEGYS = 'db'\r\n",
                "GROUP BY ROLLUP(SZALL_DATUM, SZALL_MOD)\r\n",
                "HAVING GROUPING_ID(SZALL_DATUM, SZALL_MOD) IN (1,3)"
            ],
            "metadata": {
                "azdata_cell_guid": "c9cd1c66-3475-46d6-a5a2-24d878b09287",
                "language": "sql"
            },
            "outputs": [
                {
                    "output_type": "display_data",
                    "data": {
                        "text/html": "(711 rows affected)"
                    },
                    "metadata": {}
                },
                {
                    "output_type": "display_data",
                    "data": {
                        "text/html": "Total execution time: 00:00:02.014"
                    },
                    "metadata": {}
                },
                {
                    "output_type": "execute_result",
                    "metadata": {},
                    "execution_count": 30,
                    "data": {
                        "application/vnd.dataresource+json": {
                            "schema": {
                                "fields": [
                                    {
                                        "name": "SZALL_DATUM"
                                    },
                                    {
                                        "name": "SZALL_MOD"
                                    },
                                    {
                                        "name": "Összmennyiség"
                                    }
                                ]
                            },
                            "data": [
                                {
                                    "SZALL_DATUM": "2015-05-03",
                                    "SZALL_MOD": "NULL",
                                    "Összmennyiség": "100"
                                },
                                {
                                    "SZALL_DATUM": "2015-05-04",
                                    "SZALL_MOD": "NULL",
                                    "Összmennyiség": "996"
                                },
                                {
                                    "SZALL_DATUM": "2015-05-05",
                                    "SZALL_MOD": "NULL",
                                    "Összmennyiség": "3152"
                                },
                                {
                                    "SZALL_DATUM": "2015-05-06",
                                    "SZALL_MOD": "NULL",
                                    "Összmennyiség": "5030"
                                },
                                {
                                    "SZALL_DATUM": "2015-05-07",
                                    "SZALL_MOD": "NULL",
                                    "Összmennyiség": "3828"
                                },
                                {
                                    "SZALL_DATUM": "2015-05-08",
                                    "SZALL_MOD": "NULL",
                                    "Összmennyiség": "3213"
                                },
                                {
                                    "SZALL_DATUM": "2015-05-09",
                                    "SZALL_MOD": "NULL",
                                    "Összmennyiség": "6665"
                                },
                                {
                                    "SZALL_DATUM": "2015-05-10",
                                    "SZALL_MOD": "NULL",
                                    "Összmennyiség": "6909"
                                },
                                {
                                    "SZALL_DATUM": "2015-05-11",
                                    "SZALL_MOD": "NULL",
                                    "Összmennyiség": "6224"
                                },
                                {
                                    "SZALL_DATUM": "2015-05-12",
                                    "SZALL_MOD": "NULL",
                                    "Összmennyiség": "7568"
                                },
                                {
                                    "SZALL_DATUM": "2015-05-13",
                                    "SZALL_MOD": "NULL",
                                    "Összmennyiség": "7985"
                                },
                                {
                                    "SZALL_DATUM": "2015-05-14",
                                    "SZALL_MOD": "NULL",
                                    "Összmennyiség": "9706"
                                },
                                {
                                    "SZALL_DATUM": "2015-05-15",
                                    "SZALL_MOD": "NULL",
                                    "Összmennyiség": "7400"
                                },
                                {
                                    "SZALL_DATUM": "2015-05-16",
                                    "SZALL_MOD": "NULL",
                                    "Összmennyiség": "7897"
                                },
                                {
                                    "SZALL_DATUM": "2015-05-17",
                                    "SZALL_MOD": "NULL",
                                    "Összmennyiség": "4572"
                                },
                                {
                                    "SZALL_DATUM": "2015-05-18",
                                    "SZALL_MOD": "NULL",
                                    "Összmennyiség": "8190"
                                },
                                {
                                    "SZALL_DATUM": "2015-05-19",
                                    "SZALL_MOD": "NULL",
                                    "Összmennyiség": "7248"
                                },
                                {
                                    "SZALL_DATUM": "2015-05-20",
                                    "SZALL_MOD": "NULL",
                                    "Összmennyiség": "9859"
                                },
                                {
                                    "SZALL_DATUM": "2015-05-21",
                                    "SZALL_MOD": "NULL",
                                    "Összmennyiség": "8041"
                                },
                                {
                                    "SZALL_DATUM": "2015-05-22",
                                    "SZALL_MOD": "NULL",
                                    "Összmennyiség": "8338"
                                },
                                {
                                    "SZALL_DATUM": "2015-05-23",
                                    "SZALL_MOD": "NULL",
                                    "Összmennyiség": "5616"
                                },
                                {
                                    "SZALL_DATUM": "2015-05-24",
                                    "SZALL_MOD": "NULL",
                                    "Összmennyiség": "5001"
                                },
                                {
                                    "SZALL_DATUM": "2015-05-25",
                                    "SZALL_MOD": "NULL",
                                    "Összmennyiség": "7611"
                                },
                                {
                                    "SZALL_DATUM": "2015-05-26",
                                    "SZALL_MOD": "NULL",
                                    "Összmennyiség": "7153"
                                },
                                {
                                    "SZALL_DATUM": "2015-05-27",
                                    "SZALL_MOD": "NULL",
                                    "Összmennyiség": "8300"
                                },
                                {
                                    "SZALL_DATUM": "2015-05-28",
                                    "SZALL_MOD": "NULL",
                                    "Összmennyiség": "9340"
                                },
                                {
                                    "SZALL_DATUM": "2015-05-29",
                                    "SZALL_MOD": "NULL",
                                    "Összmennyiség": "10784"
                                },
                                {
                                    "SZALL_DATUM": "2015-05-30",
                                    "SZALL_MOD": "NULL",
                                    "Összmennyiség": "7763"
                                },
                                {
                                    "SZALL_DATUM": "2015-05-31",
                                    "SZALL_MOD": "NULL",
                                    "Összmennyiség": "4364"
                                },
                                {
                                    "SZALL_DATUM": "2015-06-01",
                                    "SZALL_MOD": "NULL",
                                    "Összmennyiség": "6947"
                                },
                                {
                                    "SZALL_DATUM": "2015-06-02",
                                    "SZALL_MOD": "NULL",
                                    "Összmennyiség": "6241"
                                },
                                {
                                    "SZALL_DATUM": "2015-06-03",
                                    "SZALL_MOD": "NULL",
                                    "Összmennyiség": "9359"
                                },
                                {
                                    "SZALL_DATUM": "2015-06-04",
                                    "SZALL_MOD": "NULL",
                                    "Összmennyiség": "8474"
                                },
                                {
                                    "SZALL_DATUM": "2015-06-05",
                                    "SZALL_MOD": "NULL",
                                    "Összmennyiség": "8961"
                                },
                                {
                                    "SZALL_DATUM": "2015-06-06",
                                    "SZALL_MOD": "NULL",
                                    "Összmennyiség": "9510"
                                },
                                {
                                    "SZALL_DATUM": "2015-06-07",
                                    "SZALL_MOD": "NULL",
                                    "Összmennyiség": "7956"
                                },
                                {
                                    "SZALL_DATUM": "2015-06-08",
                                    "SZALL_MOD": "NULL",
                                    "Összmennyiség": "4277"
                                },
                                {
                                    "SZALL_DATUM": "2015-06-09",
                                    "SZALL_MOD": "NULL",
                                    "Összmennyiség": "7132"
                                },
                                {
                                    "SZALL_DATUM": "2015-06-10",
                                    "SZALL_MOD": "NULL",
                                    "Összmennyiség": "9346"
                                },
                                {
                                    "SZALL_DATUM": "2015-06-11",
                                    "SZALL_MOD": "NULL",
                                    "Összmennyiség": "5191"
                                },
                                {
                                    "SZALL_DATUM": "2015-06-12",
                                    "SZALL_MOD": "NULL",
                                    "Összmennyiség": "7336"
                                },
                                {
                                    "SZALL_DATUM": "2015-06-13",
                                    "SZALL_MOD": "NULL",
                                    "Összmennyiség": "7818"
                                },
                                {
                                    "SZALL_DATUM": "2015-06-14",
                                    "SZALL_MOD": "NULL",
                                    "Összmennyiség": "6484"
                                },
                                {
                                    "SZALL_DATUM": "2015-06-15",
                                    "SZALL_MOD": "NULL",
                                    "Összmennyiség": "7796"
                                },
                                {
                                    "SZALL_DATUM": "2015-06-16",
                                    "SZALL_MOD": "NULL",
                                    "Összmennyiség": "4307"
                                },
                                {
                                    "SZALL_DATUM": "2015-06-17",
                                    "SZALL_MOD": "NULL",
                                    "Összmennyiség": "8645"
                                },
                                {
                                    "SZALL_DATUM": "2015-06-18",
                                    "SZALL_MOD": "NULL",
                                    "Összmennyiség": "10077"
                                },
                                {
                                    "SZALL_DATUM": "2015-06-19",
                                    "SZALL_MOD": "NULL",
                                    "Összmennyiség": "5675"
                                },
                                {
                                    "SZALL_DATUM": "2015-06-20",
                                    "SZALL_MOD": "NULL",
                                    "Összmennyiség": "7859"
                                },
                                {
                                    "SZALL_DATUM": "2015-06-21",
                                    "SZALL_MOD": "NULL",
                                    "Összmennyiség": "6627"
                                },
                                {
                                    "SZALL_DATUM": "2015-06-22",
                                    "SZALL_MOD": "NULL",
                                    "Összmennyiség": "9084"
                                },
                                {
                                    "SZALL_DATUM": "2015-06-23",
                                    "SZALL_MOD": "NULL",
                                    "Összmennyiség": "8869"
                                },
                                {
                                    "SZALL_DATUM": "2015-06-24",
                                    "SZALL_MOD": "NULL",
                                    "Összmennyiség": "4993"
                                },
                                {
                                    "SZALL_DATUM": "2015-06-25",
                                    "SZALL_MOD": "NULL",
                                    "Összmennyiség": "8165"
                                },
                                {
                                    "SZALL_DATUM": "2015-06-26",
                                    "SZALL_MOD": "NULL",
                                    "Összmennyiség": "10834"
                                },
                                {
                                    "SZALL_DATUM": "2015-06-27",
                                    "SZALL_MOD": "NULL",
                                    "Összmennyiség": "6396"
                                },
                                {
                                    "SZALL_DATUM": "2015-06-28",
                                    "SZALL_MOD": "NULL",
                                    "Összmennyiség": "6803"
                                },
                                {
                                    "SZALL_DATUM": "2015-06-29",
                                    "SZALL_MOD": "NULL",
                                    "Összmennyiség": "7435"
                                },
                                {
                                    "SZALL_DATUM": "2015-06-30",
                                    "SZALL_MOD": "NULL",
                                    "Összmennyiség": "8526"
                                },
                                {
                                    "SZALL_DATUM": "2015-07-01",
                                    "SZALL_MOD": "NULL",
                                    "Összmennyiség": "6032"
                                },
                                {
                                    "SZALL_DATUM": "2015-07-02",
                                    "SZALL_MOD": "NULL",
                                    "Összmennyiség": "7066"
                                },
                                {
                                    "SZALL_DATUM": "2015-07-03",
                                    "SZALL_MOD": "NULL",
                                    "Összmennyiség": "6359"
                                },
                                {
                                    "SZALL_DATUM": "2015-07-04",
                                    "SZALL_MOD": "NULL",
                                    "Összmennyiség": "8739"
                                },
                                {
                                    "SZALL_DATUM": "2015-07-05",
                                    "SZALL_MOD": "NULL",
                                    "Összmennyiség": "8558"
                                },
                                {
                                    "SZALL_DATUM": "2015-07-06",
                                    "SZALL_MOD": "NULL",
                                    "Összmennyiség": "8389"
                                },
                                {
                                    "SZALL_DATUM": "2015-07-07",
                                    "SZALL_MOD": "NULL",
                                    "Összmennyiség": "9522"
                                },
                                {
                                    "SZALL_DATUM": "2015-07-08",
                                    "SZALL_MOD": "NULL",
                                    "Összmennyiség": "6395"
                                },
                                {
                                    "SZALL_DATUM": "2015-07-09",
                                    "SZALL_MOD": "NULL",
                                    "Összmennyiség": "7375"
                                },
                                {
                                    "SZALL_DATUM": "2015-07-10",
                                    "SZALL_MOD": "NULL",
                                    "Összmennyiség": "7676"
                                },
                                {
                                    "SZALL_DATUM": "2015-07-11",
                                    "SZALL_MOD": "NULL",
                                    "Összmennyiség": "7366"
                                },
                                {
                                    "SZALL_DATUM": "2015-07-12",
                                    "SZALL_MOD": "NULL",
                                    "Összmennyiség": "8638"
                                },
                                {
                                    "SZALL_DATUM": "2015-07-13",
                                    "SZALL_MOD": "NULL",
                                    "Összmennyiség": "8300"
                                },
                                {
                                    "SZALL_DATUM": "2015-07-14",
                                    "SZALL_MOD": "NULL",
                                    "Összmennyiség": "6340"
                                },
                                {
                                    "SZALL_DATUM": "2015-07-15",
                                    "SZALL_MOD": "NULL",
                                    "Összmennyiség": "8615"
                                },
                                {
                                    "SZALL_DATUM": "2015-07-16",
                                    "SZALL_MOD": "NULL",
                                    "Összmennyiség": "7041"
                                },
                                {
                                    "SZALL_DATUM": "2015-07-17",
                                    "SZALL_MOD": "NULL",
                                    "Összmennyiség": "7327"
                                },
                                {
                                    "SZALL_DATUM": "2015-07-18",
                                    "SZALL_MOD": "NULL",
                                    "Összmennyiség": "6762"
                                },
                                {
                                    "SZALL_DATUM": "2015-07-19",
                                    "SZALL_MOD": "NULL",
                                    "Összmennyiség": "6776"
                                },
                                {
                                    "SZALL_DATUM": "2015-07-20",
                                    "SZALL_MOD": "NULL",
                                    "Összmennyiség": "9748"
                                },
                                {
                                    "SZALL_DATUM": "2015-07-21",
                                    "SZALL_MOD": "NULL",
                                    "Összmennyiség": "9805"
                                },
                                {
                                    "SZALL_DATUM": "2015-07-22",
                                    "SZALL_MOD": "NULL",
                                    "Összmennyiség": "5140"
                                },
                                {
                                    "SZALL_DATUM": "2015-07-23",
                                    "SZALL_MOD": "NULL",
                                    "Összmennyiség": "7258"
                                },
                                {
                                    "SZALL_DATUM": "2015-07-24",
                                    "SZALL_MOD": "NULL",
                                    "Összmennyiség": "8697"
                                },
                                {
                                    "SZALL_DATUM": "2015-07-25",
                                    "SZALL_MOD": "NULL",
                                    "Összmennyiség": "8180"
                                },
                                {
                                    "SZALL_DATUM": "2015-07-26",
                                    "SZALL_MOD": "NULL",
                                    "Összmennyiség": "9323"
                                },
                                {
                                    "SZALL_DATUM": "2015-07-27",
                                    "SZALL_MOD": "NULL",
                                    "Összmennyiség": "5417"
                                },
                                {
                                    "SZALL_DATUM": "2015-07-28",
                                    "SZALL_MOD": "NULL",
                                    "Összmennyiség": "7825"
                                },
                                {
                                    "SZALL_DATUM": "2015-07-29",
                                    "SZALL_MOD": "NULL",
                                    "Összmennyiség": "6405"
                                },
                                {
                                    "SZALL_DATUM": "2015-07-30",
                                    "SZALL_MOD": "NULL",
                                    "Összmennyiség": "10029"
                                },
                                {
                                    "SZALL_DATUM": "2015-07-31",
                                    "SZALL_MOD": "NULL",
                                    "Összmennyiség": "8673"
                                },
                                {
                                    "SZALL_DATUM": "2015-08-01",
                                    "SZALL_MOD": "NULL",
                                    "Összmennyiség": "9957"
                                },
                                {
                                    "SZALL_DATUM": "2015-08-02",
                                    "SZALL_MOD": "NULL",
                                    "Összmennyiség": "7599"
                                },
                                {
                                    "SZALL_DATUM": "2015-08-03",
                                    "SZALL_MOD": "NULL",
                                    "Összmennyiség": "9208"
                                },
                                {
                                    "SZALL_DATUM": "2015-08-04",
                                    "SZALL_MOD": "NULL",
                                    "Összmennyiség": "9353"
                                },
                                {
                                    "SZALL_DATUM": "2015-08-05",
                                    "SZALL_MOD": "NULL",
                                    "Összmennyiség": "10342"
                                },
                                {
                                    "SZALL_DATUM": "2015-08-06",
                                    "SZALL_MOD": "NULL",
                                    "Összmennyiség": "5124"
                                },
                                {
                                    "SZALL_DATUM": "2015-08-07",
                                    "SZALL_MOD": "NULL",
                                    "Összmennyiség": "8960"
                                },
                                {
                                    "SZALL_DATUM": "2015-08-08",
                                    "SZALL_MOD": "NULL",
                                    "Összmennyiség": "10296"
                                },
                                {
                                    "SZALL_DATUM": "2015-08-09",
                                    "SZALL_MOD": "NULL",
                                    "Összmennyiség": "6026"
                                },
                                {
                                    "SZALL_DATUM": "2015-08-10",
                                    "SZALL_MOD": "NULL",
                                    "Összmennyiség": "7896"
                                },
                                {
                                    "SZALL_DATUM": "2015-08-11",
                                    "SZALL_MOD": "NULL",
                                    "Összmennyiség": "9008"
                                },
                                {
                                    "SZALL_DATUM": "2015-08-12",
                                    "SZALL_MOD": "NULL",
                                    "Összmennyiség": "7605"
                                },
                                {
                                    "SZALL_DATUM": "2015-08-13",
                                    "SZALL_MOD": "NULL",
                                    "Összmennyiség": "9380"
                                },
                                {
                                    "SZALL_DATUM": "2015-08-14",
                                    "SZALL_MOD": "NULL",
                                    "Összmennyiség": "9780"
                                },
                                {
                                    "SZALL_DATUM": "2015-08-15",
                                    "SZALL_MOD": "NULL",
                                    "Összmennyiség": "7514"
                                },
                                {
                                    "SZALL_DATUM": "2015-08-16",
                                    "SZALL_MOD": "NULL",
                                    "Összmennyiség": "5341"
                                },
                                {
                                    "SZALL_DATUM": "2015-08-17",
                                    "SZALL_MOD": "NULL",
                                    "Összmennyiség": "7162"
                                },
                                {
                                    "SZALL_DATUM": "2015-08-18",
                                    "SZALL_MOD": "NULL",
                                    "Összmennyiség": "6271"
                                },
                                {
                                    "SZALL_DATUM": "2015-08-19",
                                    "SZALL_MOD": "NULL",
                                    "Összmennyiség": "6650"
                                },
                                {
                                    "SZALL_DATUM": "2015-08-20",
                                    "SZALL_MOD": "NULL",
                                    "Összmennyiség": "9005"
                                },
                                {
                                    "SZALL_DATUM": "2015-08-21",
                                    "SZALL_MOD": "NULL",
                                    "Összmennyiség": "6874"
                                },
                                {
                                    "SZALL_DATUM": "2015-08-22",
                                    "SZALL_MOD": "NULL",
                                    "Összmennyiség": "10138"
                                },
                                {
                                    "SZALL_DATUM": "2015-08-23",
                                    "SZALL_MOD": "NULL",
                                    "Összmennyiség": "6734"
                                },
                                {
                                    "SZALL_DATUM": "2015-08-24",
                                    "SZALL_MOD": "NULL",
                                    "Összmennyiség": "7767"
                                },
                                {
                                    "SZALL_DATUM": "2015-08-25",
                                    "SZALL_MOD": "NULL",
                                    "Összmennyiség": "9206"
                                },
                                {
                                    "SZALL_DATUM": "2015-08-26",
                                    "SZALL_MOD": "NULL",
                                    "Összmennyiség": "11006"
                                },
                                {
                                    "SZALL_DATUM": "2015-08-27",
                                    "SZALL_MOD": "NULL",
                                    "Összmennyiség": "6244"
                                },
                                {
                                    "SZALL_DATUM": "2015-08-28",
                                    "SZALL_MOD": "NULL",
                                    "Összmennyiség": "8145"
                                },
                                {
                                    "SZALL_DATUM": "2015-08-29",
                                    "SZALL_MOD": "NULL",
                                    "Összmennyiség": "7380"
                                },
                                {
                                    "SZALL_DATUM": "2015-08-30",
                                    "SZALL_MOD": "NULL",
                                    "Összmennyiség": "9727"
                                },
                                {
                                    "SZALL_DATUM": "2015-08-31",
                                    "SZALL_MOD": "NULL",
                                    "Összmennyiség": "7226"
                                },
                                {
                                    "SZALL_DATUM": "2015-09-01",
                                    "SZALL_MOD": "NULL",
                                    "Összmennyiség": "9466"
                                },
                                {
                                    "SZALL_DATUM": "2015-09-02",
                                    "SZALL_MOD": "NULL",
                                    "Összmennyiség": "6179"
                                },
                                {
                                    "SZALL_DATUM": "2015-09-03",
                                    "SZALL_MOD": "NULL",
                                    "Összmennyiség": "9949"
                                },
                                {
                                    "SZALL_DATUM": "2015-09-04",
                                    "SZALL_MOD": "NULL",
                                    "Összmennyiség": "10432"
                                },
                                {
                                    "SZALL_DATUM": "2015-09-05",
                                    "SZALL_MOD": "NULL",
                                    "Összmennyiség": "7083"
                                },
                                {
                                    "SZALL_DATUM": "2015-09-06",
                                    "SZALL_MOD": "NULL",
                                    "Összmennyiség": "8378"
                                },
                                {
                                    "SZALL_DATUM": "2015-09-07",
                                    "SZALL_MOD": "NULL",
                                    "Összmennyiség": "8303"
                                },
                                {
                                    "SZALL_DATUM": "2015-09-08",
                                    "SZALL_MOD": "NULL",
                                    "Összmennyiség": "8349"
                                },
                                {
                                    "SZALL_DATUM": "2015-09-09",
                                    "SZALL_MOD": "NULL",
                                    "Összmennyiség": "7985"
                                },
                                {
                                    "SZALL_DATUM": "2015-09-10",
                                    "SZALL_MOD": "NULL",
                                    "Összmennyiség": "10353"
                                },
                                {
                                    "SZALL_DATUM": "2015-09-11",
                                    "SZALL_MOD": "NULL",
                                    "Összmennyiség": "9284"
                                },
                                {
                                    "SZALL_DATUM": "2015-09-12",
                                    "SZALL_MOD": "NULL",
                                    "Összmennyiség": "8553"
                                },
                                {
                                    "SZALL_DATUM": "2015-09-13",
                                    "SZALL_MOD": "NULL",
                                    "Összmennyiség": "7435"
                                },
                                {
                                    "SZALL_DATUM": "2015-09-14",
                                    "SZALL_MOD": "NULL",
                                    "Összmennyiség": "8232"
                                },
                                {
                                    "SZALL_DATUM": "2015-09-15",
                                    "SZALL_MOD": "NULL",
                                    "Összmennyiség": "4776"
                                },
                                {
                                    "SZALL_DATUM": "2015-09-16",
                                    "SZALL_MOD": "NULL",
                                    "Összmennyiség": "7416"
                                },
                                {
                                    "SZALL_DATUM": "2015-09-17",
                                    "SZALL_MOD": "NULL",
                                    "Összmennyiség": "8358"
                                },
                                {
                                    "SZALL_DATUM": "2015-09-18",
                                    "SZALL_MOD": "NULL",
                                    "Összmennyiség": "7210"
                                },
                                {
                                    "SZALL_DATUM": "2015-09-19",
                                    "SZALL_MOD": "NULL",
                                    "Összmennyiség": "8267"
                                },
                                {
                                    "SZALL_DATUM": "2015-09-20",
                                    "SZALL_MOD": "NULL",
                                    "Összmennyiség": "10001"
                                },
                                {
                                    "SZALL_DATUM": "2015-09-21",
                                    "SZALL_MOD": "NULL",
                                    "Összmennyiség": "7086"
                                },
                                {
                                    "SZALL_DATUM": "2015-09-22",
                                    "SZALL_MOD": "NULL",
                                    "Összmennyiség": "7424"
                                },
                                {
                                    "SZALL_DATUM": "2015-09-23",
                                    "SZALL_MOD": "NULL",
                                    "Összmennyiség": "8183"
                                },
                                {
                                    "SZALL_DATUM": "2015-09-24",
                                    "SZALL_MOD": "NULL",
                                    "Összmennyiség": "10252"
                                },
                                {
                                    "SZALL_DATUM": "2015-09-25",
                                    "SZALL_MOD": "NULL",
                                    "Összmennyiség": "8106"
                                },
                                {
                                    "SZALL_DATUM": "2015-09-26",
                                    "SZALL_MOD": "NULL",
                                    "Összmennyiség": "9451"
                                },
                                {
                                    "SZALL_DATUM": "2015-09-27",
                                    "SZALL_MOD": "NULL",
                                    "Összmennyiség": "8692"
                                },
                                {
                                    "SZALL_DATUM": "2015-09-28",
                                    "SZALL_MOD": "NULL",
                                    "Összmennyiség": "10281"
                                },
                                {
                                    "SZALL_DATUM": "2015-09-29",
                                    "SZALL_MOD": "NULL",
                                    "Összmennyiség": "9481"
                                },
                                {
                                    "SZALL_DATUM": "2015-09-30",
                                    "SZALL_MOD": "NULL",
                                    "Összmennyiség": "5900"
                                },
                                {
                                    "SZALL_DATUM": "2015-10-01",
                                    "SZALL_MOD": "NULL",
                                    "Összmennyiség": "9384"
                                },
                                {
                                    "SZALL_DATUM": "2015-10-02",
                                    "SZALL_MOD": "NULL",
                                    "Összmennyiség": "5674"
                                },
                                {
                                    "SZALL_DATUM": "2015-10-03",
                                    "SZALL_MOD": "NULL",
                                    "Összmennyiség": "8509"
                                },
                                {
                                    "SZALL_DATUM": "2015-10-04",
                                    "SZALL_MOD": "NULL",
                                    "Összmennyiség": "7645"
                                },
                                {
                                    "SZALL_DATUM": "2015-10-05",
                                    "SZALL_MOD": "NULL",
                                    "Összmennyiség": "8535"
                                },
                                {
                                    "SZALL_DATUM": "2015-10-06",
                                    "SZALL_MOD": "NULL",
                                    "Összmennyiség": "7529"
                                },
                                {
                                    "SZALL_DATUM": "2015-10-07",
                                    "SZALL_MOD": "NULL",
                                    "Összmennyiség": "9435"
                                },
                                {
                                    "SZALL_DATUM": "2015-10-08",
                                    "SZALL_MOD": "NULL",
                                    "Összmennyiség": "7319"
                                },
                                {
                                    "SZALL_DATUM": "2015-10-09",
                                    "SZALL_MOD": "NULL",
                                    "Összmennyiség": "8931"
                                },
                                {
                                    "SZALL_DATUM": "2015-10-10",
                                    "SZALL_MOD": "NULL",
                                    "Összmennyiség": "7928"
                                },
                                {
                                    "SZALL_DATUM": "2015-10-11",
                                    "SZALL_MOD": "NULL",
                                    "Összmennyiség": "7516"
                                },
                                {
                                    "SZALL_DATUM": "2015-10-12",
                                    "SZALL_MOD": "NULL",
                                    "Összmennyiség": "9355"
                                },
                                {
                                    "SZALL_DATUM": "2015-10-13",
                                    "SZALL_MOD": "NULL",
                                    "Összmennyiség": "6564"
                                },
                                {
                                    "SZALL_DATUM": "2015-10-14",
                                    "SZALL_MOD": "NULL",
                                    "Összmennyiség": "7035"
                                },
                                {
                                    "SZALL_DATUM": "2015-10-15",
                                    "SZALL_MOD": "NULL",
                                    "Összmennyiség": "9269"
                                },
                                {
                                    "SZALL_DATUM": "2015-10-16",
                                    "SZALL_MOD": "NULL",
                                    "Összmennyiség": "8427"
                                },
                                {
                                    "SZALL_DATUM": "2015-10-17",
                                    "SZALL_MOD": "NULL",
                                    "Összmennyiség": "6936"
                                },
                                {
                                    "SZALL_DATUM": "2015-10-18",
                                    "SZALL_MOD": "NULL",
                                    "Összmennyiség": "8671"
                                },
                                {
                                    "SZALL_DATUM": "2015-10-19",
                                    "SZALL_MOD": "NULL",
                                    "Összmennyiség": "7207"
                                },
                                {
                                    "SZALL_DATUM": "2015-10-20",
                                    "SZALL_MOD": "NULL",
                                    "Összmennyiség": "8613"
                                },
                                {
                                    "SZALL_DATUM": "2015-10-21",
                                    "SZALL_MOD": "NULL",
                                    "Összmennyiség": "7366"
                                },
                                {
                                    "SZALL_DATUM": "2015-10-22",
                                    "SZALL_MOD": "NULL",
                                    "Összmennyiség": "6678"
                                },
                                {
                                    "SZALL_DATUM": "2015-10-23",
                                    "SZALL_MOD": "NULL",
                                    "Összmennyiség": "8056"
                                },
                                {
                                    "SZALL_DATUM": "2015-10-24",
                                    "SZALL_MOD": "NULL",
                                    "Összmennyiség": "7233"
                                },
                                {
                                    "SZALL_DATUM": "2015-10-25",
                                    "SZALL_MOD": "NULL",
                                    "Összmennyiség": "9107"
                                },
                                {
                                    "SZALL_DATUM": "2015-10-26",
                                    "SZALL_MOD": "NULL",
                                    "Összmennyiség": "9776"
                                },
                                {
                                    "SZALL_DATUM": "2015-10-27",
                                    "SZALL_MOD": "NULL",
                                    "Összmennyiség": "7669"
                                },
                                {
                                    "SZALL_DATUM": "2015-10-28",
                                    "SZALL_MOD": "NULL",
                                    "Összmennyiség": "7522"
                                },
                                {
                                    "SZALL_DATUM": "2015-10-29",
                                    "SZALL_MOD": "NULL",
                                    "Összmennyiség": "6971"
                                },
                                {
                                    "SZALL_DATUM": "2015-10-30",
                                    "SZALL_MOD": "NULL",
                                    "Összmennyiség": "8999"
                                },
                                {
                                    "SZALL_DATUM": "2015-10-31",
                                    "SZALL_MOD": "NULL",
                                    "Összmennyiség": "7046"
                                },
                                {
                                    "SZALL_DATUM": "2015-11-01",
                                    "SZALL_MOD": "NULL",
                                    "Összmennyiség": "6171"
                                },
                                {
                                    "SZALL_DATUM": "2015-11-02",
                                    "SZALL_MOD": "NULL",
                                    "Összmennyiség": "7612"
                                },
                                {
                                    "SZALL_DATUM": "2015-11-03",
                                    "SZALL_MOD": "NULL",
                                    "Összmennyiség": "11533"
                                },
                                {
                                    "SZALL_DATUM": "2015-11-04",
                                    "SZALL_MOD": "NULL",
                                    "Összmennyiség": "5352"
                                },
                                {
                                    "SZALL_DATUM": "2015-11-05",
                                    "SZALL_MOD": "NULL",
                                    "Összmennyiség": "7183"
                                },
                                {
                                    "SZALL_DATUM": "2015-11-06",
                                    "SZALL_MOD": "NULL",
                                    "Összmennyiség": "8606"
                                },
                                {
                                    "SZALL_DATUM": "2015-11-07",
                                    "SZALL_MOD": "NULL",
                                    "Összmennyiség": "7260"
                                },
                                {
                                    "SZALL_DATUM": "2015-11-08",
                                    "SZALL_MOD": "NULL",
                                    "Összmennyiség": "8177"
                                },
                                {
                                    "SZALL_DATUM": "2015-11-09",
                                    "SZALL_MOD": "NULL",
                                    "Összmennyiség": "8431"
                                },
                                {
                                    "SZALL_DATUM": "2015-11-10",
                                    "SZALL_MOD": "NULL",
                                    "Összmennyiség": "8329"
                                },
                                {
                                    "SZALL_DATUM": "2015-11-11",
                                    "SZALL_MOD": "NULL",
                                    "Összmennyiség": "8191"
                                },
                                {
                                    "SZALL_DATUM": "2015-11-12",
                                    "SZALL_MOD": "NULL",
                                    "Összmennyiség": "5884"
                                },
                                {
                                    "SZALL_DATUM": "2015-11-13",
                                    "SZALL_MOD": "NULL",
                                    "Összmennyiség": "7359"
                                },
                                {
                                    "SZALL_DATUM": "2015-11-14",
                                    "SZALL_MOD": "NULL",
                                    "Összmennyiség": "7730"
                                },
                                {
                                    "SZALL_DATUM": "2015-11-15",
                                    "SZALL_MOD": "NULL",
                                    "Összmennyiség": "6881"
                                },
                                {
                                    "SZALL_DATUM": "2015-11-16",
                                    "SZALL_MOD": "NULL",
                                    "Összmennyiség": "7721"
                                },
                                {
                                    "SZALL_DATUM": "2015-11-17",
                                    "SZALL_MOD": "NULL",
                                    "Összmennyiség": "7234"
                                },
                                {
                                    "SZALL_DATUM": "2015-11-18",
                                    "SZALL_MOD": "NULL",
                                    "Összmennyiség": "8321"
                                },
                                {
                                    "SZALL_DATUM": "2015-11-19",
                                    "SZALL_MOD": "NULL",
                                    "Összmennyiség": "7582"
                                },
                                {
                                    "SZALL_DATUM": "2015-11-20",
                                    "SZALL_MOD": "NULL",
                                    "Összmennyiség": "6288"
                                },
                                {
                                    "SZALL_DATUM": "2015-11-21",
                                    "SZALL_MOD": "NULL",
                                    "Összmennyiség": "6657"
                                },
                                {
                                    "SZALL_DATUM": "2015-11-22",
                                    "SZALL_MOD": "NULL",
                                    "Összmennyiség": "8640"
                                },
                                {
                                    "SZALL_DATUM": "2015-11-23",
                                    "SZALL_MOD": "NULL",
                                    "Összmennyiség": "7363"
                                },
                                {
                                    "SZALL_DATUM": "2015-11-24",
                                    "SZALL_MOD": "NULL",
                                    "Összmennyiség": "7556"
                                },
                                {
                                    "SZALL_DATUM": "2015-11-25",
                                    "SZALL_MOD": "NULL",
                                    "Összmennyiség": "7103"
                                },
                                {
                                    "SZALL_DATUM": "2015-11-26",
                                    "SZALL_MOD": "NULL",
                                    "Összmennyiség": "8368"
                                },
                                {
                                    "SZALL_DATUM": "2015-11-27",
                                    "SZALL_MOD": "NULL",
                                    "Összmennyiség": "6865"
                                },
                                {
                                    "SZALL_DATUM": "2015-11-28",
                                    "SZALL_MOD": "NULL",
                                    "Összmennyiség": "10098"
                                },
                                {
                                    "SZALL_DATUM": "2015-11-29",
                                    "SZALL_MOD": "NULL",
                                    "Összmennyiség": "7636"
                                },
                                {
                                    "SZALL_DATUM": "2015-11-30",
                                    "SZALL_MOD": "NULL",
                                    "Összmennyiség": "7182"
                                },
                                {
                                    "SZALL_DATUM": "2015-12-01",
                                    "SZALL_MOD": "NULL",
                                    "Összmennyiség": "7314"
                                },
                                {
                                    "SZALL_DATUM": "2015-12-02",
                                    "SZALL_MOD": "NULL",
                                    "Összmennyiség": "9592"
                                },
                                {
                                    "SZALL_DATUM": "2015-12-03",
                                    "SZALL_MOD": "NULL",
                                    "Összmennyiség": "8829"
                                },
                                {
                                    "SZALL_DATUM": "2015-12-04",
                                    "SZALL_MOD": "NULL",
                                    "Összmennyiség": "8013"
                                },
                                {
                                    "SZALL_DATUM": "2015-12-05",
                                    "SZALL_MOD": "NULL",
                                    "Összmennyiség": "8887"
                                },
                                {
                                    "SZALL_DATUM": "2015-12-06",
                                    "SZALL_MOD": "NULL",
                                    "Összmennyiség": "5596"
                                },
                                {
                                    "SZALL_DATUM": "2015-12-07",
                                    "SZALL_MOD": "NULL",
                                    "Összmennyiség": "8825"
                                },
                                {
                                    "SZALL_DATUM": "2015-12-08",
                                    "SZALL_MOD": "NULL",
                                    "Összmennyiség": "7819"
                                },
                                {
                                    "SZALL_DATUM": "2015-12-09",
                                    "SZALL_MOD": "NULL",
                                    "Összmennyiség": "7897"
                                },
                                {
                                    "SZALL_DATUM": "2015-12-10",
                                    "SZALL_MOD": "NULL",
                                    "Összmennyiség": "9644"
                                },
                                {
                                    "SZALL_DATUM": "2015-12-11",
                                    "SZALL_MOD": "NULL",
                                    "Összmennyiség": "8093"
                                },
                                {
                                    "SZALL_DATUM": "2015-12-12",
                                    "SZALL_MOD": "NULL",
                                    "Összmennyiség": "8957"
                                },
                                {
                                    "SZALL_DATUM": "2015-12-13",
                                    "SZALL_MOD": "NULL",
                                    "Összmennyiség": "7399"
                                },
                                {
                                    "SZALL_DATUM": "2015-12-14",
                                    "SZALL_MOD": "NULL",
                                    "Összmennyiség": "7676"
                                },
                                {
                                    "SZALL_DATUM": "2015-12-15",
                                    "SZALL_MOD": "NULL",
                                    "Összmennyiség": "6863"
                                },
                                {
                                    "SZALL_DATUM": "2015-12-16",
                                    "SZALL_MOD": "NULL",
                                    "Összmennyiség": "7886"
                                },
                                {
                                    "SZALL_DATUM": "2015-12-17",
                                    "SZALL_MOD": "NULL",
                                    "Összmennyiség": "6894"
                                },
                                {
                                    "SZALL_DATUM": "2015-12-18",
                                    "SZALL_MOD": "NULL",
                                    "Összmennyiség": "12260"
                                },
                                {
                                    "SZALL_DATUM": "2015-12-19",
                                    "SZALL_MOD": "NULL",
                                    "Összmennyiség": "5788"
                                },
                                {
                                    "SZALL_DATUM": "2015-12-20",
                                    "SZALL_MOD": "NULL",
                                    "Összmennyiség": "8699"
                                },
                                {
                                    "SZALL_DATUM": "2015-12-21",
                                    "SZALL_MOD": "NULL",
                                    "Összmennyiség": "6630"
                                },
                                {
                                    "SZALL_DATUM": "2015-12-22",
                                    "SZALL_MOD": "NULL",
                                    "Összmennyiség": "9212"
                                },
                                {
                                    "SZALL_DATUM": "2015-12-23",
                                    "SZALL_MOD": "NULL",
                                    "Összmennyiség": "6676"
                                },
                                {
                                    "SZALL_DATUM": "2015-12-24",
                                    "SZALL_MOD": "NULL",
                                    "Összmennyiség": "8869"
                                },
                                {
                                    "SZALL_DATUM": "2015-12-25",
                                    "SZALL_MOD": "NULL",
                                    "Összmennyiség": "6944"
                                },
                                {
                                    "SZALL_DATUM": "2015-12-26",
                                    "SZALL_MOD": "NULL",
                                    "Összmennyiség": "8921"
                                },
                                {
                                    "SZALL_DATUM": "2015-12-27",
                                    "SZALL_MOD": "NULL",
                                    "Összmennyiség": "7648"
                                },
                                {
                                    "SZALL_DATUM": "2015-12-28",
                                    "SZALL_MOD": "NULL",
                                    "Összmennyiség": "8042"
                                },
                                {
                                    "SZALL_DATUM": "2015-12-29",
                                    "SZALL_MOD": "NULL",
                                    "Összmennyiség": "7923"
                                },
                                {
                                    "SZALL_DATUM": "2015-12-30",
                                    "SZALL_MOD": "NULL",
                                    "Összmennyiség": "6562"
                                },
                                {
                                    "SZALL_DATUM": "2015-12-31",
                                    "SZALL_MOD": "NULL",
                                    "Összmennyiség": "7021"
                                },
                                {
                                    "SZALL_DATUM": "2016-01-01",
                                    "SZALL_MOD": "NULL",
                                    "Összmennyiség": "8837"
                                },
                                {
                                    "SZALL_DATUM": "2016-01-02",
                                    "SZALL_MOD": "NULL",
                                    "Összmennyiség": "7518"
                                },
                                {
                                    "SZALL_DATUM": "2016-01-03",
                                    "SZALL_MOD": "NULL",
                                    "Összmennyiség": "8422"
                                },
                                {
                                    "SZALL_DATUM": "2016-01-04",
                                    "SZALL_MOD": "NULL",
                                    "Összmennyiség": "8813"
                                },
                                {
                                    "SZALL_DATUM": "2016-01-05",
                                    "SZALL_MOD": "NULL",
                                    "Összmennyiség": "6895"
                                },
                                {
                                    "SZALL_DATUM": "2016-01-06",
                                    "SZALL_MOD": "NULL",
                                    "Összmennyiség": "6716"
                                },
                                {
                                    "SZALL_DATUM": "2016-01-07",
                                    "SZALL_MOD": "NULL",
                                    "Összmennyiség": "5593"
                                },
                                {
                                    "SZALL_DATUM": "2016-01-08",
                                    "SZALL_MOD": "NULL",
                                    "Összmennyiség": "9534"
                                },
                                {
                                    "SZALL_DATUM": "2016-01-09",
                                    "SZALL_MOD": "NULL",
                                    "Összmennyiség": "7056"
                                },
                                {
                                    "SZALL_DATUM": "2016-01-10",
                                    "SZALL_MOD": "NULL",
                                    "Összmennyiség": "8057"
                                },
                                {
                                    "SZALL_DATUM": "2016-01-11",
                                    "SZALL_MOD": "NULL",
                                    "Összmennyiség": "6734"
                                },
                                {
                                    "SZALL_DATUM": "2016-01-12",
                                    "SZALL_MOD": "NULL",
                                    "Összmennyiség": "6949"
                                },
                                {
                                    "SZALL_DATUM": "2016-01-13",
                                    "SZALL_MOD": "NULL",
                                    "Összmennyiség": "7487"
                                },
                                {
                                    "SZALL_DATUM": "2016-01-14",
                                    "SZALL_MOD": "NULL",
                                    "Összmennyiség": "8998"
                                },
                                {
                                    "SZALL_DATUM": "2016-01-15",
                                    "SZALL_MOD": "NULL",
                                    "Összmennyiség": "9345"
                                },
                                {
                                    "SZALL_DATUM": "2016-01-16",
                                    "SZALL_MOD": "NULL",
                                    "Összmennyiség": "8068"
                                },
                                {
                                    "SZALL_DATUM": "2016-01-17",
                                    "SZALL_MOD": "NULL",
                                    "Összmennyiség": "6954"
                                },
                                {
                                    "SZALL_DATUM": "2016-01-18",
                                    "SZALL_MOD": "NULL",
                                    "Összmennyiség": "4416"
                                },
                                {
                                    "SZALL_DATUM": "2016-01-19",
                                    "SZALL_MOD": "NULL",
                                    "Összmennyiség": "7124"
                                },
                                {
                                    "SZALL_DATUM": "2016-01-20",
                                    "SZALL_MOD": "NULL",
                                    "Összmennyiség": "8568"
                                },
                                {
                                    "SZALL_DATUM": "2016-01-21",
                                    "SZALL_MOD": "NULL",
                                    "Összmennyiség": "10953"
                                },
                                {
                                    "SZALL_DATUM": "2016-01-22",
                                    "SZALL_MOD": "NULL",
                                    "Összmennyiség": "8588"
                                },
                                {
                                    "SZALL_DATUM": "2016-01-23",
                                    "SZALL_MOD": "NULL",
                                    "Összmennyiség": "6512"
                                },
                                {
                                    "SZALL_DATUM": "2016-01-24",
                                    "SZALL_MOD": "NULL",
                                    "Összmennyiség": "8898"
                                },
                                {
                                    "SZALL_DATUM": "2016-01-25",
                                    "SZALL_MOD": "NULL",
                                    "Összmennyiség": "5191"
                                },
                                {
                                    "SZALL_DATUM": "2016-01-26",
                                    "SZALL_MOD": "NULL",
                                    "Összmennyiség": "5293"
                                },
                                {
                                    "SZALL_DATUM": "2016-01-27",
                                    "SZALL_MOD": "NULL",
                                    "Összmennyiség": "6513"
                                },
                                {
                                    "SZALL_DATUM": "2016-01-28",
                                    "SZALL_MOD": "NULL",
                                    "Összmennyiség": "8119"
                                },
                                {
                                    "SZALL_DATUM": "2016-01-29",
                                    "SZALL_MOD": "NULL",
                                    "Összmennyiség": "6658"
                                },
                                {
                                    "SZALL_DATUM": "2016-01-30",
                                    "SZALL_MOD": "NULL",
                                    "Összmennyiség": "8727"
                                },
                                {
                                    "SZALL_DATUM": "2016-01-31",
                                    "SZALL_MOD": "NULL",
                                    "Összmennyiség": "7527"
                                },
                                {
                                    "SZALL_DATUM": "2016-02-01",
                                    "SZALL_MOD": "NULL",
                                    "Összmennyiség": "9120"
                                },
                                {
                                    "SZALL_DATUM": "2016-02-02",
                                    "SZALL_MOD": "NULL",
                                    "Összmennyiség": "8088"
                                },
                                {
                                    "SZALL_DATUM": "2016-02-03",
                                    "SZALL_MOD": "NULL",
                                    "Összmennyiség": "9306"
                                },
                                {
                                    "SZALL_DATUM": "2016-02-04",
                                    "SZALL_MOD": "NULL",
                                    "Összmennyiség": "7994"
                                },
                                {
                                    "SZALL_DATUM": "2016-02-05",
                                    "SZALL_MOD": "NULL",
                                    "Összmennyiség": "9703"
                                },
                                {
                                    "SZALL_DATUM": "2016-02-06",
                                    "SZALL_MOD": "NULL",
                                    "Összmennyiség": "9860"
                                },
                                {
                                    "SZALL_DATUM": "2016-02-07",
                                    "SZALL_MOD": "NULL",
                                    "Összmennyiség": "6630"
                                },
                                {
                                    "SZALL_DATUM": "2016-02-08",
                                    "SZALL_MOD": "NULL",
                                    "Összmennyiség": "10093"
                                },
                                {
                                    "SZALL_DATUM": "2016-02-09",
                                    "SZALL_MOD": "NULL",
                                    "Összmennyiség": "9706"
                                },
                                {
                                    "SZALL_DATUM": "2016-02-10",
                                    "SZALL_MOD": "NULL",
                                    "Összmennyiség": "8520"
                                },
                                {
                                    "SZALL_DATUM": "2016-02-11",
                                    "SZALL_MOD": "NULL",
                                    "Összmennyiség": "7094"
                                },
                                {
                                    "SZALL_DATUM": "2016-02-12",
                                    "SZALL_MOD": "NULL",
                                    "Összmennyiség": "7789"
                                },
                                {
                                    "SZALL_DATUM": "2016-02-13",
                                    "SZALL_MOD": "NULL",
                                    "Összmennyiség": "7991"
                                },
                                {
                                    "SZALL_DATUM": "2016-02-14",
                                    "SZALL_MOD": "NULL",
                                    "Összmennyiség": "8049"
                                },
                                {
                                    "SZALL_DATUM": "2016-02-15",
                                    "SZALL_MOD": "NULL",
                                    "Összmennyiség": "10033"
                                },
                                {
                                    "SZALL_DATUM": "2016-02-16",
                                    "SZALL_MOD": "NULL",
                                    "Összmennyiség": "8049"
                                },
                                {
                                    "SZALL_DATUM": "2016-02-17",
                                    "SZALL_MOD": "NULL",
                                    "Összmennyiség": "9586"
                                },
                                {
                                    "SZALL_DATUM": "2016-02-18",
                                    "SZALL_MOD": "NULL",
                                    "Összmennyiség": "5922"
                                },
                                {
                                    "SZALL_DATUM": "2016-02-19",
                                    "SZALL_MOD": "NULL",
                                    "Összmennyiség": "8898"
                                },
                                {
                                    "SZALL_DATUM": "2016-02-20",
                                    "SZALL_MOD": "NULL",
                                    "Összmennyiség": "7549"
                                },
                                {
                                    "SZALL_DATUM": "2016-02-21",
                                    "SZALL_MOD": "NULL",
                                    "Összmennyiség": "6531"
                                },
                                {
                                    "SZALL_DATUM": "2016-02-22",
                                    "SZALL_MOD": "NULL",
                                    "Összmennyiség": "8724"
                                },
                                {
                                    "SZALL_DATUM": "2016-02-23",
                                    "SZALL_MOD": "NULL",
                                    "Összmennyiség": "6959"
                                },
                                {
                                    "SZALL_DATUM": "2016-02-24",
                                    "SZALL_MOD": "NULL",
                                    "Összmennyiség": "6314"
                                },
                                {
                                    "SZALL_DATUM": "2016-02-25",
                                    "SZALL_MOD": "NULL",
                                    "Összmennyiség": "7324"
                                },
                                {
                                    "SZALL_DATUM": "2016-02-26",
                                    "SZALL_MOD": "NULL",
                                    "Összmennyiség": "8466"
                                },
                                {
                                    "SZALL_DATUM": "2016-02-27",
                                    "SZALL_MOD": "NULL",
                                    "Összmennyiség": "7122"
                                },
                                {
                                    "SZALL_DATUM": "2016-02-28",
                                    "SZALL_MOD": "NULL",
                                    "Összmennyiség": "8447"
                                },
                                {
                                    "SZALL_DATUM": "2016-02-29",
                                    "SZALL_MOD": "NULL",
                                    "Összmennyiség": "8516"
                                },
                                {
                                    "SZALL_DATUM": "2016-03-01",
                                    "SZALL_MOD": "NULL",
                                    "Összmennyiség": "9654"
                                },
                                {
                                    "SZALL_DATUM": "2016-03-02",
                                    "SZALL_MOD": "NULL",
                                    "Összmennyiség": "7282"
                                },
                                {
                                    "SZALL_DATUM": "2016-03-03",
                                    "SZALL_MOD": "NULL",
                                    "Összmennyiség": "8853"
                                },
                                {
                                    "SZALL_DATUM": "2016-03-04",
                                    "SZALL_MOD": "NULL",
                                    "Összmennyiség": "8549"
                                },
                                {
                                    "SZALL_DATUM": "2016-03-05",
                                    "SZALL_MOD": "NULL",
                                    "Összmennyiség": "9463"
                                },
                                {
                                    "SZALL_DATUM": "2016-03-06",
                                    "SZALL_MOD": "NULL",
                                    "Összmennyiség": "7740"
                                },
                                {
                                    "SZALL_DATUM": "2016-03-07",
                                    "SZALL_MOD": "NULL",
                                    "Összmennyiség": "7680"
                                },
                                {
                                    "SZALL_DATUM": "2016-03-08",
                                    "SZALL_MOD": "NULL",
                                    "Összmennyiség": "5849"
                                },
                                {
                                    "SZALL_DATUM": "2016-03-09",
                                    "SZALL_MOD": "NULL",
                                    "Összmennyiség": "9412"
                                },
                                {
                                    "SZALL_DATUM": "2016-03-10",
                                    "SZALL_MOD": "NULL",
                                    "Összmennyiség": "8848"
                                },
                                {
                                    "SZALL_DATUM": "2016-03-11",
                                    "SZALL_MOD": "NULL",
                                    "Összmennyiség": "6193"
                                },
                                {
                                    "SZALL_DATUM": "2016-03-12",
                                    "SZALL_MOD": "NULL",
                                    "Összmennyiség": "10487"
                                },
                                {
                                    "SZALL_DATUM": "2016-03-13",
                                    "SZALL_MOD": "NULL",
                                    "Összmennyiség": "5913"
                                },
                                {
                                    "SZALL_DATUM": "2016-03-14",
                                    "SZALL_MOD": "NULL",
                                    "Összmennyiség": "9336"
                                },
                                {
                                    "SZALL_DATUM": "2016-03-15",
                                    "SZALL_MOD": "NULL",
                                    "Összmennyiség": "8180"
                                },
                                {
                                    "SZALL_DATUM": "2016-03-16",
                                    "SZALL_MOD": "NULL",
                                    "Összmennyiség": "7448"
                                },
                                {
                                    "SZALL_DATUM": "2016-03-17",
                                    "SZALL_MOD": "NULL",
                                    "Összmennyiség": "7770"
                                },
                                {
                                    "SZALL_DATUM": "2016-03-18",
                                    "SZALL_MOD": "NULL",
                                    "Összmennyiség": "6927"
                                },
                                {
                                    "SZALL_DATUM": "2016-03-19",
                                    "SZALL_MOD": "NULL",
                                    "Összmennyiség": "7827"
                                },
                                {
                                    "SZALL_DATUM": "2016-03-20",
                                    "SZALL_MOD": "NULL",
                                    "Összmennyiség": "12190"
                                },
                                {
                                    "SZALL_DATUM": "2016-03-21",
                                    "SZALL_MOD": "NULL",
                                    "Összmennyiség": "11075"
                                },
                                {
                                    "SZALL_DATUM": "2016-03-22",
                                    "SZALL_MOD": "NULL",
                                    "Összmennyiség": "7770"
                                },
                                {
                                    "SZALL_DATUM": "2016-03-23",
                                    "SZALL_MOD": "NULL",
                                    "Összmennyiség": "6397"
                                },
                                {
                                    "SZALL_DATUM": "2016-03-24",
                                    "SZALL_MOD": "NULL",
                                    "Összmennyiség": "7220"
                                },
                                {
                                    "SZALL_DATUM": "2016-03-25",
                                    "SZALL_MOD": "NULL",
                                    "Összmennyiség": "8763"
                                },
                                {
                                    "SZALL_DATUM": "2016-03-26",
                                    "SZALL_MOD": "NULL",
                                    "Összmennyiség": "9893"
                                },
                                {
                                    "SZALL_DATUM": "2016-03-27",
                                    "SZALL_MOD": "NULL",
                                    "Összmennyiség": "8950"
                                },
                                {
                                    "SZALL_DATUM": "2016-03-28",
                                    "SZALL_MOD": "NULL",
                                    "Összmennyiség": "7552"
                                },
                                {
                                    "SZALL_DATUM": "2016-03-29",
                                    "SZALL_MOD": "NULL",
                                    "Összmennyiség": "7416"
                                },
                                {
                                    "SZALL_DATUM": "2016-03-30",
                                    "SZALL_MOD": "NULL",
                                    "Összmennyiség": "8631"
                                },
                                {
                                    "SZALL_DATUM": "2016-03-31",
                                    "SZALL_MOD": "NULL",
                                    "Összmennyiség": "6885"
                                },
                                {
                                    "SZALL_DATUM": "2016-04-01",
                                    "SZALL_MOD": "NULL",
                                    "Összmennyiség": "8756"
                                },
                                {
                                    "SZALL_DATUM": "2016-04-02",
                                    "SZALL_MOD": "NULL",
                                    "Összmennyiség": "8073"
                                },
                                {
                                    "SZALL_DATUM": "2016-04-03",
                                    "SZALL_MOD": "NULL",
                                    "Összmennyiség": "5897"
                                },
                                {
                                    "SZALL_DATUM": "2016-04-04",
                                    "SZALL_MOD": "NULL",
                                    "Összmennyiség": "7405"
                                },
                                {
                                    "SZALL_DATUM": "2016-04-05",
                                    "SZALL_MOD": "NULL",
                                    "Összmennyiség": "8092"
                                },
                                {
                                    "SZALL_DATUM": "2016-04-06",
                                    "SZALL_MOD": "NULL",
                                    "Összmennyiség": "7458"
                                },
                                {
                                    "SZALL_DATUM": "2016-04-07",
                                    "SZALL_MOD": "NULL",
                                    "Összmennyiség": "9216"
                                },
                                {
                                    "SZALL_DATUM": "2016-04-08",
                                    "SZALL_MOD": "NULL",
                                    "Összmennyiség": "10889"
                                },
                                {
                                    "SZALL_DATUM": "2016-04-09",
                                    "SZALL_MOD": "NULL",
                                    "Összmennyiség": "9754"
                                },
                                {
                                    "SZALL_DATUM": "2016-04-10",
                                    "SZALL_MOD": "NULL",
                                    "Összmennyiség": "9878"
                                },
                                {
                                    "SZALL_DATUM": "2016-04-11",
                                    "SZALL_MOD": "NULL",
                                    "Összmennyiség": "8948"
                                },
                                {
                                    "SZALL_DATUM": "2016-04-12",
                                    "SZALL_MOD": "NULL",
                                    "Összmennyiség": "7144"
                                },
                                {
                                    "SZALL_DATUM": "2016-04-13",
                                    "SZALL_MOD": "NULL",
                                    "Összmennyiség": "7728"
                                },
                                {
                                    "SZALL_DATUM": "2016-04-14",
                                    "SZALL_MOD": "NULL",
                                    "Összmennyiség": "8805"
                                },
                                {
                                    "SZALL_DATUM": "2016-04-15",
                                    "SZALL_MOD": "NULL",
                                    "Összmennyiség": "8331"
                                },
                                {
                                    "SZALL_DATUM": "2016-04-16",
                                    "SZALL_MOD": "NULL",
                                    "Összmennyiség": "8755"
                                },
                                {
                                    "SZALL_DATUM": "2016-04-17",
                                    "SZALL_MOD": "NULL",
                                    "Összmennyiség": "10267"
                                },
                                {
                                    "SZALL_DATUM": "2016-04-18",
                                    "SZALL_MOD": "NULL",
                                    "Összmennyiség": "7586"
                                },
                                {
                                    "SZALL_DATUM": "2016-04-19",
                                    "SZALL_MOD": "NULL",
                                    "Összmennyiség": "9190"
                                },
                                {
                                    "SZALL_DATUM": "2016-04-20",
                                    "SZALL_MOD": "NULL",
                                    "Összmennyiség": "6584"
                                },
                                {
                                    "SZALL_DATUM": "2016-04-21",
                                    "SZALL_MOD": "NULL",
                                    "Összmennyiség": "6628"
                                },
                                {
                                    "SZALL_DATUM": "2016-04-22",
                                    "SZALL_MOD": "NULL",
                                    "Összmennyiség": "6502"
                                },
                                {
                                    "SZALL_DATUM": "2016-04-23",
                                    "SZALL_MOD": "NULL",
                                    "Összmennyiség": "6588"
                                },
                                {
                                    "SZALL_DATUM": "2016-04-24",
                                    "SZALL_MOD": "NULL",
                                    "Összmennyiség": "9512"
                                },
                                {
                                    "SZALL_DATUM": "2016-04-25",
                                    "SZALL_MOD": "NULL",
                                    "Összmennyiség": "10177"
                                },
                                {
                                    "SZALL_DATUM": "2016-04-26",
                                    "SZALL_MOD": "NULL",
                                    "Összmennyiség": "7946"
                                },
                                {
                                    "SZALL_DATUM": "2016-04-27",
                                    "SZALL_MOD": "NULL",
                                    "Összmennyiség": "8344"
                                },
                                {
                                    "SZALL_DATUM": "2016-04-28",
                                    "SZALL_MOD": "NULL",
                                    "Összmennyiség": "7732"
                                },
                                {
                                    "SZALL_DATUM": "2016-04-29",
                                    "SZALL_MOD": "NULL",
                                    "Összmennyiség": "7870"
                                },
                                {
                                    "SZALL_DATUM": "2016-04-30",
                                    "SZALL_MOD": "NULL",
                                    "Összmennyiség": "7898"
                                },
                                {
                                    "SZALL_DATUM": "2016-05-01",
                                    "SZALL_MOD": "NULL",
                                    "Összmennyiség": "6600"
                                },
                                {
                                    "SZALL_DATUM": "2016-05-02",
                                    "SZALL_MOD": "NULL",
                                    "Összmennyiség": "8142"
                                },
                                {
                                    "SZALL_DATUM": "2016-05-03",
                                    "SZALL_MOD": "NULL",
                                    "Összmennyiség": "5084"
                                },
                                {
                                    "SZALL_DATUM": "2016-05-04",
                                    "SZALL_MOD": "NULL",
                                    "Összmennyiség": "9125"
                                },
                                {
                                    "SZALL_DATUM": "2016-05-05",
                                    "SZALL_MOD": "NULL",
                                    "Összmennyiség": "7845"
                                },
                                {
                                    "SZALL_DATUM": "2016-05-06",
                                    "SZALL_MOD": "NULL",
                                    "Összmennyiség": "7969"
                                },
                                {
                                    "SZALL_DATUM": "2016-05-07",
                                    "SZALL_MOD": "NULL",
                                    "Összmennyiség": "8896"
                                },
                                {
                                    "SZALL_DATUM": "2016-05-08",
                                    "SZALL_MOD": "NULL",
                                    "Összmennyiség": "7858"
                                },
                                {
                                    "SZALL_DATUM": "2016-05-09",
                                    "SZALL_MOD": "NULL",
                                    "Összmennyiség": "11178"
                                },
                                {
                                    "SZALL_DATUM": "2016-05-10",
                                    "SZALL_MOD": "NULL",
                                    "Összmennyiség": "8968"
                                },
                                {
                                    "SZALL_DATUM": "2016-05-11",
                                    "SZALL_MOD": "NULL",
                                    "Összmennyiség": "8132"
                                },
                                {
                                    "SZALL_DATUM": "2016-05-12",
                                    "SZALL_MOD": "NULL",
                                    "Összmennyiség": "8095"
                                },
                                {
                                    "SZALL_DATUM": "2016-05-13",
                                    "SZALL_MOD": "NULL",
                                    "Összmennyiség": "8089"
                                },
                                {
                                    "SZALL_DATUM": "2016-05-14",
                                    "SZALL_MOD": "NULL",
                                    "Összmennyiség": "7722"
                                },
                                {
                                    "SZALL_DATUM": "2016-05-15",
                                    "SZALL_MOD": "NULL",
                                    "Összmennyiség": "5490"
                                },
                                {
                                    "SZALL_DATUM": "2016-05-16",
                                    "SZALL_MOD": "NULL",
                                    "Összmennyiség": "7944"
                                },
                                {
                                    "SZALL_DATUM": "2016-05-17",
                                    "SZALL_MOD": "NULL",
                                    "Összmennyiség": "8888"
                                },
                                {
                                    "SZALL_DATUM": "2016-05-18",
                                    "SZALL_MOD": "NULL",
                                    "Összmennyiség": "5720"
                                },
                                {
                                    "SZALL_DATUM": "2016-05-19",
                                    "SZALL_MOD": "NULL",
                                    "Összmennyiség": "7578"
                                },
                                {
                                    "SZALL_DATUM": "2016-05-20",
                                    "SZALL_MOD": "NULL",
                                    "Összmennyiség": "8879"
                                },
                                {
                                    "SZALL_DATUM": "2016-05-21",
                                    "SZALL_MOD": "NULL",
                                    "Összmennyiség": "9030"
                                },
                                {
                                    "SZALL_DATUM": "2016-05-22",
                                    "SZALL_MOD": "NULL",
                                    "Összmennyiség": "4914"
                                },
                                {
                                    "SZALL_DATUM": "2016-05-23",
                                    "SZALL_MOD": "NULL",
                                    "Összmennyiség": "8577"
                                },
                                {
                                    "SZALL_DATUM": "2016-05-24",
                                    "SZALL_MOD": "NULL",
                                    "Összmennyiség": "8816"
                                },
                                {
                                    "SZALL_DATUM": "2016-05-25",
                                    "SZALL_MOD": "NULL",
                                    "Összmennyiség": "9296"
                                },
                                {
                                    "SZALL_DATUM": "2016-05-26",
                                    "SZALL_MOD": "NULL",
                                    "Összmennyiség": "5287"
                                },
                                {
                                    "SZALL_DATUM": "2016-05-27",
                                    "SZALL_MOD": "NULL",
                                    "Összmennyiség": "9701"
                                },
                                {
                                    "SZALL_DATUM": "2016-05-28",
                                    "SZALL_MOD": "NULL",
                                    "Összmennyiség": "6509"
                                },
                                {
                                    "SZALL_DATUM": "2016-05-29",
                                    "SZALL_MOD": "NULL",
                                    "Összmennyiség": "9450"
                                },
                                {
                                    "SZALL_DATUM": "2016-05-30",
                                    "SZALL_MOD": "NULL",
                                    "Összmennyiség": "6884"
                                },
                                {
                                    "SZALL_DATUM": "2016-05-31",
                                    "SZALL_MOD": "NULL",
                                    "Összmennyiség": "10007"
                                },
                                {
                                    "SZALL_DATUM": "2016-06-01",
                                    "SZALL_MOD": "NULL",
                                    "Összmennyiség": "8484"
                                },
                                {
                                    "SZALL_DATUM": "2016-06-02",
                                    "SZALL_MOD": "NULL",
                                    "Összmennyiség": "6928"
                                },
                                {
                                    "SZALL_DATUM": "2016-06-03",
                                    "SZALL_MOD": "NULL",
                                    "Összmennyiség": "6567"
                                },
                                {
                                    "SZALL_DATUM": "2016-06-04",
                                    "SZALL_MOD": "NULL",
                                    "Összmennyiség": "7904"
                                },
                                {
                                    "SZALL_DATUM": "2016-06-05",
                                    "SZALL_MOD": "NULL",
                                    "Összmennyiség": "5802"
                                },
                                {
                                    "SZALL_DATUM": "2016-06-06",
                                    "SZALL_MOD": "NULL",
                                    "Összmennyiség": "9474"
                                },
                                {
                                    "SZALL_DATUM": "2016-06-07",
                                    "SZALL_MOD": "NULL",
                                    "Összmennyiség": "8722"
                                },
                                {
                                    "SZALL_DATUM": "2016-06-08",
                                    "SZALL_MOD": "NULL",
                                    "Összmennyiség": "7019"
                                },
                                {
                                    "SZALL_DATUM": "2016-06-09",
                                    "SZALL_MOD": "NULL",
                                    "Összmennyiség": "7354"
                                },
                                {
                                    "SZALL_DATUM": "2016-06-10",
                                    "SZALL_MOD": "NULL",
                                    "Összmennyiség": "8873"
                                },
                                {
                                    "SZALL_DATUM": "2016-06-11",
                                    "SZALL_MOD": "NULL",
                                    "Összmennyiség": "9217"
                                },
                                {
                                    "SZALL_DATUM": "2016-06-12",
                                    "SZALL_MOD": "NULL",
                                    "Összmennyiség": "9418"
                                },
                                {
                                    "SZALL_DATUM": "2016-06-13",
                                    "SZALL_MOD": "NULL",
                                    "Összmennyiség": "6407"
                                },
                                {
                                    "SZALL_DATUM": "2016-06-14",
                                    "SZALL_MOD": "NULL",
                                    "Összmennyiség": "7968"
                                },
                                {
                                    "SZALL_DATUM": "2016-06-15",
                                    "SZALL_MOD": "NULL",
                                    "Összmennyiség": "8830"
                                },
                                {
                                    "SZALL_DATUM": "2016-06-16",
                                    "SZALL_MOD": "NULL",
                                    "Összmennyiség": "6462"
                                },
                                {
                                    "SZALL_DATUM": "2016-06-17",
                                    "SZALL_MOD": "NULL",
                                    "Összmennyiség": "9189"
                                },
                                {
                                    "SZALL_DATUM": "2016-06-18",
                                    "SZALL_MOD": "NULL",
                                    "Összmennyiség": "6311"
                                },
                                {
                                    "SZALL_DATUM": "2016-06-19",
                                    "SZALL_MOD": "NULL",
                                    "Összmennyiség": "8834"
                                },
                                {
                                    "SZALL_DATUM": "2016-06-20",
                                    "SZALL_MOD": "NULL",
                                    "Összmennyiség": "8005"
                                },
                                {
                                    "SZALL_DATUM": "2016-06-21",
                                    "SZALL_MOD": "NULL",
                                    "Összmennyiség": "6482"
                                },
                                {
                                    "SZALL_DATUM": "2016-06-22",
                                    "SZALL_MOD": "NULL",
                                    "Összmennyiség": "6541"
                                },
                                {
                                    "SZALL_DATUM": "2016-06-23",
                                    "SZALL_MOD": "NULL",
                                    "Összmennyiség": "6662"
                                },
                                {
                                    "SZALL_DATUM": "2016-06-24",
                                    "SZALL_MOD": "NULL",
                                    "Összmennyiség": "8530"
                                },
                                {
                                    "SZALL_DATUM": "2016-06-25",
                                    "SZALL_MOD": "NULL",
                                    "Összmennyiség": "8262"
                                },
                                {
                                    "SZALL_DATUM": "2016-06-26",
                                    "SZALL_MOD": "NULL",
                                    "Összmennyiség": "10488"
                                },
                                {
                                    "SZALL_DATUM": "2016-06-27",
                                    "SZALL_MOD": "NULL",
                                    "Összmennyiség": "5541"
                                },
                                {
                                    "SZALL_DATUM": "2016-06-28",
                                    "SZALL_MOD": "NULL",
                                    "Összmennyiség": "10267"
                                },
                                {
                                    "SZALL_DATUM": "2016-06-29",
                                    "SZALL_MOD": "NULL",
                                    "Összmennyiség": "9869"
                                },
                                {
                                    "SZALL_DATUM": "2016-06-30",
                                    "SZALL_MOD": "NULL",
                                    "Összmennyiség": "9437"
                                },
                                {
                                    "SZALL_DATUM": "2016-07-01",
                                    "SZALL_MOD": "NULL",
                                    "Összmennyiség": "5916"
                                },
                                {
                                    "SZALL_DATUM": "2016-07-02",
                                    "SZALL_MOD": "NULL",
                                    "Összmennyiség": "6710"
                                },
                                {
                                    "SZALL_DATUM": "2016-07-03",
                                    "SZALL_MOD": "NULL",
                                    "Összmennyiség": "9081"
                                },
                                {
                                    "SZALL_DATUM": "2016-07-04",
                                    "SZALL_MOD": "NULL",
                                    "Összmennyiség": "10816"
                                },
                                {
                                    "SZALL_DATUM": "2016-07-05",
                                    "SZALL_MOD": "NULL",
                                    "Összmennyiség": "8863"
                                },
                                {
                                    "SZALL_DATUM": "2016-07-06",
                                    "SZALL_MOD": "NULL",
                                    "Összmennyiség": "7283"
                                },
                                {
                                    "SZALL_DATUM": "2016-07-07",
                                    "SZALL_MOD": "NULL",
                                    "Összmennyiség": "5922"
                                },
                                {
                                    "SZALL_DATUM": "2016-07-08",
                                    "SZALL_MOD": "NULL",
                                    "Összmennyiség": "7968"
                                },
                                {
                                    "SZALL_DATUM": "2016-07-09",
                                    "SZALL_MOD": "NULL",
                                    "Összmennyiség": "9112"
                                },
                                {
                                    "SZALL_DATUM": "2016-07-10",
                                    "SZALL_MOD": "NULL",
                                    "Összmennyiség": "7494"
                                },
                                {
                                    "SZALL_DATUM": "2016-07-11",
                                    "SZALL_MOD": "NULL",
                                    "Összmennyiség": "10358"
                                },
                                {
                                    "SZALL_DATUM": "2016-07-12",
                                    "SZALL_MOD": "NULL",
                                    "Összmennyiség": "8519"
                                },
                                {
                                    "SZALL_DATUM": "2016-07-13",
                                    "SZALL_MOD": "NULL",
                                    "Összmennyiség": "8721"
                                },
                                {
                                    "SZALL_DATUM": "2016-07-14",
                                    "SZALL_MOD": "NULL",
                                    "Összmennyiség": "7363"
                                },
                                {
                                    "SZALL_DATUM": "2016-07-15",
                                    "SZALL_MOD": "NULL",
                                    "Összmennyiség": "7066"
                                },
                                {
                                    "SZALL_DATUM": "2016-07-16",
                                    "SZALL_MOD": "NULL",
                                    "Összmennyiség": "8298"
                                },
                                {
                                    "SZALL_DATUM": "2016-07-17",
                                    "SZALL_MOD": "NULL",
                                    "Összmennyiség": "6320"
                                },
                                {
                                    "SZALL_DATUM": "2016-07-18",
                                    "SZALL_MOD": "NULL",
                                    "Összmennyiség": "8573"
                                },
                                {
                                    "SZALL_DATUM": "2016-07-19",
                                    "SZALL_MOD": "NULL",
                                    "Összmennyiség": "9023"
                                },
                                {
                                    "SZALL_DATUM": "2016-07-20",
                                    "SZALL_MOD": "NULL",
                                    "Összmennyiség": "7415"
                                },
                                {
                                    "SZALL_DATUM": "2016-07-21",
                                    "SZALL_MOD": "NULL",
                                    "Összmennyiség": "7484"
                                },
                                {
                                    "SZALL_DATUM": "2016-07-22",
                                    "SZALL_MOD": "NULL",
                                    "Összmennyiség": "7412"
                                },
                                {
                                    "SZALL_DATUM": "2016-07-23",
                                    "SZALL_MOD": "NULL",
                                    "Összmennyiség": "6895"
                                },
                                {
                                    "SZALL_DATUM": "2016-07-24",
                                    "SZALL_MOD": "NULL",
                                    "Összmennyiség": "6958"
                                },
                                {
                                    "SZALL_DATUM": "2016-07-25",
                                    "SZALL_MOD": "NULL",
                                    "Összmennyiség": "7559"
                                },
                                {
                                    "SZALL_DATUM": "2016-07-26",
                                    "SZALL_MOD": "NULL",
                                    "Összmennyiség": "7020"
                                },
                                {
                                    "SZALL_DATUM": "2016-07-27",
                                    "SZALL_MOD": "NULL",
                                    "Összmennyiség": "9352"
                                },
                                {
                                    "SZALL_DATUM": "2016-07-28",
                                    "SZALL_MOD": "NULL",
                                    "Összmennyiség": "7155"
                                },
                                {
                                    "SZALL_DATUM": "2016-07-29",
                                    "SZALL_MOD": "NULL",
                                    "Összmennyiség": "9038"
                                },
                                {
                                    "SZALL_DATUM": "2016-07-30",
                                    "SZALL_MOD": "NULL",
                                    "Összmennyiség": "6288"
                                },
                                {
                                    "SZALL_DATUM": "2016-07-31",
                                    "SZALL_MOD": "NULL",
                                    "Összmennyiség": "9007"
                                },
                                {
                                    "SZALL_DATUM": "2016-08-01",
                                    "SZALL_MOD": "NULL",
                                    "Összmennyiség": "7588"
                                },
                                {
                                    "SZALL_DATUM": "2016-08-02",
                                    "SZALL_MOD": "NULL",
                                    "Összmennyiség": "6686"
                                },
                                {
                                    "SZALL_DATUM": "2016-08-03",
                                    "SZALL_MOD": "NULL",
                                    "Összmennyiség": "7884"
                                },
                                {
                                    "SZALL_DATUM": "2016-08-04",
                                    "SZALL_MOD": "NULL",
                                    "Összmennyiség": "6900"
                                },
                                {
                                    "SZALL_DATUM": "2016-08-05",
                                    "SZALL_MOD": "NULL",
                                    "Összmennyiség": "7610"
                                },
                                {
                                    "SZALL_DATUM": "2016-08-06",
                                    "SZALL_MOD": "NULL",
                                    "Összmennyiség": "8498"
                                },
                                {
                                    "SZALL_DATUM": "2016-08-07",
                                    "SZALL_MOD": "NULL",
                                    "Összmennyiség": "5511"
                                },
                                {
                                    "SZALL_DATUM": "2016-08-08",
                                    "SZALL_MOD": "NULL",
                                    "Összmennyiség": "5829"
                                },
                                {
                                    "SZALL_DATUM": "2016-08-09",
                                    "SZALL_MOD": "NULL",
                                    "Összmennyiség": "10307"
                                },
                                {
                                    "SZALL_DATUM": "2016-08-10",
                                    "SZALL_MOD": "NULL",
                                    "Összmennyiség": "8311"
                                },
                                {
                                    "SZALL_DATUM": "2016-08-11",
                                    "SZALL_MOD": "NULL",
                                    "Összmennyiség": "8232"
                                },
                                {
                                    "SZALL_DATUM": "2016-08-12",
                                    "SZALL_MOD": "NULL",
                                    "Összmennyiség": "8761"
                                },
                                {
                                    "SZALL_DATUM": "2016-08-13",
                                    "SZALL_MOD": "NULL",
                                    "Összmennyiség": "9571"
                                },
                                {
                                    "SZALL_DATUM": "2016-08-14",
                                    "SZALL_MOD": "NULL",
                                    "Összmennyiség": "8263"
                                },
                                {
                                    "SZALL_DATUM": "2016-08-15",
                                    "SZALL_MOD": "NULL",
                                    "Összmennyiség": "10966"
                                },
                                {
                                    "SZALL_DATUM": "2016-08-16",
                                    "SZALL_MOD": "NULL",
                                    "Összmennyiség": "7435"
                                },
                                {
                                    "SZALL_DATUM": "2016-08-17",
                                    "SZALL_MOD": "NULL",
                                    "Összmennyiség": "7576"
                                },
                                {
                                    "SZALL_DATUM": "2016-08-18",
                                    "SZALL_MOD": "NULL",
                                    "Összmennyiség": "7689"
                                },
                                {
                                    "SZALL_DATUM": "2016-08-19",
                                    "SZALL_MOD": "NULL",
                                    "Összmennyiség": "6974"
                                },
                                {
                                    "SZALL_DATUM": "2016-08-20",
                                    "SZALL_MOD": "NULL",
                                    "Összmennyiség": "9117"
                                },
                                {
                                    "SZALL_DATUM": "2016-08-21",
                                    "SZALL_MOD": "NULL",
                                    "Összmennyiség": "5864"
                                },
                                {
                                    "SZALL_DATUM": "2016-08-22",
                                    "SZALL_MOD": "NULL",
                                    "Összmennyiség": "7082"
                                },
                                {
                                    "SZALL_DATUM": "2016-08-23",
                                    "SZALL_MOD": "NULL",
                                    "Összmennyiség": "6153"
                                },
                                {
                                    "SZALL_DATUM": "2016-08-24",
                                    "SZALL_MOD": "NULL",
                                    "Összmennyiség": "8822"
                                },
                                {
                                    "SZALL_DATUM": "2016-08-25",
                                    "SZALL_MOD": "NULL",
                                    "Összmennyiség": "9398"
                                },
                                {
                                    "SZALL_DATUM": "2016-08-26",
                                    "SZALL_MOD": "NULL",
                                    "Összmennyiség": "8695"
                                },
                                {
                                    "SZALL_DATUM": "2016-08-27",
                                    "SZALL_MOD": "NULL",
                                    "Összmennyiség": "8120"
                                },
                                {
                                    "SZALL_DATUM": "2016-08-28",
                                    "SZALL_MOD": "NULL",
                                    "Összmennyiség": "8937"
                                },
                                {
                                    "SZALL_DATUM": "2016-08-29",
                                    "SZALL_MOD": "NULL",
                                    "Összmennyiség": "7542"
                                },
                                {
                                    "SZALL_DATUM": "2016-08-30",
                                    "SZALL_MOD": "NULL",
                                    "Összmennyiség": "5527"
                                },
                                {
                                    "SZALL_DATUM": "2016-08-31",
                                    "SZALL_MOD": "NULL",
                                    "Összmennyiség": "6069"
                                },
                                {
                                    "SZALL_DATUM": "2016-09-01",
                                    "SZALL_MOD": "NULL",
                                    "Összmennyiség": "6626"
                                },
                                {
                                    "SZALL_DATUM": "2016-09-02",
                                    "SZALL_MOD": "NULL",
                                    "Összmennyiség": "7775"
                                },
                                {
                                    "SZALL_DATUM": "2016-09-03",
                                    "SZALL_MOD": "NULL",
                                    "Összmennyiség": "11043"
                                },
                                {
                                    "SZALL_DATUM": "2016-09-04",
                                    "SZALL_MOD": "NULL",
                                    "Összmennyiség": "11369"
                                },
                                {
                                    "SZALL_DATUM": "2016-09-05",
                                    "SZALL_MOD": "NULL",
                                    "Összmennyiség": "6206"
                                },
                                {
                                    "SZALL_DATUM": "2016-09-06",
                                    "SZALL_MOD": "NULL",
                                    "Összmennyiség": "8736"
                                },
                                {
                                    "SZALL_DATUM": "2016-09-07",
                                    "SZALL_MOD": "NULL",
                                    "Összmennyiség": "8579"
                                },
                                {
                                    "SZALL_DATUM": "2016-09-08",
                                    "SZALL_MOD": "NULL",
                                    "Összmennyiség": "8561"
                                },
                                {
                                    "SZALL_DATUM": "2016-09-09",
                                    "SZALL_MOD": "NULL",
                                    "Összmennyiség": "8470"
                                },
                                {
                                    "SZALL_DATUM": "2016-09-10",
                                    "SZALL_MOD": "NULL",
                                    "Összmennyiség": "9203"
                                },
                                {
                                    "SZALL_DATUM": "2016-09-11",
                                    "SZALL_MOD": "NULL",
                                    "Összmennyiség": "8573"
                                },
                                {
                                    "SZALL_DATUM": "2016-09-12",
                                    "SZALL_MOD": "NULL",
                                    "Összmennyiség": "6264"
                                },
                                {
                                    "SZALL_DATUM": "2016-09-13",
                                    "SZALL_MOD": "NULL",
                                    "Összmennyiség": "8200"
                                },
                                {
                                    "SZALL_DATUM": "2016-09-14",
                                    "SZALL_MOD": "NULL",
                                    "Összmennyiség": "10576"
                                },
                                {
                                    "SZALL_DATUM": "2016-09-15",
                                    "SZALL_MOD": "NULL",
                                    "Összmennyiség": "10530"
                                },
                                {
                                    "SZALL_DATUM": "2016-09-16",
                                    "SZALL_MOD": "NULL",
                                    "Összmennyiség": "5621"
                                },
                                {
                                    "SZALL_DATUM": "2016-09-17",
                                    "SZALL_MOD": "NULL",
                                    "Összmennyiség": "7379"
                                },
                                {
                                    "SZALL_DATUM": "2016-09-18",
                                    "SZALL_MOD": "NULL",
                                    "Összmennyiség": "10790"
                                },
                                {
                                    "SZALL_DATUM": "2016-09-19",
                                    "SZALL_MOD": "NULL",
                                    "Összmennyiség": "7019"
                                },
                                {
                                    "SZALL_DATUM": "2016-09-20",
                                    "SZALL_MOD": "NULL",
                                    "Összmennyiség": "8544"
                                },
                                {
                                    "SZALL_DATUM": "2016-09-21",
                                    "SZALL_MOD": "NULL",
                                    "Összmennyiség": "5504"
                                },
                                {
                                    "SZALL_DATUM": "2016-09-22",
                                    "SZALL_MOD": "NULL",
                                    "Összmennyiség": "6691"
                                },
                                {
                                    "SZALL_DATUM": "2016-09-23",
                                    "SZALL_MOD": "NULL",
                                    "Összmennyiség": "6574"
                                },
                                {
                                    "SZALL_DATUM": "2016-09-24",
                                    "SZALL_MOD": "NULL",
                                    "Összmennyiség": "6220"
                                },
                                {
                                    "SZALL_DATUM": "2016-09-25",
                                    "SZALL_MOD": "NULL",
                                    "Összmennyiség": "6759"
                                },
                                {
                                    "SZALL_DATUM": "2016-09-26",
                                    "SZALL_MOD": "NULL",
                                    "Összmennyiség": "7073"
                                },
                                {
                                    "SZALL_DATUM": "2016-09-27",
                                    "SZALL_MOD": "NULL",
                                    "Összmennyiség": "9214"
                                },
                                {
                                    "SZALL_DATUM": "2016-09-28",
                                    "SZALL_MOD": "NULL",
                                    "Összmennyiség": "7948"
                                },
                                {
                                    "SZALL_DATUM": "2016-09-29",
                                    "SZALL_MOD": "NULL",
                                    "Összmennyiség": "5840"
                                },
                                {
                                    "SZALL_DATUM": "2016-09-30",
                                    "SZALL_MOD": "NULL",
                                    "Összmennyiség": "8410"
                                },
                                {
                                    "SZALL_DATUM": "2016-10-01",
                                    "SZALL_MOD": "NULL",
                                    "Összmennyiség": "8122"
                                },
                                {
                                    "SZALL_DATUM": "2016-10-02",
                                    "SZALL_MOD": "NULL",
                                    "Összmennyiség": "7206"
                                },
                                {
                                    "SZALL_DATUM": "2016-10-03",
                                    "SZALL_MOD": "NULL",
                                    "Összmennyiség": "6357"
                                },
                                {
                                    "SZALL_DATUM": "2016-10-04",
                                    "SZALL_MOD": "NULL",
                                    "Összmennyiség": "7203"
                                },
                                {
                                    "SZALL_DATUM": "2016-10-05",
                                    "SZALL_MOD": "NULL",
                                    "Összmennyiség": "7856"
                                },
                                {
                                    "SZALL_DATUM": "2016-10-06",
                                    "SZALL_MOD": "NULL",
                                    "Összmennyiség": "6682"
                                },
                                {
                                    "SZALL_DATUM": "2016-10-07",
                                    "SZALL_MOD": "NULL",
                                    "Összmennyiség": "6607"
                                },
                                {
                                    "SZALL_DATUM": "2016-10-08",
                                    "SZALL_MOD": "NULL",
                                    "Összmennyiség": "8515"
                                },
                                {
                                    "SZALL_DATUM": "2016-10-09",
                                    "SZALL_MOD": "NULL",
                                    "Összmennyiség": "10396"
                                },
                                {
                                    "SZALL_DATUM": "2016-10-10",
                                    "SZALL_MOD": "NULL",
                                    "Összmennyiség": "7117"
                                },
                                {
                                    "SZALL_DATUM": "2016-10-11",
                                    "SZALL_MOD": "NULL",
                                    "Összmennyiség": "9192"
                                },
                                {
                                    "SZALL_DATUM": "2016-10-12",
                                    "SZALL_MOD": "NULL",
                                    "Összmennyiség": "10889"
                                },
                                {
                                    "SZALL_DATUM": "2016-10-13",
                                    "SZALL_MOD": "NULL",
                                    "Összmennyiség": "10192"
                                },
                                {
                                    "SZALL_DATUM": "2016-10-14",
                                    "SZALL_MOD": "NULL",
                                    "Összmennyiség": "7397"
                                },
                                {
                                    "SZALL_DATUM": "2016-10-15",
                                    "SZALL_MOD": "NULL",
                                    "Összmennyiség": "7459"
                                },
                                {
                                    "SZALL_DATUM": "2016-10-16",
                                    "SZALL_MOD": "NULL",
                                    "Összmennyiség": "7198"
                                },
                                {
                                    "SZALL_DATUM": "2016-10-17",
                                    "SZALL_MOD": "NULL",
                                    "Összmennyiség": "11045"
                                },
                                {
                                    "SZALL_DATUM": "2016-10-18",
                                    "SZALL_MOD": "NULL",
                                    "Összmennyiség": "7033"
                                },
                                {
                                    "SZALL_DATUM": "2016-10-19",
                                    "SZALL_MOD": "NULL",
                                    "Összmennyiség": "9307"
                                },
                                {
                                    "SZALL_DATUM": "2016-10-20",
                                    "SZALL_MOD": "NULL",
                                    "Összmennyiség": "6856"
                                },
                                {
                                    "SZALL_DATUM": "2016-10-21",
                                    "SZALL_MOD": "NULL",
                                    "Összmennyiség": "9403"
                                },
                                {
                                    "SZALL_DATUM": "2016-10-22",
                                    "SZALL_MOD": "NULL",
                                    "Összmennyiség": "8356"
                                },
                                {
                                    "SZALL_DATUM": "2016-10-23",
                                    "SZALL_MOD": "NULL",
                                    "Összmennyiség": "9634"
                                },
                                {
                                    "SZALL_DATUM": "2016-10-24",
                                    "SZALL_MOD": "NULL",
                                    "Összmennyiség": "4888"
                                },
                                {
                                    "SZALL_DATUM": "2016-10-25",
                                    "SZALL_MOD": "NULL",
                                    "Összmennyiség": "11978"
                                },
                                {
                                    "SZALL_DATUM": "2016-10-26",
                                    "SZALL_MOD": "NULL",
                                    "Összmennyiség": "8070"
                                },
                                {
                                    "SZALL_DATUM": "2016-10-27",
                                    "SZALL_MOD": "NULL",
                                    "Összmennyiség": "7617"
                                },
                                {
                                    "SZALL_DATUM": "2016-10-28",
                                    "SZALL_MOD": "NULL",
                                    "Összmennyiség": "7766"
                                },
                                {
                                    "SZALL_DATUM": "2016-10-29",
                                    "SZALL_MOD": "NULL",
                                    "Összmennyiség": "6854"
                                },
                                {
                                    "SZALL_DATUM": "2016-10-30",
                                    "SZALL_MOD": "NULL",
                                    "Összmennyiség": "11718"
                                },
                                {
                                    "SZALL_DATUM": "2016-10-31",
                                    "SZALL_MOD": "NULL",
                                    "Összmennyiség": "8714"
                                },
                                {
                                    "SZALL_DATUM": "2016-11-01",
                                    "SZALL_MOD": "NULL",
                                    "Összmennyiség": "7238"
                                },
                                {
                                    "SZALL_DATUM": "2016-11-02",
                                    "SZALL_MOD": "NULL",
                                    "Összmennyiség": "5472"
                                },
                                {
                                    "SZALL_DATUM": "2016-11-03",
                                    "SZALL_MOD": "NULL",
                                    "Összmennyiség": "7739"
                                },
                                {
                                    "SZALL_DATUM": "2016-11-04",
                                    "SZALL_MOD": "NULL",
                                    "Összmennyiség": "6667"
                                },
                                {
                                    "SZALL_DATUM": "2016-11-05",
                                    "SZALL_MOD": "NULL",
                                    "Összmennyiség": "9157"
                                },
                                {
                                    "SZALL_DATUM": "2016-11-06",
                                    "SZALL_MOD": "NULL",
                                    "Összmennyiség": "8517"
                                },
                                {
                                    "SZALL_DATUM": "2016-11-07",
                                    "SZALL_MOD": "NULL",
                                    "Összmennyiség": "6691"
                                },
                                {
                                    "SZALL_DATUM": "2016-11-08",
                                    "SZALL_MOD": "NULL",
                                    "Összmennyiség": "8431"
                                },
                                {
                                    "SZALL_DATUM": "2016-11-09",
                                    "SZALL_MOD": "NULL",
                                    "Összmennyiség": "5911"
                                },
                                {
                                    "SZALL_DATUM": "2016-11-10",
                                    "SZALL_MOD": "NULL",
                                    "Összmennyiség": "6795"
                                },
                                {
                                    "SZALL_DATUM": "2016-11-11",
                                    "SZALL_MOD": "NULL",
                                    "Összmennyiség": "6940"
                                },
                                {
                                    "SZALL_DATUM": "2016-11-12",
                                    "SZALL_MOD": "NULL",
                                    "Összmennyiség": "10959"
                                },
                                {
                                    "SZALL_DATUM": "2016-11-13",
                                    "SZALL_MOD": "NULL",
                                    "Összmennyiség": "10751"
                                },
                                {
                                    "SZALL_DATUM": "2016-11-14",
                                    "SZALL_MOD": "NULL",
                                    "Összmennyiség": "11881"
                                },
                                {
                                    "SZALL_DATUM": "2016-11-15",
                                    "SZALL_MOD": "NULL",
                                    "Összmennyiség": "6736"
                                },
                                {
                                    "SZALL_DATUM": "2016-11-16",
                                    "SZALL_MOD": "NULL",
                                    "Összmennyiség": "8969"
                                },
                                {
                                    "SZALL_DATUM": "2016-11-17",
                                    "SZALL_MOD": "NULL",
                                    "Összmennyiség": "6852"
                                },
                                {
                                    "SZALL_DATUM": "2016-11-18",
                                    "SZALL_MOD": "NULL",
                                    "Összmennyiség": "6770"
                                },
                                {
                                    "SZALL_DATUM": "2016-11-19",
                                    "SZALL_MOD": "NULL",
                                    "Összmennyiség": "7451"
                                },
                                {
                                    "SZALL_DATUM": "2016-11-20",
                                    "SZALL_MOD": "NULL",
                                    "Összmennyiség": "7946"
                                },
                                {
                                    "SZALL_DATUM": "2016-11-21",
                                    "SZALL_MOD": "NULL",
                                    "Összmennyiség": "6727"
                                },
                                {
                                    "SZALL_DATUM": "2016-11-22",
                                    "SZALL_MOD": "NULL",
                                    "Összmennyiség": "7801"
                                },
                                {
                                    "SZALL_DATUM": "2016-11-23",
                                    "SZALL_MOD": "NULL",
                                    "Összmennyiség": "7435"
                                },
                                {
                                    "SZALL_DATUM": "2016-11-24",
                                    "SZALL_MOD": "NULL",
                                    "Összmennyiség": "5981"
                                },
                                {
                                    "SZALL_DATUM": "2016-11-25",
                                    "SZALL_MOD": "NULL",
                                    "Összmennyiség": "6915"
                                },
                                {
                                    "SZALL_DATUM": "2016-11-26",
                                    "SZALL_MOD": "NULL",
                                    "Összmennyiség": "9216"
                                },
                                {
                                    "SZALL_DATUM": "2016-11-27",
                                    "SZALL_MOD": "NULL",
                                    "Összmennyiség": "9893"
                                },
                                {
                                    "SZALL_DATUM": "2016-11-28",
                                    "SZALL_MOD": "NULL",
                                    "Összmennyiség": "9770"
                                },
                                {
                                    "SZALL_DATUM": "2016-11-29",
                                    "SZALL_MOD": "NULL",
                                    "Összmennyiség": "8722"
                                },
                                {
                                    "SZALL_DATUM": "2016-11-30",
                                    "SZALL_MOD": "NULL",
                                    "Összmennyiség": "6419"
                                },
                                {
                                    "SZALL_DATUM": "2016-12-01",
                                    "SZALL_MOD": "NULL",
                                    "Összmennyiség": "9940"
                                },
                                {
                                    "SZALL_DATUM": "2016-12-02",
                                    "SZALL_MOD": "NULL",
                                    "Összmennyiség": "4748"
                                },
                                {
                                    "SZALL_DATUM": "2016-12-03",
                                    "SZALL_MOD": "NULL",
                                    "Összmennyiség": "6745"
                                },
                                {
                                    "SZALL_DATUM": "2016-12-04",
                                    "SZALL_MOD": "NULL",
                                    "Összmennyiség": "9959"
                                },
                                {
                                    "SZALL_DATUM": "2016-12-05",
                                    "SZALL_MOD": "NULL",
                                    "Összmennyiség": "8225"
                                },
                                {
                                    "SZALL_DATUM": "2016-12-06",
                                    "SZALL_MOD": "NULL",
                                    "Összmennyiség": "7762"
                                },
                                {
                                    "SZALL_DATUM": "2016-12-07",
                                    "SZALL_MOD": "NULL",
                                    "Összmennyiség": "7380"
                                },
                                {
                                    "SZALL_DATUM": "2016-12-08",
                                    "SZALL_MOD": "NULL",
                                    "Összmennyiség": "7200"
                                },
                                {
                                    "SZALL_DATUM": "2016-12-09",
                                    "SZALL_MOD": "NULL",
                                    "Összmennyiség": "9724"
                                },
                                {
                                    "SZALL_DATUM": "2016-12-10",
                                    "SZALL_MOD": "NULL",
                                    "Összmennyiség": "7083"
                                },
                                {
                                    "SZALL_DATUM": "2016-12-11",
                                    "SZALL_MOD": "NULL",
                                    "Összmennyiség": "7576"
                                },
                                {
                                    "SZALL_DATUM": "2016-12-12",
                                    "SZALL_MOD": "NULL",
                                    "Összmennyiség": "8580"
                                },
                                {
                                    "SZALL_DATUM": "2016-12-13",
                                    "SZALL_MOD": "NULL",
                                    "Összmennyiség": "8233"
                                },
                                {
                                    "SZALL_DATUM": "2016-12-14",
                                    "SZALL_MOD": "NULL",
                                    "Összmennyiség": "6268"
                                },
                                {
                                    "SZALL_DATUM": "2016-12-15",
                                    "SZALL_MOD": "NULL",
                                    "Összmennyiség": "7392"
                                },
                                {
                                    "SZALL_DATUM": "2016-12-16",
                                    "SZALL_MOD": "NULL",
                                    "Összmennyiség": "6407"
                                },
                                {
                                    "SZALL_DATUM": "2016-12-17",
                                    "SZALL_MOD": "NULL",
                                    "Összmennyiség": "7555"
                                },
                                {
                                    "SZALL_DATUM": "2016-12-18",
                                    "SZALL_MOD": "NULL",
                                    "Összmennyiség": "6070"
                                },
                                {
                                    "SZALL_DATUM": "2016-12-19",
                                    "SZALL_MOD": "NULL",
                                    "Összmennyiség": "5390"
                                },
                                {
                                    "SZALL_DATUM": "2016-12-20",
                                    "SZALL_MOD": "NULL",
                                    "Összmennyiség": "7735"
                                },
                                {
                                    "SZALL_DATUM": "2016-12-21",
                                    "SZALL_MOD": "NULL",
                                    "Összmennyiség": "10434"
                                },
                                {
                                    "SZALL_DATUM": "2016-12-22",
                                    "SZALL_MOD": "NULL",
                                    "Összmennyiség": "5465"
                                },
                                {
                                    "SZALL_DATUM": "2016-12-23",
                                    "SZALL_MOD": "NULL",
                                    "Összmennyiség": "8338"
                                },
                                {
                                    "SZALL_DATUM": "2016-12-24",
                                    "SZALL_MOD": "NULL",
                                    "Összmennyiség": "5916"
                                },
                                {
                                    "SZALL_DATUM": "2016-12-25",
                                    "SZALL_MOD": "NULL",
                                    "Összmennyiség": "7345"
                                },
                                {
                                    "SZALL_DATUM": "2016-12-26",
                                    "SZALL_MOD": "NULL",
                                    "Összmennyiség": "9875"
                                },
                                {
                                    "SZALL_DATUM": "2016-12-27",
                                    "SZALL_MOD": "NULL",
                                    "Összmennyiség": "10216"
                                },
                                {
                                    "SZALL_DATUM": "2016-12-28",
                                    "SZALL_MOD": "NULL",
                                    "Összmennyiség": "6222"
                                },
                                {
                                    "SZALL_DATUM": "2016-12-29",
                                    "SZALL_MOD": "NULL",
                                    "Összmennyiség": "10046"
                                },
                                {
                                    "SZALL_DATUM": "2016-12-30",
                                    "SZALL_MOD": "NULL",
                                    "Összmennyiség": "7113"
                                },
                                {
                                    "SZALL_DATUM": "2016-12-31",
                                    "SZALL_MOD": "NULL",
                                    "Összmennyiség": "7188"
                                },
                                {
                                    "SZALL_DATUM": "2017-01-01",
                                    "SZALL_MOD": "NULL",
                                    "Összmennyiség": "7200"
                                },
                                {
                                    "SZALL_DATUM": "2017-01-02",
                                    "SZALL_MOD": "NULL",
                                    "Összmennyiség": "7425"
                                },
                                {
                                    "SZALL_DATUM": "2017-01-03",
                                    "SZALL_MOD": "NULL",
                                    "Összmennyiség": "6783"
                                },
                                {
                                    "SZALL_DATUM": "2017-01-04",
                                    "SZALL_MOD": "NULL",
                                    "Összmennyiség": "7465"
                                },
                                {
                                    "SZALL_DATUM": "2017-01-05",
                                    "SZALL_MOD": "NULL",
                                    "Összmennyiség": "7591"
                                },
                                {
                                    "SZALL_DATUM": "2017-01-06",
                                    "SZALL_MOD": "NULL",
                                    "Összmennyiség": "8298"
                                },
                                {
                                    "SZALL_DATUM": "2017-01-07",
                                    "SZALL_MOD": "NULL",
                                    "Összmennyiség": "8976"
                                },
                                {
                                    "SZALL_DATUM": "2017-01-08",
                                    "SZALL_MOD": "NULL",
                                    "Összmennyiség": "7179"
                                },
                                {
                                    "SZALL_DATUM": "2017-01-09",
                                    "SZALL_MOD": "NULL",
                                    "Összmennyiség": "9465"
                                },
                                {
                                    "SZALL_DATUM": "2017-01-10",
                                    "SZALL_MOD": "NULL",
                                    "Összmennyiség": "8667"
                                },
                                {
                                    "SZALL_DATUM": "2017-01-11",
                                    "SZALL_MOD": "NULL",
                                    "Összmennyiség": "9472"
                                },
                                {
                                    "SZALL_DATUM": "2017-01-12",
                                    "SZALL_MOD": "NULL",
                                    "Összmennyiség": "7636"
                                },
                                {
                                    "SZALL_DATUM": "2017-01-13",
                                    "SZALL_MOD": "NULL",
                                    "Összmennyiség": "7538"
                                },
                                {
                                    "SZALL_DATUM": "2017-01-14",
                                    "SZALL_MOD": "NULL",
                                    "Összmennyiség": "8920"
                                },
                                {
                                    "SZALL_DATUM": "2017-01-15",
                                    "SZALL_MOD": "NULL",
                                    "Összmennyiség": "7611"
                                },
                                {
                                    "SZALL_DATUM": "2017-01-16",
                                    "SZALL_MOD": "NULL",
                                    "Összmennyiség": "7369"
                                },
                                {
                                    "SZALL_DATUM": "2017-01-17",
                                    "SZALL_MOD": "NULL",
                                    "Összmennyiség": "8658"
                                },
                                {
                                    "SZALL_DATUM": "2017-01-18",
                                    "SZALL_MOD": "NULL",
                                    "Összmennyiség": "6558"
                                },
                                {
                                    "SZALL_DATUM": "2017-01-19",
                                    "SZALL_MOD": "NULL",
                                    "Összmennyiség": "6422"
                                },
                                {
                                    "SZALL_DATUM": "2017-01-20",
                                    "SZALL_MOD": "NULL",
                                    "Összmennyiség": "6450"
                                },
                                {
                                    "SZALL_DATUM": "2017-01-21",
                                    "SZALL_MOD": "NULL",
                                    "Összmennyiség": "7150"
                                },
                                {
                                    "SZALL_DATUM": "2017-01-22",
                                    "SZALL_MOD": "NULL",
                                    "Összmennyiség": "8199"
                                },
                                {
                                    "SZALL_DATUM": "2017-01-23",
                                    "SZALL_MOD": "NULL",
                                    "Összmennyiség": "8394"
                                },
                                {
                                    "SZALL_DATUM": "2017-01-24",
                                    "SZALL_MOD": "NULL",
                                    "Összmennyiség": "8615"
                                },
                                {
                                    "SZALL_DATUM": "2017-01-25",
                                    "SZALL_MOD": "NULL",
                                    "Összmennyiség": "6484"
                                },
                                {
                                    "SZALL_DATUM": "2017-01-26",
                                    "SZALL_MOD": "NULL",
                                    "Összmennyiség": "9426"
                                },
                                {
                                    "SZALL_DATUM": "2017-01-27",
                                    "SZALL_MOD": "NULL",
                                    "Összmennyiség": "5418"
                                },
                                {
                                    "SZALL_DATUM": "2017-01-28",
                                    "SZALL_MOD": "NULL",
                                    "Összmennyiség": "8401"
                                },
                                {
                                    "SZALL_DATUM": "2017-01-29",
                                    "SZALL_MOD": "NULL",
                                    "Összmennyiség": "8997"
                                },
                                {
                                    "SZALL_DATUM": "2017-01-30",
                                    "SZALL_MOD": "NULL",
                                    "Összmennyiség": "9661"
                                },
                                {
                                    "SZALL_DATUM": "2017-01-31",
                                    "SZALL_MOD": "NULL",
                                    "Összmennyiség": "6253"
                                },
                                {
                                    "SZALL_DATUM": "2017-02-01",
                                    "SZALL_MOD": "NULL",
                                    "Összmennyiség": "5703"
                                },
                                {
                                    "SZALL_DATUM": "2017-02-02",
                                    "SZALL_MOD": "NULL",
                                    "Összmennyiség": "8746"
                                },
                                {
                                    "SZALL_DATUM": "2017-02-03",
                                    "SZALL_MOD": "NULL",
                                    "Összmennyiség": "7840"
                                },
                                {
                                    "SZALL_DATUM": "2017-02-04",
                                    "SZALL_MOD": "NULL",
                                    "Összmennyiség": "6220"
                                },
                                {
                                    "SZALL_DATUM": "2017-02-05",
                                    "SZALL_MOD": "NULL",
                                    "Összmennyiség": "5138"
                                },
                                {
                                    "SZALL_DATUM": "2017-02-06",
                                    "SZALL_MOD": "NULL",
                                    "Összmennyiség": "8206"
                                },
                                {
                                    "SZALL_DATUM": "2017-02-07",
                                    "SZALL_MOD": "NULL",
                                    "Összmennyiség": "6846"
                                },
                                {
                                    "SZALL_DATUM": "2017-02-08",
                                    "SZALL_MOD": "NULL",
                                    "Összmennyiség": "10057"
                                },
                                {
                                    "SZALL_DATUM": "2017-02-09",
                                    "SZALL_MOD": "NULL",
                                    "Összmennyiség": "8302"
                                },
                                {
                                    "SZALL_DATUM": "2017-02-10",
                                    "SZALL_MOD": "NULL",
                                    "Összmennyiség": "8964"
                                },
                                {
                                    "SZALL_DATUM": "2017-02-11",
                                    "SZALL_MOD": "NULL",
                                    "Összmennyiség": "8790"
                                },
                                {
                                    "SZALL_DATUM": "2017-02-12",
                                    "SZALL_MOD": "NULL",
                                    "Összmennyiség": "6268"
                                },
                                {
                                    "SZALL_DATUM": "2017-02-13",
                                    "SZALL_MOD": "NULL",
                                    "Összmennyiség": "8176"
                                },
                                {
                                    "SZALL_DATUM": "2017-02-14",
                                    "SZALL_MOD": "NULL",
                                    "Összmennyiség": "10029"
                                },
                                {
                                    "SZALL_DATUM": "2017-02-15",
                                    "SZALL_MOD": "NULL",
                                    "Összmennyiség": "6443"
                                },
                                {
                                    "SZALL_DATUM": "2017-02-16",
                                    "SZALL_MOD": "NULL",
                                    "Összmennyiség": "8794"
                                },
                                {
                                    "SZALL_DATUM": "2017-02-17",
                                    "SZALL_MOD": "NULL",
                                    "Összmennyiség": "9808"
                                },
                                {
                                    "SZALL_DATUM": "2017-02-18",
                                    "SZALL_MOD": "NULL",
                                    "Összmennyiség": "10757"
                                },
                                {
                                    "SZALL_DATUM": "2017-02-19",
                                    "SZALL_MOD": "NULL",
                                    "Összmennyiség": "8284"
                                },
                                {
                                    "SZALL_DATUM": "2017-02-20",
                                    "SZALL_MOD": "NULL",
                                    "Összmennyiség": "5660"
                                },
                                {
                                    "SZALL_DATUM": "2017-02-21",
                                    "SZALL_MOD": "NULL",
                                    "Összmennyiség": "8878"
                                },
                                {
                                    "SZALL_DATUM": "2017-02-22",
                                    "SZALL_MOD": "NULL",
                                    "Összmennyiség": "9034"
                                },
                                {
                                    "SZALL_DATUM": "2017-02-23",
                                    "SZALL_MOD": "NULL",
                                    "Összmennyiség": "7574"
                                },
                                {
                                    "SZALL_DATUM": "2017-02-24",
                                    "SZALL_MOD": "NULL",
                                    "Összmennyiség": "6814"
                                },
                                {
                                    "SZALL_DATUM": "2017-02-25",
                                    "SZALL_MOD": "NULL",
                                    "Összmennyiség": "6820"
                                },
                                {
                                    "SZALL_DATUM": "2017-02-26",
                                    "SZALL_MOD": "NULL",
                                    "Összmennyiség": "8578"
                                },
                                {
                                    "SZALL_DATUM": "2017-02-27",
                                    "SZALL_MOD": "NULL",
                                    "Összmennyiség": "9185"
                                },
                                {
                                    "SZALL_DATUM": "2017-02-28",
                                    "SZALL_MOD": "NULL",
                                    "Összmennyiség": "11649"
                                },
                                {
                                    "SZALL_DATUM": "2017-03-01",
                                    "SZALL_MOD": "NULL",
                                    "Összmennyiség": "5037"
                                },
                                {
                                    "SZALL_DATUM": "2017-03-02",
                                    "SZALL_MOD": "NULL",
                                    "Összmennyiség": "4861"
                                },
                                {
                                    "SZALL_DATUM": "2017-03-03",
                                    "SZALL_MOD": "NULL",
                                    "Összmennyiség": "7585"
                                },
                                {
                                    "SZALL_DATUM": "2017-03-04",
                                    "SZALL_MOD": "NULL",
                                    "Összmennyiség": "5977"
                                },
                                {
                                    "SZALL_DATUM": "2017-03-05",
                                    "SZALL_MOD": "NULL",
                                    "Összmennyiség": "10338"
                                },
                                {
                                    "SZALL_DATUM": "2017-03-06",
                                    "SZALL_MOD": "NULL",
                                    "Összmennyiség": "10916"
                                },
                                {
                                    "SZALL_DATUM": "2017-03-07",
                                    "SZALL_MOD": "NULL",
                                    "Összmennyiség": "8747"
                                },
                                {
                                    "SZALL_DATUM": "2017-03-08",
                                    "SZALL_MOD": "NULL",
                                    "Összmennyiség": "6837"
                                },
                                {
                                    "SZALL_DATUM": "2017-03-09",
                                    "SZALL_MOD": "NULL",
                                    "Összmennyiség": "6964"
                                },
                                {
                                    "SZALL_DATUM": "2017-03-10",
                                    "SZALL_MOD": "NULL",
                                    "Összmennyiség": "6846"
                                },
                                {
                                    "SZALL_DATUM": "2017-03-11",
                                    "SZALL_MOD": "NULL",
                                    "Összmennyiség": "6885"
                                },
                                {
                                    "SZALL_DATUM": "2017-03-12",
                                    "SZALL_MOD": "NULL",
                                    "Összmennyiség": "5941"
                                },
                                {
                                    "SZALL_DATUM": "2017-03-13",
                                    "SZALL_MOD": "NULL",
                                    "Összmennyiség": "6950"
                                },
                                {
                                    "SZALL_DATUM": "2017-03-14",
                                    "SZALL_MOD": "NULL",
                                    "Összmennyiség": "7224"
                                },
                                {
                                    "SZALL_DATUM": "2017-03-15",
                                    "SZALL_MOD": "NULL",
                                    "Összmennyiség": "9718"
                                },
                                {
                                    "SZALL_DATUM": "2017-03-16",
                                    "SZALL_MOD": "NULL",
                                    "Összmennyiség": "9763"
                                },
                                {
                                    "SZALL_DATUM": "2017-03-17",
                                    "SZALL_MOD": "NULL",
                                    "Összmennyiség": "8908"
                                },
                                {
                                    "SZALL_DATUM": "2017-03-18",
                                    "SZALL_MOD": "NULL",
                                    "Összmennyiség": "9344"
                                },
                                {
                                    "SZALL_DATUM": "2017-03-19",
                                    "SZALL_MOD": "NULL",
                                    "Összmennyiség": "9937"
                                },
                                {
                                    "SZALL_DATUM": "2017-03-20",
                                    "SZALL_MOD": "NULL",
                                    "Összmennyiség": "7683"
                                },
                                {
                                    "SZALL_DATUM": "2017-03-21",
                                    "SZALL_MOD": "NULL",
                                    "Összmennyiség": "8639"
                                },
                                {
                                    "SZALL_DATUM": "2017-03-22",
                                    "SZALL_MOD": "NULL",
                                    "Összmennyiség": "6526"
                                },
                                {
                                    "SZALL_DATUM": "2017-03-23",
                                    "SZALL_MOD": "NULL",
                                    "Összmennyiség": "8799"
                                },
                                {
                                    "SZALL_DATUM": "2017-03-24",
                                    "SZALL_MOD": "NULL",
                                    "Összmennyiség": "7416"
                                },
                                {
                                    "SZALL_DATUM": "2017-03-25",
                                    "SZALL_MOD": "NULL",
                                    "Összmennyiség": "6272"
                                },
                                {
                                    "SZALL_DATUM": "2017-03-26",
                                    "SZALL_MOD": "NULL",
                                    "Összmennyiség": "7786"
                                },
                                {
                                    "SZALL_DATUM": "2017-03-27",
                                    "SZALL_MOD": "NULL",
                                    "Összmennyiség": "7715"
                                },
                                {
                                    "SZALL_DATUM": "2017-03-28",
                                    "SZALL_MOD": "NULL",
                                    "Összmennyiség": "8568"
                                },
                                {
                                    "SZALL_DATUM": "2017-03-29",
                                    "SZALL_MOD": "NULL",
                                    "Összmennyiség": "8346"
                                },
                                {
                                    "SZALL_DATUM": "2017-03-30",
                                    "SZALL_MOD": "NULL",
                                    "Összmennyiség": "8513"
                                },
                                {
                                    "SZALL_DATUM": "2017-03-31",
                                    "SZALL_MOD": "NULL",
                                    "Összmennyiség": "8598"
                                },
                                {
                                    "SZALL_DATUM": "2017-04-01",
                                    "SZALL_MOD": "NULL",
                                    "Összmennyiség": "7307"
                                },
                                {
                                    "SZALL_DATUM": "2017-04-02",
                                    "SZALL_MOD": "NULL",
                                    "Összmennyiség": "9477"
                                },
                                {
                                    "SZALL_DATUM": "2017-04-03",
                                    "SZALL_MOD": "NULL",
                                    "Összmennyiség": "6042"
                                },
                                {
                                    "SZALL_DATUM": "2017-04-04",
                                    "SZALL_MOD": "NULL",
                                    "Összmennyiség": "7493"
                                },
                                {
                                    "SZALL_DATUM": "2017-04-05",
                                    "SZALL_MOD": "NULL",
                                    "Összmennyiség": "7562"
                                },
                                {
                                    "SZALL_DATUM": "2017-04-06",
                                    "SZALL_MOD": "NULL",
                                    "Összmennyiség": "4646"
                                },
                                {
                                    "SZALL_DATUM": "2017-04-07",
                                    "SZALL_MOD": "NULL",
                                    "Összmennyiség": "5197"
                                },
                                {
                                    "SZALL_DATUM": "2017-04-08",
                                    "SZALL_MOD": "NULL",
                                    "Összmennyiség": "3057"
                                },
                                {
                                    "SZALL_DATUM": "2017-04-09",
                                    "SZALL_MOD": "NULL",
                                    "Összmennyiség": "3870"
                                },
                                {
                                    "SZALL_DATUM": "2017-04-10",
                                    "SZALL_MOD": "NULL",
                                    "Összmennyiség": "1640"
                                },
                                {
                                    "SZALL_DATUM": "2017-04-11",
                                    "SZALL_MOD": "NULL",
                                    "Összmennyiség": "1220"
                                },
                                {
                                    "SZALL_DATUM": "NULL",
                                    "SZALL_MOD": "NULL",
                                    "Összmennyiség": "5578316"
                                }
                            ]
                        },
                        "text/html": [
                            "<table>",
                            "<tr><th>SZALL_DATUM</th><th>SZALL_MOD</th><th>Összmennyiség</th></tr>",
                            "<tr><td>2015-05-03</td><td>NULL</td><td>100</td></tr>",
                            "<tr><td>2015-05-04</td><td>NULL</td><td>996</td></tr>",
                            "<tr><td>2015-05-05</td><td>NULL</td><td>3152</td></tr>",
                            "<tr><td>2015-05-06</td><td>NULL</td><td>5030</td></tr>",
                            "<tr><td>2015-05-07</td><td>NULL</td><td>3828</td></tr>",
                            "<tr><td>2015-05-08</td><td>NULL</td><td>3213</td></tr>",
                            "<tr><td>2015-05-09</td><td>NULL</td><td>6665</td></tr>",
                            "<tr><td>2015-05-10</td><td>NULL</td><td>6909</td></tr>",
                            "<tr><td>2015-05-11</td><td>NULL</td><td>6224</td></tr>",
                            "<tr><td>2015-05-12</td><td>NULL</td><td>7568</td></tr>",
                            "<tr><td>2015-05-13</td><td>NULL</td><td>7985</td></tr>",
                            "<tr><td>2015-05-14</td><td>NULL</td><td>9706</td></tr>",
                            "<tr><td>2015-05-15</td><td>NULL</td><td>7400</td></tr>",
                            "<tr><td>2015-05-16</td><td>NULL</td><td>7897</td></tr>",
                            "<tr><td>2015-05-17</td><td>NULL</td><td>4572</td></tr>",
                            "<tr><td>2015-05-18</td><td>NULL</td><td>8190</td></tr>",
                            "<tr><td>2015-05-19</td><td>NULL</td><td>7248</td></tr>",
                            "<tr><td>2015-05-20</td><td>NULL</td><td>9859</td></tr>",
                            "<tr><td>2015-05-21</td><td>NULL</td><td>8041</td></tr>",
                            "<tr><td>2015-05-22</td><td>NULL</td><td>8338</td></tr>",
                            "<tr><td>2015-05-23</td><td>NULL</td><td>5616</td></tr>",
                            "<tr><td>2015-05-24</td><td>NULL</td><td>5001</td></tr>",
                            "<tr><td>2015-05-25</td><td>NULL</td><td>7611</td></tr>",
                            "<tr><td>2015-05-26</td><td>NULL</td><td>7153</td></tr>",
                            "<tr><td>2015-05-27</td><td>NULL</td><td>8300</td></tr>",
                            "<tr><td>2015-05-28</td><td>NULL</td><td>9340</td></tr>",
                            "<tr><td>2015-05-29</td><td>NULL</td><td>10784</td></tr>",
                            "<tr><td>2015-05-30</td><td>NULL</td><td>7763</td></tr>",
                            "<tr><td>2015-05-31</td><td>NULL</td><td>4364</td></tr>",
                            "<tr><td>2015-06-01</td><td>NULL</td><td>6947</td></tr>",
                            "<tr><td>2015-06-02</td><td>NULL</td><td>6241</td></tr>",
                            "<tr><td>2015-06-03</td><td>NULL</td><td>9359</td></tr>",
                            "<tr><td>2015-06-04</td><td>NULL</td><td>8474</td></tr>",
                            "<tr><td>2015-06-05</td><td>NULL</td><td>8961</td></tr>",
                            "<tr><td>2015-06-06</td><td>NULL</td><td>9510</td></tr>",
                            "<tr><td>2015-06-07</td><td>NULL</td><td>7956</td></tr>",
                            "<tr><td>2015-06-08</td><td>NULL</td><td>4277</td></tr>",
                            "<tr><td>2015-06-09</td><td>NULL</td><td>7132</td></tr>",
                            "<tr><td>2015-06-10</td><td>NULL</td><td>9346</td></tr>",
                            "<tr><td>2015-06-11</td><td>NULL</td><td>5191</td></tr>",
                            "<tr><td>2015-06-12</td><td>NULL</td><td>7336</td></tr>",
                            "<tr><td>2015-06-13</td><td>NULL</td><td>7818</td></tr>",
                            "<tr><td>2015-06-14</td><td>NULL</td><td>6484</td></tr>",
                            "<tr><td>2015-06-15</td><td>NULL</td><td>7796</td></tr>",
                            "<tr><td>2015-06-16</td><td>NULL</td><td>4307</td></tr>",
                            "<tr><td>2015-06-17</td><td>NULL</td><td>8645</td></tr>",
                            "<tr><td>2015-06-18</td><td>NULL</td><td>10077</td></tr>",
                            "<tr><td>2015-06-19</td><td>NULL</td><td>5675</td></tr>",
                            "<tr><td>2015-06-20</td><td>NULL</td><td>7859</td></tr>",
                            "<tr><td>2015-06-21</td><td>NULL</td><td>6627</td></tr>",
                            "<tr><td>2015-06-22</td><td>NULL</td><td>9084</td></tr>",
                            "<tr><td>2015-06-23</td><td>NULL</td><td>8869</td></tr>",
                            "<tr><td>2015-06-24</td><td>NULL</td><td>4993</td></tr>",
                            "<tr><td>2015-06-25</td><td>NULL</td><td>8165</td></tr>",
                            "<tr><td>2015-06-26</td><td>NULL</td><td>10834</td></tr>",
                            "<tr><td>2015-06-27</td><td>NULL</td><td>6396</td></tr>",
                            "<tr><td>2015-06-28</td><td>NULL</td><td>6803</td></tr>",
                            "<tr><td>2015-06-29</td><td>NULL</td><td>7435</td></tr>",
                            "<tr><td>2015-06-30</td><td>NULL</td><td>8526</td></tr>",
                            "<tr><td>2015-07-01</td><td>NULL</td><td>6032</td></tr>",
                            "<tr><td>2015-07-02</td><td>NULL</td><td>7066</td></tr>",
                            "<tr><td>2015-07-03</td><td>NULL</td><td>6359</td></tr>",
                            "<tr><td>2015-07-04</td><td>NULL</td><td>8739</td></tr>",
                            "<tr><td>2015-07-05</td><td>NULL</td><td>8558</td></tr>",
                            "<tr><td>2015-07-06</td><td>NULL</td><td>8389</td></tr>",
                            "<tr><td>2015-07-07</td><td>NULL</td><td>9522</td></tr>",
                            "<tr><td>2015-07-08</td><td>NULL</td><td>6395</td></tr>",
                            "<tr><td>2015-07-09</td><td>NULL</td><td>7375</td></tr>",
                            "<tr><td>2015-07-10</td><td>NULL</td><td>7676</td></tr>",
                            "<tr><td>2015-07-11</td><td>NULL</td><td>7366</td></tr>",
                            "<tr><td>2015-07-12</td><td>NULL</td><td>8638</td></tr>",
                            "<tr><td>2015-07-13</td><td>NULL</td><td>8300</td></tr>",
                            "<tr><td>2015-07-14</td><td>NULL</td><td>6340</td></tr>",
                            "<tr><td>2015-07-15</td><td>NULL</td><td>8615</td></tr>",
                            "<tr><td>2015-07-16</td><td>NULL</td><td>7041</td></tr>",
                            "<tr><td>2015-07-17</td><td>NULL</td><td>7327</td></tr>",
                            "<tr><td>2015-07-18</td><td>NULL</td><td>6762</td></tr>",
                            "<tr><td>2015-07-19</td><td>NULL</td><td>6776</td></tr>",
                            "<tr><td>2015-07-20</td><td>NULL</td><td>9748</td></tr>",
                            "<tr><td>2015-07-21</td><td>NULL</td><td>9805</td></tr>",
                            "<tr><td>2015-07-22</td><td>NULL</td><td>5140</td></tr>",
                            "<tr><td>2015-07-23</td><td>NULL</td><td>7258</td></tr>",
                            "<tr><td>2015-07-24</td><td>NULL</td><td>8697</td></tr>",
                            "<tr><td>2015-07-25</td><td>NULL</td><td>8180</td></tr>",
                            "<tr><td>2015-07-26</td><td>NULL</td><td>9323</td></tr>",
                            "<tr><td>2015-07-27</td><td>NULL</td><td>5417</td></tr>",
                            "<tr><td>2015-07-28</td><td>NULL</td><td>7825</td></tr>",
                            "<tr><td>2015-07-29</td><td>NULL</td><td>6405</td></tr>",
                            "<tr><td>2015-07-30</td><td>NULL</td><td>10029</td></tr>",
                            "<tr><td>2015-07-31</td><td>NULL</td><td>8673</td></tr>",
                            "<tr><td>2015-08-01</td><td>NULL</td><td>9957</td></tr>",
                            "<tr><td>2015-08-02</td><td>NULL</td><td>7599</td></tr>",
                            "<tr><td>2015-08-03</td><td>NULL</td><td>9208</td></tr>",
                            "<tr><td>2015-08-04</td><td>NULL</td><td>9353</td></tr>",
                            "<tr><td>2015-08-05</td><td>NULL</td><td>10342</td></tr>",
                            "<tr><td>2015-08-06</td><td>NULL</td><td>5124</td></tr>",
                            "<tr><td>2015-08-07</td><td>NULL</td><td>8960</td></tr>",
                            "<tr><td>2015-08-08</td><td>NULL</td><td>10296</td></tr>",
                            "<tr><td>2015-08-09</td><td>NULL</td><td>6026</td></tr>",
                            "<tr><td>2015-08-10</td><td>NULL</td><td>7896</td></tr>",
                            "<tr><td>2015-08-11</td><td>NULL</td><td>9008</td></tr>",
                            "<tr><td>2015-08-12</td><td>NULL</td><td>7605</td></tr>",
                            "<tr><td>2015-08-13</td><td>NULL</td><td>9380</td></tr>",
                            "<tr><td>2015-08-14</td><td>NULL</td><td>9780</td></tr>",
                            "<tr><td>2015-08-15</td><td>NULL</td><td>7514</td></tr>",
                            "<tr><td>2015-08-16</td><td>NULL</td><td>5341</td></tr>",
                            "<tr><td>2015-08-17</td><td>NULL</td><td>7162</td></tr>",
                            "<tr><td>2015-08-18</td><td>NULL</td><td>6271</td></tr>",
                            "<tr><td>2015-08-19</td><td>NULL</td><td>6650</td></tr>",
                            "<tr><td>2015-08-20</td><td>NULL</td><td>9005</td></tr>",
                            "<tr><td>2015-08-21</td><td>NULL</td><td>6874</td></tr>",
                            "<tr><td>2015-08-22</td><td>NULL</td><td>10138</td></tr>",
                            "<tr><td>2015-08-23</td><td>NULL</td><td>6734</td></tr>",
                            "<tr><td>2015-08-24</td><td>NULL</td><td>7767</td></tr>",
                            "<tr><td>2015-08-25</td><td>NULL</td><td>9206</td></tr>",
                            "<tr><td>2015-08-26</td><td>NULL</td><td>11006</td></tr>",
                            "<tr><td>2015-08-27</td><td>NULL</td><td>6244</td></tr>",
                            "<tr><td>2015-08-28</td><td>NULL</td><td>8145</td></tr>",
                            "<tr><td>2015-08-29</td><td>NULL</td><td>7380</td></tr>",
                            "<tr><td>2015-08-30</td><td>NULL</td><td>9727</td></tr>",
                            "<tr><td>2015-08-31</td><td>NULL</td><td>7226</td></tr>",
                            "<tr><td>2015-09-01</td><td>NULL</td><td>9466</td></tr>",
                            "<tr><td>2015-09-02</td><td>NULL</td><td>6179</td></tr>",
                            "<tr><td>2015-09-03</td><td>NULL</td><td>9949</td></tr>",
                            "<tr><td>2015-09-04</td><td>NULL</td><td>10432</td></tr>",
                            "<tr><td>2015-09-05</td><td>NULL</td><td>7083</td></tr>",
                            "<tr><td>2015-09-06</td><td>NULL</td><td>8378</td></tr>",
                            "<tr><td>2015-09-07</td><td>NULL</td><td>8303</td></tr>",
                            "<tr><td>2015-09-08</td><td>NULL</td><td>8349</td></tr>",
                            "<tr><td>2015-09-09</td><td>NULL</td><td>7985</td></tr>",
                            "<tr><td>2015-09-10</td><td>NULL</td><td>10353</td></tr>",
                            "<tr><td>2015-09-11</td><td>NULL</td><td>9284</td></tr>",
                            "<tr><td>2015-09-12</td><td>NULL</td><td>8553</td></tr>",
                            "<tr><td>2015-09-13</td><td>NULL</td><td>7435</td></tr>",
                            "<tr><td>2015-09-14</td><td>NULL</td><td>8232</td></tr>",
                            "<tr><td>2015-09-15</td><td>NULL</td><td>4776</td></tr>",
                            "<tr><td>2015-09-16</td><td>NULL</td><td>7416</td></tr>",
                            "<tr><td>2015-09-17</td><td>NULL</td><td>8358</td></tr>",
                            "<tr><td>2015-09-18</td><td>NULL</td><td>7210</td></tr>",
                            "<tr><td>2015-09-19</td><td>NULL</td><td>8267</td></tr>",
                            "<tr><td>2015-09-20</td><td>NULL</td><td>10001</td></tr>",
                            "<tr><td>2015-09-21</td><td>NULL</td><td>7086</td></tr>",
                            "<tr><td>2015-09-22</td><td>NULL</td><td>7424</td></tr>",
                            "<tr><td>2015-09-23</td><td>NULL</td><td>8183</td></tr>",
                            "<tr><td>2015-09-24</td><td>NULL</td><td>10252</td></tr>",
                            "<tr><td>2015-09-25</td><td>NULL</td><td>8106</td></tr>",
                            "<tr><td>2015-09-26</td><td>NULL</td><td>9451</td></tr>",
                            "<tr><td>2015-09-27</td><td>NULL</td><td>8692</td></tr>",
                            "<tr><td>2015-09-28</td><td>NULL</td><td>10281</td></tr>",
                            "<tr><td>2015-09-29</td><td>NULL</td><td>9481</td></tr>",
                            "<tr><td>2015-09-30</td><td>NULL</td><td>5900</td></tr>",
                            "<tr><td>2015-10-01</td><td>NULL</td><td>9384</td></tr>",
                            "<tr><td>2015-10-02</td><td>NULL</td><td>5674</td></tr>",
                            "<tr><td>2015-10-03</td><td>NULL</td><td>8509</td></tr>",
                            "<tr><td>2015-10-04</td><td>NULL</td><td>7645</td></tr>",
                            "<tr><td>2015-10-05</td><td>NULL</td><td>8535</td></tr>",
                            "<tr><td>2015-10-06</td><td>NULL</td><td>7529</td></tr>",
                            "<tr><td>2015-10-07</td><td>NULL</td><td>9435</td></tr>",
                            "<tr><td>2015-10-08</td><td>NULL</td><td>7319</td></tr>",
                            "<tr><td>2015-10-09</td><td>NULL</td><td>8931</td></tr>",
                            "<tr><td>2015-10-10</td><td>NULL</td><td>7928</td></tr>",
                            "<tr><td>2015-10-11</td><td>NULL</td><td>7516</td></tr>",
                            "<tr><td>2015-10-12</td><td>NULL</td><td>9355</td></tr>",
                            "<tr><td>2015-10-13</td><td>NULL</td><td>6564</td></tr>",
                            "<tr><td>2015-10-14</td><td>NULL</td><td>7035</td></tr>",
                            "<tr><td>2015-10-15</td><td>NULL</td><td>9269</td></tr>",
                            "<tr><td>2015-10-16</td><td>NULL</td><td>8427</td></tr>",
                            "<tr><td>2015-10-17</td><td>NULL</td><td>6936</td></tr>",
                            "<tr><td>2015-10-18</td><td>NULL</td><td>8671</td></tr>",
                            "<tr><td>2015-10-19</td><td>NULL</td><td>7207</td></tr>",
                            "<tr><td>2015-10-20</td><td>NULL</td><td>8613</td></tr>",
                            "<tr><td>2015-10-21</td><td>NULL</td><td>7366</td></tr>",
                            "<tr><td>2015-10-22</td><td>NULL</td><td>6678</td></tr>",
                            "<tr><td>2015-10-23</td><td>NULL</td><td>8056</td></tr>",
                            "<tr><td>2015-10-24</td><td>NULL</td><td>7233</td></tr>",
                            "<tr><td>2015-10-25</td><td>NULL</td><td>9107</td></tr>",
                            "<tr><td>2015-10-26</td><td>NULL</td><td>9776</td></tr>",
                            "<tr><td>2015-10-27</td><td>NULL</td><td>7669</td></tr>",
                            "<tr><td>2015-10-28</td><td>NULL</td><td>7522</td></tr>",
                            "<tr><td>2015-10-29</td><td>NULL</td><td>6971</td></tr>",
                            "<tr><td>2015-10-30</td><td>NULL</td><td>8999</td></tr>",
                            "<tr><td>2015-10-31</td><td>NULL</td><td>7046</td></tr>",
                            "<tr><td>2015-11-01</td><td>NULL</td><td>6171</td></tr>",
                            "<tr><td>2015-11-02</td><td>NULL</td><td>7612</td></tr>",
                            "<tr><td>2015-11-03</td><td>NULL</td><td>11533</td></tr>",
                            "<tr><td>2015-11-04</td><td>NULL</td><td>5352</td></tr>",
                            "<tr><td>2015-11-05</td><td>NULL</td><td>7183</td></tr>",
                            "<tr><td>2015-11-06</td><td>NULL</td><td>8606</td></tr>",
                            "<tr><td>2015-11-07</td><td>NULL</td><td>7260</td></tr>",
                            "<tr><td>2015-11-08</td><td>NULL</td><td>8177</td></tr>",
                            "<tr><td>2015-11-09</td><td>NULL</td><td>8431</td></tr>",
                            "<tr><td>2015-11-10</td><td>NULL</td><td>8329</td></tr>",
                            "<tr><td>2015-11-11</td><td>NULL</td><td>8191</td></tr>",
                            "<tr><td>2015-11-12</td><td>NULL</td><td>5884</td></tr>",
                            "<tr><td>2015-11-13</td><td>NULL</td><td>7359</td></tr>",
                            "<tr><td>2015-11-14</td><td>NULL</td><td>7730</td></tr>",
                            "<tr><td>2015-11-15</td><td>NULL</td><td>6881</td></tr>",
                            "<tr><td>2015-11-16</td><td>NULL</td><td>7721</td></tr>",
                            "<tr><td>2015-11-17</td><td>NULL</td><td>7234</td></tr>",
                            "<tr><td>2015-11-18</td><td>NULL</td><td>8321</td></tr>",
                            "<tr><td>2015-11-19</td><td>NULL</td><td>7582</td></tr>",
                            "<tr><td>2015-11-20</td><td>NULL</td><td>6288</td></tr>",
                            "<tr><td>2015-11-21</td><td>NULL</td><td>6657</td></tr>",
                            "<tr><td>2015-11-22</td><td>NULL</td><td>8640</td></tr>",
                            "<tr><td>2015-11-23</td><td>NULL</td><td>7363</td></tr>",
                            "<tr><td>2015-11-24</td><td>NULL</td><td>7556</td></tr>",
                            "<tr><td>2015-11-25</td><td>NULL</td><td>7103</td></tr>",
                            "<tr><td>2015-11-26</td><td>NULL</td><td>8368</td></tr>",
                            "<tr><td>2015-11-27</td><td>NULL</td><td>6865</td></tr>",
                            "<tr><td>2015-11-28</td><td>NULL</td><td>10098</td></tr>",
                            "<tr><td>2015-11-29</td><td>NULL</td><td>7636</td></tr>",
                            "<tr><td>2015-11-30</td><td>NULL</td><td>7182</td></tr>",
                            "<tr><td>2015-12-01</td><td>NULL</td><td>7314</td></tr>",
                            "<tr><td>2015-12-02</td><td>NULL</td><td>9592</td></tr>",
                            "<tr><td>2015-12-03</td><td>NULL</td><td>8829</td></tr>",
                            "<tr><td>2015-12-04</td><td>NULL</td><td>8013</td></tr>",
                            "<tr><td>2015-12-05</td><td>NULL</td><td>8887</td></tr>",
                            "<tr><td>2015-12-06</td><td>NULL</td><td>5596</td></tr>",
                            "<tr><td>2015-12-07</td><td>NULL</td><td>8825</td></tr>",
                            "<tr><td>2015-12-08</td><td>NULL</td><td>7819</td></tr>",
                            "<tr><td>2015-12-09</td><td>NULL</td><td>7897</td></tr>",
                            "<tr><td>2015-12-10</td><td>NULL</td><td>9644</td></tr>",
                            "<tr><td>2015-12-11</td><td>NULL</td><td>8093</td></tr>",
                            "<tr><td>2015-12-12</td><td>NULL</td><td>8957</td></tr>",
                            "<tr><td>2015-12-13</td><td>NULL</td><td>7399</td></tr>",
                            "<tr><td>2015-12-14</td><td>NULL</td><td>7676</td></tr>",
                            "<tr><td>2015-12-15</td><td>NULL</td><td>6863</td></tr>",
                            "<tr><td>2015-12-16</td><td>NULL</td><td>7886</td></tr>",
                            "<tr><td>2015-12-17</td><td>NULL</td><td>6894</td></tr>",
                            "<tr><td>2015-12-18</td><td>NULL</td><td>12260</td></tr>",
                            "<tr><td>2015-12-19</td><td>NULL</td><td>5788</td></tr>",
                            "<tr><td>2015-12-20</td><td>NULL</td><td>8699</td></tr>",
                            "<tr><td>2015-12-21</td><td>NULL</td><td>6630</td></tr>",
                            "<tr><td>2015-12-22</td><td>NULL</td><td>9212</td></tr>",
                            "<tr><td>2015-12-23</td><td>NULL</td><td>6676</td></tr>",
                            "<tr><td>2015-12-24</td><td>NULL</td><td>8869</td></tr>",
                            "<tr><td>2015-12-25</td><td>NULL</td><td>6944</td></tr>",
                            "<tr><td>2015-12-26</td><td>NULL</td><td>8921</td></tr>",
                            "<tr><td>2015-12-27</td><td>NULL</td><td>7648</td></tr>",
                            "<tr><td>2015-12-28</td><td>NULL</td><td>8042</td></tr>",
                            "<tr><td>2015-12-29</td><td>NULL</td><td>7923</td></tr>",
                            "<tr><td>2015-12-30</td><td>NULL</td><td>6562</td></tr>",
                            "<tr><td>2015-12-31</td><td>NULL</td><td>7021</td></tr>",
                            "<tr><td>2016-01-01</td><td>NULL</td><td>8837</td></tr>",
                            "<tr><td>2016-01-02</td><td>NULL</td><td>7518</td></tr>",
                            "<tr><td>2016-01-03</td><td>NULL</td><td>8422</td></tr>",
                            "<tr><td>2016-01-04</td><td>NULL</td><td>8813</td></tr>",
                            "<tr><td>2016-01-05</td><td>NULL</td><td>6895</td></tr>",
                            "<tr><td>2016-01-06</td><td>NULL</td><td>6716</td></tr>",
                            "<tr><td>2016-01-07</td><td>NULL</td><td>5593</td></tr>",
                            "<tr><td>2016-01-08</td><td>NULL</td><td>9534</td></tr>",
                            "<tr><td>2016-01-09</td><td>NULL</td><td>7056</td></tr>",
                            "<tr><td>2016-01-10</td><td>NULL</td><td>8057</td></tr>",
                            "<tr><td>2016-01-11</td><td>NULL</td><td>6734</td></tr>",
                            "<tr><td>2016-01-12</td><td>NULL</td><td>6949</td></tr>",
                            "<tr><td>2016-01-13</td><td>NULL</td><td>7487</td></tr>",
                            "<tr><td>2016-01-14</td><td>NULL</td><td>8998</td></tr>",
                            "<tr><td>2016-01-15</td><td>NULL</td><td>9345</td></tr>",
                            "<tr><td>2016-01-16</td><td>NULL</td><td>8068</td></tr>",
                            "<tr><td>2016-01-17</td><td>NULL</td><td>6954</td></tr>",
                            "<tr><td>2016-01-18</td><td>NULL</td><td>4416</td></tr>",
                            "<tr><td>2016-01-19</td><td>NULL</td><td>7124</td></tr>",
                            "<tr><td>2016-01-20</td><td>NULL</td><td>8568</td></tr>",
                            "<tr><td>2016-01-21</td><td>NULL</td><td>10953</td></tr>",
                            "<tr><td>2016-01-22</td><td>NULL</td><td>8588</td></tr>",
                            "<tr><td>2016-01-23</td><td>NULL</td><td>6512</td></tr>",
                            "<tr><td>2016-01-24</td><td>NULL</td><td>8898</td></tr>",
                            "<tr><td>2016-01-25</td><td>NULL</td><td>5191</td></tr>",
                            "<tr><td>2016-01-26</td><td>NULL</td><td>5293</td></tr>",
                            "<tr><td>2016-01-27</td><td>NULL</td><td>6513</td></tr>",
                            "<tr><td>2016-01-28</td><td>NULL</td><td>8119</td></tr>",
                            "<tr><td>2016-01-29</td><td>NULL</td><td>6658</td></tr>",
                            "<tr><td>2016-01-30</td><td>NULL</td><td>8727</td></tr>",
                            "<tr><td>2016-01-31</td><td>NULL</td><td>7527</td></tr>",
                            "<tr><td>2016-02-01</td><td>NULL</td><td>9120</td></tr>",
                            "<tr><td>2016-02-02</td><td>NULL</td><td>8088</td></tr>",
                            "<tr><td>2016-02-03</td><td>NULL</td><td>9306</td></tr>",
                            "<tr><td>2016-02-04</td><td>NULL</td><td>7994</td></tr>",
                            "<tr><td>2016-02-05</td><td>NULL</td><td>9703</td></tr>",
                            "<tr><td>2016-02-06</td><td>NULL</td><td>9860</td></tr>",
                            "<tr><td>2016-02-07</td><td>NULL</td><td>6630</td></tr>",
                            "<tr><td>2016-02-08</td><td>NULL</td><td>10093</td></tr>",
                            "<tr><td>2016-02-09</td><td>NULL</td><td>9706</td></tr>",
                            "<tr><td>2016-02-10</td><td>NULL</td><td>8520</td></tr>",
                            "<tr><td>2016-02-11</td><td>NULL</td><td>7094</td></tr>",
                            "<tr><td>2016-02-12</td><td>NULL</td><td>7789</td></tr>",
                            "<tr><td>2016-02-13</td><td>NULL</td><td>7991</td></tr>",
                            "<tr><td>2016-02-14</td><td>NULL</td><td>8049</td></tr>",
                            "<tr><td>2016-02-15</td><td>NULL</td><td>10033</td></tr>",
                            "<tr><td>2016-02-16</td><td>NULL</td><td>8049</td></tr>",
                            "<tr><td>2016-02-17</td><td>NULL</td><td>9586</td></tr>",
                            "<tr><td>2016-02-18</td><td>NULL</td><td>5922</td></tr>",
                            "<tr><td>2016-02-19</td><td>NULL</td><td>8898</td></tr>",
                            "<tr><td>2016-02-20</td><td>NULL</td><td>7549</td></tr>",
                            "<tr><td>2016-02-21</td><td>NULL</td><td>6531</td></tr>",
                            "<tr><td>2016-02-22</td><td>NULL</td><td>8724</td></tr>",
                            "<tr><td>2016-02-23</td><td>NULL</td><td>6959</td></tr>",
                            "<tr><td>2016-02-24</td><td>NULL</td><td>6314</td></tr>",
                            "<tr><td>2016-02-25</td><td>NULL</td><td>7324</td></tr>",
                            "<tr><td>2016-02-26</td><td>NULL</td><td>8466</td></tr>",
                            "<tr><td>2016-02-27</td><td>NULL</td><td>7122</td></tr>",
                            "<tr><td>2016-02-28</td><td>NULL</td><td>8447</td></tr>",
                            "<tr><td>2016-02-29</td><td>NULL</td><td>8516</td></tr>",
                            "<tr><td>2016-03-01</td><td>NULL</td><td>9654</td></tr>",
                            "<tr><td>2016-03-02</td><td>NULL</td><td>7282</td></tr>",
                            "<tr><td>2016-03-03</td><td>NULL</td><td>8853</td></tr>",
                            "<tr><td>2016-03-04</td><td>NULL</td><td>8549</td></tr>",
                            "<tr><td>2016-03-05</td><td>NULL</td><td>9463</td></tr>",
                            "<tr><td>2016-03-06</td><td>NULL</td><td>7740</td></tr>",
                            "<tr><td>2016-03-07</td><td>NULL</td><td>7680</td></tr>",
                            "<tr><td>2016-03-08</td><td>NULL</td><td>5849</td></tr>",
                            "<tr><td>2016-03-09</td><td>NULL</td><td>9412</td></tr>",
                            "<tr><td>2016-03-10</td><td>NULL</td><td>8848</td></tr>",
                            "<tr><td>2016-03-11</td><td>NULL</td><td>6193</td></tr>",
                            "<tr><td>2016-03-12</td><td>NULL</td><td>10487</td></tr>",
                            "<tr><td>2016-03-13</td><td>NULL</td><td>5913</td></tr>",
                            "<tr><td>2016-03-14</td><td>NULL</td><td>9336</td></tr>",
                            "<tr><td>2016-03-15</td><td>NULL</td><td>8180</td></tr>",
                            "<tr><td>2016-03-16</td><td>NULL</td><td>7448</td></tr>",
                            "<tr><td>2016-03-17</td><td>NULL</td><td>7770</td></tr>",
                            "<tr><td>2016-03-18</td><td>NULL</td><td>6927</td></tr>",
                            "<tr><td>2016-03-19</td><td>NULL</td><td>7827</td></tr>",
                            "<tr><td>2016-03-20</td><td>NULL</td><td>12190</td></tr>",
                            "<tr><td>2016-03-21</td><td>NULL</td><td>11075</td></tr>",
                            "<tr><td>2016-03-22</td><td>NULL</td><td>7770</td></tr>",
                            "<tr><td>2016-03-23</td><td>NULL</td><td>6397</td></tr>",
                            "<tr><td>2016-03-24</td><td>NULL</td><td>7220</td></tr>",
                            "<tr><td>2016-03-25</td><td>NULL</td><td>8763</td></tr>",
                            "<tr><td>2016-03-26</td><td>NULL</td><td>9893</td></tr>",
                            "<tr><td>2016-03-27</td><td>NULL</td><td>8950</td></tr>",
                            "<tr><td>2016-03-28</td><td>NULL</td><td>7552</td></tr>",
                            "<tr><td>2016-03-29</td><td>NULL</td><td>7416</td></tr>",
                            "<tr><td>2016-03-30</td><td>NULL</td><td>8631</td></tr>",
                            "<tr><td>2016-03-31</td><td>NULL</td><td>6885</td></tr>",
                            "<tr><td>2016-04-01</td><td>NULL</td><td>8756</td></tr>",
                            "<tr><td>2016-04-02</td><td>NULL</td><td>8073</td></tr>",
                            "<tr><td>2016-04-03</td><td>NULL</td><td>5897</td></tr>",
                            "<tr><td>2016-04-04</td><td>NULL</td><td>7405</td></tr>",
                            "<tr><td>2016-04-05</td><td>NULL</td><td>8092</td></tr>",
                            "<tr><td>2016-04-06</td><td>NULL</td><td>7458</td></tr>",
                            "<tr><td>2016-04-07</td><td>NULL</td><td>9216</td></tr>",
                            "<tr><td>2016-04-08</td><td>NULL</td><td>10889</td></tr>",
                            "<tr><td>2016-04-09</td><td>NULL</td><td>9754</td></tr>",
                            "<tr><td>2016-04-10</td><td>NULL</td><td>9878</td></tr>",
                            "<tr><td>2016-04-11</td><td>NULL</td><td>8948</td></tr>",
                            "<tr><td>2016-04-12</td><td>NULL</td><td>7144</td></tr>",
                            "<tr><td>2016-04-13</td><td>NULL</td><td>7728</td></tr>",
                            "<tr><td>2016-04-14</td><td>NULL</td><td>8805</td></tr>",
                            "<tr><td>2016-04-15</td><td>NULL</td><td>8331</td></tr>",
                            "<tr><td>2016-04-16</td><td>NULL</td><td>8755</td></tr>",
                            "<tr><td>2016-04-17</td><td>NULL</td><td>10267</td></tr>",
                            "<tr><td>2016-04-18</td><td>NULL</td><td>7586</td></tr>",
                            "<tr><td>2016-04-19</td><td>NULL</td><td>9190</td></tr>",
                            "<tr><td>2016-04-20</td><td>NULL</td><td>6584</td></tr>",
                            "<tr><td>2016-04-21</td><td>NULL</td><td>6628</td></tr>",
                            "<tr><td>2016-04-22</td><td>NULL</td><td>6502</td></tr>",
                            "<tr><td>2016-04-23</td><td>NULL</td><td>6588</td></tr>",
                            "<tr><td>2016-04-24</td><td>NULL</td><td>9512</td></tr>",
                            "<tr><td>2016-04-25</td><td>NULL</td><td>10177</td></tr>",
                            "<tr><td>2016-04-26</td><td>NULL</td><td>7946</td></tr>",
                            "<tr><td>2016-04-27</td><td>NULL</td><td>8344</td></tr>",
                            "<tr><td>2016-04-28</td><td>NULL</td><td>7732</td></tr>",
                            "<tr><td>2016-04-29</td><td>NULL</td><td>7870</td></tr>",
                            "<tr><td>2016-04-30</td><td>NULL</td><td>7898</td></tr>",
                            "<tr><td>2016-05-01</td><td>NULL</td><td>6600</td></tr>",
                            "<tr><td>2016-05-02</td><td>NULL</td><td>8142</td></tr>",
                            "<tr><td>2016-05-03</td><td>NULL</td><td>5084</td></tr>",
                            "<tr><td>2016-05-04</td><td>NULL</td><td>9125</td></tr>",
                            "<tr><td>2016-05-05</td><td>NULL</td><td>7845</td></tr>",
                            "<tr><td>2016-05-06</td><td>NULL</td><td>7969</td></tr>",
                            "<tr><td>2016-05-07</td><td>NULL</td><td>8896</td></tr>",
                            "<tr><td>2016-05-08</td><td>NULL</td><td>7858</td></tr>",
                            "<tr><td>2016-05-09</td><td>NULL</td><td>11178</td></tr>",
                            "<tr><td>2016-05-10</td><td>NULL</td><td>8968</td></tr>",
                            "<tr><td>2016-05-11</td><td>NULL</td><td>8132</td></tr>",
                            "<tr><td>2016-05-12</td><td>NULL</td><td>8095</td></tr>",
                            "<tr><td>2016-05-13</td><td>NULL</td><td>8089</td></tr>",
                            "<tr><td>2016-05-14</td><td>NULL</td><td>7722</td></tr>",
                            "<tr><td>2016-05-15</td><td>NULL</td><td>5490</td></tr>",
                            "<tr><td>2016-05-16</td><td>NULL</td><td>7944</td></tr>",
                            "<tr><td>2016-05-17</td><td>NULL</td><td>8888</td></tr>",
                            "<tr><td>2016-05-18</td><td>NULL</td><td>5720</td></tr>",
                            "<tr><td>2016-05-19</td><td>NULL</td><td>7578</td></tr>",
                            "<tr><td>2016-05-20</td><td>NULL</td><td>8879</td></tr>",
                            "<tr><td>2016-05-21</td><td>NULL</td><td>9030</td></tr>",
                            "<tr><td>2016-05-22</td><td>NULL</td><td>4914</td></tr>",
                            "<tr><td>2016-05-23</td><td>NULL</td><td>8577</td></tr>",
                            "<tr><td>2016-05-24</td><td>NULL</td><td>8816</td></tr>",
                            "<tr><td>2016-05-25</td><td>NULL</td><td>9296</td></tr>",
                            "<tr><td>2016-05-26</td><td>NULL</td><td>5287</td></tr>",
                            "<tr><td>2016-05-27</td><td>NULL</td><td>9701</td></tr>",
                            "<tr><td>2016-05-28</td><td>NULL</td><td>6509</td></tr>",
                            "<tr><td>2016-05-29</td><td>NULL</td><td>9450</td></tr>",
                            "<tr><td>2016-05-30</td><td>NULL</td><td>6884</td></tr>",
                            "<tr><td>2016-05-31</td><td>NULL</td><td>10007</td></tr>",
                            "<tr><td>2016-06-01</td><td>NULL</td><td>8484</td></tr>",
                            "<tr><td>2016-06-02</td><td>NULL</td><td>6928</td></tr>",
                            "<tr><td>2016-06-03</td><td>NULL</td><td>6567</td></tr>",
                            "<tr><td>2016-06-04</td><td>NULL</td><td>7904</td></tr>",
                            "<tr><td>2016-06-05</td><td>NULL</td><td>5802</td></tr>",
                            "<tr><td>2016-06-06</td><td>NULL</td><td>9474</td></tr>",
                            "<tr><td>2016-06-07</td><td>NULL</td><td>8722</td></tr>",
                            "<tr><td>2016-06-08</td><td>NULL</td><td>7019</td></tr>",
                            "<tr><td>2016-06-09</td><td>NULL</td><td>7354</td></tr>",
                            "<tr><td>2016-06-10</td><td>NULL</td><td>8873</td></tr>",
                            "<tr><td>2016-06-11</td><td>NULL</td><td>9217</td></tr>",
                            "<tr><td>2016-06-12</td><td>NULL</td><td>9418</td></tr>",
                            "<tr><td>2016-06-13</td><td>NULL</td><td>6407</td></tr>",
                            "<tr><td>2016-06-14</td><td>NULL</td><td>7968</td></tr>",
                            "<tr><td>2016-06-15</td><td>NULL</td><td>8830</td></tr>",
                            "<tr><td>2016-06-16</td><td>NULL</td><td>6462</td></tr>",
                            "<tr><td>2016-06-17</td><td>NULL</td><td>9189</td></tr>",
                            "<tr><td>2016-06-18</td><td>NULL</td><td>6311</td></tr>",
                            "<tr><td>2016-06-19</td><td>NULL</td><td>8834</td></tr>",
                            "<tr><td>2016-06-20</td><td>NULL</td><td>8005</td></tr>",
                            "<tr><td>2016-06-21</td><td>NULL</td><td>6482</td></tr>",
                            "<tr><td>2016-06-22</td><td>NULL</td><td>6541</td></tr>",
                            "<tr><td>2016-06-23</td><td>NULL</td><td>6662</td></tr>",
                            "<tr><td>2016-06-24</td><td>NULL</td><td>8530</td></tr>",
                            "<tr><td>2016-06-25</td><td>NULL</td><td>8262</td></tr>",
                            "<tr><td>2016-06-26</td><td>NULL</td><td>10488</td></tr>",
                            "<tr><td>2016-06-27</td><td>NULL</td><td>5541</td></tr>",
                            "<tr><td>2016-06-28</td><td>NULL</td><td>10267</td></tr>",
                            "<tr><td>2016-06-29</td><td>NULL</td><td>9869</td></tr>",
                            "<tr><td>2016-06-30</td><td>NULL</td><td>9437</td></tr>",
                            "<tr><td>2016-07-01</td><td>NULL</td><td>5916</td></tr>",
                            "<tr><td>2016-07-02</td><td>NULL</td><td>6710</td></tr>",
                            "<tr><td>2016-07-03</td><td>NULL</td><td>9081</td></tr>",
                            "<tr><td>2016-07-04</td><td>NULL</td><td>10816</td></tr>",
                            "<tr><td>2016-07-05</td><td>NULL</td><td>8863</td></tr>",
                            "<tr><td>2016-07-06</td><td>NULL</td><td>7283</td></tr>",
                            "<tr><td>2016-07-07</td><td>NULL</td><td>5922</td></tr>",
                            "<tr><td>2016-07-08</td><td>NULL</td><td>7968</td></tr>",
                            "<tr><td>2016-07-09</td><td>NULL</td><td>9112</td></tr>",
                            "<tr><td>2016-07-10</td><td>NULL</td><td>7494</td></tr>",
                            "<tr><td>2016-07-11</td><td>NULL</td><td>10358</td></tr>",
                            "<tr><td>2016-07-12</td><td>NULL</td><td>8519</td></tr>",
                            "<tr><td>2016-07-13</td><td>NULL</td><td>8721</td></tr>",
                            "<tr><td>2016-07-14</td><td>NULL</td><td>7363</td></tr>",
                            "<tr><td>2016-07-15</td><td>NULL</td><td>7066</td></tr>",
                            "<tr><td>2016-07-16</td><td>NULL</td><td>8298</td></tr>",
                            "<tr><td>2016-07-17</td><td>NULL</td><td>6320</td></tr>",
                            "<tr><td>2016-07-18</td><td>NULL</td><td>8573</td></tr>",
                            "<tr><td>2016-07-19</td><td>NULL</td><td>9023</td></tr>",
                            "<tr><td>2016-07-20</td><td>NULL</td><td>7415</td></tr>",
                            "<tr><td>2016-07-21</td><td>NULL</td><td>7484</td></tr>",
                            "<tr><td>2016-07-22</td><td>NULL</td><td>7412</td></tr>",
                            "<tr><td>2016-07-23</td><td>NULL</td><td>6895</td></tr>",
                            "<tr><td>2016-07-24</td><td>NULL</td><td>6958</td></tr>",
                            "<tr><td>2016-07-25</td><td>NULL</td><td>7559</td></tr>",
                            "<tr><td>2016-07-26</td><td>NULL</td><td>7020</td></tr>",
                            "<tr><td>2016-07-27</td><td>NULL</td><td>9352</td></tr>",
                            "<tr><td>2016-07-28</td><td>NULL</td><td>7155</td></tr>",
                            "<tr><td>2016-07-29</td><td>NULL</td><td>9038</td></tr>",
                            "<tr><td>2016-07-30</td><td>NULL</td><td>6288</td></tr>",
                            "<tr><td>2016-07-31</td><td>NULL</td><td>9007</td></tr>",
                            "<tr><td>2016-08-01</td><td>NULL</td><td>7588</td></tr>",
                            "<tr><td>2016-08-02</td><td>NULL</td><td>6686</td></tr>",
                            "<tr><td>2016-08-03</td><td>NULL</td><td>7884</td></tr>",
                            "<tr><td>2016-08-04</td><td>NULL</td><td>6900</td></tr>",
                            "<tr><td>2016-08-05</td><td>NULL</td><td>7610</td></tr>",
                            "<tr><td>2016-08-06</td><td>NULL</td><td>8498</td></tr>",
                            "<tr><td>2016-08-07</td><td>NULL</td><td>5511</td></tr>",
                            "<tr><td>2016-08-08</td><td>NULL</td><td>5829</td></tr>",
                            "<tr><td>2016-08-09</td><td>NULL</td><td>10307</td></tr>",
                            "<tr><td>2016-08-10</td><td>NULL</td><td>8311</td></tr>",
                            "<tr><td>2016-08-11</td><td>NULL</td><td>8232</td></tr>",
                            "<tr><td>2016-08-12</td><td>NULL</td><td>8761</td></tr>",
                            "<tr><td>2016-08-13</td><td>NULL</td><td>9571</td></tr>",
                            "<tr><td>2016-08-14</td><td>NULL</td><td>8263</td></tr>",
                            "<tr><td>2016-08-15</td><td>NULL</td><td>10966</td></tr>",
                            "<tr><td>2016-08-16</td><td>NULL</td><td>7435</td></tr>",
                            "<tr><td>2016-08-17</td><td>NULL</td><td>7576</td></tr>",
                            "<tr><td>2016-08-18</td><td>NULL</td><td>7689</td></tr>",
                            "<tr><td>2016-08-19</td><td>NULL</td><td>6974</td></tr>",
                            "<tr><td>2016-08-20</td><td>NULL</td><td>9117</td></tr>",
                            "<tr><td>2016-08-21</td><td>NULL</td><td>5864</td></tr>",
                            "<tr><td>2016-08-22</td><td>NULL</td><td>7082</td></tr>",
                            "<tr><td>2016-08-23</td><td>NULL</td><td>6153</td></tr>",
                            "<tr><td>2016-08-24</td><td>NULL</td><td>8822</td></tr>",
                            "<tr><td>2016-08-25</td><td>NULL</td><td>9398</td></tr>",
                            "<tr><td>2016-08-26</td><td>NULL</td><td>8695</td></tr>",
                            "<tr><td>2016-08-27</td><td>NULL</td><td>8120</td></tr>",
                            "<tr><td>2016-08-28</td><td>NULL</td><td>8937</td></tr>",
                            "<tr><td>2016-08-29</td><td>NULL</td><td>7542</td></tr>",
                            "<tr><td>2016-08-30</td><td>NULL</td><td>5527</td></tr>",
                            "<tr><td>2016-08-31</td><td>NULL</td><td>6069</td></tr>",
                            "<tr><td>2016-09-01</td><td>NULL</td><td>6626</td></tr>",
                            "<tr><td>2016-09-02</td><td>NULL</td><td>7775</td></tr>",
                            "<tr><td>2016-09-03</td><td>NULL</td><td>11043</td></tr>",
                            "<tr><td>2016-09-04</td><td>NULL</td><td>11369</td></tr>",
                            "<tr><td>2016-09-05</td><td>NULL</td><td>6206</td></tr>",
                            "<tr><td>2016-09-06</td><td>NULL</td><td>8736</td></tr>",
                            "<tr><td>2016-09-07</td><td>NULL</td><td>8579</td></tr>",
                            "<tr><td>2016-09-08</td><td>NULL</td><td>8561</td></tr>",
                            "<tr><td>2016-09-09</td><td>NULL</td><td>8470</td></tr>",
                            "<tr><td>2016-09-10</td><td>NULL</td><td>9203</td></tr>",
                            "<tr><td>2016-09-11</td><td>NULL</td><td>8573</td></tr>",
                            "<tr><td>2016-09-12</td><td>NULL</td><td>6264</td></tr>",
                            "<tr><td>2016-09-13</td><td>NULL</td><td>8200</td></tr>",
                            "<tr><td>2016-09-14</td><td>NULL</td><td>10576</td></tr>",
                            "<tr><td>2016-09-15</td><td>NULL</td><td>10530</td></tr>",
                            "<tr><td>2016-09-16</td><td>NULL</td><td>5621</td></tr>",
                            "<tr><td>2016-09-17</td><td>NULL</td><td>7379</td></tr>",
                            "<tr><td>2016-09-18</td><td>NULL</td><td>10790</td></tr>",
                            "<tr><td>2016-09-19</td><td>NULL</td><td>7019</td></tr>",
                            "<tr><td>2016-09-20</td><td>NULL</td><td>8544</td></tr>",
                            "<tr><td>2016-09-21</td><td>NULL</td><td>5504</td></tr>",
                            "<tr><td>2016-09-22</td><td>NULL</td><td>6691</td></tr>",
                            "<tr><td>2016-09-23</td><td>NULL</td><td>6574</td></tr>",
                            "<tr><td>2016-09-24</td><td>NULL</td><td>6220</td></tr>",
                            "<tr><td>2016-09-25</td><td>NULL</td><td>6759</td></tr>",
                            "<tr><td>2016-09-26</td><td>NULL</td><td>7073</td></tr>",
                            "<tr><td>2016-09-27</td><td>NULL</td><td>9214</td></tr>",
                            "<tr><td>2016-09-28</td><td>NULL</td><td>7948</td></tr>",
                            "<tr><td>2016-09-29</td><td>NULL</td><td>5840</td></tr>",
                            "<tr><td>2016-09-30</td><td>NULL</td><td>8410</td></tr>",
                            "<tr><td>2016-10-01</td><td>NULL</td><td>8122</td></tr>",
                            "<tr><td>2016-10-02</td><td>NULL</td><td>7206</td></tr>",
                            "<tr><td>2016-10-03</td><td>NULL</td><td>6357</td></tr>",
                            "<tr><td>2016-10-04</td><td>NULL</td><td>7203</td></tr>",
                            "<tr><td>2016-10-05</td><td>NULL</td><td>7856</td></tr>",
                            "<tr><td>2016-10-06</td><td>NULL</td><td>6682</td></tr>",
                            "<tr><td>2016-10-07</td><td>NULL</td><td>6607</td></tr>",
                            "<tr><td>2016-10-08</td><td>NULL</td><td>8515</td></tr>",
                            "<tr><td>2016-10-09</td><td>NULL</td><td>10396</td></tr>",
                            "<tr><td>2016-10-10</td><td>NULL</td><td>7117</td></tr>",
                            "<tr><td>2016-10-11</td><td>NULL</td><td>9192</td></tr>",
                            "<tr><td>2016-10-12</td><td>NULL</td><td>10889</td></tr>",
                            "<tr><td>2016-10-13</td><td>NULL</td><td>10192</td></tr>",
                            "<tr><td>2016-10-14</td><td>NULL</td><td>7397</td></tr>",
                            "<tr><td>2016-10-15</td><td>NULL</td><td>7459</td></tr>",
                            "<tr><td>2016-10-16</td><td>NULL</td><td>7198</td></tr>",
                            "<tr><td>2016-10-17</td><td>NULL</td><td>11045</td></tr>",
                            "<tr><td>2016-10-18</td><td>NULL</td><td>7033</td></tr>",
                            "<tr><td>2016-10-19</td><td>NULL</td><td>9307</td></tr>",
                            "<tr><td>2016-10-20</td><td>NULL</td><td>6856</td></tr>",
                            "<tr><td>2016-10-21</td><td>NULL</td><td>9403</td></tr>",
                            "<tr><td>2016-10-22</td><td>NULL</td><td>8356</td></tr>",
                            "<tr><td>2016-10-23</td><td>NULL</td><td>9634</td></tr>",
                            "<tr><td>2016-10-24</td><td>NULL</td><td>4888</td></tr>",
                            "<tr><td>2016-10-25</td><td>NULL</td><td>11978</td></tr>",
                            "<tr><td>2016-10-26</td><td>NULL</td><td>8070</td></tr>",
                            "<tr><td>2016-10-27</td><td>NULL</td><td>7617</td></tr>",
                            "<tr><td>2016-10-28</td><td>NULL</td><td>7766</td></tr>",
                            "<tr><td>2016-10-29</td><td>NULL</td><td>6854</td></tr>",
                            "<tr><td>2016-10-30</td><td>NULL</td><td>11718</td></tr>",
                            "<tr><td>2016-10-31</td><td>NULL</td><td>8714</td></tr>",
                            "<tr><td>2016-11-01</td><td>NULL</td><td>7238</td></tr>",
                            "<tr><td>2016-11-02</td><td>NULL</td><td>5472</td></tr>",
                            "<tr><td>2016-11-03</td><td>NULL</td><td>7739</td></tr>",
                            "<tr><td>2016-11-04</td><td>NULL</td><td>6667</td></tr>",
                            "<tr><td>2016-11-05</td><td>NULL</td><td>9157</td></tr>",
                            "<tr><td>2016-11-06</td><td>NULL</td><td>8517</td></tr>",
                            "<tr><td>2016-11-07</td><td>NULL</td><td>6691</td></tr>",
                            "<tr><td>2016-11-08</td><td>NULL</td><td>8431</td></tr>",
                            "<tr><td>2016-11-09</td><td>NULL</td><td>5911</td></tr>",
                            "<tr><td>2016-11-10</td><td>NULL</td><td>6795</td></tr>",
                            "<tr><td>2016-11-11</td><td>NULL</td><td>6940</td></tr>",
                            "<tr><td>2016-11-12</td><td>NULL</td><td>10959</td></tr>",
                            "<tr><td>2016-11-13</td><td>NULL</td><td>10751</td></tr>",
                            "<tr><td>2016-11-14</td><td>NULL</td><td>11881</td></tr>",
                            "<tr><td>2016-11-15</td><td>NULL</td><td>6736</td></tr>",
                            "<tr><td>2016-11-16</td><td>NULL</td><td>8969</td></tr>",
                            "<tr><td>2016-11-17</td><td>NULL</td><td>6852</td></tr>",
                            "<tr><td>2016-11-18</td><td>NULL</td><td>6770</td></tr>",
                            "<tr><td>2016-11-19</td><td>NULL</td><td>7451</td></tr>",
                            "<tr><td>2016-11-20</td><td>NULL</td><td>7946</td></tr>",
                            "<tr><td>2016-11-21</td><td>NULL</td><td>6727</td></tr>",
                            "<tr><td>2016-11-22</td><td>NULL</td><td>7801</td></tr>",
                            "<tr><td>2016-11-23</td><td>NULL</td><td>7435</td></tr>",
                            "<tr><td>2016-11-24</td><td>NULL</td><td>5981</td></tr>",
                            "<tr><td>2016-11-25</td><td>NULL</td><td>6915</td></tr>",
                            "<tr><td>2016-11-26</td><td>NULL</td><td>9216</td></tr>",
                            "<tr><td>2016-11-27</td><td>NULL</td><td>9893</td></tr>",
                            "<tr><td>2016-11-28</td><td>NULL</td><td>9770</td></tr>",
                            "<tr><td>2016-11-29</td><td>NULL</td><td>8722</td></tr>",
                            "<tr><td>2016-11-30</td><td>NULL</td><td>6419</td></tr>",
                            "<tr><td>2016-12-01</td><td>NULL</td><td>9940</td></tr>",
                            "<tr><td>2016-12-02</td><td>NULL</td><td>4748</td></tr>",
                            "<tr><td>2016-12-03</td><td>NULL</td><td>6745</td></tr>",
                            "<tr><td>2016-12-04</td><td>NULL</td><td>9959</td></tr>",
                            "<tr><td>2016-12-05</td><td>NULL</td><td>8225</td></tr>",
                            "<tr><td>2016-12-06</td><td>NULL</td><td>7762</td></tr>",
                            "<tr><td>2016-12-07</td><td>NULL</td><td>7380</td></tr>",
                            "<tr><td>2016-12-08</td><td>NULL</td><td>7200</td></tr>",
                            "<tr><td>2016-12-09</td><td>NULL</td><td>9724</td></tr>",
                            "<tr><td>2016-12-10</td><td>NULL</td><td>7083</td></tr>",
                            "<tr><td>2016-12-11</td><td>NULL</td><td>7576</td></tr>",
                            "<tr><td>2016-12-12</td><td>NULL</td><td>8580</td></tr>",
                            "<tr><td>2016-12-13</td><td>NULL</td><td>8233</td></tr>",
                            "<tr><td>2016-12-14</td><td>NULL</td><td>6268</td></tr>",
                            "<tr><td>2016-12-15</td><td>NULL</td><td>7392</td></tr>",
                            "<tr><td>2016-12-16</td><td>NULL</td><td>6407</td></tr>",
                            "<tr><td>2016-12-17</td><td>NULL</td><td>7555</td></tr>",
                            "<tr><td>2016-12-18</td><td>NULL</td><td>6070</td></tr>",
                            "<tr><td>2016-12-19</td><td>NULL</td><td>5390</td></tr>",
                            "<tr><td>2016-12-20</td><td>NULL</td><td>7735</td></tr>",
                            "<tr><td>2016-12-21</td><td>NULL</td><td>10434</td></tr>",
                            "<tr><td>2016-12-22</td><td>NULL</td><td>5465</td></tr>",
                            "<tr><td>2016-12-23</td><td>NULL</td><td>8338</td></tr>",
                            "<tr><td>2016-12-24</td><td>NULL</td><td>5916</td></tr>",
                            "<tr><td>2016-12-25</td><td>NULL</td><td>7345</td></tr>",
                            "<tr><td>2016-12-26</td><td>NULL</td><td>9875</td></tr>",
                            "<tr><td>2016-12-27</td><td>NULL</td><td>10216</td></tr>",
                            "<tr><td>2016-12-28</td><td>NULL</td><td>6222</td></tr>",
                            "<tr><td>2016-12-29</td><td>NULL</td><td>10046</td></tr>",
                            "<tr><td>2016-12-30</td><td>NULL</td><td>7113</td></tr>",
                            "<tr><td>2016-12-31</td><td>NULL</td><td>7188</td></tr>",
                            "<tr><td>2017-01-01</td><td>NULL</td><td>7200</td></tr>",
                            "<tr><td>2017-01-02</td><td>NULL</td><td>7425</td></tr>",
                            "<tr><td>2017-01-03</td><td>NULL</td><td>6783</td></tr>",
                            "<tr><td>2017-01-04</td><td>NULL</td><td>7465</td></tr>",
                            "<tr><td>2017-01-05</td><td>NULL</td><td>7591</td></tr>",
                            "<tr><td>2017-01-06</td><td>NULL</td><td>8298</td></tr>",
                            "<tr><td>2017-01-07</td><td>NULL</td><td>8976</td></tr>",
                            "<tr><td>2017-01-08</td><td>NULL</td><td>7179</td></tr>",
                            "<tr><td>2017-01-09</td><td>NULL</td><td>9465</td></tr>",
                            "<tr><td>2017-01-10</td><td>NULL</td><td>8667</td></tr>",
                            "<tr><td>2017-01-11</td><td>NULL</td><td>9472</td></tr>",
                            "<tr><td>2017-01-12</td><td>NULL</td><td>7636</td></tr>",
                            "<tr><td>2017-01-13</td><td>NULL</td><td>7538</td></tr>",
                            "<tr><td>2017-01-14</td><td>NULL</td><td>8920</td></tr>",
                            "<tr><td>2017-01-15</td><td>NULL</td><td>7611</td></tr>",
                            "<tr><td>2017-01-16</td><td>NULL</td><td>7369</td></tr>",
                            "<tr><td>2017-01-17</td><td>NULL</td><td>8658</td></tr>",
                            "<tr><td>2017-01-18</td><td>NULL</td><td>6558</td></tr>",
                            "<tr><td>2017-01-19</td><td>NULL</td><td>6422</td></tr>",
                            "<tr><td>2017-01-20</td><td>NULL</td><td>6450</td></tr>",
                            "<tr><td>2017-01-21</td><td>NULL</td><td>7150</td></tr>",
                            "<tr><td>2017-01-22</td><td>NULL</td><td>8199</td></tr>",
                            "<tr><td>2017-01-23</td><td>NULL</td><td>8394</td></tr>",
                            "<tr><td>2017-01-24</td><td>NULL</td><td>8615</td></tr>",
                            "<tr><td>2017-01-25</td><td>NULL</td><td>6484</td></tr>",
                            "<tr><td>2017-01-26</td><td>NULL</td><td>9426</td></tr>",
                            "<tr><td>2017-01-27</td><td>NULL</td><td>5418</td></tr>",
                            "<tr><td>2017-01-28</td><td>NULL</td><td>8401</td></tr>",
                            "<tr><td>2017-01-29</td><td>NULL</td><td>8997</td></tr>",
                            "<tr><td>2017-01-30</td><td>NULL</td><td>9661</td></tr>",
                            "<tr><td>2017-01-31</td><td>NULL</td><td>6253</td></tr>",
                            "<tr><td>2017-02-01</td><td>NULL</td><td>5703</td></tr>",
                            "<tr><td>2017-02-02</td><td>NULL</td><td>8746</td></tr>",
                            "<tr><td>2017-02-03</td><td>NULL</td><td>7840</td></tr>",
                            "<tr><td>2017-02-04</td><td>NULL</td><td>6220</td></tr>",
                            "<tr><td>2017-02-05</td><td>NULL</td><td>5138</td></tr>",
                            "<tr><td>2017-02-06</td><td>NULL</td><td>8206</td></tr>",
                            "<tr><td>2017-02-07</td><td>NULL</td><td>6846</td></tr>",
                            "<tr><td>2017-02-08</td><td>NULL</td><td>10057</td></tr>",
                            "<tr><td>2017-02-09</td><td>NULL</td><td>8302</td></tr>",
                            "<tr><td>2017-02-10</td><td>NULL</td><td>8964</td></tr>",
                            "<tr><td>2017-02-11</td><td>NULL</td><td>8790</td></tr>",
                            "<tr><td>2017-02-12</td><td>NULL</td><td>6268</td></tr>",
                            "<tr><td>2017-02-13</td><td>NULL</td><td>8176</td></tr>",
                            "<tr><td>2017-02-14</td><td>NULL</td><td>10029</td></tr>",
                            "<tr><td>2017-02-15</td><td>NULL</td><td>6443</td></tr>",
                            "<tr><td>2017-02-16</td><td>NULL</td><td>8794</td></tr>",
                            "<tr><td>2017-02-17</td><td>NULL</td><td>9808</td></tr>",
                            "<tr><td>2017-02-18</td><td>NULL</td><td>10757</td></tr>",
                            "<tr><td>2017-02-19</td><td>NULL</td><td>8284</td></tr>",
                            "<tr><td>2017-02-20</td><td>NULL</td><td>5660</td></tr>",
                            "<tr><td>2017-02-21</td><td>NULL</td><td>8878</td></tr>",
                            "<tr><td>2017-02-22</td><td>NULL</td><td>9034</td></tr>",
                            "<tr><td>2017-02-23</td><td>NULL</td><td>7574</td></tr>",
                            "<tr><td>2017-02-24</td><td>NULL</td><td>6814</td></tr>",
                            "<tr><td>2017-02-25</td><td>NULL</td><td>6820</td></tr>",
                            "<tr><td>2017-02-26</td><td>NULL</td><td>8578</td></tr>",
                            "<tr><td>2017-02-27</td><td>NULL</td><td>9185</td></tr>",
                            "<tr><td>2017-02-28</td><td>NULL</td><td>11649</td></tr>",
                            "<tr><td>2017-03-01</td><td>NULL</td><td>5037</td></tr>",
                            "<tr><td>2017-03-02</td><td>NULL</td><td>4861</td></tr>",
                            "<tr><td>2017-03-03</td><td>NULL</td><td>7585</td></tr>",
                            "<tr><td>2017-03-04</td><td>NULL</td><td>5977</td></tr>",
                            "<tr><td>2017-03-05</td><td>NULL</td><td>10338</td></tr>",
                            "<tr><td>2017-03-06</td><td>NULL</td><td>10916</td></tr>",
                            "<tr><td>2017-03-07</td><td>NULL</td><td>8747</td></tr>",
                            "<tr><td>2017-03-08</td><td>NULL</td><td>6837</td></tr>",
                            "<tr><td>2017-03-09</td><td>NULL</td><td>6964</td></tr>",
                            "<tr><td>2017-03-10</td><td>NULL</td><td>6846</td></tr>",
                            "<tr><td>2017-03-11</td><td>NULL</td><td>6885</td></tr>",
                            "<tr><td>2017-03-12</td><td>NULL</td><td>5941</td></tr>",
                            "<tr><td>2017-03-13</td><td>NULL</td><td>6950</td></tr>",
                            "<tr><td>2017-03-14</td><td>NULL</td><td>7224</td></tr>",
                            "<tr><td>2017-03-15</td><td>NULL</td><td>9718</td></tr>",
                            "<tr><td>2017-03-16</td><td>NULL</td><td>9763</td></tr>",
                            "<tr><td>2017-03-17</td><td>NULL</td><td>8908</td></tr>",
                            "<tr><td>2017-03-18</td><td>NULL</td><td>9344</td></tr>",
                            "<tr><td>2017-03-19</td><td>NULL</td><td>9937</td></tr>",
                            "<tr><td>2017-03-20</td><td>NULL</td><td>7683</td></tr>",
                            "<tr><td>2017-03-21</td><td>NULL</td><td>8639</td></tr>",
                            "<tr><td>2017-03-22</td><td>NULL</td><td>6526</td></tr>",
                            "<tr><td>2017-03-23</td><td>NULL</td><td>8799</td></tr>",
                            "<tr><td>2017-03-24</td><td>NULL</td><td>7416</td></tr>",
                            "<tr><td>2017-03-25</td><td>NULL</td><td>6272</td></tr>",
                            "<tr><td>2017-03-26</td><td>NULL</td><td>7786</td></tr>",
                            "<tr><td>2017-03-27</td><td>NULL</td><td>7715</td></tr>",
                            "<tr><td>2017-03-28</td><td>NULL</td><td>8568</td></tr>",
                            "<tr><td>2017-03-29</td><td>NULL</td><td>8346</td></tr>",
                            "<tr><td>2017-03-30</td><td>NULL</td><td>8513</td></tr>",
                            "<tr><td>2017-03-31</td><td>NULL</td><td>8598</td></tr>",
                            "<tr><td>2017-04-01</td><td>NULL</td><td>7307</td></tr>",
                            "<tr><td>2017-04-02</td><td>NULL</td><td>9477</td></tr>",
                            "<tr><td>2017-04-03</td><td>NULL</td><td>6042</td></tr>",
                            "<tr><td>2017-04-04</td><td>NULL</td><td>7493</td></tr>",
                            "<tr><td>2017-04-05</td><td>NULL</td><td>7562</td></tr>",
                            "<tr><td>2017-04-06</td><td>NULL</td><td>4646</td></tr>",
                            "<tr><td>2017-04-07</td><td>NULL</td><td>5197</td></tr>",
                            "<tr><td>2017-04-08</td><td>NULL</td><td>3057</td></tr>",
                            "<tr><td>2017-04-09</td><td>NULL</td><td>3870</td></tr>",
                            "<tr><td>2017-04-10</td><td>NULL</td><td>1640</td></tr>",
                            "<tr><td>2017-04-11</td><td>NULL</td><td>1220</td></tr>",
                            "<tr><td>NULL</td><td>NULL</td><td>5578316</td></tr>",
                            "</table>"
                        ]
                    }
                }
            ],
            "execution_count": 30
        },
        {
            "cell_type": "markdown",
            "source": [
                "13\\. Készítsünk listát a termékek átlagos listaárairól!\n",
                "\n",
                " A lista legyen csoportosítva a következő szempontok alapján:\n",
                "\n",
                " kategórianév, kategórianév + raktárnév\n",
                "\n",
                " A lista tartalmazzon végösszeget (az átlagos árat minden termékre) is!\n",
                "\n",
                " Az átlagos értéke max. két tizedesjeggyel legyen megjelenítve!"
            ],
            "metadata": {
                "azdata_cell_guid": "3a3bcac2-4ac6-4ff9-8c31-bf0da1b69dd6"
            },
            "attachments": {}
        },
        {
            "cell_type": "code",
            "source": [
                "-- kat_nev, kat_nev + raktar_nev\r\n",
                "SELECT Termekkategoria.KAT_NEV,\r\n",
                "        RAKTAR_NEV,\r\n",
                "        ROUND(AVG(LISTAAR), 2) as 'Átlagos listaár'\r\n",
                "FROM Termek JOIN Raktar ON Raktar.RAKTAR_KOD = Termek.RAKTAR_KOD\r\n",
                "            JOIN Termekkategoria ON Termekkategoria.KAT_ID = Termek.KAT_ID\r\n",
                "GROUP BY GROUPING SETS((KAT_NEV), (KAT_NEV,RAKTAR_NEV))"
            ],
            "metadata": {
                "azdata_cell_guid": "2e544ae0-63e0-431f-8ff7-272d62328a92",
                "language": "sql"
            },
            "outputs": [
                {
                    "output_type": "display_data",
                    "data": {
                        "text/html": "(465 rows affected)"
                    },
                    "metadata": {}
                },
                {
                    "output_type": "display_data",
                    "data": {
                        "text/html": "Total execution time: 00:00:00.563"
                    },
                    "metadata": {}
                },
                {
                    "output_type": "execute_result",
                    "metadata": {},
                    "execution_count": 38,
                    "data": {
                        "application/vnd.dataresource+json": {
                            "schema": {
                                "fields": [
                                    {
                                        "name": "KAT_NEV"
                                    },
                                    {
                                        "name": "RAKTAR_NEV"
                                    },
                                    {
                                        "name": "Átlagos listaár"
                                    }
                                ]
                            },
                            "data": [
                                {
                                    "KAT_NEV": "ajándék tárgy",
                                    "RAKTAR_NEV": "Lapos",
                                    "Átlagos listaár": "73"
                                },
                                {
                                    "KAT_NEV": "ajándék tárgy",
                                    "RAKTAR_NEV": "NAGY",
                                    "Átlagos listaár": "76,5"
                                },
                                {
                                    "KAT_NEV": "ajándék tárgy",
                                    "RAKTAR_NEV": "NULL",
                                    "Átlagos listaár": "75,33"
                                },
                                {
                                    "KAT_NEV": "ajándék tasak",
                                    "RAKTAR_NEV": "Báthory",
                                    "Átlagos listaár": "162,5"
                                },
                                {
                                    "KAT_NEV": "ajándék tasak",
                                    "RAKTAR_NEV": "Havanna",
                                    "Átlagos listaár": "104,38"
                                },
                                {
                                    "KAT_NEV": "ajándék tasak",
                                    "RAKTAR_NEV": "Lapos",
                                    "Átlagos listaár": "193,67"
                                },
                                {
                                    "KAT_NEV": "ajándék tasak",
                                    "RAKTAR_NEV": "Veresegyházi",
                                    "Átlagos listaár": "88,4"
                                },
                                {
                                    "KAT_NEV": "ajándék tasak",
                                    "RAKTAR_NEV": "NULL",
                                    "Átlagos listaár": "125,4"
                                },
                                {
                                    "KAT_NEV": "álarc",
                                    "RAKTAR_NEV": "Báthory",
                                    "Átlagos listaár": "144"
                                },
                                {
                                    "KAT_NEV": "álarc",
                                    "RAKTAR_NEV": "Havanna",
                                    "Átlagos listaár": "116,5"
                                },
                                {
                                    "KAT_NEV": "álarc",
                                    "RAKTAR_NEV": "NULL",
                                    "Átlagos listaár": "125,67"
                                },
                                {
                                    "KAT_NEV": "alkalmi",
                                    "RAKTAR_NEV": "KIS",
                                    "Átlagos listaár": "24450"
                                },
                                {
                                    "KAT_NEV": "alkalmi",
                                    "RAKTAR_NEV": "Toldy",
                                    "Átlagos listaár": "16900"
                                },
                                {
                                    "KAT_NEV": "alkalmi",
                                    "RAKTAR_NEV": "NULL",
                                    "Átlagos listaár": "21933,33"
                                },
                                {
                                    "KAT_NEV": "alufólia",
                                    "RAKTAR_NEV": "Lapos",
                                    "Átlagos listaár": "118"
                                },
                                {
                                    "KAT_NEV": "alufólia",
                                    "RAKTAR_NEV": "Veresegyházi",
                                    "Átlagos listaár": "214"
                                },
                                {
                                    "KAT_NEV": "alufólia",
                                    "RAKTAR_NEV": "NULL",
                                    "Átlagos listaár": "166"
                                },
                                {
                                    "KAT_NEV": "árazószalag",
                                    "RAKTAR_NEV": "Lapos",
                                    "Átlagos listaár": "106"
                                },
                                {
                                    "KAT_NEV": "árazószalag",
                                    "RAKTAR_NEV": "NULL",
                                    "Átlagos listaár": "106"
                                },
                                {
                                    "KAT_NEV": "átírótömb",
                                    "RAKTAR_NEV": "Havanna",
                                    "Átlagos listaár": "115"
                                },
                                {
                                    "KAT_NEV": "átírótömb",
                                    "RAKTAR_NEV": "NULL",
                                    "Átlagos listaár": "115"
                                },
                                {
                                    "KAT_NEV": "beíró",
                                    "RAKTAR_NEV": "NAGY",
                                    "Átlagos listaár": "228"
                                },
                                {
                                    "KAT_NEV": "beíró",
                                    "RAKTAR_NEV": "NULL",
                                    "Átlagos listaár": "228"
                                },
                                {
                                    "KAT_NEV": "beírókönyv",
                                    "RAKTAR_NEV": "Havanna",
                                    "Átlagos listaár": "133"
                                },
                                {
                                    "KAT_NEV": "beírókönyv",
                                    "RAKTAR_NEV": "NAGY",
                                    "Átlagos listaár": "328"
                                },
                                {
                                    "KAT_NEV": "beírókönyv",
                                    "RAKTAR_NEV": "NULL",
                                    "Átlagos listaár": "230,5"
                                },
                                {
                                    "KAT_NEV": "bélyegző",
                                    "RAKTAR_NEV": "Báthory",
                                    "Átlagos listaár": "1147"
                                },
                                {
                                    "KAT_NEV": "bélyegző",
                                    "RAKTAR_NEV": "Havanna",
                                    "Átlagos listaár": "780"
                                },
                                {
                                    "KAT_NEV": "bélyegző",
                                    "RAKTAR_NEV": "Veresegyházi",
                                    "Átlagos listaár": "1013,5"
                                },
                                {
                                    "KAT_NEV": "bélyegző",
                                    "RAKTAR_NEV": "NULL",
                                    "Átlagos listaár": "988,5"
                                },
                                {
                                    "KAT_NEV": "bélyegzőfesték",
                                    "RAKTAR_NEV": "Lapos",
                                    "Átlagos listaár": "297"
                                },
                                {
                                    "KAT_NEV": "bélyegzőfesték",
                                    "RAKTAR_NEV": "NULL",
                                    "Átlagos listaár": "297"
                                },
                                {
                                    "KAT_NEV": "boríték",
                                    "RAKTAR_NEV": "Báthory",
                                    "Átlagos listaár": "39"
                                },
                                {
                                    "KAT_NEV": "boríték",
                                    "RAKTAR_NEV": "Havanna",
                                    "Átlagos listaár": "18"
                                },
                                {
                                    "KAT_NEV": "boríték",
                                    "RAKTAR_NEV": "Lapos",
                                    "Átlagos listaár": "6"
                                },
                                {
                                    "KAT_NEV": "boríték",
                                    "RAKTAR_NEV": "NAGY",
                                    "Átlagos listaár": "15"
                                },
                                {
                                    "KAT_NEV": "boríték",
                                    "RAKTAR_NEV": "Veresegyházi",
                                    "Átlagos listaár": "8"
                                },
                                {
                                    "KAT_NEV": "boríték",
                                    "RAKTAR_NEV": "NULL",
                                    "Átlagos listaár": "14,57"
                                },
                                {
                                    "KAT_NEV": "cd tok",
                                    "RAKTAR_NEV": "Havanna",
                                    "Átlagos listaár": "30"
                                },
                                {
                                    "KAT_NEV": "cd tok",
                                    "RAKTAR_NEV": "NULL",
                                    "Átlagos listaár": "30"
                                },
                                {
                                    "KAT_NEV": "celofán",
                                    "RAKTAR_NEV": "Havanna",
                                    "Átlagos listaár": "59,5"
                                },
                                {
                                    "KAT_NEV": "celofán",
                                    "RAKTAR_NEV": "NULL",
                                    "Átlagos listaár": "59,5"
                                },
                                {
                                    "KAT_NEV": "ceruza",
                                    "RAKTAR_NEV": "Báthory",
                                    "Átlagos listaár": "49,4"
                                },
                                {
                                    "KAT_NEV": "ceruza",
                                    "RAKTAR_NEV": "Havanna",
                                    "Átlagos listaár": "11"
                                },
                                {
                                    "KAT_NEV": "ceruza",
                                    "RAKTAR_NEV": "Lapos",
                                    "Átlagos listaár": "50,25"
                                },
                                {
                                    "KAT_NEV": "ceruza",
                                    "RAKTAR_NEV": "NAGY",
                                    "Átlagos listaár": "65,25"
                                },
                                {
                                    "KAT_NEV": "ceruza",
                                    "RAKTAR_NEV": "Veresegyházi",
                                    "Átlagos listaár": "40"
                                },
                                {
                                    "KAT_NEV": "ceruza",
                                    "RAKTAR_NEV": "NULL",
                                    "Átlagos listaár": "48,42"
                                },
                                {
                                    "KAT_NEV": "címke",
                                    "RAKTAR_NEV": "Báthory",
                                    "Átlagos listaár": "28,5"
                                },
                                {
                                    "KAT_NEV": "címke",
                                    "RAKTAR_NEV": "Lapos",
                                    "Átlagos listaár": "20"
                                },
                                {
                                    "KAT_NEV": "címke",
                                    "RAKTAR_NEV": "NULL",
                                    "Átlagos listaár": "25,67"
                                },
                                {
                                    "KAT_NEV": "color copy",
                                    "RAKTAR_NEV": "Lapos",
                                    "Átlagos listaár": "14"
                                },
                                {
                                    "KAT_NEV": "color copy",
                                    "RAKTAR_NEV": "NAGY",
                                    "Átlagos listaár": "757"
                                },
                                {
                                    "KAT_NEV": "color copy",
                                    "RAKTAR_NEV": "Veresegyházi",
                                    "Átlagos listaár": "12,5"
                                },
                                {
                                    "KAT_NEV": "color copy",
                                    "RAKTAR_NEV": "NULL",
                                    "Átlagos listaár": "310,6"
                                },
                                {
                                    "KAT_NEV": "csomagoló",
                                    "RAKTAR_NEV": "Báthory",
                                    "Átlagos listaár": "89"
                                },
                                {
                                    "KAT_NEV": "csomagoló",
                                    "RAKTAR_NEV": "Havanna",
                                    "Átlagos listaár": "110"
                                },
                                {
                                    "KAT_NEV": "csomagoló",
                                    "RAKTAR_NEV": "NULL",
                                    "Átlagos listaár": "99,5"
                                },
                                {
                                    "KAT_NEV": "csomagoló papír",
                                    "RAKTAR_NEV": "Báthory",
                                    "Átlagos listaár": "121,5"
                                },
                                {
                                    "KAT_NEV": "csomagoló papír",
                                    "RAKTAR_NEV": "Lapos",
                                    "Átlagos listaár": "96"
                                },
                                {
                                    "KAT_NEV": "csomagoló papír",
                                    "RAKTAR_NEV": "NAGY",
                                    "Átlagos listaár": "88,5"
                                },
                                {
                                    "KAT_NEV": "csomagoló papír",
                                    "RAKTAR_NEV": "Veresegyházi",
                                    "Átlagos listaár": "106"
                                },
                                {
                                    "KAT_NEV": "csomagoló papír",
                                    "RAKTAR_NEV": "NULL",
                                    "Átlagos listaár": "102,57"
                                },
                                {
                                    "KAT_NEV": "dekor",
                                    "RAKTAR_NEV": "Báthory",
                                    "Átlagos listaár": "3"
                                },
                                {
                                    "KAT_NEV": "dekor",
                                    "RAKTAR_NEV": "Havanna",
                                    "Átlagos listaár": "23"
                                },
                                {
                                    "KAT_NEV": "dekor",
                                    "RAKTAR_NEV": "NAGY",
                                    "Átlagos listaár": "44"
                                },
                                {
                                    "KAT_NEV": "dekor",
                                    "RAKTAR_NEV": "Veresegyházi",
                                    "Átlagos listaár": "15"
                                },
                                {
                                    "KAT_NEV": "dekor",
                                    "RAKTAR_NEV": "NULL",
                                    "Átlagos listaár": "21,25"
                                },
                                {
                                    "KAT_NEV": "dipa",
                                    "RAKTAR_NEV": "Lapos",
                                    "Átlagos listaár": "9"
                                },
                                {
                                    "KAT_NEV": "dipa",
                                    "RAKTAR_NEV": "NULL",
                                    "Átlagos listaár": "9"
                                },
                                {
                                    "KAT_NEV": "díszdoboz",
                                    "RAKTAR_NEV": "Báthory",
                                    "Átlagos listaár": "66"
                                },
                                {
                                    "KAT_NEV": "díszdoboz",
                                    "RAKTAR_NEV": "Lapos",
                                    "Átlagos listaár": "61"
                                },
                                {
                                    "KAT_NEV": "díszdoboz",
                                    "RAKTAR_NEV": "NAGY",
                                    "Átlagos listaár": "44"
                                },
                                {
                                    "KAT_NEV": "díszdoboz",
                                    "RAKTAR_NEV": "NULL",
                                    "Átlagos listaár": "57"
                                },
                                {
                                    "KAT_NEV": "díszkötöző",
                                    "RAKTAR_NEV": "Havanna",
                                    "Átlagos listaár": "25"
                                },
                                {
                                    "KAT_NEV": "díszkötöző",
                                    "RAKTAR_NEV": "Veresegyházi",
                                    "Átlagos listaár": "81"
                                },
                                {
                                    "KAT_NEV": "díszkötöző",
                                    "RAKTAR_NEV": "NULL",
                                    "Átlagos listaár": "36,2"
                                },
                                {
                                    "KAT_NEV": "dvd",
                                    "RAKTAR_NEV": "Lapos",
                                    "Átlagos listaár": "133"
                                },
                                {
                                    "KAT_NEV": "dvd",
                                    "RAKTAR_NEV": "NULL",
                                    "Átlagos listaár": "133"
                                },
                                {
                                    "KAT_NEV": "ecset",
                                    "RAKTAR_NEV": "Báthory",
                                    "Átlagos listaár": "79"
                                },
                                {
                                    "KAT_NEV": "ecset",
                                    "RAKTAR_NEV": "Havanna",
                                    "Átlagos listaár": "85,33"
                                },
                                {
                                    "KAT_NEV": "ecset",
                                    "RAKTAR_NEV": "Lapos",
                                    "Átlagos listaár": "60"
                                },
                                {
                                    "KAT_NEV": "ecset",
                                    "RAKTAR_NEV": "NAGY",
                                    "Átlagos listaár": "65"
                                },
                                {
                                    "KAT_NEV": "ecset",
                                    "RAKTAR_NEV": "Veresegyházi",
                                    "Átlagos listaár": "33"
                                },
                                {
                                    "KAT_NEV": "ecset",
                                    "RAKTAR_NEV": "NULL",
                                    "Átlagos listaár": "70,43"
                                },
                                {
                                    "KAT_NEV": "előlap",
                                    "RAKTAR_NEV": "NAGY",
                                    "Átlagos listaár": "25"
                                },
                                {
                                    "KAT_NEV": "előlap",
                                    "RAKTAR_NEV": "NULL",
                                    "Átlagos listaár": "25"
                                },
                                {
                                    "KAT_NEV": "emlékkönyv",
                                    "RAKTAR_NEV": "Báthory",
                                    "Átlagos listaár": "382,5"
                                },
                                {
                                    "KAT_NEV": "emlékkönyv",
                                    "RAKTAR_NEV": "Veresegyházi",
                                    "Átlagos listaár": "526"
                                },
                                {
                                    "KAT_NEV": "emlékkönyv",
                                    "RAKTAR_NEV": "NULL",
                                    "Átlagos listaár": "430,33"
                                },
                                {
                                    "KAT_NEV": "emléklap",
                                    "RAKTAR_NEV": "Báthory",
                                    "Átlagos listaár": "26"
                                },
                                {
                                    "KAT_NEV": "emléklap",
                                    "RAKTAR_NEV": "NULL",
                                    "Átlagos listaár": "26"
                                },
                                {
                                    "KAT_NEV": "fax papír",
                                    "RAKTAR_NEV": "Lapos",
                                    "Átlagos listaár": "161"
                                },
                                {
                                    "KAT_NEV": "fax papír",
                                    "RAKTAR_NEV": "NULL",
                                    "Átlagos listaár": "161"
                                },
                                {
                                    "KAT_NEV": "fehérnemű",
                                    "RAKTAR_NEV": "KIS",
                                    "Átlagos listaár": "240"
                                },
                                {
                                    "KAT_NEV": "fehérnemű",
                                    "RAKTAR_NEV": "Kisfaludy",
                                    "Átlagos listaár": "390"
                                },
                                {
                                    "KAT_NEV": "fehérnemű",
                                    "RAKTAR_NEV": "Nagyszeben",
                                    "Átlagos listaár": "690"
                                },
                                {
                                    "KAT_NEV": "fehérnemű",
                                    "RAKTAR_NEV": "Toldy",
                                    "Átlagos listaár": "790"
                                },
                                {
                                    "KAT_NEV": "fehérnemű",
                                    "RAKTAR_NEV": "NULL",
                                    "Átlagos listaár": "561,43"
                                },
                                {
                                    "KAT_NEV": "fénymásoló papír",
                                    "RAKTAR_NEV": "Lapos",
                                    "Átlagos listaár": "786,5"
                                },
                                {
                                    "KAT_NEV": "fénymásoló papír",
                                    "RAKTAR_NEV": "NAGY",
                                    "Átlagos listaár": "728"
                                },
                                {
                                    "KAT_NEV": "fénymásoló papír",
                                    "RAKTAR_NEV": "Veresegyházi",
                                    "Átlagos listaár": "1087"
                                },
                                {
                                    "KAT_NEV": "fénymásoló papír",
                                    "RAKTAR_NEV": "NULL",
                                    "Átlagos listaár": "895"
                                },
                                {
                                    "KAT_NEV": "férfi ing",
                                    "RAKTAR_NEV": "Kisfaludy",
                                    "Átlagos listaár": "6490"
                                },
                                {
                                    "KAT_NEV": "férfi ing",
                                    "RAKTAR_NEV": "NULL",
                                    "Átlagos listaár": "6490"
                                },
                                {
                                    "KAT_NEV": "férfi kabát",
                                    "RAKTAR_NEV": "Kisfaludy",
                                    "Átlagos listaár": "22000"
                                },
                                {
                                    "KAT_NEV": "férfi kabát",
                                    "RAKTAR_NEV": "NULL",
                                    "Átlagos listaár": "22000"
                                },
                                {
                                    "KAT_NEV": "férfi nadrág",
                                    "RAKTAR_NEV": "Kisfaludy",
                                    "Átlagos listaár": "11900"
                                },
                                {
                                    "KAT_NEV": "férfi nadrág",
                                    "RAKTAR_NEV": "Toldy",
                                    "Átlagos listaár": "7890"
                                },
                                {
                                    "KAT_NEV": "férfi nadrág",
                                    "RAKTAR_NEV": "NULL",
                                    "Átlagos listaár": "9895"
                                },
                                {
                                    "KAT_NEV": "festékpatron",
                                    "RAKTAR_NEV": "Veresegyházi",
                                    "Átlagos listaár": "625"
                                },
                                {
                                    "KAT_NEV": "festékpatron",
                                    "RAKTAR_NEV": "NULL",
                                    "Átlagos listaár": "625"
                                },
                                {
                                    "KAT_NEV": "filctoll",
                                    "RAKTAR_NEV": "Báthory",
                                    "Átlagos listaár": "46"
                                },
                                {
                                    "KAT_NEV": "filctoll",
                                    "RAKTAR_NEV": "Havanna",
                                    "Átlagos listaár": "147,25"
                                },
                                {
                                    "KAT_NEV": "filctoll",
                                    "RAKTAR_NEV": "Lapos",
                                    "Átlagos listaár": "225,67"
                                },
                                {
                                    "KAT_NEV": "filctoll",
                                    "RAKTAR_NEV": "NAGY",
                                    "Átlagos listaár": "211,6"
                                },
                                {
                                    "KAT_NEV": "filctoll",
                                    "RAKTAR_NEV": "NULL",
                                    "Átlagos listaár": "182,31"
                                },
                                {
                                    "KAT_NEV": "floppy",
                                    "RAKTAR_NEV": "Báthory",
                                    "Átlagos listaár": "51"
                                },
                                {
                                    "KAT_NEV": "floppy",
                                    "RAKTAR_NEV": "NULL",
                                    "Átlagos listaár": "51"
                                },
                                {
                                    "KAT_NEV": "fólia",
                                    "RAKTAR_NEV": "Havanna",
                                    "Átlagos listaár": "42"
                                },
                                {
                                    "KAT_NEV": "fólia",
                                    "RAKTAR_NEV": "Lapos",
                                    "Átlagos listaár": "44"
                                },
                                {
                                    "KAT_NEV": "fólia",
                                    "RAKTAR_NEV": "NULL",
                                    "Átlagos listaár": "42,67"
                                },
                                {
                                    "KAT_NEV": "fotópapír",
                                    "RAKTAR_NEV": "Lapos",
                                    "Átlagos listaár": "30"
                                },
                                {
                                    "KAT_NEV": "fotópapír",
                                    "RAKTAR_NEV": "NULL",
                                    "Átlagos listaár": "30"
                                },
                                {
                                    "KAT_NEV": "füzet",
                                    "RAKTAR_NEV": "Báthory",
                                    "Átlagos listaár": "97,5"
                                },
                                {
                                    "KAT_NEV": "füzet",
                                    "RAKTAR_NEV": "Havanna",
                                    "Átlagos listaár": "111"
                                },
                                {
                                    "KAT_NEV": "füzet",
                                    "RAKTAR_NEV": "Lapos",
                                    "Átlagos listaár": "64,67"
                                },
                                {
                                    "KAT_NEV": "füzet",
                                    "RAKTAR_NEV": "NAGY",
                                    "Átlagos listaár": "206"
                                },
                                {
                                    "KAT_NEV": "füzet",
                                    "RAKTAR_NEV": "Veresegyházi",
                                    "Átlagos listaár": "59,5"
                                },
                                {
                                    "KAT_NEV": "füzet",
                                    "RAKTAR_NEV": "NULL",
                                    "Átlagos listaár": "95,18"
                                },
                                {
                                    "KAT_NEV": "füzetborító",
                                    "RAKTAR_NEV": "Báthory",
                                    "Átlagos listaár": "107"
                                },
                                {
                                    "KAT_NEV": "füzetborító",
                                    "RAKTAR_NEV": "Lapos",
                                    "Átlagos listaár": "23,5"
                                },
                                {
                                    "KAT_NEV": "füzetborító",
                                    "RAKTAR_NEV": "Nagyszeben",
                                    "Átlagos listaár": "19"
                                },
                                {
                                    "KAT_NEV": "füzetborító",
                                    "RAKTAR_NEV": "Veresegyházi",
                                    "Átlagos listaár": "9"
                                },
                                {
                                    "KAT_NEV": "füzetborító",
                                    "RAKTAR_NEV": "NULL",
                                    "Átlagos listaár": "42,57"
                                },
                                {
                                    "KAT_NEV": "füzettartó",
                                    "RAKTAR_NEV": "Báthory",
                                    "Átlagos listaár": "411"
                                },
                                {
                                    "KAT_NEV": "füzettartó",
                                    "RAKTAR_NEV": "Lapos",
                                    "Átlagos listaár": "203"
                                },
                                {
                                    "KAT_NEV": "füzettartó",
                                    "RAKTAR_NEV": "Veresegyházi",
                                    "Átlagos listaár": "529,5"
                                },
                                {
                                    "KAT_NEV": "füzettartó",
                                    "RAKTAR_NEV": "NULL",
                                    "Átlagos listaár": "418,25"
                                },
                                {
                                    "KAT_NEV": "gemkapocs",
                                    "RAKTAR_NEV": "Báthory",
                                    "Átlagos listaár": "48"
                                },
                                {
                                    "KAT_NEV": "gemkapocs",
                                    "RAKTAR_NEV": "Havanna",
                                    "Átlagos listaár": "30"
                                },
                                {
                                    "KAT_NEV": "gemkapocs",
                                    "RAKTAR_NEV": "NULL",
                                    "Átlagos listaár": "39"
                                },
                                {
                                    "KAT_NEV": "gémkapocs",
                                    "RAKTAR_NEV": "Havanna",
                                    "Átlagos listaár": "44"
                                },
                                {
                                    "KAT_NEV": "gémkapocs",
                                    "RAKTAR_NEV": "NAGY",
                                    "Átlagos listaár": "103"
                                },
                                {
                                    "KAT_NEV": "gémkapocs",
                                    "RAKTAR_NEV": "NULL",
                                    "Átlagos listaár": "73,5"
                                },
                                {
                                    "KAT_NEV": "genoterm",
                                    "RAKTAR_NEV": "Báthory",
                                    "Átlagos listaár": "89"
                                },
                                {
                                    "KAT_NEV": "genoterm",
                                    "RAKTAR_NEV": "NULL",
                                    "Átlagos listaár": "89"
                                },
                                {
                                    "KAT_NEV": "genotherm",
                                    "RAKTAR_NEV": "Báthory",
                                    "Átlagos listaár": "110"
                                },
                                {
                                    "KAT_NEV": "genotherm",
                                    "RAKTAR_NEV": "Havanna",
                                    "Átlagos listaár": "8"
                                },
                                {
                                    "KAT_NEV": "genotherm",
                                    "RAKTAR_NEV": "Lapos",
                                    "Átlagos listaár": "63"
                                },
                                {
                                    "KAT_NEV": "genotherm",
                                    "RAKTAR_NEV": "NULL",
                                    "Átlagos listaár": "60,33"
                                },
                                {
                                    "KAT_NEV": "golyóstoll",
                                    "RAKTAR_NEV": "Báthory",
                                    "Átlagos listaár": "203,5"
                                },
                                {
                                    "KAT_NEV": "golyóstoll",
                                    "RAKTAR_NEV": "Havanna",
                                    "Átlagos listaár": "187,75"
                                },
                                {
                                    "KAT_NEV": "golyóstoll",
                                    "RAKTAR_NEV": "Lapos",
                                    "Átlagos listaár": "277,6"
                                },
                                {
                                    "KAT_NEV": "golyóstoll",
                                    "RAKTAR_NEV": "NAGY",
                                    "Átlagos listaár": "513,75"
                                },
                                {
                                    "KAT_NEV": "golyóstoll",
                                    "RAKTAR_NEV": "Veresegyházi",
                                    "Átlagos listaár": "178,8"
                                },
                                {
                                    "KAT_NEV": "golyóstoll",
                                    "RAKTAR_NEV": "NULL",
                                    "Átlagos listaár": "255,88"
                                },
                                {
                                    "KAT_NEV": "gumigyűrű",
                                    "RAKTAR_NEV": "Lapos",
                                    "Átlagos listaár": "19"
                                },
                                {
                                    "KAT_NEV": "gumigyűrű",
                                    "RAKTAR_NEV": "NULL",
                                    "Átlagos listaár": "19"
                                },
                                {
                                    "KAT_NEV": "gyermek cipő",
                                    "RAKTAR_NEV": "Kisfaludy",
                                    "Átlagos listaár": "7450"
                                },
                                {
                                    "KAT_NEV": "gyermek cipő",
                                    "RAKTAR_NEV": "Nagyszeben",
                                    "Átlagos listaár": "7900"
                                },
                                {
                                    "KAT_NEV": "gyermek cipő",
                                    "RAKTAR_NEV": "Toldy",
                                    "Átlagos listaár": "7600"
                                },
                                {
                                    "KAT_NEV": "gyermek cipő",
                                    "RAKTAR_NEV": "NULL",
                                    "Átlagos listaár": "7600"
                                },
                                {
                                    "KAT_NEV": "gyermek kabát",
                                    "RAKTAR_NEV": "Kisfaludy",
                                    "Átlagos listaár": "8900"
                                },
                                {
                                    "KAT_NEV": "gyermek kabát",
                                    "RAKTAR_NEV": "NULL",
                                    "Átlagos listaár": "8900"
                                },
                                {
                                    "KAT_NEV": "gyermek nadrág",
                                    "RAKTAR_NEV": "Kisfaludy",
                                    "Átlagos listaár": "1290"
                                },
                                {
                                    "KAT_NEV": "gyermek nadrág",
                                    "RAKTAR_NEV": "Toldy",
                                    "Átlagos listaár": "3756,67"
                                },
                                {
                                    "KAT_NEV": "gyermek nadrág",
                                    "RAKTAR_NEV": "NULL",
                                    "Átlagos listaár": "3140"
                                },
                                {
                                    "KAT_NEV": "gyermek póló",
                                    "RAKTAR_NEV": "Toldy",
                                    "Átlagos listaár": "3900"
                                },
                                {
                                    "KAT_NEV": "gyermek póló",
                                    "RAKTAR_NEV": "NULL",
                                    "Átlagos listaár": "3900"
                                },
                                {
                                    "KAT_NEV": "gyorsfűző",
                                    "RAKTAR_NEV": "Báthory",
                                    "Átlagos listaár": "18"
                                },
                                {
                                    "KAT_NEV": "gyorsfűző",
                                    "RAKTAR_NEV": "Havanna",
                                    "Átlagos listaár": "35"
                                },
                                {
                                    "KAT_NEV": "gyorsfűző",
                                    "RAKTAR_NEV": "NAGY",
                                    "Átlagos listaár": "30"
                                },
                                {
                                    "KAT_NEV": "gyorsfűző",
                                    "RAKTAR_NEV": "NULL",
                                    "Átlagos listaár": "27,67"
                                },
                                {
                                    "KAT_NEV": "gyurma",
                                    "RAKTAR_NEV": "Havanna",
                                    "Átlagos listaár": "228"
                                },
                                {
                                    "KAT_NEV": "gyurma",
                                    "RAKTAR_NEV": "Lapos",
                                    "Átlagos listaár": "121"
                                },
                                {
                                    "KAT_NEV": "gyurma",
                                    "RAKTAR_NEV": "NAGY",
                                    "Átlagos listaár": "161"
                                },
                                {
                                    "KAT_NEV": "gyurma",
                                    "RAKTAR_NEV": "Veresegyházi",
                                    "Átlagos listaár": "180"
                                },
                                {
                                    "KAT_NEV": "gyurma",
                                    "RAKTAR_NEV": "NULL",
                                    "Átlagos listaár": "172,5"
                                },
                                {
                                    "KAT_NEV": "gyűrűskönyv",
                                    "RAKTAR_NEV": "Báthory",
                                    "Átlagos listaár": "184"
                                },
                                {
                                    "KAT_NEV": "gyűrűskönyv",
                                    "RAKTAR_NEV": "Lapos",
                                    "Átlagos listaár": "298"
                                },
                                {
                                    "KAT_NEV": "gyűrűskönyv",
                                    "RAKTAR_NEV": "Veresegyházi",
                                    "Átlagos listaár": "699"
                                },
                                {
                                    "KAT_NEV": "gyűrűskönyv",
                                    "RAKTAR_NEV": "NULL",
                                    "Átlagos listaár": "355,4"
                                },
                                {
                                    "KAT_NEV": "hajgumi",
                                    "RAKTAR_NEV": "Havanna",
                                    "Átlagos listaár": "66"
                                },
                                {
                                    "KAT_NEV": "hajgumi",
                                    "RAKTAR_NEV": "NULL",
                                    "Átlagos listaár": "66"
                                },
                                {
                                    "KAT_NEV": "határidő napló",
                                    "RAKTAR_NEV": "Lapos",
                                    "Átlagos listaár": "596"
                                },
                                {
                                    "KAT_NEV": "határidő napló",
                                    "RAKTAR_NEV": "NULL",
                                    "Átlagos listaár": "596"
                                },
                                {
                                    "KAT_NEV": "hegyező",
                                    "RAKTAR_NEV": "Havanna",
                                    "Átlagos listaár": "452,5"
                                },
                                {
                                    "KAT_NEV": "hegyező",
                                    "RAKTAR_NEV": "Veresegyházi",
                                    "Átlagos listaár": "26,5"
                                },
                                {
                                    "KAT_NEV": "hegyező",
                                    "RAKTAR_NEV": "NULL",
                                    "Átlagos listaár": "239,5"
                                },
                                {
                                    "KAT_NEV": "hegyző",
                                    "RAKTAR_NEV": "Báthory",
                                    "Átlagos listaár": "180"
                                },
                                {
                                    "KAT_NEV": "hegyző",
                                    "RAKTAR_NEV": "Lapos",
                                    "Átlagos listaár": "70"
                                },
                                {
                                    "KAT_NEV": "hegyző",
                                    "RAKTAR_NEV": "NULL",
                                    "Átlagos listaár": "125"
                                },
                                {
                                    "KAT_NEV": "hibajavító",
                                    "RAKTAR_NEV": "Báthory",
                                    "Átlagos listaár": "230,67"
                                },
                                {
                                    "KAT_NEV": "hibajavító",
                                    "RAKTAR_NEV": "Havanna",
                                    "Átlagos listaár": "794"
                                },
                                {
                                    "KAT_NEV": "hibajavító",
                                    "RAKTAR_NEV": "Lapos",
                                    "Átlagos listaár": "81"
                                },
                                {
                                    "KAT_NEV": "hibajavító",
                                    "RAKTAR_NEV": "NAGY",
                                    "Átlagos listaár": "185"
                                },
                                {
                                    "KAT_NEV": "hibajavító",
                                    "RAKTAR_NEV": "Veresegyházi",
                                    "Átlagos listaár": "278"
                                },
                                {
                                    "KAT_NEV": "hibajavító",
                                    "RAKTAR_NEV": "NULL",
                                    "Átlagos listaár": "290"
                                },
                                {
                                    "KAT_NEV": "hűtőmágnes",
                                    "RAKTAR_NEV": "Báthory",
                                    "Átlagos listaár": "24"
                                },
                                {
                                    "KAT_NEV": "hűtőmágnes",
                                    "RAKTAR_NEV": "Havanna",
                                    "Átlagos listaár": "169"
                                },
                                {
                                    "KAT_NEV": "hűtőmágnes",
                                    "RAKTAR_NEV": "NULL",
                                    "Átlagos listaár": "96,5"
                                },
                                {
                                    "KAT_NEV": "indigó",
                                    "RAKTAR_NEV": "NAGY",
                                    "Átlagos listaár": "13,5"
                                },
                                {
                                    "KAT_NEV": "indigó",
                                    "RAKTAR_NEV": "NULL",
                                    "Átlagos listaár": "13,5"
                                },
                                {
                                    "KAT_NEV": "írásvetítő fólia",
                                    "RAKTAR_NEV": "Havanna",
                                    "Átlagos listaár": "81"
                                },
                                {
                                    "KAT_NEV": "írásvetítő fólia",
                                    "RAKTAR_NEV": "NULL",
                                    "Átlagos listaár": "81"
                                },
                                {
                                    "KAT_NEV": "iratgyűjtő",
                                    "RAKTAR_NEV": "Havanna",
                                    "Átlagos listaár": "76"
                                },
                                {
                                    "KAT_NEV": "iratgyűjtő",
                                    "RAKTAR_NEV": "Veresegyházi",
                                    "Átlagos listaár": "19"
                                },
                                {
                                    "KAT_NEV": "iratgyűjtő",
                                    "RAKTAR_NEV": "NULL",
                                    "Átlagos listaár": "57"
                                },
                                {
                                    "KAT_NEV": "iratrendező",
                                    "RAKTAR_NEV": "Lapos",
                                    "Átlagos listaár": "243"
                                },
                                {
                                    "KAT_NEV": "iratrendező",
                                    "RAKTAR_NEV": "NAGY",
                                    "Átlagos listaár": "259"
                                },
                                {
                                    "KAT_NEV": "iratrendező",
                                    "RAKTAR_NEV": "NULL",
                                    "Átlagos listaár": "251"
                                },
                                {
                                    "KAT_NEV": "iratsín",
                                    "RAKTAR_NEV": "Báthory",
                                    "Átlagos listaár": "44"
                                },
                                {
                                    "KAT_NEV": "iratsín",
                                    "RAKTAR_NEV": "Veresegyházi",
                                    "Átlagos listaár": "89"
                                },
                                {
                                    "KAT_NEV": "iratsín",
                                    "RAKTAR_NEV": "NULL",
                                    "Átlagos listaár": "66,5"
                                },
                                {
                                    "KAT_NEV": "irattartó",
                                    "RAKTAR_NEV": "Báthory",
                                    "Átlagos listaár": "66"
                                },
                                {
                                    "KAT_NEV": "irattartó",
                                    "RAKTAR_NEV": "Havanna",
                                    "Átlagos listaár": "214"
                                },
                                {
                                    "KAT_NEV": "irattartó",
                                    "RAKTAR_NEV": "NULL",
                                    "Átlagos listaár": "140"
                                },
                                {
                                    "KAT_NEV": "irodaszer",
                                    "RAKTAR_NEV": "NAGY",
                                    "Átlagos listaár": "59"
                                },
                                {
                                    "KAT_NEV": "irodaszer",
                                    "RAKTAR_NEV": "NULL",
                                    "Átlagos listaár": "59"
                                },
                                {
                                    "KAT_NEV": "írólap",
                                    "RAKTAR_NEV": "Havanna",
                                    "Átlagos listaár": "31,5"
                                },
                                {
                                    "KAT_NEV": "írólap",
                                    "RAKTAR_NEV": "NULL",
                                    "Átlagos listaár": "31,5"
                                },
                                {
                                    "KAT_NEV": "ironbél",
                                    "RAKTAR_NEV": "Báthory",
                                    "Átlagos listaár": "74"
                                },
                                {
                                    "KAT_NEV": "ironbél",
                                    "RAKTAR_NEV": "NAGY",
                                    "Átlagos listaár": "36"
                                },
                                {
                                    "KAT_NEV": "ironbél",
                                    "RAKTAR_NEV": "Veresegyházi",
                                    "Átlagos listaár": "53,33"
                                },
                                {
                                    "KAT_NEV": "ironbél",
                                    "RAKTAR_NEV": "NULL",
                                    "Átlagos listaár": "54"
                                },
                                {
                                    "KAT_NEV": "iskolaszer",
                                    "RAKTAR_NEV": "Báthory",
                                    "Átlagos listaár": "102"
                                },
                                {
                                    "KAT_NEV": "iskolaszer",
                                    "RAKTAR_NEV": "Havanna",
                                    "Átlagos listaár": "134,2"
                                },
                                {
                                    "KAT_NEV": "iskolaszer",
                                    "RAKTAR_NEV": "Lapos",
                                    "Átlagos listaár": "161"
                                },
                                {
                                    "KAT_NEV": "iskolaszer",
                                    "RAKTAR_NEV": "NAGY",
                                    "Átlagos listaár": "50"
                                },
                                {
                                    "KAT_NEV": "iskolaszer",
                                    "RAKTAR_NEV": "Veresegyházi",
                                    "Átlagos listaár": "49,25"
                                },
                                {
                                    "KAT_NEV": "iskolaszer",
                                    "RAKTAR_NEV": "NULL",
                                    "Átlagos listaár": "84,92"
                                },
                                {
                                    "KAT_NEV": "játékautó",
                                    "RAKTAR_NEV": "Báthory",
                                    "Átlagos listaár": "109"
                                },
                                {
                                    "KAT_NEV": "játékautó",
                                    "RAKTAR_NEV": "NULL",
                                    "Átlagos listaár": "109"
                                },
                                {
                                    "KAT_NEV": "jelzőkréta",
                                    "RAKTAR_NEV": "NAGY",
                                    "Átlagos listaár": "48"
                                },
                                {
                                    "KAT_NEV": "jelzőkréta",
                                    "RAKTAR_NEV": "NULL",
                                    "Átlagos listaár": "48"
                                },
                                {
                                    "KAT_NEV": "kapocskiszedő",
                                    "RAKTAR_NEV": "Havanna",
                                    "Átlagos listaár": "106"
                                },
                                {
                                    "KAT_NEV": "kapocskiszedő",
                                    "RAKTAR_NEV": "NULL",
                                    "Átlagos listaár": "106"
                                },
                                {
                                    "KAT_NEV": "karton",
                                    "RAKTAR_NEV": "Báthory",
                                    "Átlagos listaár": "89"
                                },
                                {
                                    "KAT_NEV": "karton",
                                    "RAKTAR_NEV": "Havanna",
                                    "Átlagos listaár": "38"
                                },
                                {
                                    "KAT_NEV": "karton",
                                    "RAKTAR_NEV": "Lapos",
                                    "Átlagos listaár": "25"
                                },
                                {
                                    "KAT_NEV": "karton",
                                    "RAKTAR_NEV": "NAGY",
                                    "Átlagos listaár": "42"
                                },
                                {
                                    "KAT_NEV": "karton",
                                    "RAKTAR_NEV": "Veresegyházi",
                                    "Átlagos listaár": "40"
                                },
                                {
                                    "KAT_NEV": "karton",
                                    "RAKTAR_NEV": "NULL",
                                    "Átlagos listaár": "46"
                                },
                                {
                                    "KAT_NEV": "kártya",
                                    "RAKTAR_NEV": "Veresegyházi",
                                    "Átlagos listaár": "131"
                                },
                                {
                                    "KAT_NEV": "kártya",
                                    "RAKTAR_NEV": "NULL",
                                    "Átlagos listaár": "131"
                                },
                                {
                                    "KAT_NEV": "képeslap",
                                    "RAKTAR_NEV": "Báthory",
                                    "Átlagos listaár": "43,5"
                                },
                                {
                                    "KAT_NEV": "képeslap",
                                    "RAKTAR_NEV": "Havanna",
                                    "Átlagos listaár": "71"
                                },
                                {
                                    "KAT_NEV": "képeslap",
                                    "RAKTAR_NEV": "Lapos",
                                    "Átlagos listaár": "81,75"
                                },
                                {
                                    "KAT_NEV": "képeslap",
                                    "RAKTAR_NEV": "NAGY",
                                    "Átlagos listaár": "58,25"
                                },
                                {
                                    "KAT_NEV": "képeslap",
                                    "RAKTAR_NEV": "Veresegyházi",
                                    "Átlagos listaár": "34,33"
                                },
                                {
                                    "KAT_NEV": "képeslap",
                                    "RAKTAR_NEV": "NULL",
                                    "Átlagos listaár": "60,19"
                                },
                                {
                                    "KAT_NEV": "képkirakó",
                                    "RAKTAR_NEV": "Báthory",
                                    "Átlagos listaár": "195"
                                },
                                {
                                    "KAT_NEV": "képkirakó",
                                    "RAKTAR_NEV": "NULL",
                                    "Átlagos listaár": "195"
                                },
                                {
                                    "KAT_NEV": "könyv",
                                    "RAKTAR_NEV": "Báthory",
                                    "Átlagos listaár": "674"
                                },
                                {
                                    "KAT_NEV": "könyv",
                                    "RAKTAR_NEV": "Havanna",
                                    "Átlagos listaár": "585,83"
                                },
                                {
                                    "KAT_NEV": "könyv",
                                    "RAKTAR_NEV": "Lapos",
                                    "Átlagos listaár": "587,5"
                                },
                                {
                                    "KAT_NEV": "könyv",
                                    "RAKTAR_NEV": "NAGY",
                                    "Átlagos listaár": "711"
                                },
                                {
                                    "KAT_NEV": "könyv",
                                    "RAKTAR_NEV": "Veresegyházi",
                                    "Átlagos listaár": "606,67"
                                },
                                {
                                    "KAT_NEV": "könyv",
                                    "RAKTAR_NEV": "NULL",
                                    "Átlagos listaár": "621,13"
                                },
                                {
                                    "KAT_NEV": "körző",
                                    "RAKTAR_NEV": "Havanna",
                                    "Átlagos listaár": "30"
                                },
                                {
                                    "KAT_NEV": "körző",
                                    "RAKTAR_NEV": "NAGY",
                                    "Átlagos listaár": "161"
                                },
                                {
                                    "KAT_NEV": "körző",
                                    "RAKTAR_NEV": "Veresegyházi",
                                    "Átlagos listaár": "243"
                                },
                                {
                                    "KAT_NEV": "körző",
                                    "RAKTAR_NEV": "NULL",
                                    "Átlagos listaár": "144,67"
                                },
                                {
                                    "KAT_NEV": "kosztüm",
                                    "RAKTAR_NEV": "Nagyszeben",
                                    "Átlagos listaár": "46000"
                                },
                                {
                                    "KAT_NEV": "kosztüm",
                                    "RAKTAR_NEV": "Toldy",
                                    "Átlagos listaár": "39000"
                                },
                                {
                                    "KAT_NEV": "kosztüm",
                                    "RAKTAR_NEV": "NULL",
                                    "Átlagos listaár": "42500"
                                },
                                {
                                    "KAT_NEV": "kreatív",
                                    "RAKTAR_NEV": "Havanna",
                                    "Átlagos listaár": "4"
                                },
                                {
                                    "KAT_NEV": "kreatív",
                                    "RAKTAR_NEV": "NAGY",
                                    "Átlagos listaár": "13"
                                },
                                {
                                    "KAT_NEV": "kreatív",
                                    "RAKTAR_NEV": "NULL",
                                    "Átlagos listaár": "8,5"
                                },
                                {
                                    "KAT_NEV": "kulcstartó",
                                    "RAKTAR_NEV": "Havanna",
                                    "Átlagos listaár": "122,5"
                                },
                                {
                                    "KAT_NEV": "kulcstartó",
                                    "RAKTAR_NEV": "Lapos",
                                    "Átlagos listaár": "106,67"
                                },
                                {
                                    "KAT_NEV": "kulcstartó",
                                    "RAKTAR_NEV": "NULL",
                                    "Átlagos listaár": "115,71"
                                },
                                {
                                    "KAT_NEV": "labda",
                                    "RAKTAR_NEV": "Báthory",
                                    "Átlagos listaár": "110"
                                },
                                {
                                    "KAT_NEV": "labda",
                                    "RAKTAR_NEV": "Havanna",
                                    "Átlagos listaár": "81"
                                },
                                {
                                    "KAT_NEV": "labda",
                                    "RAKTAR_NEV": "NULL",
                                    "Átlagos listaár": "95,5"
                                },
                                {
                                    "KAT_NEV": "levélpapír",
                                    "RAKTAR_NEV": "Báthory",
                                    "Átlagos listaár": "129"
                                },
                                {
                                    "KAT_NEV": "levélpapír",
                                    "RAKTAR_NEV": "Veresegyházi",
                                    "Átlagos listaár": "77,6"
                                },
                                {
                                    "KAT_NEV": "levélpapír",
                                    "RAKTAR_NEV": "NULL",
                                    "Átlagos listaár": "92,29"
                                },
                                {
                                    "KAT_NEV": "lufi",
                                    "RAKTAR_NEV": "Báthory",
                                    "Átlagos listaár": "15"
                                },
                                {
                                    "KAT_NEV": "lufi",
                                    "RAKTAR_NEV": "Veresegyházi",
                                    "Átlagos listaár": "11"
                                },
                                {
                                    "KAT_NEV": "lufi",
                                    "RAKTAR_NEV": "NULL",
                                    "Átlagos listaár": "13"
                                },
                                {
                                    "KAT_NEV": "lyukasztó",
                                    "RAKTAR_NEV": "Báthory",
                                    "Átlagos listaár": "526"
                                },
                                {
                                    "KAT_NEV": "lyukasztó",
                                    "RAKTAR_NEV": "Lapos",
                                    "Átlagos listaár": "765"
                                },
                                {
                                    "KAT_NEV": "lyukasztó",
                                    "RAKTAR_NEV": "NULL",
                                    "Átlagos listaár": "645,5"
                                },
                                {
                                    "KAT_NEV": "mappa",
                                    "RAKTAR_NEV": "Báthory",
                                    "Átlagos listaár": "203"
                                },
                                {
                                    "KAT_NEV": "mappa",
                                    "RAKTAR_NEV": "Havanna",
                                    "Átlagos listaár": "221,67"
                                },
                                {
                                    "KAT_NEV": "mappa",
                                    "RAKTAR_NEV": "Lapos",
                                    "Átlagos listaár": "272"
                                },
                                {
                                    "KAT_NEV": "mappa",
                                    "RAKTAR_NEV": "Veresegyházi",
                                    "Átlagos listaár": "956,5"
                                },
                                {
                                    "KAT_NEV": "mappa",
                                    "RAKTAR_NEV": "NULL",
                                    "Átlagos listaár": "392"
                                },
                                {
                                    "KAT_NEV": "matrica",
                                    "RAKTAR_NEV": "Báthory",
                                    "Átlagos listaár": "168"
                                },
                                {
                                    "KAT_NEV": "matrica",
                                    "RAKTAR_NEV": "Havanna",
                                    "Átlagos listaár": "161"
                                },
                                {
                                    "KAT_NEV": "matrica",
                                    "RAKTAR_NEV": "Lapos",
                                    "Átlagos listaár": "120,25"
                                },
                                {
                                    "KAT_NEV": "matrica",
                                    "RAKTAR_NEV": "NAGY",
                                    "Átlagos listaár": "53,33"
                                },
                                {
                                    "KAT_NEV": "matrica",
                                    "RAKTAR_NEV": "Veresegyházi",
                                    "Átlagos listaár": "93"
                                },
                                {
                                    "KAT_NEV": "matrica",
                                    "RAKTAR_NEV": "NULL",
                                    "Átlagos listaár": "106,3"
                                },
                                {
                                    "KAT_NEV": "meghívó",
                                    "RAKTAR_NEV": "Lapos",
                                    "Átlagos listaár": "59"
                                },
                                {
                                    "KAT_NEV": "meghívó",
                                    "RAKTAR_NEV": "NAGY",
                                    "Átlagos listaár": "162"
                                },
                                {
                                    "KAT_NEV": "meghívó",
                                    "RAKTAR_NEV": "Veresegyházi",
                                    "Átlagos listaár": "63"
                                },
                                {
                                    "KAT_NEV": "meghívó",
                                    "RAKTAR_NEV": "NULL",
                                    "Átlagos listaár": "111,5"
                                },
                                {
                                    "KAT_NEV": "miliméterpapír",
                                    "RAKTAR_NEV": "Veresegyházi",
                                    "Átlagos listaár": "8"
                                },
                                {
                                    "KAT_NEV": "miliméterpapír",
                                    "RAKTAR_NEV": "NULL",
                                    "Átlagos listaár": "8"
                                },
                                {
                                    "KAT_NEV": "munkafüzet",
                                    "RAKTAR_NEV": "Báthory",
                                    "Átlagos listaár": "198"
                                },
                                {
                                    "KAT_NEV": "munkafüzet",
                                    "RAKTAR_NEV": "Havanna",
                                    "Átlagos listaár": "785"
                                },
                                {
                                    "KAT_NEV": "munkafüzet",
                                    "RAKTAR_NEV": "Lapos",
                                    "Átlagos listaár": "403"
                                },
                                {
                                    "KAT_NEV": "munkafüzet",
                                    "RAKTAR_NEV": "NAGY",
                                    "Átlagos listaár": "315"
                                },
                                {
                                    "KAT_NEV": "munkafüzet",
                                    "RAKTAR_NEV": "Veresegyházi",
                                    "Átlagos listaár": "363"
                                },
                                {
                                    "KAT_NEV": "munkafüzet",
                                    "RAKTAR_NEV": "NULL",
                                    "Átlagos listaár": "385,33"
                                },
                                {
                                    "KAT_NEV": "műnyomó",
                                    "RAKTAR_NEV": "Havanna",
                                    "Átlagos listaár": "3"
                                },
                                {
                                    "KAT_NEV": "műnyomó",
                                    "RAKTAR_NEV": "NULL",
                                    "Átlagos listaár": "3"
                                },
                                {
                                    "KAT_NEV": "naptár",
                                    "RAKTAR_NEV": "Havanna",
                                    "Átlagos listaár": "89"
                                },
                                {
                                    "KAT_NEV": "naptár",
                                    "RAKTAR_NEV": "NULL",
                                    "Átlagos listaár": "89"
                                },
                                {
                                    "KAT_NEV": "naptárhát",
                                    "RAKTAR_NEV": "Havanna",
                                    "Átlagos listaár": "15"
                                },
                                {
                                    "KAT_NEV": "naptárhát",
                                    "RAKTAR_NEV": "Lapos",
                                    "Átlagos listaár": "78"
                                },
                                {
                                    "KAT_NEV": "naptárhát",
                                    "RAKTAR_NEV": "NULL",
                                    "Átlagos listaár": "46,5"
                                },
                                {
                                    "KAT_NEV": "névjegytartó",
                                    "RAKTAR_NEV": "Lapos",
                                    "Átlagos listaár": "310"
                                },
                                {
                                    "KAT_NEV": "névjegytartó",
                                    "RAKTAR_NEV": "NULL",
                                    "Átlagos listaár": "310"
                                },
                                {
                                    "KAT_NEV": "női kabát",
                                    "RAKTAR_NEV": "Kisfaludy",
                                    "Átlagos listaár": "24000"
                                },
                                {
                                    "KAT_NEV": "női kabát",
                                    "RAKTAR_NEV": "NULL",
                                    "Átlagos listaár": "24000"
                                },
                                {
                                    "KAT_NEV": "női nadrág",
                                    "RAKTAR_NEV": "Nagyszeben",
                                    "Átlagos listaár": "8290"
                                },
                                {
                                    "KAT_NEV": "női nadrág",
                                    "RAKTAR_NEV": "NULL",
                                    "Átlagos listaár": "8290"
                                },
                                {
                                    "KAT_NEV": "notesz",
                                    "RAKTAR_NEV": "Lapos",
                                    "Átlagos listaár": "96"
                                },
                                {
                                    "KAT_NEV": "notesz",
                                    "RAKTAR_NEV": "NAGY",
                                    "Átlagos listaár": "103"
                                },
                                {
                                    "KAT_NEV": "notesz",
                                    "RAKTAR_NEV": "Veresegyházi",
                                    "Átlagos listaár": "50"
                                },
                                {
                                    "KAT_NEV": "notesz",
                                    "RAKTAR_NEV": "NULL",
                                    "Átlagos listaár": "79"
                                },
                                {
                                    "KAT_NEV": "ofszet",
                                    "RAKTAR_NEV": "Báthory",
                                    "Átlagos listaár": "4"
                                },
                                {
                                    "KAT_NEV": "ofszet",
                                    "RAKTAR_NEV": "NULL",
                                    "Átlagos listaár": "4"
                                },
                                {
                                    "KAT_NEV": "oklevél",
                                    "RAKTAR_NEV": "Lapos",
                                    "Átlagos listaár": "51,5"
                                },
                                {
                                    "KAT_NEV": "oklevél",
                                    "RAKTAR_NEV": "NULL",
                                    "Átlagos listaár": "51,5"
                                },
                                {
                                    "KAT_NEV": "olló",
                                    "RAKTAR_NEV": "Báthory",
                                    "Átlagos listaár": "161"
                                },
                                {
                                    "KAT_NEV": "olló",
                                    "RAKTAR_NEV": "Havanna",
                                    "Átlagos listaár": "133"
                                },
                                {
                                    "KAT_NEV": "olló",
                                    "RAKTAR_NEV": "NAGY",
                                    "Átlagos listaár": "176"
                                },
                                {
                                    "KAT_NEV": "olló",
                                    "RAKTAR_NEV": "NULL",
                                    "Átlagos listaár": "156,67"
                                },
                                {
                                    "KAT_NEV": "öntapadó",
                                    "RAKTAR_NEV": "Havanna",
                                    "Átlagos listaár": "59"
                                },
                                {
                                    "KAT_NEV": "öntapadó",
                                    "RAKTAR_NEV": "NAGY",
                                    "Átlagos listaár": "4575"
                                },
                                {
                                    "KAT_NEV": "öntapadó",
                                    "RAKTAR_NEV": "NULL",
                                    "Átlagos listaár": "2317"
                                },
                                {
                                    "KAT_NEV": "papízsebkendő",
                                    "RAKTAR_NEV": "Havanna",
                                    "Átlagos listaár": "20"
                                },
                                {
                                    "KAT_NEV": "papízsebkendő",
                                    "RAKTAR_NEV": "NULL",
                                    "Átlagos listaár": "20"
                                },
                                {
                                    "KAT_NEV": "pausz",
                                    "RAKTAR_NEV": "Havanna",
                                    "Átlagos listaár": "15"
                                },
                                {
                                    "KAT_NEV": "pausz",
                                    "RAKTAR_NEV": "NULL",
                                    "Átlagos listaár": "15"
                                },
                                {
                                    "KAT_NEV": "pénztárbizonylat",
                                    "RAKTAR_NEV": "Báthory",
                                    "Átlagos listaár": "103"
                                },
                                {
                                    "KAT_NEV": "pénztárbizonylat",
                                    "RAKTAR_NEV": "Veresegyházi",
                                    "Átlagos listaár": "144"
                                },
                                {
                                    "KAT_NEV": "pénztárbizonylat",
                                    "RAKTAR_NEV": "NULL",
                                    "Átlagos listaár": "123,5"
                                },
                                {
                                    "KAT_NEV": "pénztárgépszalag",
                                    "RAKTAR_NEV": "Lapos",
                                    "Átlagos listaár": "81"
                                },
                                {
                                    "KAT_NEV": "pénztárgépszalag",
                                    "RAKTAR_NEV": "Veresegyházi",
                                    "Átlagos listaár": "93"
                                },
                                {
                                    "KAT_NEV": "pénztárgépszalag",
                                    "RAKTAR_NEV": "NULL",
                                    "Átlagos listaár": "87"
                                },
                                {
                                    "KAT_NEV": "pixiron",
                                    "RAKTAR_NEV": "Báthory",
                                    "Átlagos listaár": "299"
                                },
                                {
                                    "KAT_NEV": "pixiron",
                                    "RAKTAR_NEV": "Havanna",
                                    "Átlagos listaár": "242,75"
                                },
                                {
                                    "KAT_NEV": "pixiron",
                                    "RAKTAR_NEV": "Lapos",
                                    "Átlagos listaár": "59"
                                },
                                {
                                    "KAT_NEV": "pixiron",
                                    "RAKTAR_NEV": "NAGY",
                                    "Átlagos listaár": "139,67"
                                },
                                {
                                    "KAT_NEV": "pixiron",
                                    "RAKTAR_NEV": "NULL",
                                    "Átlagos listaár": "194,22"
                                },
                                {
                                    "KAT_NEV": "plüss",
                                    "RAKTAR_NEV": "Báthory",
                                    "Átlagos listaár": "161"
                                },
                                {
                                    "KAT_NEV": "plüss",
                                    "RAKTAR_NEV": "Lapos",
                                    "Átlagos listaár": "173"
                                },
                                {
                                    "KAT_NEV": "plüss",
                                    "RAKTAR_NEV": "NAGY",
                                    "Átlagos listaár": "314"
                                },
                                {
                                    "KAT_NEV": "plüss",
                                    "RAKTAR_NEV": "NULL",
                                    "Átlagos listaár": "216"
                                },
                                {
                                    "KAT_NEV": "post-it",
                                    "RAKTAR_NEV": "Báthory",
                                    "Átlagos listaár": "89"
                                },
                                {
                                    "KAT_NEV": "post-it",
                                    "RAKTAR_NEV": "Havanna",
                                    "Átlagos listaár": "36"
                                },
                                {
                                    "KAT_NEV": "post-it",
                                    "RAKTAR_NEV": "NULL",
                                    "Átlagos listaár": "62,5"
                                },
                                {
                                    "KAT_NEV": "radír",
                                    "RAKTAR_NEV": "Báthory",
                                    "Átlagos listaár": "50"
                                },
                                {
                                    "KAT_NEV": "radír",
                                    "RAKTAR_NEV": "Havanna",
                                    "Átlagos listaár": "37,33"
                                },
                                {
                                    "KAT_NEV": "radír",
                                    "RAKTAR_NEV": "Lapos",
                                    "Átlagos listaár": "38"
                                },
                                {
                                    "KAT_NEV": "radír",
                                    "RAKTAR_NEV": "Veresegyházi",
                                    "Átlagos listaár": "44"
                                },
                                {
                                    "KAT_NEV": "radír",
                                    "RAKTAR_NEV": "NULL",
                                    "Átlagos listaár": "40,29"
                                },
                                {
                                    "KAT_NEV": "radírtoll",
                                    "RAKTAR_NEV": "Báthory",
                                    "Átlagos listaár": "119"
                                },
                                {
                                    "KAT_NEV": "radírtoll",
                                    "RAKTAR_NEV": "NAGY",
                                    "Átlagos listaár": "74"
                                },
                                {
                                    "KAT_NEV": "radírtoll",
                                    "RAKTAR_NEV": "NULL",
                                    "Átlagos listaár": "96,5"
                                },
                                {
                                    "KAT_NEV": "ragasztó",
                                    "RAKTAR_NEV": "Báthory",
                                    "Átlagos listaár": "293"
                                },
                                {
                                    "KAT_NEV": "ragasztó",
                                    "RAKTAR_NEV": "Havanna",
                                    "Átlagos listaár": "116"
                                },
                                {
                                    "KAT_NEV": "ragasztó",
                                    "RAKTAR_NEV": "Lapos",
                                    "Átlagos listaár": "95,5"
                                },
                                {
                                    "KAT_NEV": "ragasztó",
                                    "RAKTAR_NEV": "NAGY",
                                    "Átlagos listaár": "111"
                                },
                                {
                                    "KAT_NEV": "ragasztó",
                                    "RAKTAR_NEV": "Veresegyházi",
                                    "Átlagos listaár": "285"
                                },
                                {
                                    "KAT_NEV": "ragasztó",
                                    "RAKTAR_NEV": "NULL",
                                    "Átlagos listaár": "162,4"
                                },
                                {
                                    "KAT_NEV": "ragasztószalag",
                                    "RAKTAR_NEV": "Báthory",
                                    "Átlagos listaár": "63"
                                },
                                {
                                    "KAT_NEV": "ragasztószalag",
                                    "RAKTAR_NEV": "Lapos",
                                    "Átlagos listaár": "35"
                                },
                                {
                                    "KAT_NEV": "ragasztószalag",
                                    "RAKTAR_NEV": "Veresegyházi",
                                    "Átlagos listaár": "166"
                                },
                                {
                                    "KAT_NEV": "ragasztószalag",
                                    "RAKTAR_NEV": "NULL",
                                    "Átlagos listaár": "74,75"
                                },
                                {
                                    "KAT_NEV": "rágógumi",
                                    "RAKTAR_NEV": "Lapos",
                                    "Átlagos listaár": "89"
                                },
                                {
                                    "KAT_NEV": "rágógumi",
                                    "RAKTAR_NEV": "NULL",
                                    "Átlagos listaár": "89"
                                },
                                {
                                    "KAT_NEV": "rajzlap",
                                    "RAKTAR_NEV": "Lapos",
                                    "Átlagos listaár": "342"
                                },
                                {
                                    "KAT_NEV": "rajzlap",
                                    "RAKTAR_NEV": "NAGY",
                                    "Átlagos listaár": "28"
                                },
                                {
                                    "KAT_NEV": "rajzlap",
                                    "RAKTAR_NEV": "NULL",
                                    "Átlagos listaár": "185"
                                },
                                {
                                    "KAT_NEV": "rajzszeg",
                                    "RAKTAR_NEV": "Havanna",
                                    "Átlagos listaár": "106"
                                },
                                {
                                    "KAT_NEV": "rajzszeg",
                                    "RAKTAR_NEV": "Veresegyházi",
                                    "Átlagos listaár": "63"
                                },
                                {
                                    "KAT_NEV": "rajzszeg",
                                    "RAKTAR_NEV": "NULL",
                                    "Átlagos listaár": "84,5"
                                },
                                {
                                    "KAT_NEV": "regiszteres füzet",
                                    "RAKTAR_NEV": "Lapos",
                                    "Átlagos listaár": "256"
                                },
                                {
                                    "KAT_NEV": "regiszteres füzet",
                                    "RAKTAR_NEV": "NAGY",
                                    "Átlagos listaár": "203"
                                },
                                {
                                    "KAT_NEV": "regiszteres füzet",
                                    "RAKTAR_NEV": "NULL",
                                    "Átlagos listaár": "229,5"
                                },
                                {
                                    "KAT_NEV": "sál",
                                    "RAKTAR_NEV": "Kisfaludy",
                                    "Átlagos listaár": "1990"
                                },
                                {
                                    "KAT_NEV": "sál",
                                    "RAKTAR_NEV": "NULL",
                                    "Átlagos listaár": "1990"
                                },
                                {
                                    "KAT_NEV": "spirál",
                                    "RAKTAR_NEV": "Lapos",
                                    "Átlagos listaár": "45"
                                },
                                {
                                    "KAT_NEV": "spirál",
                                    "RAKTAR_NEV": "NULL",
                                    "Átlagos listaár": "45"
                                },
                                {
                                    "KAT_NEV": "strandlabda",
                                    "RAKTAR_NEV": "Havanna",
                                    "Átlagos listaár": "356"
                                },
                                {
                                    "KAT_NEV": "strandlabda",
                                    "RAKTAR_NEV": "NULL",
                                    "Átlagos listaár": "356"
                                },
                                {
                                    "KAT_NEV": "szalvéta",
                                    "RAKTAR_NEV": "Báthory",
                                    "Átlagos listaár": "175"
                                },
                                {
                                    "KAT_NEV": "szalvéta",
                                    "RAKTAR_NEV": "Havanna",
                                    "Átlagos listaár": "168,5"
                                },
                                {
                                    "KAT_NEV": "szalvéta",
                                    "RAKTAR_NEV": "Lapos",
                                    "Átlagos listaár": "133"
                                },
                                {
                                    "KAT_NEV": "szalvéta",
                                    "RAKTAR_NEV": "NAGY",
                                    "Átlagos listaár": "183"
                                },
                                {
                                    "KAT_NEV": "szalvéta",
                                    "RAKTAR_NEV": "Veresegyházi",
                                    "Átlagos listaár": "118"
                                },
                                {
                                    "KAT_NEV": "szalvéta",
                                    "RAKTAR_NEV": "NULL",
                                    "Átlagos listaár": "157,67"
                                },
                                {
                                    "KAT_NEV": "számológép",
                                    "RAKTAR_NEV": "NAGY",
                                    "Átlagos listaár": "1173"
                                },
                                {
                                    "KAT_NEV": "számológép",
                                    "RAKTAR_NEV": "Veresegyházi",
                                    "Átlagos listaár": "508"
                                },
                                {
                                    "KAT_NEV": "számológép",
                                    "RAKTAR_NEV": "NULL",
                                    "Átlagos listaár": "840,5"
                                },
                                {
                                    "KAT_NEV": "szemetes",
                                    "RAKTAR_NEV": "Báthory",
                                    "Átlagos listaár": "129"
                                },
                                {
                                    "KAT_NEV": "szemetes",
                                    "RAKTAR_NEV": "NULL",
                                    "Átlagos listaár": "129"
                                },
                                {
                                    "KAT_NEV": "színes",
                                    "RAKTAR_NEV": "Báthory",
                                    "Átlagos listaár": "161"
                                },
                                {
                                    "KAT_NEV": "színes",
                                    "RAKTAR_NEV": "Havanna",
                                    "Átlagos listaár": "99"
                                },
                                {
                                    "KAT_NEV": "színes",
                                    "RAKTAR_NEV": "NULL",
                                    "Átlagos listaár": "130"
                                },
                                {
                                    "KAT_NEV": "szögmérő",
                                    "RAKTAR_NEV": "Lapos",
                                    "Átlagos listaár": "8"
                                },
                                {
                                    "KAT_NEV": "szögmérő",
                                    "RAKTAR_NEV": "Veresegyházi",
                                    "Átlagos listaár": "17,5"
                                },
                                {
                                    "KAT_NEV": "szögmérő",
                                    "RAKTAR_NEV": "NULL",
                                    "Átlagos listaár": "14,33"
                                },
                                {
                                    "KAT_NEV": "szövegkiemelő",
                                    "RAKTAR_NEV": "Báthory",
                                    "Átlagos listaár": "140"
                                },
                                {
                                    "KAT_NEV": "szövegkiemelő",
                                    "RAKTAR_NEV": "Havanna",
                                    "Átlagos listaár": "89"
                                },
                                {
                                    "KAT_NEV": "szövegkiemelő",
                                    "RAKTAR_NEV": "Lapos",
                                    "Átlagos listaár": "93"
                                },
                                {
                                    "KAT_NEV": "szövegkiemelő",
                                    "RAKTAR_NEV": "NAGY",
                                    "Átlagos listaár": "78"
                                },
                                {
                                    "KAT_NEV": "szövegkiemelő",
                                    "RAKTAR_NEV": "Veresegyházi",
                                    "Átlagos listaár": "103"
                                },
                                {
                                    "KAT_NEV": "szövegkiemelő",
                                    "RAKTAR_NEV": "NULL",
                                    "Átlagos listaár": "100,6"
                                },
                                {
                                    "KAT_NEV": "táblafilc",
                                    "RAKTAR_NEV": "Lapos",
                                    "Átlagos listaár": "633"
                                },
                                {
                                    "KAT_NEV": "táblafilc",
                                    "RAKTAR_NEV": "NULL",
                                    "Átlagos listaár": "633"
                                },
                                {
                                    "KAT_NEV": "tapétavágó",
                                    "RAKTAR_NEV": "Veresegyházi",
                                    "Átlagos listaár": "40"
                                },
                                {
                                    "KAT_NEV": "tapétavágó",
                                    "RAKTAR_NEV": "NULL",
                                    "Átlagos listaár": "40"
                                },
                                {
                                    "KAT_NEV": "tempera",
                                    "RAKTAR_NEV": "Havanna",
                                    "Átlagos listaár": "72"
                                },
                                {
                                    "KAT_NEV": "tempera",
                                    "RAKTAR_NEV": "NULL",
                                    "Átlagos listaár": "72"
                                },
                                {
                                    "KAT_NEV": "térképtű",
                                    "RAKTAR_NEV": "Veresegyházi",
                                    "Átlagos listaár": "103"
                                },
                                {
                                    "KAT_NEV": "térképtű",
                                    "RAKTAR_NEV": "NULL",
                                    "Átlagos listaár": "103"
                                },
                                {
                                    "KAT_NEV": "tintapatron",
                                    "RAKTAR_NEV": "Báthory",
                                    "Átlagos listaár": "184,5"
                                },
                                {
                                    "KAT_NEV": "tintapatron",
                                    "RAKTAR_NEV": "Lapos",
                                    "Átlagos listaár": "11"
                                },
                                {
                                    "KAT_NEV": "tintapatron",
                                    "RAKTAR_NEV": "NULL",
                                    "Átlagos listaár": "126,67"
                                },
                                {
                                    "KAT_NEV": "toll",
                                    "RAKTAR_NEV": "Lapos",
                                    "Átlagos listaár": "80"
                                },
                                {
                                    "KAT_NEV": "toll",
                                    "RAKTAR_NEV": "NAGY",
                                    "Átlagos listaár": "74"
                                },
                                {
                                    "KAT_NEV": "toll",
                                    "RAKTAR_NEV": "NULL",
                                    "Átlagos listaár": "77"
                                },
                                {
                                    "KAT_NEV": "tollbetét",
                                    "RAKTAR_NEV": "Báthory",
                                    "Átlagos listaár": "45,67"
                                },
                                {
                                    "KAT_NEV": "tollbetét",
                                    "RAKTAR_NEV": "Havanna",
                                    "Átlagos listaár": "44"
                                },
                                {
                                    "KAT_NEV": "tollbetét",
                                    "RAKTAR_NEV": "Lapos",
                                    "Átlagos listaár": "68"
                                },
                                {
                                    "KAT_NEV": "tollbetét",
                                    "RAKTAR_NEV": "NAGY",
                                    "Átlagos listaár": "80"
                                },
                                {
                                    "KAT_NEV": "tollbetét",
                                    "RAKTAR_NEV": "Veresegyházi",
                                    "Átlagos listaár": "180,17"
                                },
                                {
                                    "KAT_NEV": "tollbetét",
                                    "RAKTAR_NEV": "NULL",
                                    "Átlagos listaár": "101,67"
                                },
                                {
                                    "KAT_NEV": "tolltartó",
                                    "RAKTAR_NEV": "Báthory",
                                    "Átlagos listaár": "622"
                                },
                                {
                                    "KAT_NEV": "tolltartó",
                                    "RAKTAR_NEV": "Havanna",
                                    "Átlagos listaár": "655"
                                },
                                {
                                    "KAT_NEV": "tolltartó",
                                    "RAKTAR_NEV": "Lapos",
                                    "Átlagos listaár": "765"
                                },
                                {
                                    "KAT_NEV": "tolltartó",
                                    "RAKTAR_NEV": "NAGY",
                                    "Átlagos listaár": "367,5"
                                },
                                {
                                    "KAT_NEV": "tolltartó",
                                    "RAKTAR_NEV": "NULL",
                                    "Átlagos listaár": "574,43"
                                },
                                {
                                    "KAT_NEV": "töltőtoll",
                                    "RAKTAR_NEV": "NAGY",
                                    "Átlagos listaár": "493"
                                },
                                {
                                    "KAT_NEV": "töltőtoll",
                                    "RAKTAR_NEV": "NULL",
                                    "Átlagos listaár": "493"
                                },
                                {
                                    "KAT_NEV": "toner",
                                    "RAKTAR_NEV": "Havanna",
                                    "Átlagos listaár": "14250"
                                },
                                {
                                    "KAT_NEV": "toner",
                                    "RAKTAR_NEV": "NULL",
                                    "Átlagos listaár": "14250"
                                },
                                {
                                    "KAT_NEV": "tűzőgép",
                                    "RAKTAR_NEV": "Havanna",
                                    "Átlagos listaár": "372"
                                },
                                {
                                    "KAT_NEV": "tűzőgép",
                                    "RAKTAR_NEV": "NAGY",
                                    "Átlagos listaár": "818,5"
                                },
                                {
                                    "KAT_NEV": "tűzőgép",
                                    "RAKTAR_NEV": "Veresegyházi",
                                    "Átlagos listaár": "1269"
                                },
                                {
                                    "KAT_NEV": "tűzőgép",
                                    "RAKTAR_NEV": "NULL",
                                    "Átlagos listaár": "819,83"
                                },
                                {
                                    "KAT_NEV": "tűzőkapocs",
                                    "RAKTAR_NEV": "Báthory",
                                    "Átlagos listaár": "44"
                                },
                                {
                                    "KAT_NEV": "tűzőkapocs",
                                    "RAKTAR_NEV": "Lapos",
                                    "Átlagos listaár": "34"
                                },
                                {
                                    "KAT_NEV": "tűzőkapocs",
                                    "RAKTAR_NEV": "NULL",
                                    "Átlagos listaár": "39"
                                },
                                {
                                    "KAT_NEV": "vízfesték",
                                    "RAKTAR_NEV": "Báthory",
                                    "Átlagos listaár": "229,5"
                                },
                                {
                                    "KAT_NEV": "vízfesték",
                                    "RAKTAR_NEV": "Veresegyházi",
                                    "Átlagos listaár": "178"
                                },
                                {
                                    "KAT_NEV": "vízfesték",
                                    "RAKTAR_NEV": "NULL",
                                    "Átlagos listaár": "203,75"
                                },
                                {
                                    "KAT_NEV": "vonalzó",
                                    "RAKTAR_NEV": "Báthory",
                                    "Átlagos listaár": "30"
                                },
                                {
                                    "KAT_NEV": "vonalzó",
                                    "RAKTAR_NEV": "Havanna",
                                    "Átlagos listaár": "39,33"
                                },
                                {
                                    "KAT_NEV": "vonalzó",
                                    "RAKTAR_NEV": "Lapos",
                                    "Átlagos listaár": "30"
                                },
                                {
                                    "KAT_NEV": "vonalzó",
                                    "RAKTAR_NEV": "Veresegyházi",
                                    "Átlagos listaár": "33"
                                },
                                {
                                    "KAT_NEV": "vonalzó",
                                    "RAKTAR_NEV": "NULL",
                                    "Átlagos listaár": "35,17"
                                },
                                {
                                    "KAT_NEV": "zászló",
                                    "RAKTAR_NEV": "NAGY",
                                    "Átlagos listaár": "20"
                                },
                                {
                                    "KAT_NEV": "zászló",
                                    "RAKTAR_NEV": "NULL",
                                    "Átlagos listaár": "20"
                                },
                                {
                                    "KAT_NEV": "zseléstoll",
                                    "RAKTAR_NEV": "Báthory",
                                    "Átlagos listaár": "161,33"
                                },
                                {
                                    "KAT_NEV": "zseléstoll",
                                    "RAKTAR_NEV": "Lapos",
                                    "Átlagos listaár": "66"
                                },
                                {
                                    "KAT_NEV": "zseléstoll",
                                    "RAKTAR_NEV": "NULL",
                                    "Átlagos listaár": "137,5"
                                }
                            ]
                        },
                        "text/html": [
                            "<table>",
                            "<tr><th>KAT_NEV</th><th>RAKTAR_NEV</th><th>Átlagos listaár</th></tr>",
                            "<tr><td>ajándék tárgy</td><td>Lapos</td><td>73</td></tr>",
                            "<tr><td>ajándék tárgy</td><td>NAGY</td><td>76,5</td></tr>",
                            "<tr><td>ajándék tárgy</td><td>NULL</td><td>75,33</td></tr>",
                            "<tr><td>ajándék tasak</td><td>Báthory</td><td>162,5</td></tr>",
                            "<tr><td>ajándék tasak</td><td>Havanna</td><td>104,38</td></tr>",
                            "<tr><td>ajándék tasak</td><td>Lapos</td><td>193,67</td></tr>",
                            "<tr><td>ajándék tasak</td><td>Veresegyházi</td><td>88,4</td></tr>",
                            "<tr><td>ajándék tasak</td><td>NULL</td><td>125,4</td></tr>",
                            "<tr><td>álarc</td><td>Báthory</td><td>144</td></tr>",
                            "<tr><td>álarc</td><td>Havanna</td><td>116,5</td></tr>",
                            "<tr><td>álarc</td><td>NULL</td><td>125,67</td></tr>",
                            "<tr><td>alkalmi</td><td>KIS</td><td>24450</td></tr>",
                            "<tr><td>alkalmi</td><td>Toldy</td><td>16900</td></tr>",
                            "<tr><td>alkalmi</td><td>NULL</td><td>21933,33</td></tr>",
                            "<tr><td>alufólia</td><td>Lapos</td><td>118</td></tr>",
                            "<tr><td>alufólia</td><td>Veresegyházi</td><td>214</td></tr>",
                            "<tr><td>alufólia</td><td>NULL</td><td>166</td></tr>",
                            "<tr><td>árazószalag</td><td>Lapos</td><td>106</td></tr>",
                            "<tr><td>árazószalag</td><td>NULL</td><td>106</td></tr>",
                            "<tr><td>átírótömb</td><td>Havanna</td><td>115</td></tr>",
                            "<tr><td>átírótömb</td><td>NULL</td><td>115</td></tr>",
                            "<tr><td>beíró</td><td>NAGY</td><td>228</td></tr>",
                            "<tr><td>beíró</td><td>NULL</td><td>228</td></tr>",
                            "<tr><td>beírókönyv</td><td>Havanna</td><td>133</td></tr>",
                            "<tr><td>beírókönyv</td><td>NAGY</td><td>328</td></tr>",
                            "<tr><td>beírókönyv</td><td>NULL</td><td>230,5</td></tr>",
                            "<tr><td>bélyegző</td><td>Báthory</td><td>1147</td></tr>",
                            "<tr><td>bélyegző</td><td>Havanna</td><td>780</td></tr>",
                            "<tr><td>bélyegző</td><td>Veresegyházi</td><td>1013,5</td></tr>",
                            "<tr><td>bélyegző</td><td>NULL</td><td>988,5</td></tr>",
                            "<tr><td>bélyegzőfesték</td><td>Lapos</td><td>297</td></tr>",
                            "<tr><td>bélyegzőfesték</td><td>NULL</td><td>297</td></tr>",
                            "<tr><td>boríték</td><td>Báthory</td><td>39</td></tr>",
                            "<tr><td>boríték</td><td>Havanna</td><td>18</td></tr>",
                            "<tr><td>boríték</td><td>Lapos</td><td>6</td></tr>",
                            "<tr><td>boríték</td><td>NAGY</td><td>15</td></tr>",
                            "<tr><td>boríték</td><td>Veresegyházi</td><td>8</td></tr>",
                            "<tr><td>boríték</td><td>NULL</td><td>14,57</td></tr>",
                            "<tr><td>cd tok</td><td>Havanna</td><td>30</td></tr>",
                            "<tr><td>cd tok</td><td>NULL</td><td>30</td></tr>",
                            "<tr><td>celofán</td><td>Havanna</td><td>59,5</td></tr>",
                            "<tr><td>celofán</td><td>NULL</td><td>59,5</td></tr>",
                            "<tr><td>ceruza</td><td>Báthory</td><td>49,4</td></tr>",
                            "<tr><td>ceruza</td><td>Havanna</td><td>11</td></tr>",
                            "<tr><td>ceruza</td><td>Lapos</td><td>50,25</td></tr>",
                            "<tr><td>ceruza</td><td>NAGY</td><td>65,25</td></tr>",
                            "<tr><td>ceruza</td><td>Veresegyházi</td><td>40</td></tr>",
                            "<tr><td>ceruza</td><td>NULL</td><td>48,42</td></tr>",
                            "<tr><td>címke</td><td>Báthory</td><td>28,5</td></tr>",
                            "<tr><td>címke</td><td>Lapos</td><td>20</td></tr>",
                            "<tr><td>címke</td><td>NULL</td><td>25,67</td></tr>",
                            "<tr><td>color copy</td><td>Lapos</td><td>14</td></tr>",
                            "<tr><td>color copy</td><td>NAGY</td><td>757</td></tr>",
                            "<tr><td>color copy</td><td>Veresegyházi</td><td>12,5</td></tr>",
                            "<tr><td>color copy</td><td>NULL</td><td>310,6</td></tr>",
                            "<tr><td>csomagoló</td><td>Báthory</td><td>89</td></tr>",
                            "<tr><td>csomagoló</td><td>Havanna</td><td>110</td></tr>",
                            "<tr><td>csomagoló</td><td>NULL</td><td>99,5</td></tr>",
                            "<tr><td>csomagoló papír</td><td>Báthory</td><td>121,5</td></tr>",
                            "<tr><td>csomagoló papír</td><td>Lapos</td><td>96</td></tr>",
                            "<tr><td>csomagoló papír</td><td>NAGY</td><td>88,5</td></tr>",
                            "<tr><td>csomagoló papír</td><td>Veresegyházi</td><td>106</td></tr>",
                            "<tr><td>csomagoló papír</td><td>NULL</td><td>102,57</td></tr>",
                            "<tr><td>dekor</td><td>Báthory</td><td>3</td></tr>",
                            "<tr><td>dekor</td><td>Havanna</td><td>23</td></tr>",
                            "<tr><td>dekor</td><td>NAGY</td><td>44</td></tr>",
                            "<tr><td>dekor</td><td>Veresegyházi</td><td>15</td></tr>",
                            "<tr><td>dekor</td><td>NULL</td><td>21,25</td></tr>",
                            "<tr><td>dipa</td><td>Lapos</td><td>9</td></tr>",
                            "<tr><td>dipa</td><td>NULL</td><td>9</td></tr>",
                            "<tr><td>díszdoboz</td><td>Báthory</td><td>66</td></tr>",
                            "<tr><td>díszdoboz</td><td>Lapos</td><td>61</td></tr>",
                            "<tr><td>díszdoboz</td><td>NAGY</td><td>44</td></tr>",
                            "<tr><td>díszdoboz</td><td>NULL</td><td>57</td></tr>",
                            "<tr><td>díszkötöző</td><td>Havanna</td><td>25</td></tr>",
                            "<tr><td>díszkötöző</td><td>Veresegyházi</td><td>81</td></tr>",
                            "<tr><td>díszkötöző</td><td>NULL</td><td>36,2</td></tr>",
                            "<tr><td>dvd</td><td>Lapos</td><td>133</td></tr>",
                            "<tr><td>dvd</td><td>NULL</td><td>133</td></tr>",
                            "<tr><td>ecset</td><td>Báthory</td><td>79</td></tr>",
                            "<tr><td>ecset</td><td>Havanna</td><td>85,33</td></tr>",
                            "<tr><td>ecset</td><td>Lapos</td><td>60</td></tr>",
                            "<tr><td>ecset</td><td>NAGY</td><td>65</td></tr>",
                            "<tr><td>ecset</td><td>Veresegyházi</td><td>33</td></tr>",
                            "<tr><td>ecset</td><td>NULL</td><td>70,43</td></tr>",
                            "<tr><td>előlap</td><td>NAGY</td><td>25</td></tr>",
                            "<tr><td>előlap</td><td>NULL</td><td>25</td></tr>",
                            "<tr><td>emlékkönyv</td><td>Báthory</td><td>382,5</td></tr>",
                            "<tr><td>emlékkönyv</td><td>Veresegyházi</td><td>526</td></tr>",
                            "<tr><td>emlékkönyv</td><td>NULL</td><td>430,33</td></tr>",
                            "<tr><td>emléklap</td><td>Báthory</td><td>26</td></tr>",
                            "<tr><td>emléklap</td><td>NULL</td><td>26</td></tr>",
                            "<tr><td>fax papír</td><td>Lapos</td><td>161</td></tr>",
                            "<tr><td>fax papír</td><td>NULL</td><td>161</td></tr>",
                            "<tr><td>fehérnemű</td><td>KIS</td><td>240</td></tr>",
                            "<tr><td>fehérnemű</td><td>Kisfaludy</td><td>390</td></tr>",
                            "<tr><td>fehérnemű</td><td>Nagyszeben</td><td>690</td></tr>",
                            "<tr><td>fehérnemű</td><td>Toldy</td><td>790</td></tr>",
                            "<tr><td>fehérnemű</td><td>NULL</td><td>561,43</td></tr>",
                            "<tr><td>fénymásoló papír</td><td>Lapos</td><td>786,5</td></tr>",
                            "<tr><td>fénymásoló papír</td><td>NAGY</td><td>728</td></tr>",
                            "<tr><td>fénymásoló papír</td><td>Veresegyházi</td><td>1087</td></tr>",
                            "<tr><td>fénymásoló papír</td><td>NULL</td><td>895</td></tr>",
                            "<tr><td>férfi ing</td><td>Kisfaludy</td><td>6490</td></tr>",
                            "<tr><td>férfi ing</td><td>NULL</td><td>6490</td></tr>",
                            "<tr><td>férfi kabát</td><td>Kisfaludy</td><td>22000</td></tr>",
                            "<tr><td>férfi kabát</td><td>NULL</td><td>22000</td></tr>",
                            "<tr><td>férfi nadrág</td><td>Kisfaludy</td><td>11900</td></tr>",
                            "<tr><td>férfi nadrág</td><td>Toldy</td><td>7890</td></tr>",
                            "<tr><td>férfi nadrág</td><td>NULL</td><td>9895</td></tr>",
                            "<tr><td>festékpatron</td><td>Veresegyházi</td><td>625</td></tr>",
                            "<tr><td>festékpatron</td><td>NULL</td><td>625</td></tr>",
                            "<tr><td>filctoll</td><td>Báthory</td><td>46</td></tr>",
                            "<tr><td>filctoll</td><td>Havanna</td><td>147,25</td></tr>",
                            "<tr><td>filctoll</td><td>Lapos</td><td>225,67</td></tr>",
                            "<tr><td>filctoll</td><td>NAGY</td><td>211,6</td></tr>",
                            "<tr><td>filctoll</td><td>NULL</td><td>182,31</td></tr>",
                            "<tr><td>floppy</td><td>Báthory</td><td>51</td></tr>",
                            "<tr><td>floppy</td><td>NULL</td><td>51</td></tr>",
                            "<tr><td>fólia</td><td>Havanna</td><td>42</td></tr>",
                            "<tr><td>fólia</td><td>Lapos</td><td>44</td></tr>",
                            "<tr><td>fólia</td><td>NULL</td><td>42,67</td></tr>",
                            "<tr><td>fotópapír</td><td>Lapos</td><td>30</td></tr>",
                            "<tr><td>fotópapír</td><td>NULL</td><td>30</td></tr>",
                            "<tr><td>füzet</td><td>Báthory</td><td>97,5</td></tr>",
                            "<tr><td>füzet</td><td>Havanna</td><td>111</td></tr>",
                            "<tr><td>füzet</td><td>Lapos</td><td>64,67</td></tr>",
                            "<tr><td>füzet</td><td>NAGY</td><td>206</td></tr>",
                            "<tr><td>füzet</td><td>Veresegyházi</td><td>59,5</td></tr>",
                            "<tr><td>füzet</td><td>NULL</td><td>95,18</td></tr>",
                            "<tr><td>füzetborító</td><td>Báthory</td><td>107</td></tr>",
                            "<tr><td>füzetborító</td><td>Lapos</td><td>23,5</td></tr>",
                            "<tr><td>füzetborító</td><td>Nagyszeben</td><td>19</td></tr>",
                            "<tr><td>füzetborító</td><td>Veresegyházi</td><td>9</td></tr>",
                            "<tr><td>füzetborító</td><td>NULL</td><td>42,57</td></tr>",
                            "<tr><td>füzettartó</td><td>Báthory</td><td>411</td></tr>",
                            "<tr><td>füzettartó</td><td>Lapos</td><td>203</td></tr>",
                            "<tr><td>füzettartó</td><td>Veresegyházi</td><td>529,5</td></tr>",
                            "<tr><td>füzettartó</td><td>NULL</td><td>418,25</td></tr>",
                            "<tr><td>gemkapocs</td><td>Báthory</td><td>48</td></tr>",
                            "<tr><td>gemkapocs</td><td>Havanna</td><td>30</td></tr>",
                            "<tr><td>gemkapocs</td><td>NULL</td><td>39</td></tr>",
                            "<tr><td>gémkapocs</td><td>Havanna</td><td>44</td></tr>",
                            "<tr><td>gémkapocs</td><td>NAGY</td><td>103</td></tr>",
                            "<tr><td>gémkapocs</td><td>NULL</td><td>73,5</td></tr>",
                            "<tr><td>genoterm</td><td>Báthory</td><td>89</td></tr>",
                            "<tr><td>genoterm</td><td>NULL</td><td>89</td></tr>",
                            "<tr><td>genotherm</td><td>Báthory</td><td>110</td></tr>",
                            "<tr><td>genotherm</td><td>Havanna</td><td>8</td></tr>",
                            "<tr><td>genotherm</td><td>Lapos</td><td>63</td></tr>",
                            "<tr><td>genotherm</td><td>NULL</td><td>60,33</td></tr>",
                            "<tr><td>golyóstoll</td><td>Báthory</td><td>203,5</td></tr>",
                            "<tr><td>golyóstoll</td><td>Havanna</td><td>187,75</td></tr>",
                            "<tr><td>golyóstoll</td><td>Lapos</td><td>277,6</td></tr>",
                            "<tr><td>golyóstoll</td><td>NAGY</td><td>513,75</td></tr>",
                            "<tr><td>golyóstoll</td><td>Veresegyházi</td><td>178,8</td></tr>",
                            "<tr><td>golyóstoll</td><td>NULL</td><td>255,88</td></tr>",
                            "<tr><td>gumigyűrű</td><td>Lapos</td><td>19</td></tr>",
                            "<tr><td>gumigyűrű</td><td>NULL</td><td>19</td></tr>",
                            "<tr><td>gyermek cipő</td><td>Kisfaludy</td><td>7450</td></tr>",
                            "<tr><td>gyermek cipő</td><td>Nagyszeben</td><td>7900</td></tr>",
                            "<tr><td>gyermek cipő</td><td>Toldy</td><td>7600</td></tr>",
                            "<tr><td>gyermek cipő</td><td>NULL</td><td>7600</td></tr>",
                            "<tr><td>gyermek kabát</td><td>Kisfaludy</td><td>8900</td></tr>",
                            "<tr><td>gyermek kabát</td><td>NULL</td><td>8900</td></tr>",
                            "<tr><td>gyermek nadrág</td><td>Kisfaludy</td><td>1290</td></tr>",
                            "<tr><td>gyermek nadrág</td><td>Toldy</td><td>3756,67</td></tr>",
                            "<tr><td>gyermek nadrág</td><td>NULL</td><td>3140</td></tr>",
                            "<tr><td>gyermek póló</td><td>Toldy</td><td>3900</td></tr>",
                            "<tr><td>gyermek póló</td><td>NULL</td><td>3900</td></tr>",
                            "<tr><td>gyorsfűző</td><td>Báthory</td><td>18</td></tr>",
                            "<tr><td>gyorsfűző</td><td>Havanna</td><td>35</td></tr>",
                            "<tr><td>gyorsfűző</td><td>NAGY</td><td>30</td></tr>",
                            "<tr><td>gyorsfűző</td><td>NULL</td><td>27,67</td></tr>",
                            "<tr><td>gyurma</td><td>Havanna</td><td>228</td></tr>",
                            "<tr><td>gyurma</td><td>Lapos</td><td>121</td></tr>",
                            "<tr><td>gyurma</td><td>NAGY</td><td>161</td></tr>",
                            "<tr><td>gyurma</td><td>Veresegyházi</td><td>180</td></tr>",
                            "<tr><td>gyurma</td><td>NULL</td><td>172,5</td></tr>",
                            "<tr><td>gyűrűskönyv</td><td>Báthory</td><td>184</td></tr>",
                            "<tr><td>gyűrűskönyv</td><td>Lapos</td><td>298</td></tr>",
                            "<tr><td>gyűrűskönyv</td><td>Veresegyházi</td><td>699</td></tr>",
                            "<tr><td>gyűrűskönyv</td><td>NULL</td><td>355,4</td></tr>",
                            "<tr><td>hajgumi</td><td>Havanna</td><td>66</td></tr>",
                            "<tr><td>hajgumi</td><td>NULL</td><td>66</td></tr>",
                            "<tr><td>határidő napló</td><td>Lapos</td><td>596</td></tr>",
                            "<tr><td>határidő napló</td><td>NULL</td><td>596</td></tr>",
                            "<tr><td>hegyező</td><td>Havanna</td><td>452,5</td></tr>",
                            "<tr><td>hegyező</td><td>Veresegyházi</td><td>26,5</td></tr>",
                            "<tr><td>hegyező</td><td>NULL</td><td>239,5</td></tr>",
                            "<tr><td>hegyző</td><td>Báthory</td><td>180</td></tr>",
                            "<tr><td>hegyző</td><td>Lapos</td><td>70</td></tr>",
                            "<tr><td>hegyző</td><td>NULL</td><td>125</td></tr>",
                            "<tr><td>hibajavító</td><td>Báthory</td><td>230,67</td></tr>",
                            "<tr><td>hibajavító</td><td>Havanna</td><td>794</td></tr>",
                            "<tr><td>hibajavító</td><td>Lapos</td><td>81</td></tr>",
                            "<tr><td>hibajavító</td><td>NAGY</td><td>185</td></tr>",
                            "<tr><td>hibajavító</td><td>Veresegyházi</td><td>278</td></tr>",
                            "<tr><td>hibajavító</td><td>NULL</td><td>290</td></tr>",
                            "<tr><td>hűtőmágnes</td><td>Báthory</td><td>24</td></tr>",
                            "<tr><td>hűtőmágnes</td><td>Havanna</td><td>169</td></tr>",
                            "<tr><td>hűtőmágnes</td><td>NULL</td><td>96,5</td></tr>",
                            "<tr><td>indigó</td><td>NAGY</td><td>13,5</td></tr>",
                            "<tr><td>indigó</td><td>NULL</td><td>13,5</td></tr>",
                            "<tr><td>írásvetítő fólia</td><td>Havanna</td><td>81</td></tr>",
                            "<tr><td>írásvetítő fólia</td><td>NULL</td><td>81</td></tr>",
                            "<tr><td>iratgyűjtő</td><td>Havanna</td><td>76</td></tr>",
                            "<tr><td>iratgyűjtő</td><td>Veresegyházi</td><td>19</td></tr>",
                            "<tr><td>iratgyűjtő</td><td>NULL</td><td>57</td></tr>",
                            "<tr><td>iratrendező</td><td>Lapos</td><td>243</td></tr>",
                            "<tr><td>iratrendező</td><td>NAGY</td><td>259</td></tr>",
                            "<tr><td>iratrendező</td><td>NULL</td><td>251</td></tr>",
                            "<tr><td>iratsín</td><td>Báthory</td><td>44</td></tr>",
                            "<tr><td>iratsín</td><td>Veresegyházi</td><td>89</td></tr>",
                            "<tr><td>iratsín</td><td>NULL</td><td>66,5</td></tr>",
                            "<tr><td>irattartó</td><td>Báthory</td><td>66</td></tr>",
                            "<tr><td>irattartó</td><td>Havanna</td><td>214</td></tr>",
                            "<tr><td>irattartó</td><td>NULL</td><td>140</td></tr>",
                            "<tr><td>irodaszer</td><td>NAGY</td><td>59</td></tr>",
                            "<tr><td>irodaszer</td><td>NULL</td><td>59</td></tr>",
                            "<tr><td>írólap</td><td>Havanna</td><td>31,5</td></tr>",
                            "<tr><td>írólap</td><td>NULL</td><td>31,5</td></tr>",
                            "<tr><td>ironbél</td><td>Báthory</td><td>74</td></tr>",
                            "<tr><td>ironbél</td><td>NAGY</td><td>36</td></tr>",
                            "<tr><td>ironbél</td><td>Veresegyházi</td><td>53,33</td></tr>",
                            "<tr><td>ironbél</td><td>NULL</td><td>54</td></tr>",
                            "<tr><td>iskolaszer</td><td>Báthory</td><td>102</td></tr>",
                            "<tr><td>iskolaszer</td><td>Havanna</td><td>134,2</td></tr>",
                            "<tr><td>iskolaszer</td><td>Lapos</td><td>161</td></tr>",
                            "<tr><td>iskolaszer</td><td>NAGY</td><td>50</td></tr>",
                            "<tr><td>iskolaszer</td><td>Veresegyházi</td><td>49,25</td></tr>",
                            "<tr><td>iskolaszer</td><td>NULL</td><td>84,92</td></tr>",
                            "<tr><td>játékautó</td><td>Báthory</td><td>109</td></tr>",
                            "<tr><td>játékautó</td><td>NULL</td><td>109</td></tr>",
                            "<tr><td>jelzőkréta</td><td>NAGY</td><td>48</td></tr>",
                            "<tr><td>jelzőkréta</td><td>NULL</td><td>48</td></tr>",
                            "<tr><td>kapocskiszedő</td><td>Havanna</td><td>106</td></tr>",
                            "<tr><td>kapocskiszedő</td><td>NULL</td><td>106</td></tr>",
                            "<tr><td>karton</td><td>Báthory</td><td>89</td></tr>",
                            "<tr><td>karton</td><td>Havanna</td><td>38</td></tr>",
                            "<tr><td>karton</td><td>Lapos</td><td>25</td></tr>",
                            "<tr><td>karton</td><td>NAGY</td><td>42</td></tr>",
                            "<tr><td>karton</td><td>Veresegyházi</td><td>40</td></tr>",
                            "<tr><td>karton</td><td>NULL</td><td>46</td></tr>",
                            "<tr><td>kártya</td><td>Veresegyházi</td><td>131</td></tr>",
                            "<tr><td>kártya</td><td>NULL</td><td>131</td></tr>",
                            "<tr><td>képeslap</td><td>Báthory</td><td>43,5</td></tr>",
                            "<tr><td>képeslap</td><td>Havanna</td><td>71</td></tr>",
                            "<tr><td>képeslap</td><td>Lapos</td><td>81,75</td></tr>",
                            "<tr><td>képeslap</td><td>NAGY</td><td>58,25</td></tr>",
                            "<tr><td>képeslap</td><td>Veresegyházi</td><td>34,33</td></tr>",
                            "<tr><td>képeslap</td><td>NULL</td><td>60,19</td></tr>",
                            "<tr><td>képkirakó</td><td>Báthory</td><td>195</td></tr>",
                            "<tr><td>képkirakó</td><td>NULL</td><td>195</td></tr>",
                            "<tr><td>könyv</td><td>Báthory</td><td>674</td></tr>",
                            "<tr><td>könyv</td><td>Havanna</td><td>585,83</td></tr>",
                            "<tr><td>könyv</td><td>Lapos</td><td>587,5</td></tr>",
                            "<tr><td>könyv</td><td>NAGY</td><td>711</td></tr>",
                            "<tr><td>könyv</td><td>Veresegyházi</td><td>606,67</td></tr>",
                            "<tr><td>könyv</td><td>NULL</td><td>621,13</td></tr>",
                            "<tr><td>körző</td><td>Havanna</td><td>30</td></tr>",
                            "<tr><td>körző</td><td>NAGY</td><td>161</td></tr>",
                            "<tr><td>körző</td><td>Veresegyházi</td><td>243</td></tr>",
                            "<tr><td>körző</td><td>NULL</td><td>144,67</td></tr>",
                            "<tr><td>kosztüm</td><td>Nagyszeben</td><td>46000</td></tr>",
                            "<tr><td>kosztüm</td><td>Toldy</td><td>39000</td></tr>",
                            "<tr><td>kosztüm</td><td>NULL</td><td>42500</td></tr>",
                            "<tr><td>kreatív</td><td>Havanna</td><td>4</td></tr>",
                            "<tr><td>kreatív</td><td>NAGY</td><td>13</td></tr>",
                            "<tr><td>kreatív</td><td>NULL</td><td>8,5</td></tr>",
                            "<tr><td>kulcstartó</td><td>Havanna</td><td>122,5</td></tr>",
                            "<tr><td>kulcstartó</td><td>Lapos</td><td>106,67</td></tr>",
                            "<tr><td>kulcstartó</td><td>NULL</td><td>115,71</td></tr>",
                            "<tr><td>labda</td><td>Báthory</td><td>110</td></tr>",
                            "<tr><td>labda</td><td>Havanna</td><td>81</td></tr>",
                            "<tr><td>labda</td><td>NULL</td><td>95,5</td></tr>",
                            "<tr><td>levélpapír</td><td>Báthory</td><td>129</td></tr>",
                            "<tr><td>levélpapír</td><td>Veresegyházi</td><td>77,6</td></tr>",
                            "<tr><td>levélpapír</td><td>NULL</td><td>92,29</td></tr>",
                            "<tr><td>lufi</td><td>Báthory</td><td>15</td></tr>",
                            "<tr><td>lufi</td><td>Veresegyházi</td><td>11</td></tr>",
                            "<tr><td>lufi</td><td>NULL</td><td>13</td></tr>",
                            "<tr><td>lyukasztó</td><td>Báthory</td><td>526</td></tr>",
                            "<tr><td>lyukasztó</td><td>Lapos</td><td>765</td></tr>",
                            "<tr><td>lyukasztó</td><td>NULL</td><td>645,5</td></tr>",
                            "<tr><td>mappa</td><td>Báthory</td><td>203</td></tr>",
                            "<tr><td>mappa</td><td>Havanna</td><td>221,67</td></tr>",
                            "<tr><td>mappa</td><td>Lapos</td><td>272</td></tr>",
                            "<tr><td>mappa</td><td>Veresegyházi</td><td>956,5</td></tr>",
                            "<tr><td>mappa</td><td>NULL</td><td>392</td></tr>",
                            "<tr><td>matrica</td><td>Báthory</td><td>168</td></tr>",
                            "<tr><td>matrica</td><td>Havanna</td><td>161</td></tr>",
                            "<tr><td>matrica</td><td>Lapos</td><td>120,25</td></tr>",
                            "<tr><td>matrica</td><td>NAGY</td><td>53,33</td></tr>",
                            "<tr><td>matrica</td><td>Veresegyházi</td><td>93</td></tr>",
                            "<tr><td>matrica</td><td>NULL</td><td>106,3</td></tr>",
                            "<tr><td>meghívó</td><td>Lapos</td><td>59</td></tr>",
                            "<tr><td>meghívó</td><td>NAGY</td><td>162</td></tr>",
                            "<tr><td>meghívó</td><td>Veresegyházi</td><td>63</td></tr>",
                            "<tr><td>meghívó</td><td>NULL</td><td>111,5</td></tr>",
                            "<tr><td>miliméterpapír</td><td>Veresegyházi</td><td>8</td></tr>",
                            "<tr><td>miliméterpapír</td><td>NULL</td><td>8</td></tr>",
                            "<tr><td>munkafüzet</td><td>Báthory</td><td>198</td></tr>",
                            "<tr><td>munkafüzet</td><td>Havanna</td><td>785</td></tr>",
                            "<tr><td>munkafüzet</td><td>Lapos</td><td>403</td></tr>",
                            "<tr><td>munkafüzet</td><td>NAGY</td><td>315</td></tr>",
                            "<tr><td>munkafüzet</td><td>Veresegyházi</td><td>363</td></tr>",
                            "<tr><td>munkafüzet</td><td>NULL</td><td>385,33</td></tr>",
                            "<tr><td>műnyomó</td><td>Havanna</td><td>3</td></tr>",
                            "<tr><td>műnyomó</td><td>NULL</td><td>3</td></tr>",
                            "<tr><td>naptár</td><td>Havanna</td><td>89</td></tr>",
                            "<tr><td>naptár</td><td>NULL</td><td>89</td></tr>",
                            "<tr><td>naptárhát</td><td>Havanna</td><td>15</td></tr>",
                            "<tr><td>naptárhát</td><td>Lapos</td><td>78</td></tr>",
                            "<tr><td>naptárhát</td><td>NULL</td><td>46,5</td></tr>",
                            "<tr><td>névjegytartó</td><td>Lapos</td><td>310</td></tr>",
                            "<tr><td>névjegytartó</td><td>NULL</td><td>310</td></tr>",
                            "<tr><td>női kabát</td><td>Kisfaludy</td><td>24000</td></tr>",
                            "<tr><td>női kabát</td><td>NULL</td><td>24000</td></tr>",
                            "<tr><td>női nadrág</td><td>Nagyszeben</td><td>8290</td></tr>",
                            "<tr><td>női nadrág</td><td>NULL</td><td>8290</td></tr>",
                            "<tr><td>notesz</td><td>Lapos</td><td>96</td></tr>",
                            "<tr><td>notesz</td><td>NAGY</td><td>103</td></tr>",
                            "<tr><td>notesz</td><td>Veresegyházi</td><td>50</td></tr>",
                            "<tr><td>notesz</td><td>NULL</td><td>79</td></tr>",
                            "<tr><td>ofszet</td><td>Báthory</td><td>4</td></tr>",
                            "<tr><td>ofszet</td><td>NULL</td><td>4</td></tr>",
                            "<tr><td>oklevél</td><td>Lapos</td><td>51,5</td></tr>",
                            "<tr><td>oklevél</td><td>NULL</td><td>51,5</td></tr>",
                            "<tr><td>olló</td><td>Báthory</td><td>161</td></tr>",
                            "<tr><td>olló</td><td>Havanna</td><td>133</td></tr>",
                            "<tr><td>olló</td><td>NAGY</td><td>176</td></tr>",
                            "<tr><td>olló</td><td>NULL</td><td>156,67</td></tr>",
                            "<tr><td>öntapadó</td><td>Havanna</td><td>59</td></tr>",
                            "<tr><td>öntapadó</td><td>NAGY</td><td>4575</td></tr>",
                            "<tr><td>öntapadó</td><td>NULL</td><td>2317</td></tr>",
                            "<tr><td>papízsebkendő</td><td>Havanna</td><td>20</td></tr>",
                            "<tr><td>papízsebkendő</td><td>NULL</td><td>20</td></tr>",
                            "<tr><td>pausz</td><td>Havanna</td><td>15</td></tr>",
                            "<tr><td>pausz</td><td>NULL</td><td>15</td></tr>",
                            "<tr><td>pénztárbizonylat</td><td>Báthory</td><td>103</td></tr>",
                            "<tr><td>pénztárbizonylat</td><td>Veresegyházi</td><td>144</td></tr>",
                            "<tr><td>pénztárbizonylat</td><td>NULL</td><td>123,5</td></tr>",
                            "<tr><td>pénztárgépszalag</td><td>Lapos</td><td>81</td></tr>",
                            "<tr><td>pénztárgépszalag</td><td>Veresegyházi</td><td>93</td></tr>",
                            "<tr><td>pénztárgépszalag</td><td>NULL</td><td>87</td></tr>",
                            "<tr><td>pixiron</td><td>Báthory</td><td>299</td></tr>",
                            "<tr><td>pixiron</td><td>Havanna</td><td>242,75</td></tr>",
                            "<tr><td>pixiron</td><td>Lapos</td><td>59</td></tr>",
                            "<tr><td>pixiron</td><td>NAGY</td><td>139,67</td></tr>",
                            "<tr><td>pixiron</td><td>NULL</td><td>194,22</td></tr>",
                            "<tr><td>plüss</td><td>Báthory</td><td>161</td></tr>",
                            "<tr><td>plüss</td><td>Lapos</td><td>173</td></tr>",
                            "<tr><td>plüss</td><td>NAGY</td><td>314</td></tr>",
                            "<tr><td>plüss</td><td>NULL</td><td>216</td></tr>",
                            "<tr><td>post-it</td><td>Báthory</td><td>89</td></tr>",
                            "<tr><td>post-it</td><td>Havanna</td><td>36</td></tr>",
                            "<tr><td>post-it</td><td>NULL</td><td>62,5</td></tr>",
                            "<tr><td>radír</td><td>Báthory</td><td>50</td></tr>",
                            "<tr><td>radír</td><td>Havanna</td><td>37,33</td></tr>",
                            "<tr><td>radír</td><td>Lapos</td><td>38</td></tr>",
                            "<tr><td>radír</td><td>Veresegyházi</td><td>44</td></tr>",
                            "<tr><td>radír</td><td>NULL</td><td>40,29</td></tr>",
                            "<tr><td>radírtoll</td><td>Báthory</td><td>119</td></tr>",
                            "<tr><td>radírtoll</td><td>NAGY</td><td>74</td></tr>",
                            "<tr><td>radírtoll</td><td>NULL</td><td>96,5</td></tr>",
                            "<tr><td>ragasztó</td><td>Báthory</td><td>293</td></tr>",
                            "<tr><td>ragasztó</td><td>Havanna</td><td>116</td></tr>",
                            "<tr><td>ragasztó</td><td>Lapos</td><td>95,5</td></tr>",
                            "<tr><td>ragasztó</td><td>NAGY</td><td>111</td></tr>",
                            "<tr><td>ragasztó</td><td>Veresegyházi</td><td>285</td></tr>",
                            "<tr><td>ragasztó</td><td>NULL</td><td>162,4</td></tr>",
                            "<tr><td>ragasztószalag</td><td>Báthory</td><td>63</td></tr>",
                            "<tr><td>ragasztószalag</td><td>Lapos</td><td>35</td></tr>",
                            "<tr><td>ragasztószalag</td><td>Veresegyházi</td><td>166</td></tr>",
                            "<tr><td>ragasztószalag</td><td>NULL</td><td>74,75</td></tr>",
                            "<tr><td>rágógumi</td><td>Lapos</td><td>89</td></tr>",
                            "<tr><td>rágógumi</td><td>NULL</td><td>89</td></tr>",
                            "<tr><td>rajzlap</td><td>Lapos</td><td>342</td></tr>",
                            "<tr><td>rajzlap</td><td>NAGY</td><td>28</td></tr>",
                            "<tr><td>rajzlap</td><td>NULL</td><td>185</td></tr>",
                            "<tr><td>rajzszeg</td><td>Havanna</td><td>106</td></tr>",
                            "<tr><td>rajzszeg</td><td>Veresegyházi</td><td>63</td></tr>",
                            "<tr><td>rajzszeg</td><td>NULL</td><td>84,5</td></tr>",
                            "<tr><td>regiszteres füzet</td><td>Lapos</td><td>256</td></tr>",
                            "<tr><td>regiszteres füzet</td><td>NAGY</td><td>203</td></tr>",
                            "<tr><td>regiszteres füzet</td><td>NULL</td><td>229,5</td></tr>",
                            "<tr><td>sál</td><td>Kisfaludy</td><td>1990</td></tr>",
                            "<tr><td>sál</td><td>NULL</td><td>1990</td></tr>",
                            "<tr><td>spirál</td><td>Lapos</td><td>45</td></tr>",
                            "<tr><td>spirál</td><td>NULL</td><td>45</td></tr>",
                            "<tr><td>strandlabda</td><td>Havanna</td><td>356</td></tr>",
                            "<tr><td>strandlabda</td><td>NULL</td><td>356</td></tr>",
                            "<tr><td>szalvéta</td><td>Báthory</td><td>175</td></tr>",
                            "<tr><td>szalvéta</td><td>Havanna</td><td>168,5</td></tr>",
                            "<tr><td>szalvéta</td><td>Lapos</td><td>133</td></tr>",
                            "<tr><td>szalvéta</td><td>NAGY</td><td>183</td></tr>",
                            "<tr><td>szalvéta</td><td>Veresegyházi</td><td>118</td></tr>",
                            "<tr><td>szalvéta</td><td>NULL</td><td>157,67</td></tr>",
                            "<tr><td>számológép</td><td>NAGY</td><td>1173</td></tr>",
                            "<tr><td>számológép</td><td>Veresegyházi</td><td>508</td></tr>",
                            "<tr><td>számológép</td><td>NULL</td><td>840,5</td></tr>",
                            "<tr><td>szemetes</td><td>Báthory</td><td>129</td></tr>",
                            "<tr><td>szemetes</td><td>NULL</td><td>129</td></tr>",
                            "<tr><td>színes</td><td>Báthory</td><td>161</td></tr>",
                            "<tr><td>színes</td><td>Havanna</td><td>99</td></tr>",
                            "<tr><td>színes</td><td>NULL</td><td>130</td></tr>",
                            "<tr><td>szögmérő</td><td>Lapos</td><td>8</td></tr>",
                            "<tr><td>szögmérő</td><td>Veresegyházi</td><td>17,5</td></tr>",
                            "<tr><td>szögmérő</td><td>NULL</td><td>14,33</td></tr>",
                            "<tr><td>szövegkiemelő</td><td>Báthory</td><td>140</td></tr>",
                            "<tr><td>szövegkiemelő</td><td>Havanna</td><td>89</td></tr>",
                            "<tr><td>szövegkiemelő</td><td>Lapos</td><td>93</td></tr>",
                            "<tr><td>szövegkiemelő</td><td>NAGY</td><td>78</td></tr>",
                            "<tr><td>szövegkiemelő</td><td>Veresegyházi</td><td>103</td></tr>",
                            "<tr><td>szövegkiemelő</td><td>NULL</td><td>100,6</td></tr>",
                            "<tr><td>táblafilc</td><td>Lapos</td><td>633</td></tr>",
                            "<tr><td>táblafilc</td><td>NULL</td><td>633</td></tr>",
                            "<tr><td>tapétavágó</td><td>Veresegyházi</td><td>40</td></tr>",
                            "<tr><td>tapétavágó</td><td>NULL</td><td>40</td></tr>",
                            "<tr><td>tempera</td><td>Havanna</td><td>72</td></tr>",
                            "<tr><td>tempera</td><td>NULL</td><td>72</td></tr>",
                            "<tr><td>térképtű</td><td>Veresegyházi</td><td>103</td></tr>",
                            "<tr><td>térképtű</td><td>NULL</td><td>103</td></tr>",
                            "<tr><td>tintapatron</td><td>Báthory</td><td>184,5</td></tr>",
                            "<tr><td>tintapatron</td><td>Lapos</td><td>11</td></tr>",
                            "<tr><td>tintapatron</td><td>NULL</td><td>126,67</td></tr>",
                            "<tr><td>toll</td><td>Lapos</td><td>80</td></tr>",
                            "<tr><td>toll</td><td>NAGY</td><td>74</td></tr>",
                            "<tr><td>toll</td><td>NULL</td><td>77</td></tr>",
                            "<tr><td>tollbetét</td><td>Báthory</td><td>45,67</td></tr>",
                            "<tr><td>tollbetét</td><td>Havanna</td><td>44</td></tr>",
                            "<tr><td>tollbetét</td><td>Lapos</td><td>68</td></tr>",
                            "<tr><td>tollbetét</td><td>NAGY</td><td>80</td></tr>",
                            "<tr><td>tollbetét</td><td>Veresegyházi</td><td>180,17</td></tr>",
                            "<tr><td>tollbetét</td><td>NULL</td><td>101,67</td></tr>",
                            "<tr><td>tolltartó</td><td>Báthory</td><td>622</td></tr>",
                            "<tr><td>tolltartó</td><td>Havanna</td><td>655</td></tr>",
                            "<tr><td>tolltartó</td><td>Lapos</td><td>765</td></tr>",
                            "<tr><td>tolltartó</td><td>NAGY</td><td>367,5</td></tr>",
                            "<tr><td>tolltartó</td><td>NULL</td><td>574,43</td></tr>",
                            "<tr><td>töltőtoll</td><td>NAGY</td><td>493</td></tr>",
                            "<tr><td>töltőtoll</td><td>NULL</td><td>493</td></tr>",
                            "<tr><td>toner</td><td>Havanna</td><td>14250</td></tr>",
                            "<tr><td>toner</td><td>NULL</td><td>14250</td></tr>",
                            "<tr><td>tűzőgép</td><td>Havanna</td><td>372</td></tr>",
                            "<tr><td>tűzőgép</td><td>NAGY</td><td>818,5</td></tr>",
                            "<tr><td>tűzőgép</td><td>Veresegyházi</td><td>1269</td></tr>",
                            "<tr><td>tűzőgép</td><td>NULL</td><td>819,83</td></tr>",
                            "<tr><td>tűzőkapocs</td><td>Báthory</td><td>44</td></tr>",
                            "<tr><td>tűzőkapocs</td><td>Lapos</td><td>34</td></tr>",
                            "<tr><td>tűzőkapocs</td><td>NULL</td><td>39</td></tr>",
                            "<tr><td>vízfesték</td><td>Báthory</td><td>229,5</td></tr>",
                            "<tr><td>vízfesték</td><td>Veresegyházi</td><td>178</td></tr>",
                            "<tr><td>vízfesték</td><td>NULL</td><td>203,75</td></tr>",
                            "<tr><td>vonalzó</td><td>Báthory</td><td>30</td></tr>",
                            "<tr><td>vonalzó</td><td>Havanna</td><td>39,33</td></tr>",
                            "<tr><td>vonalzó</td><td>Lapos</td><td>30</td></tr>",
                            "<tr><td>vonalzó</td><td>Veresegyházi</td><td>33</td></tr>",
                            "<tr><td>vonalzó</td><td>NULL</td><td>35,17</td></tr>",
                            "<tr><td>zászló</td><td>NAGY</td><td>20</td></tr>",
                            "<tr><td>zászló</td><td>NULL</td><td>20</td></tr>",
                            "<tr><td>zseléstoll</td><td>Báthory</td><td>161,33</td></tr>",
                            "<tr><td>zseléstoll</td><td>Lapos</td><td>66</td></tr>",
                            "<tr><td>zseléstoll</td><td>NULL</td><td>137,5</td></tr>",
                            "</table>"
                        ]
                    }
                }
            ],
            "execution_count": 38
        },
        {
            "cell_type": "markdown",
            "source": [
                "14\\. Hány olyan ügyfél van, aki még nem rendelt semmit?\n",
                "\n",
                "Csoportosítsuk őket nem szerint, azon belül életkor szerint!\n",
                "\n",
                "A lista tartalmazza a részösszegeket és a végösszeget is!"
            ],
            "metadata": {
                "azdata_cell_guid": "fe87b801-6db2-45bf-8596-eda982858f2e"
            },
            "attachments": {}
        },
        {
            "cell_type": "code",
            "source": [
                "-- nem, életkor= YEAR(GETDATE)-SZULEV\r\n",
                "SELECT NEM,\r\n",
                "        YEAR(GETDATE())-SZULEV as 'Életkor',\r\n",
                "        COUNT(*) as 'Létszám'\r\n",
                "FROM Ugyfel\r\n",
                "WHERE [LOGIN] NOT IN\r\n",
                "(\r\n",
                "    SELECT [LOGIN]\r\n",
                "    FROM Rendeles\r\n",
                ")\r\n",
                "GROUP BY ROLLUP((NEM), (YEAR(GETDATE())-SZULEV))"
            ],
            "metadata": {
                "azdata_cell_guid": "e158c15c-ee60-4a0a-812b-03e6130dab16",
                "language": "sql"
            },
            "outputs": [
                {
                    "output_type": "display_data",
                    "data": {
                        "text/html": "(12 rows affected)"
                    },
                    "metadata": {}
                },
                {
                    "output_type": "display_data",
                    "data": {
                        "text/html": "Total execution time: 00:00:00.281"
                    },
                    "metadata": {}
                },
                {
                    "output_type": "execute_result",
                    "metadata": {},
                    "execution_count": 45,
                    "data": {
                        "application/vnd.dataresource+json": {
                            "schema": {
                                "fields": [
                                    {
                                        "name": "NEM"
                                    },
                                    {
                                        "name": "Életkor"
                                    },
                                    {
                                        "name": "Létszám"
                                    }
                                ]
                            },
                            "data": [
                                {
                                    "NEM": "F",
                                    "Életkor": "24",
                                    "Létszám": "1"
                                },
                                {
                                    "NEM": "F",
                                    "Életkor": "26",
                                    "Létszám": "1"
                                },
                                {
                                    "NEM": "F",
                                    "Életkor": "28",
                                    "Létszám": "1"
                                },
                                {
                                    "NEM": "F",
                                    "Életkor": "45",
                                    "Létszám": "1"
                                },
                                {
                                    "NEM": "F",
                                    "Életkor": "55",
                                    "Létszám": "1"
                                },
                                {
                                    "NEM": "F",
                                    "Életkor": "56",
                                    "Létszám": "1"
                                },
                                {
                                    "NEM": "F",
                                    "Életkor": "NULL",
                                    "Létszám": "6"
                                },
                                {
                                    "NEM": "N",
                                    "Életkor": "30",
                                    "Létszám": "1"
                                },
                                {
                                    "NEM": "N",
                                    "Életkor": "37",
                                    "Létszám": "1"
                                },
                                {
                                    "NEM": "N",
                                    "Életkor": "49",
                                    "Létszám": "1"
                                },
                                {
                                    "NEM": "N",
                                    "Életkor": "NULL",
                                    "Létszám": "3"
                                },
                                {
                                    "NEM": "NULL",
                                    "Életkor": "NULL",
                                    "Létszám": "9"
                                }
                            ]
                        },
                        "text/html": [
                            "<table>",
                            "<tr><th>NEM</th><th>Életkor</th><th>Létszám</th></tr>",
                            "<tr><td>F</td><td>24</td><td>1</td></tr>",
                            "<tr><td>F</td><td>26</td><td>1</td></tr>",
                            "<tr><td>F</td><td>28</td><td>1</td></tr>",
                            "<tr><td>F</td><td>45</td><td>1</td></tr>",
                            "<tr><td>F</td><td>55</td><td>1</td></tr>",
                            "<tr><td>F</td><td>56</td><td>1</td></tr>",
                            "<tr><td>F</td><td>NULL</td><td>6</td></tr>",
                            "<tr><td>N</td><td>30</td><td>1</td></tr>",
                            "<tr><td>N</td><td>37</td><td>1</td></tr>",
                            "<tr><td>N</td><td>49</td><td>1</td></tr>",
                            "<tr><td>N</td><td>NULL</td><td>3</td></tr>",
                            "<tr><td>NULL</td><td>NULL</td><td>9</td></tr>",
                            "</table>"
                        ]
                    }
                }
            ],
            "execution_count": 45
        },
        {
            "cell_type": "markdown",
            "source": [
                "15\\. Készítsünk listát arról, hogy évente hányszor rendelték meg\n",
                "\n",
                "azokat a termékeket, amelyek kategóriájukban a legdrágábbak!\n",
                "\n",
                "A lista jelenítse meg az évet, a termék nevét és a rendelés számát!\n",
                "\n",
                "Jelenjenek meg a részösszegek és a végösszeg is!"
            ],
            "metadata": {
                "azdata_cell_guid": "b42b866f-f932-463e-80eb-4e3ad73a9fe1"
            },
            "attachments": {}
        },
        {
            "cell_type": "code",
            "source": [
                "-- rend_datum, megnevezes\r\n",
                "SELECT YEAR(REND_DATUM) as 'Év',\r\n",
                "        MEGNEVEZES as 'Termék neve',\r\n",
                "        COUNT(*) as 'Rendelés mennyisége (db)'\r\n",
                "FROM Termek JOIN Rendeles_tetel ON Rendeles_tetel.TERMEKKOD = Termek.TERMEKKOD\r\n",
                "            JOIN Rendeles ON Rendeles.SORSZAM = Rendeles_tetel.SORSZAM\r\n",
                "WHERE LISTAAR =\r\n",
                "(\r\n",
                "    SELECT MAX(LISTAAR)\r\n",
                "    FROM Termek t\r\n",
                "    WHERE Termek.KAT_ID = t.KAT_ID\r\n",
                ")\r\n",
                "GROUP BY ROLLUP(YEAR(REND_DATUM), MEGNEVEZES)"
            ],
            "metadata": {
                "azdata_cell_guid": "374dfc38-959e-411d-90ed-e5d615bc467d",
                "language": "sql"
            },
            "outputs": [
{
    "output_type": "display_data",
    "data": {
        "text/html": "(463 rows affected)"
    },
    "metadata": {}
}, {
    "output_type": "display_data",
    "data": {
        "text/html": "Total execution time: 00:00:01.231"
    },
    "metadata": {}
}, {
    "output_type": "execute_result",
    "metadata": {},
    "execution_count": 46,
    "data": {
        "application/vnd.dataresource+json": {
            "schema": {
                "fields": [
                    {
                        "name": "Év"
                    },
                    {
                        "name": "Termék neve"
                    },
                    {
                        "name": "Rendelés mennyisége (db)"
                    }
                ]
            },
            "data": [
                {
                    "Év": "2015",
                    "Termék neve": "A föld amelyen élünk - Európa földrajza",
                    "Rendelés mennyisége (db)": "95"
                },
                {
                    "Év": "2015",
                    "Termék neve": "A föld amelyen élünk - Hazánk földrajza",
                    "Rendelés mennyisége (db)": "83"
                },
                {
                    "Év": "2015",
                    "Termék neve": "A föld amelyen élünk - Távoli földrészek",
                    "Rendelés mennyisége (db)": "85"
                },
                {
                    "Év": "2015",
                    "Termék neve": "Ajándék cs. húsvéti 200x70",
                    "Rendelés mennyisége (db)": "87"
                },
                {
                    "Év": "2015",
                    "Termék neve": "Ajándék cs. tasak virágos nagy",
                    "Rendelés mennyisége (db)": "77"
                },
                {
                    "Év": "2015",
                    "Termék neve": "Álarc fejdísz",
                    "Rendelés mennyisége (db)": "99"
                },
                {
                    "Év": "2015",
                    "Termék neve": "Álarc szemüveg",
                    "Rendelés mennyisége (db)": "81"
                },
                {
                    "Év": "2015",
                    "Termék neve": "Álló irattartó",
                    "Rendelés mennyisége (db)": "80"
                },
                {
                    "Év": "2015",
                    "Termék neve": "Álló irattartó karton",
                    "Rendelés mennyisége (db)": "93"
                },
                {
                    "Év": "2015",
                    "Termék neve": "Alufólia 20 m-es",
                    "Rendelés mennyisége (db)": "86"
                },
                {
                    "Év": "2015",
                    "Termék neve": "Árazószalag ",
                    "Rendelés mennyisége (db)": "106"
                },
                {
                    "Év": "2015",
                    "Termék neve": "Átírótömb A/6",
                    "Rendelés mennyisége (db)": "81"
                },
                {
                    "Év": "2015",
                    "Termék neve": "Beíró A/5 kockás",
                    "Rendelés mennyisége (db)": "85"
                },
                {
                    "Év": "2015",
                    "Termék neve": "Beírókönyv A4",
                    "Rendelés mennyisége (db)": "85"
                },
                {
                    "Év": "2015",
                    "Termék neve": "Bélyegző pocket",
                    "Rendelés mennyisége (db)": "104"
                },
                {
                    "Év": "2015",
                    "Termék neve": "Bélyegzőfesték ",
                    "Rendelés mennyisége (db)": "94"
                },
                {
                    "Év": "2015",
                    "Termék neve": "Bevételi pénztárbizonylat 3×25",
                    "Rendelés mennyisége (db)": "92"
                },
                {
                    "Év": "2015",
                    "Termék neve": "Boríték légp. kicsi",
                    "Rendelés mennyisége (db)": "83"
                },
                {
                    "Év": "2015",
                    "Termék neve": "CD tartó tok",
                    "Rendelés mennyisége (db)": "94"
                },
                {
                    "Év": "2015",
                    "Termék neve": "Celofán 50 db-os",
                    "Rendelés mennyisége (db)": "74"
                },
                {
                    "Év": "2015",
                    "Termék neve": "Ceruza szén",
                    "Rendelés mennyisége (db)": "83"
                },
                {
                    "Év": "2015",
                    "Termék neve": "Címke WD. állat",
                    "Rendelés mennyisége (db)": "98"
                },
                {
                    "Év": "2015",
                    "Termék neve": "Dekorációs karton arany, ezüst",
                    "Rendelés mennyisége (db)": "78"
                },
                {
                    "Év": "2015",
                    "Termék neve": "Dipa A/4 keretezett",
                    "Rendelés mennyisége (db)": "84"
                },
                {
                    "Év": "2015",
                    "Termék neve": "Díszdoboz tollnak 2 db-os",
                    "Rendelés mennyisége (db)": "87"
                },
                {
                    "Év": "2015",
                    "Termék neve": "Diszkötöző széles szalag",
                    "Rendelés mennyisége (db)": "89"
                },
                {
                    "Év": "2015",
                    "Termék neve": "Dvd",
                    "Rendelés mennyisége (db)": "101"
                },
                {
                    "Év": "2015",
                    "Termék neve": "Ecsetkészlet",
                    "Rendelés mennyisége (db)": "98"
                },
                {
                    "Év": "2015",
                    "Termék neve": "Előlap spirálhoz",
                    "Rendelés mennyisége (db)": "97"
                },
                {
                    "Év": "2015",
                    "Termék neve": "Emlékkönyv",
                    "Rendelés mennyisége (db)": "86"
                },
                {
                    "Év": "2015",
                    "Termék neve": "Emléklap A/5",
                    "Rendelés mennyisége (db)": "105"
                },
                {
                    "Év": "2015",
                    "Termék neve": "Fax papír 15 m",
                    "Rendelés mennyisége (db)": "100"
                },
                {
                    "Év": "2015",
                    "Termék neve": "Fehér másoló A/3",
                    "Rendelés mennyisége (db)": "83"
                },
                {
                    "Év": "2015",
                    "Termék neve": "félfamentes rajzlap A4 (10 lap)",
                    "Rendelés mennyisége (db)": "83"
                },
                {
                    "Év": "2015",
                    "Termék neve": "férfi ing",
                    "Rendelés mennyisége (db)": "304"
                },
                {
                    "Év": "2015",
                    "Termék neve": "férfi szövet kabát",
                    "Rendelés mennyisége (db)": "88"
                },
                {
                    "Év": "2015",
                    "Termék neve": "férfi szövet nadrág",
                    "Rendelés mennyisége (db)": "301"
                },
                {
                    "Év": "2015",
                    "Termék neve": "Festékpatron BCI-3BK",
                    "Rendelés mennyisége (db)": "78"
                },
                {
                    "Év": "2015",
                    "Termék neve": "Filctoll Edding 750",
                    "Rendelés mennyisége (db)": "89"
                },
                {
                    "Év": "2015",
                    "Termék neve": "fiú harisnya",
                    "Rendelés mennyisége (db)": "333"
                },
                {
                    "Év": "2015",
                    "Termék neve": "Floppy lemez",
                    "Rendelés mennyisége (db)": "104"
                },
                {
                    "Év": "2015",
                    "Termék neve": "Fólia tasakos A4 125 mik.",
                    "Rendelés mennyisége (db)": "98"
                },
                {
                    "Év": "2015",
                    "Termék neve": "Fólia tasakos A4100 mik.",
                    "Rendelés mennyisége (db)": "86"
                },
                {
                    "Év": "2015",
                    "Termék neve": "Fotópapír A/4 fényes",
                    "Rendelés mennyisége (db)": "94"
                },
                {
                    "Év": "2015",
                    "Termék neve": "Füzetborító öntapadó tekercses",
                    "Rendelés mennyisége (db)": "73"
                },
                {
                    "Év": "2015",
                    "Termék neve": "Füzettartó A/4 keménytáblás",
                    "Rendelés mennyisége (db)": "88"
                },
                {
                    "Év": "2015",
                    "Termék neve": "G.toll betét Parker ",
                    "Rendelés mennyisége (db)": "83"
                },
                {
                    "Év": "2015",
                    "Termék neve": "Gémkapocs 50-es",
                    "Rendelés mennyisége (db)": "86"
                },
                {
                    "Év": "2015",
                    "Termék neve": "Gemkapocs ICO",
                    "Rendelés mennyisége (db)": "92"
                },
                {
                    "Év": "2015",
                    "Termék neve": "Genoterm HERLITZ 10-es",
                    "Rendelés mennyisége (db)": "87"
                },
                {
                    "Év": "2015",
                    "Termék neve": "Genotherm A4 10db-os",
                    "Rendelés mennyisége (db)": "91"
                },
                {
                    "Év": "2015",
                    "Termék neve": "Golyóstoll 3 funkciós ",
                    "Rendelés mennyisége (db)": "84"
                },
                {
                    "Év": "2015",
                    "Termék neve": "Gumigyűrű",
                    "Rendelés mennyisége (db)": "85"
                },
                {
                    "Év": "2015",
                    "Termék neve": "Gumilabda közepes",
                    "Rendelés mennyisége (db)": "78"
                },
                {
                    "Év": "2015",
                    "Termék neve": "gyermek csizma (fiú)",
                    "Rendelés mennyisége (db)": "339"
                },
                {
                    "Év": "2015",
                    "Termék neve": "gyermek csizma (lány)",
                    "Rendelés mennyisége (db)": "284"
                },
                {
                    "Év": "2015",
                    "Termék neve": "gyermek farmer nadrág (fiú)",
                    "Rendelés mennyisége (db)": "310"
                },
                {
                    "Év": "2015",
                    "Termék neve": "gyermek farmer nadrág (lány)",
                    "Rendelés mennyisége (db)": "353"
                },
                {
                    "Év": "2015",
                    "Termék neve": "gyermek kabát (fiú)",
                    "Rendelés mennyisége (db)": "322"
                },
                {
                    "Év": "2015",
                    "Termék neve": "gyermek kabát (lány)",
                    "Rendelés mennyisége (db)": "325"
                },
                {
                    "Év": "2015",
                    "Termék neve": "gyermek póló (fiú)",
                    "Rendelés mennyisége (db)": "333"
                },
                {
                    "Év": "2015",
                    "Termék neve": "gyermek póló (lány)",
                    "Rendelés mennyisége (db)": "314"
                },
                {
                    "Év": "2015",
                    "Termék neve": "Gyorsfűző műa.",
                    "Rendelés mennyisége (db)": "72"
                },
                {
                    "Év": "2015",
                    "Termék neve": "Gyurma színes natúr",
                    "Rendelés mennyisége (db)": "94"
                },
                {
                    "Év": "2015",
                    "Termék neve": "Gyűrűskönyv színes",
                    "Rendelés mennyisége (db)": "90"
                },
                {
                    "Év": "2015",
                    "Termék neve": "Hajgumi macis",
                    "Rendelés mennyisége (db)": "74"
                },
                {
                    "Év": "2015",
                    "Termék neve": "Határidő napló 2010-s",
                    "Rendelés mennyisége (db)": "100"
                },
                {
                    "Év": "2015",
                    "Termék neve": "házt.csom.  5 ív",
                    "Rendelés mennyisége (db)": "100"
                },
                {
                    "Év": "2015",
                    "Termék neve": "Hegyező gép",
                    "Rendelés mennyisége (db)": "87"
                },
                {
                    "Év": "2015",
                    "Termék neve": "Hegyző fém 2 lyukú",
                    "Rendelés mennyisége (db)": "98"
                },
                {
                    "Év": "2015",
                    "Termék neve": "Hibajav.roll.Pritt 4,2mm",
                    "Rendelés mennyisége (db)": "101"
                },
                {
                    "Év": "2015",
                    "Termék neve": "Hűtőmágnes WD",
                    "Rendelés mennyisége (db)": "88"
                },
                {
                    "Év": "2015",
                    "Termék neve": "Írásvetítő fólia",
                    "Rendelés mennyisége (db)": "102"
                },
                {
                    "Év": "2015",
                    "Termék neve": "Iratsín kék",
                    "Rendelés mennyisége (db)": "84"
                },
                {
                    "Év": "2015",
                    "Termék neve": "irodai tűzőgép",
                    "Rendelés mennyisége (db)": "86"
                },
                {
                    "Év": "2015",
                    "Termék neve": "Írólap 20-50 ",
                    "Rendelés mennyisége (db)": "83"
                },
                {
                    "Év": "2015",
                    "Termék neve": "Iromány fedél feles",
                    "Rendelés mennyisége (db)": "86"
                },
                {
                    "Év": "2015",
                    "Termék neve": "Ironbél HI-POLIMER HB 0,7",
                    "Rendelés mennyisége (db)": "84"
                },
                {
                    "Év": "2015",
                    "Termék neve": "Játékautó elemes",
                    "Rendelés mennyisége (db)": "93"
                },
                {
                    "Év": "2015",
                    "Termék neve": "Jelzőkréta",
                    "Rendelés mennyisége (db)": "95"
                },
                {
                    "Év": "2015",
                    "Termék neve": "Kapocskiszedő",
                    "Rendelés mennyisége (db)": "102"
                },
                {
                    "Év": "2015",
                    "Termék neve": "Kártya mini Magyar",
                    "Rendelés mennyisége (db)": "88"
                },
                {
                    "Év": "2015",
                    "Termék neve": "Képeslap \"Nászajándék\"",
                    "Rendelés mennyisége (db)": "87"
                },
                {
                    "Év": "2015",
                    "Termék neve": "Képkirakó Dirib-darab",
                    "Rendelés mennyisége (db)": "98"
                },
                {
                    "Év": "2015",
                    "Termék neve": "Körző maped",
                    "Rendelés mennyisége (db)": "88"
                },
                {
                    "Év": "2015",
                    "Termék neve": "kosztüm (hosszú)",
                    "Rendelés mennyisége (db)": "333"
                },
                {
                    "Év": "2015",
                    "Termék neve": "Kreatív A/4 120g ",
                    "Rendelés mennyisége (db)": "95"
                },
                {
                    "Év": "2015",
                    "Termék neve": "Kulcstartó intarziás állatos",
                    "Rendelés mennyisége (db)": "89"
                },
                {
                    "Év": "2015",
                    "Termék neve": "Lakk filc Edding 750",
                    "Rendelés mennyisége (db)": "99"
                },
                {
                    "Év": "2015",
                    "Termék neve": "lány harisnya",
                    "Rendelés mennyisége (db)": "291"
                },
                {
                    "Év": "2015",
                    "Termék neve": "Levélpapír szett virágos",
                    "Rendelés mennyisége (db)": "98"
                },
                {
                    "Év": "2015",
                    "Termék neve": "Logikai készlet",
                    "Rendelés mennyisége (db)": "108"
                },
                {
                    "Év": "2015",
                    "Termék neve": "Lufi formázható",
                    "Rendelés mennyisége (db)": "101"
                },
                {
                    "Év": "2015",
                    "Termék neve": "Lyukasztó BOXER",
                    "Rendelés mennyisége (db)": "96"
                },
                {
                    "Év": "2015",
                    "Termék neve": "Mappa bőr A5",
                    "Rendelés mennyisége (db)": "88"
                },
                {
                    "Év": "2015",
                    "Termék neve": "Matrica világítós ",
                    "Rendelés mennyisége (db)": "82"
                },
                {
                    "Év": "2015",
                    "Termék neve": "Meghívó borítékos",
                    "Rendelés mennyisége (db)": "107"
                },
                {
                    "Év": "2015",
                    "Termék neve": "Miliméterpapír",
                    "Rendelés mennyisége (db)": "80"
                },
                {
                    "Év": "2015",
                    "Termék neve": "Műanyag állatok",
                    "Rendelés mennyisége (db)": "95"
                },
                {
                    "Év": "2015",
                    "Termék neve": "Műnyomó 300g 17,5*20",
                    "Rendelés mennyisége (db)": "88"
                },
                {
                    "Év": "2015",
                    "Termék neve": "Naptár 24-es",
                    "Rendelés mennyisége (db)": "92"
                },
                {
                    "Év": "2015",
                    "Termék neve": "Naptárhát nagy",
                    "Rendelés mennyisége (db)": "83"
                },
                {
                    "Év": "2015",
                    "Termék neve": "Névjegytartó kicsi",
                    "Rendelés mennyisége (db)": "95"
                },
                {
                    "Év": "2015",
                    "Termék neve": "női farmer nadrág",
                    "Rendelés mennyisége (db)": "319"
                },
                {
                    "Év": "2015",
                    "Termék neve": "női koktélruha",
                    "Rendelés mennyisége (db)": "329"
                },
                {
                    "Év": "2015",
                    "Termék neve": "női szövet kabát",
                    "Rendelés mennyisége (db)": "319"
                },
                {
                    "Év": "2015",
                    "Termék neve": "Notesz A/5 sima",
                    "Rendelés mennyisége (db)": "102"
                },
                {
                    "Év": "2015",
                    "Termék neve": "Notesz sima spirál College",
                    "Rendelés mennyisége (db)": "70"
                },
                {
                    "Év": "2015",
                    "Termék neve": "Oki toner C",
                    "Rendelés mennyisége (db)": "93"
                },
                {
                    "Év": "2015",
                    "Termék neve": "Oklevél A/4 színes",
                    "Rendelés mennyisége (db)": "90"
                },
                {
                    "Év": "2015",
                    "Termék neve": "Olló Tagit 18 cm-es",
                    "Rendelés mennyisége (db)": "93"
                },
                {
                    "Év": "2015",
                    "Termék neve": "Öntapadó A/4",
                    "Rendelés mennyisége (db)": "83"
                },
                {
                    "Év": "2015",
                    "Termék neve": "Összefoglaló feladatgyüjtemény számtech.",
                    "Rendelés mennyisége (db)": "105"
                },
                {
                    "Év": "2015",
                    "Termék neve": "Papízsebkendő,10db Szindy",
                    "Rendelés mennyisége (db)": "93"
                },
                {
                    "Év": "2015",
                    "Termék neve": "Pausz papír A/4",
                    "Rendelés mennyisége (db)": "78"
                },
                {
                    "Év": "2015",
                    "Termék neve": "Pénztárgépszalag 2pl SC 57.5/60",
                    "Rendelés mennyisége (db)": "98"
                },
                {
                    "Év": "2015",
                    "Termék neve": "Pixiron KOH-I-NOOR",
                    "Rendelés mennyisége (db)": "71"
                },
                {
                    "Év": "2015",
                    "Termék neve": "Plüss sárkány",
                    "Rendelés mennyisége (db)": "89"
                },
                {
                    "Év": "2015",
                    "Termék neve": "Post-it 75×75 100 lapos",
                    "Rendelés mennyisége (db)": "54"
                },
                {
                    "Év": "2015",
                    "Termék neve": "Radír Tikky 30 ",
                    "Rendelés mennyisége (db)": "103"
                },
                {
                    "Év": "2015",
                    "Termék neve": "Radírtoll betét vastag",
                    "Rendelés mennyisége (db)": "83"
                },
                {
                    "Év": "2015",
                    "Termék neve": "Ragasztószalag 19 mm-es SCOTCH+ tépő",
                    "Rendelés mennyisége (db)": "87"
                },
                {
                    "Év": "2015",
                    "Termék neve": "Ragasztószalag széles barna",
                    "Rendelés mennyisége (db)": "96"
                },
                {
                    "Év": "2015",
                    "Termék neve": "Rágógumi Orbit",
                    "Rendelés mennyisége (db)": "78"
                },
                {
                    "Év": "2015",
                    "Termék neve": "Rajzszeg színes",
                    "Rendelés mennyisége (db)": "89"
                },
                {
                    "Év": "2015",
                    "Termék neve": "Regiszteres füzet A4",
                    "Rendelés mennyisége (db)": "94"
                },
                {
                    "Év": "2015",
                    "Termék neve": "sál",
                    "Rendelés mennyisége (db)": "321"
                },
                {
                    "Év": "2015",
                    "Termék neve": "Sp.Füzet A/4  perforált, lyuk.",
                    "Rendelés mennyisége (db)": "74"
                },
                {
                    "Év": "2015",
                    "Termék neve": "Spirál 1/4 ",
                    "Rendelés mennyisége (db)": "86"
                },
                {
                    "Év": "2015",
                    "Termék neve": "Strandlabda ",
                    "Rendelés mennyisége (db)": "95"
                },
                {
                    "Év": "2015",
                    "Termék neve": "Szalvéta gyűjtőknek",
                    "Rendelés mennyisége (db)": "91"
                },
                {
                    "Év": "2015",
                    "Termék neve": "Számológép tudományos",
                    "Rendelés mennyisége (db)": "87"
                },
                {
                    "Év": "2015",
                    "Termék neve": "Szemetes zsák 60 literes",
                    "Rendelés mennyisége (db)": "92"
                },
                {
                    "Év": "2015",
                    "Termék neve": "Színes ceruza 12 szín",
                    "Rendelés mennyisége (db)": "76"
                },
                {
                    "Év": "2015",
                    "Termék neve": "Színes másoló a/4 80g",
                    "Rendelés mennyisége (db)": "90"
                },
                {
                    "Év": "2015",
                    "Termék neve": "Színes ofszet B/4",
                    "Rendelés mennyisége (db)": "93"
                },
                {
                    "Év": "2015",
                    "Termék neve": "Szögmérő 180 fokos műa.",
                    "Rendelés mennyisége (db)": "91"
                },
                {
                    "Év": "2015",
                    "Termék neve": "Szövegkiemelő Staedtler",
                    "Rendelés mennyisége (db)": "79"
                },
                {
                    "Év": "2015",
                    "Termék neve": "Táblafilc",
                    "Rendelés mennyisége (db)": "85"
                },
                {
                    "Év": "2015",
                    "Termék neve": "Tapétavágó kés",
                    "Rendelés mennyisége (db)": "95"
                },
                {
                    "Év": "2015",
                    "Termék neve": "Tempera szóló ezüst",
                    "Rendelés mennyisége (db)": "94"
                },
                {
                    "Év": "2015",
                    "Termék neve": "Térképtű színes",
                    "Rendelés mennyisége (db)": "82"
                },
                {
                    "Év": "2015",
                    "Termék neve": "Tintapatron 30 db-os kék",
                    "Rendelés mennyisége (db)": "93"
                },
                {
                    "Év": "2015",
                    "Termék neve": "Tokos iratrendező",
                    "Rendelés mennyisége (db)": "92"
                },
                {
                    "Év": "2015",
                    "Termék neve": "Toll Centropen roller",
                    "Rendelés mennyisége (db)": "87"
                },
                {
                    "Év": "2015",
                    "Termék neve": "Tolltartó 2 részes NG.",
                    "Rendelés mennyisége (db)": "91"
                },
                {
                    "Év": "2015",
                    "Termék neve": "Töltőtoll tinta ",
                    "Rendelés mennyisége (db)": "91"
                },
                {
                    "Év": "2015",
                    "Termék neve": "Tornazsák",
                    "Rendelés mennyisége (db)": "86"
                },
                {
                    "Év": "2015",
                    "Termék neve": "Tűzőkapocs 10-es",
                    "Rendelés mennyisége (db)": "83"
                },
                {
                    "Év": "2015",
                    "Termék neve": "Vízfesték  12 színű nagy",
                    "Rendelés mennyisége (db)": "101"
                },
                {
                    "Év": "2015",
                    "Termék neve": "Vonalzó 15 cm-es ESSELTE",
                    "Rendelés mennyisége (db)": "92"
                },
                {
                    "Év": "2015",
                    "Termék neve": "Zászló papír",
                    "Rendelés mennyisége (db)": "92"
                },
                {
                    "Év": "2015",
                    "Termék neve": "Zseléstoll Lizzy Card",
                    "Rendelés mennyisége (db)": "94"
                },
                {
                    "Év": "2015",
                    "Termék neve": "NULL",
                    "Rendelés mennyisége (db)": "17587"
                },
                {
                    "Év": "2016",
                    "Termék neve": "A föld amelyen élünk - Európa földrajza",
                    "Rendelés mennyisége (db)": "138"
                },
                {
                    "Év": "2016",
                    "Termék neve": "A föld amelyen élünk - Hazánk földrajza",
                    "Rendelés mennyisége (db)": "139"
                },
                {
                    "Év": "2016",
                    "Termék neve": "A föld amelyen élünk - Távoli földrészek",
                    "Rendelés mennyisége (db)": "116"
                },
                {
                    "Év": "2016",
                    "Termék neve": "Ajándék cs. húsvéti 200x70",
                    "Rendelés mennyisége (db)": "134"
                },
                {
                    "Év": "2016",
                    "Termék neve": "Ajándék cs. tasak virágos nagy",
                    "Rendelés mennyisége (db)": "121"
                },
                {
                    "Év": "2016",
                    "Termék neve": "Álarc fejdísz",
                    "Rendelés mennyisége (db)": "143"
                },
                {
                    "Év": "2016",
                    "Termék neve": "Álarc szemüveg",
                    "Rendelés mennyisége (db)": "125"
                },
                {
                    "Év": "2016",
                    "Termék neve": "Álló irattartó",
                    "Rendelés mennyisége (db)": "121"
                },
                {
                    "Év": "2016",
                    "Termék neve": "Álló irattartó karton",
                    "Rendelés mennyisége (db)": "148"
                },
                {
                    "Év": "2016",
                    "Termék neve": "Alufólia 20 m-es",
                    "Rendelés mennyisége (db)": "128"
                },
                {
                    "Év": "2016",
                    "Termék neve": "Árazószalag ",
                    "Rendelés mennyisége (db)": "137"
                },
                {
                    "Év": "2016",
                    "Termék neve": "Átírótömb A/6",
                    "Rendelés mennyisége (db)": "141"
                },
                {
                    "Év": "2016",
                    "Termék neve": "Beíró A/5 kockás",
                    "Rendelés mennyisége (db)": "137"
                },
                {
                    "Év": "2016",
                    "Termék neve": "Beírókönyv A4",
                    "Rendelés mennyisége (db)": "152"
                },
                {
                    "Év": "2016",
                    "Termék neve": "Bélyegző pocket",
                    "Rendelés mennyisége (db)": "126"
                },
                {
                    "Év": "2016",
                    "Termék neve": "Bélyegzőfesték ",
                    "Rendelés mennyisége (db)": "130"
                },
                {
                    "Év": "2016",
                    "Termék neve": "Bevételi pénztárbizonylat 3×25",
                    "Rendelés mennyisége (db)": "150"
                },
                {
                    "Év": "2016",
                    "Termék neve": "Boríték légp. kicsi",
                    "Rendelés mennyisége (db)": "124"
                },
                {
                    "Év": "2016",
                    "Termék neve": "CD tartó tok",
                    "Rendelés mennyisége (db)": "136"
                },
                {
                    "Év": "2016",
                    "Termék neve": "Celofán 50 db-os",
                    "Rendelés mennyisége (db)": "125"
                },
                {
                    "Év": "2016",
                    "Termék neve": "Ceruza szén",
                    "Rendelés mennyisége (db)": "139"
                },
                {
                    "Év": "2016",
                    "Termék neve": "Címke WD. állat",
                    "Rendelés mennyisége (db)": "158"
                },
                {
                    "Év": "2016",
                    "Termék neve": "Dekorációs karton arany, ezüst",
                    "Rendelés mennyisége (db)": "141"
                },
                {
                    "Év": "2016",
                    "Termék neve": "Dipa A/4 keretezett",
                    "Rendelés mennyisége (db)": "140"
                },
                {
                    "Év": "2016",
                    "Termék neve": "Díszdoboz tollnak 2 db-os",
                    "Rendelés mennyisége (db)": "132"
                },
                {
                    "Év": "2016",
                    "Termék neve": "Diszkötöző széles szalag",
                    "Rendelés mennyisége (db)": "155"
                },
                {
                    "Év": "2016",
                    "Termék neve": "Dvd",
                    "Rendelés mennyisége (db)": "147"
                },
                {
                    "Év": "2016",
                    "Termék neve": "Ecsetkészlet",
                    "Rendelés mennyisége (db)": "134"
                },
                {
                    "Év": "2016",
                    "Termék neve": "Előlap spirálhoz",
                    "Rendelés mennyisége (db)": "143"
                },
                {
                    "Év": "2016",
                    "Termék neve": "Emlékkönyv",
                    "Rendelés mennyisége (db)": "142"
                },
                {
                    "Év": "2016",
                    "Termék neve": "Emléklap A/5",
                    "Rendelés mennyisége (db)": "133"
                },
                {
                    "Év": "2016",
                    "Termék neve": "Fax papír 15 m",
                    "Rendelés mennyisége (db)": "151"
                },
                {
                    "Év": "2016",
                    "Termék neve": "Fehér másoló A/3",
                    "Rendelés mennyisége (db)": "139"
                },
                {
                    "Év": "2016",
                    "Termék neve": "félfamentes rajzlap A4 (10 lap)",
                    "Rendelés mennyisége (db)": "147"
                },
                {
                    "Év": "2016",
                    "Termék neve": "férfi ing",
                    "Rendelés mennyisége (db)": "501"
                },
                {
                    "Év": "2016",
                    "Termék neve": "férfi szövet kabát",
                    "Rendelés mennyisége (db)": "143"
                },
                {
                    "Év": "2016",
                    "Termék neve": "férfi szövet nadrág",
                    "Rendelés mennyisége (db)": "496"
                },
                {
                    "Év": "2016",
                    "Termék neve": "Festékpatron BCI-3BK",
                    "Rendelés mennyisége (db)": "143"
                },
                {
                    "Év": "2016",
                    "Termék neve": "Filctoll Edding 750",
                    "Rendelés mennyisége (db)": "132"
                },
                {
                    "Év": "2016",
                    "Termék neve": "fiú harisnya",
                    "Rendelés mennyisége (db)": "502"
                },
                {
                    "Év": "2016",
                    "Termék neve": "Floppy lemez",
                    "Rendelés mennyisége (db)": "131"
                },
                {
                    "Év": "2016",
                    "Termék neve": "Fólia tasakos A4 125 mik.",
                    "Rendelés mennyisége (db)": "133"
                },
                {
                    "Év": "2016",
                    "Termék neve": "Fólia tasakos A4100 mik.",
                    "Rendelés mennyisége (db)": "120"
                },
                {
                    "Év": "2016",
                    "Termék neve": "Fotópapír A/4 fényes",
                    "Rendelés mennyisége (db)": "143"
                },
                {
                    "Év": "2016",
                    "Termék neve": "Füzetborító öntapadó tekercses",
                    "Rendelés mennyisége (db)": "140"
                },
                {
                    "Év": "2016",
                    "Termék neve": "Füzettartó A/4 keménytáblás",
                    "Rendelés mennyisége (db)": "148"
                },
                {
                    "Év": "2016",
                    "Termék neve": "G.toll betét Parker ",
                    "Rendelés mennyisége (db)": "130"
                },
                {
                    "Év": "2016",
                    "Termék neve": "Gémkapocs 50-es",
                    "Rendelés mennyisége (db)": "145"
                },
                {
                    "Év": "2016",
                    "Termék neve": "Gemkapocs ICO",
                    "Rendelés mennyisége (db)": "130"
                },
                {
                    "Év": "2016",
                    "Termék neve": "Genoterm HERLITZ 10-es",
                    "Rendelés mennyisége (db)": "124"
                },
                {
                    "Év": "2016",
                    "Termék neve": "Genotherm A4 10db-os",
                    "Rendelés mennyisége (db)": "136"
                },
                {
                    "Év": "2016",
                    "Termék neve": "Golyóstoll 3 funkciós ",
                    "Rendelés mennyisége (db)": "142"
                },
                {
                    "Év": "2016",
                    "Termék neve": "Gumigyűrű",
                    "Rendelés mennyisége (db)": "123"
                },
                {
                    "Év": "2016",
                    "Termék neve": "Gumilabda közepes",
                    "Rendelés mennyisége (db)": "140"
                },
                {
                    "Év": "2016",
                    "Termék neve": "gyermek csizma (fiú)",
                    "Rendelés mennyisége (db)": "494"
                },
                {
                    "Év": "2016",
                    "Termék neve": "gyermek csizma (lány)",
                    "Rendelés mennyisége (db)": "494"
                },
                {
                    "Év": "2016",
                    "Termék neve": "gyermek farmer nadrág (fiú)",
                    "Rendelés mennyisége (db)": "543"
                },
                {
                    "Év": "2016",
                    "Termék neve": "gyermek farmer nadrág (lány)",
                    "Rendelés mennyisége (db)": "480"
                },
                {
                    "Év": "2016",
                    "Termék neve": "gyermek kabát (fiú)",
                    "Rendelés mennyisége (db)": "446"
                },
                {
                    "Év": "2016",
                    "Termék neve": "gyermek kabát (lány)",
                    "Rendelés mennyisége (db)": "488"
                },
                {
                    "Év": "2016",
                    "Termék neve": "gyermek póló (fiú)",
                    "Rendelés mennyisége (db)": "511"
                },
                {
                    "Év": "2016",
                    "Termék neve": "gyermek póló (lány)",
                    "Rendelés mennyisége (db)": "510"
                },
                {
                    "Év": "2016",
                    "Termék neve": "Gyorsfűző műa.",
                    "Rendelés mennyisége (db)": "139"
                },
                {
                    "Év": "2016",
                    "Termék neve": "Gyurma színes natúr",
                    "Rendelés mennyisége (db)": "124"
                },
                {
                    "Év": "2016",
                    "Termék neve": "Gyűrűskönyv színes",
                    "Rendelés mennyisége (db)": "140"
                },
                {
                    "Év": "2016",
                    "Termék neve": "Hajgumi macis",
                    "Rendelés mennyisége (db)": "156"
                },
                {
                    "Év": "2016",
                    "Termék neve": "Határidő napló 2010-s",
                    "Rendelés mennyisége (db)": "130"
                },
                {
                    "Év": "2016",
                    "Termék neve": "házt.csom.  5 ív",
                    "Rendelés mennyisége (db)": "134"
                },
                {
                    "Év": "2016",
                    "Termék neve": "Hegyező gép",
                    "Rendelés mennyisége (db)": "149"
                },
                {
                    "Év": "2016",
                    "Termék neve": "Hegyző fém 2 lyukú",
                    "Rendelés mennyisége (db)": "132"
                },
                {
                    "Év": "2016",
                    "Termék neve": "Hibajav.roll.Pritt 4,2mm",
                    "Rendelés mennyisége (db)": "134"
                },
                {
                    "Év": "2016",
                    "Termék neve": "Hűtőmágnes WD",
                    "Rendelés mennyisége (db)": "115"
                },
                {
                    "Év": "2016",
                    "Termék neve": "Írásvetítő fólia",
                    "Rendelés mennyisége (db)": "140"
                },
                {
                    "Év": "2016",
                    "Termék neve": "Iratsín kék",
                    "Rendelés mennyisége (db)": "133"
                },
                {
                    "Év": "2016",
                    "Termék neve": "irodai tűzőgép",
                    "Rendelés mennyisége (db)": "139"
                },
                {
                    "Év": "2016",
                    "Termék neve": "Írólap 20-50 ",
                    "Rendelés mennyisége (db)": "119"
                },
                {
                    "Év": "2016",
                    "Termék neve": "Iromány fedél feles",
                    "Rendelés mennyisége (db)": "152"
                },
                {
                    "Év": "2016",
                    "Termék neve": "Ironbél HI-POLIMER HB 0,7",
                    "Rendelés mennyisége (db)": "121"
                },
                {
                    "Év": "2016",
                    "Termék neve": "Játékautó elemes",
                    "Rendelés mennyisége (db)": "134"
                },
                {
                    "Év": "2016",
                    "Termék neve": "Jelzőkréta",
                    "Rendelés mennyisége (db)": "148"
                },
                {
                    "Év": "2016",
                    "Termék neve": "Kapocskiszedő",
                    "Rendelés mennyisége (db)": "137"
                },
                {
                    "Év": "2016",
                    "Termék neve": "Kártya mini Magyar",
                    "Rendelés mennyisége (db)": "135"
                },
                {
                    "Év": "2016",
                    "Termék neve": "Képeslap \"Nászajándék\"",
                    "Rendelés mennyisége (db)": "112"
                },
                {
                    "Év": "2016",
                    "Termék neve": "Képkirakó Dirib-darab",
                    "Rendelés mennyisége (db)": "132"
                },
                {
                    "Év": "2016",
                    "Termék neve": "Körző maped",
                    "Rendelés mennyisége (db)": "157"
                },
                {
                    "Év": "2016",
                    "Termék neve": "kosztüm (hosszú)",
                    "Rendelés mennyisége (db)": "529"
                },
                {
                    "Év": "2016",
                    "Termék neve": "Kreatív A/4 120g ",
                    "Rendelés mennyisége (db)": "112"
                },
                {
                    "Év": "2016",
                    "Termék neve": "Kulcstartó intarziás állatos",
                    "Rendelés mennyisége (db)": "152"
                },
                {
                    "Év": "2016",
                    "Termék neve": "Lakk filc Edding 750",
                    "Rendelés mennyisége (db)": "147"
                },
                {
                    "Év": "2016",
                    "Termék neve": "lány harisnya",
                    "Rendelés mennyisége (db)": "512"
                },
                {
                    "Év": "2016",
                    "Termék neve": "Levélpapír szett virágos",
                    "Rendelés mennyisége (db)": "133"
                },
                {
                    "Év": "2016",
                    "Termék neve": "Logikai készlet",
                    "Rendelés mennyisége (db)": "134"
                },
                {
                    "Év": "2016",
                    "Termék neve": "Lufi formázható",
                    "Rendelés mennyisége (db)": "131"
                },
                {
                    "Év": "2016",
                    "Termék neve": "Lyukasztó BOXER",
                    "Rendelés mennyisége (db)": "109"
                },
                {
                    "Év": "2016",
                    "Termék neve": "Mappa bőr A5",
                    "Rendelés mennyisége (db)": "143"
                },
                {
                    "Év": "2016",
                    "Termék neve": "Matrica világítós ",
                    "Rendelés mennyisége (db)": "162"
                },
                {
                    "Év": "2016",
                    "Termék neve": "Meghívó borítékos",
                    "Rendelés mennyisége (db)": "133"
                },
                {
                    "Év": "2016",
                    "Termék neve": "Miliméterpapír",
                    "Rendelés mennyisége (db)": "149"
                },
                {
                    "Év": "2016",
                    "Termék neve": "Műanyag állatok",
                    "Rendelés mennyisége (db)": "156"
                },
                {
                    "Év": "2016",
                    "Termék neve": "Műnyomó 300g 17,5*20",
                    "Rendelés mennyisége (db)": "140"
                },
                {
                    "Év": "2016",
                    "Termék neve": "Naptár 24-es",
                    "Rendelés mennyisége (db)": "157"
                },
                {
                    "Év": "2016",
                    "Termék neve": "Naptárhát nagy",
                    "Rendelés mennyisége (db)": "136"
                },
                {
                    "Év": "2016",
                    "Termék neve": "Névjegytartó kicsi",
                    "Rendelés mennyisége (db)": "140"
                },
                {
                    "Év": "2016",
                    "Termék neve": "női farmer nadrág",
                    "Rendelés mennyisége (db)": "521"
                },
                {
                    "Év": "2016",
                    "Termék neve": "női koktélruha",
                    "Rendelés mennyisége (db)": "520"
                },
                {
                    "Év": "2016",
                    "Termék neve": "női szövet kabát",
                    "Rendelés mennyisége (db)": "498"
                },
                {
                    "Év": "2016",
                    "Termék neve": "Notesz A/5 sima",
                    "Rendelés mennyisége (db)": "141"
                },
                {
                    "Év": "2016",
                    "Termék neve": "Notesz sima spirál College",
                    "Rendelés mennyisége (db)": "133"
                },
                {
                    "Év": "2016",
                    "Termék neve": "Oki toner C",
                    "Rendelés mennyisége (db)": "126"
                },
                {
                    "Év": "2016",
                    "Termék neve": "Oklevél A/4 színes",
                    "Rendelés mennyisége (db)": "133"
                },
                {
                    "Év": "2016",
                    "Termék neve": "Olló Tagit 18 cm-es",
                    "Rendelés mennyisége (db)": "151"
                },
                {
                    "Év": "2016",
                    "Termék neve": "Öntapadó A/4",
                    "Rendelés mennyisége (db)": "146"
                },
                {
                    "Év": "2016",
                    "Termék neve": "Összefoglaló feladatgyüjtemény számtech.",
                    "Rendelés mennyisége (db)": "146"
                },
                {
                    "Év": "2016",
                    "Termék neve": "Papízsebkendő,10db Szindy",
                    "Rendelés mennyisége (db)": "165"
                },
                {
                    "Év": "2016",
                    "Termék neve": "Pausz papír A/4",
                    "Rendelés mennyisége (db)": "136"
                },
                {
                    "Év": "2016",
                    "Termék neve": "Pénztárgépszalag 2pl SC 57.5/60",
                    "Rendelés mennyisége (db)": "121"
                },
                {
                    "Év": "2016",
                    "Termék neve": "Pixiron KOH-I-NOOR",
                    "Rendelés mennyisége (db)": "170"
                },
                {
                    "Év": "2016",
                    "Termék neve": "Plüss sárkány",
                    "Rendelés mennyisége (db)": "123"
                },
                {
                    "Év": "2016",
                    "Termék neve": "Post-it 75×75 100 lapos",
                    "Rendelés mennyisége (db)": "115"
                },
                {
                    "Év": "2016",
                    "Termék neve": "Radír Tikky 30 ",
                    "Rendelés mennyisége (db)": "123"
                },
                {
                    "Év": "2016",
                    "Termék neve": "Radírtoll betét vastag",
                    "Rendelés mennyisége (db)": "125"
                },
                {
                    "Év": "2016",
                    "Termék neve": "Ragasztószalag 19 mm-es SCOTCH+ tépő",
                    "Rendelés mennyisége (db)": "146"
                },
                {
                    "Év": "2016",
                    "Termék neve": "Ragasztószalag széles barna",
                    "Rendelés mennyisége (db)": "128"
                },
                {
                    "Év": "2016",
                    "Termék neve": "Rágógumi Orbit",
                    "Rendelés mennyisége (db)": "136"
                },
                {
                    "Év": "2016",
                    "Termék neve": "Rajzszeg színes",
                    "Rendelés mennyisége (db)": "145"
                },
                {
                    "Év": "2016",
                    "Termék neve": "Regiszteres füzet A4",
                    "Rendelés mennyisége (db)": "122"
                },
                {
                    "Év": "2016",
                    "Termék neve": "sál",
                    "Rendelés mennyisége (db)": "460"
                },
                {
                    "Év": "2016",
                    "Termék neve": "Sp.Füzet A/4  perforált, lyuk.",
                    "Rendelés mennyisége (db)": "131"
                },
                {
                    "Év": "2016",
                    "Termék neve": "Spirál 1/4 ",
                    "Rendelés mennyisége (db)": "138"
                },
                {
                    "Év": "2016",
                    "Termék neve": "Strandlabda ",
                    "Rendelés mennyisége (db)": "134"
                },
                {
                    "Év": "2016",
                    "Termék neve": "Szalvéta gyűjtőknek",
                    "Rendelés mennyisége (db)": "129"
                },
                {
                    "Év": "2016",
                    "Termék neve": "Számológép tudományos",
                    "Rendelés mennyisége (db)": "135"
                },
                {
                    "Év": "2016",
                    "Termék neve": "Szemetes zsák 60 literes",
                    "Rendelés mennyisége (db)": "137"
                },
                {
                    "Év": "2016",
                    "Termék neve": "Színes ceruza 12 szín",
                    "Rendelés mennyisége (db)": "120"
                },
                {
                    "Év": "2016",
                    "Termék neve": "Színes másoló a/4 80g",
                    "Rendelés mennyisége (db)": "125"
                },
                {
                    "Év": "2016",
                    "Termék neve": "Színes ofszet B/4",
                    "Rendelés mennyisége (db)": "114"
                },
                {
                    "Év": "2016",
                    "Termék neve": "Szögmérő 180 fokos műa.",
                    "Rendelés mennyisége (db)": "145"
                },
                {
                    "Év": "2016",
                    "Termék neve": "Szövegkiemelő Staedtler",
                    "Rendelés mennyisége (db)": "131"
                },
                {
                    "Év": "2016",
                    "Termék neve": "Táblafilc",
                    "Rendelés mennyisége (db)": "128"
                },
                {
                    "Év": "2016",
                    "Termék neve": "Tapétavágó kés",
                    "Rendelés mennyisége (db)": "112"
                },
                {
                    "Év": "2016",
                    "Termék neve": "Tempera szóló ezüst",
                    "Rendelés mennyisége (db)": "142"
                },
                {
                    "Év": "2016",
                    "Termék neve": "Térképtű színes",
                    "Rendelés mennyisége (db)": "137"
                },
                {
                    "Év": "2016",
                    "Termék neve": "Tintapatron 30 db-os kék",
                    "Rendelés mennyisége (db)": "113"
                },
                {
                    "Év": "2016",
                    "Termék neve": "Tokos iratrendező",
                    "Rendelés mennyisége (db)": "131"
                },
                {
                    "Év": "2016",
                    "Termék neve": "Toll Centropen roller",
                    "Rendelés mennyisége (db)": "150"
                },
                {
                    "Év": "2016",
                    "Termék neve": "Tolltartó 2 részes NG.",
                    "Rendelés mennyisége (db)": "152"
                },
                {
                    "Év": "2016",
                    "Termék neve": "Töltőtoll tinta ",
                    "Rendelés mennyisége (db)": "120"
                },
                {
                    "Év": "2016",
                    "Termék neve": "Tornazsák",
                    "Rendelés mennyisége (db)": "138"
                },
                {
                    "Év": "2016",
                    "Termék neve": "Tűzőkapocs 10-es",
                    "Rendelés mennyisége (db)": "105"
                },
                {
                    "Év": "2016",
                    "Termék neve": "Vízfesték  12 színű nagy",
                    "Rendelés mennyisége (db)": "124"
                },
                {
                    "Év": "2016",
                    "Termék neve": "Vonalzó 15 cm-es ESSELTE",
                    "Rendelés mennyisége (db)": "136"
                },
                {
                    "Év": "2016",
                    "Termék neve": "Zászló papír",
                    "Rendelés mennyisége (db)": "132"
                },
                {
                    "Év": "2016",
                    "Termék neve": "Zseléstoll Lizzy Card",
                    "Rendelés mennyisége (db)": "125"
                },
                {
                    "Év": "2016",
                    "Termék neve": "NULL",
                    "Rendelés mennyisége (db)": "26941"
                },
                {
                    "Év": "2017",
                    "Termék neve": "A föld amelyen élünk - Európa földrajza",
                    "Rendelés mennyisége (db)": "38"
                },
                {
                    "Év": "2017",
                    "Termék neve": "A föld amelyen élünk - Hazánk földrajza",
                    "Rendelés mennyisége (db)": "39"
                },
                {
                    "Év": "2017",
                    "Termék neve": "A föld amelyen élünk - Távoli földrészek",
                    "Rendelés mennyisége (db)": "39"
                },
                {
                    "Év": "2017",
                    "Termék neve": "Ajándék cs. húsvéti 200x70",
                    "Rendelés mennyisége (db)": "32"
                },
                {
                    "Év": "2017",
                    "Termék neve": "Ajándék cs. tasak virágos nagy",
                    "Rendelés mennyisége (db)": "27"
                },
                {
                    "Év": "2017",
                    "Termék neve": "Álarc fejdísz",
                    "Rendelés mennyisége (db)": "34"
                },
                {
                    "Év": "2017",
                    "Termék neve": "Álarc szemüveg",
                    "Rendelés mennyisége (db)": "23"
                },
                {
                    "Év": "2017",
                    "Termék neve": "Álló irattartó",
                    "Rendelés mennyisége (db)": "29"
                },
                {
                    "Év": "2017",
                    "Termék neve": "Álló irattartó karton",
                    "Rendelés mennyisége (db)": "23"
                },
                {
                    "Év": "2017",
                    "Termék neve": "Alufólia 20 m-es",
                    "Rendelés mennyisége (db)": "39"
                },
                {
                    "Év": "2017",
                    "Termék neve": "Árazószalag ",
                    "Rendelés mennyisége (db)": "21"
                },
                {
                    "Év": "2017",
                    "Termék neve": "Átírótömb A/6",
                    "Rendelés mennyisége (db)": "37"
                },
                {
                    "Év": "2017",
                    "Termék neve": "Beíró A/5 kockás",
                    "Rendelés mennyisége (db)": "27"
                },
                {
                    "Év": "2017",
                    "Termék neve": "Beírókönyv A4",
                    "Rendelés mennyisége (db)": "29"
                },
                {
                    "Év": "2017",
                    "Termék neve": "Bélyegző pocket",
                    "Rendelés mennyisége (db)": "43"
                },
                {
                    "Év": "2017",
                    "Termék neve": "Bélyegzőfesték ",
                    "Rendelés mennyisége (db)": "30"
                },
                {
                    "Év": "2017",
                    "Termék neve": "Bevételi pénztárbizonylat 3×25",
                    "Rendelés mennyisége (db)": "31"
                },
                {
                    "Év": "2017",
                    "Termék neve": "Boríték légp. kicsi",
                    "Rendelés mennyisége (db)": "37"
                },
                {
                    "Év": "2017",
                    "Termék neve": "CD tartó tok",
                    "Rendelés mennyisége (db)": "28"
                },
                {
                    "Év": "2017",
                    "Termék neve": "Celofán 50 db-os",
                    "Rendelés mennyisége (db)": "23"
                },
                {
                    "Év": "2017",
                    "Termék neve": "Ceruza szén",
                    "Rendelés mennyisége (db)": "23"
                },
                {
                    "Év": "2017",
                    "Termék neve": "Címke WD. állat",
                    "Rendelés mennyisége (db)": "24"
                },
                {
                    "Év": "2017",
                    "Termék neve": "Dekorációs karton arany, ezüst",
                    "Rendelés mennyisége (db)": "27"
                },
                {
                    "Év": "2017",
                    "Termék neve": "Dipa A/4 keretezett",
                    "Rendelés mennyisége (db)": "41"
                },
                {
                    "Év": "2017",
                    "Termék neve": "Díszdoboz tollnak 2 db-os",
                    "Rendelés mennyisége (db)": "34"
                },
                {
                    "Év": "2017",
                    "Termék neve": "Diszkötöző széles szalag",
                    "Rendelés mennyisége (db)": "38"
                },
                {
                    "Év": "2017",
                    "Termék neve": "Dvd",
                    "Rendelés mennyisége (db)": "27"
                },
                {
                    "Év": "2017",
                    "Termék neve": "Ecsetkészlet",
                    "Rendelés mennyisége (db)": "33"
                },
                {
                    "Év": "2017",
                    "Termék neve": "Előlap spirálhoz",
                    "Rendelés mennyisége (db)": "27"
                },
                {
                    "Év": "2017",
                    "Termék neve": "Emlékkönyv",
                    "Rendelés mennyisége (db)": "33"
                },
                {
                    "Év": "2017",
                    "Termék neve": "Emléklap A/5",
                    "Rendelés mennyisége (db)": "34"
                },
                {
                    "Év": "2017",
                    "Termék neve": "Fax papír 15 m",
                    "Rendelés mennyisége (db)": "28"
                },
                {
                    "Év": "2017",
                    "Termék neve": "Fehér másoló A/3",
                    "Rendelés mennyisége (db)": "24"
                },
                {
                    "Év": "2017",
                    "Termék neve": "félfamentes rajzlap A4 (10 lap)",
                    "Rendelés mennyisége (db)": "34"
                },
                {
                    "Év": "2017",
                    "Termék neve": "férfi ing",
                    "Rendelés mennyisége (db)": "114"
                },
                {
                    "Év": "2017",
                    "Termék neve": "férfi szövet kabát",
                    "Rendelés mennyisége (db)": "26"
                },
                {
                    "Év": "2017",
                    "Termék neve": "férfi szövet nadrág",
                    "Rendelés mennyisége (db)": "118"
                },
                {
                    "Év": "2017",
                    "Termék neve": "Festékpatron BCI-3BK",
                    "Rendelés mennyisége (db)": "33"
                },
                {
                    "Év": "2017",
                    "Termék neve": "Filctoll Edding 750",
                    "Rendelés mennyisége (db)": "34"
                },
                {
                    "Év": "2017",
                    "Termék neve": "fiú harisnya",
                    "Rendelés mennyisége (db)": "122"
                },
                {
                    "Év": "2017",
                    "Termék neve": "Floppy lemez",
                    "Rendelés mennyisége (db)": "31"
                },
                {
                    "Év": "2017",
                    "Termék neve": "Fólia tasakos A4 125 mik.",
                    "Rendelés mennyisége (db)": "25"
                },
                {
                    "Év": "2017",
                    "Termék neve": "Fólia tasakos A4100 mik.",
                    "Rendelés mennyisége (db)": "33"
                },
                {
                    "Év": "2017",
                    "Termék neve": "Fotópapír A/4 fényes",
                    "Rendelés mennyisége (db)": "33"
                },
                {
                    "Év": "2017",
                    "Termék neve": "Füzetborító öntapadó tekercses",
                    "Rendelés mennyisége (db)": "40"
                },
                {
                    "Év": "2017",
                    "Termék neve": "Füzettartó A/4 keménytáblás",
                    "Rendelés mennyisége (db)": "40"
                },
                {
                    "Év": "2017",
                    "Termék neve": "G.toll betét Parker ",
                    "Rendelés mennyisége (db)": "35"
                },
                {
                    "Év": "2017",
                    "Termék neve": "Gémkapocs 50-es",
                    "Rendelés mennyisége (db)": "28"
                },
                {
                    "Év": "2017",
                    "Termék neve": "Gemkapocs ICO",
                    "Rendelés mennyisége (db)": "35"
                },
                {
                    "Év": "2017",
                    "Termék neve": "Genoterm HERLITZ 10-es",
                    "Rendelés mennyisége (db)": "43"
                },
                {
                    "Év": "2017",
                    "Termék neve": "Genotherm A4 10db-os",
                    "Rendelés mennyisége (db)": "23"
                },
                {
                    "Év": "2017",
                    "Termék neve": "Golyóstoll 3 funkciós ",
                    "Rendelés mennyisége (db)": "32"
                },
                {
                    "Év": "2017",
                    "Termék neve": "Gumigyűrű",
                    "Rendelés mennyisége (db)": "41"
                },
                {
                    "Év": "2017",
                    "Termék neve": "Gumilabda közepes",
                    "Rendelés mennyisége (db)": "32"
                },
                {
                    "Év": "2017",
                    "Termék neve": "gyermek csizma (fiú)",
                    "Rendelés mennyisége (db)": "110"
                },
                {
                    "Év": "2017",
                    "Termék neve": "gyermek csizma (lány)",
                    "Rendelés mennyisége (db)": "124"
                },
                {
                    "Év": "2017",
                    "Termék neve": "gyermek farmer nadrág (fiú)",
                    "Rendelés mennyisége (db)": "138"
                },
                {
                    "Év": "2017",
                    "Termék neve": "gyermek farmer nadrág (lány)",
                    "Rendelés mennyisége (db)": "120"
                },
                {
                    "Év": "2017",
                    "Termék neve": "gyermek kabát (fiú)",
                    "Rendelés mennyisége (db)": "105"
                },
                {
                    "Év": "2017",
                    "Termék neve": "gyermek kabát (lány)",
                    "Rendelés mennyisége (db)": "127"
                },
                {
                    "Év": "2017",
                    "Termék neve": "gyermek póló (fiú)",
                    "Rendelés mennyisége (db)": "113"
                },
                {
                    "Év": "2017",
                    "Termék neve": "gyermek póló (lány)",
                    "Rendelés mennyisége (db)": "123"
                },
                {
                    "Év": "2017",
                    "Termék neve": "Gyorsfűző műa.",
                    "Rendelés mennyisége (db)": "38"
                },
                {
                    "Év": "2017",
                    "Termék neve": "Gyurma színes natúr",
                    "Rendelés mennyisége (db)": "29"
                },
                {
                    "Év": "2017",
                    "Termék neve": "Gyűrűskönyv színes",
                    "Rendelés mennyisége (db)": "37"
                },
                {
                    "Év": "2017",
                    "Termék neve": "Hajgumi macis",
                    "Rendelés mennyisége (db)": "30"
                },
                {
                    "Év": "2017",
                    "Termék neve": "Határidő napló 2010-s",
                    "Rendelés mennyisége (db)": "23"
                },
                {
                    "Év": "2017",
                    "Termék neve": "házt.csom.  5 ív",
                    "Rendelés mennyisége (db)": "24"
                },
                {
                    "Év": "2017",
                    "Termék neve": "Hegyező gép",
                    "Rendelés mennyisége (db)": "29"
                },
                {
                    "Év": "2017",
                    "Termék neve": "Hegyző fém 2 lyukú",
                    "Rendelés mennyisége (db)": "38"
                },
                {
                    "Év": "2017",
                    "Termék neve": "Hibajav.roll.Pritt 4,2mm",
                    "Rendelés mennyisége (db)": "20"
                },
                {
                    "Év": "2017",
                    "Termék neve": "Hűtőmágnes WD",
                    "Rendelés mennyisége (db)": "38"
                },
                {
                    "Év": "2017",
                    "Termék neve": "Írásvetítő fólia",
                    "Rendelés mennyisége (db)": "28"
                },
                {
                    "Év": "2017",
                    "Termék neve": "Iratsín kék",
                    "Rendelés mennyisége (db)": "35"
                },
                {
                    "Év": "2017",
                    "Termék neve": "irodai tűzőgép",
                    "Rendelés mennyisége (db)": "30"
                },
                {
                    "Év": "2017",
                    "Termék neve": "Írólap 20-50 ",
                    "Rendelés mennyisége (db)": "38"
                },
                {
                    "Év": "2017",
                    "Termék neve": "Iromány fedél feles",
                    "Rendelés mennyisége (db)": "31"
                },
                {
                    "Év": "2017",
                    "Termék neve": "Ironbél HI-POLIMER HB 0,7",
                    "Rendelés mennyisége (db)": "36"
                },
                {
                    "Év": "2017",
                    "Termék neve": "Játékautó elemes",
                    "Rendelés mennyisége (db)": "41"
                },
                {
                    "Év": "2017",
                    "Termék neve": "Jelzőkréta",
                    "Rendelés mennyisége (db)": "34"
                },
                {
                    "Év": "2017",
                    "Termék neve": "Kapocskiszedő",
                    "Rendelés mennyisége (db)": "34"
                },
                {
                    "Év": "2017",
                    "Termék neve": "Kártya mini Magyar",
                    "Rendelés mennyisége (db)": "36"
                },
                {
                    "Év": "2017",
                    "Termék neve": "Képeslap \"Nászajándék\"",
                    "Rendelés mennyisége (db)": "30"
                },
                {
                    "Év": "2017",
                    "Termék neve": "Képkirakó Dirib-darab",
                    "Rendelés mennyisége (db)": "29"
                },
                {
                    "Év": "2017",
                    "Termék neve": "Körző maped",
                    "Rendelés mennyisége (db)": "36"
                },
                {
                    "Év": "2017",
                    "Termék neve": "kosztüm (hosszú)",
                    "Rendelés mennyisége (db)": "112"
                },
                {
                    "Év": "2017",
                    "Termék neve": "Kreatív A/4 120g ",
                    "Rendelés mennyisége (db)": "26"
                },
                {
                    "Év": "2017",
                    "Termék neve": "Kulcstartó intarziás állatos",
                    "Rendelés mennyisége (db)": "37"
                },
                {
                    "Év": "2017",
                    "Termék neve": "Lakk filc Edding 750",
                    "Rendelés mennyisége (db)": "26"
                },
                {
                    "Év": "2017",
                    "Termék neve": "lány harisnya",
                    "Rendelés mennyisége (db)": "131"
                },
                {
                    "Év": "2017",
                    "Termék neve": "Levélpapír szett virágos",
                    "Rendelés mennyisége (db)": "26"
                },
                {
                    "Év": "2017",
                    "Termék neve": "Logikai készlet",
                    "Rendelés mennyisége (db)": "42"
                },
                {
                    "Év": "2017",
                    "Termék neve": "Lufi formázható",
                    "Rendelés mennyisége (db)": "33"
                },
                {
                    "Év": "2017",
                    "Termék neve": "Lyukasztó BOXER",
                    "Rendelés mennyisége (db)": "36"
                },
                {
                    "Év": "2017",
                    "Termék neve": "Mappa bőr A5",
                    "Rendelés mennyisége (db)": "37"
                },
                {
                    "Év": "2017",
                    "Termék neve": "Matrica világítós ",
                    "Rendelés mennyisége (db)": "26"
                },
                {
                    "Év": "2017",
                    "Termék neve": "Meghívó borítékos",
                    "Rendelés mennyisége (db)": "26"
                },
                {
                    "Év": "2017",
                    "Termék neve": "Miliméterpapír",
                    "Rendelés mennyisége (db)": "39"
                },
                {
                    "Év": "2017",
                    "Termék neve": "Műanyag állatok",
                    "Rendelés mennyisége (db)": "26"
                },
                {
                    "Év": "2017",
                    "Termék neve": "Műnyomó 300g 17,5*20",
                    "Rendelés mennyisége (db)": "44"
                },
                {
                    "Év": "2017",
                    "Termék neve": "Naptár 24-es",
                    "Rendelés mennyisége (db)": "29"
                },
                {
                    "Év": "2017",
                    "Termék neve": "Naptárhát nagy",
                    "Rendelés mennyisége (db)": "31"
                },
                {
                    "Év": "2017",
                    "Termék neve": "Névjegytartó kicsi",
                    "Rendelés mennyisége (db)": "31"
                },
                {
                    "Év": "2017",
                    "Termék neve": "női farmer nadrág",
                    "Rendelés mennyisége (db)": "114"
                },
                {
                    "Év": "2017",
                    "Termék neve": "női koktélruha",
                    "Rendelés mennyisége (db)": "117"
                },
                {
                    "Év": "2017",
                    "Termék neve": "női szövet kabát",
                    "Rendelés mennyisége (db)": "110"
                },
                {
                    "Év": "2017",
                    "Termék neve": "Notesz A/5 sima",
                    "Rendelés mennyisége (db)": "36"
                },
                {
                    "Év": "2017",
                    "Termék neve": "Notesz sima spirál College",
                    "Rendelés mennyisége (db)": "27"
                },
                {
                    "Év": "2017",
                    "Termék neve": "Oki toner C",
                    "Rendelés mennyisége (db)": "31"
                },
                {
                    "Év": "2017",
                    "Termék neve": "Oklevél A/4 színes",
                    "Rendelés mennyisége (db)": "31"
                },
                {
                    "Év": "2017",
                    "Termék neve": "Olló Tagit 18 cm-es",
                    "Rendelés mennyisége (db)": "33"
                },
                {
                    "Év": "2017",
                    "Termék neve": "Öntapadó A/4",
                    "Rendelés mennyisége (db)": "34"
                },
                {
                    "Év": "2017",
                    "Termék neve": "Összefoglaló feladatgyüjtemény számtech.",
                    "Rendelés mennyisége (db)": "47"
                },
                {
                    "Év": "2017",
                    "Termék neve": "Papízsebkendő,10db Szindy",
                    "Rendelés mennyisége (db)": "23"
                },
                {
                    "Év": "2017",
                    "Termék neve": "Pausz papír A/4",
                    "Rendelés mennyisége (db)": "30"
                },
                {
                    "Év": "2017",
                    "Termék neve": "Pénztárgépszalag 2pl SC 57.5/60",
                    "Rendelés mennyisége (db)": "33"
                },
                {
                    "Év": "2017",
                    "Termék neve": "Pixiron KOH-I-NOOR",
                    "Rendelés mennyisége (db)": "38"
                },
                {
                    "Év": "2017",
                    "Termék neve": "Plüss sárkány",
                    "Rendelés mennyisége (db)": "41"
                },
                {
                    "Év": "2017",
                    "Termék neve": "Post-it 75×75 100 lapos",
                    "Rendelés mennyisége (db)": "31"
                },
                {
                    "Év": "2017",
                    "Termék neve": "Radír Tikky 30 ",
                    "Rendelés mennyisége (db)": "36"
                },
                {
                    "Év": "2017",
                    "Termék neve": "Radírtoll betét vastag",
                    "Rendelés mennyisége (db)": "39"
                },
                {
                    "Év": "2017",
                    "Termék neve": "Ragasztószalag 19 mm-es SCOTCH+ tépő",
                    "Rendelés mennyisége (db)": "42"
                },
                {
                    "Év": "2017",
                    "Termék neve": "Ragasztószalag széles barna",
                    "Rendelés mennyisége (db)": "35"
                },
                {
                    "Év": "2017",
                    "Termék neve": "Rágógumi Orbit",
                    "Rendelés mennyisége (db)": "41"
                },
                {
                    "Év": "2017",
                    "Termék neve": "Rajzszeg színes",
                    "Rendelés mennyisége (db)": "27"
                },
                {
                    "Év": "2017",
                    "Termék neve": "Regiszteres füzet A4",
                    "Rendelés mennyisége (db)": "44"
                },
                {
                    "Év": "2017",
                    "Termék neve": "sál",
                    "Rendelés mennyisége (db)": "122"
                },
                {
                    "Év": "2017",
                    "Termék neve": "Sp.Füzet A/4  perforált, lyuk.",
                    "Rendelés mennyisége (db)": "39"
                },
                {
                    "Év": "2017",
                    "Termék neve": "Spirál 1/4 ",
                    "Rendelés mennyisége (db)": "25"
                },
                {
                    "Év": "2017",
                    "Termék neve": "Strandlabda ",
                    "Rendelés mennyisége (db)": "37"
                },
                {
                    "Év": "2017",
                    "Termék neve": "Szalvéta gyűjtőknek",
                    "Rendelés mennyisége (db)": "33"
                },
                {
                    "Év": "2017",
                    "Termék neve": "Számológép tudományos",
                    "Rendelés mennyisége (db)": "34"
                },
                {
                    "Év": "2017",
                    "Termék neve": "Szemetes zsák 60 literes",
                    "Rendelés mennyisége (db)": "37"
                },
                {
                    "Év": "2017",
                    "Termék neve": "Színes ceruza 12 szín",
                    "Rendelés mennyisége (db)": "45"
                },
                {
                    "Év": "2017",
                    "Termék neve": "Színes másoló a/4 80g",
                    "Rendelés mennyisége (db)": "38"
                },
                {
                    "Év": "2017",
                    "Termék neve": "Színes ofszet B/4",
                    "Rendelés mennyisége (db)": "40"
                },
                {
                    "Év": "2017",
                    "Termék neve": "Szögmérő 180 fokos műa.",
                    "Rendelés mennyisége (db)": "37"
                },
                {
                    "Év": "2017",
                    "Termék neve": "Szövegkiemelő Staedtler",
                    "Rendelés mennyisége (db)": "38"
                },
                {
                    "Év": "2017",
                    "Termék neve": "Táblafilc",
                    "Rendelés mennyisége (db)": "37"
                },
                {
                    "Év": "2017",
                    "Termék neve": "Tapétavágó kés",
                    "Rendelés mennyisége (db)": "23"
                },
                {
                    "Év": "2017",
                    "Termék neve": "Tempera szóló ezüst",
                    "Rendelés mennyisége (db)": "33"
                },
                {
                    "Év": "2017",
                    "Termék neve": "Térképtű színes",
                    "Rendelés mennyisége (db)": "38"
                },
                {
                    "Év": "2017",
                    "Termék neve": "Tintapatron 30 db-os kék",
                    "Rendelés mennyisége (db)": "24"
                },
                {
                    "Év": "2017",
                    "Termék neve": "Tokos iratrendező",
                    "Rendelés mennyisége (db)": "32"
                },
                {
                    "Év": "2017",
                    "Termék neve": "Toll Centropen roller",
                    "Rendelés mennyisége (db)": "39"
                },
                {
                    "Év": "2017",
                    "Termék neve": "Tolltartó 2 részes NG.",
                    "Rendelés mennyisége (db)": "32"
                },
                {
                    "Év": "2017",
                    "Termék neve": "Töltőtoll tinta ",
                    "Rendelés mennyisége (db)": "42"
                },
                {
                    "Év": "2017",
                    "Termék neve": "Tornazsák",
                    "Rendelés mennyisége (db)": "30"
                },
                {
                    "Év": "2017",
                    "Termék neve": "Tűzőkapocs 10-es",
                    "Rendelés mennyisége (db)": "31"
                },
                {
                    "Év": "2017",
                    "Termék neve": "Vízfesték  12 színű nagy",
                    "Rendelés mennyisége (db)": "31"
                },
                {
                    "Év": "2017",
                    "Termék neve": "Vonalzó 15 cm-es ESSELTE",
                    "Rendelés mennyisége (db)": "30"
                },
                {
                    "Év": "2017",
                    "Termék neve": "Zászló papír",
                    "Rendelés mennyisége (db)": "34"
                },
                {
                    "Év": "2017",
                    "Termék neve": "Zseléstoll Lizzy Card",
                    "Rendelés mennyisége (db)": "34"
                },
                {
                    "Év": "2017",
                    "Termék neve": "NULL",
                    "Rendelés mennyisége (db)": "6491"
                },
                {
                    "Év": "NULL",
                    "Termék neve": "NULL",
                    "Rendelés mennyisége (db)": "51019"
                }
            ]
        },
        "text/html": [
            "<table>",
            "<tr><th>Év</th><th>Termék neve</th><th>Rendelés mennyisége (db)</th></tr>",
            "<tr><td>2015</td><td>A föld amelyen élünk - Európa földrajza</td><td>95</td></tr>",
            "<tr><td>2015</td><td>A föld amelyen élünk - Hazánk földrajza</td><td>83</td></tr>",
            "<tr><td>2015</td><td>A föld amelyen élünk - Távoli földrészek</td><td>85</td></tr>",
            "<tr><td>2015</td><td>Ajándék cs. húsvéti 200x70</td><td>87</td></tr>",
            "<tr><td>2015</td><td>Ajándék cs. tasak virágos nagy</td><td>77</td></tr>",
            "<tr><td>2015</td><td>Álarc fejdísz</td><td>99</td></tr>",
            "<tr><td>2015</td><td>Álarc szemüveg</td><td>81</td></tr>",
            "<tr><td>2015</td><td>Álló irattartó</td><td>80</td></tr>",
            "<tr><td>2015</td><td>Álló irattartó karton</td><td>93</td></tr>",
            "<tr><td>2015</td><td>Alufólia 20 m-es</td><td>86</td></tr>",
            "<tr><td>2015</td><td>Árazószalag </td><td>106</td></tr>",
            "<tr><td>2015</td><td>Átírótömb A/6</td><td>81</td></tr>",
            "<tr><td>2015</td><td>Beíró A/5 kockás</td><td>85</td></tr>",
            "<tr><td>2015</td><td>Beírókönyv A4</td><td>85</td></tr>",
            "<tr><td>2015</td><td>Bélyegző pocket</td><td>104</td></tr>",
            "<tr><td>2015</td><td>Bélyegzőfesték </td><td>94</td></tr>",
            "<tr><td>2015</td><td>Bevételi pénztárbizonylat 3×25</td><td>92</td></tr>",
            "<tr><td>2015</td><td>Boríték légp. kicsi</td><td>83</td></tr>",
            "<tr><td>2015</td><td>CD tartó tok</td><td>94</td></tr>",
            "<tr><td>2015</td><td>Celofán 50 db-os</td><td>74</td></tr>",
            "<tr><td>2015</td><td>Ceruza szén</td><td>83</td></tr>",
            "<tr><td>2015</td><td>Címke WD. állat</td><td>98</td></tr>",
            "<tr><td>2015</td><td>Dekorációs karton arany, ezüst</td><td>78</td></tr>",
            "<tr><td>2015</td><td>Dipa A/4 keretezett</td><td>84</td></tr>",
            "<tr><td>2015</td><td>Díszdoboz tollnak 2 db-os</td><td>87</td></tr>",
            "<tr><td>2015</td><td>Diszkötöző széles szalag</td><td>89</td></tr>",
            "<tr><td>2015</td><td>Dvd</td><td>101</td></tr>",
            "<tr><td>2015</td><td>Ecsetkészlet</td><td>98</td></tr>",
            "<tr><td>2015</td><td>Előlap spirálhoz</td><td>97</td></tr>",
            "<tr><td>2015</td><td>Emlékkönyv</td><td>86</td></tr>",
            "<tr><td>2015</td><td>Emléklap A/5</td><td>105</td></tr>",
            "<tr><td>2015</td><td>Fax papír 15 m</td><td>100</td></tr>",
            "<tr><td>2015</td><td>Fehér másoló A/3</td><td>83</td></tr>",
            "<tr><td>2015</td><td>félfamentes rajzlap A4 (10 lap)</td><td>83</td></tr>",
            "<tr><td>2015</td><td>férfi ing</td><td>304</td></tr>",
            "<tr><td>2015</td><td>férfi szövet kabát</td><td>88</td></tr>",
            "<tr><td>2015</td><td>férfi szövet nadrág</td><td>301</td></tr>",
            "<tr><td>2015</td><td>Festékpatron BCI-3BK</td><td>78</td></tr>",
            "<tr><td>2015</td><td>Filctoll Edding 750</td><td>89</td></tr>",
            "<tr><td>2015</td><td>fiú harisnya</td><td>333</td></tr>",
            "<tr><td>2015</td><td>Floppy lemez</td><td>104</td></tr>",
            "<tr><td>2015</td><td>Fólia tasakos A4 125 mik.</td><td>98</td></tr>",
            "<tr><td>2015</td><td>Fólia tasakos A4100 mik.</td><td>86</td></tr>",
            "<tr><td>2015</td><td>Fotópapír A/4 fényes</td><td>94</td></tr>",
            "<tr><td>2015</td><td>Füzetborító öntapadó tekercses</td><td>73</td></tr>",
            "<tr><td>2015</td><td>Füzettartó A/4 keménytáblás</td><td>88</td></tr>",
            "<tr><td>2015</td><td>G.toll betét Parker </td><td>83</td></tr>",
            "<tr><td>2015</td><td>Gémkapocs 50-es</td><td>86</td></tr>",
            "<tr><td>2015</td><td>Gemkapocs ICO</td><td>92</td></tr>",
            "<tr><td>2015</td><td>Genoterm HERLITZ 10-es</td><td>87</td></tr>",
            "<tr><td>2015</td><td>Genotherm A4 10db-os</td><td>91</td></tr>",
            "<tr><td>2015</td><td>Golyóstoll 3 funkciós </td><td>84</td></tr>",
            "<tr><td>2015</td><td>Gumigyűrű</td><td>85</td></tr>",
            "<tr><td>2015</td><td>Gumilabda közepes</td><td>78</td></tr>",
            "<tr><td>2015</td><td>gyermek csizma (fiú)</td><td>339</td></tr>",
            "<tr><td>2015</td><td>gyermek csizma (lány)</td><td>284</td></tr>",
            "<tr><td>2015</td><td>gyermek farmer nadrág (fiú)</td><td>310</td></tr>",
            "<tr><td>2015</td><td>gyermek farmer nadrág (lány)</td><td>353</td></tr>",
            "<tr><td>2015</td><td>gyermek kabát (fiú)</td><td>322</td></tr>",
            "<tr><td>2015</td><td>gyermek kabát (lány)</td><td>325</td></tr>",
            "<tr><td>2015</td><td>gyermek póló (fiú)</td><td>333</td></tr>",
            "<tr><td>2015</td><td>gyermek póló (lány)</td><td>314</td></tr>",
            "<tr><td>2015</td><td>Gyorsfűző műa.</td><td>72</td></tr>",
            "<tr><td>2015</td><td>Gyurma színes natúr</td><td>94</td></tr>",
            "<tr><td>2015</td><td>Gyűrűskönyv színes</td><td>90</td></tr>",
            "<tr><td>2015</td><td>Hajgumi macis</td><td>74</td></tr>",
            "<tr><td>2015</td><td>Határidő napló 2010-s</td><td>100</td></tr>",
            "<tr><td>2015</td><td>házt.csom.  5 ív</td><td>100</td></tr>",
            "<tr><td>2015</td><td>Hegyező gép</td><td>87</td></tr>",
            "<tr><td>2015</td><td>Hegyző fém 2 lyukú</td><td>98</td></tr>",
            "<tr><td>2015</td><td>Hibajav.roll.Pritt 4,2mm</td><td>101</td></tr>",
            "<tr><td>2015</td><td>Hűtőmágnes WD</td><td>88</td></tr>",
            "<tr><td>2015</td><td>Írásvetítő fólia</td><td>102</td></tr>",
            "<tr><td>2015</td><td>Iratsín kék</td><td>84</td></tr>",
            "<tr><td>2015</td><td>irodai tűzőgép</td><td>86</td></tr>",
            "<tr><td>2015</td><td>Írólap 20-50 </td><td>83</td></tr>",
            "<tr><td>2015</td><td>Iromány fedél feles</td><td>86</td></tr>",
            "<tr><td>2015</td><td>Ironbél HI-POLIMER HB 0,7</td><td>84</td></tr>",
            "<tr><td>2015</td><td>Játékautó elemes</td><td>93</td></tr>",
            "<tr><td>2015</td><td>Jelzőkréta</td><td>95</td></tr>",
            "<tr><td>2015</td><td>Kapocskiszedő</td><td>102</td></tr>",
            "<tr><td>2015</td><td>Kártya mini Magyar</td><td>88</td></tr>",
            "<tr><td>2015</td><td>Képeslap &quot;Nászajándék&quot;</td><td>87</td></tr>",
            "<tr><td>2015</td><td>Képkirakó Dirib-darab</td><td>98</td></tr>",
            "<tr><td>2015</td><td>Körző maped</td><td>88</td></tr>",
            "<tr><td>2015</td><td>kosztüm (hosszú)</td><td>333</td></tr>",
            "<tr><td>2015</td><td>Kreatív A/4 120g </td><td>95</td></tr>",
            "<tr><td>2015</td><td>Kulcstartó intarziás állatos</td><td>89</td></tr>",
            "<tr><td>2015</td><td>Lakk filc Edding 750</td><td>99</td></tr>",
            "<tr><td>2015</td><td>lány harisnya</td><td>291</td></tr>",
            "<tr><td>2015</td><td>Levélpapír szett virágos</td><td>98</td></tr>",
            "<tr><td>2015</td><td>Logikai készlet</td><td>108</td></tr>",
            "<tr><td>2015</td><td>Lufi formázható</td><td>101</td></tr>",
            "<tr><td>2015</td><td>Lyukasztó BOXER</td><td>96</td></tr>",
            "<tr><td>2015</td><td>Mappa bőr A5</td><td>88</td></tr>",
            "<tr><td>2015</td><td>Matrica világítós </td><td>82</td></tr>",
            "<tr><td>2015</td><td>Meghívó borítékos</td><td>107</td></tr>",
            "<tr><td>2015</td><td>Miliméterpapír</td><td>80</td></tr>",
            "<tr><td>2015</td><td>Műanyag állatok</td><td>95</td></tr>",
            "<tr><td>2015</td><td>Műnyomó 300g 17,5*20</td><td>88</td></tr>",
            "<tr><td>2015</td><td>Naptár 24-es</td><td>92</td></tr>",
            "<tr><td>2015</td><td>Naptárhát nagy</td><td>83</td></tr>",
            "<tr><td>2015</td><td>Névjegytartó kicsi</td><td>95</td></tr>",
            "<tr><td>2015</td><td>női farmer nadrág</td><td>319</td></tr>",
            "<tr><td>2015</td><td>női koktélruha</td><td>329</td></tr>",
            "<tr><td>2015</td><td>női szövet kabát</td><td>319</td></tr>",
            "<tr><td>2015</td><td>Notesz A/5 sima</td><td>102</td></tr>",
            "<tr><td>2015</td><td>Notesz sima spirál College</td><td>70</td></tr>",
            "<tr><td>2015</td><td>Oki toner C</td><td>93</td></tr>",
            "<tr><td>2015</td><td>Oklevél A/4 színes</td><td>90</td></tr>",
            "<tr><td>2015</td><td>Olló Tagit 18 cm-es</td><td>93</td></tr>",
            "<tr><td>2015</td><td>Öntapadó A/4</td><td>83</td></tr>",
            "<tr><td>2015</td><td>Összefoglaló feladatgyüjtemény számtech.</td><td>105</td></tr>",
            "<tr><td>2015</td><td>Papízsebkendő,10db Szindy</td><td>93</td></tr>",
            "<tr><td>2015</td><td>Pausz papír A/4</td><td>78</td></tr>",
            "<tr><td>2015</td><td>Pénztárgépszalag 2pl SC 57.5/60</td><td>98</td></tr>",
            "<tr><td>2015</td><td>Pixiron KOH-I-NOOR</td><td>71</td></tr>",
            "<tr><td>2015</td><td>Plüss sárkány</td><td>89</td></tr>",
            "<tr><td>2015</td><td>Post-it 75×75 100 lapos</td><td>54</td></tr>",
            "<tr><td>2015</td><td>Radír Tikky 30 </td><td>103</td></tr>",
            "<tr><td>2015</td><td>Radírtoll betét vastag</td><td>83</td></tr>",
            "<tr><td>2015</td><td>Ragasztószalag 19 mm-es SCOTCH+ tépő</td><td>87</td></tr>",
            "<tr><td>2015</td><td>Ragasztószalag széles barna</td><td>96</td></tr>",
            "<tr><td>2015</td><td>Rágógumi Orbit</td><td>78</td></tr>",
            "<tr><td>2015</td><td>Rajzszeg színes</td><td>89</td></tr>",
            "<tr><td>2015</td><td>Regiszteres füzet A4</td><td>94</td></tr>",
            "<tr><td>2015</td><td>sál</td><td>321</td></tr>",
            "<tr><td>2015</td><td>Sp.Füzet A/4  perforált, lyuk.</td><td>74</td></tr>",
            "<tr><td>2015</td><td>Spirál 1/4 </td><td>86</td></tr>",
            "<tr><td>2015</td><td>Strandlabda </td><td>95</td></tr>",
            "<tr><td>2015</td><td>Szalvéta gyűjtőknek</td><td>91</td></tr>",
            "<tr><td>2015</td><td>Számológép tudományos</td><td>87</td></tr>",
            "<tr><td>2015</td><td>Szemetes zsák 60 literes</td><td>92</td></tr>",
            "<tr><td>2015</td><td>Színes ceruza 12 szín</td><td>76</td></tr>",
            "<tr><td>2015</td><td>Színes másoló a/4 80g</td><td>90</td></tr>",
            "<tr><td>2015</td><td>Színes ofszet B/4</td><td>93</td></tr>",
            "<tr><td>2015</td><td>Szögmérő 180 fokos műa.</td><td>91</td></tr>",
            "<tr><td>2015</td><td>Szövegkiemelő Staedtler</td><td>79</td></tr>",
            "<tr><td>2015</td><td>Táblafilc</td><td>85</td></tr>",
            "<tr><td>2015</td><td>Tapétavágó kés</td><td>95</td></tr>",
            "<tr><td>2015</td><td>Tempera szóló ezüst</td><td>94</td></tr>",
            "<tr><td>2015</td><td>Térképtű színes</td><td>82</td></tr>",
            "<tr><td>2015</td><td>Tintapatron 30 db-os kék</td><td>93</td></tr>",
            "<tr><td>2015</td><td>Tokos iratrendező</td><td>92</td></tr>",
            "<tr><td>2015</td><td>Toll Centropen roller</td><td>87</td></tr>",
            "<tr><td>2015</td><td>Tolltartó 2 részes NG.</td><td>91</td></tr>",
            "<tr><td>2015</td><td>Töltőtoll tinta </td><td>91</td></tr>",
            "<tr><td>2015</td><td>Tornazsák</td><td>86</td></tr>",
            "<tr><td>2015</td><td>Tűzőkapocs 10-es</td><td>83</td></tr>",
            "<tr><td>2015</td><td>Vízfesték  12 színű nagy</td><td>101</td></tr>",
            "<tr><td>2015</td><td>Vonalzó 15 cm-es ESSELTE</td><td>92</td></tr>",
            "<tr><td>2015</td><td>Zászló papír</td><td>92</td></tr>",
            "<tr><td>2015</td><td>Zseléstoll Lizzy Card</td><td>94</td></tr>",
            "<tr><td>2015</td><td>NULL</td><td>17587</td></tr>",
            "<tr><td>2016</td><td>A föld amelyen élünk - Európa földrajza</td><td>138</td></tr>",
            "<tr><td>2016</td><td>A föld amelyen élünk - Hazánk földrajza</td><td>139</td></tr>",
            "<tr><td>2016</td><td>A föld amelyen élünk - Távoli földrészek</td><td>116</td></tr>",
            "<tr><td>2016</td><td>Ajándék cs. húsvéti 200x70</td><td>134</td></tr>",
            "<tr><td>2016</td><td>Ajándék cs. tasak virágos nagy</td><td>121</td></tr>",
            "<tr><td>2016</td><td>Álarc fejdísz</td><td>143</td></tr>",
            "<tr><td>2016</td><td>Álarc szemüveg</td><td>125</td></tr>",
            "<tr><td>2016</td><td>Álló irattartó</td><td>121</td></tr>",
            "<tr><td>2016</td><td>Álló irattartó karton</td><td>148</td></tr>",
            "<tr><td>2016</td><td>Alufólia 20 m-es</td><td>128</td></tr>",
            "<tr><td>2016</td><td>Árazószalag </td><td>137</td></tr>",
            "<tr><td>2016</td><td>Átírótömb A/6</td><td>141</td></tr>",
            "<tr><td>2016</td><td>Beíró A/5 kockás</td><td>137</td></tr>",
            "<tr><td>2016</td><td>Beírókönyv A4</td><td>152</td></tr>",
            "<tr><td>2016</td><td>Bélyegző pocket</td><td>126</td></tr>",
            "<tr><td>2016</td><td>Bélyegzőfesték </td><td>130</td></tr>",
            "<tr><td>2016</td><td>Bevételi pénztárbizonylat 3×25</td><td>150</td></tr>",
            "<tr><td>2016</td><td>Boríték légp. kicsi</td><td>124</td></tr>",
            "<tr><td>2016</td><td>CD tartó tok</td><td>136</td></tr>",
            "<tr><td>2016</td><td>Celofán 50 db-os</td><td>125</td></tr>",
            "<tr><td>2016</td><td>Ceruza szén</td><td>139</td></tr>",
            "<tr><td>2016</td><td>Címke WD. állat</td><td>158</td></tr>",
            "<tr><td>2016</td><td>Dekorációs karton arany, ezüst</td><td>141</td></tr>",
            "<tr><td>2016</td><td>Dipa A/4 keretezett</td><td>140</td></tr>",
            "<tr><td>2016</td><td>Díszdoboz tollnak 2 db-os</td><td>132</td></tr>",
            "<tr><td>2016</td><td>Diszkötöző széles szalag</td><td>155</td></tr>",
            "<tr><td>2016</td><td>Dvd</td><td>147</td></tr>",
            "<tr><td>2016</td><td>Ecsetkészlet</td><td>134</td></tr>",
            "<tr><td>2016</td><td>Előlap spirálhoz</td><td>143</td></tr>",
            "<tr><td>2016</td><td>Emlékkönyv</td><td>142</td></tr>",
            "<tr><td>2016</td><td>Emléklap A/5</td><td>133</td></tr>",
            "<tr><td>2016</td><td>Fax papír 15 m</td><td>151</td></tr>",
            "<tr><td>2016</td><td>Fehér másoló A/3</td><td>139</td></tr>",
            "<tr><td>2016</td><td>félfamentes rajzlap A4 (10 lap)</td><td>147</td></tr>",
            "<tr><td>2016</td><td>férfi ing</td><td>501</td></tr>",
            "<tr><td>2016</td><td>férfi szövet kabát</td><td>143</td></tr>",
            "<tr><td>2016</td><td>férfi szövet nadrág</td><td>496</td></tr>",
            "<tr><td>2016</td><td>Festékpatron BCI-3BK</td><td>143</td></tr>",
            "<tr><td>2016</td><td>Filctoll Edding 750</td><td>132</td></tr>",
            "<tr><td>2016</td><td>fiú harisnya</td><td>502</td></tr>",
            "<tr><td>2016</td><td>Floppy lemez</td><td>131</td></tr>",
            "<tr><td>2016</td><td>Fólia tasakos A4 125 mik.</td><td>133</td></tr>",
            "<tr><td>2016</td><td>Fólia tasakos A4100 mik.</td><td>120</td></tr>",
            "<tr><td>2016</td><td>Fotópapír A/4 fényes</td><td>143</td></tr>",
            "<tr><td>2016</td><td>Füzetborító öntapadó tekercses</td><td>140</td></tr>",
            "<tr><td>2016</td><td>Füzettartó A/4 keménytáblás</td><td>148</td></tr>",
            "<tr><td>2016</td><td>G.toll betét Parker </td><td>130</td></tr>",
            "<tr><td>2016</td><td>Gémkapocs 50-es</td><td>145</td></tr>",
            "<tr><td>2016</td><td>Gemkapocs ICO</td><td>130</td></tr>",
            "<tr><td>2016</td><td>Genoterm HERLITZ 10-es</td><td>124</td></tr>",
            "<tr><td>2016</td><td>Genotherm A4 10db-os</td><td>136</td></tr>",
            "<tr><td>2016</td><td>Golyóstoll 3 funkciós </td><td>142</td></tr>",
            "<tr><td>2016</td><td>Gumigyűrű</td><td>123</td></tr>",
            "<tr><td>2016</td><td>Gumilabda közepes</td><td>140</td></tr>",
            "<tr><td>2016</td><td>gyermek csizma (fiú)</td><td>494</td></tr>",
            "<tr><td>2016</td><td>gyermek csizma (lány)</td><td>494</td></tr>",
            "<tr><td>2016</td><td>gyermek farmer nadrág (fiú)</td><td>543</td></tr>",
            "<tr><td>2016</td><td>gyermek farmer nadrág (lány)</td><td>480</td></tr>",
            "<tr><td>2016</td><td>gyermek kabát (fiú)</td><td>446</td></tr>",
            "<tr><td>2016</td><td>gyermek kabát (lány)</td><td>488</td></tr>",
            "<tr><td>2016</td><td>gyermek póló (fiú)</td><td>511</td></tr>",
            "<tr><td>2016</td><td>gyermek póló (lány)</td><td>510</td></tr>",
            "<tr><td>2016</td><td>Gyorsfűző műa.</td><td>139</td></tr>",
            "<tr><td>2016</td><td>Gyurma színes natúr</td><td>124</td></tr>",
            "<tr><td>2016</td><td>Gyűrűskönyv színes</td><td>140</td></tr>",
            "<tr><td>2016</td><td>Hajgumi macis</td><td>156</td></tr>",
            "<tr><td>2016</td><td>Határidő napló 2010-s</td><td>130</td></tr>",
            "<tr><td>2016</td><td>házt.csom.  5 ív</td><td>134</td></tr>",
            "<tr><td>2016</td><td>Hegyező gép</td><td>149</td></tr>",
            "<tr><td>2016</td><td>Hegyző fém 2 lyukú</td><td>132</td></tr>",
            "<tr><td>2016</td><td>Hibajav.roll.Pritt 4,2mm</td><td>134</td></tr>",
            "<tr><td>2016</td><td>Hűtőmágnes WD</td><td>115</td></tr>",
            "<tr><td>2016</td><td>Írásvetítő fólia</td><td>140</td></tr>",
            "<tr><td>2016</td><td>Iratsín kék</td><td>133</td></tr>",
            "<tr><td>2016</td><td>irodai tűzőgép</td><td>139</td></tr>",
            "<tr><td>2016</td><td>Írólap 20-50 </td><td>119</td></tr>",
            "<tr><td>2016</td><td>Iromány fedél feles</td><td>152</td></tr>",
            "<tr><td>2016</td><td>Ironbél HI-POLIMER HB 0,7</td><td>121</td></tr>",
            "<tr><td>2016</td><td>Játékautó elemes</td><td>134</td></tr>",
            "<tr><td>2016</td><td>Jelzőkréta</td><td>148</td></tr>",
            "<tr><td>2016</td><td>Kapocskiszedő</td><td>137</td></tr>",
            "<tr><td>2016</td><td>Kártya mini Magyar</td><td>135</td></tr>",
            "<tr><td>2016</td><td>Képeslap &quot;Nászajándék&quot;</td><td>112</td></tr>",
            "<tr><td>2016</td><td>Képkirakó Dirib-darab</td><td>132</td></tr>",
            "<tr><td>2016</td><td>Körző maped</td><td>157</td></tr>",
            "<tr><td>2016</td><td>kosztüm (hosszú)</td><td>529</td></tr>",
            "<tr><td>2016</td><td>Kreatív A/4 120g </td><td>112</td></tr>",
            "<tr><td>2016</td><td>Kulcstartó intarziás állatos</td><td>152</td></tr>",
            "<tr><td>2016</td><td>Lakk filc Edding 750</td><td>147</td></tr>",
            "<tr><td>2016</td><td>lány harisnya</td><td>512</td></tr>",
            "<tr><td>2016</td><td>Levélpapír szett virágos</td><td>133</td></tr>",
            "<tr><td>2016</td><td>Logikai készlet</td><td>134</td></tr>",
            "<tr><td>2016</td><td>Lufi formázható</td><td>131</td></tr>",
            "<tr><td>2016</td><td>Lyukasztó BOXER</td><td>109</td></tr>",
            "<tr><td>2016</td><td>Mappa bőr A5</td><td>143</td></tr>",
            "<tr><td>2016</td><td>Matrica világítós </td><td>162</td></tr>",
            "<tr><td>2016</td><td>Meghívó borítékos</td><td>133</td></tr>",
            "<tr><td>2016</td><td>Miliméterpapír</td><td>149</td></tr>",
            "<tr><td>2016</td><td>Műanyag állatok</td><td>156</td></tr>",
            "<tr><td>2016</td><td>Műnyomó 300g 17,5*20</td><td>140</td></tr>",
            "<tr><td>2016</td><td>Naptár 24-es</td><td>157</td></tr>",
            "<tr><td>2016</td><td>Naptárhát nagy</td><td>136</td></tr>",
            "<tr><td>2016</td><td>Névjegytartó kicsi</td><td>140</td></tr>",
            "<tr><td>2016</td><td>női farmer nadrág</td><td>521</td></tr>",
            "<tr><td>2016</td><td>női koktélruha</td><td>520</td></tr>",
            "<tr><td>2016</td><td>női szövet kabát</td><td>498</td></tr>",
            "<tr><td>2016</td><td>Notesz A/5 sima</td><td>141</td></tr>",
            "<tr><td>2016</td><td>Notesz sima spirál College</td><td>133</td></tr>",
            "<tr><td>2016</td><td>Oki toner C</td><td>126</td></tr>",
            "<tr><td>2016</td><td>Oklevél A/4 színes</td><td>133</td></tr>",
            "<tr><td>2016</td><td>Olló Tagit 18 cm-es</td><td>151</td></tr>",
            "<tr><td>2016</td><td>Öntapadó A/4</td><td>146</td></tr>",
            "<tr><td>2016</td><td>Összefoglaló feladatgyüjtemény számtech.</td><td>146</td></tr>",
            "<tr><td>2016</td><td>Papízsebkendő,10db Szindy</td><td>165</td></tr>",
            "<tr><td>2016</td><td>Pausz papír A/4</td><td>136</td></tr>",
            "<tr><td>2016</td><td>Pénztárgépszalag 2pl SC 57.5/60</td><td>121</td></tr>",
            "<tr><td>2016</td><td>Pixiron KOH-I-NOOR</td><td>170</td></tr>",
            "<tr><td>2016</td><td>Plüss sárkány</td><td>123</td></tr>",
            "<tr><td>2016</td><td>Post-it 75×75 100 lapos</td><td>115</td></tr>",
            "<tr><td>2016</td><td>Radír Tikky 30 </td><td>123</td></tr>",
            "<tr><td>2016</td><td>Radírtoll betét vastag</td><td>125</td></tr>",
            "<tr><td>2016</td><td>Ragasztószalag 19 mm-es SCOTCH+ tépő</td><td>146</td></tr>",
            "<tr><td>2016</td><td>Ragasztószalag széles barna</td><td>128</td></tr>",
            "<tr><td>2016</td><td>Rágógumi Orbit</td><td>136</td></tr>",
            "<tr><td>2016</td><td>Rajzszeg színes</td><td>145</td></tr>",
            "<tr><td>2016</td><td>Regiszteres füzet A4</td><td>122</td></tr>",
            "<tr><td>2016</td><td>sál</td><td>460</td></tr>",
            "<tr><td>2016</td><td>Sp.Füzet A/4  perforált, lyuk.</td><td>131</td></tr>",
            "<tr><td>2016</td><td>Spirál 1/4 </td><td>138</td></tr>",
            "<tr><td>2016</td><td>Strandlabda </td><td>134</td></tr>",
            "<tr><td>2016</td><td>Szalvéta gyűjtőknek</td><td>129</td></tr>",
            "<tr><td>2016</td><td>Számológép tudományos</td><td>135</td></tr>",
            "<tr><td>2016</td><td>Szemetes zsák 60 literes</td><td>137</td></tr>",
            "<tr><td>2016</td><td>Színes ceruza 12 szín</td><td>120</td></tr>",
            "<tr><td>2016</td><td>Színes másoló a/4 80g</td><td>125</td></tr>",
            "<tr><td>2016</td><td>Színes ofszet B/4</td><td>114</td></tr>",
            "<tr><td>2016</td><td>Szögmérő 180 fokos műa.</td><td>145</td></tr>",
            "<tr><td>2016</td><td>Szövegkiemelő Staedtler</td><td>131</td></tr>",
            "<tr><td>2016</td><td>Táblafilc</td><td>128</td></tr>",
            "<tr><td>2016</td><td>Tapétavágó kés</td><td>112</td></tr>",
            "<tr><td>2016</td><td>Tempera szóló ezüst</td><td>142</td></tr>",
            "<tr><td>2016</td><td>Térképtű színes</td><td>137</td></tr>",
            "<tr><td>2016</td><td>Tintapatron 30 db-os kék</td><td>113</td></tr>",
            "<tr><td>2016</td><td>Tokos iratrendező</td><td>131</td></tr>",
            "<tr><td>2016</td><td>Toll Centropen roller</td><td>150</td></tr>",
            "<tr><td>2016</td><td>Tolltartó 2 részes NG.</td><td>152</td></tr>",
            "<tr><td>2016</td><td>Töltőtoll tinta </td><td>120</td></tr>",
            "<tr><td>2016</td><td>Tornazsák</td><td>138</td></tr>",
            "<tr><td>2016</td><td>Tűzőkapocs 10-es</td><td>105</td></tr>",
            "<tr><td>2016</td><td>Vízfesték  12 színű nagy</td><td>124</td></tr>",
            "<tr><td>2016</td><td>Vonalzó 15 cm-es ESSELTE</td><td>136</td></tr>",
            "<tr><td>2016</td><td>Zászló papír</td><td>132</td></tr>",
            "<tr><td>2016</td><td>Zseléstoll Lizzy Card</td><td>125</td></tr>",
            "<tr><td>2016</td><td>NULL</td><td>26941</td></tr>",
            "<tr><td>2017</td><td>A föld amelyen élünk - Európa földrajza</td><td>38</td></tr>",
            "<tr><td>2017</td><td>A föld amelyen élünk - Hazánk földrajza</td><td>39</td></tr>",
            "<tr><td>2017</td><td>A föld amelyen élünk - Távoli földrészek</td><td>39</td></tr>",
            "<tr><td>2017</td><td>Ajándék cs. húsvéti 200x70</td><td>32</td></tr>",
            "<tr><td>2017</td><td>Ajándék cs. tasak virágos nagy</td><td>27</td></tr>",
            "<tr><td>2017</td><td>Álarc fejdísz</td><td>34</td></tr>",
            "<tr><td>2017</td><td>Álarc szemüveg</td><td>23</td></tr>",
            "<tr><td>2017</td><td>Álló irattartó</td><td>29</td></tr>",
            "<tr><td>2017</td><td>Álló irattartó karton</td><td>23</td></tr>",
            "<tr><td>2017</td><td>Alufólia 20 m-es</td><td>39</td></tr>",
            "<tr><td>2017</td><td>Árazószalag </td><td>21</td></tr>",
            "<tr><td>2017</td><td>Átírótömb A/6</td><td>37</td></tr>",
            "<tr><td>2017</td><td>Beíró A/5 kockás</td><td>27</td></tr>",
            "<tr><td>2017</td><td>Beírókönyv A4</td><td>29</td></tr>",
            "<tr><td>2017</td><td>Bélyegző pocket</td><td>43</td></tr>",
            "<tr><td>2017</td><td>Bélyegzőfesték </td><td>30</td></tr>",
            "<tr><td>2017</td><td>Bevételi pénztárbizonylat 3×25</td><td>31</td></tr>",
            "<tr><td>2017</td><td>Boríték légp. kicsi</td><td>37</td></tr>",
            "<tr><td>2017</td><td>CD tartó tok</td><td>28</td></tr>",
            "<tr><td>2017</td><td>Celofán 50 db-os</td><td>23</td></tr>",
            "<tr><td>2017</td><td>Ceruza szén</td><td>23</td></tr>",
            "<tr><td>2017</td><td>Címke WD. állat</td><td>24</td></tr>",
            "<tr><td>2017</td><td>Dekorációs karton arany, ezüst</td><td>27</td></tr>",
            "<tr><td>2017</td><td>Dipa A/4 keretezett</td><td>41</td></tr>",
            "<tr><td>2017</td><td>Díszdoboz tollnak 2 db-os</td><td>34</td></tr>",
            "<tr><td>2017</td><td>Diszkötöző széles szalag</td><td>38</td></tr>",
            "<tr><td>2017</td><td>Dvd</td><td>27</td></tr>",
            "<tr><td>2017</td><td>Ecsetkészlet</td><td>33</td></tr>",
            "<tr><td>2017</td><td>Előlap spirálhoz</td><td>27</td></tr>",
            "<tr><td>2017</td><td>Emlékkönyv</td><td>33</td></tr>",
            "<tr><td>2017</td><td>Emléklap A/5</td><td>34</td></tr>",
            "<tr><td>2017</td><td>Fax papír 15 m</td><td>28</td></tr>",
            "<tr><td>2017</td><td>Fehér másoló A/3</td><td>24</td></tr>",
            "<tr><td>2017</td><td>félfamentes rajzlap A4 (10 lap)</td><td>34</td></tr>",
            "<tr><td>2017</td><td>férfi ing</td><td>114</td></tr>",
            "<tr><td>2017</td><td>férfi szövet kabát</td><td>26</td></tr>",
            "<tr><td>2017</td><td>férfi szövet nadrág</td><td>118</td></tr>",
            "<tr><td>2017</td><td>Festékpatron BCI-3BK</td><td>33</td></tr>",
            "<tr><td>2017</td><td>Filctoll Edding 750</td><td>34</td></tr>",
            "<tr><td>2017</td><td>fiú harisnya</td><td>122</td></tr>",
            "<tr><td>2017</td><td>Floppy lemez</td><td>31</td></tr>",
            "<tr><td>2017</td><td>Fólia tasakos A4 125 mik.</td><td>25</td></tr>",
            "<tr><td>2017</td><td>Fólia tasakos A4100 mik.</td><td>33</td></tr>",
            "<tr><td>2017</td><td>Fotópapír A/4 fényes</td><td>33</td></tr>",
            "<tr><td>2017</td><td>Füzetborító öntapadó tekercses</td><td>40</td></tr>",
            "<tr><td>2017</td><td>Füzettartó A/4 keménytáblás</td><td>40</td></tr>",
            "<tr><td>2017</td><td>G.toll betét Parker </td><td>35</td></tr>",
            "<tr><td>2017</td><td>Gémkapocs 50-es</td><td>28</td></tr>",
            "<tr><td>2017</td><td>Gemkapocs ICO</td><td>35</td></tr>",
            "<tr><td>2017</td><td>Genoterm HERLITZ 10-es</td><td>43</td></tr>",
            "<tr><td>2017</td><td>Genotherm A4 10db-os</td><td>23</td></tr>",
            "<tr><td>2017</td><td>Golyóstoll 3 funkciós </td><td>32</td></tr>",
            "<tr><td>2017</td><td>Gumigyűrű</td><td>41</td></tr>",
            "<tr><td>2017</td><td>Gumilabda közepes</td><td>32</td></tr>",
            "<tr><td>2017</td><td>gyermek csizma (fiú)</td><td>110</td></tr>",
            "<tr><td>2017</td><td>gyermek csizma (lány)</td><td>124</td></tr>",
            "<tr><td>2017</td><td>gyermek farmer nadrág (fiú)</td><td>138</td></tr>",
            "<tr><td>2017</td><td>gyermek farmer nadrág (lány)</td><td>120</td></tr>",
            "<tr><td>2017</td><td>gyermek kabát (fiú)</td><td>105</td></tr>",
            "<tr><td>2017</td><td>gyermek kabát (lány)</td><td>127</td></tr>",
            "<tr><td>2017</td><td>gyermek póló (fiú)</td><td>113</td></tr>",
            "<tr><td>2017</td><td>gyermek póló (lány)</td><td>123</td></tr>",
            "<tr><td>2017</td><td>Gyorsfűző műa.</td><td>38</td></tr>",
            "<tr><td>2017</td><td>Gyurma színes natúr</td><td>29</td></tr>",
            "<tr><td>2017</td><td>Gyűrűskönyv színes</td><td>37</td></tr>",
            "<tr><td>2017</td><td>Hajgumi macis</td><td>30</td></tr>",
            "<tr><td>2017</td><td>Határidő napló 2010-s</td><td>23</td></tr>",
            "<tr><td>2017</td><td>házt.csom.  5 ív</td><td>24</td></tr>",
            "<tr><td>2017</td><td>Hegyező gép</td><td>29</td></tr>",
            "<tr><td>2017</td><td>Hegyző fém 2 lyukú</td><td>38</td></tr>",
            "<tr><td>2017</td><td>Hibajav.roll.Pritt 4,2mm</td><td>20</td></tr>",
            "<tr><td>2017</td><td>Hűtőmágnes WD</td><td>38</td></tr>",
            "<tr><td>2017</td><td>Írásvetítő fólia</td><td>28</td></tr>",
            "<tr><td>2017</td><td>Iratsín kék</td><td>35</td></tr>",
            "<tr><td>2017</td><td>irodai tűzőgép</td><td>30</td></tr>",
            "<tr><td>2017</td><td>Írólap 20-50 </td><td>38</td></tr>",
            "<tr><td>2017</td><td>Iromány fedél feles</td><td>31</td></tr>",
            "<tr><td>2017</td><td>Ironbél HI-POLIMER HB 0,7</td><td>36</td></tr>",
            "<tr><td>2017</td><td>Játékautó elemes</td><td>41</td></tr>",
            "<tr><td>2017</td><td>Jelzőkréta</td><td>34</td></tr>",
            "<tr><td>2017</td><td>Kapocskiszedő</td><td>34</td></tr>",
            "<tr><td>2017</td><td>Kártya mini Magyar</td><td>36</td></tr>",
            "<tr><td>2017</td><td>Képeslap &quot;Nászajándék&quot;</td><td>30</td></tr>",
            "<tr><td>2017</td><td>Képkirakó Dirib-darab</td><td>29</td></tr>",
            "<tr><td>2017</td><td>Körző maped</td><td>36</td></tr>",
            "<tr><td>2017</td><td>kosztüm (hosszú)</td><td>112</td></tr>",
            "<tr><td>2017</td><td>Kreatív A/4 120g </td><td>26</td></tr>",
            "<tr><td>2017</td><td>Kulcstartó intarziás állatos</td><td>37</td></tr>",
            "<tr><td>2017</td><td>Lakk filc Edding 750</td><td>26</td></tr>",
            "<tr><td>2017</td><td>lány harisnya</td><td>131</td></tr>",
            "<tr><td>2017</td><td>Levélpapír szett virágos</td><td>26</td></tr>",
            "<tr><td>2017</td><td>Logikai készlet</td><td>42</td></tr>",
            "<tr><td>2017</td><td>Lufi formázható</td><td>33</td></tr>",
            "<tr><td>2017</td><td>Lyukasztó BOXER</td><td>36</td></tr>",
            "<tr><td>2017</td><td>Mappa bőr A5</td><td>37</td></tr>",
            "<tr><td>2017</td><td>Matrica világítós </td><td>26</td></tr>",
            "<tr><td>2017</td><td>Meghívó borítékos</td><td>26</td></tr>",
            "<tr><td>2017</td><td>Miliméterpapír</td><td>39</td></tr>",
            "<tr><td>2017</td><td>Műanyag állatok</td><td>26</td></tr>",
            "<tr><td>2017</td><td>Műnyomó 300g 17,5*20</td><td>44</td></tr>",
            "<tr><td>2017</td><td>Naptár 24-es</td><td>29</td></tr>",
            "<tr><td>2017</td><td>Naptárhát nagy</td><td>31</td></tr>",
            "<tr><td>2017</td><td>Névjegytartó kicsi</td><td>31</td></tr>",
            "<tr><td>2017</td><td>női farmer nadrág</td><td>114</td></tr>",
            "<tr><td>2017</td><td>női koktélruha</td><td>117</td></tr>",
            "<tr><td>2017</td><td>női szövet kabát</td><td>110</td></tr>",
            "<tr><td>2017</td><td>Notesz A/5 sima</td><td>36</td></tr>",
            "<tr><td>2017</td><td>Notesz sima spirál College</td><td>27</td></tr>",
            "<tr><td>2017</td><td>Oki toner C</td><td>31</td></tr>",
            "<tr><td>2017</td><td>Oklevél A/4 színes</td><td>31</td></tr>",
            "<tr><td>2017</td><td>Olló Tagit 18 cm-es</td><td>33</td></tr>",
            "<tr><td>2017</td><td>Öntapadó A/4</td><td>34</td></tr>",
            "<tr><td>2017</td><td>Összefoglaló feladatgyüjtemény számtech.</td><td>47</td></tr>",
            "<tr><td>2017</td><td>Papízsebkendő,10db Szindy</td><td>23</td></tr>",
            "<tr><td>2017</td><td>Pausz papír A/4</td><td>30</td></tr>",
            "<tr><td>2017</td><td>Pénztárgépszalag 2pl SC 57.5/60</td><td>33</td></tr>",
            "<tr><td>2017</td><td>Pixiron KOH-I-NOOR</td><td>38</td></tr>",
            "<tr><td>2017</td><td>Plüss sárkány</td><td>41</td></tr>",
            "<tr><td>2017</td><td>Post-it 75×75 100 lapos</td><td>31</td></tr>",
            "<tr><td>2017</td><td>Radír Tikky 30 </td><td>36</td></tr>",
            "<tr><td>2017</td><td>Radírtoll betét vastag</td><td>39</td></tr>",
            "<tr><td>2017</td><td>Ragasztószalag 19 mm-es SCOTCH+ tépő</td><td>42</td></tr>",
            "<tr><td>2017</td><td>Ragasztószalag széles barna</td><td>35</td></tr>",
            "<tr><td>2017</td><td>Rágógumi Orbit</td><td>41</td></tr>",
            "<tr><td>2017</td><td>Rajzszeg színes</td><td>27</td></tr>",
            "<tr><td>2017</td><td>Regiszteres füzet A4</td><td>44</td></tr>",
            "<tr><td>2017</td><td>sál</td><td>122</td></tr>",
            "<tr><td>2017</td><td>Sp.Füzet A/4  perforált, lyuk.</td><td>39</td></tr>",
            "<tr><td>2017</td><td>Spirál 1/4 </td><td>25</td></tr>",
            "<tr><td>2017</td><td>Strandlabda </td><td>37</td></tr>",
            "<tr><td>2017</td><td>Szalvéta gyűjtőknek</td><td>33</td></tr>",
            "<tr><td>2017</td><td>Számológép tudományos</td><td>34</td></tr>",
            "<tr><td>2017</td><td>Szemetes zsák 60 literes</td><td>37</td></tr>",
            "<tr><td>2017</td><td>Színes ceruza 12 szín</td><td>45</td></tr>",
            "<tr><td>2017</td><td>Színes másoló a/4 80g</td><td>38</td></tr>",
            "<tr><td>2017</td><td>Színes ofszet B/4</td><td>40</td></tr>",
            "<tr><td>2017</td><td>Szögmérő 180 fokos műa.</td><td>37</td></tr>",
            "<tr><td>2017</td><td>Szövegkiemelő Staedtler</td><td>38</td></tr>",
            "<tr><td>2017</td><td>Táblafilc</td><td>37</td></tr>",
            "<tr><td>2017</td><td>Tapétavágó kés</td><td>23</td></tr>",
            "<tr><td>2017</td><td>Tempera szóló ezüst</td><td>33</td></tr>",
            "<tr><td>2017</td><td>Térképtű színes</td><td>38</td></tr>",
            "<tr><td>2017</td><td>Tintapatron 30 db-os kék</td><td>24</td></tr>",
            "<tr><td>2017</td><td>Tokos iratrendező</td><td>32</td></tr>",
            "<tr><td>2017</td><td>Toll Centropen roller</td><td>39</td></tr>",
            "<tr><td>2017</td><td>Tolltartó 2 részes NG.</td><td>32</td></tr>",
            "<tr><td>2017</td><td>Töltőtoll tinta </td><td>42</td></tr>",
            "<tr><td>2017</td><td>Tornazsák</td><td>30</td></tr>",
            "<tr><td>2017</td><td>Tűzőkapocs 10-es</td><td>31</td></tr>",
            "<tr><td>2017</td><td>Vízfesték  12 színű nagy</td><td>31</td></tr>",
            "<tr><td>2017</td><td>Vonalzó 15 cm-es ESSELTE</td><td>30</td></tr>",
            "<tr><td>2017</td><td>Zászló papír</td><td>34</td></tr>",
            "<tr><td>2017</td><td>Zseléstoll Lizzy Card</td><td>34</td></tr>",
            "<tr><td>2017</td><td>NULL</td><td>6491</td></tr>",
            "<tr><td>NULL</td><td>NULL</td><td>51019</td></tr>",
            "</table>"
        ]
    }
}
],
            "execution_count": 46
        }
    ]
}
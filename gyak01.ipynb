{
    "metadata": {
        "kernelspec": {
            "name": "SQL",
            "display_name": "SQL",
            "language": "sql"
        },
        "language_info": {
            "name": "sql",
            "version": ""
        },
        "extensions": {
            "azuredatastudio": {
                "version": 1,
                "views": []
            }
        }
    },
    "nbformat_minor": 2,
    "nbformat": 4,
    "cells": [
        {
            "cell_type": "markdown",
            "source": [
                "1\\. Melyek azok a termékek, amelyek neve az átlagosnál hosszabb?\n",
                "\n",
                "Csak a termékek kódja és megnevezése jelenjen meg!"
            ],
            "metadata": {
                "azdata_cell_guid": "f004310c-ceaa-4ddf-907b-7834e35ab5da"
            },
            "attachments": {}
        },
        {
            "cell_type": "code",
            "source": [
                "SELECT TERMEKKOD,\r\n",
                "        MEGNEVEZES\r\n",
                "FROM Termek\r\n",
                "WHERE LEN(MEGNEVEZES) > -- átlagos hossz\r\n",
                "(\r\n",
                "    -- kiszámolni az átlagos hosszt\r\n",
                "    SELECT AVG(LEN(MEGNEVEZES))\r\n",
                "    FROM Termek\r\n",
                ")"
            ],
            "metadata": {
                "azdata_cell_guid": "746d20da-a635-45a1-b7aa-d76bed204160",
                "tags": [],
                "language": "sql"
            },
            "outputs": [
                {
                    "output_type": "display_data",
                    "data": {
                        "text/html": "(266 rows affected)"
                    },
                    "metadata": {}
                },
                {
                    "output_type": "display_data",
                    "data": {
                        "text/html": "Total execution time: 00:00:00.049"
                    },
                    "metadata": {}
                },
                {
                    "output_type": "execute_result",
                    "execution_count": 4,
                    "data": {
                        "application/vnd.dataresource+json": {
                            "schema": {
                                "fields": [
                                    {
                                        "name": "TERMEKKOD"
                                    },
                                    {
                                        "name": "MEGNEVEZES"
                                    }
                                ]
                            },
                            "data": [
                                {
                                    "0": "01010001T",
                                    "1": "félfamentes rajzlap A4 (10 lap)"
                                },
                                {
                                    "0": "01010110T",
                                    "1": "Fotópapír A/4 fényes"
                                },
                                {
                                    "0": "01010304T",
                                    "1": "Öntapadós hologramos papír A/4"
                                },
                                {
                                    "0": "01020299T",
                                    "1": "Oklevél A/4 egyszínű"
                                },
                                {
                                    "0": "01080513T",
                                    "1": "Selyemfényű karton A/4"
                                },
                                {
                                    "0": "01090498T",
                                    "1": "Műnyomó 300g 17,5*20"
                                },
                                {
                                    "0": "01090499T",
                                    "1": "Color Copy A/4 250 g"
                                },
                                {
                                    "0": "01090500T",
                                    "1": "Color Copy A4 200 g"
                                },
                                {
                                    "0": "01090515T",
                                    "1": "Színes A/3 160 gr IQ"
                                },
                                {
                                    "0": "01100071T",
                                    "1": "Dekorációs karton arany, ezüst"
                                },
                                {
                                    "0": "01100072T",
                                    "1": "Dipa A/4 keretezett"
                                },
                                {
                                    "0": "01100094T",
                                    "1": "Fénymásoló papír DataCopy"
                                },
                                {
                                    "0": "01100095T",
                                    "1": "Fénymásoló papír GetCopy"
                                },
                                {
                                    "0": "01100096T",
                                    "1": "Fénymásoló papír Qconnect"
                                },
                                {
                                    "0": "01100496T",
                                    "1": "Színes másoló a/4 80g"
                                },
                                {
                                    "0": "01100497T",
                                    "1": "Color Copy 160 g-os "
                                },
                                {
                                    "0": "01100503T",
                                    "1": "Color Copy A4 120 g"
                                },
                                {
                                    "0": "02020037T",
                                    "1": "Bevételi pénztárbizonylat 3×25"
                                },
                                {
                                    "0": "02020245T",
                                    "1": "Kiadási pénztárbizonylat 2×25"
                                },
                                {
                                    "0": "02030040T",
                                    "1": "Boríték LA 4 francia"
                                },
                                {
                                    "0": "02030043T",
                                    "1": "Boríték légp. kicsi"
                                },
                                {
                                    "0": "02040025T",
                                    "1": "Álló irattartó karton"
                                },
                                {
                                    "0": "02040147T",
                                    "1": "Genotherm lefűzhető A/5"
                                },
                                {
                                    "0": "02040148T",
                                    "1": "Genotherm lefűzhető A4 10db-os"
                                },
                                {
                                    "0": "02040149T",
                                    "1": "Genotherm A4 10db-os"
                                },
                                {
                                    "0": "02040176T",
                                    "1": "Gyorsfűző dosszié fehér"
                                },
                                {
                                    "0": "02040194T",
                                    "1": "Hibajav.roll.Pritt 4,2mm"
                                },
                                {
                                    "0": "02040195T",
                                    "1": "Hibajavító ecsetes Aqua"
                                },
                                {
                                    "0": "02040196T",
                                    "1": "Hibajavító készlet Blanco"
                                },
                                {
                                    "0": "02040198T",
                                    "1": "Hibajavító roller 5 mm"
                                },
                                {
                                    "0": "02040199T",
                                    "1": "Hibajavító roller Pax"
                                },
                                {
                                    "0": "02040200T",
                                    "1": "Hibajavító Kores mini pen"
                                },
                                {
                                    "0": "02040207T",
                                    "1": "Iratgyűjtő ESSELTE ablakos"
                                },
                                {
                                    "0": "02040211T",
                                    "1": "Iratrendező ESSELTE"
                                },
                                {
                                    "0": "02040214T",
                                    "1": "Iromány fedél feles"
                                },
                                {
                                    "0": "02040295T",
                                    "1": "Notesz A/5 sima spirál"
                                },
                                {
                                    "0": "02040297T",
                                    "1": "Notesz sima spirál College"
                                },
                                {
                                    "0": "02040308T",
                                    "1": "Pénztárgépsz. 2 pl. nem öníró"
                                },
                                {
                                    "0": "02040309T",
                                    "1": "Pénztárgépszalag 2pl SC 57.5/60"
                                },
                                {
                                    "0": "02040506T",
                                    "1": "Fólia tasakos A4 125 mik."
                                },
                                {
                                    "0": "02040507T",
                                    "1": "Fólia tasakos A4 80 mik."
                                },
                                {
                                    "0": "02040508T",
                                    "1": "Fólia tasakos A4100 mik."
                                },
                                {
                                    "0": "02080433T",
                                    "1": "Ragasztószalag 19 mm-es"
                                },
                                {
                                    "0": "02080436T",
                                    "1": "Irattartó müa. boríték A/4"
                                },
                                {
                                    "0": "02080450T",
                                    "1": "Gémkapocs 28-as színes"
                                },
                                {
                                    "0": "02080455T",
                                    "1": "Festékpatron BCI-3BK"
                                },
                                {
                                    "0": "02080456T",
                                    "1": "Genoterm HERLITZ 10-es"
                                },
                                {
                                    "0": "03010342T",
                                    "1": "Ragasztószalag  TIXO"
                                },
                                {
                                    "0": "03010344T",
                                    "1": "Ragasztószalag nagy 12 mm"
                                },
                                {
                                    "0": "03010345T",
                                    "1": "Ragasztószalag széles barna"
                                },
                                {
                                    "0": "03050076T",
                                    "1": "Díszkötöző szalag metál nagy"
                                },
                                {
                                    "0": "03050077T",
                                    "1": "Diszkötöző szalag arany"
                                },
                                {
                                    "0": "03050078T",
                                    "1": "Díszkötöző szalag metál kicsi"
                                },
                                {
                                    "0": "03050079T",
                                    "1": "Díszkötöző szalag vékony"
                                },
                                {
                                    "0": "03050080T",
                                    "1": "Diszkötöző széles szalag"
                                },
                                {
                                    "0": "03050457T",
                                    "1": "Ajándék cs. tasak kicsi"
                                },
                                {
                                    "0": "03050458T",
                                    "1": "Ajándék cs. 2×100×70"
                                },
                                {
                                    "0": "03080003T",
                                    "1": "Ajándék cs. tasak italos"
                                },
                                {
                                    "0": "03080004T",
                                    "1": "Ajándék cs. tasak italos, fólia"
                                },
                                {
                                    "0": "03080005T",
                                    "1": "Ajándék cs. tasak virágos nagy"
                                },
                                {
                                    "0": "03080006T",
                                    "1": "Ajándék cs. tasak mintás kicsi"
                                },
                                {
                                    "0": "03080007T",
                                    "1": "Ajándék cs. tasak mintás nagy"
                                },
                                {
                                    "0": "03080008T",
                                    "1": "Ajándék cs. tasak kicsi"
                                },
                                {
                                    "0": "03080009T",
                                    "1": "Ajándék csom. 100x70 metál"
                                },
                                {
                                    "0": "03080010T",
                                    "1": "Ajándék csom. 150x70"
                                },
                                {
                                    "0": "03080011T",
                                    "1": "Ajándék cs. tasak közepes"
                                },
                                {
                                    "0": "03080012T",
                                    "1": "Ajándék csom. 200x70"
                                },
                                {
                                    "0": "03080013T",
                                    "1": "Ajándék csom. 50x70 húsvéti"
                                },
                                {
                                    "0": "03080014T",
                                    "1": "Ajándék csom. 70x50 metál"
                                },
                                {
                                    "0": "03080015T",
                                    "1": "Ajándék csom. gyűrt"
                                },
                                {
                                    "0": "03080017T",
                                    "1": "iskolai csomagoló papír"
                                },
                                {
                                    "0": "03080018T",
                                    "1": "Ajándék csom. gyűrt 50x70 "
                                },
                                {
                                    "0": "03080019T",
                                    "1": "Ajándék csom. Krepp"
                                },
                                {
                                    "0": "03080021T",
                                    "1": "Ajándék csom. vékony"
                                },
                                {
                                    "0": "03080030T",
                                    "1": "Ajándék cs. húsvéti 200x70"
                                },
                                {
                                    "0": "03080031T",
                                    "1": "Ajándék cs. húsvéti"
                                },
                                {
                                    "0": "03080437T",
                                    "1": "Ajándék csomagoló tasak"
                                },
                                {
                                    "0": "03080438T",
                                    "1": "Ajándék csomagoló tasak lézeres"
                                },
                                {
                                    "0": "04020445T",
                                    "1": "Határidő napló 2010-s"
                                },
                                {
                                    "0": "04030234T",
                                    "1": "Képeslap karácsonyi"
                                },
                                {
                                    "0": "04030235T",
                                    "1": "Képeslap karácsonyi borítékos"
                                },
                                {
                                    "0": "04030236T",
                                    "1": "Képeslap karácsonyi WD"
                                },
                                {
                                    "0": "04030239T",
                                    "1": "Képeslap stancolt szív"
                                },
                                {
                                    "0": "04030241T",
                                    "1": "Képeslap virágos +boríték"
                                },
                                {
                                    "0": "04030242T",
                                    "1": "Képeslap WD +boríték"
                                },
                                {
                                    "0": "04030243T",
                                    "1": "Képkirakó Dirib-darab"
                                },
                                {
                                    "0": "04030265T",
                                    "1": "Levélpapír szett natur, mintás"
                                },
                                {
                                    "0": "04030266T",
                                    "1": "Levélpapír szett virágos"
                                },
                                {
                                    "0": "04030287T",
                                    "1": "Műanyag foszforeszkáló állat"
                                },
                                {
                                    "0": "04030288T",
                                    "1": "Műanyag pohár 1 dl-es"
                                },
                                {
                                    "0": "04030289T",
                                    "1": "Műanyag pohár 5 cl-es"
                                },
                                {
                                    "0": "04050074T",
                                    "1": "Díszdoboz tollnak 2 db-os"
                                },
                                {
                                    "0": "04050075T",
                                    "1": "Díszdoboz tollnak 2 db-os keskeny"
                                },
                                {
                                    "0": "04050221T",
                                    "1": "Játékautó Blisteres"
                                },
                                {
                                    "0": "04050251T",
                                    "1": "Kulcstartó billiárd golyós"
                                },
                                {
                                    "0": "04050252T",
                                    "1": "Kulcstartó Csőrikés"
                                },
                                {
                                    "0": "04050254T",
                                    "1": "Kulcstartó intarziás állatos"
                                },
                                {
                                    "0": "04050255T",
                                    "1": "Kulcstartó mesefigurás"
                                },
                                {
                                    "0": "04050256T",
                                    "1": "Kulcstartó nagyítós"
                                },
                                {
                                    "0": "04080271T",
                                    "1": "Mappa PVC villámzáras"
                                },
                                {
                                    "0": "04080272T",
                                    "1": "Mappa PVC villámzáras  képes"
                                },
                                {
                                    "0": "04110227T",
                                    "1": "Képeslap  borítékos"
                                },
                                {
                                    "0": "04110228T",
                                    "1": "Képeslap \"Nászajándék\""
                                },
                                {
                                    "0": "04110231T",
                                    "1": "Képeslap humoros borítékos"
                                },
                                {
                                    "0": "04110232T",
                                    "1": "Képeslap humoros kaparós"
                                },
                                {
                                    "0": "04110275T",
                                    "1": "Matrica motoros kicsi"
                                },
                                {
                                    "0": "04110276T",
                                    "1": "Matrica Stickers nagy állatos"
                                },
                                {
                                    "0": "04110277T",
                                    "1": "Matrica Stickers szíves"
                                },
                                {
                                    "0": "04110278T",
                                    "1": "Matrica Test ékszer tattoo"
                                },
                                {
                                    "0": "04110280T",
                                    "1": "Matrica tetoválós kicsi"
                                },
                                {
                                    "0": "04110362T",
                                    "1": "Szalvéta gyűjtőknek"
                                },
                                {
                                    "0": "05010306T",
                                    "1": "Papízsebkendő,10db Szindy"
                                },
                                {
                                    "0": "05010369T",
                                    "1": "Szemetes zsák 60 literes"
                                },
                                {
                                    "0": "05080340T",
                                    "1": "Ragasztó, Technokol 35g kék"
                                },
                                {
                                    "0": "05080341T",
                                    "1": "Ragasztó, Technokol 35g piros"
                                },
                                {
                                    "0": "05110361T",
                                    "1": "Szalvéta Goma húsvéti"
                                },
                                {
                                    "0": "05110364T",
                                    "1": "Szalvéta kicsi virágos"
                                },
                                {
                                    "0": "06010082T",
                                    "1": "Ecset Centrum 10,11,12"
                                },
                                {
                                    "0": "06010083T",
                                    "1": "Ecset Centrum 7,8,9"
                                },
                                {
                                    "0": "06010114T",
                                    "1": "Füzet A/5 hangjegy 36/16"
                                },
                                {
                                    "0": "06010202T",
                                    "1": "Hurkapálca 10 db-os"
                                },
                                {
                                    "0": "06010305T",
                                    "1": "Papírcenti 100 cm-es"
                                },
                                {
                                    "0": "06010343T",
                                    "1": "Ragasztószalag 19 mm-es SCOTCH+ tépő"
                                },
                                {
                                    "0": "06010373T",
                                    "1": "Színes papír I.II-IV.V-VIII-ig"
                                },
                                {
                                    "0": "06010374T",
                                    "1": "Szorzótábla műanyag"
                                },
                                {
                                    "0": "06010375T",
                                    "1": "Szögmérő 180 fokos műa."
                                },
                                {
                                    "0": "06040172T",
                                    "1": "Gumis mappa csomagolt"
                                },
                                {
                                    "0": "06040173T",
                                    "1": "Gumis mappa fóliázott állatos"
                                },
                                {
                                    "0": "06040179T",
                                    "1": "Gyurma színes 200 g-os"
                                },
                                {
                                    "0": "06040180T",
                                    "1": "Gyurma színes natúr"
                                },
                                {
                                    "0": "06040182T",
                                    "1": "Gyűrűskönyv bet. A/4"
                                },
                                {
                                    "0": "06040183T",
                                    "1": "Gyűrűskönyv bet. A/5"
                                },
                                {
                                    "0": "06040184T",
                                    "1": "Gyűrűskönyv betét A/5"
                                },
                                {
                                    "0": "06040323T",
                                    "1": "Post-it 51×38 100 lapos"
                                },
                                {
                                    "0": "06040324T",
                                    "1": "Post-it 75×75 100 lapos"
                                },
                                {
                                    "0": "06040347T",
                                    "1": "Rajzlap A/4 10db ffam."
                                },
                                {
                                    "0": "06040350T",
                                    "1": "Regiszteres füzet A4"
                                },
                                {
                                    "0": "06040351T",
                                    "1": "Regiszteres füzet A5 Hightech"
                                },
                                {
                                    "0": "06040352T",
                                    "1": "Rovatolt papír 20 íves"
                                },
                                {
                                    "0": "06040354T",
                                    "1": "Sp.Füzet A/4  perforált, lyuk."
                                },
                                {
                                    "0": "06040378T",
                                    "1": "Szövegkiemelő vékony"
                                },
                                {
                                    "0": "06040381T",
                                    "1": "Szövegkiemelő Videotip"
                                },
                                {
                                    "0": "06040384T",
                                    "1": "Technika cs. I-II-III-IV"
                                },
                                {
                                    "0": "06040385T",
                                    "1": "Tempera szóló ezüst"
                                },
                                {
                                    "0": "06040386T",
                                    "1": "Tempera szóló színes"
                                },
                                {
                                    "0": "06040392T",
                                    "1": "Tolltartó 1 zipzáros"
                                },
                                {
                                    "0": "06040393T",
                                    "1": "Tolltartó 2 részes NG."
                                },
                                {
                                    "0": "06040395T",
                                    "1": "Tolltartó 2 zipzáros töltött"
                                },
                                {
                                    "0": "06040446T",
                                    "1": "Számológép tudományos"
                                },
                                {
                                    "0": "06050302T",
                                    "1": "Olló Tagit 18 cm-es"
                                },
                                {
                                    "0": "06080116T",
                                    "1": "Füzet A5 1-8 osz.-ig"
                                },
                                {
                                    "0": "06080117T",
                                    "1": "Füzetborító A/4 átlátszó"
                                },
                                {
                                    "0": "06080118T",
                                    "1": "Füzetborító átlátszó A5"
                                },
                                {
                                    "0": "06080119T",
                                    "1": "Füzetborító mesefig."
                                },
                                {
                                    "0": "06080120T",
                                    "1": "Füzetborító öntapadó kicsi"
                                },
                                {
                                    "0": "06080121T",
                                    "1": "Füzetborító öntapadó tekercses"
                                },
                                {
                                    "0": "06080122T",
                                    "1": "Füzetborító öntapadós nagy"
                                },
                                {
                                    "0": "06080123T",
                                    "1": "Füzettartó A/4 keménytáblás"
                                },
                                {
                                    "0": "06080124T",
                                    "1": "Füzettartó A/4 keménytáblás"
                                },
                                {
                                    "0": "06080125T",
                                    "1": "Füzettartó A/5 vastag"
                                },
                                {
                                    "0": "06080189T",
                                    "1": "Hegyező műanyag dupla"
                                },
                                {
                                    "0": "06080190T",
                                    "1": "Hegyező műanyag egyes"
                                },
                                {
                                    "0": "06080191T",
                                    "1": "Hegyező tartályos egyes"
                                },
                                {
                                    "0": "06080332T",
                                    "1": "Radírtoll betét ER100"
                                },
                                {
                                    "0": "06080333T",
                                    "1": "Radírtoll betét vastag"
                                },
                                {
                                    "0": "06080334T",
                                    "1": "Ragasztó szalag KORES "
                                },
                                {
                                    "0": "06080338T",
                                    "1": "Ragasztó kenőfejes Nebuló"
                                },
                                {
                                    "0": "06080407T",
                                    "1": "Vízfesték  12 színű nagy"
                                },
                                {
                                    "0": "06080409T",
                                    "1": "Vízfesték 12 színű kerek"
                                },
                                {
                                    "0": "06080410T",
                                    "1": "Vízfesték 12db-os kínai"
                                },
                                {
                                    "0": "06080411T",
                                    "1": "Vonalzó 15 cm-es ESSELTE"
                                },
                                {
                                    "0": "06080412T",
                                    "1": "Vonalzó 16 cm-es LIZZY"
                                },
                                {
                                    "0": "06080424T",
                                    "1": "Füzetborító A/4 mintás"
                                },
                                {
                                    "0": "07010137T",
                                    "1": "G.toll betét PAX tip."
                                },
                                {
                                    "0": "07010140T",
                                    "1": "G.toll betét Stabilo"
                                },
                                {
                                    "0": "07010142T",
                                    "1": "G.toll betét Zebra F-0.7"
                                },
                                {
                                    "0": "07010143T",
                                    "1": "G.toll betét Zebra H-0,7"
                                },
                                {
                                    "0": "07010144T",
                                    "1": "G.toll betét Zebra K-0,7"
                                },
                                {
                                    "0": "07010372T",
                                    "1": "Színes ceruza 12 szín"
                                },
                                {
                                    "0": "07030103T",
                                    "1": "Filctoll TINTEN PEN"
                                },
                                {
                                    "0": "07030104T",
                                    "1": "Filctoll vastag ARTIP"
                                },
                                {
                                    "0": "07030105T",
                                    "1": "Filctoll, alkoholos Centropen"
                                },
                                {
                                    "0": "07030106T",
                                    "1": "Filctoll, alkoholosOHP F-M-C"
                                },
                                {
                                    "0": "07030107T",
                                    "1": "Filctoll, textil Edding 4500"
                                },
                                {
                                    "0": "07040048T",
                                    "1": "Ceruza arany, ezüst"
                                },
                                {
                                    "0": "07040052T",
                                    "1": "Ceruza 2H-3B Koh-i-nor"
                                },
                                {
                                    "0": "07040056T",
                                    "1": "Ceruza piros-kék vékony"
                                },
                                {
                                    "0": "07040058T",
                                    "1": "Ceruza radíros kínai"
                                },
                                {
                                    "0": "07040060T",
                                    "1": "Ceruza stabilo swano"
                                },
                                {
                                    "0": "07040061T",
                                    "1": "Ceruza stabilo opera"
                                },
                                {
                                    "0": "07040098T",
                                    "1": "Filctoll document pen"
                                },
                                {
                                    "0": "07040099T",
                                    "1": "Filctoll Edding 750"
                                },
                                {
                                    "0": "07040100T",
                                    "1": "Filctoll Marvy alkoholos"
                                },
                                {
                                    "0": "07040101T",
                                    "1": "Filctoll permanent vastag"
                                },
                                {
                                    "0": "07040102T",
                                    "1": "Filctoll supra fine"
                                },
                                {
                                    "0": "07040128T",
                                    "1": "G. toll betét mini fém"
                                },
                                {
                                    "0": "07040131T",
                                    "1": "G. toll betét UNI lachnok Fine SA-7C"
                                },
                                {
                                    "0": "07040132T",
                                    "1": "G.toll betét csavaros"
                                },
                                {
                                    "0": "07040133T",
                                    "1": "G.toll betét görbe hegyű"
                                },
                                {
                                    "0": "07040134T",
                                    "1": "G.toll betét illatos"
                                },
                                {
                                    "0": "07040135T",
                                    "1": "G.toll betét Parker "
                                },
                                {
                                    "0": "07040165T",
                                    "1": "Golyóstoll UNI laknock"
                                },
                                {
                                    "0": "07040166T",
                                    "1": "Golyóstoll Zebra 301"
                                },
                                {
                                    "0": "07040167T",
                                    "1": "Golyóstoll Zebra mini"
                                },
                                {
                                    "0": "07040168T",
                                    "1": "Golyóstoll Zebra new hard"
                                },
                                {
                                    "0": "07040219T",
                                    "1": "Ironbél HI-POLIMER HB 0,7"
                                },
                                {
                                    "0": "07040257T",
                                    "1": "Lakk filc Edding 750"
                                },
                                {
                                    "0": "07040389T",
                                    "1": "Tintapatron 30 db-os kék"
                                },
                                {
                                    "0": "07040391T",
                                    "1": "Toll Centropen roller"
                                },
                                {
                                    "0": "07050464T",
                                    "1": "Szövegkiemelő Staedtler"
                                },
                                {
                                    "0": "07080063T",
                                    "1": "Ceruza szorzótáblás"
                                },
                                {
                                    "0": "07080151T",
                                    "1": "Golyóstoll + ceruza Twister 2in1"
                                },
                                {
                                    "0": "07080152T",
                                    "1": "Golyóstoll 3 funkciós "
                                },
                                {
                                    "0": "07080153T",
                                    "1": "Golyóstoll illatos ICO"
                                },
                                {
                                    "0": "07080154T",
                                    "1": "Golyóstoll INOXCROM"
                                },
                                {
                                    "0": "07080156T",
                                    "1": "Golyóstoll kupakos piros"
                                },
                                {
                                    "0": "07080157T",
                                    "1": "Golyóstoll Montex Hytone"
                                },
                                {
                                    "0": "07080158T",
                                    "1": "Golyóstoll Parker tokban"
                                },
                                {
                                    "0": "07080159T",
                                    "1": "Golyóstoll Pax tip."
                                },
                                {
                                    "0": "07080161T",
                                    "1": "Golyóstoll kétszínű"
                                },
                                {
                                    "0": "07080162T",
                                    "1": "Golyóstoll Stabilo piros"
                                },
                                {
                                    "0": "07080163T",
                                    "1": "Golyóstoll UNI átlátszó"
                                },
                                {
                                    "0": "07080164T",
                                    "1": "Golyóstoll UNI gumis"
                                },
                                {
                                    "0": "07080315T",
                                    "1": "Pixiron Handy műanyag"
                                },
                                {
                                    "0": "07080319T",
                                    "1": "Pixiron Pentel színes"
                                },
                                {
                                    "0": "07080421T",
                                    "1": "Zseléstoll Lizzy Card"
                                },
                                {
                                    "0": "07080466T",
                                    "1": "Golyóstoll Stabiló 308"
                                },
                                {
                                    "0": "07080467T",
                                    "1": "Golyóstoll kétfunkciós ICO"
                                },
                                {
                                    "0": "07080468T",
                                    "1": "Golyóstoll háromfunkciós"
                                },
                                {
                                    "0": "07080469T",
                                    "1": "Golyóstoll UNIBALL 07"
                                },
                                {
                                    "0": "07080470T",
                                    "1": "Golyóstoll háromszög"
                                },
                                {
                                    "0": "07080471T",
                                    "1": "Golyóstoll levélbontós"
                                },
                                {
                                    "0": "08070472T",
                                    "1": "A föld amelyen élünk - Európa földrajza"
                                },
                                {
                                    "0": "08070473T",
                                    "1": "A föld amelyen élünk - Távoli földrészek"
                                },
                                {
                                    "0": "08070474T",
                                    "1": "A föld amelyen élünk - Hazánk földrajza"
                                },
                                {
                                    "0": "08070475T",
                                    "1": "A föld amelyen élünk - munkafüzet"
                                },
                                {
                                    "0": "08070476T",
                                    "1": "Anyanyelvi gyakorló 2"
                                },
                                {
                                    "0": "08070477T",
                                    "1": "Anyanyelvi gyakorló 3"
                                },
                                {
                                    "0": "08070478T",
                                    "1": "Összefoglaló feladatgyüjtemény számtech."
                                },
                                {
                                    "0": "08070480T",
                                    "1": "Fizika 13 éveseknek"
                                },
                                {
                                    "0": "08070481T",
                                    "1": "Fizika munkafüzet 13 év."
                                },
                                {
                                    "0": "08070482T",
                                    "1": "Fizika munkafüzet 14 év."
                                },
                                {
                                    "0": "08070483T",
                                    "1": "Fizikai feladatok és tévedések"
                                },
                                {
                                    "0": "08070484T",
                                    "1": "Fogalmazás lépésről lépésre"
                                },
                                {
                                    "0": "08070485T",
                                    "1": "Jól felkészültem-e - Fizika"
                                },
                                {
                                    "0": "08070486T",
                                    "1": "Matematika gyakorló 2"
                                },
                                {
                                    "0": "08070487T",
                                    "1": "Matematika gyakorló 3"
                                },
                                {
                                    "0": "08070488T",
                                    "1": "Matematika gyakorló 4"
                                },
                                {
                                    "0": "08070491T",
                                    "1": "Szám.tech. kicsiknek"
                                },
                                {
                                    "0": "08070493T",
                                    "1": "Érettségi felv. fel. Matematika"
                                },
                                {
                                    "0": "08070494T",
                                    "1": "Érettségi felv. fel. Fizika"
                                },
                                {
                                    "0": "08070495T",
                                    "1": "Érettségi felv. fel. Biológia"
                                },
                                {
                                    "0": "F007-NA201",
                                    "1": "férfi farmer nadrág"
                                },
                                {
                                    "0": "F013-NA207",
                                    "1": "férfi szövet nadrág"
                                },
                                {
                                    "0": "G001-KB101",
                                    "1": "gyermek kabát (fiú)"
                                },
                                {
                                    "0": "G013-NA201",
                                    "1": "gyermek farmer nadrág (fiú)"
                                },
                                {
                                    "0": "G019-NA207",
                                    "1": "gyermek pamut nadrág (fiú)"
                                },
                                {
                                    "0": "G064-CI401",
                                    "1": "gyermek szandál (fiú)"
                                },
                                {
                                    "0": "G082-CI419",
                                    "1": "gyermek csizma (fiú)"
                                },
                                {
                                    "0": "L001-KB101",
                                    "1": "gyermek kabát (lány)"
                                },
                                {
                                    "0": "L013-NA201",
                                    "1": "gyermek farmer nadrág (lány)"
                                },
                                {
                                    "0": "L019-NA207",
                                    "1": "gyermek pamut nadrág (lány)"
                                },
                                {
                                    "0": "L048-PO218",
                                    "1": "gyermek póló (lány)"
                                },
                                {
                                    "0": "L064-CI401",
                                    "1": "gyermek szandál (lány)"
                                },
                                {
                                    "0": "L073-CI410",
                                    "1": "gyermek cipő (lány)"
                                },
                                {
                                    "0": "L082-CI419",
                                    "1": "gyermek csizma (lány)"
                                }
                            ]
                        },
                        "text/html": "<table><tr><th>TERMEKKOD</th><th>MEGNEVEZES</th></tr><tr><td>01010001T</td><td>félfamentes rajzlap A4 (10 lap)</td></tr><tr><td>01010110T</td><td>Fotópapír A/4 fényes</td></tr><tr><td>01010304T</td><td>Öntapadós hologramos papír A/4</td></tr><tr><td>01020299T</td><td>Oklevél A/4 egyszínű</td></tr><tr><td>01080513T</td><td>Selyemfényű karton A/4</td></tr><tr><td>01090498T</td><td>Műnyomó 300g 17,5*20</td></tr><tr><td>01090499T</td><td>Color Copy A/4 250 g</td></tr><tr><td>01090500T</td><td>Color Copy A4 200 g</td></tr><tr><td>01090515T</td><td>Színes A/3 160 gr IQ</td></tr><tr><td>01100071T</td><td>Dekorációs karton arany, ezüst</td></tr><tr><td>01100072T</td><td>Dipa A/4 keretezett</td></tr><tr><td>01100094T</td><td>Fénymásoló papír DataCopy</td></tr><tr><td>01100095T</td><td>Fénymásoló papír GetCopy</td></tr><tr><td>01100096T</td><td>Fénymásoló papír Qconnect</td></tr><tr><td>01100496T</td><td>Színes másoló a/4 80g</td></tr><tr><td>01100497T</td><td>Color Copy 160 g-os </td></tr><tr><td>01100503T</td><td>Color Copy A4 120 g</td></tr><tr><td>02020037T</td><td>Bevételi pénztárbizonylat 3×25</td></tr><tr><td>02020245T</td><td>Kiadási pénztárbizonylat 2×25</td></tr><tr><td>02030040T</td><td>Boríték LA 4 francia</td></tr><tr><td>02030043T</td><td>Boríték légp. kicsi</td></tr><tr><td>02040025T</td><td>Álló irattartó karton</td></tr><tr><td>02040147T</td><td>Genotherm lefűzhető A/5</td></tr><tr><td>02040148T</td><td>Genotherm lefűzhető A4 10db-os</td></tr><tr><td>02040149T</td><td>Genotherm A4 10db-os</td></tr><tr><td>02040176T</td><td>Gyorsfűző dosszié fehér</td></tr><tr><td>02040194T</td><td>Hibajav.roll.Pritt 4,2mm</td></tr><tr><td>02040195T</td><td>Hibajavító ecsetes Aqua</td></tr><tr><td>02040196T</td><td>Hibajavító készlet Blanco</td></tr><tr><td>02040198T</td><td>Hibajavító roller 5 mm</td></tr><tr><td>02040199T</td><td>Hibajavító roller Pax</td></tr><tr><td>02040200T</td><td>Hibajavító Kores mini pen</td></tr><tr><td>02040207T</td><td>Iratgyűjtő ESSELTE ablakos</td></tr><tr><td>02040211T</td><td>Iratrendező ESSELTE</td></tr><tr><td>02040214T</td><td>Iromány fedél feles</td></tr><tr><td>02040295T</td><td>Notesz A/5 sima spirál</td></tr><tr><td>02040297T</td><td>Notesz sima spirál College</td></tr><tr><td>02040308T</td><td>Pénztárgépsz. 2 pl. nem öníró</td></tr><tr><td>02040309T</td><td>Pénztárgépszalag 2pl SC 57.5/60</td></tr><tr><td>02040506T</td><td>Fólia tasakos A4 125 mik.</td></tr><tr><td>02040507T</td><td>Fólia tasakos A4 80 mik.</td></tr><tr><td>02040508T</td><td>Fólia tasakos A4100 mik.</td></tr><tr><td>02080433T</td><td>Ragasztószalag 19 mm-es</td></tr><tr><td>02080436T</td><td>Irattartó müa. boríték A/4</td></tr><tr><td>02080450T</td><td>Gémkapocs 28-as színes</td></tr><tr><td>02080455T</td><td>Festékpatron BCI-3BK</td></tr><tr><td>02080456T</td><td>Genoterm HERLITZ 10-es</td></tr><tr><td>03010342T</td><td>Ragasztószalag  TIXO</td></tr><tr><td>03010344T</td><td>Ragasztószalag nagy 12 mm</td></tr><tr><td>03010345T</td><td>Ragasztószalag széles barna</td></tr><tr><td>03050076T</td><td>Díszkötöző szalag metál nagy</td></tr><tr><td>03050077T</td><td>Diszkötöző szalag arany</td></tr><tr><td>03050078T</td><td>Díszkötöző szalag metál kicsi</td></tr><tr><td>03050079T</td><td>Díszkötöző szalag vékony</td></tr><tr><td>03050080T</td><td>Diszkötöző széles szalag</td></tr><tr><td>03050457T</td><td>Ajándék cs. tasak kicsi</td></tr><tr><td>03050458T</td><td>Ajándék cs. 2×100×70</td></tr><tr><td>03080003T</td><td>Ajándék cs. tasak italos</td></tr><tr><td>03080004T</td><td>Ajándék cs. tasak italos, fólia</td></tr><tr><td>03080005T</td><td>Ajándék cs. tasak virágos nagy</td></tr><tr><td>03080006T</td><td>Ajándék cs. tasak mintás kicsi</td></tr><tr><td>03080007T</td><td>Ajándék cs. tasak mintás nagy</td></tr><tr><td>03080008T</td><td>Ajándék cs. tasak kicsi</td></tr><tr><td>03080009T</td><td>Ajándék csom. 100x70 metál</td></tr><tr><td>03080010T</td><td>Ajándék csom. 150x70</td></tr><tr><td>03080011T</td><td>Ajándék cs. tasak közepes</td></tr><tr><td>03080012T</td><td>Ajándék csom. 200x70</td></tr><tr><td>03080013T</td><td>Ajándék csom. 50x70 húsvéti</td></tr><tr><td>03080014T</td><td>Ajándék csom. 70x50 metál</td></tr><tr><td>03080015T</td><td>Ajándék csom. gyűrt</td></tr><tr><td>03080017T</td><td>iskolai csomagoló papír</td></tr><tr><td>03080018T</td><td>Ajándék csom. gyűrt 50x70 </td></tr><tr><td>03080019T</td><td>Ajándék csom. Krepp</td></tr><tr><td>03080021T</td><td>Ajándék csom. vékony</td></tr><tr><td>03080030T</td><td>Ajándék cs. húsvéti 200x70</td></tr><tr><td>03080031T</td><td>Ajándék cs. húsvéti</td></tr><tr><td>03080437T</td><td>Ajándék csomagoló tasak</td></tr><tr><td>03080438T</td><td>Ajándék csomagoló tasak lézeres</td></tr><tr><td>04020445T</td><td>Határidő napló 2010-s</td></tr><tr><td>04030234T</td><td>Képeslap karácsonyi</td></tr><tr><td>04030235T</td><td>Képeslap karácsonyi borítékos</td></tr><tr><td>04030236T</td><td>Képeslap karácsonyi WD</td></tr><tr><td>04030239T</td><td>Képeslap stancolt szív</td></tr><tr><td>04030241T</td><td>Képeslap virágos +boríték</td></tr><tr><td>04030242T</td><td>Képeslap WD +boríték</td></tr><tr><td>04030243T</td><td>Képkirakó Dirib-darab</td></tr><tr><td>04030265T</td><td>Levélpapír szett natur, mintás</td></tr><tr><td>04030266T</td><td>Levélpapír szett virágos</td></tr><tr><td>04030287T</td><td>Műanyag foszforeszkáló állat</td></tr><tr><td>04030288T</td><td>Műanyag pohár 1 dl-es</td></tr><tr><td>04030289T</td><td>Műanyag pohár 5 cl-es</td></tr><tr><td>04050074T</td><td>Díszdoboz tollnak 2 db-os</td></tr><tr><td>04050075T</td><td>Díszdoboz tollnak 2 db-os keskeny</td></tr><tr><td>04050221T</td><td>Játékautó Blisteres</td></tr><tr><td>04050251T</td><td>Kulcstartó billiárd golyós</td></tr><tr><td>04050252T</td><td>Kulcstartó Csőrikés</td></tr><tr><td>04050254T</td><td>Kulcstartó intarziás állatos</td></tr><tr><td>04050255T</td><td>Kulcstartó mesefigurás</td></tr><tr><td>04050256T</td><td>Kulcstartó nagyítós</td></tr><tr><td>04080271T</td><td>Mappa PVC villámzáras</td></tr><tr><td>04080272T</td><td>Mappa PVC villámzáras  képes</td></tr><tr><td>04110227T</td><td>Képeslap  borítékos</td></tr><tr><td>04110228T</td><td>Képeslap &quot;Nászajándék&quot;</td></tr><tr><td>04110231T</td><td>Képeslap humoros borítékos</td></tr><tr><td>04110232T</td><td>Képeslap humoros kaparós</td></tr><tr><td>04110275T</td><td>Matrica motoros kicsi</td></tr><tr><td>04110276T</td><td>Matrica Stickers nagy állatos</td></tr><tr><td>04110277T</td><td>Matrica Stickers szíves</td></tr><tr><td>04110278T</td><td>Matrica Test ékszer tattoo</td></tr><tr><td>04110280T</td><td>Matrica tetoválós kicsi</td></tr><tr><td>04110362T</td><td>Szalvéta gyűjtőknek</td></tr><tr><td>05010306T</td><td>Papízsebkendő,10db Szindy</td></tr><tr><td>05010369T</td><td>Szemetes zsák 60 literes</td></tr><tr><td>05080340T</td><td>Ragasztó, Technokol 35g kék</td></tr><tr><td>05080341T</td><td>Ragasztó, Technokol 35g piros</td></tr><tr><td>05110361T</td><td>Szalvéta Goma húsvéti</td></tr><tr><td>05110364T</td><td>Szalvéta kicsi virágos</td></tr><tr><td>06010082T</td><td>Ecset Centrum 10,11,12</td></tr><tr><td>06010083T</td><td>Ecset Centrum 7,8,9</td></tr><tr><td>06010114T</td><td>Füzet A/5 hangjegy 36/16</td></tr><tr><td>06010202T</td><td>Hurkapálca 10 db-os</td></tr><tr><td>06010305T</td><td>Papírcenti 100 cm-es</td></tr><tr><td>06010343T</td><td>Ragasztószalag 19 mm-es SCOTCH+ tépő</td></tr><tr><td>06010373T</td><td>Színes papír I.II-IV.V-VIII-ig</td></tr><tr><td>06010374T</td><td>Szorzótábla műanyag</td></tr><tr><td>06010375T</td><td>Szögmérő 180 fokos műa.</td></tr><tr><td>06040172T</td><td>Gumis mappa csomagolt</td></tr><tr><td>06040173T</td><td>Gumis mappa fóliázott állatos</td></tr><tr><td>06040179T</td><td>Gyurma színes 200 g-os</td></tr><tr><td>06040180T</td><td>Gyurma színes natúr</td></tr><tr><td>06040182T</td><td>Gyűrűskönyv bet. A/4</td></tr><tr><td>06040183T</td><td>Gyűrűskönyv bet. A/5</td></tr><tr><td>06040184T</td><td>Gyűrűskönyv betét A/5</td></tr><tr><td>06040323T</td><td>Post-it 51×38 100 lapos</td></tr><tr><td>06040324T</td><td>Post-it 75×75 100 lapos</td></tr><tr><td>06040347T</td><td>Rajzlap A/4 10db ffam.</td></tr><tr><td>06040350T</td><td>Regiszteres füzet A4</td></tr><tr><td>06040351T</td><td>Regiszteres füzet A5 Hightech</td></tr><tr><td>06040352T</td><td>Rovatolt papír 20 íves</td></tr><tr><td>06040354T</td><td>Sp.Füzet A/4  perforált, lyuk.</td></tr><tr><td>06040378T</td><td>Szövegkiemelő vékony</td></tr><tr><td>06040381T</td><td>Szövegkiemelő Videotip</td></tr><tr><td>06040384T</td><td>Technika cs. I-II-III-IV</td></tr><tr><td>06040385T</td><td>Tempera szóló ezüst</td></tr><tr><td>06040386T</td><td>Tempera szóló színes</td></tr><tr><td>06040392T</td><td>Tolltartó 1 zipzáros</td></tr><tr><td>06040393T</td><td>Tolltartó 2 részes NG.</td></tr><tr><td>06040395T</td><td>Tolltartó 2 zipzáros töltött</td></tr><tr><td>06040446T</td><td>Számológép tudományos</td></tr><tr><td>06050302T</td><td>Olló Tagit 18 cm-es</td></tr><tr><td>06080116T</td><td>Füzet A5 1-8 osz.-ig</td></tr><tr><td>06080117T</td><td>Füzetborító A/4 átlátszó</td></tr><tr><td>06080118T</td><td>Füzetborító átlátszó A5</td></tr><tr><td>06080119T</td><td>Füzetborító mesefig.</td></tr><tr><td>06080120T</td><td>Füzetborító öntapadó kicsi</td></tr><tr><td>06080121T</td><td>Füzetborító öntapadó tekercses</td></tr><tr><td>06080122T</td><td>Füzetborító öntapadós nagy</td></tr><tr><td>06080123T</td><td>Füzettartó A/4 keménytáblás</td></tr><tr><td>06080124T</td><td>Füzettartó A/4 keménytáblás</td></tr><tr><td>06080125T</td><td>Füzettartó A/5 vastag</td></tr><tr><td>06080189T</td><td>Hegyező műanyag dupla</td></tr><tr><td>06080190T</td><td>Hegyező műanyag egyes</td></tr><tr><td>06080191T</td><td>Hegyező tartályos egyes</td></tr><tr><td>06080332T</td><td>Radírtoll betét ER100</td></tr><tr><td>06080333T</td><td>Radírtoll betét vastag</td></tr><tr><td>06080334T</td><td>Ragasztó szalag KORES </td></tr><tr><td>06080338T</td><td>Ragasztó kenőfejes Nebuló</td></tr><tr><td>06080407T</td><td>Vízfesték  12 színű nagy</td></tr><tr><td>06080409T</td><td>Vízfesték 12 színű kerek</td></tr><tr><td>06080410T</td><td>Vízfesték 12db-os kínai</td></tr><tr><td>06080411T</td><td>Vonalzó 15 cm-es ESSELTE</td></tr><tr><td>06080412T</td><td>Vonalzó 16 cm-es LIZZY</td></tr><tr><td>06080424T</td><td>Füzetborító A/4 mintás</td></tr><tr><td>07010137T</td><td>G.toll betét PAX tip.</td></tr><tr><td>07010140T</td><td>G.toll betét Stabilo</td></tr><tr><td>07010142T</td><td>G.toll betét Zebra F-0.7</td></tr><tr><td>07010143T</td><td>G.toll betét Zebra H-0,7</td></tr><tr><td>07010144T</td><td>G.toll betét Zebra K-0,7</td></tr><tr><td>07010372T</td><td>Színes ceruza 12 szín</td></tr><tr><td>07030103T</td><td>Filctoll TINTEN PEN</td></tr><tr><td>07030104T</td><td>Filctoll vastag ARTIP</td></tr><tr><td>07030105T</td><td>Filctoll, alkoholos Centropen</td></tr><tr><td>07030106T</td><td>Filctoll, alkoholosOHP F-M-C</td></tr><tr><td>07030107T</td><td>Filctoll, textil Edding 4500</td></tr><tr><td>07040048T</td><td>Ceruza arany, ezüst</td></tr><tr><td>07040052T</td><td>Ceruza 2H-3B Koh-i-nor</td></tr><tr><td>07040056T</td><td>Ceruza piros-kék vékony</td></tr><tr><td>07040058T</td><td>Ceruza radíros kínai</td></tr><tr><td>07040060T</td><td>Ceruza stabilo swano</td></tr><tr><td>07040061T</td><td>Ceruza stabilo opera</td></tr><tr><td>07040098T</td><td>Filctoll document pen</td></tr><tr><td>07040099T</td><td>Filctoll Edding 750</td></tr><tr><td>07040100T</td><td>Filctoll Marvy alkoholos</td></tr><tr><td>07040101T</td><td>Filctoll permanent vastag</td></tr><tr><td>07040102T</td><td>Filctoll supra fine</td></tr><tr><td>07040128T</td><td>G. toll betét mini fém</td></tr><tr><td>07040131T</td><td>G. toll betét UNI lachnok Fine SA-7C</td></tr><tr><td>07040132T</td><td>G.toll betét csavaros</td></tr><tr><td>07040133T</td><td>G.toll betét görbe hegyű</td></tr><tr><td>07040134T</td><td>G.toll betét illatos</td></tr><tr><td>07040135T</td><td>G.toll betét Parker </td></tr><tr><td>07040165T</td><td>Golyóstoll UNI laknock</td></tr><tr><td>07040166T</td><td>Golyóstoll Zebra 301</td></tr><tr><td>07040167T</td><td>Golyóstoll Zebra mini</td></tr><tr><td>07040168T</td><td>Golyóstoll Zebra new hard</td></tr><tr><td>07040219T</td><td>Ironbél HI-POLIMER HB 0,7</td></tr><tr><td>07040257T</td><td>Lakk filc Edding 750</td></tr><tr><td>07040389T</td><td>Tintapatron 30 db-os kék</td></tr><tr><td>07040391T</td><td>Toll Centropen roller</td></tr><tr><td>07050464T</td><td>Szövegkiemelő Staedtler</td></tr><tr><td>07080063T</td><td>Ceruza szorzótáblás</td></tr><tr><td>07080151T</td><td>Golyóstoll + ceruza Twister 2in1</td></tr><tr><td>07080152T</td><td>Golyóstoll 3 funkciós </td></tr><tr><td>07080153T</td><td>Golyóstoll illatos ICO</td></tr><tr><td>07080154T</td><td>Golyóstoll INOXCROM</td></tr><tr><td>07080156T</td><td>Golyóstoll kupakos piros</td></tr><tr><td>07080157T</td><td>Golyóstoll Montex Hytone</td></tr><tr><td>07080158T</td><td>Golyóstoll Parker tokban</td></tr><tr><td>07080159T</td><td>Golyóstoll Pax tip.</td></tr><tr><td>07080161T</td><td>Golyóstoll kétszínű</td></tr><tr><td>07080162T</td><td>Golyóstoll Stabilo piros</td></tr><tr><td>07080163T</td><td>Golyóstoll UNI átlátszó</td></tr><tr><td>07080164T</td><td>Golyóstoll UNI gumis</td></tr><tr><td>07080315T</td><td>Pixiron Handy műanyag</td></tr><tr><td>07080319T</td><td>Pixiron Pentel színes</td></tr><tr><td>07080421T</td><td>Zseléstoll Lizzy Card</td></tr><tr><td>07080466T</td><td>Golyóstoll Stabiló 308</td></tr><tr><td>07080467T</td><td>Golyóstoll kétfunkciós ICO</td></tr><tr><td>07080468T</td><td>Golyóstoll háromfunkciós</td></tr><tr><td>07080469T</td><td>Golyóstoll UNIBALL 07</td></tr><tr><td>07080470T</td><td>Golyóstoll háromszög</td></tr><tr><td>07080471T</td><td>Golyóstoll levélbontós</td></tr><tr><td>08070472T</td><td>A föld amelyen élünk - Európa földrajza</td></tr><tr><td>08070473T</td><td>A föld amelyen élünk - Távoli földrészek</td></tr><tr><td>08070474T</td><td>A föld amelyen élünk - Hazánk földrajza</td></tr><tr><td>08070475T</td><td>A föld amelyen élünk - munkafüzet</td></tr><tr><td>08070476T</td><td>Anyanyelvi gyakorló 2</td></tr><tr><td>08070477T</td><td>Anyanyelvi gyakorló 3</td></tr><tr><td>08070478T</td><td>Összefoglaló feladatgyüjtemény számtech.</td></tr><tr><td>08070480T</td><td>Fizika 13 éveseknek</td></tr><tr><td>08070481T</td><td>Fizika munkafüzet 13 év.</td></tr><tr><td>08070482T</td><td>Fizika munkafüzet 14 év.</td></tr><tr><td>08070483T</td><td>Fizikai feladatok és tévedések</td></tr><tr><td>08070484T</td><td>Fogalmazás lépésről lépésre</td></tr><tr><td>08070485T</td><td>Jól felkészültem-e - Fizika</td></tr><tr><td>08070486T</td><td>Matematika gyakorló 2</td></tr><tr><td>08070487T</td><td>Matematika gyakorló 3</td></tr><tr><td>08070488T</td><td>Matematika gyakorló 4</td></tr><tr><td>08070491T</td><td>Szám.tech. kicsiknek</td></tr><tr><td>08070493T</td><td>Érettségi felv. fel. Matematika</td></tr><tr><td>08070494T</td><td>Érettségi felv. fel. Fizika</td></tr><tr><td>08070495T</td><td>Érettségi felv. fel. Biológia</td></tr><tr><td>F007-NA201</td><td>férfi farmer nadrág</td></tr><tr><td>F013-NA207</td><td>férfi szövet nadrág</td></tr><tr><td>G001-KB101</td><td>gyermek kabát (fiú)</td></tr><tr><td>G013-NA201</td><td>gyermek farmer nadrág (fiú)</td></tr><tr><td>G019-NA207</td><td>gyermek pamut nadrág (fiú)</td></tr><tr><td>G064-CI401</td><td>gyermek szandál (fiú)</td></tr><tr><td>G082-CI419</td><td>gyermek csizma (fiú)</td></tr><tr><td>L001-KB101</td><td>gyermek kabát (lány)</td></tr><tr><td>L013-NA201</td><td>gyermek farmer nadrág (lány)</td></tr><tr><td>L019-NA207</td><td>gyermek pamut nadrág (lány)</td></tr><tr><td>L048-PO218</td><td>gyermek póló (lány)</td></tr><tr><td>L064-CI401</td><td>gyermek szandál (lány)</td></tr><tr><td>L073-CI410</td><td>gyermek cipő (lány)</td></tr><tr><td>L082-CI419</td><td>gyermek csizma (lány)</td></tr></table>"
                    },
                    "metadata": {}
                }
            ],
            "execution_count": 4
        },
        {
            "cell_type": "markdown",
            "source": [
                "2\\. Melyek azok a termékek, amelyekből ugyanannyi van készleten, mint dvd-ből?\n",
                "\n",
                "Csak a termékek kódja és megnevezése jelenjen meg!\n",
                "\n",
                "A Dvd ne szerepeljen a listában!"
            ],
            "metadata": {
                "azdata_cell_guid": "f6494534-2b52-4288-a52a-568d3c793b99"
            },
            "attachments": {}
        },
        {
            "cell_type": "code",
            "source": [
                "SELECT TERMEKKOD,\r\n",
                "        MEGNEVEZES\r\n",
                "FROM Termek\r\n",
                "WHERE KESZLET = (\r\n",
                "    SELECT KESZLET\r\n",
                "    FROM Termek\r\n",
                "    WHERE MEGNEVEZES = 'Dvd'\r\n",
                ")\r\n",
                "AND MEGNEVEZES != 'Dvd'"
            ],
            "metadata": {
                "azdata_cell_guid": "344b7c13-f29e-46f3-82a3-2e6e70f48342",
                "language": "sql"
            },
            "outputs": [
                {
                    "output_type": "display_data",
                    "data": {
                        "text/html": "(5 rows affected)"
                    },
                    "metadata": {}
                },
                {
                    "output_type": "display_data",
                    "data": {
                        "text/html": "Total execution time: 00:00:00.044"
                    },
                    "metadata": {}
                },
                {
                    "output_type": "execute_result",
                    "execution_count": 17,
                    "data": {
                        "application/vnd.dataresource+json": {
                            "schema": {
                                "fields": [
                                    {
                                        "name": "TERMEKKOD"
                                    },
                                    {
                                        "name": "MEGNEVEZES"
                                    }
                                ]
                            },
                            "data": [
                                {
                                    "0": "02080226T",
                                    "1": "Kapocskiszedő"
                                },
                                {
                                    "0": "03080015T",
                                    "1": "Ajándék csom. gyűrt"
                                },
                                {
                                    "0": "04030263T",
                                    "1": "Levélpapír szett"
                                },
                                {
                                    "0": "04050269T",
                                    "1": "Lufi hullámos"
                                },
                                {
                                    "0": "08070491T",
                                    "1": "Szám.tech. kicsiknek"
                                }
                            ]
                        },
                        "text/html": "<table><tr><th>TERMEKKOD</th><th>MEGNEVEZES</th></tr><tr><td>02080226T</td><td>Kapocskiszedő</td></tr><tr><td>03080015T</td><td>Ajándék csom. gyűrt</td></tr><tr><td>04030263T</td><td>Levélpapír szett</td></tr><tr><td>04050269T</td><td>Lufi hullámos</td></tr><tr><td>08070491T</td><td>Szám.tech. kicsiknek</td></tr></table>"
                    },
                    "metadata": {}
                }
            ],
            "execution_count": 17
        },
        {
            "cell_type": "markdown",
            "source": [
                "3\\. Melyek azok a raktárak, amelyekben nincs olyan termék, amelynek nevében a \n",
                "\n",
                "matrica szó benne van? A listában a raktárak minden adata jelenjen meg!"
            ],
            "metadata": {
                "azdata_cell_guid": "189fb98f-63c9-43d8-bfb6-b26744b06195"
            },
            "attachments": {}
        },
        {
            "cell_type": "code",
            "source": [
                "SELECT *\r\n",
                "FROM Raktar\r\n",
                "WHERE RAKTAR_KOD NOT IN\r\n",
                "(\r\n",
                "    -- ahol van olyan termék, amelynek nevében a matrica benne van\r\n",
                "    SELECT RAKTAR_KOD\r\n",
                "    FROM Termek\r\n",
                "    WHERE MEGNEVEZES like '%matrica%'\r\n",
                ")"
            ],
            "metadata": {
                "azdata_cell_guid": "6a0c3400-7129-41f2-8332-b541455a5725",
                "language": "sql"
            },
            "outputs": [
                {
                    "output_type": "display_data",
                    "data": {
                        "text/html": "(4 rows affected)"
                    },
                    "metadata": {}
                },
                {
                    "output_type": "display_data",
                    "data": {
                        "text/html": "Total execution time: 00:00:00.054"
                    },
                    "metadata": {}
                },
                {
                    "output_type": "execute_result",
                    "execution_count": 25,
                    "data": {
                        "application/vnd.dataresource+json": {
                            "schema": {
                                "fields": [
                                    {
                                        "name": "RAKTAR_KOD"
                                    },
                                    {
                                        "name": "RAKTAR_NEV"
                                    },
                                    {
                                        "name": "RAKTAR_CIM"
                                    }
                                ]
                            },
                            "data": [
                                {
                                    "0": "1",
                                    "1": "Kisfaludy",
                                    "2": "2135 Csörög Kisfaludy u. 55."
                                },
                                {
                                    "0": "2",
                                    "1": "Nagyszeben",
                                    "2": "1182 Budapest Nagyszeben u. 12."
                                },
                                {
                                    "0": "3",
                                    "1": "Toldy",
                                    "2": "1015 Budapest Toldy F. u. 58."
                                },
                                {
                                    "0": "4",
                                    "1": "KIS",
                                    "2": "1039 Budapest Madzsar J. u. 23."
                                }
                            ]
                        },
                        "text/html": "<table><tr><th>RAKTAR_KOD</th><th>RAKTAR_NEV</th><th>RAKTAR_CIM</th></tr><tr><td>1</td><td>Kisfaludy</td><td>2135 Csörög Kisfaludy u. 55.</td></tr><tr><td>2</td><td>Nagyszeben</td><td>1182 Budapest Nagyszeben u. 12.</td></tr><tr><td>3</td><td>Toldy</td><td>1015 Budapest Toldy F. u. 58.</td></tr><tr><td>4</td><td>KIS</td><td>1039 Budapest Madzsar J. u. 23.</td></tr></table>"
                    },
                    "metadata": {}
                }
            ],
            "execution_count": 25
        },
        {
            "cell_type": "markdown",
            "source": [
                "4. Mely nap(ok)on történt a legkevesebb megrendelés?"
            ],
            "metadata": {
                "azdata_cell_guid": "2ad2ab6b-37ef-4c49-b3d0-b0c30e88c7fe"
            },
            "attachments": {}
        },
        {
            "cell_type": "code",
            "source": [
                "SELECT REND_DATUM\r\n",
                " FROM Rendeles\r\n",
                " GROUP BY REND_DATUM\r\n",
                " HAVING COUNT(*)<= ALL\r\n",
                " (\r\n",
                "   SELECT COUNT(*)\r\n",
                "   FROM Rendeles\r\n",
                "   GROUP BY REND_DATUM\r\n",
                " )"
            ],
            "metadata": {
                "azdata_cell_guid": "70db8806-d4de-4ec2-b554-78efdc029c2b",
                "tags": [],
                "language": "sql"
            },
            "outputs": [
                {
                    "output_type": "display_data",
                    "data": {
                        "text/html": "(1 row affected)"
                    },
                    "metadata": {}
                },
                {
                    "output_type": "display_data",
                    "data": {
                        "text/html": "Total execution time: 00:00:00.476"
                    },
                    "metadata": {}
                },
                {
                    "output_type": "execute_result",
                    "metadata": {},
                    "execution_count": 2,
                    "data": {
                        "application/vnd.dataresource+json": {
                            "schema": {
                                "fields": [
                                    {
                                        "name": "REND_DATUM"
                                    }
                                ]
                            },
                            "data": [
                                {
                                    "REND_DATUM": "2017-01-27"
                                }
                            ]
                        },
                        "text/html": [
                            "<table>",
                            "<tr><th>REND_DATUM</th></tr>",
                            "<tr><td>2017-01-27</td></tr>",
                            "</table>"
                        ]
                    }
                }
            ],
            "execution_count": 2
        },
        {
            "cell_type": "markdown",
            "source": [
                "5\\. Listázzuk azon termékek adatait, amelyek listaára saját raktárukban\n",
                "\n",
                "  a legkisebb!"
            ],
            "metadata": {
                "azdata_cell_guid": "a906538f-8a7d-43d5-b248-9a827c64c48a"
            },
            "attachments": {}
        },
        {
            "cell_type": "code",
            "source": [
                "SELECT t.*\r\n",
                "FROM Termek t\r\n",
                "WHERE T.LISTAAR=\r\n",
                "(\r\n",
                " SELECT MIN(t2.LISTAAR)\r\n",
                " FROM Termek t2\r\n",
                " WHERE t2.RAKTAR_KOD = t.RAKTAR_KOD\r\n",
                ")"
            ],
            "metadata": {
                "azdata_cell_guid": "85355aab-2aa3-4e21-91ab-0cb991d08145",
                "language": "sql"
            },
            "outputs": [
                {
                    "output_type": "display_data",
                    "data": {
                        "text/html": "(10 rows affected)"
                    },
                    "metadata": {}
                },
                {
                    "output_type": "display_data",
                    "data": {
                        "text/html": "Total execution time: 00:00:00.323"
                    },
                    "metadata": {}
                },
                {
                    "output_type": "execute_result",
                    "metadata": {},
                    "execution_count": 4,
                    "data": {
                        "application/vnd.dataresource+json": {
                            "schema": {
                                "fields": [
                                    {
                                        "name": "TERMEKKOD"
                                    },
                                    {
                                        "name": "MEGNEVEZES"
                                    },
                                    {
                                        "name": "KAT_ID"
                                    },
                                    {
                                        "name": "LISTAAR"
                                    },
                                    {
                                        "name": "LEIRAS"
                                    },
                                    {
                                        "name": "RAKTAR_KOD"
                                    },
                                    {
                                        "name": "KESZLET"
                                    },
                                    {
                                        "name": "MEGYS"
                                    },
                                    {
                                        "name": "FELVITTE"
                                    },
                                    {
                                        "name": "FELVITEL"
                                    }
                                ]
                            },
                            "data": [
                                {
                                    "TERMEKKOD": "L023-FE301",
                                    "MEGNEVEZES": "lány alsó",
                                    "KAT_ID": "35",
                                    "LISTAAR": "390",
                                    "LEIRAS": "pamut ",
                                    "RAKTAR_KOD": "1",
                                    "KESZLET": "369",
                                    "MEGYS": "db",
                                    "FELVITTE": "Béla",
                                    "FELVITEL": "2016-07-26"
                                },
                                {
                                    "TERMEKKOD": "06080119T",
                                    "MEGNEVEZES": "Füzetborító mesefig.",
                                    "KAT_ID": "46",
                                    "LISTAAR": "19",
                                    "LEIRAS": "NULL",
                                    "RAKTAR_KOD": "2",
                                    "KESZLET": "100",
                                    "MEGYS": "db",
                                    "FELVITTE": "Mari",
                                    "FELVITEL": "2016-07-09"
                                },
                                {
                                    "TERMEKKOD": "G023-FE301",
                                    "MEGNEVEZES": "fiú alsó",
                                    "KAT_ID": "35",
                                    "LISTAAR": "390",
                                    "LEIRAS": "mintás (pamut) ",
                                    "RAKTAR_KOD": "3",
                                    "KESZLET": "328",
                                    "MEGYS": "db",
                                    "FELVITTE": "Sára",
                                    "FELVITEL": "2016-08-13"
                                },
                                {
                                    "TERMEKKOD": "L029-FE307",
                                    "MEGNEVEZES": "lány zokni",
                                    "KAT_ID": "35",
                                    "LISTAAR": "240",
                                    "LEIRAS": "fehér (pamut) ",
                                    "RAKTAR_KOD": "4",
                                    "KESZLET": "470",
                                    "MEGYS": "db",
                                    "FELVITTE": "Béla",
                                    "FELVITEL": "2016-07-27"
                                },
                                {
                                    "TERMEKKOD": "G029-FE307",
                                    "MEGNEVEZES": "fiú zokni",
                                    "KAT_ID": "35",
                                    "LISTAAR": "240",
                                    "LEIRAS": "mintás (pamut) ",
                                    "RAKTAR_KOD": "4",
                                    "KESZLET": "468",
                                    "MEGYS": "db",
                                    "FELVITTE": "Sára",
                                    "FELVITEL": "2016-08-13"
                                },
                                {
                                    "TERMEKKOD": "07030108T",
                                    "MEGNEVEZES": "Filctoll CD író",
                                    "KAT_ID": "41",
                                    "LISTAAR": "0",
                                    "LEIRAS": "NULL",
                                    "RAKTAR_KOD": "5",
                                    "KESZLET": "500",
                                    "MEGYS": "db",
                                    "FELVITTE": "Mari",
                                    "FELVITEL": "2016-07-21"
                                },
                                {
                                    "TERMEKKOD": "02030042T",
                                    "MEGNEVEZES": "Boríték LC 6",
                                    "KAT_ID": "16",
                                    "LISTAAR": "3",
                                    "LEIRAS": "NULL",
                                    "RAKTAR_KOD": "6",
                                    "KESZLET": "2000",
                                    "MEGYS": "db",
                                    "FELVITTE": "Mari",
                                    "FELVITEL": "2016-07-15"
                                },
                                {
                                    "TERMEKKOD": "04030288T",
                                    "MEGNEVEZES": "Műanyag pohár 1 dl-es",
                                    "KAT_ID": "25",
                                    "LISTAAR": "3",
                                    "LEIRAS": "NULL",
                                    "RAKTAR_KOD": "7",
                                    "KESZLET": "100",
                                    "MEGYS": "db",
                                    "FELVITTE": "Béla",
                                    "FELVITEL": "2016-07-26"
                                },
                                {
                                    "TERMEKKOD": "01090498T",
                                    "MEGNEVEZES": "Műnyomó 300g 17,5*20",
                                    "KAT_ID": "101",
                                    "LISTAAR": "3",
                                    "LEIRAS": "NULL",
                                    "RAKTAR_KOD": "8",
                                    "KESZLET": "1800",
                                    "MEGYS": "ív",
                                    "FELVITTE": "Mari",
                                    "FELVITEL": "2016-07-06"
                                },
                                {
                                    "TERMEKKOD": "02030041T",
                                    "MEGNEVEZES": "Boríték LC 5",
                                    "KAT_ID": "16",
                                    "LISTAAR": "6",
                                    "LEIRAS": "NULL",
                                    "RAKTAR_KOD": "9",
                                    "KESZLET": "2000",
                                    "MEGYS": "db",
                                    "FELVITTE": "Mari",
                                    "FELVITEL": "2016-07-12"
                                }
                            ]
                        },
                        "text/html": [
                            "<table>",
                            "<tr><th>TERMEKKOD</th><th>MEGNEVEZES</th><th>KAT_ID</th><th>LISTAAR</th><th>LEIRAS</th><th>RAKTAR_KOD</th><th>KESZLET</th><th>MEGYS</th><th>FELVITTE</th><th>FELVITEL</th></tr>",
                            "<tr><td>L023-FE301</td><td>lány alsó</td><td>35</td><td>390</td><td>pamut </td><td>1</td><td>369</td><td>db</td><td>Béla</td><td>2016-07-26</td></tr>",
                            "<tr><td>06080119T</td><td>Füzetborító mesefig.</td><td>46</td><td>19</td><td>NULL</td><td>2</td><td>100</td><td>db</td><td>Mari</td><td>2016-07-09</td></tr>",
                            "<tr><td>G023-FE301</td><td>fiú alsó</td><td>35</td><td>390</td><td>mintás (pamut) </td><td>3</td><td>328</td><td>db</td><td>Sára</td><td>2016-08-13</td></tr>",
                            "<tr><td>L029-FE307</td><td>lány zokni</td><td>35</td><td>240</td><td>fehér (pamut) </td><td>4</td><td>470</td><td>db</td><td>Béla</td><td>2016-07-27</td></tr>",
                            "<tr><td>G029-FE307</td><td>fiú zokni</td><td>35</td><td>240</td><td>mintás (pamut) </td><td>4</td><td>468</td><td>db</td><td>Sára</td><td>2016-08-13</td></tr>",
                            "<tr><td>07030108T</td><td>Filctoll CD író</td><td>41</td><td>0</td><td>NULL</td><td>5</td><td>500</td><td>db</td><td>Mari</td><td>2016-07-21</td></tr>",
                            "<tr><td>02030042T</td><td>Boríték LC 6</td><td>16</td><td>3</td><td>NULL</td><td>6</td><td>2000</td><td>db</td><td>Mari</td><td>2016-07-15</td></tr>",
                            "<tr><td>04030288T</td><td>Műanyag pohár 1 dl-es</td><td>25</td><td>3</td><td>NULL</td><td>7</td><td>100</td><td>db</td><td>Béla</td><td>2016-07-26</td></tr>",
                            "<tr><td>01090498T</td><td>Műnyomó 300g 17,5*20</td><td>101</td><td>3</td><td>NULL</td><td>8</td><td>1800</td><td>ív</td><td>Mari</td><td>2016-07-06</td></tr>",
                            "<tr><td>02030041T</td><td>Boríték LC 5</td><td>16</td><td>6</td><td>NULL</td><td>9</td><td>2000</td><td>db</td><td>Mari</td><td>2016-07-12</td></tr>",
                            "</table>"
                        ]
                    }
                }
            ],
            "execution_count": 4
        },
        {
            "cell_type": "markdown",
            "source": [
                "6\\. Készítsünk listát arról, hogy ügyfelenként (LOGIN), azon belül\n",
                "\n",
                " szállítási módonként hány megrendelés történt! \n",
                "\n",
                " A lista tartalmazza a részösszegeket és a végösszeget is!\n",
                "\n",
                " Használjuk a ROLLUP záradékot!"
            ],
            "metadata": {
                "azdata_cell_guid": "3a9d813d-a3d4-40e5-816b-9c8ff9b37fc0"
            },
            "attachments": {}
        },
        {
            "cell_type": "code",
            "source": [
                "-- ROLLUP\r\n",
                "SELECT [LOGIN], SZALL_MOD, COUNT(*) as Összesen\r\n",
                "FROM Rendeles\r\n",
                "GROUP BY ROLLUP([LOGIN], SZALL_MOD)"
            ],
            "metadata": {
                "azdata_cell_guid": "9e8d489b-a146-422d-8611-2e8b095d130f",
                "language": "sql"
            },
            "outputs": [
                {
                    "output_type": "display_data",
                    "data": {
                        "text/html": "(763 rows affected)"
                    },
                    "metadata": {}
                },
                {
                    "output_type": "display_data",
                    "data": {
                        "text/html": "Total execution time: 00:00:00.105"
                    },
                    "metadata": {}
                },
                {
                    "output_type": "execute_result",
                    "execution_count": 39,
                    "data": {
                        "application/vnd.dataresource+json": {
                            "schema": {
                                "fields": [
                                    {
                                        "name": "LOGIN"
                                    },
                                    {
                                        "name": "SZALL_MOD"
                                    },
                                    {
                                        "name": "Összesen"
                                    }
                                ]
                            },
                            "data": [
                                {
                                    "0": "adam1",
                                    "1": "GLS",
                                    "2": "129"
                                },
                                {
                                    "0": "adam1",
                                    "1": "Posta",
                                    "2": "132"
                                },
                                {
                                    "0": "adam1",
                                    "1": "Személyes átvétel",
                                    "2": "131"
                                },
                                {
                                    "0": "adam1",
                                    "1": "NULL",
                                    "2": "392"
                                },
                                {
                                    "0": "adam3",
                                    "1": "GLS",
                                    "2": "10"
                                },
                                {
                                    "0": "adam3",
                                    "1": "Posta",
                                    "2": "3"
                                },
                                {
                                    "0": "adam3",
                                    "1": "Személyes átvétel",
                                    "2": "2"
                                },
                                {
                                    "0": "adam3",
                                    "1": "NULL",
                                    "2": "15"
                                },
                                {
                                    "0": "adam4",
                                    "1": "GLS",
                                    "2": "12"
                                },
                                {
                                    "0": "adam4",
                                    "1": "Posta",
                                    "2": "6"
                                },
                                {
                                    "0": "adam4",
                                    "1": "Személyes átvétel",
                                    "2": "11"
                                },
                                {
                                    "0": "adam4",
                                    "1": "NULL",
                                    "2": "29"
                                },
                                {
                                    "0": "agnes",
                                    "1": "GLS",
                                    "2": "144"
                                },
                                {
                                    "0": "agnes",
                                    "1": "Posta",
                                    "2": "130"
                                },
                                {
                                    "0": "agnes",
                                    "1": "Személyes átvétel",
                                    "2": "144"
                                },
                                {
                                    "0": "agnes",
                                    "1": "NULL",
                                    "2": "418"
                                },
                                {
                                    "0": "agnes3",
                                    "1": "GLS",
                                    "2": "148"
                                },
                                {
                                    "0": "agnes3",
                                    "1": "Posta",
                                    "2": "146"
                                },
                                {
                                    "0": "agnes3",
                                    "1": "Személyes átvétel",
                                    "2": "136"
                                },
                                {
                                    "0": "agnes3",
                                    "1": "NULL",
                                    "2": "430"
                                },
                                {
                                    "0": "AGNESH",
                                    "1": "GLS",
                                    "2": "2"
                                },
                                {
                                    "0": "AGNESH",
                                    "1": "Posta",
                                    "2": "3"
                                },
                                {
                                    "0": "AGNESH",
                                    "1": "Személyes átvétel",
                                    "2": "6"
                                },
                                {
                                    "0": "AGNESH",
                                    "1": "NULL",
                                    "2": "11"
                                },
                                {
                                    "0": "AGNESK",
                                    "1": "GLS",
                                    "2": "1"
                                },
                                {
                                    "0": "AGNESK",
                                    "1": "Posta",
                                    "2": "7"
                                },
                                {
                                    "0": "AGNESK",
                                    "1": "Személyes átvétel",
                                    "2": "7"
                                },
                                {
                                    "0": "AGNESK",
                                    "1": "NULL",
                                    "2": "15"
                                },
                                {
                                    "0": "akos",
                                    "1": "GLS",
                                    "2": "146"
                                },
                                {
                                    "0": "akos",
                                    "1": "Posta",
                                    "2": "143"
                                },
                                {
                                    "0": "akos",
                                    "1": "Személyes átvétel",
                                    "2": "140"
                                },
                                {
                                    "0": "akos",
                                    "1": "NULL",
                                    "2": "429"
                                },
                                {
                                    "0": "aladar",
                                    "1": "GLS",
                                    "2": "156"
                                },
                                {
                                    "0": "aladar",
                                    "1": "Posta",
                                    "2": "134"
                                },
                                {
                                    "0": "aladar",
                                    "1": "Személyes átvétel",
                                    "2": "118"
                                },
                                {
                                    "0": "aladar",
                                    "1": "NULL",
                                    "2": "408"
                                },
                                {
                                    "0": "alexandra",
                                    "1": "GLS",
                                    "2": "5"
                                },
                                {
                                    "0": "alexandra",
                                    "1": "Posta",
                                    "2": "9"
                                },
                                {
                                    "0": "alexandra",
                                    "1": "Személyes átvétel",
                                    "2": "5"
                                },
                                {
                                    "0": "alexandra",
                                    "1": "NULL",
                                    "2": "19"
                                },
                                {
                                    "0": "andi",
                                    "1": "GLS",
                                    "2": "7"
                                },
                                {
                                    "0": "andi",
                                    "1": "Posta",
                                    "2": "4"
                                },
                                {
                                    "0": "andi",
                                    "1": "Személyes átvétel",
                                    "2": "7"
                                },
                                {
                                    "0": "andi",
                                    "1": "NULL",
                                    "2": "18"
                                },
                                {
                                    "0": "andras2",
                                    "1": "GLS",
                                    "2": "4"
                                },
                                {
                                    "0": "andras2",
                                    "1": "Posta",
                                    "2": "7"
                                },
                                {
                                    "0": "andras2",
                                    "1": "Személyes átvétel",
                                    "2": "11"
                                },
                                {
                                    "0": "andras2",
                                    "1": "NULL",
                                    "2": "22"
                                },
                                {
                                    "0": "andras21",
                                    "1": "GLS",
                                    "2": "140"
                                },
                                {
                                    "0": "andras21",
                                    "1": "Posta",
                                    "2": "124"
                                },
                                {
                                    "0": "andras21",
                                    "1": "Személyes átvétel",
                                    "2": "126"
                                },
                                {
                                    "0": "andras21",
                                    "1": "NULL",
                                    "2": "390"
                                },
                                {
                                    "0": "andras3",
                                    "1": "GLS",
                                    "2": "3"
                                },
                                {
                                    "0": "andras3",
                                    "1": "Posta",
                                    "2": "1"
                                },
                                {
                                    "0": "andras3",
                                    "1": "Személyes átvétel",
                                    "2": "5"
                                },
                                {
                                    "0": "andras3",
                                    "1": "NULL",
                                    "2": "9"
                                },
                                {
                                    "0": "andras4",
                                    "1": "GLS",
                                    "2": "4"
                                },
                                {
                                    "0": "andras4",
                                    "1": "Posta",
                                    "2": "4"
                                },
                                {
                                    "0": "andras4",
                                    "1": "Személyes átvétel",
                                    "2": "4"
                                },
                                {
                                    "0": "andras4",
                                    "1": "NULL",
                                    "2": "12"
                                },
                                {
                                    "0": "andras41",
                                    "1": "GLS",
                                    "2": "149"
                                },
                                {
                                    "0": "andras41",
                                    "1": "Posta",
                                    "2": "137"
                                },
                                {
                                    "0": "andras41",
                                    "1": "Személyes átvétel",
                                    "2": "133"
                                },
                                {
                                    "0": "andras41",
                                    "1": "NULL",
                                    "2": "419"
                                },
                                {
                                    "0": "ANDRASE",
                                    "1": "GLS",
                                    "2": "159"
                                },
                                {
                                    "0": "ANDRASE",
                                    "1": "Posta",
                                    "2": "141"
                                },
                                {
                                    "0": "ANDRASE",
                                    "1": "Személyes átvétel",
                                    "2": "136"
                                },
                                {
                                    "0": "ANDRASE",
                                    "1": "NULL",
                                    "2": "436"
                                },
                                {
                                    "0": "ANDRASN",
                                    "1": "GLS",
                                    "2": "10"
                                },
                                {
                                    "0": "ANDRASN",
                                    "1": "Posta",
                                    "2": "9"
                                },
                                {
                                    "0": "ANDRASN",
                                    "1": "Személyes átvétel",
                                    "2": "5"
                                },
                                {
                                    "0": "ANDRASN",
                                    "1": "NULL",
                                    "2": "24"
                                },
                                {
                                    "0": "andrea",
                                    "1": "GLS",
                                    "2": "12"
                                },
                                {
                                    "0": "andrea",
                                    "1": "Posta",
                                    "2": "4"
                                },
                                {
                                    "0": "andrea",
                                    "1": "Személyes átvétel",
                                    "2": "8"
                                },
                                {
                                    "0": "andrea",
                                    "1": "NULL",
                                    "2": "24"
                                },
                                {
                                    "0": "andrea3",
                                    "1": "GLS",
                                    "2": "131"
                                },
                                {
                                    "0": "andrea3",
                                    "1": "Posta",
                                    "2": "136"
                                },
                                {
                                    "0": "andrea3",
                                    "1": "Személyes átvétel",
                                    "2": "146"
                                },
                                {
                                    "0": "andrea3",
                                    "1": "NULL",
                                    "2": "413"
                                },
                                {
                                    "0": "andrea4",
                                    "1": "GLS",
                                    "2": "7"
                                },
                                {
                                    "0": "andrea4",
                                    "1": "Posta",
                                    "2": "4"
                                },
                                {
                                    "0": "andrea4",
                                    "1": "Személyes átvétel",
                                    "2": "7"
                                },
                                {
                                    "0": "andrea4",
                                    "1": "NULL",
                                    "2": "18"
                                },
                                {
                                    "0": "ANDREAT",
                                    "1": "GLS",
                                    "2": "3"
                                },
                                {
                                    "0": "ANDREAT",
                                    "1": "Posta",
                                    "2": "6"
                                },
                                {
                                    "0": "ANDREAT",
                                    "1": "Személyes átvétel",
                                    "2": "12"
                                },
                                {
                                    "0": "ANDREAT",
                                    "1": "NULL",
                                    "2": "21"
                                },
                                {
                                    "0": "anett3",
                                    "1": "GLS",
                                    "2": "3"
                                },
                                {
                                    "0": "anett3",
                                    "1": "Posta",
                                    "2": "6"
                                },
                                {
                                    "0": "anett3",
                                    "1": "Személyes átvétel",
                                    "2": "9"
                                },
                                {
                                    "0": "anett3",
                                    "1": "NULL",
                                    "2": "18"
                                },
                                {
                                    "0": "aniko",
                                    "1": "GLS",
                                    "2": "128"
                                },
                                {
                                    "0": "aniko",
                                    "1": "Posta",
                                    "2": "137"
                                },
                                {
                                    "0": "aniko",
                                    "1": "Személyes átvétel",
                                    "2": "138"
                                },
                                {
                                    "0": "aniko",
                                    "1": "NULL",
                                    "2": "403"
                                },
                                {
                                    "0": "aniko4",
                                    "1": "GLS",
                                    "2": "6"
                                },
                                {
                                    "0": "aniko4",
                                    "1": "Posta",
                                    "2": "6"
                                },
                                {
                                    "0": "aniko4",
                                    "1": "Személyes átvétel",
                                    "2": "3"
                                },
                                {
                                    "0": "aniko4",
                                    "1": "NULL",
                                    "2": "15"
                                },
                                {
                                    "0": "ANIKOS",
                                    "1": "GLS",
                                    "2": "128"
                                },
                                {
                                    "0": "ANIKOS",
                                    "1": "Posta",
                                    "2": "126"
                                },
                                {
                                    "0": "ANIKOS",
                                    "1": "Személyes átvétel",
                                    "2": "150"
                                },
                                {
                                    "0": "ANIKOS",
                                    "1": "NULL",
                                    "2": "404"
                                },
                                {
                                    "0": "anita",
                                    "1": "GLS",
                                    "2": "5"
                                },
                                {
                                    "0": "anita",
                                    "1": "Posta",
                                    "2": "2"
                                },
                                {
                                    "0": "anita",
                                    "1": "Személyes átvétel",
                                    "2": "5"
                                },
                                {
                                    "0": "anita",
                                    "1": "NULL",
                                    "2": "12"
                                },
                                {
                                    "0": "annamaria1",
                                    "1": "GLS",
                                    "2": "5"
                                },
                                {
                                    "0": "annamaria1",
                                    "1": "Posta",
                                    "2": "4"
                                },
                                {
                                    "0": "annamaria1",
                                    "1": "Személyes átvétel",
                                    "2": "7"
                                },
                                {
                                    "0": "annamaria1",
                                    "1": "NULL",
                                    "2": "16"
                                },
                                {
                                    "0": "ANNAMARIAR",
                                    "1": "GLS",
                                    "2": "8"
                                },
                                {
                                    "0": "ANNAMARIAR",
                                    "1": "Posta",
                                    "2": "2"
                                },
                                {
                                    "0": "ANNAMARIAR",
                                    "1": "Személyes átvétel",
                                    "2": "3"
                                },
                                {
                                    "0": "ANNAMARIAR",
                                    "1": "NULL",
                                    "2": "13"
                                },
                                {
                                    "0": "aron2",
                                    "1": "GLS",
                                    "2": "132"
                                },
                                {
                                    "0": "aron2",
                                    "1": "Posta",
                                    "2": "133"
                                },
                                {
                                    "0": "aron2",
                                    "1": "Személyes átvétel",
                                    "2": "144"
                                },
                                {
                                    "0": "aron2",
                                    "1": "NULL",
                                    "2": "409"
                                },
                                {
                                    "0": "ARONK",
                                    "1": "GLS",
                                    "2": "155"
                                },
                                {
                                    "0": "ARONK",
                                    "1": "Posta",
                                    "2": "120"
                                },
                                {
                                    "0": "ARONK",
                                    "1": "Személyes átvétel",
                                    "2": "155"
                                },
                                {
                                    "0": "ARONK",
                                    "1": "NULL",
                                    "2": "430"
                                },
                                {
                                    "0": "arpad2",
                                    "1": "GLS",
                                    "2": "6"
                                },
                                {
                                    "0": "arpad2",
                                    "1": "Posta",
                                    "2": "1"
                                },
                                {
                                    "0": "arpad2",
                                    "1": "Személyes átvétel",
                                    "2": "10"
                                },
                                {
                                    "0": "arpad2",
                                    "1": "NULL",
                                    "2": "17"
                                },
                                {
                                    "0": "ARPADH",
                                    "1": "GLS",
                                    "2": "6"
                                },
                                {
                                    "0": "ARPADH",
                                    "1": "Posta",
                                    "2": "3"
                                },
                                {
                                    "0": "ARPADH",
                                    "1": "Személyes átvétel",
                                    "2": "5"
                                },
                                {
                                    "0": "ARPADH",
                                    "1": "NULL",
                                    "2": "14"
                                },
                                {
                                    "0": "ARPADM",
                                    "1": "GLS",
                                    "2": "6"
                                },
                                {
                                    "0": "ARPADM",
                                    "1": "Posta",
                                    "2": "3"
                                },
                                {
                                    "0": "ARPADM",
                                    "1": "Személyes átvétel",
                                    "2": "7"
                                },
                                {
                                    "0": "ARPADM",
                                    "1": "NULL",
                                    "2": "16"
                                },
                                {
                                    "0": "attila1",
                                    "1": "GLS",
                                    "2": "5"
                                },
                                {
                                    "0": "attila1",
                                    "1": "Posta",
                                    "2": "7"
                                },
                                {
                                    "0": "attila1",
                                    "1": "Személyes átvétel",
                                    "2": "6"
                                },
                                {
                                    "0": "attila1",
                                    "1": "NULL",
                                    "2": "18"
                                },
                                {
                                    "0": "attila4",
                                    "1": "GLS",
                                    "2": "135"
                                },
                                {
                                    "0": "attila4",
                                    "1": "Posta",
                                    "2": "125"
                                },
                                {
                                    "0": "attila4",
                                    "1": "Személyes átvétel",
                                    "2": "141"
                                },
                                {
                                    "0": "attila4",
                                    "1": "NULL",
                                    "2": "401"
                                },
                                {
                                    "0": "ATTILAO",
                                    "1": "GLS",
                                    "2": "4"
                                },
                                {
                                    "0": "ATTILAO",
                                    "1": "Posta",
                                    "2": "4"
                                },
                                {
                                    "0": "ATTILAO",
                                    "1": "Személyes átvétel",
                                    "2": "6"
                                },
                                {
                                    "0": "ATTILAO",
                                    "1": "NULL",
                                    "2": "14"
                                },
                                {
                                    "0": "balazs1",
                                    "1": "GLS",
                                    "2": "128"
                                },
                                {
                                    "0": "balazs1",
                                    "1": "Posta",
                                    "2": "136"
                                },
                                {
                                    "0": "balazs1",
                                    "1": "Személyes átvétel",
                                    "2": "155"
                                },
                                {
                                    "0": "balazs1",
                                    "1": "NULL",
                                    "2": "419"
                                },
                                {
                                    "0": "balazs2",
                                    "1": "GLS",
                                    "2": "5"
                                },
                                {
                                    "0": "balazs2",
                                    "1": "Posta",
                                    "2": "7"
                                },
                                {
                                    "0": "balazs2",
                                    "1": "Személyes átvétel",
                                    "2": "5"
                                },
                                {
                                    "0": "balazs2",
                                    "1": "NULL",
                                    "2": "17"
                                },
                                {
                                    "0": "balazs3",
                                    "1": "GLS",
                                    "2": "6"
                                },
                                {
                                    "0": "balazs3",
                                    "1": "Posta",
                                    "2": "6"
                                },
                                {
                                    "0": "balazs3",
                                    "1": "Személyes átvétel",
                                    "2": "3"
                                },
                                {
                                    "0": "balazs3",
                                    "1": "NULL",
                                    "2": "15"
                                },
                                {
                                    "0": "balint",
                                    "1": "GLS",
                                    "2": "10"
                                },
                                {
                                    "0": "balint",
                                    "1": "Posta",
                                    "2": "4"
                                },
                                {
                                    "0": "balint",
                                    "1": "Személyes átvétel",
                                    "2": "2"
                                },
                                {
                                    "0": "balint",
                                    "1": "NULL",
                                    "2": "16"
                                },
                                {
                                    "0": "balint1",
                                    "1": "GLS",
                                    "2": "158"
                                },
                                {
                                    "0": "balint1",
                                    "1": "Posta",
                                    "2": "152"
                                },
                                {
                                    "0": "balint1",
                                    "1": "Személyes átvétel",
                                    "2": "152"
                                },
                                {
                                    "0": "balint1",
                                    "1": "NULL",
                                    "2": "462"
                                },
                                {
                                    "0": "balint2",
                                    "1": "GLS",
                                    "2": "8"
                                },
                                {
                                    "0": "balint2",
                                    "1": "Posta",
                                    "2": "6"
                                },
                                {
                                    "0": "balint2",
                                    "1": "Személyes átvétel",
                                    "2": "3"
                                },
                                {
                                    "0": "balint2",
                                    "1": "NULL",
                                    "2": "17"
                                },
                                {
                                    "0": "balu",
                                    "1": "GLS",
                                    "2": "127"
                                },
                                {
                                    "0": "balu",
                                    "1": "Posta",
                                    "2": "137"
                                },
                                {
                                    "0": "balu",
                                    "1": "Személyes átvétel",
                                    "2": "123"
                                },
                                {
                                    "0": "balu",
                                    "1": "NULL",
                                    "2": "387"
                                },
                                {
                                    "0": "BEATRIXK",
                                    "1": "GLS",
                                    "2": "135"
                                },
                                {
                                    "0": "BEATRIXK",
                                    "1": "Posta",
                                    "2": "155"
                                },
                                {
                                    "0": "BEATRIXK",
                                    "1": "Személyes átvétel",
                                    "2": "145"
                                },
                                {
                                    "0": "BEATRIXK",
                                    "1": "NULL",
                                    "2": "435"
                                },
                                {
                                    "0": "BEATRIXS",
                                    "1": "GLS",
                                    "2": "146"
                                },
                                {
                                    "0": "BEATRIXS",
                                    "1": "Posta",
                                    "2": "141"
                                },
                                {
                                    "0": "BEATRIXS",
                                    "1": "Személyes átvétel",
                                    "2": "133"
                                },
                                {
                                    "0": "BEATRIXS",
                                    "1": "NULL",
                                    "2": "420"
                                },
                                {
                                    "0": "BELAF",
                                    "1": "GLS",
                                    "2": "11"
                                },
                                {
                                    "0": "BELAF",
                                    "1": "Posta",
                                    "2": "2"
                                },
                                {
                                    "0": "BELAF",
                                    "1": "Személyes átvétel",
                                    "2": "5"
                                },
                                {
                                    "0": "BELAF",
                                    "1": "NULL",
                                    "2": "18"
                                },
                                {
                                    "0": "bence",
                                    "1": "GLS",
                                    "2": "4"
                                },
                                {
                                    "0": "bence",
                                    "1": "Posta",
                                    "2": "6"
                                },
                                {
                                    "0": "bence",
                                    "1": "Személyes átvétel",
                                    "2": "8"
                                },
                                {
                                    "0": "bence",
                                    "1": "NULL",
                                    "2": "18"
                                },
                                {
                                    "0": "BENCEB",
                                    "1": "GLS",
                                    "2": "5"
                                },
                                {
                                    "0": "BENCEB",
                                    "1": "Posta",
                                    "2": "7"
                                },
                                {
                                    "0": "BENCEB",
                                    "1": "Személyes átvétel",
                                    "2": "5"
                                },
                                {
                                    "0": "BENCEB",
                                    "1": "NULL",
                                    "2": "17"
                                },
                                {
                                    "0": "bernadett1",
                                    "1": "GLS",
                                    "2": "10"
                                },
                                {
                                    "0": "bernadett1",
                                    "1": "Posta",
                                    "2": "5"
                                },
                                {
                                    "0": "bernadett1",
                                    "1": "Személyes átvétel",
                                    "2": "5"
                                },
                                {
                                    "0": "bernadett1",
                                    "1": "NULL",
                                    "2": "20"
                                },
                                {
                                    "0": "bernadett2",
                                    "1": "GLS",
                                    "2": "6"
                                },
                                {
                                    "0": "bernadett2",
                                    "1": "Posta",
                                    "2": "2"
                                },
                                {
                                    "0": "bernadett2",
                                    "1": "Személyes átvétel",
                                    "2": "7"
                                },
                                {
                                    "0": "bernadett2",
                                    "1": "NULL",
                                    "2": "15"
                                },
                                {
                                    "0": "BERNADETTO",
                                    "1": "GLS",
                                    "2": "7"
                                },
                                {
                                    "0": "BERNADETTO",
                                    "1": "Posta",
                                    "2": "2"
                                },
                                {
                                    "0": "BERNADETTO",
                                    "1": "Személyes átvétel",
                                    "2": "7"
                                },
                                {
                                    "0": "BERNADETTO",
                                    "1": "NULL",
                                    "2": "16"
                                },
                                {
                                    "0": "bertalan",
                                    "1": "GLS",
                                    "2": "128"
                                },
                                {
                                    "0": "bertalan",
                                    "1": "Posta",
                                    "2": "124"
                                },
                                {
                                    "0": "bertalan",
                                    "1": "Személyes átvétel",
                                    "2": "101"
                                },
                                {
                                    "0": "bertalan",
                                    "1": "NULL",
                                    "2": "353"
                                },
                                {
                                    "0": "brigitta",
                                    "1": "GLS",
                                    "2": "137"
                                },
                                {
                                    "0": "brigitta",
                                    "1": "Posta",
                                    "2": "137"
                                },
                                {
                                    "0": "brigitta",
                                    "1": "Személyes átvétel",
                                    "2": "119"
                                },
                                {
                                    "0": "brigitta",
                                    "1": "NULL",
                                    "2": "393"
                                },
                                {
                                    "0": "brigitta3",
                                    "1": "GLS",
                                    "2": "144"
                                },
                                {
                                    "0": "brigitta3",
                                    "1": "Posta",
                                    "2": "130"
                                },
                                {
                                    "0": "brigitta3",
                                    "1": "Személyes átvétel",
                                    "2": "139"
                                },
                                {
                                    "0": "brigitta3",
                                    "1": "NULL",
                                    "2": "413"
                                },
                                {
                                    "0": "csongor3",
                                    "1": "GLS",
                                    "2": "5"
                                },
                                {
                                    "0": "csongor3",
                                    "1": "Posta",
                                    "2": "2"
                                },
                                {
                                    "0": "csongor3",
                                    "1": "Személyes átvétel",
                                    "2": "8"
                                },
                                {
                                    "0": "csongor3",
                                    "1": "NULL",
                                    "2": "15"
                                },
                                {
                                    "0": "dani",
                                    "1": "GLS",
                                    "2": "5"
                                },
                                {
                                    "0": "dani",
                                    "1": "Személyes átvétel",
                                    "2": "8"
                                },
                                {
                                    "0": "dani",
                                    "1": "NULL",
                                    "2": "13"
                                },
                                {
                                    "0": "daniel",
                                    "1": "GLS",
                                    "2": "7"
                                },
                                {
                                    "0": "daniel",
                                    "1": "Posta",
                                    "2": "2"
                                },
                                {
                                    "0": "daniel",
                                    "1": "Személyes átvétel",
                                    "2": "4"
                                },
                                {
                                    "0": "daniel",
                                    "1": "NULL",
                                    "2": "13"
                                },
                                {
                                    "0": "daniel1",
                                    "1": "GLS",
                                    "2": "156"
                                },
                                {
                                    "0": "daniel1",
                                    "1": "Posta",
                                    "2": "131"
                                },
                                {
                                    "0": "daniel1",
                                    "1": "Személyes átvétel",
                                    "2": "132"
                                },
                                {
                                    "0": "daniel1",
                                    "1": "NULL",
                                    "2": "419"
                                },
                                {
                                    "0": "david",
                                    "1": "GLS",
                                    "2": "161"
                                },
                                {
                                    "0": "david",
                                    "1": "Posta",
                                    "2": "144"
                                },
                                {
                                    "0": "david",
                                    "1": "Személyes átvétel",
                                    "2": "146"
                                },
                                {
                                    "0": "david",
                                    "1": "NULL",
                                    "2": "451"
                                },
                                {
                                    "0": "david1",
                                    "1": "GLS",
                                    "2": "8"
                                },
                                {
                                    "0": "david1",
                                    "1": "Posta",
                                    "2": "1"
                                },
                                {
                                    "0": "david1",
                                    "1": "Személyes átvétel",
                                    "2": "8"
                                },
                                {
                                    "0": "david1",
                                    "1": "NULL",
                                    "2": "17"
                                },
                                {
                                    "0": "david4",
                                    "1": "GLS",
                                    "2": "3"
                                },
                                {
                                    "0": "david4",
                                    "1": "Posta",
                                    "2": "8"
                                },
                                {
                                    "0": "david4",
                                    "1": "Személyes átvétel",
                                    "2": "10"
                                },
                                {
                                    "0": "david4",
                                    "1": "NULL",
                                    "2": "21"
                                },
                                {
                                    "0": "debora",
                                    "1": "GLS",
                                    "2": "7"
                                },
                                {
                                    "0": "debora",
                                    "1": "Posta",
                                    "2": "6"
                                },
                                {
                                    "0": "debora",
                                    "1": "Személyes átvétel",
                                    "2": "3"
                                },
                                {
                                    "0": "debora",
                                    "1": "NULL",
                                    "2": "16"
                                },
                                {
                                    "0": "denes",
                                    "1": "GLS",
                                    "2": "3"
                                },
                                {
                                    "0": "denes",
                                    "1": "Posta",
                                    "2": "2"
                                },
                                {
                                    "0": "denes",
                                    "1": "Személyes átvétel",
                                    "2": "4"
                                },
                                {
                                    "0": "denes",
                                    "1": "NULL",
                                    "2": "9"
                                },
                                {
                                    "0": "dora3",
                                    "1": "GLS",
                                    "2": "144"
                                },
                                {
                                    "0": "dora3",
                                    "1": "Posta",
                                    "2": "124"
                                },
                                {
                                    "0": "dora3",
                                    "1": "Személyes átvétel",
                                    "2": "164"
                                },
                                {
                                    "0": "dora3",
                                    "1": "NULL",
                                    "2": "432"
                                },
                                {
                                    "0": "edit",
                                    "1": "GLS",
                                    "2": "7"
                                },
                                {
                                    "0": "edit",
                                    "1": "Posta",
                                    "2": "2"
                                },
                                {
                                    "0": "edit",
                                    "1": "Személyes átvétel",
                                    "2": "4"
                                },
                                {
                                    "0": "edit",
                                    "1": "NULL",
                                    "2": "13"
                                },
                                {
                                    "0": "emese",
                                    "1": "GLS",
                                    "2": "128"
                                },
                                {
                                    "0": "emese",
                                    "1": "Posta",
                                    "2": "136"
                                },
                                {
                                    "0": "emese",
                                    "1": "Személyes átvétel",
                                    "2": "142"
                                },
                                {
                                    "0": "emese",
                                    "1": "NULL",
                                    "2": "406"
                                },
                                {
                                    "0": "eszter2",
                                    "1": "GLS",
                                    "2": "127"
                                },
                                {
                                    "0": "eszter2",
                                    "1": "Posta",
                                    "2": "136"
                                },
                                {
                                    "0": "eszter2",
                                    "1": "Személyes átvétel",
                                    "2": "152"
                                },
                                {
                                    "0": "eszter2",
                                    "1": "NULL",
                                    "2": "415"
                                },
                                {
                                    "0": "eszter4",
                                    "1": "GLS",
                                    "2": "141"
                                },
                                {
                                    "0": "eszter4",
                                    "1": "Posta",
                                    "2": "134"
                                },
                                {
                                    "0": "eszter4",
                                    "1": "Személyes átvétel",
                                    "2": "149"
                                },
                                {
                                    "0": "eszter4",
                                    "1": "NULL",
                                    "2": "424"
                                },
                                {
                                    "0": "ESZTERE",
                                    "1": "GLS",
                                    "2": "6"
                                },
                                {
                                    "0": "ESZTERE",
                                    "1": "Posta",
                                    "2": "9"
                                },
                                {
                                    "0": "ESZTERE",
                                    "1": "Személyes átvétel",
                                    "2": "7"
                                },
                                {
                                    "0": "ESZTERE",
                                    "1": "NULL",
                                    "2": "22"
                                },
                                {
                                    "0": "eva",
                                    "1": "GLS",
                                    "2": "125"
                                },
                                {
                                    "0": "eva",
                                    "1": "Posta",
                                    "2": "140"
                                },
                                {
                                    "0": "eva",
                                    "1": "Személyes átvétel",
                                    "2": "139"
                                },
                                {
                                    "0": "eva",
                                    "1": "NULL",
                                    "2": "404"
                                },
                                {
                                    "0": "eva2",
                                    "1": "GLS",
                                    "2": "154"
                                },
                                {
                                    "0": "eva2",
                                    "1": "Posta",
                                    "2": "138"
                                },
                                {
                                    "0": "eva2",
                                    "1": "Személyes átvétel",
                                    "2": "170"
                                },
                                {
                                    "0": "eva2",
                                    "1": "NULL",
                                    "2": "462"
                                },
                                {
                                    "0": "EVAV",
                                    "1": "GLS",
                                    "2": "2"
                                },
                                {
                                    "0": "EVAV",
                                    "1": "Posta",
                                    "2": "1"
                                },
                                {
                                    "0": "EVAV",
                                    "1": "Személyes átvétel",
                                    "2": "4"
                                },
                                {
                                    "0": "EVAV",
                                    "1": "NULL",
                                    "2": "7"
                                },
                                {
                                    "0": "ferenc1",
                                    "1": "GLS",
                                    "2": "144"
                                },
                                {
                                    "0": "ferenc1",
                                    "1": "Posta",
                                    "2": "158"
                                },
                                {
                                    "0": "ferenc1",
                                    "1": "Személyes átvétel",
                                    "2": "135"
                                },
                                {
                                    "0": "ferenc1",
                                    "1": "NULL",
                                    "2": "437"
                                },
                                {
                                    "0": "fruzsina4",
                                    "1": "GLS",
                                    "2": "8"
                                },
                                {
                                    "0": "fruzsina4",
                                    "1": "Posta",
                                    "2": "3"
                                },
                                {
                                    "0": "fruzsina4",
                                    "1": "Személyes átvétel",
                                    "2": "7"
                                },
                                {
                                    "0": "fruzsina4",
                                    "1": "NULL",
                                    "2": "18"
                                },
                                {
                                    "0": "gabor1",
                                    "1": "GLS",
                                    "2": "9"
                                },
                                {
                                    "0": "gabor1",
                                    "1": "Posta",
                                    "2": "5"
                                },
                                {
                                    "0": "gabor1",
                                    "1": "Személyes átvétel",
                                    "2": "5"
                                },
                                {
                                    "0": "gabor1",
                                    "1": "NULL",
                                    "2": "19"
                                },
                                {
                                    "0": "gabor4",
                                    "1": "GLS",
                                    "2": "7"
                                },
                                {
                                    "0": "gabor4",
                                    "1": "Posta",
                                    "2": "9"
                                },
                                {
                                    "0": "gabor4",
                                    "1": "Személyes átvétel",
                                    "2": "4"
                                },
                                {
                                    "0": "gabor4",
                                    "1": "NULL",
                                    "2": "20"
                                },
                                {
                                    "0": "GABORS",
                                    "1": "GLS",
                                    "2": "5"
                                },
                                {
                                    "0": "GABORS",
                                    "1": "Posta",
                                    "2": "6"
                                },
                                {
                                    "0": "GABORS",
                                    "1": "Személyes átvétel",
                                    "2": "4"
                                },
                                {
                                    "0": "GABORS",
                                    "1": "NULL",
                                    "2": "15"
                                },
                                {
                                    "0": "gabriella1",
                                    "1": "GLS",
                                    "2": "5"
                                },
                                {
                                    "0": "gabriella1",
                                    "1": "Posta",
                                    "2": "4"
                                },
                                {
                                    "0": "gabriella1",
                                    "1": "Személyes átvétel",
                                    "2": "5"
                                },
                                {
                                    "0": "gabriella1",
                                    "1": "NULL",
                                    "2": "14"
                                },
                                {
                                    "0": "gabriella10",
                                    "1": "GLS",
                                    "2": "4"
                                },
                                {
                                    "0": "gabriella10",
                                    "1": "Posta",
                                    "2": "5"
                                },
                                {
                                    "0": "gabriella10",
                                    "1": "Személyes átvétel",
                                    "2": "7"
                                },
                                {
                                    "0": "gabriella10",
                                    "1": "NULL",
                                    "2": "16"
                                },
                                {
                                    "0": "georgij",
                                    "1": "GLS",
                                    "2": "9"
                                },
                                {
                                    "0": "georgij",
                                    "1": "Posta",
                                    "2": "2"
                                },
                                {
                                    "0": "georgij",
                                    "1": "Személyes átvétel",
                                    "2": "10"
                                },
                                {
                                    "0": "georgij",
                                    "1": "NULL",
                                    "2": "21"
                                },
                                {
                                    "0": "gusztav",
                                    "1": "GLS",
                                    "2": "5"
                                },
                                {
                                    "0": "gusztav",
                                    "1": "Posta",
                                    "2": "4"
                                },
                                {
                                    "0": "gusztav",
                                    "1": "Személyes átvétel",
                                    "2": "5"
                                },
                                {
                                    "0": "gusztav",
                                    "1": "NULL",
                                    "2": "14"
                                },
                                {
                                    "0": "GYONGYIK",
                                    "1": "GLS",
                                    "2": "6"
                                },
                                {
                                    "0": "GYONGYIK",
                                    "1": "Posta",
                                    "2": "6"
                                },
                                {
                                    "0": "GYONGYIK",
                                    "1": "Személyes átvétel",
                                    "2": "3"
                                },
                                {
                                    "0": "GYONGYIK",
                                    "1": "NULL",
                                    "2": "15"
                                },
                                {
                                    "0": "GYORGYO",
                                    "1": "GLS",
                                    "2": "7"
                                },
                                {
                                    "0": "GYORGYO",
                                    "1": "Posta",
                                    "2": "4"
                                },
                                {
                                    "0": "GYORGYO",
                                    "1": "Személyes átvétel",
                                    "2": "5"
                                },
                                {
                                    "0": "GYORGYO",
                                    "1": "NULL",
                                    "2": "16"
                                },
                                {
                                    "0": "henrik3",
                                    "1": "GLS",
                                    "2": "7"
                                },
                                {
                                    "0": "henrik3",
                                    "1": "Posta",
                                    "2": "4"
                                },
                                {
                                    "0": "henrik3",
                                    "1": "Személyes átvétel",
                                    "2": "5"
                                },
                                {
                                    "0": "henrik3",
                                    "1": "NULL",
                                    "2": "16"
                                },
                                {
                                    "0": "IBOLYAA",
                                    "1": "GLS",
                                    "2": "140"
                                },
                                {
                                    "0": "IBOLYAA",
                                    "1": "Posta",
                                    "2": "125"
                                },
                                {
                                    "0": "IBOLYAA",
                                    "1": "Személyes átvétel",
                                    "2": "157"
                                },
                                {
                                    "0": "IBOLYAA",
                                    "1": "NULL",
                                    "2": "422"
                                },
                                {
                                    "0": "ilona3",
                                    "1": "GLS",
                                    "2": "9"
                                },
                                {
                                    "0": "ilona3",
                                    "1": "Posta",
                                    "2": "2"
                                },
                                {
                                    "0": "ilona3",
                                    "1": "Személyes átvétel",
                                    "2": "7"
                                },
                                {
                                    "0": "ilona3",
                                    "1": "NULL",
                                    "2": "18"
                                },
                                {
                                    "0": "imre",
                                    "1": "GLS",
                                    "2": "5"
                                },
                                {
                                    "0": "imre",
                                    "1": "Posta",
                                    "2": "4"
                                },
                                {
                                    "0": "imre",
                                    "1": "Személyes átvétel",
                                    "2": "6"
                                },
                                {
                                    "0": "imre",
                                    "1": "NULL",
                                    "2": "15"
                                },
                                {
                                    "0": "imre1",
                                    "1": "GLS",
                                    "2": "8"
                                },
                                {
                                    "0": "imre1",
                                    "1": "Posta",
                                    "2": "4"
                                },
                                {
                                    "0": "imre1",
                                    "1": "Személyes átvétel",
                                    "2": "3"
                                },
                                {
                                    "0": "imre1",
                                    "1": "NULL",
                                    "2": "15"
                                },
                                {
                                    "0": "istvan",
                                    "1": "GLS",
                                    "2": "3"
                                },
                                {
                                    "0": "istvan",
                                    "1": "Posta",
                                    "2": "4"
                                },
                                {
                                    "0": "istvan",
                                    "1": "Személyes átvétel",
                                    "2": "4"
                                },
                                {
                                    "0": "istvan",
                                    "1": "NULL",
                                    "2": "11"
                                },
                                {
                                    "0": "istvan1",
                                    "1": "GLS",
                                    "2": "8"
                                },
                                {
                                    "0": "istvan1",
                                    "1": "Posta",
                                    "2": "4"
                                },
                                {
                                    "0": "istvan1",
                                    "1": "Személyes átvétel",
                                    "2": "7"
                                },
                                {
                                    "0": "istvan1",
                                    "1": "NULL",
                                    "2": "19"
                                },
                                {
                                    "0": "ISTVANV",
                                    "1": "GLS",
                                    "2": "4"
                                },
                                {
                                    "0": "ISTVANV",
                                    "1": "Posta",
                                    "2": "9"
                                },
                                {
                                    "0": "ISTVANV",
                                    "1": "Személyes átvétel",
                                    "2": "8"
                                },
                                {
                                    "0": "ISTVANV",
                                    "1": "NULL",
                                    "2": "21"
                                },
                                {
                                    "0": "janos3",
                                    "1": "GLS",
                                    "2": "5"
                                },
                                {
                                    "0": "janos3",
                                    "1": "Posta",
                                    "2": "2"
                                },
                                {
                                    "0": "janos3",
                                    "1": "Személyes átvétel",
                                    "2": "6"
                                },
                                {
                                    "0": "janos3",
                                    "1": "NULL",
                                    "2": "13"
                                },
                                {
                                    "0": "JANOSG",
                                    "1": "GLS",
                                    "2": "3"
                                },
                                {
                                    "0": "JANOSG",
                                    "1": "Posta",
                                    "2": "3"
                                },
                                {
                                    "0": "JANOSG",
                                    "1": "Személyes átvétel",
                                    "2": "4"
                                },
                                {
                                    "0": "JANOSG",
                                    "1": "NULL",
                                    "2": "10"
                                },
                                {
                                    "0": "JANOSP",
                                    "1": "GLS",
                                    "2": "7"
                                },
                                {
                                    "0": "JANOSP",
                                    "1": "Posta",
                                    "2": "7"
                                },
                                {
                                    "0": "JANOSP",
                                    "1": "Személyes átvétel",
                                    "2": "3"
                                },
                                {
                                    "0": "JANOSP",
                                    "1": "NULL",
                                    "2": "17"
                                },
                                {
                                    "0": "jozsef",
                                    "1": "GLS",
                                    "2": "116"
                                },
                                {
                                    "0": "jozsef",
                                    "1": "Posta",
                                    "2": "132"
                                },
                                {
                                    "0": "jozsef",
                                    "1": "Személyes átvétel",
                                    "2": "134"
                                },
                                {
                                    "0": "jozsef",
                                    "1": "NULL",
                                    "2": "382"
                                },
                                {
                                    "0": "jozsef2",
                                    "1": "GLS",
                                    "2": "7"
                                },
                                {
                                    "0": "jozsef2",
                                    "1": "Posta",
                                    "2": "2"
                                },
                                {
                                    "0": "jozsef2",
                                    "1": "Személyes átvétel",
                                    "2": "4"
                                },
                                {
                                    "0": "jozsef2",
                                    "1": "NULL",
                                    "2": "13"
                                },
                                {
                                    "0": "JOZSEFG",
                                    "1": "GLS",
                                    "2": "11"
                                },
                                {
                                    "0": "JOZSEFG",
                                    "1": "Posta",
                                    "2": "1"
                                },
                                {
                                    "0": "JOZSEFG",
                                    "1": "Személyes átvétel",
                                    "2": "9"
                                },
                                {
                                    "0": "JOZSEFG",
                                    "1": "NULL",
                                    "2": "21"
                                },
                                {
                                    "0": "JUDITH",
                                    "1": "GLS",
                                    "2": "170"
                                },
                                {
                                    "0": "JUDITH",
                                    "1": "Posta",
                                    "2": "130"
                                },
                                {
                                    "0": "JUDITH",
                                    "1": "Személyes átvétel",
                                    "2": "150"
                                },
                                {
                                    "0": "JUDITH",
                                    "1": "NULL",
                                    "2": "450"
                                },
                                {
                                    "0": "julia",
                                    "1": "GLS",
                                    "2": "137"
                                },
                                {
                                    "0": "julia",
                                    "1": "Posta",
                                    "2": "160"
                                },
                                {
                                    "0": "julia",
                                    "1": "Személyes átvétel",
                                    "2": "138"
                                },
                                {
                                    "0": "julia",
                                    "1": "NULL",
                                    "2": "435"
                                },
                                {
                                    "0": "julia4",
                                    "1": "GLS",
                                    "2": "2"
                                },
                                {
                                    "0": "julia4",
                                    "1": "Posta",
                                    "2": "4"
                                },
                                {
                                    "0": "julia4",
                                    "1": "Személyes átvétel",
                                    "2": "8"
                                },
                                {
                                    "0": "julia4",
                                    "1": "NULL",
                                    "2": "14"
                                },
                                {
                                    "0": "julianna4",
                                    "1": "GLS",
                                    "2": "8"
                                },
                                {
                                    "0": "julianna4",
                                    "1": "Posta",
                                    "2": "12"
                                },
                                {
                                    "0": "julianna4",
                                    "1": "Személyes átvétel",
                                    "2": "7"
                                },
                                {
                                    "0": "julianna4",
                                    "1": "NULL",
                                    "2": "27"
                                },
                                {
                                    "0": "kata",
                                    "1": "GLS",
                                    "2": "5"
                                },
                                {
                                    "0": "kata",
                                    "1": "Posta",
                                    "2": "4"
                                },
                                {
                                    "0": "kata",
                                    "1": "Személyes átvétel",
                                    "2": "3"
                                },
                                {
                                    "0": "kata",
                                    "1": "NULL",
                                    "2": "12"
                                },
                                {
                                    "0": "katalin",
                                    "1": "GLS",
                                    "2": "7"
                                },
                                {
                                    "0": "katalin",
                                    "1": "Posta",
                                    "2": "7"
                                },
                                {
                                    "0": "katalin",
                                    "1": "Személyes átvétel",
                                    "2": "5"
                                },
                                {
                                    "0": "katalin",
                                    "1": "NULL",
                                    "2": "19"
                                },
                                {
                                    "0": "katalin4",
                                    "1": "GLS",
                                    "2": "7"
                                },
                                {
                                    "0": "katalin4",
                                    "1": "Posta",
                                    "2": "5"
                                },
                                {
                                    "0": "katalin4",
                                    "1": "Személyes átvétel",
                                    "2": "11"
                                },
                                {
                                    "0": "katalin4",
                                    "1": "NULL",
                                    "2": "23"
                                },
                                {
                                    "0": "kati",
                                    "1": "GLS",
                                    "2": "4"
                                },
                                {
                                    "0": "kati",
                                    "1": "Posta",
                                    "2": "5"
                                },
                                {
                                    "0": "kati",
                                    "1": "Személyes átvétel",
                                    "2": "4"
                                },
                                {
                                    "0": "kati",
                                    "1": "NULL",
                                    "2": "13"
                                },
                                {
                                    "0": "katka",
                                    "1": "GLS",
                                    "2": "6"
                                },
                                {
                                    "0": "katka",
                                    "1": "Posta",
                                    "2": "6"
                                },
                                {
                                    "0": "katka",
                                    "1": "Személyes átvétel",
                                    "2": "10"
                                },
                                {
                                    "0": "katka",
                                    "1": "NULL",
                                    "2": "22"
                                },
                                {
                                    "0": "klaudia2",
                                    "1": "GLS",
                                    "2": "3"
                                },
                                {
                                    "0": "klaudia2",
                                    "1": "Posta",
                                    "2": "9"
                                },
                                {
                                    "0": "klaudia2",
                                    "1": "Személyes átvétel",
                                    "2": "5"
                                },
                                {
                                    "0": "klaudia2",
                                    "1": "NULL",
                                    "2": "17"
                                },
                                {
                                    "0": "kornel4",
                                    "1": "GLS",
                                    "2": "3"
                                },
                                {
                                    "0": "kornel4",
                                    "1": "Posta",
                                    "2": "1"
                                },
                                {
                                    "0": "kornel4",
                                    "1": "Személyes átvétel",
                                    "2": "7"
                                },
                                {
                                    "0": "kornel4",
                                    "1": "NULL",
                                    "2": "11"
                                },
                                {
                                    "0": "kristof4",
                                    "1": "GLS",
                                    "2": "9"
                                },
                                {
                                    "0": "kristof4",
                                    "1": "Posta",
                                    "2": "4"
                                },
                                {
                                    "0": "kristof4",
                                    "1": "Személyes átvétel",
                                    "2": "8"
                                },
                                {
                                    "0": "kristof4",
                                    "1": "NULL",
                                    "2": "21"
                                },
                                {
                                    "0": "kriszti",
                                    "1": "GLS",
                                    "2": "3"
                                },
                                {
                                    "0": "kriszti",
                                    "1": "Posta",
                                    "2": "5"
                                },
                                {
                                    "0": "kriszti",
                                    "1": "Személyes átvétel",
                                    "2": "5"
                                },
                                {
                                    "0": "kriszti",
                                    "1": "NULL",
                                    "2": "13"
                                },
                                {
                                    "0": "krisztian4",
                                    "1": "GLS",
                                    "2": "5"
                                },
                                {
                                    "0": "krisztian4",
                                    "1": "Posta",
                                    "2": "6"
                                },
                                {
                                    "0": "krisztian4",
                                    "1": "Személyes átvétel",
                                    "2": "6"
                                },
                                {
                                    "0": "krisztian4",
                                    "1": "NULL",
                                    "2": "17"
                                },
                                {
                                    "0": "KRISZTIANM",
                                    "1": "GLS",
                                    "2": "118"
                                },
                                {
                                    "0": "KRISZTIANM",
                                    "1": "Posta",
                                    "2": "136"
                                },
                                {
                                    "0": "KRISZTIANM",
                                    "1": "Személyes átvétel",
                                    "2": "130"
                                },
                                {
                                    "0": "KRISZTIANM",
                                    "1": "NULL",
                                    "2": "384"
                                },
                                {
                                    "0": "krisztina",
                                    "1": "GLS",
                                    "2": "149"
                                },
                                {
                                    "0": "krisztina",
                                    "1": "Posta",
                                    "2": "150"
                                },
                                {
                                    "0": "krisztina",
                                    "1": "Személyes átvétel",
                                    "2": "157"
                                },
                                {
                                    "0": "krisztina",
                                    "1": "NULL",
                                    "2": "456"
                                },
                                {
                                    "0": "krisztina1",
                                    "1": "GLS",
                                    "2": "10"
                                },
                                {
                                    "0": "krisztina1",
                                    "1": "Posta",
                                    "2": "4"
                                },
                                {
                                    "0": "krisztina1",
                                    "1": "Személyes átvétel",
                                    "2": "8"
                                },
                                {
                                    "0": "krisztina1",
                                    "1": "NULL",
                                    "2": "22"
                                },
                                {
                                    "0": "KRISZTINAG",
                                    "1": "GLS",
                                    "2": "6"
                                },
                                {
                                    "0": "KRISZTINAG",
                                    "1": "Posta",
                                    "2": "6"
                                },
                                {
                                    "0": "KRISZTINAG",
                                    "1": "Személyes átvétel",
                                    "2": "10"
                                },
                                {
                                    "0": "KRISZTINAG",
                                    "1": "NULL",
                                    "2": "22"
                                },
                                {
                                    "0": "lajos",
                                    "1": "GLS",
                                    "2": "5"
                                },
                                {
                                    "0": "lajos",
                                    "1": "Posta",
                                    "2": "2"
                                },
                                {
                                    "0": "lajos",
                                    "1": "Személyes átvétel",
                                    "2": "9"
                                },
                                {
                                    "0": "lajos",
                                    "1": "NULL",
                                    "2": "16"
                                },
                                {
                                    "0": "lala",
                                    "1": "GLS",
                                    "2": "5"
                                },
                                {
                                    "0": "lala",
                                    "1": "Posta",
                                    "2": "3"
                                },
                                {
                                    "0": "lala",
                                    "1": "Személyes átvétel",
                                    "2": "9"
                                },
                                {
                                    "0": "lala",
                                    "1": "NULL",
                                    "2": "17"
                                },
                                {
                                    "0": "laszlo1",
                                    "1": "GLS",
                                    "2": "130"
                                },
                                {
                                    "0": "laszlo1",
                                    "1": "Posta",
                                    "2": "129"
                                },
                                {
                                    "0": "laszlo1",
                                    "1": "Személyes átvétel",
                                    "2": "135"
                                },
                                {
                                    "0": "laszlo1",
                                    "1": "NULL",
                                    "2": "394"
                                },
                                {
                                    "0": "laszlo2",
                                    "1": "GLS",
                                    "2": "12"
                                },
                                {
                                    "0": "laszlo2",
                                    "1": "Posta",
                                    "2": "6"
                                },
                                {
                                    "0": "laszlo2",
                                    "1": "Személyes átvétel",
                                    "2": "7"
                                },
                                {
                                    "0": "laszlo2",
                                    "1": "NULL",
                                    "2": "25"
                                },
                                {
                                    "0": "LASZLOA",
                                    "1": "GLS",
                                    "2": "156"
                                },
                                {
                                    "0": "LASZLOA",
                                    "1": "Posta",
                                    "2": "136"
                                },
                                {
                                    "0": "LASZLOA",
                                    "1": "Személyes átvétel",
                                    "2": "154"
                                },
                                {
                                    "0": "LASZLOA",
                                    "1": "NULL",
                                    "2": "446"
                                },
                                {
                                    "0": "LASZLON",
                                    "1": "GLS",
                                    "2": "126"
                                },
                                {
                                    "0": "LASZLON",
                                    "1": "Posta",
                                    "2": "131"
                                },
                                {
                                    "0": "LASZLON",
                                    "1": "Személyes átvétel",
                                    "2": "143"
                                },
                                {
                                    "0": "LASZLON",
                                    "1": "NULL",
                                    "2": "400"
                                },
                                {
                                    "0": "maria1",
                                    "1": "GLS",
                                    "2": "4"
                                },
                                {
                                    "0": "maria1",
                                    "1": "Posta",
                                    "2": "5"
                                },
                                {
                                    "0": "maria1",
                                    "1": "Személyes átvétel",
                                    "2": "1"
                                },
                                {
                                    "0": "maria1",
                                    "1": "NULL",
                                    "2": "10"
                                },
                                {
                                    "0": "MARKH",
                                    "1": "GLS",
                                    "2": "128"
                                },
                                {
                                    "0": "MARKH",
                                    "1": "Posta",
                                    "2": "142"
                                },
                                {
                                    "0": "MARKH",
                                    "1": "Személyes átvétel",
                                    "2": "142"
                                },
                                {
                                    "0": "MARKH",
                                    "1": "NULL",
                                    "2": "412"
                                },
                                {
                                    "0": "marton",
                                    "1": "GLS",
                                    "2": "5"
                                },
                                {
                                    "0": "marton",
                                    "1": "Posta",
                                    "2": "4"
                                },
                                {
                                    "0": "marton",
                                    "1": "Személyes átvétel",
                                    "2": "5"
                                },
                                {
                                    "0": "marton",
                                    "1": "NULL",
                                    "2": "14"
                                },
                                {
                                    "0": "MATEK",
                                    "1": "GLS",
                                    "2": "6"
                                },
                                {
                                    "0": "MATEK",
                                    "1": "Posta",
                                    "2": "10"
                                },
                                {
                                    "0": "MATEK",
                                    "1": "Személyes átvétel",
                                    "2": "9"
                                },
                                {
                                    "0": "MATEK",
                                    "1": "NULL",
                                    "2": "25"
                                },
                                {
                                    "0": "matyas2",
                                    "1": "GLS",
                                    "2": "138"
                                },
                                {
                                    "0": "matyas2",
                                    "1": "Posta",
                                    "2": "131"
                                },
                                {
                                    "0": "matyas2",
                                    "1": "Személyes átvétel",
                                    "2": "164"
                                },
                                {
                                    "0": "matyas2",
                                    "1": "NULL",
                                    "2": "433"
                                },
                                {
                                    "0": "MATYASS",
                                    "1": "GLS",
                                    "2": "4"
                                },
                                {
                                    "0": "MATYASS",
                                    "1": "Posta",
                                    "2": "5"
                                },
                                {
                                    "0": "MATYASS",
                                    "1": "Személyes átvétel",
                                    "2": "3"
                                },
                                {
                                    "0": "MATYASS",
                                    "1": "NULL",
                                    "2": "12"
                                },
                                {
                                    "0": "MIHALYJ",
                                    "1": "GLS",
                                    "2": "3"
                                },
                                {
                                    "0": "MIHALYJ",
                                    "1": "Posta",
                                    "2": "4"
                                },
                                {
                                    "0": "MIHALYJ",
                                    "1": "Személyes átvétel",
                                    "2": "6"
                                },
                                {
                                    "0": "MIHALYJ",
                                    "1": "NULL",
                                    "2": "13"
                                },
                                {
                                    "0": "miklos2",
                                    "1": "GLS",
                                    "2": "7"
                                },
                                {
                                    "0": "miklos2",
                                    "1": "Posta",
                                    "2": "4"
                                },
                                {
                                    "0": "miklos2",
                                    "1": "Személyes átvétel",
                                    "2": "2"
                                },
                                {
                                    "0": "miklos2",
                                    "1": "NULL",
                                    "2": "13"
                                },
                                {
                                    "0": "MIKLOSB",
                                    "1": "GLS",
                                    "2": "6"
                                },
                                {
                                    "0": "MIKLOSB",
                                    "1": "Posta",
                                    "2": "1"
                                },
                                {
                                    "0": "MIKLOSB",
                                    "1": "Személyes átvétel",
                                    "2": "8"
                                },
                                {
                                    "0": "MIKLOSB",
                                    "1": "NULL",
                                    "2": "15"
                                },
                                {
                                    "0": "MONIKAM",
                                    "1": "GLS",
                                    "2": "133"
                                },
                                {
                                    "0": "MONIKAM",
                                    "1": "Posta",
                                    "2": "151"
                                },
                                {
                                    "0": "MONIKAM",
                                    "1": "Személyes átvétel",
                                    "2": "123"
                                },
                                {
                                    "0": "MONIKAM",
                                    "1": "NULL",
                                    "2": "407"
                                },
                                {
                                    "0": "NANDORF",
                                    "1": "GLS",
                                    "2": "147"
                                },
                                {
                                    "0": "NANDORF",
                                    "1": "Posta",
                                    "2": "139"
                                },
                                {
                                    "0": "NANDORF",
                                    "1": "Személyes átvétel",
                                    "2": "134"
                                },
                                {
                                    "0": "NANDORF",
                                    "1": "NULL",
                                    "2": "420"
                                },
                                {
                                    "0": "nikolett3",
                                    "1": "GLS",
                                    "2": "4"
                                },
                                {
                                    "0": "nikolett3",
                                    "1": "Posta",
                                    "2": "3"
                                },
                                {
                                    "0": "nikolett3",
                                    "1": "Személyes átvétel",
                                    "2": "10"
                                },
                                {
                                    "0": "nikolett3",
                                    "1": "NULL",
                                    "2": "17"
                                },
                                {
                                    "0": "nikoletta4",
                                    "1": "GLS",
                                    "2": "137"
                                },
                                {
                                    "0": "nikoletta4",
                                    "1": "Posta",
                                    "2": "158"
                                },
                                {
                                    "0": "nikoletta4",
                                    "1": "Személyes átvétel",
                                    "2": "119"
                                },
                                {
                                    "0": "nikoletta4",
                                    "1": "NULL",
                                    "2": "414"
                                },
                                {
                                    "0": "NIKOLETTAT",
                                    "1": "GLS",
                                    "2": "13"
                                },
                                {
                                    "0": "NIKOLETTAT",
                                    "1": "Posta",
                                    "2": "7"
                                },
                                {
                                    "0": "NIKOLETTAT",
                                    "1": "Személyes átvétel",
                                    "2": "5"
                                },
                                {
                                    "0": "NIKOLETTAT",
                                    "1": "NULL",
                                    "2": "25"
                                },
                                {
                                    "0": "norbert2",
                                    "1": "GLS",
                                    "2": "7"
                                },
                                {
                                    "0": "norbert2",
                                    "1": "Posta",
                                    "2": "4"
                                },
                                {
                                    "0": "norbert2",
                                    "1": "NULL",
                                    "2": "11"
                                },
                                {
                                    "0": "norbert4",
                                    "1": "GLS",
                                    "2": "1"
                                },
                                {
                                    "0": "norbert4",
                                    "1": "Posta",
                                    "2": "3"
                                },
                                {
                                    "0": "norbert4",
                                    "1": "Személyes átvétel",
                                    "2": "9"
                                },
                                {
                                    "0": "norbert4",
                                    "1": "NULL",
                                    "2": "13"
                                },
                                {
                                    "0": "norbert5",
                                    "1": "GLS",
                                    "2": "1"
                                },
                                {
                                    "0": "norbert5",
                                    "1": "Posta",
                                    "2": "6"
                                },
                                {
                                    "0": "norbert5",
                                    "1": "Személyes átvétel",
                                    "2": "9"
                                },
                                {
                                    "0": "norbert5",
                                    "1": "NULL",
                                    "2": "16"
                                },
                                {
                                    "0": "pal",
                                    "1": "GLS",
                                    "2": "152"
                                },
                                {
                                    "0": "pal",
                                    "1": "Posta",
                                    "2": "132"
                                },
                                {
                                    "0": "pal",
                                    "1": "Személyes átvétel",
                                    "2": "154"
                                },
                                {
                                    "0": "pal",
                                    "1": "NULL",
                                    "2": "438"
                                },
                                {
                                    "0": "peter1",
                                    "1": "GLS",
                                    "2": "151"
                                },
                                {
                                    "0": "peter1",
                                    "1": "Posta",
                                    "2": "135"
                                },
                                {
                                    "0": "peter1",
                                    "1": "Személyes átvétel",
                                    "2": "126"
                                },
                                {
                                    "0": "peter1",
                                    "1": "NULL",
                                    "2": "412"
                                },
                                {
                                    "0": "peter2",
                                    "1": "GLS",
                                    "2": "7"
                                },
                                {
                                    "0": "peter2",
                                    "1": "Posta",
                                    "2": "4"
                                },
                                {
                                    "0": "peter2",
                                    "1": "Személyes átvétel",
                                    "2": "7"
                                },
                                {
                                    "0": "peter2",
                                    "1": "NULL",
                                    "2": "18"
                                },
                                {
                                    "0": "peter3",
                                    "1": "GLS",
                                    "2": "8"
                                },
                                {
                                    "0": "peter3",
                                    "1": "Posta",
                                    "2": "7"
                                },
                                {
                                    "0": "peter3",
                                    "1": "Személyes átvétel",
                                    "2": "10"
                                },
                                {
                                    "0": "peter3",
                                    "1": "NULL",
                                    "2": "25"
                                },
                                {
                                    "0": "peter4",
                                    "1": "GLS",
                                    "2": "266"
                                },
                                {
                                    "0": "peter4",
                                    "1": "Posta",
                                    "2": "293"
                                },
                                {
                                    "0": "peter4",
                                    "1": "Személyes átvétel",
                                    "2": "293"
                                },
                                {
                                    "0": "peter4",
                                    "1": "NULL",
                                    "2": "852"
                                },
                                {
                                    "0": "PETERB",
                                    "1": "GLS",
                                    "2": "2"
                                },
                                {
                                    "0": "PETERB",
                                    "1": "Posta",
                                    "2": "4"
                                },
                                {
                                    "0": "PETERB",
                                    "1": "Személyes átvétel",
                                    "2": "9"
                                },
                                {
                                    "0": "PETERB",
                                    "1": "NULL",
                                    "2": "15"
                                },
                                {
                                    "0": "polla",
                                    "1": "GLS",
                                    "2": "9"
                                },
                                {
                                    "0": "polla",
                                    "1": "Posta",
                                    "2": "6"
                                },
                                {
                                    "0": "polla",
                                    "1": "Személyes átvétel",
                                    "2": "7"
                                },
                                {
                                    "0": "polla",
                                    "1": "NULL",
                                    "2": "22"
                                },
                                {
                                    "0": "rajmond4",
                                    "1": "GLS",
                                    "2": "6"
                                },
                                {
                                    "0": "rajmond4",
                                    "1": "Posta",
                                    "2": "5"
                                },
                                {
                                    "0": "rajmond4",
                                    "1": "Személyes átvétel",
                                    "2": "6"
                                },
                                {
                                    "0": "rajmond4",
                                    "1": "NULL",
                                    "2": "17"
                                },
                                {
                                    "0": "reka4",
                                    "1": "GLS",
                                    "2": "5"
                                },
                                {
                                    "0": "reka4",
                                    "1": "Posta",
                                    "2": "4"
                                },
                                {
                                    "0": "reka4",
                                    "1": "Személyes átvétel",
                                    "2": "11"
                                },
                                {
                                    "0": "reka4",
                                    "1": "NULL",
                                    "2": "20"
                                },
                                {
                                    "0": "RENATAK",
                                    "1": "GLS",
                                    "2": "135"
                                },
                                {
                                    "0": "RENATAK",
                                    "1": "Posta",
                                    "2": "140"
                                },
                                {
                                    "0": "RENATAK",
                                    "1": "Személyes átvétel",
                                    "2": "147"
                                },
                                {
                                    "0": "RENATAK",
                                    "1": "NULL",
                                    "2": "422"
                                },
                                {
                                    "0": "RENATAS",
                                    "1": "GLS",
                                    "2": "6"
                                },
                                {
                                    "0": "RENATAS",
                                    "1": "Posta",
                                    "2": "5"
                                },
                                {
                                    "0": "RENATAS",
                                    "1": "Személyes átvétel",
                                    "2": "5"
                                },
                                {
                                    "0": "RENATAS",
                                    "1": "NULL",
                                    "2": "16"
                                },
                                {
                                    "0": "robert2",
                                    "1": "GLS",
                                    "2": "5"
                                },
                                {
                                    "0": "robert2",
                                    "1": "Posta",
                                    "2": "1"
                                },
                                {
                                    "0": "robert2",
                                    "1": "Személyes átvétel",
                                    "2": "7"
                                },
                                {
                                    "0": "robert2",
                                    "1": "NULL",
                                    "2": "13"
                                },
                                {
                                    "0": "ROBERTI",
                                    "1": "GLS",
                                    "2": "5"
                                },
                                {
                                    "0": "ROBERTI",
                                    "1": "Posta",
                                    "2": "3"
                                },
                                {
                                    "0": "ROBERTI",
                                    "1": "Személyes átvétel",
                                    "2": "5"
                                },
                                {
                                    "0": "ROBERTI",
                                    "1": "NULL",
                                    "2": "13"
                                },
                                {
                                    "0": "ROBERTP",
                                    "1": "GLS",
                                    "2": "8"
                                },
                                {
                                    "0": "ROBERTP",
                                    "1": "Posta",
                                    "2": "8"
                                },
                                {
                                    "0": "ROBERTP",
                                    "1": "Személyes átvétel",
                                    "2": "10"
                                },
                                {
                                    "0": "ROBERTP",
                                    "1": "NULL",
                                    "2": "26"
                                },
                                {
                                    "0": "roland",
                                    "1": "GLS",
                                    "2": "132"
                                },
                                {
                                    "0": "roland",
                                    "1": "Posta",
                                    "2": "157"
                                },
                                {
                                    "0": "roland",
                                    "1": "Személyes átvétel",
                                    "2": "125"
                                },
                                {
                                    "0": "roland",
                                    "1": "NULL",
                                    "2": "414"
                                },
                                {
                                    "0": "roland1",
                                    "1": "GLS",
                                    "2": "142"
                                },
                                {
                                    "0": "roland1",
                                    "1": "Posta",
                                    "2": "155"
                                },
                                {
                                    "0": "roland1",
                                    "1": "Személyes átvétel",
                                    "2": "135"
                                },
                                {
                                    "0": "roland1",
                                    "1": "NULL",
                                    "2": "432"
                                },
                                {
                                    "0": "roza2",
                                    "1": "GLS",
                                    "2": "3"
                                },
                                {
                                    "0": "roza2",
                                    "1": "Posta",
                                    "2": "2"
                                },
                                {
                                    "0": "roza2",
                                    "1": "Személyes átvétel",
                                    "2": "3"
                                },
                                {
                                    "0": "roza2",
                                    "1": "NULL",
                                    "2": "8"
                                },
                                {
                                    "0": "sandor",
                                    "1": "GLS",
                                    "2": "4"
                                },
                                {
                                    "0": "sandor",
                                    "1": "Posta",
                                    "2": "6"
                                },
                                {
                                    "0": "sandor",
                                    "1": "Személyes átvétel",
                                    "2": "7"
                                },
                                {
                                    "0": "sandor",
                                    "1": "NULL",
                                    "2": "17"
                                },
                                {
                                    "0": "sandor3",
                                    "1": "GLS",
                                    "2": "4"
                                },
                                {
                                    "0": "sandor3",
                                    "1": "Posta",
                                    "2": "4"
                                },
                                {
                                    "0": "sandor3",
                                    "1": "Személyes átvétel",
                                    "2": "6"
                                },
                                {
                                    "0": "sandor3",
                                    "1": "NULL",
                                    "2": "14"
                                },
                                {
                                    "0": "sandor4",
                                    "1": "GLS",
                                    "2": "4"
                                },
                                {
                                    "0": "sandor4",
                                    "1": "Posta",
                                    "2": "2"
                                },
                                {
                                    "0": "sandor4",
                                    "1": "Személyes átvétel",
                                    "2": "5"
                                },
                                {
                                    "0": "sandor4",
                                    "1": "NULL",
                                    "2": "11"
                                },
                                {
                                    "0": "sara",
                                    "1": "GLS",
                                    "2": "4"
                                },
                                {
                                    "0": "sara",
                                    "1": "Posta",
                                    "2": "7"
                                },
                                {
                                    "0": "sara",
                                    "1": "Személyes átvétel",
                                    "2": "9"
                                },
                                {
                                    "0": "sara",
                                    "1": "NULL",
                                    "2": "20"
                                },
                                {
                                    "0": "SEBASTIANF",
                                    "1": "GLS",
                                    "2": "6"
                                },
                                {
                                    "0": "SEBASTIANF",
                                    "1": "Posta",
                                    "2": "3"
                                },
                                {
                                    "0": "SEBASTIANF",
                                    "1": "Személyes átvétel",
                                    "2": "6"
                                },
                                {
                                    "0": "SEBASTIANF",
                                    "1": "NULL",
                                    "2": "15"
                                },
                                {
                                    "0": "sebestyen",
                                    "1": "GLS",
                                    "2": "4"
                                },
                                {
                                    "0": "sebestyen",
                                    "1": "Posta",
                                    "2": "6"
                                },
                                {
                                    "0": "sebestyen",
                                    "1": "Személyes átvétel",
                                    "2": "6"
                                },
                                {
                                    "0": "sebestyen",
                                    "1": "NULL",
                                    "2": "16"
                                },
                                {
                                    "0": "szabolcs",
                                    "1": "GLS",
                                    "2": "145"
                                },
                                {
                                    "0": "szabolcs",
                                    "1": "Posta",
                                    "2": "157"
                                },
                                {
                                    "0": "szabolcs",
                                    "1": "Személyes átvétel",
                                    "2": "169"
                                },
                                {
                                    "0": "szabolcs",
                                    "1": "NULL",
                                    "2": "471"
                                },
                                {
                                    "0": "SZABOLCSM",
                                    "1": "GLS",
                                    "2": "126"
                                },
                                {
                                    "0": "SZABOLCSM",
                                    "1": "Posta",
                                    "2": "153"
                                },
                                {
                                    "0": "SZABOLCSM",
                                    "1": "Személyes átvétel",
                                    "2": "129"
                                },
                                {
                                    "0": "SZABOLCSM",
                                    "1": "NULL",
                                    "2": "408"
                                },
                                {
                                    "0": "SZILARDS",
                                    "1": "GLS",
                                    "2": "144"
                                },
                                {
                                    "0": "SZILARDS",
                                    "1": "Posta",
                                    "2": "131"
                                },
                                {
                                    "0": "SZILARDS",
                                    "1": "Személyes átvétel",
                                    "2": "111"
                                },
                                {
                                    "0": "SZILARDS",
                                    "1": "NULL",
                                    "2": "386"
                                },
                                {
                                    "0": "szilvia1",
                                    "1": "GLS",
                                    "2": "156"
                                },
                                {
                                    "0": "szilvia1",
                                    "1": "Posta",
                                    "2": "151"
                                },
                                {
                                    "0": "szilvia1",
                                    "1": "Személyes átvétel",
                                    "2": "138"
                                },
                                {
                                    "0": "szilvia1",
                                    "1": "NULL",
                                    "2": "445"
                                },
                                {
                                    "0": "tamara2",
                                    "1": "GLS",
                                    "2": "6"
                                },
                                {
                                    "0": "tamara2",
                                    "1": "Posta",
                                    "2": "4"
                                },
                                {
                                    "0": "tamara2",
                                    "1": "Személyes átvétel",
                                    "2": "3"
                                },
                                {
                                    "0": "tamara2",
                                    "1": "NULL",
                                    "2": "13"
                                },
                                {
                                    "0": "tamas",
                                    "1": "GLS",
                                    "2": "143"
                                },
                                {
                                    "0": "tamas",
                                    "1": "Posta",
                                    "2": "156"
                                },
                                {
                                    "0": "tamas",
                                    "1": "Személyes átvétel",
                                    "2": "122"
                                },
                                {
                                    "0": "tamas",
                                    "1": "NULL",
                                    "2": "421"
                                },
                                {
                                    "0": "TAMASF",
                                    "1": "GLS",
                                    "2": "159"
                                },
                                {
                                    "0": "TAMASF",
                                    "1": "Posta",
                                    "2": "145"
                                },
                                {
                                    "0": "TAMASF",
                                    "1": "Személyes átvétel",
                                    "2": "129"
                                },
                                {
                                    "0": "TAMASF",
                                    "1": "NULL",
                                    "2": "433"
                                },
                                {
                                    "0": "tibor",
                                    "1": "GLS",
                                    "2": "115"
                                },
                                {
                                    "0": "tibor",
                                    "1": "Posta",
                                    "2": "129"
                                },
                                {
                                    "0": "tibor",
                                    "1": "Személyes átvétel",
                                    "2": "130"
                                },
                                {
                                    "0": "tibor",
                                    "1": "NULL",
                                    "2": "374"
                                },
                                {
                                    "0": "tibor2",
                                    "1": "GLS",
                                    "2": "7"
                                },
                                {
                                    "0": "tibor2",
                                    "1": "Posta",
                                    "2": "7"
                                },
                                {
                                    "0": "tibor2",
                                    "1": "Személyes átvétel",
                                    "2": "11"
                                },
                                {
                                    "0": "tibor2",
                                    "1": "NULL",
                                    "2": "25"
                                },
                                {
                                    "0": "tihamer",
                                    "1": "GLS",
                                    "2": "9"
                                },
                                {
                                    "0": "tihamer",
                                    "1": "Posta",
                                    "2": "6"
                                },
                                {
                                    "0": "tihamer",
                                    "1": "Személyes átvétel",
                                    "2": "5"
                                },
                                {
                                    "0": "tihamer",
                                    "1": "NULL",
                                    "2": "20"
                                },
                                {
                                    "0": "timea",
                                    "1": "GLS",
                                    "2": "14"
                                },
                                {
                                    "0": "timea",
                                    "1": "Posta",
                                    "2": "23"
                                },
                                {
                                    "0": "timea",
                                    "1": "Személyes átvétel",
                                    "2": "18"
                                },
                                {
                                    "0": "timea",
                                    "1": "NULL",
                                    "2": "55"
                                },
                                {
                                    "0": "timea2",
                                    "1": "GLS",
                                    "2": "1"
                                },
                                {
                                    "0": "timea2",
                                    "1": "Posta",
                                    "2": "5"
                                },
                                {
                                    "0": "timea2",
                                    "1": "Személyes átvétel",
                                    "2": "10"
                                },
                                {
                                    "0": "timea2",
                                    "1": "NULL",
                                    "2": "16"
                                },
                                {
                                    "0": "tunde",
                                    "1": "GLS",
                                    "2": "6"
                                },
                                {
                                    "0": "tunde",
                                    "1": "Posta",
                                    "2": "6"
                                },
                                {
                                    "0": "tunde",
                                    "1": "Személyes átvétel",
                                    "2": "4"
                                },
                                {
                                    "0": "tunde",
                                    "1": "NULL",
                                    "2": "16"
                                },
                                {
                                    "0": "valentin",
                                    "1": "GLS",
                                    "2": "5"
                                },
                                {
                                    "0": "valentin",
                                    "1": "Posta",
                                    "2": "5"
                                },
                                {
                                    "0": "valentin",
                                    "1": "Személyes átvétel",
                                    "2": "3"
                                },
                                {
                                    "0": "valentin",
                                    "1": "NULL",
                                    "2": "13"
                                },
                                {
                                    "0": "veronika4",
                                    "1": "GLS",
                                    "2": "5"
                                },
                                {
                                    "0": "veronika4",
                                    "1": "Posta",
                                    "2": "6"
                                },
                                {
                                    "0": "veronika4",
                                    "1": "Személyes átvétel",
                                    "2": "7"
                                },
                                {
                                    "0": "veronika4",
                                    "1": "NULL",
                                    "2": "18"
                                },
                                {
                                    "0": "VIKTORIAU",
                                    "1": "GLS",
                                    "2": "5"
                                },
                                {
                                    "0": "VIKTORIAU",
                                    "1": "Posta",
                                    "2": "4"
                                },
                                {
                                    "0": "VIKTORIAU",
                                    "1": "Személyes átvétel",
                                    "2": "5"
                                },
                                {
                                    "0": "VIKTORIAU",
                                    "1": "NULL",
                                    "2": "14"
                                },
                                {
                                    "0": "VIKTORK",
                                    "1": "GLS",
                                    "2": "8"
                                },
                                {
                                    "0": "VIKTORK",
                                    "1": "Posta",
                                    "2": "6"
                                },
                                {
                                    "0": "VIKTORK",
                                    "1": "Személyes átvétel",
                                    "2": "6"
                                },
                                {
                                    "0": "VIKTORK",
                                    "1": "NULL",
                                    "2": "20"
                                },
                                {
                                    "0": "vivien3",
                                    "1": "GLS",
                                    "2": "9"
                                },
                                {
                                    "0": "vivien3",
                                    "1": "Posta",
                                    "2": "6"
                                },
                                {
                                    "0": "vivien3",
                                    "1": "Személyes átvétel",
                                    "2": "7"
                                },
                                {
                                    "0": "vivien3",
                                    "1": "NULL",
                                    "2": "22"
                                },
                                {
                                    "0": "zoltan",
                                    "1": "GLS",
                                    "2": "5"
                                },
                                {
                                    "0": "zoltan",
                                    "1": "Posta",
                                    "2": "3"
                                },
                                {
                                    "0": "zoltan",
                                    "1": "Személyes átvétel",
                                    "2": "7"
                                },
                                {
                                    "0": "zoltan",
                                    "1": "NULL",
                                    "2": "15"
                                },
                                {
                                    "0": "zoltan4",
                                    "1": "GLS",
                                    "2": "129"
                                },
                                {
                                    "0": "zoltan4",
                                    "1": "Posta",
                                    "2": "124"
                                },
                                {
                                    "0": "zoltan4",
                                    "1": "Személyes átvétel",
                                    "2": "171"
                                },
                                {
                                    "0": "zoltan4",
                                    "1": "NULL",
                                    "2": "424"
                                },
                                {
                                    "0": "ZOLTANP",
                                    "1": "GLS",
                                    "2": "6"
                                },
                                {
                                    "0": "ZOLTANP",
                                    "1": "Posta",
                                    "2": "3"
                                },
                                {
                                    "0": "ZOLTANP",
                                    "1": "Személyes átvétel",
                                    "2": "4"
                                },
                                {
                                    "0": "ZOLTANP",
                                    "1": "NULL",
                                    "2": "13"
                                },
                                {
                                    "0": "ZOLTANT",
                                    "1": "GLS",
                                    "2": "127"
                                },
                                {
                                    "0": "ZOLTANT",
                                    "1": "Posta",
                                    "2": "107"
                                },
                                {
                                    "0": "ZOLTANT",
                                    "1": "Személyes átvétel",
                                    "2": "123"
                                },
                                {
                                    "0": "ZOLTANT",
                                    "1": "NULL",
                                    "2": "357"
                                },
                                {
                                    "0": "zsofi1",
                                    "1": "GLS",
                                    "2": "7"
                                },
                                {
                                    "0": "zsofi1",
                                    "1": "Posta",
                                    "2": "6"
                                },
                                {
                                    "0": "zsofi1",
                                    "1": "Személyes átvétel",
                                    "2": "6"
                                },
                                {
                                    "0": "zsofi1",
                                    "1": "NULL",
                                    "2": "19"
                                },
                                {
                                    "0": "zsolt1",
                                    "1": "GLS",
                                    "2": "11"
                                },
                                {
                                    "0": "zsolt1",
                                    "1": "Posta",
                                    "2": "6"
                                },
                                {
                                    "0": "zsolt1",
                                    "1": "Személyes átvétel",
                                    "2": "3"
                                },
                                {
                                    "0": "zsolt1",
                                    "1": "NULL",
                                    "2": "20"
                                },
                                {
                                    "0": "ZSOLTJ",
                                    "1": "GLS",
                                    "2": "1"
                                },
                                {
                                    "0": "ZSOLTJ",
                                    "1": "Posta",
                                    "2": "8"
                                },
                                {
                                    "0": "ZSOLTJ",
                                    "1": "Személyes átvétel",
                                    "2": "9"
                                },
                                {
                                    "0": "ZSOLTJ",
                                    "1": "NULL",
                                    "2": "18"
                                },
                                {
                                    "0": "zsuzsa",
                                    "1": "GLS",
                                    "2": "8"
                                },
                                {
                                    "0": "zsuzsa",
                                    "1": "Posta",
                                    "2": "5"
                                },
                                {
                                    "0": "zsuzsa",
                                    "1": "Személyes átvétel",
                                    "2": "3"
                                },
                                {
                                    "0": "zsuzsa",
                                    "1": "NULL",
                                    "2": "16"
                                },
                                {
                                    "0": "zsuzsa3",
                                    "1": "GLS",
                                    "2": "5"
                                },
                                {
                                    "0": "zsuzsa3",
                                    "1": "Posta",
                                    "2": "5"
                                },
                                {
                                    "0": "zsuzsa3",
                                    "1": "Személyes átvétel",
                                    "2": "6"
                                },
                                {
                                    "0": "zsuzsa3",
                                    "1": "NULL",
                                    "2": "16"
                                },
                                {
                                    "0": "zsuzsanna",
                                    "1": "GLS",
                                    "2": "7"
                                },
                                {
                                    "0": "zsuzsanna",
                                    "1": "Posta",
                                    "2": "5"
                                },
                                {
                                    "0": "zsuzsanna",
                                    "1": "Személyes átvétel",
                                    "2": "3"
                                },
                                {
                                    "0": "zsuzsanna",
                                    "1": "NULL",
                                    "2": "15"
                                },
                                {
                                    "0": "ZSUZSAV",
                                    "1": "GLS",
                                    "2": "139"
                                },
                                {
                                    "0": "ZSUZSAV",
                                    "1": "Posta",
                                    "2": "139"
                                },
                                {
                                    "0": "ZSUZSAV",
                                    "1": "Személyes átvétel",
                                    "2": "142"
                                },
                                {
                                    "0": "ZSUZSAV",
                                    "1": "NULL",
                                    "2": "420"
                                },
                                {
                                    "0": "NULL",
                                    "1": "NULL",
                                    "2": "28085"
                                }
                            ]
                        },
                        "text/html": "<table><tr><th>LOGIN</th><th>SZALL_MOD</th><th>Összesen</th></tr><tr><td>adam1</td><td>GLS</td><td>129</td></tr><tr><td>adam1</td><td>Posta</td><td>132</td></tr><tr><td>adam1</td><td>Személyes átvétel</td><td>131</td></tr><tr><td>adam1</td><td>NULL</td><td>392</td></tr><tr><td>adam3</td><td>GLS</td><td>10</td></tr><tr><td>adam3</td><td>Posta</td><td>3</td></tr><tr><td>adam3</td><td>Személyes átvétel</td><td>2</td></tr><tr><td>adam3</td><td>NULL</td><td>15</td></tr><tr><td>adam4</td><td>GLS</td><td>12</td></tr><tr><td>adam4</td><td>Posta</td><td>6</td></tr><tr><td>adam4</td><td>Személyes átvétel</td><td>11</td></tr><tr><td>adam4</td><td>NULL</td><td>29</td></tr><tr><td>agnes</td><td>GLS</td><td>144</td></tr><tr><td>agnes</td><td>Posta</td><td>130</td></tr><tr><td>agnes</td><td>Személyes átvétel</td><td>144</td></tr><tr><td>agnes</td><td>NULL</td><td>418</td></tr><tr><td>agnes3</td><td>GLS</td><td>148</td></tr><tr><td>agnes3</td><td>Posta</td><td>146</td></tr><tr><td>agnes3</td><td>Személyes átvétel</td><td>136</td></tr><tr><td>agnes3</td><td>NULL</td><td>430</td></tr><tr><td>AGNESH</td><td>GLS</td><td>2</td></tr><tr><td>AGNESH</td><td>Posta</td><td>3</td></tr><tr><td>AGNESH</td><td>Személyes átvétel</td><td>6</td></tr><tr><td>AGNESH</td><td>NULL</td><td>11</td></tr><tr><td>AGNESK</td><td>GLS</td><td>1</td></tr><tr><td>AGNESK</td><td>Posta</td><td>7</td></tr><tr><td>AGNESK</td><td>Személyes átvétel</td><td>7</td></tr><tr><td>AGNESK</td><td>NULL</td><td>15</td></tr><tr><td>akos</td><td>GLS</td><td>146</td></tr><tr><td>akos</td><td>Posta</td><td>143</td></tr><tr><td>akos</td><td>Személyes átvétel</td><td>140</td></tr><tr><td>akos</td><td>NULL</td><td>429</td></tr><tr><td>aladar</td><td>GLS</td><td>156</td></tr><tr><td>aladar</td><td>Posta</td><td>134</td></tr><tr><td>aladar</td><td>Személyes átvétel</td><td>118</td></tr><tr><td>aladar</td><td>NULL</td><td>408</td></tr><tr><td>alexandra</td><td>GLS</td><td>5</td></tr><tr><td>alexandra</td><td>Posta</td><td>9</td></tr><tr><td>alexandra</td><td>Személyes átvétel</td><td>5</td></tr><tr><td>alexandra</td><td>NULL</td><td>19</td></tr><tr><td>andi</td><td>GLS</td><td>7</td></tr><tr><td>andi</td><td>Posta</td><td>4</td></tr><tr><td>andi</td><td>Személyes átvétel</td><td>7</td></tr><tr><td>andi</td><td>NULL</td><td>18</td></tr><tr><td>andras2</td><td>GLS</td><td>4</td></tr><tr><td>andras2</td><td>Posta</td><td>7</td></tr><tr><td>andras2</td><td>Személyes átvétel</td><td>11</td></tr><tr><td>andras2</td><td>NULL</td><td>22</td></tr><tr><td>andras21</td><td>GLS</td><td>140</td></tr><tr><td>andras21</td><td>Posta</td><td>124</td></tr><tr><td>andras21</td><td>Személyes átvétel</td><td>126</td></tr><tr><td>andras21</td><td>NULL</td><td>390</td></tr><tr><td>andras3</td><td>GLS</td><td>3</td></tr><tr><td>andras3</td><td>Posta</td><td>1</td></tr><tr><td>andras3</td><td>Személyes átvétel</td><td>5</td></tr><tr><td>andras3</td><td>NULL</td><td>9</td></tr><tr><td>andras4</td><td>GLS</td><td>4</td></tr><tr><td>andras4</td><td>Posta</td><td>4</td></tr><tr><td>andras4</td><td>Személyes átvétel</td><td>4</td></tr><tr><td>andras4</td><td>NULL</td><td>12</td></tr><tr><td>andras41</td><td>GLS</td><td>149</td></tr><tr><td>andras41</td><td>Posta</td><td>137</td></tr><tr><td>andras41</td><td>Személyes átvétel</td><td>133</td></tr><tr><td>andras41</td><td>NULL</td><td>419</td></tr><tr><td>ANDRASE</td><td>GLS</td><td>159</td></tr><tr><td>ANDRASE</td><td>Posta</td><td>141</td></tr><tr><td>ANDRASE</td><td>Személyes átvétel</td><td>136</td></tr><tr><td>ANDRASE</td><td>NULL</td><td>436</td></tr><tr><td>ANDRASN</td><td>GLS</td><td>10</td></tr><tr><td>ANDRASN</td><td>Posta</td><td>9</td></tr><tr><td>ANDRASN</td><td>Személyes átvétel</td><td>5</td></tr><tr><td>ANDRASN</td><td>NULL</td><td>24</td></tr><tr><td>andrea</td><td>GLS</td><td>12</td></tr><tr><td>andrea</td><td>Posta</td><td>4</td></tr><tr><td>andrea</td><td>Személyes átvétel</td><td>8</td></tr><tr><td>andrea</td><td>NULL</td><td>24</td></tr><tr><td>andrea3</td><td>GLS</td><td>131</td></tr><tr><td>andrea3</td><td>Posta</td><td>136</td></tr><tr><td>andrea3</td><td>Személyes átvétel</td><td>146</td></tr><tr><td>andrea3</td><td>NULL</td><td>413</td></tr><tr><td>andrea4</td><td>GLS</td><td>7</td></tr><tr><td>andrea4</td><td>Posta</td><td>4</td></tr><tr><td>andrea4</td><td>Személyes átvétel</td><td>7</td></tr><tr><td>andrea4</td><td>NULL</td><td>18</td></tr><tr><td>ANDREAT</td><td>GLS</td><td>3</td></tr><tr><td>ANDREAT</td><td>Posta</td><td>6</td></tr><tr><td>ANDREAT</td><td>Személyes átvétel</td><td>12</td></tr><tr><td>ANDREAT</td><td>NULL</td><td>21</td></tr><tr><td>anett3</td><td>GLS</td><td>3</td></tr><tr><td>anett3</td><td>Posta</td><td>6</td></tr><tr><td>anett3</td><td>Személyes átvétel</td><td>9</td></tr><tr><td>anett3</td><td>NULL</td><td>18</td></tr><tr><td>aniko</td><td>GLS</td><td>128</td></tr><tr><td>aniko</td><td>Posta</td><td>137</td></tr><tr><td>aniko</td><td>Személyes átvétel</td><td>138</td></tr><tr><td>aniko</td><td>NULL</td><td>403</td></tr><tr><td>aniko4</td><td>GLS</td><td>6</td></tr><tr><td>aniko4</td><td>Posta</td><td>6</td></tr><tr><td>aniko4</td><td>Személyes átvétel</td><td>3</td></tr><tr><td>aniko4</td><td>NULL</td><td>15</td></tr><tr><td>ANIKOS</td><td>GLS</td><td>128</td></tr><tr><td>ANIKOS</td><td>Posta</td><td>126</td></tr><tr><td>ANIKOS</td><td>Személyes átvétel</td><td>150</td></tr><tr><td>ANIKOS</td><td>NULL</td><td>404</td></tr><tr><td>anita</td><td>GLS</td><td>5</td></tr><tr><td>anita</td><td>Posta</td><td>2</td></tr><tr><td>anita</td><td>Személyes átvétel</td><td>5</td></tr><tr><td>anita</td><td>NULL</td><td>12</td></tr><tr><td>annamaria1</td><td>GLS</td><td>5</td></tr><tr><td>annamaria1</td><td>Posta</td><td>4</td></tr><tr><td>annamaria1</td><td>Személyes átvétel</td><td>7</td></tr><tr><td>annamaria1</td><td>NULL</td><td>16</td></tr><tr><td>ANNAMARIAR</td><td>GLS</td><td>8</td></tr><tr><td>ANNAMARIAR</td><td>Posta</td><td>2</td></tr><tr><td>ANNAMARIAR</td><td>Személyes átvétel</td><td>3</td></tr><tr><td>ANNAMARIAR</td><td>NULL</td><td>13</td></tr><tr><td>aron2</td><td>GLS</td><td>132</td></tr><tr><td>aron2</td><td>Posta</td><td>133</td></tr><tr><td>aron2</td><td>Személyes átvétel</td><td>144</td></tr><tr><td>aron2</td><td>NULL</td><td>409</td></tr><tr><td>ARONK</td><td>GLS</td><td>155</td></tr><tr><td>ARONK</td><td>Posta</td><td>120</td></tr><tr><td>ARONK</td><td>Személyes átvétel</td><td>155</td></tr><tr><td>ARONK</td><td>NULL</td><td>430</td></tr><tr><td>arpad2</td><td>GLS</td><td>6</td></tr><tr><td>arpad2</td><td>Posta</td><td>1</td></tr><tr><td>arpad2</td><td>Személyes átvétel</td><td>10</td></tr><tr><td>arpad2</td><td>NULL</td><td>17</td></tr><tr><td>ARPADH</td><td>GLS</td><td>6</td></tr><tr><td>ARPADH</td><td>Posta</td><td>3</td></tr><tr><td>ARPADH</td><td>Személyes átvétel</td><td>5</td></tr><tr><td>ARPADH</td><td>NULL</td><td>14</td></tr><tr><td>ARPADM</td><td>GLS</td><td>6</td></tr><tr><td>ARPADM</td><td>Posta</td><td>3</td></tr><tr><td>ARPADM</td><td>Személyes átvétel</td><td>7</td></tr><tr><td>ARPADM</td><td>NULL</td><td>16</td></tr><tr><td>attila1</td><td>GLS</td><td>5</td></tr><tr><td>attila1</td><td>Posta</td><td>7</td></tr><tr><td>attila1</td><td>Személyes átvétel</td><td>6</td></tr><tr><td>attila1</td><td>NULL</td><td>18</td></tr><tr><td>attila4</td><td>GLS</td><td>135</td></tr><tr><td>attila4</td><td>Posta</td><td>125</td></tr><tr><td>attila4</td><td>Személyes átvétel</td><td>141</td></tr><tr><td>attila4</td><td>NULL</td><td>401</td></tr><tr><td>ATTILAO</td><td>GLS</td><td>4</td></tr><tr><td>ATTILAO</td><td>Posta</td><td>4</td></tr><tr><td>ATTILAO</td><td>Személyes átvétel</td><td>6</td></tr><tr><td>ATTILAO</td><td>NULL</td><td>14</td></tr><tr><td>balazs1</td><td>GLS</td><td>128</td></tr><tr><td>balazs1</td><td>Posta</td><td>136</td></tr><tr><td>balazs1</td><td>Személyes átvétel</td><td>155</td></tr><tr><td>balazs1</td><td>NULL</td><td>419</td></tr><tr><td>balazs2</td><td>GLS</td><td>5</td></tr><tr><td>balazs2</td><td>Posta</td><td>7</td></tr><tr><td>balazs2</td><td>Személyes átvétel</td><td>5</td></tr><tr><td>balazs2</td><td>NULL</td><td>17</td></tr><tr><td>balazs3</td><td>GLS</td><td>6</td></tr><tr><td>balazs3</td><td>Posta</td><td>6</td></tr><tr><td>balazs3</td><td>Személyes átvétel</td><td>3</td></tr><tr><td>balazs3</td><td>NULL</td><td>15</td></tr><tr><td>balint</td><td>GLS</td><td>10</td></tr><tr><td>balint</td><td>Posta</td><td>4</td></tr><tr><td>balint</td><td>Személyes átvétel</td><td>2</td></tr><tr><td>balint</td><td>NULL</td><td>16</td></tr><tr><td>balint1</td><td>GLS</td><td>158</td></tr><tr><td>balint1</td><td>Posta</td><td>152</td></tr><tr><td>balint1</td><td>Személyes átvétel</td><td>152</td></tr><tr><td>balint1</td><td>NULL</td><td>462</td></tr><tr><td>balint2</td><td>GLS</td><td>8</td></tr><tr><td>balint2</td><td>Posta</td><td>6</td></tr><tr><td>balint2</td><td>Személyes átvétel</td><td>3</td></tr><tr><td>balint2</td><td>NULL</td><td>17</td></tr><tr><td>balu</td><td>GLS</td><td>127</td></tr><tr><td>balu</td><td>Posta</td><td>137</td></tr><tr><td>balu</td><td>Személyes átvétel</td><td>123</td></tr><tr><td>balu</td><td>NULL</td><td>387</td></tr><tr><td>BEATRIXK</td><td>GLS</td><td>135</td></tr><tr><td>BEATRIXK</td><td>Posta</td><td>155</td></tr><tr><td>BEATRIXK</td><td>Személyes átvétel</td><td>145</td></tr><tr><td>BEATRIXK</td><td>NULL</td><td>435</td></tr><tr><td>BEATRIXS</td><td>GLS</td><td>146</td></tr><tr><td>BEATRIXS</td><td>Posta</td><td>141</td></tr><tr><td>BEATRIXS</td><td>Személyes átvétel</td><td>133</td></tr><tr><td>BEATRIXS</td><td>NULL</td><td>420</td></tr><tr><td>BELAF</td><td>GLS</td><td>11</td></tr><tr><td>BELAF</td><td>Posta</td><td>2</td></tr><tr><td>BELAF</td><td>Személyes átvétel</td><td>5</td></tr><tr><td>BELAF</td><td>NULL</td><td>18</td></tr><tr><td>bence</td><td>GLS</td><td>4</td></tr><tr><td>bence</td><td>Posta</td><td>6</td></tr><tr><td>bence</td><td>Személyes átvétel</td><td>8</td></tr><tr><td>bence</td><td>NULL</td><td>18</td></tr><tr><td>BENCEB</td><td>GLS</td><td>5</td></tr><tr><td>BENCEB</td><td>Posta</td><td>7</td></tr><tr><td>BENCEB</td><td>Személyes átvétel</td><td>5</td></tr><tr><td>BENCEB</td><td>NULL</td><td>17</td></tr><tr><td>bernadett1</td><td>GLS</td><td>10</td></tr><tr><td>bernadett1</td><td>Posta</td><td>5</td></tr><tr><td>bernadett1</td><td>Személyes átvétel</td><td>5</td></tr><tr><td>bernadett1</td><td>NULL</td><td>20</td></tr><tr><td>bernadett2</td><td>GLS</td><td>6</td></tr><tr><td>bernadett2</td><td>Posta</td><td>2</td></tr><tr><td>bernadett2</td><td>Személyes átvétel</td><td>7</td></tr><tr><td>bernadett2</td><td>NULL</td><td>15</td></tr><tr><td>BERNADETTO</td><td>GLS</td><td>7</td></tr><tr><td>BERNADETTO</td><td>Posta</td><td>2</td></tr><tr><td>BERNADETTO</td><td>Személyes átvétel</td><td>7</td></tr><tr><td>BERNADETTO</td><td>NULL</td><td>16</td></tr><tr><td>bertalan</td><td>GLS</td><td>128</td></tr><tr><td>bertalan</td><td>Posta</td><td>124</td></tr><tr><td>bertalan</td><td>Személyes átvétel</td><td>101</td></tr><tr><td>bertalan</td><td>NULL</td><td>353</td></tr><tr><td>brigitta</td><td>GLS</td><td>137</td></tr><tr><td>brigitta</td><td>Posta</td><td>137</td></tr><tr><td>brigitta</td><td>Személyes átvétel</td><td>119</td></tr><tr><td>brigitta</td><td>NULL</td><td>393</td></tr><tr><td>brigitta3</td><td>GLS</td><td>144</td></tr><tr><td>brigitta3</td><td>Posta</td><td>130</td></tr><tr><td>brigitta3</td><td>Személyes átvétel</td><td>139</td></tr><tr><td>brigitta3</td><td>NULL</td><td>413</td></tr><tr><td>csongor3</td><td>GLS</td><td>5</td></tr><tr><td>csongor3</td><td>Posta</td><td>2</td></tr><tr><td>csongor3</td><td>Személyes átvétel</td><td>8</td></tr><tr><td>csongor3</td><td>NULL</td><td>15</td></tr><tr><td>dani</td><td>GLS</td><td>5</td></tr><tr><td>dani</td><td>Személyes átvétel</td><td>8</td></tr><tr><td>dani</td><td>NULL</td><td>13</td></tr><tr><td>daniel</td><td>GLS</td><td>7</td></tr><tr><td>daniel</td><td>Posta</td><td>2</td></tr><tr><td>daniel</td><td>Személyes átvétel</td><td>4</td></tr><tr><td>daniel</td><td>NULL</td><td>13</td></tr><tr><td>daniel1</td><td>GLS</td><td>156</td></tr><tr><td>daniel1</td><td>Posta</td><td>131</td></tr><tr><td>daniel1</td><td>Személyes átvétel</td><td>132</td></tr><tr><td>daniel1</td><td>NULL</td><td>419</td></tr><tr><td>david</td><td>GLS</td><td>161</td></tr><tr><td>david</td><td>Posta</td><td>144</td></tr><tr><td>david</td><td>Személyes átvétel</td><td>146</td></tr><tr><td>david</td><td>NULL</td><td>451</td></tr><tr><td>david1</td><td>GLS</td><td>8</td></tr><tr><td>david1</td><td>Posta</td><td>1</td></tr><tr><td>david1</td><td>Személyes átvétel</td><td>8</td></tr><tr><td>david1</td><td>NULL</td><td>17</td></tr><tr><td>david4</td><td>GLS</td><td>3</td></tr><tr><td>david4</td><td>Posta</td><td>8</td></tr><tr><td>david4</td><td>Személyes átvétel</td><td>10</td></tr><tr><td>david4</td><td>NULL</td><td>21</td></tr><tr><td>debora</td><td>GLS</td><td>7</td></tr><tr><td>debora</td><td>Posta</td><td>6</td></tr><tr><td>debora</td><td>Személyes átvétel</td><td>3</td></tr><tr><td>debora</td><td>NULL</td><td>16</td></tr><tr><td>denes</td><td>GLS</td><td>3</td></tr><tr><td>denes</td><td>Posta</td><td>2</td></tr><tr><td>denes</td><td>Személyes átvétel</td><td>4</td></tr><tr><td>denes</td><td>NULL</td><td>9</td></tr><tr><td>dora3</td><td>GLS</td><td>144</td></tr><tr><td>dora3</td><td>Posta</td><td>124</td></tr><tr><td>dora3</td><td>Személyes átvétel</td><td>164</td></tr><tr><td>dora3</td><td>NULL</td><td>432</td></tr><tr><td>edit</td><td>GLS</td><td>7</td></tr><tr><td>edit</td><td>Posta</td><td>2</td></tr><tr><td>edit</td><td>Személyes átvétel</td><td>4</td></tr><tr><td>edit</td><td>NULL</td><td>13</td></tr><tr><td>emese</td><td>GLS</td><td>128</td></tr><tr><td>emese</td><td>Posta</td><td>136</td></tr><tr><td>emese</td><td>Személyes átvétel</td><td>142</td></tr><tr><td>emese</td><td>NULL</td><td>406</td></tr><tr><td>eszter2</td><td>GLS</td><td>127</td></tr><tr><td>eszter2</td><td>Posta</td><td>136</td></tr><tr><td>eszter2</td><td>Személyes átvétel</td><td>152</td></tr><tr><td>eszter2</td><td>NULL</td><td>415</td></tr><tr><td>eszter4</td><td>GLS</td><td>141</td></tr><tr><td>eszter4</td><td>Posta</td><td>134</td></tr><tr><td>eszter4</td><td>Személyes átvétel</td><td>149</td></tr><tr><td>eszter4</td><td>NULL</td><td>424</td></tr><tr><td>ESZTERE</td><td>GLS</td><td>6</td></tr><tr><td>ESZTERE</td><td>Posta</td><td>9</td></tr><tr><td>ESZTERE</td><td>Személyes átvétel</td><td>7</td></tr><tr><td>ESZTERE</td><td>NULL</td><td>22</td></tr><tr><td>eva</td><td>GLS</td><td>125</td></tr><tr><td>eva</td><td>Posta</td><td>140</td></tr><tr><td>eva</td><td>Személyes átvétel</td><td>139</td></tr><tr><td>eva</td><td>NULL</td><td>404</td></tr><tr><td>eva2</td><td>GLS</td><td>154</td></tr><tr><td>eva2</td><td>Posta</td><td>138</td></tr><tr><td>eva2</td><td>Személyes átvétel</td><td>170</td></tr><tr><td>eva2</td><td>NULL</td><td>462</td></tr><tr><td>EVAV</td><td>GLS</td><td>2</td></tr><tr><td>EVAV</td><td>Posta</td><td>1</td></tr><tr><td>EVAV</td><td>Személyes átvétel</td><td>4</td></tr><tr><td>EVAV</td><td>NULL</td><td>7</td></tr><tr><td>ferenc1</td><td>GLS</td><td>144</td></tr><tr><td>ferenc1</td><td>Posta</td><td>158</td></tr><tr><td>ferenc1</td><td>Személyes átvétel</td><td>135</td></tr><tr><td>ferenc1</td><td>NULL</td><td>437</td></tr><tr><td>fruzsina4</td><td>GLS</td><td>8</td></tr><tr><td>fruzsina4</td><td>Posta</td><td>3</td></tr><tr><td>fruzsina4</td><td>Személyes átvétel</td><td>7</td></tr><tr><td>fruzsina4</td><td>NULL</td><td>18</td></tr><tr><td>gabor1</td><td>GLS</td><td>9</td></tr><tr><td>gabor1</td><td>Posta</td><td>5</td></tr><tr><td>gabor1</td><td>Személyes átvétel</td><td>5</td></tr><tr><td>gabor1</td><td>NULL</td><td>19</td></tr><tr><td>gabor4</td><td>GLS</td><td>7</td></tr><tr><td>gabor4</td><td>Posta</td><td>9</td></tr><tr><td>gabor4</td><td>Személyes átvétel</td><td>4</td></tr><tr><td>gabor4</td><td>NULL</td><td>20</td></tr><tr><td>GABORS</td><td>GLS</td><td>5</td></tr><tr><td>GABORS</td><td>Posta</td><td>6</td></tr><tr><td>GABORS</td><td>Személyes átvétel</td><td>4</td></tr><tr><td>GABORS</td><td>NULL</td><td>15</td></tr><tr><td>gabriella1</td><td>GLS</td><td>5</td></tr><tr><td>gabriella1</td><td>Posta</td><td>4</td></tr><tr><td>gabriella1</td><td>Személyes átvétel</td><td>5</td></tr><tr><td>gabriella1</td><td>NULL</td><td>14</td></tr><tr><td>gabriella10</td><td>GLS</td><td>4</td></tr><tr><td>gabriella10</td><td>Posta</td><td>5</td></tr><tr><td>gabriella10</td><td>Személyes átvétel</td><td>7</td></tr><tr><td>gabriella10</td><td>NULL</td><td>16</td></tr><tr><td>georgij</td><td>GLS</td><td>9</td></tr><tr><td>georgij</td><td>Posta</td><td>2</td></tr><tr><td>georgij</td><td>Személyes átvétel</td><td>10</td></tr><tr><td>georgij</td><td>NULL</td><td>21</td></tr><tr><td>gusztav</td><td>GLS</td><td>5</td></tr><tr><td>gusztav</td><td>Posta</td><td>4</td></tr><tr><td>gusztav</td><td>Személyes átvétel</td><td>5</td></tr><tr><td>gusztav</td><td>NULL</td><td>14</td></tr><tr><td>GYONGYIK</td><td>GLS</td><td>6</td></tr><tr><td>GYONGYIK</td><td>Posta</td><td>6</td></tr><tr><td>GYONGYIK</td><td>Személyes átvétel</td><td>3</td></tr><tr><td>GYONGYIK</td><td>NULL</td><td>15</td></tr><tr><td>GYORGYO</td><td>GLS</td><td>7</td></tr><tr><td>GYORGYO</td><td>Posta</td><td>4</td></tr><tr><td>GYORGYO</td><td>Személyes átvétel</td><td>5</td></tr><tr><td>GYORGYO</td><td>NULL</td><td>16</td></tr><tr><td>henrik3</td><td>GLS</td><td>7</td></tr><tr><td>henrik3</td><td>Posta</td><td>4</td></tr><tr><td>henrik3</td><td>Személyes átvétel</td><td>5</td></tr><tr><td>henrik3</td><td>NULL</td><td>16</td></tr><tr><td>IBOLYAA</td><td>GLS</td><td>140</td></tr><tr><td>IBOLYAA</td><td>Posta</td><td>125</td></tr><tr><td>IBOLYAA</td><td>Személyes átvétel</td><td>157</td></tr><tr><td>IBOLYAA</td><td>NULL</td><td>422</td></tr><tr><td>ilona3</td><td>GLS</td><td>9</td></tr><tr><td>ilona3</td><td>Posta</td><td>2</td></tr><tr><td>ilona3</td><td>Személyes átvétel</td><td>7</td></tr><tr><td>ilona3</td><td>NULL</td><td>18</td></tr><tr><td>imre</td><td>GLS</td><td>5</td></tr><tr><td>imre</td><td>Posta</td><td>4</td></tr><tr><td>imre</td><td>Személyes átvétel</td><td>6</td></tr><tr><td>imre</td><td>NULL</td><td>15</td></tr><tr><td>imre1</td><td>GLS</td><td>8</td></tr><tr><td>imre1</td><td>Posta</td><td>4</td></tr><tr><td>imre1</td><td>Személyes átvétel</td><td>3</td></tr><tr><td>imre1</td><td>NULL</td><td>15</td></tr><tr><td>istvan</td><td>GLS</td><td>3</td></tr><tr><td>istvan</td><td>Posta</td><td>4</td></tr><tr><td>istvan</td><td>Személyes átvétel</td><td>4</td></tr><tr><td>istvan</td><td>NULL</td><td>11</td></tr><tr><td>istvan1</td><td>GLS</td><td>8</td></tr><tr><td>istvan1</td><td>Posta</td><td>4</td></tr><tr><td>istvan1</td><td>Személyes átvétel</td><td>7</td></tr><tr><td>istvan1</td><td>NULL</td><td>19</td></tr><tr><td>ISTVANV</td><td>GLS</td><td>4</td></tr><tr><td>ISTVANV</td><td>Posta</td><td>9</td></tr><tr><td>ISTVANV</td><td>Személyes átvétel</td><td>8</td></tr><tr><td>ISTVANV</td><td>NULL</td><td>21</td></tr><tr><td>janos3</td><td>GLS</td><td>5</td></tr><tr><td>janos3</td><td>Posta</td><td>2</td></tr><tr><td>janos3</td><td>Személyes átvétel</td><td>6</td></tr><tr><td>janos3</td><td>NULL</td><td>13</td></tr><tr><td>JANOSG</td><td>GLS</td><td>3</td></tr><tr><td>JANOSG</td><td>Posta</td><td>3</td></tr><tr><td>JANOSG</td><td>Személyes átvétel</td><td>4</td></tr><tr><td>JANOSG</td><td>NULL</td><td>10</td></tr><tr><td>JANOSP</td><td>GLS</td><td>7</td></tr><tr><td>JANOSP</td><td>Posta</td><td>7</td></tr><tr><td>JANOSP</td><td>Személyes átvétel</td><td>3</td></tr><tr><td>JANOSP</td><td>NULL</td><td>17</td></tr><tr><td>jozsef</td><td>GLS</td><td>116</td></tr><tr><td>jozsef</td><td>Posta</td><td>132</td></tr><tr><td>jozsef</td><td>Személyes átvétel</td><td>134</td></tr><tr><td>jozsef</td><td>NULL</td><td>382</td></tr><tr><td>jozsef2</td><td>GLS</td><td>7</td></tr><tr><td>jozsef2</td><td>Posta</td><td>2</td></tr><tr><td>jozsef2</td><td>Személyes átvétel</td><td>4</td></tr><tr><td>jozsef2</td><td>NULL</td><td>13</td></tr><tr><td>JOZSEFG</td><td>GLS</td><td>11</td></tr><tr><td>JOZSEFG</td><td>Posta</td><td>1</td></tr><tr><td>JOZSEFG</td><td>Személyes átvétel</td><td>9</td></tr><tr><td>JOZSEFG</td><td>NULL</td><td>21</td></tr><tr><td>JUDITH</td><td>GLS</td><td>170</td></tr><tr><td>JUDITH</td><td>Posta</td><td>130</td></tr><tr><td>JUDITH</td><td>Személyes átvétel</td><td>150</td></tr><tr><td>JUDITH</td><td>NULL</td><td>450</td></tr><tr><td>julia</td><td>GLS</td><td>137</td></tr><tr><td>julia</td><td>Posta</td><td>160</td></tr><tr><td>julia</td><td>Személyes átvétel</td><td>138</td></tr><tr><td>julia</td><td>NULL</td><td>435</td></tr><tr><td>julia4</td><td>GLS</td><td>2</td></tr><tr><td>julia4</td><td>Posta</td><td>4</td></tr><tr><td>julia4</td><td>Személyes átvétel</td><td>8</td></tr><tr><td>julia4</td><td>NULL</td><td>14</td></tr><tr><td>julianna4</td><td>GLS</td><td>8</td></tr><tr><td>julianna4</td><td>Posta</td><td>12</td></tr><tr><td>julianna4</td><td>Személyes átvétel</td><td>7</td></tr><tr><td>julianna4</td><td>NULL</td><td>27</td></tr><tr><td>kata</td><td>GLS</td><td>5</td></tr><tr><td>kata</td><td>Posta</td><td>4</td></tr><tr><td>kata</td><td>Személyes átvétel</td><td>3</td></tr><tr><td>kata</td><td>NULL</td><td>12</td></tr><tr><td>katalin</td><td>GLS</td><td>7</td></tr><tr><td>katalin</td><td>Posta</td><td>7</td></tr><tr><td>katalin</td><td>Személyes átvétel</td><td>5</td></tr><tr><td>katalin</td><td>NULL</td><td>19</td></tr><tr><td>katalin4</td><td>GLS</td><td>7</td></tr><tr><td>katalin4</td><td>Posta</td><td>5</td></tr><tr><td>katalin4</td><td>Személyes átvétel</td><td>11</td></tr><tr><td>katalin4</td><td>NULL</td><td>23</td></tr><tr><td>kati</td><td>GLS</td><td>4</td></tr><tr><td>kati</td><td>Posta</td><td>5</td></tr><tr><td>kati</td><td>Személyes átvétel</td><td>4</td></tr><tr><td>kati</td><td>NULL</td><td>13</td></tr><tr><td>katka</td><td>GLS</td><td>6</td></tr><tr><td>katka</td><td>Posta</td><td>6</td></tr><tr><td>katka</td><td>Személyes átvétel</td><td>10</td></tr><tr><td>katka</td><td>NULL</td><td>22</td></tr><tr><td>klaudia2</td><td>GLS</td><td>3</td></tr><tr><td>klaudia2</td><td>Posta</td><td>9</td></tr><tr><td>klaudia2</td><td>Személyes átvétel</td><td>5</td></tr><tr><td>klaudia2</td><td>NULL</td><td>17</td></tr><tr><td>kornel4</td><td>GLS</td><td>3</td></tr><tr><td>kornel4</td><td>Posta</td><td>1</td></tr><tr><td>kornel4</td><td>Személyes átvétel</td><td>7</td></tr><tr><td>kornel4</td><td>NULL</td><td>11</td></tr><tr><td>kristof4</td><td>GLS</td><td>9</td></tr><tr><td>kristof4</td><td>Posta</td><td>4</td></tr><tr><td>kristof4</td><td>Személyes átvétel</td><td>8</td></tr><tr><td>kristof4</td><td>NULL</td><td>21</td></tr><tr><td>kriszti</td><td>GLS</td><td>3</td></tr><tr><td>kriszti</td><td>Posta</td><td>5</td></tr><tr><td>kriszti</td><td>Személyes átvétel</td><td>5</td></tr><tr><td>kriszti</td><td>NULL</td><td>13</td></tr><tr><td>krisztian4</td><td>GLS</td><td>5</td></tr><tr><td>krisztian4</td><td>Posta</td><td>6</td></tr><tr><td>krisztian4</td><td>Személyes átvétel</td><td>6</td></tr><tr><td>krisztian4</td><td>NULL</td><td>17</td></tr><tr><td>KRISZTIANM</td><td>GLS</td><td>118</td></tr><tr><td>KRISZTIANM</td><td>Posta</td><td>136</td></tr><tr><td>KRISZTIANM</td><td>Személyes átvétel</td><td>130</td></tr><tr><td>KRISZTIANM</td><td>NULL</td><td>384</td></tr><tr><td>krisztina</td><td>GLS</td><td>149</td></tr><tr><td>krisztina</td><td>Posta</td><td>150</td></tr><tr><td>krisztina</td><td>Személyes átvétel</td><td>157</td></tr><tr><td>krisztina</td><td>NULL</td><td>456</td></tr><tr><td>krisztina1</td><td>GLS</td><td>10</td></tr><tr><td>krisztina1</td><td>Posta</td><td>4</td></tr><tr><td>krisztina1</td><td>Személyes átvétel</td><td>8</td></tr><tr><td>krisztina1</td><td>NULL</td><td>22</td></tr><tr><td>KRISZTINAG</td><td>GLS</td><td>6</td></tr><tr><td>KRISZTINAG</td><td>Posta</td><td>6</td></tr><tr><td>KRISZTINAG</td><td>Személyes átvétel</td><td>10</td></tr><tr><td>KRISZTINAG</td><td>NULL</td><td>22</td></tr><tr><td>lajos</td><td>GLS</td><td>5</td></tr><tr><td>lajos</td><td>Posta</td><td>2</td></tr><tr><td>lajos</td><td>Személyes átvétel</td><td>9</td></tr><tr><td>lajos</td><td>NULL</td><td>16</td></tr><tr><td>lala</td><td>GLS</td><td>5</td></tr><tr><td>lala</td><td>Posta</td><td>3</td></tr><tr><td>lala</td><td>Személyes átvétel</td><td>9</td></tr><tr><td>lala</td><td>NULL</td><td>17</td></tr><tr><td>laszlo1</td><td>GLS</td><td>130</td></tr><tr><td>laszlo1</td><td>Posta</td><td>129</td></tr><tr><td>laszlo1</td><td>Személyes átvétel</td><td>135</td></tr><tr><td>laszlo1</td><td>NULL</td><td>394</td></tr><tr><td>laszlo2</td><td>GLS</td><td>12</td></tr><tr><td>laszlo2</td><td>Posta</td><td>6</td></tr><tr><td>laszlo2</td><td>Személyes átvétel</td><td>7</td></tr><tr><td>laszlo2</td><td>NULL</td><td>25</td></tr><tr><td>LASZLOA</td><td>GLS</td><td>156</td></tr><tr><td>LASZLOA</td><td>Posta</td><td>136</td></tr><tr><td>LASZLOA</td><td>Személyes átvétel</td><td>154</td></tr><tr><td>LASZLOA</td><td>NULL</td><td>446</td></tr><tr><td>LASZLON</td><td>GLS</td><td>126</td></tr><tr><td>LASZLON</td><td>Posta</td><td>131</td></tr><tr><td>LASZLON</td><td>Személyes átvétel</td><td>143</td></tr><tr><td>LASZLON</td><td>NULL</td><td>400</td></tr><tr><td>maria1</td><td>GLS</td><td>4</td></tr><tr><td>maria1</td><td>Posta</td><td>5</td></tr><tr><td>maria1</td><td>Személyes átvétel</td><td>1</td></tr><tr><td>maria1</td><td>NULL</td><td>10</td></tr><tr><td>MARKH</td><td>GLS</td><td>128</td></tr><tr><td>MARKH</td><td>Posta</td><td>142</td></tr><tr><td>MARKH</td><td>Személyes átvétel</td><td>142</td></tr><tr><td>MARKH</td><td>NULL</td><td>412</td></tr><tr><td>marton</td><td>GLS</td><td>5</td></tr><tr><td>marton</td><td>Posta</td><td>4</td></tr><tr><td>marton</td><td>Személyes átvétel</td><td>5</td></tr><tr><td>marton</td><td>NULL</td><td>14</td></tr><tr><td>MATEK</td><td>GLS</td><td>6</td></tr><tr><td>MATEK</td><td>Posta</td><td>10</td></tr><tr><td>MATEK</td><td>Személyes átvétel</td><td>9</td></tr><tr><td>MATEK</td><td>NULL</td><td>25</td></tr><tr><td>matyas2</td><td>GLS</td><td>138</td></tr><tr><td>matyas2</td><td>Posta</td><td>131</td></tr><tr><td>matyas2</td><td>Személyes átvétel</td><td>164</td></tr><tr><td>matyas2</td><td>NULL</td><td>433</td></tr><tr><td>MATYASS</td><td>GLS</td><td>4</td></tr><tr><td>MATYASS</td><td>Posta</td><td>5</td></tr><tr><td>MATYASS</td><td>Személyes átvétel</td><td>3</td></tr><tr><td>MATYASS</td><td>NULL</td><td>12</td></tr><tr><td>MIHALYJ</td><td>GLS</td><td>3</td></tr><tr><td>MIHALYJ</td><td>Posta</td><td>4</td></tr><tr><td>MIHALYJ</td><td>Személyes átvétel</td><td>6</td></tr><tr><td>MIHALYJ</td><td>NULL</td><td>13</td></tr><tr><td>miklos2</td><td>GLS</td><td>7</td></tr><tr><td>miklos2</td><td>Posta</td><td>4</td></tr><tr><td>miklos2</td><td>Személyes átvétel</td><td>2</td></tr><tr><td>miklos2</td><td>NULL</td><td>13</td></tr><tr><td>MIKLOSB</td><td>GLS</td><td>6</td></tr><tr><td>MIKLOSB</td><td>Posta</td><td>1</td></tr><tr><td>MIKLOSB</td><td>Személyes átvétel</td><td>8</td></tr><tr><td>MIKLOSB</td><td>NULL</td><td>15</td></tr><tr><td>MONIKAM</td><td>GLS</td><td>133</td></tr><tr><td>MONIKAM</td><td>Posta</td><td>151</td></tr><tr><td>MONIKAM</td><td>Személyes átvétel</td><td>123</td></tr><tr><td>MONIKAM</td><td>NULL</td><td>407</td></tr><tr><td>NANDORF</td><td>GLS</td><td>147</td></tr><tr><td>NANDORF</td><td>Posta</td><td>139</td></tr><tr><td>NANDORF</td><td>Személyes átvétel</td><td>134</td></tr><tr><td>NANDORF</td><td>NULL</td><td>420</td></tr><tr><td>nikolett3</td><td>GLS</td><td>4</td></tr><tr><td>nikolett3</td><td>Posta</td><td>3</td></tr><tr><td>nikolett3</td><td>Személyes átvétel</td><td>10</td></tr><tr><td>nikolett3</td><td>NULL</td><td>17</td></tr><tr><td>nikoletta4</td><td>GLS</td><td>137</td></tr><tr><td>nikoletta4</td><td>Posta</td><td>158</td></tr><tr><td>nikoletta4</td><td>Személyes átvétel</td><td>119</td></tr><tr><td>nikoletta4</td><td>NULL</td><td>414</td></tr><tr><td>NIKOLETTAT</td><td>GLS</td><td>13</td></tr><tr><td>NIKOLETTAT</td><td>Posta</td><td>7</td></tr><tr><td>NIKOLETTAT</td><td>Személyes átvétel</td><td>5</td></tr><tr><td>NIKOLETTAT</td><td>NULL</td><td>25</td></tr><tr><td>norbert2</td><td>GLS</td><td>7</td></tr><tr><td>norbert2</td><td>Posta</td><td>4</td></tr><tr><td>norbert2</td><td>NULL</td><td>11</td></tr><tr><td>norbert4</td><td>GLS</td><td>1</td></tr><tr><td>norbert4</td><td>Posta</td><td>3</td></tr><tr><td>norbert4</td><td>Személyes átvétel</td><td>9</td></tr><tr><td>norbert4</td><td>NULL</td><td>13</td></tr><tr><td>norbert5</td><td>GLS</td><td>1</td></tr><tr><td>norbert5</td><td>Posta</td><td>6</td></tr><tr><td>norbert5</td><td>Személyes átvétel</td><td>9</td></tr><tr><td>norbert5</td><td>NULL</td><td>16</td></tr><tr><td>pal</td><td>GLS</td><td>152</td></tr><tr><td>pal</td><td>Posta</td><td>132</td></tr><tr><td>pal</td><td>Személyes átvétel</td><td>154</td></tr><tr><td>pal</td><td>NULL</td><td>438</td></tr><tr><td>peter1</td><td>GLS</td><td>151</td></tr><tr><td>peter1</td><td>Posta</td><td>135</td></tr><tr><td>peter1</td><td>Személyes átvétel</td><td>126</td></tr><tr><td>peter1</td><td>NULL</td><td>412</td></tr><tr><td>peter2</td><td>GLS</td><td>7</td></tr><tr><td>peter2</td><td>Posta</td><td>4</td></tr><tr><td>peter2</td><td>Személyes átvétel</td><td>7</td></tr><tr><td>peter2</td><td>NULL</td><td>18</td></tr><tr><td>peter3</td><td>GLS</td><td>8</td></tr><tr><td>peter3</td><td>Posta</td><td>7</td></tr><tr><td>peter3</td><td>Személyes átvétel</td><td>10</td></tr><tr><td>peter3</td><td>NULL</td><td>25</td></tr><tr><td>peter4</td><td>GLS</td><td>266</td></tr><tr><td>peter4</td><td>Posta</td><td>293</td></tr><tr><td>peter4</td><td>Személyes átvétel</td><td>293</td></tr><tr><td>peter4</td><td>NULL</td><td>852</td></tr><tr><td>PETERB</td><td>GLS</td><td>2</td></tr><tr><td>PETERB</td><td>Posta</td><td>4</td></tr><tr><td>PETERB</td><td>Személyes átvétel</td><td>9</td></tr><tr><td>PETERB</td><td>NULL</td><td>15</td></tr><tr><td>polla</td><td>GLS</td><td>9</td></tr><tr><td>polla</td><td>Posta</td><td>6</td></tr><tr><td>polla</td><td>Személyes átvétel</td><td>7</td></tr><tr><td>polla</td><td>NULL</td><td>22</td></tr><tr><td>rajmond4</td><td>GLS</td><td>6</td></tr><tr><td>rajmond4</td><td>Posta</td><td>5</td></tr><tr><td>rajmond4</td><td>Személyes átvétel</td><td>6</td></tr><tr><td>rajmond4</td><td>NULL</td><td>17</td></tr><tr><td>reka4</td><td>GLS</td><td>5</td></tr><tr><td>reka4</td><td>Posta</td><td>4</td></tr><tr><td>reka4</td><td>Személyes átvétel</td><td>11</td></tr><tr><td>reka4</td><td>NULL</td><td>20</td></tr><tr><td>RENATAK</td><td>GLS</td><td>135</td></tr><tr><td>RENATAK</td><td>Posta</td><td>140</td></tr><tr><td>RENATAK</td><td>Személyes átvétel</td><td>147</td></tr><tr><td>RENATAK</td><td>NULL</td><td>422</td></tr><tr><td>RENATAS</td><td>GLS</td><td>6</td></tr><tr><td>RENATAS</td><td>Posta</td><td>5</td></tr><tr><td>RENATAS</td><td>Személyes átvétel</td><td>5</td></tr><tr><td>RENATAS</td><td>NULL</td><td>16</td></tr><tr><td>robert2</td><td>GLS</td><td>5</td></tr><tr><td>robert2</td><td>Posta</td><td>1</td></tr><tr><td>robert2</td><td>Személyes átvétel</td><td>7</td></tr><tr><td>robert2</td><td>NULL</td><td>13</td></tr><tr><td>ROBERTI</td><td>GLS</td><td>5</td></tr><tr><td>ROBERTI</td><td>Posta</td><td>3</td></tr><tr><td>ROBERTI</td><td>Személyes átvétel</td><td>5</td></tr><tr><td>ROBERTI</td><td>NULL</td><td>13</td></tr><tr><td>ROBERTP</td><td>GLS</td><td>8</td></tr><tr><td>ROBERTP</td><td>Posta</td><td>8</td></tr><tr><td>ROBERTP</td><td>Személyes átvétel</td><td>10</td></tr><tr><td>ROBERTP</td><td>NULL</td><td>26</td></tr><tr><td>roland</td><td>GLS</td><td>132</td></tr><tr><td>roland</td><td>Posta</td><td>157</td></tr><tr><td>roland</td><td>Személyes átvétel</td><td>125</td></tr><tr><td>roland</td><td>NULL</td><td>414</td></tr><tr><td>roland1</td><td>GLS</td><td>142</td></tr><tr><td>roland1</td><td>Posta</td><td>155</td></tr><tr><td>roland1</td><td>Személyes átvétel</td><td>135</td></tr><tr><td>roland1</td><td>NULL</td><td>432</td></tr><tr><td>roza2</td><td>GLS</td><td>3</td></tr><tr><td>roza2</td><td>Posta</td><td>2</td></tr><tr><td>roza2</td><td>Személyes átvétel</td><td>3</td></tr><tr><td>roza2</td><td>NULL</td><td>8</td></tr><tr><td>sandor</td><td>GLS</td><td>4</td></tr><tr><td>sandor</td><td>Posta</td><td>6</td></tr><tr><td>sandor</td><td>Személyes átvétel</td><td>7</td></tr><tr><td>sandor</td><td>NULL</td><td>17</td></tr><tr><td>sandor3</td><td>GLS</td><td>4</td></tr><tr><td>sandor3</td><td>Posta</td><td>4</td></tr><tr><td>sandor3</td><td>Személyes átvétel</td><td>6</td></tr><tr><td>sandor3</td><td>NULL</td><td>14</td></tr><tr><td>sandor4</td><td>GLS</td><td>4</td></tr><tr><td>sandor4</td><td>Posta</td><td>2</td></tr><tr><td>sandor4</td><td>Személyes átvétel</td><td>5</td></tr><tr><td>sandor4</td><td>NULL</td><td>11</td></tr><tr><td>sara</td><td>GLS</td><td>4</td></tr><tr><td>sara</td><td>Posta</td><td>7</td></tr><tr><td>sara</td><td>Személyes átvétel</td><td>9</td></tr><tr><td>sara</td><td>NULL</td><td>20</td></tr><tr><td>SEBASTIANF</td><td>GLS</td><td>6</td></tr><tr><td>SEBASTIANF</td><td>Posta</td><td>3</td></tr><tr><td>SEBASTIANF</td><td>Személyes átvétel</td><td>6</td></tr><tr><td>SEBASTIANF</td><td>NULL</td><td>15</td></tr><tr><td>sebestyen</td><td>GLS</td><td>4</td></tr><tr><td>sebestyen</td><td>Posta</td><td>6</td></tr><tr><td>sebestyen</td><td>Személyes átvétel</td><td>6</td></tr><tr><td>sebestyen</td><td>NULL</td><td>16</td></tr><tr><td>szabolcs</td><td>GLS</td><td>145</td></tr><tr><td>szabolcs</td><td>Posta</td><td>157</td></tr><tr><td>szabolcs</td><td>Személyes átvétel</td><td>169</td></tr><tr><td>szabolcs</td><td>NULL</td><td>471</td></tr><tr><td>SZABOLCSM</td><td>GLS</td><td>126</td></tr><tr><td>SZABOLCSM</td><td>Posta</td><td>153</td></tr><tr><td>SZABOLCSM</td><td>Személyes átvétel</td><td>129</td></tr><tr><td>SZABOLCSM</td><td>NULL</td><td>408</td></tr><tr><td>SZILARDS</td><td>GLS</td><td>144</td></tr><tr><td>SZILARDS</td><td>Posta</td><td>131</td></tr><tr><td>SZILARDS</td><td>Személyes átvétel</td><td>111</td></tr><tr><td>SZILARDS</td><td>NULL</td><td>386</td></tr><tr><td>szilvia1</td><td>GLS</td><td>156</td></tr><tr><td>szilvia1</td><td>Posta</td><td>151</td></tr><tr><td>szilvia1</td><td>Személyes átvétel</td><td>138</td></tr><tr><td>szilvia1</td><td>NULL</td><td>445</td></tr><tr><td>tamara2</td><td>GLS</td><td>6</td></tr><tr><td>tamara2</td><td>Posta</td><td>4</td></tr><tr><td>tamara2</td><td>Személyes átvétel</td><td>3</td></tr><tr><td>tamara2</td><td>NULL</td><td>13</td></tr><tr><td>tamas</td><td>GLS</td><td>143</td></tr><tr><td>tamas</td><td>Posta</td><td>156</td></tr><tr><td>tamas</td><td>Személyes átvétel</td><td>122</td></tr><tr><td>tamas</td><td>NULL</td><td>421</td></tr><tr><td>TAMASF</td><td>GLS</td><td>159</td></tr><tr><td>TAMASF</td><td>Posta</td><td>145</td></tr><tr><td>TAMASF</td><td>Személyes átvétel</td><td>129</td></tr><tr><td>TAMASF</td><td>NULL</td><td>433</td></tr><tr><td>tibor</td><td>GLS</td><td>115</td></tr><tr><td>tibor</td><td>Posta</td><td>129</td></tr><tr><td>tibor</td><td>Személyes átvétel</td><td>130</td></tr><tr><td>tibor</td><td>NULL</td><td>374</td></tr><tr><td>tibor2</td><td>GLS</td><td>7</td></tr><tr><td>tibor2</td><td>Posta</td><td>7</td></tr><tr><td>tibor2</td><td>Személyes átvétel</td><td>11</td></tr><tr><td>tibor2</td><td>NULL</td><td>25</td></tr><tr><td>tihamer</td><td>GLS</td><td>9</td></tr><tr><td>tihamer</td><td>Posta</td><td>6</td></tr><tr><td>tihamer</td><td>Személyes átvétel</td><td>5</td></tr><tr><td>tihamer</td><td>NULL</td><td>20</td></tr><tr><td>timea</td><td>GLS</td><td>14</td></tr><tr><td>timea</td><td>Posta</td><td>23</td></tr><tr><td>timea</td><td>Személyes átvétel</td><td>18</td></tr><tr><td>timea</td><td>NULL</td><td>55</td></tr><tr><td>timea2</td><td>GLS</td><td>1</td></tr><tr><td>timea2</td><td>Posta</td><td>5</td></tr><tr><td>timea2</td><td>Személyes átvétel</td><td>10</td></tr><tr><td>timea2</td><td>NULL</td><td>16</td></tr><tr><td>tunde</td><td>GLS</td><td>6</td></tr><tr><td>tunde</td><td>Posta</td><td>6</td></tr><tr><td>tunde</td><td>Személyes átvétel</td><td>4</td></tr><tr><td>tunde</td><td>NULL</td><td>16</td></tr><tr><td>valentin</td><td>GLS</td><td>5</td></tr><tr><td>valentin</td><td>Posta</td><td>5</td></tr><tr><td>valentin</td><td>Személyes átvétel</td><td>3</td></tr><tr><td>valentin</td><td>NULL</td><td>13</td></tr><tr><td>veronika4</td><td>GLS</td><td>5</td></tr><tr><td>veronika4</td><td>Posta</td><td>6</td></tr><tr><td>veronika4</td><td>Személyes átvétel</td><td>7</td></tr><tr><td>veronika4</td><td>NULL</td><td>18</td></tr><tr><td>VIKTORIAU</td><td>GLS</td><td>5</td></tr><tr><td>VIKTORIAU</td><td>Posta</td><td>4</td></tr><tr><td>VIKTORIAU</td><td>Személyes átvétel</td><td>5</td></tr><tr><td>VIKTORIAU</td><td>NULL</td><td>14</td></tr><tr><td>VIKTORK</td><td>GLS</td><td>8</td></tr><tr><td>VIKTORK</td><td>Posta</td><td>6</td></tr><tr><td>VIKTORK</td><td>Személyes átvétel</td><td>6</td></tr><tr><td>VIKTORK</td><td>NULL</td><td>20</td></tr><tr><td>vivien3</td><td>GLS</td><td>9</td></tr><tr><td>vivien3</td><td>Posta</td><td>6</td></tr><tr><td>vivien3</td><td>Személyes átvétel</td><td>7</td></tr><tr><td>vivien3</td><td>NULL</td><td>22</td></tr><tr><td>zoltan</td><td>GLS</td><td>5</td></tr><tr><td>zoltan</td><td>Posta</td><td>3</td></tr><tr><td>zoltan</td><td>Személyes átvétel</td><td>7</td></tr><tr><td>zoltan</td><td>NULL</td><td>15</td></tr><tr><td>zoltan4</td><td>GLS</td><td>129</td></tr><tr><td>zoltan4</td><td>Posta</td><td>124</td></tr><tr><td>zoltan4</td><td>Személyes átvétel</td><td>171</td></tr><tr><td>zoltan4</td><td>NULL</td><td>424</td></tr><tr><td>ZOLTANP</td><td>GLS</td><td>6</td></tr><tr><td>ZOLTANP</td><td>Posta</td><td>3</td></tr><tr><td>ZOLTANP</td><td>Személyes átvétel</td><td>4</td></tr><tr><td>ZOLTANP</td><td>NULL</td><td>13</td></tr><tr><td>ZOLTANT</td><td>GLS</td><td>127</td></tr><tr><td>ZOLTANT</td><td>Posta</td><td>107</td></tr><tr><td>ZOLTANT</td><td>Személyes átvétel</td><td>123</td></tr><tr><td>ZOLTANT</td><td>NULL</td><td>357</td></tr><tr><td>zsofi1</td><td>GLS</td><td>7</td></tr><tr><td>zsofi1</td><td>Posta</td><td>6</td></tr><tr><td>zsofi1</td><td>Személyes átvétel</td><td>6</td></tr><tr><td>zsofi1</td><td>NULL</td><td>19</td></tr><tr><td>zsolt1</td><td>GLS</td><td>11</td></tr><tr><td>zsolt1</td><td>Posta</td><td>6</td></tr><tr><td>zsolt1</td><td>Személyes átvétel</td><td>3</td></tr><tr><td>zsolt1</td><td>NULL</td><td>20</td></tr><tr><td>ZSOLTJ</td><td>GLS</td><td>1</td></tr><tr><td>ZSOLTJ</td><td>Posta</td><td>8</td></tr><tr><td>ZSOLTJ</td><td>Személyes átvétel</td><td>9</td></tr><tr><td>ZSOLTJ</td><td>NULL</td><td>18</td></tr><tr><td>zsuzsa</td><td>GLS</td><td>8</td></tr><tr><td>zsuzsa</td><td>Posta</td><td>5</td></tr><tr><td>zsuzsa</td><td>Személyes átvétel</td><td>3</td></tr><tr><td>zsuzsa</td><td>NULL</td><td>16</td></tr><tr><td>zsuzsa3</td><td>GLS</td><td>5</td></tr><tr><td>zsuzsa3</td><td>Posta</td><td>5</td></tr><tr><td>zsuzsa3</td><td>Személyes átvétel</td><td>6</td></tr><tr><td>zsuzsa3</td><td>NULL</td><td>16</td></tr><tr><td>zsuzsanna</td><td>GLS</td><td>7</td></tr><tr><td>zsuzsanna</td><td>Posta</td><td>5</td></tr><tr><td>zsuzsanna</td><td>Személyes átvétel</td><td>3</td></tr><tr><td>zsuzsanna</td><td>NULL</td><td>15</td></tr><tr><td>ZSUZSAV</td><td>GLS</td><td>139</td></tr><tr><td>ZSUZSAV</td><td>Posta</td><td>139</td></tr><tr><td>ZSUZSAV</td><td>Személyes átvétel</td><td>142</td></tr><tr><td>ZSUZSAV</td><td>NULL</td><td>420</td></tr><tr><td>NULL</td><td>NULL</td><td>28085</td></tr></table>"
                    },
                    "metadata": {}
                }
            ],
            "execution_count": 39
        },
        {
            "cell_type": "markdown",
            "source": [
                "7\\. Készítsünk listát a termékek számáról a következő csoportosítási\n",
                "\n",
                " szempontok szerint: kategória azonosító, raktárkód, raktárkód+mennyiségi \n",
                "\n",
                " egység! A listát szűrjük azokra a csoportokra, ahol a termékek száma\n",
                "\n",
                " legalább 6!"
            ],
            "metadata": {
                "azdata_cell_guid": "edc0f472-826f-46e2-9b5f-1b7b5776e700"
            },
            "attachments": {}
        },
        {
            "cell_type": "code",
            "source": [
                "-- GROUPING SETS\r\n",
                "SELECT KAT_ID,\r\n",
                "        RAKTAR_KOD,\r\n",
                "        MEGYS,\r\n",
                "        COUNT(*) as 'db'\r\n",
                "FROM Termek\r\n",
                "GROUP BY GROUPING SETS(KAT_ID, RAKTAR_KOD, (RAKTAR_KOD, MEGYS))\r\n",
                "HAVING COUNT(*) >= 6"
            ],
            "metadata": {
                "azdata_cell_guid": "547468b5-4077-48ca-92ea-363e9d27b48d",
                "language": "sql"
            },
            "outputs": [
                {
                    "output_type": "display_data",
                    "data": {
                        "text/html": "(49 rows affected)"
                    },
                    "metadata": {}
                },
                {
                    "output_type": "display_data",
                    "data": {
                        "text/html": "Total execution time: 00:00:00.054"
                    },
                    "metadata": {}
                },
                {
                    "output_type": "execute_result",
                    "execution_count": 41,
                    "data": {
                        "application/vnd.dataresource+json": {
                            "schema": {
                                "fields": [
                                    {
                                        "name": "KAT_ID"
                                    },
                                    {
                                        "name": "RAKTAR_KOD"
                                    },
                                    {
                                        "name": "MEGYS"
                                    },
                                    {
                                        "name": "db"
                                    }
                                ]
                            },
                            "data": [
                                {
                                    "0": "NULL",
                                    "1": "1",
                                    "2": "db",
                                    "3": "11"
                                },
                                {
                                    "0": "NULL",
                                    "1": "1",
                                    "2": "NULL",
                                    "3": "11"
                                },
                                {
                                    "0": "NULL",
                                    "1": "3",
                                    "2": "db",
                                    "3": "14"
                                },
                                {
                                    "0": "NULL",
                                    "1": "3",
                                    "2": "NULL",
                                    "3": "14"
                                },
                                {
                                    "0": "NULL",
                                    "1": "5",
                                    "2": "csomag",
                                    "3": "7"
                                },
                                {
                                    "0": "NULL",
                                    "1": "5",
                                    "2": "db",
                                    "3": "72"
                                },
                                {
                                    "0": "NULL",
                                    "1": "5",
                                    "2": "NULL",
                                    "3": "86"
                                },
                                {
                                    "0": "NULL",
                                    "1": "6",
                                    "2": "csomag",
                                    "3": "9"
                                },
                                {
                                    "0": "NULL",
                                    "1": "6",
                                    "2": "db",
                                    "3": "94"
                                },
                                {
                                    "0": "NULL",
                                    "1": "6",
                                    "2": "NULL",
                                    "3": "106"
                                },
                                {
                                    "0": "NULL",
                                    "1": "7",
                                    "2": "csomag",
                                    "3": "9"
                                },
                                {
                                    "0": "NULL",
                                    "1": "7",
                                    "2": "db",
                                    "3": "88"
                                },
                                {
                                    "0": "NULL",
                                    "1": "7",
                                    "2": "NULL",
                                    "3": "100"
                                },
                                {
                                    "0": "NULL",
                                    "1": "8",
                                    "2": "csomag",
                                    "3": "8"
                                },
                                {
                                    "0": "NULL",
                                    "1": "8",
                                    "2": "db",
                                    "3": "109"
                                },
                                {
                                    "0": "NULL",
                                    "1": "8",
                                    "2": "ív",
                                    "3": "6"
                                },
                                {
                                    "0": "NULL",
                                    "1": "8",
                                    "2": "NULL",
                                    "3": "123"
                                },
                                {
                                    "0": "NULL",
                                    "1": "9",
                                    "2": "csomag",
                                    "3": "11"
                                },
                                {
                                    "0": "NULL",
                                    "1": "9",
                                    "2": "db",
                                    "3": "86"
                                },
                                {
                                    "0": "NULL",
                                    "1": "9",
                                    "2": "NULL",
                                    "3": "102"
                                },
                                {
                                    "0": "4",
                                    "1": "NULL",
                                    "2": "NULL",
                                    "3": "15"
                                },
                                {
                                    "0": "6",
                                    "1": "NULL",
                                    "2": "NULL",
                                    "3": "20"
                                },
                                {
                                    "0": "16",
                                    "1": "NULL",
                                    "2": "NULL",
                                    "3": "7"
                                },
                                {
                                    "0": "19",
                                    "1": "NULL",
                                    "2": "NULL",
                                    "3": "19"
                                },
                                {
                                    "0": "24",
                                    "1": "NULL",
                                    "2": "NULL",
                                    "3": "7"
                                },
                                {
                                    "0": "30",
                                    "1": "NULL",
                                    "2": "NULL",
                                    "3": "7"
                                },
                                {
                                    "0": "35",
                                    "1": "NULL",
                                    "2": "NULL",
                                    "3": "7"
                                },
                                {
                                    "0": "41",
                                    "1": "NULL",
                                    "2": "NULL",
                                    "3": "13"
                                },
                                {
                                    "0": "45",
                                    "1": "NULL",
                                    "2": "NULL",
                                    "3": "11"
                                },
                                {
                                    "0": "46",
                                    "1": "NULL",
                                    "2": "NULL",
                                    "3": "7"
                                },
                                {
                                    "0": "52",
                                    "1": "NULL",
                                    "2": "NULL",
                                    "3": "26"
                                },
                                {
                                    "0": "54",
                                    "1": "NULL",
                                    "2": "NULL",
                                    "3": "6"
                                },
                                {
                                    "0": "66",
                                    "1": "NULL",
                                    "2": "NULL",
                                    "3": "7"
                                },
                                {
                                    "0": "78",
                                    "1": "NULL",
                                    "2": "NULL",
                                    "3": "24"
                                },
                                {
                                    "0": "83",
                                    "1": "NULL",
                                    "2": "NULL",
                                    "3": "6"
                                },
                                {
                                    "0": "85",
                                    "1": "NULL",
                                    "2": "NULL",
                                    "3": "16"
                                },
                                {
                                    "0": "91",
                                    "1": "NULL",
                                    "2": "NULL",
                                    "3": "7"
                                },
                                {
                                    "0": "93",
                                    "1": "NULL",
                                    "2": "NULL",
                                    "3": "7"
                                },
                                {
                                    "0": "96",
                                    "1": "NULL",
                                    "2": "NULL",
                                    "3": "9"
                                },
                                {
                                    "0": "97",
                                    "1": "NULL",
                                    "2": "NULL",
                                    "3": "10"
                                },
                                {
                                    "0": "100",
                                    "1": "NULL",
                                    "2": "NULL",
                                    "3": "9"
                                },
                                {
                                    "0": "118",
                                    "1": "NULL",
                                    "2": "NULL",
                                    "3": "9"
                                },
                                {
                                    "0": "122",
                                    "1": "NULL",
                                    "2": "NULL",
                                    "3": "7"
                                },
                                {
                                    "0": "124",
                                    "1": "NULL",
                                    "2": "NULL",
                                    "3": "10"
                                },
                                {
                                    "0": "133",
                                    "1": "NULL",
                                    "2": "NULL",
                                    "3": "6"
                                },
                                {
                                    "0": "145",
                                    "1": "NULL",
                                    "2": "NULL",
                                    "3": "18"
                                },
                                {
                                    "0": "146",
                                    "1": "NULL",
                                    "2": "NULL",
                                    "3": "7"
                                },
                                {
                                    "0": "149",
                                    "1": "NULL",
                                    "2": "NULL",
                                    "3": "6"
                                },
                                {
                                    "0": "152",
                                    "1": "NULL",
                                    "2": "NULL",
                                    "3": "6"
                                }
                            ]
                        },
                        "text/html": "<table><tr><th>KAT_ID</th><th>RAKTAR_KOD</th><th>MEGYS</th><th>db</th></tr><tr><td>NULL</td><td>1</td><td>db</td><td>11</td></tr><tr><td>NULL</td><td>1</td><td>NULL</td><td>11</td></tr><tr><td>NULL</td><td>3</td><td>db</td><td>14</td></tr><tr><td>NULL</td><td>3</td><td>NULL</td><td>14</td></tr><tr><td>NULL</td><td>5</td><td>csomag</td><td>7</td></tr><tr><td>NULL</td><td>5</td><td>db</td><td>72</td></tr><tr><td>NULL</td><td>5</td><td>NULL</td><td>86</td></tr><tr><td>NULL</td><td>6</td><td>csomag</td><td>9</td></tr><tr><td>NULL</td><td>6</td><td>db</td><td>94</td></tr><tr><td>NULL</td><td>6</td><td>NULL</td><td>106</td></tr><tr><td>NULL</td><td>7</td><td>csomag</td><td>9</td></tr><tr><td>NULL</td><td>7</td><td>db</td><td>88</td></tr><tr><td>NULL</td><td>7</td><td>NULL</td><td>100</td></tr><tr><td>NULL</td><td>8</td><td>csomag</td><td>8</td></tr><tr><td>NULL</td><td>8</td><td>db</td><td>109</td></tr><tr><td>NULL</td><td>8</td><td>ív</td><td>6</td></tr><tr><td>NULL</td><td>8</td><td>NULL</td><td>123</td></tr><tr><td>NULL</td><td>9</td><td>csomag</td><td>11</td></tr><tr><td>NULL</td><td>9</td><td>db</td><td>86</td></tr><tr><td>NULL</td><td>9</td><td>NULL</td><td>102</td></tr><tr><td>4</td><td>NULL</td><td>NULL</td><td>15</td></tr><tr><td>6</td><td>NULL</td><td>NULL</td><td>20</td></tr><tr><td>16</td><td>NULL</td><td>NULL</td><td>7</td></tr><tr><td>19</td><td>NULL</td><td>NULL</td><td>19</td></tr><tr><td>24</td><td>NULL</td><td>NULL</td><td>7</td></tr><tr><td>30</td><td>NULL</td><td>NULL</td><td>7</td></tr><tr><td>35</td><td>NULL</td><td>NULL</td><td>7</td></tr><tr><td>41</td><td>NULL</td><td>NULL</td><td>13</td></tr><tr><td>45</td><td>NULL</td><td>NULL</td><td>11</td></tr><tr><td>46</td><td>NULL</td><td>NULL</td><td>7</td></tr><tr><td>52</td><td>NULL</td><td>NULL</td><td>26</td></tr><tr><td>54</td><td>NULL</td><td>NULL</td><td>6</td></tr><tr><td>66</td><td>NULL</td><td>NULL</td><td>7</td></tr><tr><td>78</td><td>NULL</td><td>NULL</td><td>24</td></tr><tr><td>83</td><td>NULL</td><td>NULL</td><td>6</td></tr><tr><td>85</td><td>NULL</td><td>NULL</td><td>16</td></tr><tr><td>91</td><td>NULL</td><td>NULL</td><td>7</td></tr><tr><td>93</td><td>NULL</td><td>NULL</td><td>7</td></tr><tr><td>96</td><td>NULL</td><td>NULL</td><td>9</td></tr><tr><td>97</td><td>NULL</td><td>NULL</td><td>10</td></tr><tr><td>100</td><td>NULL</td><td>NULL</td><td>9</td></tr><tr><td>118</td><td>NULL</td><td>NULL</td><td>9</td></tr><tr><td>122</td><td>NULL</td><td>NULL</td><td>7</td></tr><tr><td>124</td><td>NULL</td><td>NULL</td><td>10</td></tr><tr><td>133</td><td>NULL</td><td>NULL</td><td>6</td></tr><tr><td>145</td><td>NULL</td><td>NULL</td><td>18</td></tr><tr><td>146</td><td>NULL</td><td>NULL</td><td>7</td></tr><tr><td>149</td><td>NULL</td><td>NULL</td><td>6</td></tr><tr><td>152</td><td>NULL</td><td>NULL</td><td>6</td></tr></table>"
                    },
                    "metadata": {}
                }
            ],
            "execution_count": 41
        },
        {
            "cell_type": "markdown",
            "source": [
                "8\\. Készítsünk listát az egyes termékkategóriákban lévő termékek számáról!\n",
                "\n",
                " Elég megjeleníteni a kategóriák azonosítóit és a darabszámokat!\n",
                "\n",
                " A lista megfelelően jelölve tartalmazza a végösszeget is!\n",
                "\n",
                " Az oszlopokat nevezzük el értelemszerűen! A listát rendezzük a darabszám\n",
                "\n",
                " szerint növekvő sorrendbe!"
            ],
            "metadata": {
                "azdata_cell_guid": "e6fa5331-6bce-4cba-a4f8-4fb4295e022f"
            },
            "attachments": {}
        },
        {
            "cell_type": "code",
            "source": [
                "-- IIF\r\n",
                "SELECT IIF(GROUPING_ID(KAT_ID) = 1, 'Összesen', CAST(KAT_ID AS nvarchar(5))),\r\n",
                "        COUNT(*)\r\n",
                "FROM Termek\r\n",
                "GROUP BY ROLLUP(KAT_ID)\r\n",
                "ORDER BY COUNT(*) ASC"
            ],
            "metadata": {
                "azdata_cell_guid": "0fef7eba-e018-4f2c-883a-6fcceca146b3",
                "language": "sql"
            },
            "outputs": [
                {
                    "output_type": "display_data",
                    "data": {
                        "text/html": "(144 rows affected)"
                    },
                    "metadata": {}
                },
                {
                    "output_type": "display_data",
                    "data": {
                        "text/html": "Total execution time: 00:00:00.056"
                    },
                    "metadata": {}
                },
                {
                    "output_type": "execute_result",
                    "execution_count": 63,
                    "data": {
                        "application/vnd.dataresource+json": {
                            "schema": {
                                "fields": [
                                    {
                                        "name": "(No column name)"
                                    },
                                    {
                                        "name": "(No column name)"
                                    }
                                ]
                            },
                            "data": [
                                {
                                    "0": "10",
                                    "1": "1"
                                },
                                {
                                    "0": "11",
                                    "1": "1"
                                },
                                {
                                    "0": "12",
                                    "1": "1"
                                },
                                {
                                    "0": "15",
                                    "1": "1"
                                },
                                {
                                    "0": "17",
                                    "1": "1"
                                },
                                {
                                    "0": "26",
                                    "1": "1"
                                },
                                {
                                    "0": "29",
                                    "1": "1"
                                },
                                {
                                    "0": "31",
                                    "1": "1"
                                },
                                {
                                    "0": "33",
                                    "1": "1"
                                },
                                {
                                    "0": "34",
                                    "1": "1"
                                },
                                {
                                    "0": "37",
                                    "1": "1"
                                },
                                {
                                    "0": "38",
                                    "1": "1"
                                },
                                {
                                    "0": "40",
                                    "1": "1"
                                },
                                {
                                    "0": "42",
                                    "1": "1"
                                },
                                {
                                    "0": "44",
                                    "1": "1"
                                },
                                {
                                    "0": "50",
                                    "1": "1"
                                },
                                {
                                    "0": "53",
                                    "1": "1"
                                },
                                {
                                    "0": "61",
                                    "1": "1"
                                },
                                {
                                    "0": "74",
                                    "1": "1"
                                },
                                {
                                    "0": "80",
                                    "1": "1"
                                },
                                {
                                    "0": "82",
                                    "1": "1"
                                },
                                {
                                    "0": "84",
                                    "1": "1"
                                },
                                {
                                    "0": "86",
                                    "1": "1"
                                },
                                {
                                    "0": "99",
                                    "1": "1"
                                },
                                {
                                    "0": "101",
                                    "1": "1"
                                },
                                {
                                    "0": "103",
                                    "1": "1"
                                },
                                {
                                    "0": "105",
                                    "1": "1"
                                },
                                {
                                    "0": "107",
                                    "1": "1"
                                },
                                {
                                    "0": "108",
                                    "1": "1"
                                },
                                {
                                    "0": "109",
                                    "1": "1"
                                },
                                {
                                    "0": "114",
                                    "1": "1"
                                },
                                {
                                    "0": "115",
                                    "1": "1"
                                },
                                {
                                    "0": "126",
                                    "1": "1"
                                },
                                {
                                    "0": "130",
                                    "1": "1"
                                },
                                {
                                    "0": "131",
                                    "1": "1"
                                },
                                {
                                    "0": "132",
                                    "1": "1"
                                },
                                {
                                    "0": "135",
                                    "1": "1"
                                },
                                {
                                    "0": "139",
                                    "1": "1"
                                },
                                {
                                    "0": "140",
                                    "1": "1"
                                },
                                {
                                    "0": "142",
                                    "1": "1"
                                },
                                {
                                    "0": "147",
                                    "1": "1"
                                },
                                {
                                    "0": "148",
                                    "1": "1"
                                },
                                {
                                    "0": "153",
                                    "1": "1"
                                },
                                {
                                    "0": "155",
                                    "1": "1"
                                },
                                {
                                    "0": "150",
                                    "1": "2"
                                },
                                {
                                    "0": "144",
                                    "1": "2"
                                },
                                {
                                    "0": "141",
                                    "1": "2"
                                },
                                {
                                    "0": "136",
                                    "1": "2"
                                },
                                {
                                    "0": "123",
                                    "1": "2"
                                },
                                {
                                    "0": "134",
                                    "1": "2"
                                },
                                {
                                    "0": "127",
                                    "1": "2"
                                },
                                {
                                    "0": "128",
                                    "1": "2"
                                },
                                {
                                    "0": "129",
                                    "1": "2"
                                },
                                {
                                    "0": "116",
                                    "1": "2"
                                },
                                {
                                    "0": "117",
                                    "1": "2"
                                },
                                {
                                    "0": "112",
                                    "1": "2"
                                },
                                {
                                    "0": "121",
                                    "1": "2"
                                },
                                {
                                    "0": "110",
                                    "1": "2"
                                },
                                {
                                    "0": "104",
                                    "1": "2"
                                },
                                {
                                    "0": "94",
                                    "1": "2"
                                },
                                {
                                    "0": "95",
                                    "1": "2"
                                },
                                {
                                    "0": "88",
                                    "1": "2"
                                },
                                {
                                    "0": "90",
                                    "1": "2"
                                },
                                {
                                    "0": "92",
                                    "1": "2"
                                },
                                {
                                    "0": "71",
                                    "1": "2"
                                },
                                {
                                    "0": "72",
                                    "1": "2"
                                },
                                {
                                    "0": "73",
                                    "1": "2"
                                },
                                {
                                    "0": "75",
                                    "1": "2"
                                },
                                {
                                    "0": "62",
                                    "1": "2"
                                },
                                {
                                    "0": "55",
                                    "1": "2"
                                },
                                {
                                    "0": "65",
                                    "1": "2"
                                },
                                {
                                    "0": "67",
                                    "1": "2"
                                },
                                {
                                    "0": "68",
                                    "1": "2"
                                },
                                {
                                    "0": "57",
                                    "1": "2"
                                },
                                {
                                    "0": "48",
                                    "1": "2"
                                },
                                {
                                    "0": "49",
                                    "1": "2"
                                },
                                {
                                    "0": "39",
                                    "1": "2"
                                },
                                {
                                    "0": "22",
                                    "1": "2"
                                },
                                {
                                    "0": "18",
                                    "1": "2"
                                },
                                {
                                    "0": "9",
                                    "1": "2"
                                },
                                {
                                    "0": "13",
                                    "1": "2"
                                },
                                {
                                    "0": "5",
                                    "1": "3"
                                },
                                {
                                    "0": "7",
                                    "1": "3"
                                },
                                {
                                    "0": "8",
                                    "1": "3"
                                },
                                {
                                    "0": "20",
                                    "1": "3"
                                },
                                {
                                    "0": "27",
                                    "1": "3"
                                },
                                {
                                    "0": "32",
                                    "1": "3"
                                },
                                {
                                    "0": "43",
                                    "1": "3"
                                },
                                {
                                    "0": "58",
                                    "1": "3"
                                },
                                {
                                    "0": "51",
                                    "1": "3"
                                },
                                {
                                    "0": "70",
                                    "1": "3"
                                },
                                {
                                    "0": "89",
                                    "1": "3"
                                },
                                {
                                    "0": "111",
                                    "1": "3"
                                },
                                {
                                    "0": "119",
                                    "1": "3"
                                },
                                {
                                    "0": "137",
                                    "1": "3"
                                },
                                {
                                    "0": "143",
                                    "1": "3"
                                },
                                {
                                    "0": "151",
                                    "1": "4"
                                },
                                {
                                    "0": "154",
                                    "1": "4"
                                },
                                {
                                    "0": "125",
                                    "1": "4"
                                },
                                {
                                    "0": "79",
                                    "1": "4"
                                },
                                {
                                    "0": "98",
                                    "1": "4"
                                },
                                {
                                    "0": "56",
                                    "1": "4"
                                },
                                {
                                    "0": "64",
                                    "1": "4"
                                },
                                {
                                    "0": "59",
                                    "1": "4"
                                },
                                {
                                    "0": "47",
                                    "1": "4"
                                },
                                {
                                    "0": "25",
                                    "1": "4"
                                },
                                {
                                    "0": "14",
                                    "1": "4"
                                },
                                {
                                    "0": "21",
                                    "1": "5"
                                },
                                {
                                    "0": "36",
                                    "1": "5"
                                },
                                {
                                    "0": "28",
                                    "1": "5"
                                },
                                {
                                    "0": "60",
                                    "1": "5"
                                },
                                {
                                    "0": "76",
                                    "1": "5"
                                },
                                {
                                    "0": "106",
                                    "1": "5"
                                },
                                {
                                    "0": "138",
                                    "1": "5"
                                },
                                {
                                    "0": "133",
                                    "1": "6"
                                },
                                {
                                    "0": "152",
                                    "1": "6"
                                },
                                {
                                    "0": "149",
                                    "1": "6"
                                },
                                {
                                    "0": "83",
                                    "1": "6"
                                },
                                {
                                    "0": "54",
                                    "1": "6"
                                },
                                {
                                    "0": "46",
                                    "1": "7"
                                },
                                {
                                    "0": "66",
                                    "1": "7"
                                },
                                {
                                    "0": "24",
                                    "1": "7"
                                },
                                {
                                    "0": "30",
                                    "1": "7"
                                },
                                {
                                    "0": "35",
                                    "1": "7"
                                },
                                {
                                    "0": "16",
                                    "1": "7"
                                },
                                {
                                    "0": "146",
                                    "1": "7"
                                },
                                {
                                    "0": "122",
                                    "1": "7"
                                },
                                {
                                    "0": "93",
                                    "1": "7"
                                },
                                {
                                    "0": "91",
                                    "1": "7"
                                },
                                {
                                    "0": "100",
                                    "1": "9"
                                },
                                {
                                    "0": "96",
                                    "1": "9"
                                },
                                {
                                    "0": "118",
                                    "1": "9"
                                },
                                {
                                    "0": "97",
                                    "1": "10"
                                },
                                {
                                    "0": "124",
                                    "1": "10"
                                },
                                {
                                    "0": "45",
                                    "1": "11"
                                },
                                {
                                    "0": "41",
                                    "1": "13"
                                },
                                {
                                    "0": "4",
                                    "1": "15"
                                },
                                {
                                    "0": "85",
                                    "1": "16"
                                },
                                {
                                    "0": "145",
                                    "1": "18"
                                },
                                {
                                    "0": "19",
                                    "1": "19"
                                },
                                {
                                    "0": "6",
                                    "1": "20"
                                },
                                {
                                    "0": "78",
                                    "1": "24"
                                },
                                {
                                    "0": "52",
                                    "1": "26"
                                },
                                {
                                    "0": "Összesen",
                                    "1": "551"
                                }
                            ]
                        },
                        "text/html": "<table><tr><th>(No column name)</th><th>(No column name)</th></tr><tr><td>10</td><td>1</td></tr><tr><td>11</td><td>1</td></tr><tr><td>12</td><td>1</td></tr><tr><td>15</td><td>1</td></tr><tr><td>17</td><td>1</td></tr><tr><td>26</td><td>1</td></tr><tr><td>29</td><td>1</td></tr><tr><td>31</td><td>1</td></tr><tr><td>33</td><td>1</td></tr><tr><td>34</td><td>1</td></tr><tr><td>37</td><td>1</td></tr><tr><td>38</td><td>1</td></tr><tr><td>40</td><td>1</td></tr><tr><td>42</td><td>1</td></tr><tr><td>44</td><td>1</td></tr><tr><td>50</td><td>1</td></tr><tr><td>53</td><td>1</td></tr><tr><td>61</td><td>1</td></tr><tr><td>74</td><td>1</td></tr><tr><td>80</td><td>1</td></tr><tr><td>82</td><td>1</td></tr><tr><td>84</td><td>1</td></tr><tr><td>86</td><td>1</td></tr><tr><td>99</td><td>1</td></tr><tr><td>101</td><td>1</td></tr><tr><td>103</td><td>1</td></tr><tr><td>105</td><td>1</td></tr><tr><td>107</td><td>1</td></tr><tr><td>108</td><td>1</td></tr><tr><td>109</td><td>1</td></tr><tr><td>114</td><td>1</td></tr><tr><td>115</td><td>1</td></tr><tr><td>126</td><td>1</td></tr><tr><td>130</td><td>1</td></tr><tr><td>131</td><td>1</td></tr><tr><td>132</td><td>1</td></tr><tr><td>135</td><td>1</td></tr><tr><td>139</td><td>1</td></tr><tr><td>140</td><td>1</td></tr><tr><td>142</td><td>1</td></tr><tr><td>147</td><td>1</td></tr><tr><td>148</td><td>1</td></tr><tr><td>153</td><td>1</td></tr><tr><td>155</td><td>1</td></tr><tr><td>150</td><td>2</td></tr><tr><td>144</td><td>2</td></tr><tr><td>141</td><td>2</td></tr><tr><td>136</td><td>2</td></tr><tr><td>123</td><td>2</td></tr><tr><td>134</td><td>2</td></tr><tr><td>127</td><td>2</td></tr><tr><td>128</td><td>2</td></tr><tr><td>129</td><td>2</td></tr><tr><td>116</td><td>2</td></tr><tr><td>117</td><td>2</td></tr><tr><td>112</td><td>2</td></tr><tr><td>121</td><td>2</td></tr><tr><td>110</td><td>2</td></tr><tr><td>104</td><td>2</td></tr><tr><td>94</td><td>2</td></tr><tr><td>95</td><td>2</td></tr><tr><td>88</td><td>2</td></tr><tr><td>90</td><td>2</td></tr><tr><td>92</td><td>2</td></tr><tr><td>71</td><td>2</td></tr><tr><td>72</td><td>2</td></tr><tr><td>73</td><td>2</td></tr><tr><td>75</td><td>2</td></tr><tr><td>62</td><td>2</td></tr><tr><td>55</td><td>2</td></tr><tr><td>65</td><td>2</td></tr><tr><td>67</td><td>2</td></tr><tr><td>68</td><td>2</td></tr><tr><td>57</td><td>2</td></tr><tr><td>48</td><td>2</td></tr><tr><td>49</td><td>2</td></tr><tr><td>39</td><td>2</td></tr><tr><td>22</td><td>2</td></tr><tr><td>18</td><td>2</td></tr><tr><td>9</td><td>2</td></tr><tr><td>13</td><td>2</td></tr><tr><td>5</td><td>3</td></tr><tr><td>7</td><td>3</td></tr><tr><td>8</td><td>3</td></tr><tr><td>20</td><td>3</td></tr><tr><td>27</td><td>3</td></tr><tr><td>32</td><td>3</td></tr><tr><td>43</td><td>3</td></tr><tr><td>58</td><td>3</td></tr><tr><td>51</td><td>3</td></tr><tr><td>70</td><td>3</td></tr><tr><td>89</td><td>3</td></tr><tr><td>111</td><td>3</td></tr><tr><td>119</td><td>3</td></tr><tr><td>137</td><td>3</td></tr><tr><td>143</td><td>3</td></tr><tr><td>151</td><td>4</td></tr><tr><td>154</td><td>4</td></tr><tr><td>125</td><td>4</td></tr><tr><td>79</td><td>4</td></tr><tr><td>98</td><td>4</td></tr><tr><td>56</td><td>4</td></tr><tr><td>64</td><td>4</td></tr><tr><td>59</td><td>4</td></tr><tr><td>47</td><td>4</td></tr><tr><td>25</td><td>4</td></tr><tr><td>14</td><td>4</td></tr><tr><td>21</td><td>5</td></tr><tr><td>36</td><td>5</td></tr><tr><td>28</td><td>5</td></tr><tr><td>60</td><td>5</td></tr><tr><td>76</td><td>5</td></tr><tr><td>106</td><td>5</td></tr><tr><td>138</td><td>5</td></tr><tr><td>133</td><td>6</td></tr><tr><td>152</td><td>6</td></tr><tr><td>149</td><td>6</td></tr><tr><td>83</td><td>6</td></tr><tr><td>54</td><td>6</td></tr><tr><td>46</td><td>7</td></tr><tr><td>66</td><td>7</td></tr><tr><td>24</td><td>7</td></tr><tr><td>30</td><td>7</td></tr><tr><td>35</td><td>7</td></tr><tr><td>16</td><td>7</td></tr><tr><td>146</td><td>7</td></tr><tr><td>122</td><td>7</td></tr><tr><td>93</td><td>7</td></tr><tr><td>91</td><td>7</td></tr><tr><td>100</td><td>9</td></tr><tr><td>96</td><td>9</td></tr><tr><td>118</td><td>9</td></tr><tr><td>97</td><td>10</td></tr><tr><td>124</td><td>10</td></tr><tr><td>45</td><td>11</td></tr><tr><td>41</td><td>13</td></tr><tr><td>4</td><td>15</td></tr><tr><td>85</td><td>16</td></tr><tr><td>145</td><td>18</td></tr><tr><td>19</td><td>19</td></tr><tr><td>6</td><td>20</td></tr><tr><td>78</td><td>24</td></tr><tr><td>52</td><td>26</td></tr><tr><td>Összesen</td><td>551</td></tr></table>"
                    },
                    "metadata": {}
                }
            ],
            "execution_count": 63
        },
        {
            "cell_type": "markdown",
            "source": [
                "9\\. Készítsünk listát az ügyfelek számáról születési év szerint, azon belül\n",
                "\n",
                " nem szerinti bontásban! A lista megfelelően jelölve tartalmazza a \n",
                "\n",
                " részösszegeket és a végösszeget is! Az oszlopoknak adjunk nevet értelemszerűen!"
            ],
            "metadata": {
                "azdata_cell_guid": "3b8ab22f-b343-4f26-a1ec-7dc3f6daf8ca"
            },
            "attachments": {}
        },
        {
            "cell_type": "code",
            "source": [
                ""
            ],
            "metadata": {
                "azdata_cell_guid": "49479cac-6de7-4303-acc1-f689fb69aac9",
                "language": "sql"
            },
            "outputs": [],
            "execution_count": null
        },
        {
            "cell_type": "markdown",
            "source": [
                "10\\. Készítsünk listát a termékek számáról a felvitel hónapja, azon belül napja\n",
                "\n",
                "szerint csoportosítva. A lista csak a részösszegeket és a végösszeget\n",
                "\n",
                "tartalmazza! Az oszlopoknak adjunk megfelelő nevet!\n",
                "\n",
                "Ötlet: HAVING + GROUPING\\_ID fv együttes használata"
            ],
            "metadata": {
                "azdata_cell_guid": "ba612486-ab4e-4ba3-9ca3-1404083dde29"
            },
            "attachments": {}
        },
        {
            "cell_type": "code",
            "source": [
                "SELECT MONTH(FELVITEL),\r\n",
                "        DAY(FELVITEL),\r\n",
                "        COUNT(*)\r\n",
                "        -- GROUPING_ID(MONTH(FELVITEL), DAY(FELVITEL))\r\n",
                "FROM Termek\r\n",
                "GROUP BY ROLLUP(MONTH(FELVITEL), DAY(FELVITEL))\r\n",
                "-- csak a részösszegek és a végösszeg jelenjen meg\r\n",
                "HAVING GROUPING_ID(MONTH(FELVITEL), DAY(FELVITEL)) > 0"
            ],
            "metadata": {
                "azdata_cell_guid": "a62abdba-a45e-4f24-9429-c11f8f83c8ae",
                "language": "sql"
            },
            "outputs": [
                {
                    "output_type": "display_data",
                    "data": {
                        "text/html": "(5 rows affected)"
                    },
                    "metadata": {}
                },
                {
                    "output_type": "display_data",
                    "data": {
                        "text/html": "Total execution time: 00:00:00.050"
                    },
                    "metadata": {}
                },
                {
                    "output_type": "execute_result",
                    "execution_count": 66,
                    "data": {
                        "application/vnd.dataresource+json": {
                            "schema": {
                                "fields": [
                                    {
                                        "name": "(No column name)"
                                    },
                                    {
                                        "name": "(No column name)"
                                    },
                                    {
                                        "name": "(No column name)"
                                    },
                                    {
                                        "name": "(No column name)"
                                    }
                                ]
                            },
                            "data": [
                                {
                                    "0": "7",
                                    "1": "NULL",
                                    "2": "355",
                                    "3": "1"
                                },
                                {
                                    "0": "8",
                                    "1": "NULL",
                                    "2": "194",
                                    "3": "1"
                                },
                                {
                                    "0": "9",
                                    "1": "NULL",
                                    "2": "1",
                                    "3": "1"
                                },
                                {
                                    "0": "12",
                                    "1": "NULL",
                                    "2": "1",
                                    "3": "1"
                                },
                                {
                                    "0": "NULL",
                                    "1": "NULL",
                                    "2": "551",
                                    "3": "3"
                                }
                            ]
                        },
                        "text/html": "<table><tr><th>(No column name)</th><th>(No column name)</th><th>(No column name)</th><th>(No column name)</th></tr><tr><td>7</td><td>NULL</td><td>355</td><td>1</td></tr><tr><td>8</td><td>NULL</td><td>194</td><td>1</td></tr><tr><td>9</td><td>NULL</td><td>1</td><td>1</td></tr><tr><td>12</td><td>NULL</td><td>1</td><td>1</td></tr><tr><td>NULL</td><td>NULL</td><td>551</td><td>3</td></tr></table>"
                    },
                    "metadata": {}
                }
            ],
            "execution_count": 66
        },
        {
            "cell_type": "markdown",
            "source": [
                "11\\. Készítsünk listát éves bontásban norbert2 azonosítójú ügyfél\n",
                "\n",
                " rendeléseinek értékéről! A lista megfelelően jelölve tartalmazza\n",
                "\n",
                " a végösszeget is! Az oszlopokat nevezzük el\n",
                "\n",
                " értelemszerűen!"
            ],
            "metadata": {
                "azdata_cell_guid": "3c0b8fc8-bfea-4c89-ab19-50bf089575be"
            },
            "attachments": {}
        },
        {
            "cell_type": "code",
            "source": [
                ""
            ],
            "metadata": {
                "azdata_cell_guid": "50054288-3634-4b29-a343-f4ad521c8ae3",
                "language": "sql"
            },
            "outputs": [],
            "execution_count": null
        },
        {
            "cell_type": "markdown",
            "source": [
                "12\\. Készítsünk listát szállítási dátumonként, azon belül szállítási módonkénkt\n",
                "\n",
                "az egyes rendelések összmennyiségéről!\n",
                "\n",
                "Csak azokat a termékeket vegyük figyelembe, amelyek mennyiségi egysége db!\n",
                "\n",
                "A listát szűrjük úgy, hogy az csak a részösszeg sorokat és a végösszeget tartalmazza!"
            ],
            "metadata": {
                "azdata_cell_guid": "d7b41881-e145-4258-81d8-9cddfc779e0d"
            },
            "attachments": {}
        },
        {
            "cell_type": "code",
            "source": [
                ""
            ],
            "metadata": {
                "azdata_cell_guid": "c9cd1c66-3475-46d6-a5a2-24d878b09287",
                "language": "sql"
            },
            "outputs": [],
            "execution_count": null
        },
        {
            "cell_type": "markdown",
            "source": [
                "13\\. Készítsünk listát a termékek átlagos listaárairól!\n",
                "\n",
                " A lista legyen csoportosítva a következő szempontok alapján:\n",
                "\n",
                " kategórianév, kategórianév + raktárnév\n",
                "\n",
                " A lista tartalmazzon végösszeget (az átlagos árat minden termékre) is!\n",
                "\n",
                " Az átlagos értéke max. két tizedesjeggyel legyen megjelenítve!"
            ],
            "metadata": {
                "azdata_cell_guid": "3a3bcac2-4ac6-4ff9-8c31-bf0da1b69dd6"
            },
            "attachments": {}
        },
        {
            "cell_type": "code",
            "source": [
                ""
            ],
            "metadata": {
                "azdata_cell_guid": "2e544ae0-63e0-431f-8ff7-272d62328a92",
                "language": "sql"
            },
            "outputs": [],
            "execution_count": null
        },
        {
            "cell_type": "markdown",
            "source": [
                "14\\. Hány olyan ügyfél van, aki még nem rendelt semmit?\n",
                "\n",
                "Csoportosítsuk őket nem szerint, azon belül életkor szerint!\n",
                "\n",
                "A lista tartalmazza a részösszegeket és a végösszeget is!"
            ],
            "metadata": {
                "azdata_cell_guid": "fe87b801-6db2-45bf-8596-eda982858f2e"
            },
            "attachments": {}
        },
        {
            "cell_type": "code",
            "source": [
                ""
            ],
            "metadata": {
                "azdata_cell_guid": "e158c15c-ee60-4a0a-812b-03e6130dab16",
                "language": "sql"
            },
            "outputs": [],
            "execution_count": null
        },
        {
            "cell_type": "markdown",
            "source": [
                "15\\. Készítsünk listát arról, hogy évente hányszor rendelték meg\n",
                "\n",
                "azokat a termékeket, amelyek kategóriájukban a legdrágábbak!\n",
                "\n",
                "A lista jelenítse meg az évet, a termék nevét és a rendelés számát!\n",
                "\n",
                "Jelenjenek meg a részösszegek és a végösszeg is!"
            ],
            "metadata": {
                "azdata_cell_guid": "b42b866f-f932-463e-80eb-4e3ad73a9fe1"
            },
            "attachments": {}
        },
        {
            "cell_type": "code",
            "source": [
                ""
            ],
            "metadata": {
                "azdata_cell_guid": "374dfc38-959e-411d-90ed-e5d615bc467d",
                "language": "sql"
            },
            "outputs": [],
            "execution_count": null
        }
    ]
}